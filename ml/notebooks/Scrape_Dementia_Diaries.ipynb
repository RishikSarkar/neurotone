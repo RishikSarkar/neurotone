{
 "cells": [
  {
   "cell_type": "code",
   "execution_count": 1,
   "id": "cb0fd05f-5f6a-43f7-b946-63522c933dbb",
   "metadata": {},
   "outputs": [
    {
     "name": "stdout",
     "output_type": "stream",
     "text": [
      "SoundCloud URL: https://soundcloud.com/dementia-diaries/tracks\n",
      "Output Directory: ..\\data\\raw\\dementia_diaries\n",
      "Target Sample Rate: 16000 Hz\n",
      "Target Format: wav\n"
     ]
    }
   ],
   "source": [
    "import subprocess\n",
    "from subprocess import Popen, PIPE # Import Popen and PIPE\n",
    "import json\n",
    "import pandas as pd\n",
    "from pathlib import Path\n",
    "import glob\n",
    "import os\n",
    "import re # For parsing output\n",
    "from tqdm import tqdm\n",
    "\n",
    "# --- Configuration ---\n",
    "# URL of the Dementia Diaries SoundCloud user tracks page\n",
    "SOUNDCLOUD_URL = \"https://soundcloud.com/dementia-diaries/tracks\"\n",
    "\n",
    "# Directory to save the downloaded audio files and metadata\n",
    "# Adjust the relative path if necessary, e.g., go up one level from 'ml' then into 'data'\n",
    "output_base_dir = Path('../data/raw/dementia_diaries')\n",
    "\n",
    "# Output WAV format settings\n",
    "TARGET_SAMPLE_RATE = 16000\n",
    "AUDIO_FORMAT = \"wav\"\n",
    "\n",
    "# File to track downloaded files (for resuming)\n",
    "ARCHIVE_FILE = output_base_dir / \"download_archive.txt\"\n",
    "\n",
    "# --- Ensure output directory exists ---\n",
    "output_base_dir.mkdir(parents=True, exist_ok=True)\n",
    "\n",
    "print(f\"SoundCloud URL: {SOUNDCLOUD_URL}\")\n",
    "print(f\"Output Directory: {output_base_dir}\")\n",
    "print(f\"Target Sample Rate: {TARGET_SAMPLE_RATE} Hz\")\n",
    "print(f\"Target Format: {AUDIO_FORMAT}\")"
   ]
  },
  {
   "cell_type": "code",
   "execution_count": 2,
   "id": "9c3a3845-31ec-4a2f-a190-4c58c17e97da",
   "metadata": {
    "scrolled": true
   },
   "outputs": [
    {
     "name": "stdout",
     "output_type": "stream",
     "text": [
      "--- Running yt-dlp Command ---\n",
      "['yt-dlp', '--ignore-errors', '--continue', '--download-archive', '..\\\\data\\\\raw\\\\dementia_diaries\\\\download_archive.txt', '--extract-audio', '--audio-format', 'wav', '--audio-quality', '0', '--postprocessor-args', 'ffmpeg:-ar 16000', '--write-info-json', '--sleep-interval', '1', '--max-sleep-interval', '3', '-o', '..\\\\data\\\\raw\\\\dementia_diaries\\\\audio\\\\%(title)s_%(id)s.%(ext)s', 'https://soundcloud.com/dementia-diaries/tracks']\n",
      "\n",
      "Attempting to download up to ~3628 tracks (will skip already downloaded)...\n",
      "Output Dir: ..\\data\\raw\\dementia_diaries\\audio\n",
      "Archive File: ..\\data\\raw\\dementia_diaries\\download_archive.txt\n",
      "(Only key status messages like '100%' or 'already downloaded' will be printed below)\n"
     ]
    },
    {
     "name": "stderr",
     "output_type": "stream",
     "text": [
      "Downloading Diaries:   0%|  | 0/3628 [00:00<?, ?track/s]"
     ]
    },
    {
     "name": "stdout",
     "output_type": "stream",
     "text": [
      "Resuming download, 346 tracks already in archive.\n",
      "[soundcloud:user] 140064103: Downloading track page 1\n",
      "[soundcloud:user] 140064103: Downloading track page 2\n",
      "[soundcloud:user] 140064103: Downloading track page 3\n",
      "[soundcloud:user] 140064103: Downloading track page 4\n",
      "[soundcloud:user] 140064103: Downloading track page 5\n",
      "[soundcloud:user] 140064103: Downloading track page 6\n",
      "[soundcloud:user] 140064103: Downloading track page 7\n",
      "[soundcloud:user] 140064103: Downloading track page 8\n",
      "[soundcloud:user] 140064103: Downloading track page 9\n",
      "[soundcloud:user] 140064103: Downloading track page 10\n",
      "[soundcloud:user] 140064103: Downloading track page 11\n",
      "[soundcloud:user] 140064103: Downloading track page 12\n",
      "[soundcloud:user] 140064103: Downloading track page 13\n",
      "[soundcloud:user] 140064103: Downloading track page 14\n",
      "[soundcloud:user] 140064103: Downloading track page 15\n",
      "[soundcloud:user] 140064103: Downloading track page 16\n",
      "[soundcloud:user] 140064103: Downloading track page 17\n",
      "[soundcloud:user] 140064103: Downloading track page 18\n",
      "[soundcloud:user] 140064103: Downloading track page 19\n",
      "[soundcloud:user] 140064103: Downloading track page 20\n"
     ]
    },
    {
     "name": "stderr",
     "output_type": "stream",
     "text": [
      "Downloading Diaries:  10%| | 347/3628 [00:15<02:26, 22.3"
     ]
    },
    {
     "name": "stdout",
     "output_type": "stream",
     "text": [
      "[download] 100% of  429.27KiB in 00:00:00 at 803.52KiB/s               \n",
      "[ExtractAudio] Destination: ..\\data\\raw\\dementia_diaries\\audio\\Wise words from Howard as he muses on the weather._1084512442.wav\n",
      "[download] 100% of  603.11KiB in 00:00:00 at 833.26KiB/s                 \n",
      "[ExtractAudio] Destination: ..\\data\\raw\\dementia_diaries\\audio\\Joy is gobsmacked,�and deservedly so X_1080174700.wav\n",
      "[download] 100% of  744.63KiB in 00:00:00 at 1004.09KiB/s                \n",
      "[ExtractAudio] Destination: ..\\data\\raw\\dementia_diaries\\audio\\James wonders about �reminiscence rooms�_1080174424.wav\n"
     ]
    },
    {
     "name": "stderr",
     "output_type": "stream",
     "text": [
      "Downloading Diaries:  10%| | 350/3628 [00:26<04:47, 11.3"
     ]
    },
    {
     "name": "stdout",
     "output_type": "stream",
     "text": [
      "[download] 100% of  599.31KiB in 00:00:00 at 859.12KiB/s               \n",
      "[ExtractAudio] Destination: ..\\data\\raw\\dementia_diaries\\audio\\James has good advice on the storage of important personal medications in hospital._1080174070.wav\n"
     ]
    },
    {
     "name": "stderr",
     "output_type": "stream",
     "text": [
      "Downloading Diaries:  10%| | 351/3628 [00:30<06:10,  8.8"
     ]
    },
    {
     "name": "stdout",
     "output_type": "stream",
     "text": [
      "[download] 100% of  633.98KiB in 00:00:00 at 994.78KiB/s                 \n",
      "[ExtractAudio] Destination: ..\\data\\raw\\dementia_diaries\\audio\\James feels that hospitals should make it easier to give anonymous feedback._1080173740.wav\n"
     ]
    },
    {
     "name": "stderr",
     "output_type": "stream",
     "text": [
      "Downloading Diaries:  10%| | 352/3628 [00:33<07:35,  7.1"
     ]
    },
    {
     "name": "stdout",
     "output_type": "stream",
     "text": [
      "[download] 100% of  511.32KiB in 00:00:00 at 922.26KiB/s               \n",
      "[ExtractAudio] Destination: ..\\data\\raw\\dementia_diaries\\audio\\Jacqui continues her joyous exploration of Southport._1080171550.wav\n"
     ]
    },
    {
     "name": "stderr",
     "output_type": "stream",
     "text": [
      "Downloading Diaries:  10%| | 353/3628 [00:36<09:18,  5.8"
     ]
    },
    {
     "name": "stdout",
     "output_type": "stream",
     "text": [
      "[download] 100% of  853.55KiB in 00:00:00 at 876.14KiB/s                 \n",
      "[ExtractAudio] Destination: ..\\data\\raw\\dementia_diaries\\audio\\Jacqui is delighted by how accessible the natural spaces around Southport are._1080171337.wav\n"
     ]
    },
    {
     "name": "stderr",
     "output_type": "stream",
     "text": [
      "Downloading Diaries:  10%| | 354/3628 [00:41<13:16,  4.1"
     ]
    },
    {
     "name": "stdout",
     "output_type": "stream",
     "text": [
      "[download] 100% of    1.09MiB in 00:00:00 at 1.16MiB/s                   \n",
      "[ExtractAudio] Destination: ..\\data\\raw\\dementia_diaries\\audio\\Back at Sandpipers Jacqui is enjoying exploring the local area._1080171097.wav\n"
     ]
    },
    {
     "name": "stderr",
     "output_type": "stream",
     "text": [
      "Downloading Diaries:  10%| | 355/3628 [00:44<16:49,  3.2"
     ]
    },
    {
     "name": "stdout",
     "output_type": "stream",
     "text": [
      "[download] 100% of  454.72KiB in 00:00:00 at 795.88KiB/s               \n",
      "[ExtractAudio] Destination: ..\\data\\raw\\dementia_diaries\\audio\\A wonderful diary by the river from Clive. �You forget all your worries�_1080170665.wav\n"
     ]
    },
    {
     "name": "stderr",
     "output_type": "stream",
     "text": [
      "Downloading Diaries:  10%| | 356/3628 [00:47<20:57,  2.6"
     ]
    },
    {
     "name": "stdout",
     "output_type": "stream",
     "text": [
      "[download] 100% of  337.75KiB in 00:00:00 at 670.23KiB/s               \n",
      "[ExtractAudio] Destination: ..\\data\\raw\\dementia_diaries\\audio\\It�s Wayne�s birthday 37 floors up. Wow!_1080170350.wav\n"
     ]
    },
    {
     "name": "stderr",
     "output_type": "stream",
     "text": [
      "Downloading Diaries:  10%| | 357/3628 [00:50<27:41,  1.9"
     ]
    },
    {
     "name": "stdout",
     "output_type": "stream",
     "text": [
      "[download] 100% of  528.57KiB in 00:00:00 at 728.52KiB/s                 \n",
      "[ExtractAudio] Destination: ..\\data\\raw\\dementia_diaries\\audio\\Wayne balances out his lungs with a day in the country._1080170047.wav\n"
     ]
    },
    {
     "name": "stderr",
     "output_type": "stream",
     "text": [
      "Downloading Diaries:  10%| | 358/3628 [00:55<41:24,  1.3"
     ]
    },
    {
     "name": "stdout",
     "output_type": "stream",
     "text": [
      "[download] 100% of    1.07MiB in 00:00:01 at 1.06MiB/s                   \n",
      "[ExtractAudio] Destination: ..\\data\\raw\\dementia_diaries\\audio\\Clive is brutally honest on his thoughts about dying._1075708705.wav\n"
     ]
    },
    {
     "name": "stderr",
     "output_type": "stream",
     "text": [
      "Downloading Diaries:  10%| | 359/3628 [01:00<57:43,  1.0"
     ]
    },
    {
     "name": "stdout",
     "output_type": "stream",
     "text": [
      "[download] 100% of  533.69KiB in 00:00:00 at 848.97KiB/s               \n",
      "[ExtractAudio] Destination: ..\\data\\raw\\dementia_diaries\\audio\\Paul is heading into town for a very welcome face to face with his DEEP Group._1075708252.wav\n"
     ]
    },
    {
     "name": "stderr",
     "output_type": "stream",
     "text": [
      "Downloading Diaries:  10%| | 360/3628 [01:04<1:12:46,  1"
     ]
    },
    {
     "name": "stdout",
     "output_type": "stream",
     "text": [
      "[download] 100% of    1.32MiB in 00:00:01 at 1.04MiB/s                 \n",
      "[ExtractAudio] Destination: ..\\data\\raw\\dementia_diaries\\audio\\It's lovely to be able to find places to unwind amid the hubbub. Lovely diary._1075707922.wav\n"
     ]
    },
    {
     "name": "stderr",
     "output_type": "stream",
     "text": [
      "Downloading Diaries:  10%| | 361/3628 [01:07<1:28:56,  1"
     ]
    },
    {
     "name": "stdout",
     "output_type": "stream",
     "text": [
      "[download] 100% of  942.47KiB in 00:00:00 at 968.43KiB/s                 \n",
      "[ExtractAudio] Destination: ..\\data\\raw\\dementia_diaries\\audio\\Dreane had a great meeting. Or did she This is an amazing diary from Dreane._1075707328.wav\n"
     ]
    },
    {
     "name": "stderr",
     "output_type": "stream",
     "text": [
      "Downloading Diaries:  10%| | 362/3628 [01:11<1:47:21,  1"
     ]
    },
    {
     "name": "stdout",
     "output_type": "stream",
     "text": [
      "[download] 100% of  804.27KiB in 00:00:00 at 993.27KiB/s                 \n",
      "[ExtractAudio] Destination: ..\\data\\raw\\dementia_diaries\\audio\\Jacqui, armed with a new suitcase can�t wait to get back to Sandpipers._1075706275.wav\n"
     ]
    },
    {
     "name": "stderr",
     "output_type": "stream",
     "text": [
      "Downloading Diaries:  10%| | 363/3628 [01:14<1:59:14,  2"
     ]
    },
    {
     "name": "stdout",
     "output_type": "stream",
     "text": [
      "[download] 100% of  388.79KiB in 00:00:00 at 629.44KiB/s               \n",
      "[ExtractAudio] Destination: ..\\data\\raw\\dementia_diaries\\audio\\Raymond has spend some lovely time with his grandchildren._1075705792.wav\n"
     ]
    },
    {
     "name": "stderr",
     "output_type": "stream",
     "text": [
      "Downloading Diaries:  10%| | 364/3628 [01:18<2:18:21,  2"
     ]
    },
    {
     "name": "stdout",
     "output_type": "stream",
     "text": [
      "[download] 100% of  833.27KiB in 00:00:00 at 922.53KiB/s                 \n",
      "[ExtractAudio] Destination: ..\\data\\raw\\dementia_diaries\\audio\\Listen to Clive�s excellent review of The Father._1075705261.wav\n"
     ]
    },
    {
     "name": "stderr",
     "output_type": "stream",
     "text": [
      "Downloading Diaries:  10%| | 365/3628 [01:24<2:50:26,  3"
     ]
    },
    {
     "name": "stdout",
     "output_type": "stream",
     "text": [
      "[download] 100% of    1.27MiB in 00:00:01 at 1001.89KiB/s              \n",
      "[ExtractAudio] Destination: ..\\data\\raw\\dementia_diaries\\audio\\Joy has recorded a thoughtful and insightful review of The Father._1075704832.wav\n"
     ]
    },
    {
     "name": "stderr",
     "output_type": "stream",
     "text": [
      "Downloading Diaries:  10%| | 366/3628 [01:28<3:04:10,  3"
     ]
    },
    {
     "name": "stdout",
     "output_type": "stream",
     "text": [
      "[download] 100% of  314.74KiB in 00:00:00 at 519.66KiB/s               \n",
      "[ExtractAudio] Destination: ..\\data\\raw\\dementia_diaries\\audio\\Another watery and poetic diary, this time from Dory as she sits by the river._1075704268.wav\n"
     ]
    },
    {
     "name": "stderr",
     "output_type": "stream",
     "text": [
      "Downloading Diaries:  10%| | 367/3628 [01:32<3:16:25,  3"
     ]
    },
    {
     "name": "stdout",
     "output_type": "stream",
     "text": [
      "[download] 100% of  807.15KiB in 00:00:01 at 758.04KiB/s               \n",
      "[ExtractAudio] Destination: ..\\data\\raw\\dementia_diaries\\audio\\Gail has some wise words for those around people with dementia._1075703899.wav\n"
     ]
    },
    {
     "name": "stderr",
     "output_type": "stream",
     "text": [
      "Downloading Diaries:  10%| | 368/3628 [01:37<3:39:36,  4"
     ]
    },
    {
     "name": "stdout",
     "output_type": "stream",
     "text": [
      "[download] 100% of    1.12MiB in 00:00:01 at 751.28KiB/s               \n",
      "[ExtractAudio] Destination: ..\\data\\raw\\dementia_diaries\\audio\\You can hear how windy it is in parts on this lovely beach recording from Gail._1075703593.wav\n"
     ]
    },
    {
     "name": "stderr",
     "output_type": "stream",
     "text": [
      "Downloading Diaries:  10%| | 369/3628 [01:41<3:38:28,  4"
     ]
    },
    {
     "name": "stdout",
     "output_type": "stream",
     "text": [
      "[download] 100% of  539.29KiB in 00:00:00 at 598.50KiB/s                 \n",
      "[ExtractAudio] Destination: ..\\data\\raw\\dementia_diaries\\audio\\Chris has recorded a lovely dawn chorus - the roaring in the background is the ocean - wonderful._1075703419.wav\n"
     ]
    },
    {
     "name": "stderr",
     "output_type": "stream",
     "text": [
      "Downloading Diaries:  10%| | 370/3628 [01:45<3:33:28,  3"
     ]
    },
    {
     "name": "stdout",
     "output_type": "stream",
     "text": [
      "[download] 100% of    1.05MiB in 00:00:01 at 759.65KiB/s               \n",
      "[ExtractAudio] Destination: ..\\data\\raw\\dementia_diaries\\audio\\Keith has mixed views on The Father, which he expresses beautifully_1075703194.wav\n"
     ]
    },
    {
     "name": "stderr",
     "output_type": "stream",
     "text": [
      "Downloading Diaries:  10%| | 371/3628 [01:49<3:28:42,  3"
     ]
    },
    {
     "name": "stdout",
     "output_type": "stream",
     "text": [
      "[download] 100% of  186.42KiB in 00:00:00 at 429.18KiB/s               \n",
      "[ExtractAudio] Destination: ..\\data\\raw\\dementia_diaries\\audio\\James has nailed the spelling - Zoomeyeitis._1070615911.wav\n"
     ]
    },
    {
     "name": "stderr",
     "output_type": "stream",
     "text": [
      "Downloading Diaries:  10%| | 372/3628 [01:52<3:29:24,  3"
     ]
    },
    {
     "name": "stdout",
     "output_type": "stream",
     "text": [
      "[download] 100% of    1.08MiB in 00:00:01 at 1004.18KiB/s              \n",
      "[ExtractAudio] Destination: ..\\data\\raw\\dementia_diaries\\audio\\James reflects on the need to  stay healthy whilst Zooming._1070615698.wav\n"
     ]
    },
    {
     "name": "stderr",
     "output_type": "stream",
     "text": [
      "Downloading Diaries:  10%| | 373/3628 [01:57<3:44:51,  4"
     ]
    },
    {
     "name": "stdout",
     "output_type": "stream",
     "text": [
      "[download] 100% of  914.83KiB in 00:00:01 at 911.62KiB/s                 \n",
      "[ExtractAudio] Destination: ..\\data\\raw\\dementia_diaries\\audio\\Clive's Grandson has introduced him to virtual reality. Clive is awestruck._1070568259.wav\n"
     ]
    },
    {
     "name": "stderr",
     "output_type": "stream",
     "text": [
      "Downloading Diaries:  10%| | 374/3628 [02:02<3:53:50,  4"
     ]
    },
    {
     "name": "stdout",
     "output_type": "stream",
     "text": [
      "[download] 100% of    1.19MiB in 00:00:01 at 1.02MiB/s                 \n",
      "[ExtractAudio] Destination: ..\\data\\raw\\dementia_diaries\\audio\\Although very hard to watch, Julie found �The Father� wonderful and moving._1070567755.wav\n"
     ]
    },
    {
     "name": "stderr",
     "output_type": "stream",
     "text": [
      "Downloading Diaries:  10%| | 375/3628 [02:07<4:01:14,  4"
     ]
    },
    {
     "name": "stdout",
     "output_type": "stream",
     "text": [
      "[download] 100% of  882.35KiB in 00:00:01 at 810.46KiB/s               \n",
      "[ExtractAudio] Destination: ..\\data\\raw\\dementia_diaries\\audio\\Wayne reminds us that the focus on memory in �The Father� is not everyone�s experience._1070566669.wav\n"
     ]
    },
    {
     "name": "stderr",
     "output_type": "stream",
     "text": [
      "Downloading Diaries:  10%| | 376/3628 [02:10<3:46:07,  4"
     ]
    },
    {
     "name": "stdout",
     "output_type": "stream",
     "text": [
      "[download] 100% of  863.87KiB in 00:00:01 at 821.63KiB/s               \n",
      "[ExtractAudio] Destination: ..\\data\\raw\\dementia_diaries\\audio\\Wayne�s has a mostly positive reaction to �The Father�._1070566195.wav\n"
     ]
    },
    {
     "name": "stderr",
     "output_type": "stream",
     "text": [
      "Downloading Diaries:  10%| | 377/3628 [02:14<3:47:10,  4"
     ]
    },
    {
     "name": "stdout",
     "output_type": "stream",
     "text": [
      "[download] 100% of  467.96KiB in 00:00:00 at 759.68KiB/s               \n",
      "[ExtractAudio] Destination: ..\\data\\raw\\dementia_diaries\\audio\\Bill found much to admire in �the Father�, hard to watch as it was._1070565805.wav\n"
     ]
    },
    {
     "name": "stderr",
     "output_type": "stream",
     "text": [
      "Downloading Diaries:  10%| | 378/3628 [02:18<3:34:24,  3"
     ]
    },
    {
     "name": "stdout",
     "output_type": "stream",
     "text": [
      "[download] 100% of 1022.54KiB in 00:00:01 at 750.46KiB/s               \n",
      "[ExtractAudio] Destination: ..\\data\\raw\\dementia_diaries\\audio\\This is a lovely diary recorded at 6am at the beach with Gail and her dogs._1070565343.wav\n"
     ]
    },
    {
     "name": "stderr",
     "output_type": "stream",
     "text": [
      "Downloading Diaries:  10%| | 379/3628 [02:21<3:25:33,  3"
     ]
    },
    {
     "name": "stdout",
     "output_type": "stream",
     "text": [
      "[download] 100% of  724.32KiB in 00:00:01 at 699.86KiB/s               \n",
      "[ExtractAudio] Destination: ..\\data\\raw\\dementia_diaries\\audio\\Lorraine�s immediate and powerful response to �The Father�_1070565106.wav\n"
     ]
    },
    {
     "name": "stderr",
     "output_type": "stream",
     "text": [
      "Downloading Diaries:  10%| | 380/3628 [02:26<3:35:34,  3"
     ]
    },
    {
     "name": "stdout",
     "output_type": "stream",
     "text": [
      "[download] 100% of    1.52MiB in 00:00:01 at 838.68KiB/s               \n",
      "[ExtractAudio] Destination: ..\\data\\raw\\dementia_diaries\\audio\\Listen to Dory�s thoughtful and moving take on �The Father�._1070564737.wav\n"
     ]
    },
    {
     "name": "stderr",
     "output_type": "stream",
     "text": [
      "Downloading Diaries:  11%| | 381/3628 [02:31<3:55:20,  4"
     ]
    },
    {
     "name": "stdout",
     "output_type": "stream",
     "text": [
      "[download] 100% of  941.61KiB in 00:00:01 at 904.64KiB/s               \n",
      "[ExtractAudio] Destination: ..\\data\\raw\\dementia_diaries\\audio\\draft_1066613662.wav\n"
     ]
    },
    {
     "name": "stderr",
     "output_type": "stream",
     "text": [
      "Downloading Diaries:  11%| | 382/3628 [02:34<3:37:32,  4"
     ]
    },
    {
     "name": "stdout",
     "output_type": "stream",
     "text": [
      "[download] 100% of  864.53KiB in 00:00:00 at 913.56KiB/s                 \n",
      "[ExtractAudio] Destination: ..\\data\\raw\\dementia_diaries\\audio\\Draft_1066612234.wav\n"
     ]
    },
    {
     "name": "stderr",
     "output_type": "stream",
     "text": [
      "Downloading Diaries:  11%| | 383/3628 [02:40<3:58:13,  4"
     ]
    },
    {
     "name": "stdout",
     "output_type": "stream",
     "text": [
      "[download] 100% of    2.10MiB in 00:00:02 at 1.02MiB/s                 \n",
      "[ExtractAudio] Destination: ..\\data\\raw\\dementia_diaries\\audio\\There�s plenty to keep Glenda busy, not least the polytunnel._1066533325.wav\n"
     ]
    },
    {
     "name": "stderr",
     "output_type": "stream",
     "text": [
      "Downloading Diaries:  11%| | 384/3628 [02:44<3:55:12,  4"
     ]
    },
    {
     "name": "stdout",
     "output_type": "stream",
     "text": [
      "[download] 100% of  982.67KiB in 00:00:00 at 1017.16KiB/s                \n",
      "[ExtractAudio] Destination: ..\\data\\raw\\dementia_diaries\\audio\\Joy�s thinking she should have stayed home._1066532656.wav\n"
     ]
    },
    {
     "name": "stderr",
     "output_type": "stream",
     "text": [
      "Downloading Diaries:  11%| | 385/3628 [02:48<3:55:55,  4"
     ]
    },
    {
     "name": "stdout",
     "output_type": "stream",
     "text": [
      "[download] 100% of  477.66KiB in 00:00:00 at 827.13KiB/s               \n",
      "[ExtractAudio] Destination: ..\\data\\raw\\dementia_diaries\\audio\\Clive's been having a bad few days._1066532206.wav\n"
     ]
    },
    {
     "name": "stderr",
     "output_type": "stream",
     "text": [
      "Downloading Diaries:  11%| | 386/3628 [02:53<4:12:11,  4"
     ]
    },
    {
     "name": "stdout",
     "output_type": "stream",
     "text": [
      "[download] 100% of    2.99MiB in 00:00:02 at 1.08MiB/s                 \n",
      "[ExtractAudio] Destination: ..\\data\\raw\\dementia_diaries\\audio\\A Dementia Day outside the Houses of Parliament is the only way forward says Melvyn._1066532128.wav\n"
     ]
    },
    {
     "name": "stderr",
     "output_type": "stream",
     "text": [
      "Downloading Diaries:  11%| | 387/3628 [02:57<3:51:07,  4"
     ]
    },
    {
     "name": "stdout",
     "output_type": "stream",
     "text": [
      "[download] 100% of  468.72KiB in 00:00:00 at 839.06KiB/s               \n",
      "[ExtractAudio] Destination: ..\\data\\raw\\dementia_diaries\\audio\\James wonders whether support might be withdrawn for people with dementia who �seem� to be coping._1066531369.wav\n"
     ]
    },
    {
     "name": "stderr",
     "output_type": "stream",
     "text": [
      "Downloading Diaries:  11%| | 388/3628 [03:00<3:39:24,  4"
     ]
    },
    {
     "name": "stdout",
     "output_type": "stream",
     "text": [
      "[download] 100% of  726.98KiB in 00:00:00 at 992.08KiB/s                 \n",
      "[ExtractAudio] Destination: ..\\data\\raw\\dementia_diaries\\audio\\The competence of people with dementia is not the full picture says James._1066530481.wav\n"
     ]
    },
    {
     "name": "stderr",
     "output_type": "stream",
     "text": [
      "Downloading Diaries:  11%| | 389/3628 [03:05<3:43:06,  4"
     ]
    },
    {
     "name": "stdout",
     "output_type": "stream",
     "text": [
      "[download] 100% of  776.79KiB in 00:00:00 at 786.17KiB/s                 \n",
      "[ExtractAudio] Destination: ..\\data\\raw\\dementia_diaries\\audio\\James coins a new term,  ZOOM-eyes._1066529005.wav\n"
     ]
    },
    {
     "name": "stderr",
     "output_type": "stream",
     "text": [
      "Downloading Diaries:  11%| | 390/3628 [03:10<3:53:41,  4"
     ]
    },
    {
     "name": "stdout",
     "output_type": "stream",
     "text": [
      "[download] 100% of    2.86MiB in 00:00:02 at 1.19MiB/s                 \n",
      "[ExtractAudio] Destination: ..\\data\\raw\\dementia_diaries\\audio\\A lovely report on the state of play in the garden from Melvyn._1066528549.wav\n"
     ]
    },
    {
     "name": "stderr",
     "output_type": "stream",
     "text": [
      "Downloading Diaries:  11%| | 391/3628 [03:15<4:06:19,  4"
     ]
    },
    {
     "name": "stdout",
     "output_type": "stream",
     "text": [
      "[download] 100% of  854.25KiB in 00:00:00 at 869.30KiB/s                 \n",
      "[ExtractAudio] Destination: ..\\data\\raw\\dementia_diaries\\audio\\The warmer weather is making it easier for Clive to get out and about._1066527544.wav\n"
     ]
    },
    {
     "name": "stderr",
     "output_type": "stream",
     "text": [
      "Downloading Diaries:  11%| | 392/3628 [03:18<3:52:53,  4"
     ]
    },
    {
     "name": "stdout",
     "output_type": "stream",
     "text": [
      "[download] 100% of  426.61KiB in 00:00:00 at 754.02KiB/s               \n",
      "[ExtractAudio] Destination: ..\\data\\raw\\dementia_diaries\\audio\\A lovely family visit has Raymond proud as punch._1066526596.wav\n"
     ]
    },
    {
     "name": "stderr",
     "output_type": "stream",
     "text": [
      "Downloading Diaries:  11%| | 393/3628 [03:25<4:25:12,  4"
     ]
    },
    {
     "name": "stdout",
     "output_type": "stream",
     "text": [
      "[download] 100% of    3.00MiB in 00:00:02 at 1.12MiB/s                 \n",
      "[ExtractAudio] Destination: ..\\data\\raw\\dementia_diaries\\audio\\A rousing call to action from Melvyn._1066525681.wav\n"
     ]
    },
    {
     "name": "stderr",
     "output_type": "stream",
     "text": [
      "Downloading Diaries:  11%| | 394/3628 [03:29<4:21:22,  4"
     ]
    },
    {
     "name": "stdout",
     "output_type": "stream",
     "text": [
      "[download] 100% of  260.96KiB in 00:00:00 at 517.31KiB/s               \n",
      "[ExtractAudio] Destination: ..\\data\\raw\\dementia_diaries\\audio\\Lorraine has some great news on her driving assessment. Brilliant !!_1066524652.wav\n"
     ]
    },
    {
     "name": "stderr",
     "output_type": "stream",
     "text": [
      "Downloading Diaries:  11%| | 395/3628 [03:33<4:01:51,  4"
     ]
    },
    {
     "name": "stdout",
     "output_type": "stream",
     "text": [
      "[download] 100% of    1.16MiB in 00:00:01 at 868.26KiB/s               \n",
      "[ExtractAudio] Destination: ..\\data\\raw\\dementia_diaries\\audio\\Gails description of auditory overload is very striking._1066523866.wav\n"
     ]
    },
    {
     "name": "stderr",
     "output_type": "stream",
     "text": [
      "Downloading Diaries:  11%| | 396/3628 [03:38<4:12:51,  4"
     ]
    },
    {
     "name": "stdout",
     "output_type": "stream",
     "text": [
      "[download] 100% of  843.68KiB in 00:00:01 at 773.41KiB/s               \n",
      "[ExtractAudio] Destination: ..\\data\\raw\\dementia_diaries\\audio\\Join Gail very early one morning and soak up the beauty._1066522810.wav\n"
     ]
    },
    {
     "name": "stderr",
     "output_type": "stream",
     "text": [
      "Downloading Diaries:  11%| | 397/3628 [03:43<4:10:03,  4"
     ]
    },
    {
     "name": "stdout",
     "output_type": "stream",
     "text": [
      "[download] 100% of  568.71KiB in 00:00:00 at 714.89KiB/s                 \n",
      "[ExtractAudio] Destination: ..\\data\\raw\\dementia_diaries\\audio\\Tina Turner brings it all back for Dory._1066521847.wav\n"
     ]
    },
    {
     "name": "stderr",
     "output_type": "stream",
     "text": [
      "Downloading Diaries:  11%| | 398/3628 [04:00<7:39:11,  8"
     ]
    },
    {
     "name": "stdout",
     "output_type": "stream",
     "text": [
      "[download] 100% of   13.58MiB in 00:00:14 at 940.05KiB/s                 \n",
      "[ExtractAudio] Destination: ..\\data\\raw\\dementia_diaries\\audio\\May-June 2021 Audio Our DEEP News_1059662599.wav\n"
     ]
    },
    {
     "name": "stderr",
     "output_type": "stream",
     "text": [
      "Downloading Diaries:  11%| | 399/3628 [04:07<7:03:42,  7"
     ]
    },
    {
     "name": "stdout",
     "output_type": "stream",
     "text": [
      "[download] 100% of  775.59KiB in 00:00:00 at 876.14KiB/s                 \n",
      "[ExtractAudio] Destination: ..\\data\\raw\\dementia_diaries\\audio\\Julie reflects on the fourth anniversary of her diagnosis._1057238716.wav\n"
     ]
    },
    {
     "name": "stderr",
     "output_type": "stream",
     "text": [
      "Downloading Diaries:  11%| | 400/3628 [04:10<5:50:16,  6"
     ]
    },
    {
     "name": "stdout",
     "output_type": "stream",
     "text": [
      "[download] 100% of  673.01KiB in 00:00:00 at 964.13KiB/s                 \n",
      "[ExtractAudio] Destination: ..\\data\\raw\\dementia_diaries\\audio\\James describes his difficulties getting to see a doctor._1057238317.wav\n"
     ]
    },
    {
     "name": "stderr",
     "output_type": "stream",
     "text": [
      "Downloading Diaries:  11%| | 401/3628 [04:16<5:44:30,  6"
     ]
    },
    {
     "name": "stdout",
     "output_type": "stream",
     "text": [
      "[download] 100% of    2.78MiB in 00:00:02 at 1.08MiB/s                 \n",
      "[ExtractAudio] Destination: ..\\data\\raw\\dementia_diaries\\audio\\An update on Ratty, and a call for revolution!_1057237414.wav\n"
     ]
    },
    {
     "name": "stderr",
     "output_type": "stream",
     "text": [
      "Downloading Diaries:  11%| | 402/3628 [04:21<5:16:49,  5"
     ]
    },
    {
     "name": "stdout",
     "output_type": "stream",
     "text": [
      "[download] 100% of    1.86MiB in 00:00:01 at 1.02MiB/s                 \n",
      "[ExtractAudio] Destination: ..\\data\\raw\\dementia_diaries\\audio\\Dreane reflects on the nature of sound and silence, and the importance  of really listening._1057237114.wav\n"
     ]
    },
    {
     "name": "stderr",
     "output_type": "stream",
     "text": [
      "Downloading Diaries:  11%| | 403/3628 [04:25<4:52:59,  5"
     ]
    },
    {
     "name": "stdout",
     "output_type": "stream",
     "text": [
      "[download] 100% of  691.91KiB in 00:00:00 at 959.21KiB/s                 \n",
      "[ExtractAudio] Destination: ..\\data\\raw\\dementia_diaries\\audio\\James thinks Zero Points is a little unfair._1057236859.wav\n"
     ]
    },
    {
     "name": "stderr",
     "output_type": "stream",
     "text": [
      "Downloading Diaries:  11%| | 404/3628 [04:30<4:40:48,  5"
     ]
    },
    {
     "name": "stdout",
     "output_type": "stream",
     "text": [
      "[download] 100% of  652.81KiB in 00:00:00 at 768.85KiB/s                 \n",
      "[ExtractAudio] Destination: ..\\data\\raw\\dementia_diaries\\audio\\James describes how dependent he has become on electricity._1057236490.wav\n"
     ]
    },
    {
     "name": "stderr",
     "output_type": "stream",
     "text": [
      "Downloading Diaries:  11%| | 405/3628 [04:35<4:33:18,  5"
     ]
    },
    {
     "name": "stdout",
     "output_type": "stream",
     "text": [
      "[download] 100% of    1.60MiB in 00:00:01 at 1.10MiB/s                 \n",
      "[ExtractAudio] Destination: ..\\data\\raw\\dementia_diaries\\audio\\Dreane explains how the support of friends eases the most difficult of circumstances._1057236010.wav\n"
     ]
    },
    {
     "name": "stderr",
     "output_type": "stream",
     "text": [
      "Downloading Diaries:  11%| | 406/3628 [04:40<4:36:33,  5"
     ]
    },
    {
     "name": "stdout",
     "output_type": "stream",
     "text": [
      "[download] 100% of    1.92MiB in 00:00:02 at 980.51KiB/s               \n",
      "[ExtractAudio] Destination: ..\\data\\raw\\dementia_diaries\\audio\\The poets from the Time and Place project are moving on to explore other arts forms together._1057235599.wav\n"
     ]
    },
    {
     "name": "stderr",
     "output_type": "stream",
     "text": [
      "Downloading Diaries:  11%| | 407/3628 [04:44<4:23:21,  4"
     ]
    },
    {
     "name": "stdout",
     "output_type": "stream",
     "text": [
      "[download] 100% of  480.41KiB in 00:00:00 at 764.84KiB/s               \n",
      "[ExtractAudio] Destination: ..\\data\\raw\\dementia_diaries\\audio\\A platform for projects BY people with dementia is crucial, as Keith explains_1057235113.wav\n"
     ]
    },
    {
     "name": "stderr",
     "output_type": "stream",
     "text": [
      "Downloading Diaries:  11%| | 408/3628 [04:48<4:00:32,  4"
     ]
    },
    {
     "name": "stdout",
     "output_type": "stream",
     "text": [
      "[download] 100% of  665.74KiB in 00:00:00 at 930.63KiB/s                 \n",
      "[ExtractAudio] Destination: ..\\data\\raw\\dementia_diaries\\audio\\Jacqui describes a wonderful break at Sandpipers in Stockport._1057234864.wav\n"
     ]
    },
    {
     "name": "stderr",
     "output_type": "stream",
     "text": [
      "Downloading Diaries:  11%| | 409/3628 [04:51<3:38:47,  4"
     ]
    },
    {
     "name": "stdout",
     "output_type": "stream",
     "text": [
      "[download] 100% of  467.19KiB in 00:00:00 at 614.93KiB/s               \n",
      "[ExtractAudio] Destination: ..\\data\\raw\\dementia_diaries\\audio\\Raymond's been busy again, despite the horrible weather._1057234606.wav\n"
     ]
    },
    {
     "name": "stderr",
     "output_type": "stream",
     "text": [
      "Downloading Diaries:  11%| | 410/3628 [04:54<3:28:22,  3"
     ]
    },
    {
     "name": "stdout",
     "output_type": "stream",
     "text": [
      "[download] 100% of  573.66KiB in 00:00:00 at 813.55KiB/s               \n",
      "[ExtractAudio] Destination: ..\\data\\raw\\dementia_diaries\\audio\\Joy describes the �dawn raucous� that greets her every morning. Lovely diary._1057234351.wav\n"
     ]
    },
    {
     "name": "stderr",
     "output_type": "stream",
     "text": [
      "Downloading Diaries:  11%| | 411/3628 [05:00<3:51:39,  4"
     ]
    },
    {
     "name": "stdout",
     "output_type": "stream",
     "text": [
      "[download] 100% of    2.45MiB in 00:00:02 at 953.10KiB/s               \n",
      "[ExtractAudio] Destination: ..\\data\\raw\\dementia_diaries\\audio\\Chris updates us on developments in the Sea DEEP group_1057233868.wav\n"
     ]
    },
    {
     "name": "stderr",
     "output_type": "stream",
     "text": [
      "Downloading Diaries:  11%| | 412/3628 [05:03<3:39:19,  4"
     ]
    },
    {
     "name": "stdout",
     "output_type": "stream",
     "text": [
      "[download] 100% of  995.33KiB in 00:00:01 at 892.54KiB/s               \n",
      "[ExtractAudio] Destination: ..\\data\\raw\\dementia_diaries\\audio\\Wayne puts his best foot forward on the day lockdown eases. This is brilliant._1051975930.wav\n"
     ]
    },
    {
     "name": "stderr",
     "output_type": "stream",
     "text": [
      "Downloading Diaries:  11%| | 413/3628 [05:08<3:55:31,  4"
     ]
    },
    {
     "name": "stdout",
     "output_type": "stream",
     "text": [
      "[download] 100% of 1015.28KiB in 00:00:01 at 982.04KiB/s               \n",
      "[ExtractAudio] Destination: ..\\data\\raw\\dementia_diaries\\audio\\Clive looks forward to things getting busier, albeit with a little apprehension._1051975669.wav\n"
     ]
    },
    {
     "name": "stderr",
     "output_type": "stream",
     "text": [
      "Downloading Diaries:  11%| | 414/3628 [05:14<4:06:44,  4"
     ]
    },
    {
     "name": "stdout",
     "output_type": "stream",
     "text": [
      "[download] 100% of    1.73MiB in 00:00:01 at 1.07MiB/s                 \n",
      "[ExtractAudio] Destination: ..\\data\\raw\\dementia_diaries\\audio\\It�s all going on round Dreane�s house._1051975504.wav\n"
     ]
    },
    {
     "name": "stderr",
     "output_type": "stream",
     "text": [
      "Downloading Diaries:  11%| | 415/3628 [05:17<3:43:31,  4"
     ]
    },
    {
     "name": "stdout",
     "output_type": "stream",
     "text": [
      "[download] 100% of  578.19KiB in 00:00:00 at 612.06KiB/s                 \n",
      "[ExtractAudio] Destination: ..\\data\\raw\\dementia_diaries\\audio\\Chris couldn�t sleep so recorded this wonderful dawn chorus._1051975183.wav\n"
     ]
    },
    {
     "name": "stderr",
     "output_type": "stream",
     "text": [
      "Downloading Diaries:  11%| | 416/3628 [05:21<3:52:52,  4"
     ]
    },
    {
     "name": "stdout",
     "output_type": "stream",
     "text": [
      "[download] 100% of  970.38KiB in 00:00:01 at 793.36KiB/s               \n",
      "[ExtractAudio] Destination: ..\\data\\raw\\dementia_diaries\\audio\\Gail ponders the missing link._1051974904.wav\n"
     ]
    },
    {
     "name": "stderr",
     "output_type": "stream",
     "text": [
      "Downloading Diaries:  11%| | 417/3628 [05:25<3:35:02,  4"
     ]
    },
    {
     "name": "stdout",
     "output_type": "stream",
     "text": [
      "[download] 100% of  639.45KiB in 00:00:00 at 768.18KiB/s                 \n",
      "[ExtractAudio] Destination: ..\\data\\raw\\dementia_diaries\\audio\\Wayne makes an outdoor group diary with a friend from Tasmania._1048706911.wav\n"
     ]
    },
    {
     "name": "stderr",
     "output_type": "stream",
     "text": [
      "Downloading Diaries:  12%| | 418/3628 [05:29<3:44:36,  4"
     ]
    },
    {
     "name": "stdout",
     "output_type": "stream",
     "text": [
      "[download] 100% of  510.36KiB in 00:00:01 at 405.31KiB/s             \n",
      "[ExtractAudio] Destination: ..\\data\\raw\\dementia_diaries\\audio\\Paul explains why he enjoys his meetings with his DEEP group._1048706545.wav\n"
     ]
    },
    {
     "name": "stderr",
     "output_type": "stream",
     "text": [
      "Downloading Diaries:  12%| | 419/3628 [05:34<3:57:09,  4"
     ]
    },
    {
     "name": "stdout",
     "output_type": "stream",
     "text": [
      "[download] 100% of    1.33MiB in 00:00:01 at 914.77KiB/s               \n",
      "[ExtractAudio] Destination: ..\\data\\raw\\dementia_diaries\\audio\\For Agnes, the company of friends is welcome relief from the challenges of the written word._1048706314.wav\n"
     ]
    },
    {
     "name": "stderr",
     "output_type": "stream",
     "text": [
      "Downloading Diaries:  12%| | 420/3628 [05:37<3:36:51,  4"
     ]
    },
    {
     "name": "stdout",
     "output_type": "stream",
     "text": [
      "[download] 100% of  286.91KiB in 00:00:00 at 588.70KiB/s               \n",
      "[ExtractAudio] Destination: ..\\data\\raw\\dementia_diaries\\audio\\Raymond had a lovely week in Blackpool._1048706071.wav\n"
     ]
    },
    {
     "name": "stderr",
     "output_type": "stream",
     "text": [
      "Downloading Diaries:  12%| | 421/3628 [05:41<3:30:20,  3"
     ]
    },
    {
     "name": "stdout",
     "output_type": "stream",
     "text": [
      "[download] 100% of  628.30KiB in 00:00:00 at 808.57KiB/s                 \n",
      "[ExtractAudio] Destination: ..\\data\\raw\\dementia_diaries\\audio\\Paul lis looking forward to Dementia Action Week._1048705909.wav\n"
     ]
    },
    {
     "name": "stderr",
     "output_type": "stream",
     "text": [
      "Downloading Diaries:  12%| | 422/3628 [05:46<3:51:21,  4"
     ]
    },
    {
     "name": "stdout",
     "output_type": "stream",
     "text": [
      "[download] 100% of    1.26MiB in 00:00:01 at 817.59KiB/s               \n",
      "[ExtractAudio] Destination: ..\\data\\raw\\dementia_diaries\\audio\\The reed warblers are louder today, this is a lovely diary from George._1048705636.wav\n"
     ]
    },
    {
     "name": "stderr",
     "output_type": "stream",
     "text": [
      "Downloading Diaries:  12%| | 423/3628 [05:51<4:03:19,  4"
     ]
    },
    {
     "name": "stdout",
     "output_type": "stream",
     "text": [
      "[download] 100% of  816.02KiB in 00:00:01 at 713.84KiB/s               \n",
      "[ExtractAudio] Destination: ..\\data\\raw\\dementia_diaries\\audio\\Want to hear reed warblers going bananas This is the diary for you._1048705396.wav\n"
     ]
    },
    {
     "name": "stderr",
     "output_type": "stream",
     "text": [
      "Downloading Diaries:  12%| | 424/3628 [05:55<3:43:57,  4"
     ]
    },
    {
     "name": "stdout",
     "output_type": "stream",
     "text": [
      "[download] 100% of  519.48KiB in 00:00:00 at 629.32KiB/s                 \n",
      "[ExtractAudio] Destination: ..\\data\\raw\\dementia_diaries\\audio\\Gail�s had her second jab.  Fair play to Gail for making this diary with such a sore throat,_1048705111.wav\n"
     ]
    },
    {
     "name": "stderr",
     "output_type": "stream",
     "text": [
      "Downloading Diaries:  12%| | 425/3628 [06:00<3:53:12,  4"
     ]
    },
    {
     "name": "stdout",
     "output_type": "stream",
     "text": [
      "[download] 100% of  802.69KiB in 00:00:01 at 730.84KiB/s               \n",
      "[ExtractAudio] Destination: ..\\data\\raw\\dementia_diaries\\audio\\Teresa is slightly gobsmacked at the suggestion that she shouldn�t vote because of her dementia._1044547831.wav\n"
     ]
    },
    {
     "name": "stderr",
     "output_type": "stream",
     "text": [
      "Downloading Diaries:  12%| | 426/3628 [06:04<3:53:26,  4"
     ]
    },
    {
     "name": "stdout",
     "output_type": "stream",
     "text": [
      "[download] 100% of  612.10KiB in 00:00:00 at 734.17KiB/s               \n",
      "[ExtractAudio] Destination: ..\\data\\raw\\dementia_diaries\\audio\\Jacqui is going to be Revitalised and she�s very excited. Have a lovely time!_1044547441.wav\n"
     ]
    },
    {
     "name": "stderr",
     "output_type": "stream",
     "text": [
      "Downloading Diaries:  12%| | 427/3628 [06:08<3:54:53,  4"
     ]
    },
    {
     "name": "stdout",
     "output_type": "stream",
     "text": [
      "[download] 100% of  549.23KiB in 00:00:00 at 875.00KiB/s               \n",
      "[ExtractAudio] Destination: ..\\data\\raw\\dementia_diaries\\audio\\Paul has been in the studio working on the DEEP Symphony._1044547198.wav\n"
     ]
    },
    {
     "name": "stderr",
     "output_type": "stream",
     "text": [
      "Downloading Diaries:  12%| | 428/3628 [06:12<3:40:01,  4"
     ]
    },
    {
     "name": "stdout",
     "output_type": "stream",
     "text": [
      "[download] 100% of    1.17MiB in 00:00:01 at 1010.64KiB/s              \n",
      "[ExtractAudio] Destination: ..\\data\\raw\\dementia_diaries\\audio\\Dreane wonders if losing her sense of taste is connected to her dementia._1044546775.wav\n"
     ]
    },
    {
     "name": "stderr",
     "output_type": "stream",
     "text": [
      "Downloading Diaries:  12%| | 429/3628 [06:16<3:35:25,  4"
     ]
    },
    {
     "name": "stdout",
     "output_type": "stream",
     "text": [
      "[download] 100% of  364.76KiB in 00:00:00 at 637.29KiB/s               \n",
      "[ExtractAudio] Destination: ..\\data\\raw\\dementia_diaries\\audio\\Raymond has been really enjoying his meetings, and is off to Blackpool!_1044546412.wav\n"
     ]
    },
    {
     "name": "stderr",
     "output_type": "stream",
     "text": [
      "Downloading Diaries:  12%| | 430/3628 [06:19<3:28:49,  3"
     ]
    },
    {
     "name": "stdout",
     "output_type": "stream",
     "text": [
      "[download] 100% of  659.51KiB in 00:00:00 at 714.25KiB/s                 \n",
      "[ExtractAudio] Destination: ..\\data\\raw\\dementia_diaries\\audio\\Howard recalls the difference Dementia Diaries made to him after his diagnosis._1044545095.wav\n"
     ]
    },
    {
     "name": "stderr",
     "output_type": "stream",
     "text": [
      "Downloading Diaries:  12%| | 431/3628 [06:23<3:24:31,  3"
     ]
    },
    {
     "name": "stdout",
     "output_type": "stream",
     "text": [
      "[download] 100% of  848.41KiB in 00:00:01 at 755.35KiB/s               \n",
      "[ExtractAudio] Destination: ..\\data\\raw\\dementia_diaries\\audio\\Back to normal Not for most people with dementia as Howard reminds us._1044544696.wav\n"
     ]
    },
    {
     "name": "stderr",
     "output_type": "stream",
     "text": [
      "Downloading Diaries:  12%| | 432/3628 [06:40<6:53:37,  7"
     ]
    },
    {
     "name": "stdout",
     "output_type": "stream",
     "text": [
      "[download] 100% of   12.11MiB in 00:00:13 at 928.39KiB/s                 \n",
      "[ExtractAudio] Destination: ..\\data\\raw\\dementia_diaries\\audio\\The audio version of April May 2021 Our DEEP News_1042353217.wav\n"
     ]
    },
    {
     "name": "stderr",
     "output_type": "stream",
     "text": [
      "Downloading Diaries:  12%| | 433/3628 [06:46<6:33:19,  7"
     ]
    },
    {
     "name": "stdout",
     "output_type": "stream",
     "text": [
      "[download] 100% of  701.01KiB in 00:00:00 at 838.78KiB/s                 \n",
      "[ExtractAudio] Destination: ..\\data\\raw\\dementia_diaries\\audio\\Agnes is excited to be meeting up with her son and daughter. There�s a lot to organise though._1039822504.wav\n"
     ]
    },
    {
     "name": "stderr",
     "output_type": "stream",
     "text": [
      "Downloading Diaries:  12%| | 434/3628 [06:51<5:45:43,  6"
     ]
    },
    {
     "name": "stdout",
     "output_type": "stream",
     "text": [
      "[download] 100% of  739.69KiB in 00:00:01 at 718.76KiB/s                 \n",
      "[ExtractAudio] Destination: ..\\data\\raw\\dementia_diaries\\audio\\Clive�s having a bit of a fuzzy head day._1039822153.wav\n"
     ]
    },
    {
     "name": "stderr",
     "output_type": "stream",
     "text": [
      "Downloading Diaries:  12%| | 435/3628 [06:56<5:25:14,  6"
     ]
    },
    {
     "name": "stdout",
     "output_type": "stream",
     "text": [
      "[download] 100% of    1.01MiB in 00:00:01 at 943.67KiB/s               \n",
      "[ExtractAudio] Destination: ..\\data\\raw\\dementia_diaries\\audio\\Glenda has been having great fun working on a dance production on ZOOM._1039821787.wav\n"
     ]
    },
    {
     "name": "stderr",
     "output_type": "stream",
     "text": [
      "Downloading Diaries:  12%| | 436/3628 [07:00<4:43:16,  5"
     ]
    },
    {
     "name": "stdout",
     "output_type": "stream",
     "text": [
      "[download] 100% of  423.72KiB in 00:00:00 at 502.88KiB/s               \n",
      "[ExtractAudio] Destination: ..\\data\\raw\\dementia_diaries\\audio\\Raymond is learning some breathing exercises to help with anxiety._1039821496.wav\n"
     ]
    },
    {
     "name": "stderr",
     "output_type": "stream",
     "text": [
      "Downloading Diaries:  12%| | 437/3628 [07:04<4:21:48,  4"
     ]
    },
    {
     "name": "stdout",
     "output_type": "stream",
     "text": [
      "[download] 100% of  513.13KiB in 00:00:00 at 732.69KiB/s               \n",
      "[ExtractAudio] Destination: ..\\data\\raw\\dementia_diaries\\audio\\Clive's enjoyed a relaxing visit to the river Severn._1039821073.wav\n"
     ]
    },
    {
     "name": "stderr",
     "output_type": "stream",
     "text": [
      "Downloading Diaries:  12%| | 438/3628 [07:07<3:50:40,  4"
     ]
    },
    {
     "name": "stdout",
     "output_type": "stream",
     "text": [
      "[download] 100% of  533.53KiB in 00:00:00 at 685.63KiB/s               \n",
      "[ExtractAudio] Destination: ..\\data\\raw\\dementia_diaries\\audio\\Some good advice on body language whilst listening to people struggling to speak._1039820731.wav\n"
     ]
    },
    {
     "name": "stderr",
     "output_type": "stream",
     "text": [
      "Downloading Diaries:  12%| | 439/3628 [07:10<3:36:37,  4"
     ]
    },
    {
     "name": "stdout",
     "output_type": "stream",
     "text": [
      "[download] 100% of  750.34KiB in 00:00:00 at 825.63KiB/s                 \n",
      "[ExtractAudio] Destination: ..\\data\\raw\\dementia_diaries\\audio\\Jacqui thinks that the pool of people being consulted is too small._1039820401.wav\n"
     ]
    },
    {
     "name": "stderr",
     "output_type": "stream",
     "text": [
      "Downloading Diaries:  12%| | 440/3628 [07:13<3:19:56,  3"
     ]
    },
    {
     "name": "stdout",
     "output_type": "stream",
     "text": [
      "[download] 100% of  511.03KiB in 00:00:00 at 655.23KiB/s                 \n",
      "[ExtractAudio] Destination: ..\\data\\raw\\dementia_diaries\\audio\\Lorraine has a birthday visit to her childhood park in the East End. What a lovely diary._1039819879.wav\n"
     ]
    },
    {
     "name": "stderr",
     "output_type": "stream",
     "text": [
      "Downloading Diaries:  12%| | 441/3628 [07:25<5:28:41,  6"
     ]
    },
    {
     "name": "stdout",
     "output_type": "stream",
     "text": [
      "[download] 100% of    8.29MiB in 00:00:09 at 901.39KiB/s                 \n",
      "[ExtractAudio] Destination: ..\\data\\raw\\dementia_diaries\\audio\\George meets a host of flora and fauna on this bracing spring walk. This is simply glorious._1039819498.wav\n"
     ]
    },
    {
     "name": "stderr",
     "output_type": "stream",
     "text": [
      "Downloading Diaries:  12%| | 442/3628 [07:33<5:59:47,  6"
     ]
    },
    {
     "name": "stdout",
     "output_type": "stream",
     "text": [
      "[download] 100% of    3.26MiB in 00:00:03 at 868.63KiB/s               \n",
      "[ExtractAudio] Destination: ..\\data\\raw\\dementia_diaries\\audio\\Chris describes her recent driving assessment._1039816819.wav\n"
     ]
    },
    {
     "name": "stderr",
     "output_type": "stream",
     "text": [
      "Downloading Diaries:  12%| | 443/3628 [07:38<5:28:44,  6"
     ]
    },
    {
     "name": "stdout",
     "output_type": "stream",
     "text": [
      "[download] 100% of    1.43MiB in 00:00:02 at 694.00KiB/s               \n",
      "[ExtractAudio] Destination: ..\\data\\raw\\dementia_diaries\\audio\\Chris is a new diarist, and he introduces himself here. Welcome Chris._1035377503.wav\n"
     ]
    },
    {
     "name": "stderr",
     "output_type": "stream",
     "text": [
      "Downloading Diaries:  12%| | 444/3628 [07:42<4:51:36,  5"
     ]
    },
    {
     "name": "stdout",
     "output_type": "stream",
     "text": [
      "[download] 100% of    1.02MiB in 00:00:01 at 757.15KiB/s               \n",
      "[ExtractAudio] Destination: ..\\data\\raw\\dementia_diaries\\audio\\Gail is finding the world a noisy place after the peace of lockdown.._1035338416.wav\n"
     ]
    },
    {
     "name": "stderr",
     "output_type": "stream",
     "text": [
      "Downloading Diaries:  12%| | 445/3628 [07:46<4:25:31,  5"
     ]
    },
    {
     "name": "stdout",
     "output_type": "stream",
     "text": [
      "[download] 100% of  587.37KiB in 00:00:00 at 773.18KiB/s               \n",
      "[ExtractAudio] Destination: ..\\data\\raw\\dementia_diaries\\audio\\James makes a case for evening meetings._1035338140.wav\n"
     ]
    },
    {
     "name": "stderr",
     "output_type": "stream",
     "text": [
      "Downloading Diaries:  12%| | 446/3628 [07:48<3:51:28,  4"
     ]
    },
    {
     "name": "stdout",
     "output_type": "stream",
     "text": [
      "[download] 100% of  553.19KiB in 00:00:00 at 774.67KiB/s               \n",
      "[ExtractAudio] Destination: ..\\data\\raw\\dementia_diaries\\audio\\James can�t remember the last time he bought anything with cash._1035337789.wav\n"
     ]
    },
    {
     "name": "stderr",
     "output_type": "stream",
     "text": [
      "Downloading Diaries:  12%| | 447/3628 [07:52<3:33:03,  4"
     ]
    },
    {
     "name": "stdout",
     "output_type": "stream",
     "text": [
      "[download] 100% of  727.58KiB in 00:00:00 at 823.59KiB/s                 \n",
      "[ExtractAudio] Destination: ..\\data\\raw\\dementia_diaries\\audio\\James wonders how the national dementia organisations consult people with dementia._1035336877.wav\n"
     ]
    },
    {
     "name": "stderr",
     "output_type": "stream",
     "text": [
      "Downloading Diaries:  12%| | 448/3628 [07:55<3:22:33,  3"
     ]
    },
    {
     "name": "stdout",
     "output_type": "stream",
     "text": [
      "[download] 100% of  487.30KiB in 00:00:00 at 786.84KiB/s               \n",
      "[ExtractAudio] Destination: ..\\data\\raw\\dementia_diaries\\audio\\James thinks a wider range of people with dementia should be consulted._1035335755.wav\n"
     ]
    },
    {
     "name": "stderr",
     "output_type": "stream",
     "text": [
      "Downloading Diaries:  12%| | 449/3628 [07:59<3:20:48,  3"
     ]
    },
    {
     "name": "stdout",
     "output_type": "stream",
     "text": [
      "[download] 100% of  559.96KiB in 00:00:00 at 752.87KiB/s               \n",
      "[ExtractAudio] Destination: ..\\data\\raw\\dementia_diaries\\audio\\James doesn�t like to be referred to as a  �burden� , and who can blame him_1035335044.wav\n"
     ]
    },
    {
     "name": "stderr",
     "output_type": "stream",
     "text": [
      "Downloading Diaries:  12%| | 450/3628 [08:03<3:34:39,  4"
     ]
    },
    {
     "name": "stdout",
     "output_type": "stream",
     "text": [
      "[download] 100% of  643.60KiB in 00:00:00 at 807.43KiB/s                 \n",
      "[ExtractAudio] Destination: ..\\data\\raw\\dementia_diaries\\audio\\A lovely report from Glenda, who is well despite her bad reaction to the jab._1035334855.wav\n"
     ]
    },
    {
     "name": "stderr",
     "output_type": "stream",
     "text": [
      "Downloading Diaries:  12%| | 451/3628 [08:07<3:29:17,  3"
     ]
    },
    {
     "name": "stdout",
     "output_type": "stream",
     "text": [
      "[download] 100% of  836.22KiB in 00:00:00 at 889.07KiB/s                 \n",
      "[ExtractAudio] Destination: ..\\data\\raw\\dementia_diaries\\audio\\Clive is trying to support a friend who is struggling with the care system._1035334447.wav\n"
     ]
    },
    {
     "name": "stderr",
     "output_type": "stream",
     "text": [
      "Downloading Diaries:  12%| | 452/3628 [08:12<3:43:23,  4"
     ]
    },
    {
     "name": "stdout",
     "output_type": "stream",
     "text": [
      "[download] 100% of    2.14MiB in 00:00:02 at 1.00MiB/s                 \n",
      "[ExtractAudio] Destination: ..\\data\\raw\\dementia_diaries\\audio\\Jacqui is unsurprisingly frustrated by not being listened to._1035334084.wav\n"
     ]
    },
    {
     "name": "stderr",
     "output_type": "stream",
     "text": [
      "Downloading Diaries:  12%| | 453/3628 [08:19<4:33:27,  5"
     ]
    },
    {
     "name": "stdout",
     "output_type": "stream",
     "text": [
      "[download] 100% of    2.94MiB in 00:00:02 at 1.08MiB/s                 \n",
      "[ExtractAudio] Destination: ..\\data\\raw\\dementia_diaries\\audio\\Melvyn pulls no punches �democracy in this country is null and void�_1035333613.wav\n"
     ]
    },
    {
     "name": "stderr",
     "output_type": "stream",
     "text": [
      "Downloading Diaries:  13%|▏| 454/3628 [08:23<4:03:02,  4"
     ]
    },
    {
     "name": "stdout",
     "output_type": "stream",
     "text": [
      "[download] 100% of  516.02KiB in 00:00:00 at 766.60KiB/s               \n",
      "[ExtractAudio] Destination: ..\\data\\raw\\dementia_diaries\\audio\\Raymond has enjoyed being busy._1035332548.wav\n"
     ]
    },
    {
     "name": "stderr",
     "output_type": "stream",
     "text": [
      "Downloading Diaries:  13%|▏| 455/3628 [08:25<3:35:21,  4"
     ]
    },
    {
     "name": "stdout",
     "output_type": "stream",
     "text": [
      "[download] 100% of  307.29KiB in 00:00:00 at 680.14KiB/s               \n",
      "[ExtractAudio] Destination: ..\\data\\raw\\dementia_diaries\\audio\\James has an idea why his long terms memory is improving._1030004656.wav\n"
     ]
    },
    {
     "name": "stderr",
     "output_type": "stream",
     "text": [
      "Downloading Diaries:  13%|▏| 456/3628 [08:29<3:31:11,  3"
     ]
    },
    {
     "name": "stdout",
     "output_type": "stream",
     "text": [
      "[download] 100% of  766.78KiB in 00:00:00 at 831.52KiB/s                 \n",
      "[ExtractAudio] Destination: ..\\data\\raw\\dementia_diaries\\audio\\Clive is being internationally acclaimed. Well, his shoulder is anyway._1030004470.wav\n"
     ]
    },
    {
     "name": "stderr",
     "output_type": "stream",
     "text": [
      "Downloading Diaries:  13%|▏| 457/3628 [08:34<3:40:37,  4"
     ]
    },
    {
     "name": "stdout",
     "output_type": "stream",
     "text": [
      "[download] 100% of  300.56KiB in 00:00:00 at 495.26KiB/s               \n",
      "[ExtractAudio] Destination: ..\\data\\raw\\dementia_diaries\\audio\\Raymond is looking forward to meeting his friends in the park._1030004164.wav\n"
     ]
    },
    {
     "name": "stderr",
     "output_type": "stream",
     "text": [
      "Downloading Diaries:  13%|▏| 458/3628 [08:39<3:58:10,  4"
     ]
    },
    {
     "name": "stdout",
     "output_type": "stream",
     "text": [
      "[download] 100% of    1.94MiB in 00:00:01 at 1008.90KiB/s              \n",
      "[ExtractAudio] Destination: ..\\data\\raw\\dementia_diaries\\audio\\Melvyn takes such pleasure in the joy his garden brings to others._1030003999.wav\n"
     ]
    },
    {
     "name": "stderr",
     "output_type": "stream",
     "text": [
      "Downloading Diaries:  13%|▏| 459/3628 [08:45<4:24:35,  5"
     ]
    },
    {
     "name": "stdout",
     "output_type": "stream",
     "text": [
      "[download] 100% of    2.93MiB in 00:00:02 at 1.01MiB/s                 \n",
      "[ExtractAudio] Destination: ..\\data\\raw\\dementia_diaries\\audio\\Melvyn gives a wondrous report on the comings and goings of flora and fauna in his garden._1030003582.wav\n"
     ]
    },
    {
     "name": "stderr",
     "output_type": "stream",
     "text": [
      "Downloading Diaries:  13%|▏| 460/3628 [08:51<4:27:05,  5"
     ]
    },
    {
     "name": "stdout",
     "output_type": "stream",
     "text": [
      "[download] 100% of  872.73KiB in 00:00:01 at 840.60KiB/s               \n",
      "[ExtractAudio] Destination: ..\\data\\raw\\dementia_diaries\\audio\\Clive hopes that groups continue to meet on ZOOM as we head out of lockdown._1030003048.wav\n"
     ]
    },
    {
     "name": "stderr",
     "output_type": "stream",
     "text": [
      "Downloading Diaries:  13%|▏| 461/3628 [08:55<4:20:20,  4"
     ]
    },
    {
     "name": "stdout",
     "output_type": "stream",
     "text": [
      "[download] 100% of  640.49KiB in 00:00:00 at 826.21KiB/s                 \n",
      "[ExtractAudio] Destination: ..\\data\\raw\\dementia_diaries\\audio\\James wonders how long consent lasts when someone has a progressive condition._1030003036.wav\n"
     ]
    },
    {
     "name": "stderr",
     "output_type": "stream",
     "text": [
      "Downloading Diaries:  13%|▏| 462/3628 [09:00<4:15:18,  4"
     ]
    },
    {
     "name": "stdout",
     "output_type": "stream",
     "text": [
      "[download] 100% of    1.10MiB in 00:00:01 at 923.08KiB/s               \n",
      "[ExtractAudio] Destination: ..\\data\\raw\\dementia_diaries\\audio\\James wonders about the the support for people with dementia having an operation._1030002619.wav\n"
     ]
    },
    {
     "name": "stderr",
     "output_type": "stream",
     "text": [
      "Downloading Diaries:  13%|▏| 463/3628 [09:03<3:49:54,  4"
     ]
    },
    {
     "name": "stdout",
     "output_type": "stream",
     "text": [
      "[download] 100% of  827.99KiB in 00:00:01 at 807.83KiB/s                 \n",
      "[ExtractAudio] Destination: ..\\data\\raw\\dementia_diaries\\audio\\Clive reflects on the importance of the WHO rather than the WHAT._1030002328.wav\n"
     ]
    },
    {
     "name": "stderr",
     "output_type": "stream",
     "text": [
      "Downloading Diaries:  13%|▏| 464/3628 [09:08<3:55:53,  4"
     ]
    },
    {
     "name": "stdout",
     "output_type": "stream",
     "text": [
      "[download] 100% of  912.02KiB in 00:00:01 at 761.40KiB/s               \n",
      "[ExtractAudio] Destination: ..\\data\\raw\\dementia_diaries\\audio\\Keith explains the criteria he uses for deciding when to get involved._1030002016.wav\n"
     ]
    },
    {
     "name": "stderr",
     "output_type": "stream",
     "text": [
      "Downloading Diaries:  13%|▏| 465/3628 [09:11<3:38:46,  4"
     ]
    },
    {
     "name": "stdout",
     "output_type": "stream",
     "text": [
      "[download] 100% of  382.63KiB in 00:00:00 at 619.12KiB/s               \n",
      "[ExtractAudio] Destination: ..\\data\\raw\\dementia_diaries\\audio\\The weather can�t make up its mind for Raymond._1030001731.wav\n"
     ]
    },
    {
     "name": "stderr",
     "output_type": "stream",
     "text": [
      "Downloading Diaries:  13%|▏| 466/3628 [09:14<3:14:29,  3"
     ]
    },
    {
     "name": "stdout",
     "output_type": "stream",
     "text": [
      "[download] 100% of  513.41KiB in 00:00:00 at 767.98KiB/s               \n",
      "[ExtractAudio] Destination: ..\\data\\raw\\dementia_diaries\\audio\\James reflects on the difference between �celebration� and �commemoration'._1030001320.wav\n"
     ]
    },
    {
     "name": "stderr",
     "output_type": "stream",
     "text": [
      "Downloading Diaries:  13%|▏| 467/3628 [09:17<3:09:58,  3"
     ]
    },
    {
     "name": "stdout",
     "output_type": "stream",
     "text": [
      "[download] 100% of  513.42KiB in 00:00:00 at 708.39KiB/s               \n",
      "[ExtractAudio] Destination: ..\\data\\raw\\dementia_diaries\\audio\\A Liverpool win against the Gunners is the topping on a  good day for Clive._1030001035.wav\n"
     ]
    },
    {
     "name": "stderr",
     "output_type": "stream",
     "text": [
      "Downloading Diaries:  13%|▏| 468/3628 [09:22<3:25:22,  3"
     ]
    },
    {
     "name": "stdout",
     "output_type": "stream",
     "text": [
      "[download] 100% of  947.75KiB in 00:00:01 at 911.08KiB/s               \n",
      "[ExtractAudio] Destination: ..\\data\\raw\\dementia_diaries\\audio\\Clive reflects on how his values have changed. What a lovely diary_1030000753.wav\n"
     ]
    },
    {
     "name": "stderr",
     "output_type": "stream",
     "text": [
      "Downloading Diaries:  13%|▏| 469/3628 [09:25<3:11:45,  3"
     ]
    },
    {
     "name": "stdout",
     "output_type": "stream",
     "text": [
      "[download] 100% of  815.44KiB in 00:00:00 at 861.78KiB/s                 \n",
      "[ExtractAudio] Destination: ..\\data\\raw\\dementia_diaries\\audio\\James has some amazing questions running through his mind._1030000534.wav\n"
     ]
    },
    {
     "name": "stderr",
     "output_type": "stream",
     "text": [
      "Downloading Diaries:  13%|▏| 470/3628 [09:29<3:22:52,  3"
     ]
    },
    {
     "name": "stdout",
     "output_type": "stream",
     "text": [
      "[download] 100% of  994.95KiB in 00:00:01 at 778.64KiB/s               \n",
      "[ExtractAudio] Destination: ..\\data\\raw\\dementia_diaries\\audio\\Dory has made an amazing discovery which really helps her reading._1030000144.wav\n"
     ]
    },
    {
     "name": "stderr",
     "output_type": "stream",
     "text": [
      "Downloading Diaries:  13%|▏| 471/3628 [09:33<3:30:08,  3"
     ]
    },
    {
     "name": "stdout",
     "output_type": "stream",
     "text": [
      "[download] 100% of    1.34MiB in 00:00:01 at 782.92KiB/s               \n",
      "[ExtractAudio] Destination: ..\\data\\raw\\dementia_diaries\\audio\\Dory describes an exciting new project with the National Archive_1029999856.wav\n"
     ]
    },
    {
     "name": "stderr",
     "output_type": "stream",
     "text": [
      "Downloading Diaries:  13%|▏| 472/3628 [09:38<3:38:40,  4"
     ]
    },
    {
     "name": "stdout",
     "output_type": "stream",
     "text": [
      "[download] 100% of    1.06MiB in 00:00:01 at 850.28KiB/s               \n",
      "[ExtractAudio] Destination: ..\\data\\raw\\dementia_diaries\\audio\\Lorraine�s description of her day out in the park  is truly joyous._1029999619.wav\n"
     ]
    },
    {
     "name": "stderr",
     "output_type": "stream",
     "text": [
      "Downloading Diaries:  13%|▏| 473/3628 [09:45<4:19:13,  4"
     ]
    },
    {
     "name": "stdout",
     "output_type": "stream",
     "text": [
      "[download] 100% of    2.70MiB in 00:00:03 at 865.82KiB/s               \n",
      "[ExtractAudio] Destination: ..\\data\\raw\\dementia_diaries\\audio\\A nuthatch and blackcaps join George on another glorious walk._1029999430.wav\n"
     ]
    },
    {
     "name": "stderr",
     "output_type": "stream",
     "text": [
      "Downloading Diaries:  13%|▏| 474/3628 [09:50<4:20:30,  4"
     ]
    },
    {
     "name": "stdout",
     "output_type": "stream",
     "text": [
      "[download] 100% of    1.80MiB in 00:00:02 at 849.73KiB/s               \n",
      "[ExtractAudio] Destination: ..\\data\\raw\\dementia_diaries\\audio\\George tries to evade the biting cold wind as he describes what he hears around him_1029999037.wav\n"
     ]
    },
    {
     "name": "stderr",
     "output_type": "stream",
     "text": [
      "Downloading Diaries:  13%|▏| 475/3628 [09:56<4:46:35,  5"
     ]
    },
    {
     "name": "stdout",
     "output_type": "stream",
     "text": [
      "[download] 100% of    3.96MiB in 00:00:04 at 940.72KiB/s               \n",
      "[ExtractAudio] Destination: ..\\data\\raw\\dementia_diaries\\audio\\Join George as he encourages us to learn to identify the beautiful songs of the birds all around us._1029998401.wav\n"
     ]
    },
    {
     "name": "stderr",
     "output_type": "stream",
     "text": [
      "Downloading Diaries:  13%|▏| 476/3628 [10:02<4:50:10,  5"
     ]
    },
    {
     "name": "stdout",
     "output_type": "stream",
     "text": [
      "[download] 100% of  921.96KiB in 00:00:01 at 694.77KiB/s               \n",
      "[ExtractAudio] Destination: ..\\data\\raw\\dementia_diaries\\audio\\Gail is reminded not to take on too many ZOOM calls._1029997720.wav\n"
     ]
    },
    {
     "name": "stderr",
     "output_type": "stream",
     "text": [
      "Downloading Diaries:  13%|▏| 477/3628 [10:06<4:24:40,  5"
     ]
    },
    {
     "name": "stdout",
     "output_type": "stream",
     "text": [
      "[download] 100% of    1.05MiB in 00:00:01 at 967.31KiB/s               \n",
      "[ExtractAudio] Destination: ..\\data\\raw\\dementia_diaries\\audio\\Clive hopes that ZOOM meetings will continue._1020362191.wav\n"
     ]
    },
    {
     "name": "stderr",
     "output_type": "stream",
     "text": [
      "Downloading Diaries:  13%|▏| 478/3628 [10:10<4:05:30,  4"
     ]
    },
    {
     "name": "stdout",
     "output_type": "stream",
     "text": [
      "[download] 100% of  408.48KiB in 00:00:00 at 751.97KiB/s               \n",
      "[ExtractAudio] Destination: ..\\data\\raw\\dementia_diaries\\audio\\Joy has had some very sad news._1020361624.wav\n"
     ]
    },
    {
     "name": "stderr",
     "output_type": "stream",
     "text": [
      "Downloading Diaries:  13%|▏| 479/3628 [10:13<3:48:33,  4"
     ]
    },
    {
     "name": "stdout",
     "output_type": "stream",
     "text": [
      "[download] 100% of  667.04KiB in 00:00:00 at 862.54KiB/s                 \n",
      "[ExtractAudio] Destination: ..\\data\\raw\\dementia_diaries\\audio\\James reflects on the sanctuary of the mothers voice._1020360973.wav\n"
     ]
    },
    {
     "name": "stderr",
     "output_type": "stream",
     "text": [
      "Downloading Diaries:  13%|▏| 480/3628 [10:17<3:29:51,  4"
     ]
    },
    {
     "name": "stdout",
     "output_type": "stream",
     "text": [
      "[download] 100% of  361.28KiB in 00:00:00 at 670.32KiB/s               \n",
      "[ExtractAudio] Destination: ..\\data\\raw\\dementia_diaries\\audio\\James wonders how many people keep their jobs following a diagnosis._1020360673.wav\n"
     ]
    },
    {
     "name": "stderr",
     "output_type": "stream",
     "text": [
      "Downloading Diaries:  13%|▏| 481/3628 [10:22<3:45:30,  4"
     ]
    },
    {
     "name": "stdout",
     "output_type": "stream",
     "text": [
      "[download] 100% of  825.66KiB in 00:00:01 at 807.34KiB/s                 \n",
      "[ExtractAudio] Destination: ..\\data\\raw\\dementia_diaries\\audio\\Clive wonders how he�s going to resocialise as we come out of lockdown._1020360352.wav\n"
     ]
    },
    {
     "name": "stderr",
     "output_type": "stream",
     "text": [
      "Downloading Diaries:  13%|▏| 482/3628 [10:26<3:49:00,  4"
     ]
    },
    {
     "name": "stdout",
     "output_type": "stream",
     "text": [
      "[download] 100% of  345.07KiB in 00:00:00 at 621.35KiB/s               \n",
      "[ExtractAudio] Destination: ..\\data\\raw\\dementia_diaries\\audio\\Raymond is looking forward to the Dementia Diarists ZOOM_1020360109.wav\n"
     ]
    },
    {
     "name": "stderr",
     "output_type": "stream",
     "text": [
      "Downloading Diaries:  13%|▏| 483/3628 [10:31<3:55:05,  4"
     ]
    },
    {
     "name": "stdout",
     "output_type": "stream",
     "text": [
      "[download] 100% of    1.02MiB in 00:00:01 at 935.19KiB/s               \n",
      "[ExtractAudio] Destination: ..\\data\\raw\\dementia_diaries\\audio\\Jacqui is frustrated by a lack of news._1020359797.wav\n"
     ]
    },
    {
     "name": "stderr",
     "output_type": "stream",
     "text": [
      "Downloading Diaries:  13%|▏| 484/3628 [10:35<3:49:37,  4"
     ]
    },
    {
     "name": "stdout",
     "output_type": "stream",
     "text": [
      "[download] 100% of    1.01MiB in 00:00:01 at 943.84KiB/s               \n",
      "[ExtractAudio] Destination: ..\\data\\raw\\dementia_diaries\\audio\\Glenda is making fantastic progress with her poly tunnel_1020359503.wav\n"
     ]
    },
    {
     "name": "stderr",
     "output_type": "stream",
     "text": [
      "Downloading Diaries:  13%|▏| 485/3628 [10:38<3:24:59,  3"
     ]
    },
    {
     "name": "stdout",
     "output_type": "stream",
     "text": [
      "[download] 100% of  477.51KiB in 00:00:00 at 771.69KiB/s               \n",
      "[ExtractAudio] Destination: ..\\data\\raw\\dementia_diaries\\audio\\Jacqui has had a lucky escape after a fall. Phew!_1020359185.wav\n"
     ]
    },
    {
     "name": "stderr",
     "output_type": "stream",
     "text": [
      "Downloading Diaries:  13%|▏| 486/3628 [10:41<3:18:11,  3"
     ]
    },
    {
     "name": "stdout",
     "output_type": "stream",
     "text": [
      "[download] 100% of  651.97KiB in 00:00:00 at 843.78KiB/s                 \n",
      "[ExtractAudio] Destination: ..\\data\\raw\\dementia_diaries\\audio\\Clive's having a few quiet days and is appreciating being in from the cold._1020358780.wav\n"
     ]
    },
    {
     "name": "stderr",
     "output_type": "stream",
     "text": [
      "Downloading Diaries:  13%|▏| 487/3628 [10:46<3:33:42,  4"
     ]
    },
    {
     "name": "stdout",
     "output_type": "stream",
     "text": [
      "[download] 100% of    1.34MiB in 00:00:01 at 1013.80KiB/s              \n",
      "[ExtractAudio] Destination: ..\\data\\raw\\dementia_diaries\\audio\\James is trying to relearn a lost talent._1020358585.wav\n"
     ]
    },
    {
     "name": "stderr",
     "output_type": "stream",
     "text": [
      "Downloading Diaries:  13%|▏| 488/3628 [10:50<3:34:10,  4"
     ]
    },
    {
     "name": "stdout",
     "output_type": "stream",
     "text": [
      "[download] 100% of  869.84KiB in 00:00:01 at 866.40KiB/s                 \n",
      "[ExtractAudio] Destination: ..\\data\\raw\\dementia_diaries\\audio\\Like many, Jacqui assumed that a diagnosis meant giving things up_1020358399.wav\n"
     ]
    },
    {
     "name": "stderr",
     "output_type": "stream",
     "text": [
      "Downloading Diaries:  13%|▏| 489/3628 [10:53<3:19:26,  3"
     ]
    },
    {
     "name": "stdout",
     "output_type": "stream",
     "text": [
      "[download] 100% of  553.64KiB in 00:00:00 at 712.04KiB/s                 \n",
      "[ExtractAudio] Destination: ..\\data\\raw\\dementia_diaries\\audio\\Raymond feels that things are getting better,_1020356848.wav\n"
     ]
    },
    {
     "name": "stderr",
     "output_type": "stream",
     "text": [
      "Downloading Diaries:  14%|▏| 490/3628 [10:56<3:05:13,  3"
     ]
    },
    {
     "name": "stdout",
     "output_type": "stream",
     "text": [
      "[download] 100% of  652.41KiB in 00:00:00 at 755.10KiB/s                 \n",
      "[ExtractAudio] Destination: ..\\data\\raw\\dementia_diaries\\audio\\James thinks he may have discovered a new ailment. He might be right._1020356545.wav\n"
     ]
    },
    {
     "name": "stderr",
     "output_type": "stream",
     "text": [
      "Downloading Diaries:  14%|▏| 491/3628 [10:59<2:59:05,  3"
     ]
    },
    {
     "name": "stdout",
     "output_type": "stream",
     "text": [
      "[download] 100% of  524.84KiB in 00:00:00 at 756.31KiB/s               \n",
      "[ExtractAudio] Destination: ..\\data\\raw\\dementia_diaries\\audio\\James wonders if helplines are busy supporting people worried they may have dementia_1020356083.wav\n"
     ]
    },
    {
     "name": "stderr",
     "output_type": "stream",
     "text": [
      "Downloading Diaries:  14%|▏| 492/3628 [11:09<4:35:57,  5"
     ]
    },
    {
     "name": "stdout",
     "output_type": "stream",
     "text": [
      "[download] 100% of    5.10MiB in 00:00:06 at 827.98KiB/s               \n",
      "[ExtractAudio] Destination: ..\\data\\raw\\dementia_diaries\\audio\\In this extended diary Gail reflects on living with dementia in a year of lockdown._1020354700.wav\n"
     ]
    },
    {
     "name": "stderr",
     "output_type": "stream",
     "text": [
      "Downloading Diaries:  14%|▏| 493/3628 [11:35<9:59:59, 11"
     ]
    },
    {
     "name": "stdout",
     "output_type": "stream",
     "text": [
      "[download] 100% of   19.51MiB in 00:00:22 at 883.39KiB/s                 \n",
      "[ExtractAudio] Destination: ..\\data\\raw\\dementia_diaries\\audio\\Our DEEP News Audio March April 2021 with bonus content!_1018596712.wav\n"
     ]
    },
    {
     "name": "stderr",
     "output_type": "stream",
     "text": [
      "Downloading Diaries:  14%|▏| 494/3628 [11:44<9:16:07, 10"
     ]
    },
    {
     "name": "stdout",
     "output_type": "stream",
     "text": [
      "[download] 100% of  992.89KiB in 00:00:01 at 947.17KiB/s               \n",
      "[ExtractAudio] Destination: ..\\data\\raw\\dementia_diaries\\audio\\A bittersweet day for Clive stirs strong memories. A beautiful and moving diary._1016232997.wav\n"
     ]
    },
    {
     "name": "stderr",
     "output_type": "stream",
     "text": [
      "Downloading Diaries:  14%|▏| 495/3628 [11:47<7:17:48,  8"
     ]
    },
    {
     "name": "stdout",
     "output_type": "stream",
     "text": [
      "[download] 100% of  300.35KiB in 00:00:00 at 627.22KiB/s               \n",
      "[ExtractAudio] Destination: ..\\data\\raw\\dementia_diaries\\audio\\Raymond talks about the dementia diarists ZOOM meeting._1016232715.wav\n"
     ]
    },
    {
     "name": "stderr",
     "output_type": "stream",
     "text": [
      "Downloading Diaries:  14%|▏| 496/3628 [11:51<6:05:45,  7"
     ]
    },
    {
     "name": "stdout",
     "output_type": "stream",
     "text": [
      "[download] 100% of  659.43KiB in 00:00:00 at 860.50KiB/s                 \n",
      "[ExtractAudio] Destination: ..\\data\\raw\\dementia_diaries\\audio\\�once you get it right for people with dementia, you get it right for everyone� well-said James_1016231473.wav\n"
     ]
    },
    {
     "name": "stderr",
     "output_type": "stream",
     "text": [
      "Downloading Diaries:  14%|▏| 497/3628 [11:54<5:07:27,  5"
     ]
    },
    {
     "name": "stdout",
     "output_type": "stream",
     "text": [
      "[download] 100% of    1.00MiB in 00:00:01 at 929.83KiB/s               \n",
      "[ExtractAudio] Destination: ..\\data\\raw\\dementia_diaries\\audio\\Clive explains the depth of his friendship with fellow dementia diarists._1016231041.wav\n"
     ]
    },
    {
     "name": "stderr",
     "output_type": "stream",
     "text": [
      "Downloading Diaries:  14%|▏| 498/3628 [12:00<5:17:57,  6"
     ]
    },
    {
     "name": "stdout",
     "output_type": "stream",
     "text": [
      "[download] 100% of    2.99MiB in 00:00:02 at 1.01MiB/s                 \n",
      "[ExtractAudio] Destination: ..\\data\\raw\\dementia_diaries\\audio\\Disruptions and mishaps haven�t dampened Melvyn�s spirits, with the increasing signs of spring._1016230624.wav\n"
     ]
    },
    {
     "name": "stderr",
     "output_type": "stream",
     "text": [
      "Downloading Diaries:  14%|▏| 499/3628 [12:04<4:44:55,  5"
     ]
    },
    {
     "name": "stdout",
     "output_type": "stream",
     "text": [
      "[download] 100% of  300.35KiB in 00:00:00 at 648.78KiB/s               \n",
      "[ExtractAudio] Destination: ..\\data\\raw\\dementia_diaries\\audio\\Raymond reports on his day from a a chilly Oldham._1016229889.wav\n"
     ]
    },
    {
     "name": "stderr",
     "output_type": "stream",
     "text": [
      "Downloading Diaries:  14%|▏| 500/3628 [12:09<4:25:47,  5"
     ]
    },
    {
     "name": "stdout",
     "output_type": "stream",
     "text": [
      "[download] 100% of  739.86KiB in 00:00:00 at 852.41KiB/s                 \n",
      "[ExtractAudio] Destination: ..\\data\\raw\\dementia_diaries\\audio\\A visit to the hives brings back lovely memories for Clive. Great diary,_1016228698.wav\n"
     ]
    },
    {
     "name": "stderr",
     "output_type": "stream",
     "text": [
      "Downloading Diaries:  14%|▏| 501/3628 [12:13<4:10:40,  4"
     ]
    },
    {
     "name": "stdout",
     "output_type": "stream",
     "text": [
      "[download] 100% of    1.08MiB in 00:00:01 at 852.41KiB/s               \n",
      "[ExtractAudio] Destination: ..\\data\\raw\\dementia_diaries\\audio\\�What is the one thing I wish other people knew about my experience of dementia asks Keith._1016228221.wav\n"
     ]
    },
    {
     "name": "stderr",
     "output_type": "stream",
     "text": [
      "Downloading Diaries:  14%|▏| 502/3628 [12:16<3:42:13,  4"
     ]
    },
    {
     "name": "stdout",
     "output_type": "stream",
     "text": [
      "[download] 100% of  513.05KiB in 00:00:00 at 779.43KiB/s               \n",
      "[ExtractAudio] Destination: ..\\data\\raw\\dementia_diaries\\audio\\A great reminder from James about the importance of reminders._1016227735.wav\n"
     ]
    },
    {
     "name": "stderr",
     "output_type": "stream",
     "text": [
      "Downloading Diaries:  14%|▏| 503/3628 [12:20<3:46:45,  4"
     ]
    },
    {
     "name": "stdout",
     "output_type": "stream",
     "text": [
      "[download] 100% of  990.45KiB in 00:00:01 at 851.11KiB/s               \n",
      "[ExtractAudio] Destination: ..\\data\\raw\\dementia_diaries\\audio\\James on the creative powers of people with dementia._1016227255.wav\n"
     ]
    },
    {
     "name": "stderr",
     "output_type": "stream",
     "text": [
      "Downloading Diaries:  14%|▏| 504/3628 [12:24<3:34:52,  4"
     ]
    },
    {
     "name": "stdout",
     "output_type": "stream",
     "text": [
      "[download] 100% of    1.08MiB in 00:00:01 at 829.19KiB/s               \n",
      "[ExtractAudio] Destination: ..\\data\\raw\\dementia_diaries\\audio\\James  wonders if there should be a national standard in dementia training._1016226946.wav\n"
     ]
    },
    {
     "name": "stderr",
     "output_type": "stream",
     "text": [
      "Downloading Diaries:  14%|▏| 505/3628 [12:28<3:29:04,  4"
     ]
    },
    {
     "name": "stdout",
     "output_type": "stream",
     "text": [
      "[download] 100% of    1.15MiB in 00:00:01 at 972.01KiB/s               \n",
      "[ExtractAudio] Destination: ..\\data\\raw\\dementia_diaries\\audio\\James on the perils of public speaking as a person with dementia_1016226229.wav\n"
     ]
    },
    {
     "name": "stderr",
     "output_type": "stream",
     "text": [
      "Downloading Diaries:  14%|▏| 506/3628 [12:32<3:26:54,  3"
     ]
    },
    {
     "name": "stdout",
     "output_type": "stream",
     "text": [
      "[download] 100% of    1.11MiB in 00:00:01 at 966.93KiB/s               \n",
      "[ExtractAudio] Destination: ..\\data\\raw\\dementia_diaries\\audio\\James on some of the challenges of public speaking as a person with dementia_1016225869.wav\n"
     ]
    },
    {
     "name": "stderr",
     "output_type": "stream",
     "text": [
      "Downloading Diaries:  14%|▏| 507/3628 [12:36<3:37:27,  4"
     ]
    },
    {
     "name": "stdout",
     "output_type": "stream",
     "text": [
      "[download] 100% of    1.07MiB in 00:00:01 at 998.80KiB/s               \n",
      "[ExtractAudio] Destination: ..\\data\\raw\\dementia_diaries\\audio\\James speaks about the issue of the language used to describe dementia._1016225479.wav\n"
     ]
    },
    {
     "name": "stderr",
     "output_type": "stream",
     "text": [
      "Downloading Diaries:  14%|▏| 508/3628 [12:40<3:35:45,  4"
     ]
    },
    {
     "name": "stdout",
     "output_type": "stream",
     "text": [
      "[download] 100% of  416.38KiB in 00:00:00 at 701.68KiB/s               \n",
      "[ExtractAudio] Destination: ..\\data\\raw\\dementia_diaries\\audio\\James wonders how children might paint their impression of a person with dementia._1016224807.wav\n"
     ]
    },
    {
     "name": "stderr",
     "output_type": "stream",
     "text": [
      "Downloading Diaries:  14%|▏| 509/3628 [12:45<3:38:59,  4"
     ]
    },
    {
     "name": "stdout",
     "output_type": "stream",
     "text": [
      "[download] 100% of  407.04KiB in 00:00:00 at 779.64KiB/s               \n",
      "[ExtractAudio] Destination: ..\\data\\raw\\dementia_diaries\\audio\\James is sporting a new haircut._1016224351.wav\n"
     ]
    },
    {
     "name": "stderr",
     "output_type": "stream",
     "text": [
      "Downloading Diaries:  14%|▏| 510/3628 [12:49<3:43:33,  4"
     ]
    },
    {
     "name": "stdout",
     "output_type": "stream",
     "text": [
      "[download] 100% of  910.71KiB in 00:00:01 at 904.56KiB/s                 \n",
      "[ExtractAudio] Destination: ..\\data\\raw\\dementia_diaries\\audio\\Agnes worries about the impact of being locked down on her immune system._1016223622.wav\n"
     ]
    },
    {
     "name": "stderr",
     "output_type": "stream",
     "text": [
      "Downloading Diaries:  14%|▏| 511/3628 [12:54<3:54:38,  4"
     ]
    },
    {
     "name": "stdout",
     "output_type": "stream",
     "text": [
      "[download] 100% of  975.35KiB in 00:00:01 at 952.73KiB/s                 \n",
      "[ExtractAudio] Destination: ..\\data\\raw\\dementia_diaries\\audio\\Stephen is feeling very well looked after._1016221153.wav\n"
     ]
    },
    {
     "name": "stderr",
     "output_type": "stream",
     "text": [
      "Downloading Diaries:  14%|▏| 512/3628 [12:58<3:41:36,  4"
     ]
    },
    {
     "name": "stdout",
     "output_type": "stream",
     "text": [
      "[download] 100% of  781.25KiB in 00:00:00 at 857.34KiB/s                 \n",
      "[ExtractAudio] Destination: ..\\data\\raw\\dementia_diaries\\audio\\Stephen is experiencing a lot of pain, and feels he will have to step up his pain relief._1016220490.wav\n"
     ]
    },
    {
     "name": "stderr",
     "output_type": "stream",
     "text": [
      "Downloading Diaries:  14%|▏| 513/3628 [13:01<3:29:37,  4"
     ]
    },
    {
     "name": "stdout",
     "output_type": "stream",
     "text": [
      "[download] 100% of  996.29KiB in 00:00:01 at 833.92KiB/s               \n",
      "[ExtractAudio] Destination: ..\\data\\raw\\dementia_diaries\\audio\\Stephen's sciatica isn�t improving, and nor is the weather._1016219311.wav\n"
     ]
    },
    {
     "name": "stderr",
     "output_type": "stream",
     "text": [
      "Downloading Diaries:  14%|▏| 514/3628 [13:06<3:37:22,  4"
     ]
    },
    {
     "name": "stdout",
     "output_type": "stream",
     "text": [
      "[download] 100% of  916.76KiB in 00:00:01 at 818.47KiB/s               \n",
      "[ExtractAudio] Destination: ..\\data\\raw\\dementia_diaries\\audio\\Calls from his sister and daughter brightens a long weekend._1016199523.wav\n"
     ]
    },
    {
     "name": "stderr",
     "output_type": "stream",
     "text": [
      "Downloading Diaries:  14%|▏| 515/3628 [13:09<3:25:15,  3"
     ]
    },
    {
     "name": "stdout",
     "output_type": "stream",
     "text": [
      "[download] 100% of  946.53KiB in 00:00:01 at 931.90KiB/s                 \n",
      "[ExtractAudio] Destination: ..\\data\\raw\\dementia_diaries\\audio\\Stephen�s sciatica is really debilitating at the moment, and he might have to make a few changes._1016198890.wav\n"
     ]
    },
    {
     "name": "stderr",
     "output_type": "stream",
     "text": [
      "Downloading Diaries:  14%|▏| 516/3628 [13:13<3:23:12,  3"
     ]
    },
    {
     "name": "stdout",
     "output_type": "stream",
     "text": [
      "[download] 100% of  699.04KiB in 00:00:00 at 772.63KiB/s                 \n",
      "[ExtractAudio] Destination: ..\\data\\raw\\dementia_diaries\\audio\\In her first diary, Allison explains how difficult lockdown is feeling in Northern Ireland._1016197498.wav\n"
     ]
    },
    {
     "name": "stderr",
     "output_type": "stream",
     "text": [
      "Downloading Diaries:  14%|▏| 517/3628 [13:18<3:34:23,  4"
     ]
    },
    {
     "name": "stdout",
     "output_type": "stream",
     "text": [
      "[download] 100% of  459.07KiB in 00:00:00 at 701.73KiB/s               \n",
      "[ExtractAudio] Destination: ..\\data\\raw\\dementia_diaries\\audio\\Wayne is overjoyed to be outside in the sun. Fabulous._1016174287.wav\n"
     ]
    },
    {
     "name": "stderr",
     "output_type": "stream",
     "text": [
      "Downloading Diaries:  14%|▏| 518/3628 [13:21<3:22:45,  3"
     ]
    },
    {
     "name": "stdout",
     "output_type": "stream",
     "text": [
      "[download] 100% of  904.88KiB in 00:00:01 at 758.66KiB/s               \n",
      "[ExtractAudio] Destination: ..\\data\\raw\\dementia_diaries\\audio\\Frances remains alive despite the best efforts of her dog, and much to the disappointment of some._1016173654.wav\n"
     ]
    },
    {
     "name": "stderr",
     "output_type": "stream",
     "text": [
      "Downloading Diaries:  14%|▏| 519/3628 [13:26<3:30:08,  4"
     ]
    },
    {
     "name": "stdout",
     "output_type": "stream",
     "text": [
      "[download] 100% of  872.55KiB in 00:00:01 at 741.67KiB/s               \n",
      "[ExtractAudio] Destination: ..\\data\\raw\\dementia_diaries\\audio\\Dory wonders why people with dementia can�t donate blood�_1016172700.wav\n"
     ]
    },
    {
     "name": "stderr",
     "output_type": "stream",
     "text": [
      "Downloading Diaries:  14%|▏| 520/3628 [13:29<3:25:54,  3"
     ]
    },
    {
     "name": "stdout",
     "output_type": "stream",
     "text": [
      "[download] 100% of  609.22KiB in 00:00:00 at 727.06KiB/s                 \n",
      "[ExtractAudio] Destination: ..\\data\\raw\\dementia_diaries\\audio\\Dory�s been super busy at �lost the plot� and is relaxing with a bit of rugby_1016171458.wav\n"
     ]
    },
    {
     "name": "stderr",
     "output_type": "stream",
     "text": [
      "Downloading Diaries:  14%|▏| 521/3628 [13:35<3:47:23,  4"
     ]
    },
    {
     "name": "stdout",
     "output_type": "stream",
     "text": [
      "[download] 100% of    1.72MiB in 00:00:02 at 723.52KiB/s               \n",
      "[ExtractAudio] Destination: ..\\data\\raw\\dementia_diaries\\audio\\In this brilliant diary Keith explores the impact of words like 'demented'_1011266305.wav\n"
     ]
    },
    {
     "name": "stderr",
     "output_type": "stream",
     "text": [
      "Downloading Diaries:  14%|▏| 522/3628 [13:39<3:51:17,  4"
     ]
    },
    {
     "name": "stdout",
     "output_type": "stream",
     "text": [
      "[download] 100% of  529.76KiB in 00:00:00 at 613.32KiB/s                 \n",
      "[ExtractAudio] Destination: ..\\data\\raw\\dementia_diaries\\audio\\Gail's powerful poem addressed the need for people with dementia to stay connected during lockdown._1011148297.wav\n"
     ]
    },
    {
     "name": "stderr",
     "output_type": "stream",
     "text": [
      "Downloading Diaries:  14%|▏| 523/3628 [13:43<3:39:58,  4"
     ]
    },
    {
     "name": "stdout",
     "output_type": "stream",
     "text": [
      "[download] 100% of  467.63KiB in 00:00:00 at 631.37KiB/s                 \n",
      "[ExtractAudio] Destination: ..\\data\\raw\\dementia_diaries\\audio\\In this lovely diary we join Lorraine in Capstone park. It�s a lovely soundscape._1011146956.wav\n"
     ]
    },
    {
     "name": "stderr",
     "output_type": "stream",
     "text": [
      "Downloading Diaries:  14%|▏| 524/3628 [13:47<3:37:06,  4"
     ]
    },
    {
     "name": "stdout",
     "output_type": "stream",
     "text": [
      "[download] 100% of  814.54KiB in 00:00:00 at 868.44KiB/s                 \n",
      "[ExtractAudio] Destination: ..\\data\\raw\\dementia_diaries\\audio\\Post-diagnostic support is much improved. But what to do if it is terrifying_1011102598.wav\n"
     ]
    },
    {
     "name": "stderr",
     "output_type": "stream",
     "text": [
      "Downloading Diaries:  14%|▏| 525/3628 [13:51<3:34:04,  4"
     ]
    },
    {
     "name": "stdout",
     "output_type": "stream",
     "text": [
      "[download] 100% of  888.76KiB in 00:00:01 at 841.35KiB/s               \n",
      "[ExtractAudio] Destination: ..\\data\\raw\\dementia_diaries\\audio\\James� life with dementia has been so much longer than he was led to believe._1011102400.wav\n"
     ]
    },
    {
     "name": "stderr",
     "output_type": "stream",
     "text": [
      "Downloading Diaries:  14%|▏| 526/3628 [13:56<3:37:19,  4"
     ]
    },
    {
     "name": "stdout",
     "output_type": "stream",
     "text": [
      "[download] 100% of  598.92KiB in 00:00:00 at 690.38KiB/s                 \n",
      "[ExtractAudio] Destination: ..\\data\\raw\\dementia_diaries\\audio\\James wonders about the safety of driving whilst in shock._1011102100.wav\n"
     ]
    },
    {
     "name": "stderr",
     "output_type": "stream",
     "text": [
      "Downloading Diaries:  15%|▏| 527/3628 [13:59<3:22:59,  3"
     ]
    },
    {
     "name": "stdout",
     "output_type": "stream",
     "text": [
      "[download] 100% of  581.51KiB in 00:00:00 at 825.96KiB/s               \n",
      "[ExtractAudio] Destination: ..\\data\\raw\\dementia_diaries\\audio\\James wonders if it�s rude to eat while ZOOMing._1011101842.wav\n"
     ]
    },
    {
     "name": "stderr",
     "output_type": "stream",
     "text": [
      "Downloading Diaries:  15%|▏| 528/3628 [14:02<3:11:56,  3"
     ]
    },
    {
     "name": "stdout",
     "output_type": "stream",
     "text": [
      "[download] 100% of  538.02KiB in 00:00:00 at 734.46KiB/s               \n",
      "[ExtractAudio] Destination: ..\\data\\raw\\dementia_diaries\\audio\\James raises a very good question about MCI and driving._1011101299.wav\n"
     ]
    },
    {
     "name": "stderr",
     "output_type": "stream",
     "text": [
      "Downloading Diaries:  15%|▏| 529/3628 [14:06<3:09:17,  3"
     ]
    },
    {
     "name": "stdout",
     "output_type": "stream",
     "text": [
      "[download] 100% of    1.57MiB in 00:00:01 at 992.11KiB/s               \n",
      "[ExtractAudio] Destination: ..\\data\\raw\\dementia_diaries\\audio\\Dreane meets a blob in the dead of the night. This is brilliant._1011101026.wav\n"
     ]
    },
    {
     "name": "stderr",
     "output_type": "stream",
     "text": [
      "Downloading Diaries:  15%|▏| 530/3628 [14:10<3:15:10,  3"
     ]
    },
    {
     "name": "stdout",
     "output_type": "stream",
     "text": [
      "[download] 100% of  845.74KiB in 00:00:01 at 840.13KiB/s                 \n",
      "[ExtractAudio] Destination: ..\\data\\raw\\dementia_diaries\\audio\\For Dreane, there are some things best forgotten. Amen to that._1011100105.wav\n"
     ]
    },
    {
     "name": "stderr",
     "output_type": "stream",
     "text": [
      "Downloading Diaries:  15%|▏| 531/3628 [14:15<3:40:47,  4"
     ]
    },
    {
     "name": "stdout",
     "output_type": "stream",
     "text": [
      "[download] 100% of    1.66MiB in 00:00:01 at 987.15KiB/s               \n",
      "[ExtractAudio] Destination: ..\\data\\raw\\dementia_diaries\\audio\\Dreane ponders the utility of �mind over matter� in pain management with dementia._1011099829.wav\n"
     ]
    },
    {
     "name": "stderr",
     "output_type": "stream",
     "text": [
      "Downloading Diaries:  15%|▏| 532/3628 [14:20<3:46:31,  4"
     ]
    },
    {
     "name": "stdout",
     "output_type": "stream",
     "text": [
      "[download] 100% of    1.18MiB in 00:00:01 at 893.94KiB/s               \n",
      "[ExtractAudio] Destination: ..\\data\\raw\\dementia_diaries\\audio\\Clive sticks up for his rights and gets it sorted. Good work !_1011099625.wav\n"
     ]
    },
    {
     "name": "stderr",
     "output_type": "stream",
     "text": [
      "Downloading Diaries:  15%|▏| 533/3628 [14:24<3:41:02,  4"
     ]
    },
    {
     "name": "stdout",
     "output_type": "stream",
     "text": [
      "[download] 100% of  247.70KiB in 00:00:00 at 506.52KiB/s               \n",
      "[ExtractAudio] Destination: ..\\data\\raw\\dementia_diaries\\audio\\Raymond reports from as sunny Oldham_1011099337.wav\n"
     ]
    },
    {
     "name": "stderr",
     "output_type": "stream",
     "text": [
      "Downloading Diaries:  15%|▏| 534/3628 [14:27<3:27:58,  4"
     ]
    },
    {
     "name": "stdout",
     "output_type": "stream",
     "text": [
      "[download] 100% of    1.38MiB in 00:00:01 at 954.50KiB/s               \n",
      "[ExtractAudio] Destination: ..\\data\\raw\\dementia_diaries\\audio\\Julie describes her first foray into town for a long time._1011099058.wav\n"
     ]
    },
    {
     "name": "stderr",
     "output_type": "stream",
     "text": [
      "Downloading Diaries:  15%|▏| 535/3628 [14:31<3:29:50,  4"
     ]
    },
    {
     "name": "stdout",
     "output_type": "stream",
     "text": [
      "[download] 100% of  931.62KiB in 00:00:01 at 883.24KiB/s               \n",
      "[ExtractAudio] Destination: ..\\data\\raw\\dementia_diaries\\audio\\Clive's been dealt a bit of blow by a letter he�s received._1011098842.wav\n"
     ]
    },
    {
     "name": "stderr",
     "output_type": "stream",
     "text": [
      "Downloading Diaries:  15%|▏| 536/3628 [14:35<3:19:47,  3"
     ]
    },
    {
     "name": "stdout",
     "output_type": "stream",
     "text": [
      "[download] 100% of  823.38KiB in 00:00:00 at 896.47KiB/s                 \n",
      "[ExtractAudio] Destination: ..\\data\\raw\\dementia_diaries\\audio\\James wonders if dying peacefully in ones sleep is all it�s cracked up to be._1011098590.wav\n"
     ]
    },
    {
     "name": "stderr",
     "output_type": "stream",
     "text": [
      "Downloading Diaries:  15%|▏| 537/3628 [14:39<3:21:34,  3"
     ]
    },
    {
     "name": "stdout",
     "output_type": "stream",
     "text": [
      "[download] 100% of  419.56KiB in 00:00:00 at 655.30KiB/s               \n",
      "[ExtractAudio] Destination: ..\\data\\raw\\dementia_diaries\\audio\\James is concerned for the welfare of those who have been unable to get a diagnosis during COVID._1011098032.wav\n"
     ]
    },
    {
     "name": "stderr",
     "output_type": "stream",
     "text": [
      "Downloading Diaries:  15%|▏| 538/3628 [14:43<3:18:45,  3"
     ]
    },
    {
     "name": "stdout",
     "output_type": "stream",
     "text": [
      "[download] 100% of  347.99KiB in 00:00:00 at 682.17KiB/s               \n",
      "[ExtractAudio] Destination: ..\\data\\raw\\dementia_diaries\\audio\\James description of his walking style is a delight._1011097558.wav\n"
     ]
    },
    {
     "name": "stderr",
     "output_type": "stream",
     "text": [
      "Downloading Diaries:  15%|▏| 539/3628 [14:48<3:37:27,  4"
     ]
    },
    {
     "name": "stdout",
     "output_type": "stream",
     "text": [
      "[download] 100% of    1.62MiB in 00:00:01 at 952.59KiB/s               \n",
      "[ExtractAudio] Destination: ..\\data\\raw\\dementia_diaries\\audio\\Dreane knows too well how families who have experienced traumatic loss feel._1011097153.wav\n"
     ]
    },
    {
     "name": "stderr",
     "output_type": "stream",
     "text": [
      "Downloading Diaries:  15%|▏| 540/3628 [14:53<3:48:29,  4"
     ]
    },
    {
     "name": "stdout",
     "output_type": "stream",
     "text": [
      "[download] 100% of    1.30MiB in 00:00:01 at 997.90KiB/s               \n",
      "[ExtractAudio] Destination: ..\\data\\raw\\dementia_diaries\\audio\\Dreane has some thoughts about THAT interview._1011096892.wav\n"
     ]
    },
    {
     "name": "stderr",
     "output_type": "stream",
     "text": [
      "Downloading Diaries:  15%|▏| 541/3628 [14:57<3:46:28,  4"
     ]
    },
    {
     "name": "stdout",
     "output_type": "stream",
     "text": [
      "[download] 100% of    1.18MiB in 00:00:01 at 974.18KiB/s               \n",
      "[ExtractAudio] Destination: ..\\data\\raw\\dementia_diaries\\audio\\The birds are suffering, the mice too, but Ratty remains unscathed._1011096082.wav\n"
     ]
    },
    {
     "name": "stderr",
     "output_type": "stream",
     "text": [
      "Downloading Diaries:  15%|▏| 542/3628 [15:01<3:41:58,  4"
     ]
    },
    {
     "name": "stdout",
     "output_type": "stream",
     "text": [
      "[download] 100% of  918.92KiB in 00:00:01 at 870.22KiB/s               \n",
      "[ExtractAudio] Destination: ..\\data\\raw\\dementia_diaries\\audio\\Stephen is coming out of shielding soon, but remains  cautious._1011094915.wav\n"
     ]
    },
    {
     "name": "stderr",
     "output_type": "stream",
     "text": [
      "Downloading Diaries:  15%|▏| 543/3628 [15:04<3:25:26,  4"
     ]
    },
    {
     "name": "stdout",
     "output_type": "stream",
     "text": [
      "[download] 100% of  911.60KiB in 00:00:01 at 876.46KiB/s               \n",
      "[ExtractAudio] Destination: ..\\data\\raw\\dementia_diaries\\audio\\A run of sunny weather has lifted Stephen�s spirits._1011094504.wav\n"
     ]
    },
    {
     "name": "stderr",
     "output_type": "stream",
     "text": [
      "Downloading Diaries:  15%|▏| 544/3628 [15:08<3:18:22,  3"
     ]
    },
    {
     "name": "stdout",
     "output_type": "stream",
     "text": [
      "[download] 100% of  877.27KiB in 00:00:01 at 831.89KiB/s               \n",
      "[ExtractAudio] Destination: ..\\data\\raw\\dementia_diaries\\audio\\Stephen will never forget his Mum._1011094189.wav\n"
     ]
    },
    {
     "name": "stderr",
     "output_type": "stream",
     "text": [
      "Downloading Diaries:  15%|▏| 545/3628 [15:12<3:18:12,  3"
     ]
    },
    {
     "name": "stdout",
     "output_type": "stream",
     "text": [
      "[download] 100% of  926.34KiB in 00:00:00 at 951.51KiB/s                 \n",
      "[ExtractAudio] Destination: ..\\data\\raw\\dementia_diaries\\audio\\Stephen ponders these �strange days�_1011093961.wav\n"
     ]
    },
    {
     "name": "stderr",
     "output_type": "stream",
     "text": [
      "Downloading Diaries:  15%|▏| 546/3628 [15:15<3:15:15,  3"
     ]
    },
    {
     "name": "stdout",
     "output_type": "stream",
     "text": [
      "[download] 100% of  892.77KiB in 00:00:01 at 873.19KiB/s               \n",
      "[ExtractAudio] Destination: ..\\data\\raw\\dementia_diaries\\audio\\Stephen is alarmed to wake up with what he thinks is a delayed reaction to his jab._1011093727.wav\n"
     ]
    },
    {
     "name": "stderr",
     "output_type": "stream",
     "text": [
      "Downloading Diaries:  15%|▏| 547/3628 [15:20<3:22:20,  3"
     ]
    },
    {
     "name": "stdout",
     "output_type": "stream",
     "text": [
      "[download] 100% of  898.19KiB in 00:00:00 at 900.94KiB/s                 \n",
      "[ExtractAudio] Destination: ..\\data\\raw\\dementia_diaries\\audio\\Stephen is getting frustrated trying to get his stairlift sorted._1011091573.wav\n"
     ]
    },
    {
     "name": "stderr",
     "output_type": "stream",
     "text": [
      "Downloading Diaries:  15%|▏| 548/3628 [15:25<3:42:26,  4"
     ]
    },
    {
     "name": "stdout",
     "output_type": "stream",
     "text": [
      "[download] 100% of    1.51MiB in 00:00:03 at 510.81KiB/s               \n",
      "[ExtractAudio] Destination: ..\\data\\raw\\dementia_diaries\\audio\\Anyone know a voice recognition software that understands Lanky_1011091120.wav\n"
     ]
    },
    {
     "name": "stderr",
     "output_type": "stream",
     "text": [
      "Downloading Diaries:  15%|▏| 549/3628 [15:29<3:33:44,  4"
     ]
    },
    {
     "name": "stdout",
     "output_type": "stream",
     "text": [
      "[download] 100% of    1.03MiB in 00:00:01 at 764.56KiB/s               \n",
      "[ExtractAudio] Destination: ..\\data\\raw\\dementia_diaries\\audio\\Gail describes a very special moment, well two in fact._1011090355.wav\n"
     ]
    },
    {
     "name": "stderr",
     "output_type": "stream",
     "text": [
      "Downloading Diaries:  15%|▏| 550/3628 [15:33<3:29:29,  4"
     ]
    },
    {
     "name": "stdout",
     "output_type": "stream",
     "text": [
      "[download] 100% of    1.03MiB in 00:00:01 at 712.05KiB/s               \n",
      "[ExtractAudio] Destination: ..\\data\\raw\\dementia_diaries\\audio\\Frances suspects a plot is afoot. Or should that be afeet All 4 of them._1011090061.wav\n"
     ]
    },
    {
     "name": "stderr",
     "output_type": "stream",
     "text": [
      "Downloading Diaries:  15%|▏| 551/3628 [15:36<3:21:41,  3"
     ]
    },
    {
     "name": "stdout",
     "output_type": "stream",
     "text": [
      "[download] 100% of  738.27KiB in 00:00:00 at 821.90KiB/s                 \n",
      "[ExtractAudio] Destination: ..\\data\\raw\\dementia_diaries\\audio\\Jacqui feels good about taking control of her health and fitness._1005523978.wav\n"
     ]
    },
    {
     "name": "stderr",
     "output_type": "stream",
     "text": [
      "Downloading Diaries:  15%|▏| 552/3628 [15:41<3:29:40,  4"
     ]
    },
    {
     "name": "stdout",
     "output_type": "stream",
     "text": [
      "[download] 100% of  334.62KiB in 00:00:00 at 610.50KiB/s               \n",
      "[ExtractAudio] Destination: ..\\data\\raw\\dementia_diaries\\audio\\Clive misses giving talks . We�ll have to see what we can do about that Clive._1005523699.wav\n"
     ]
    },
    {
     "name": "stderr",
     "output_type": "stream",
     "text": [
      "Downloading Diaries:  15%|▏| 553/3628 [15:45<3:27:15,  4"
     ]
    },
    {
     "name": "stdout",
     "output_type": "stream",
     "text": [
      "[download] 100% of  807.02KiB in 00:00:00 at 860.59KiB/s                 \n",
      "[ExtractAudio] Destination: ..\\data\\raw\\dementia_diaries\\audio\\Clive misses giving talks . We�ll have to see what we can do about that Clive._1005523348.wav\n"
     ]
    },
    {
     "name": "stderr",
     "output_type": "stream",
     "text": [
      "Downloading Diaries:  15%|▏| 554/3628 [15:48<3:19:41,  3"
     ]
    },
    {
     "name": "stdout",
     "output_type": "stream",
     "text": [
      "[download] 100% of  484.01KiB in 00:00:00 at 772.16KiB/s               \n",
      "[ExtractAudio] Destination: ..\\data\\raw\\dementia_diaries\\audio\\Being in the company other other people with dementia is important, but......_1005522874.wav\n"
     ]
    },
    {
     "name": "stderr",
     "output_type": "stream",
     "text": [
      "Downloading Diaries:  15%|▏| 555/3628 [15:52<3:20:03,  3"
     ]
    },
    {
     "name": "stdout",
     "output_type": "stream",
     "text": [
      "[download] 100% of  504.29KiB in 00:00:00 at 846.42KiB/s               \n",
      "[ExtractAudio] Destination: ..\\data\\raw\\dementia_diaries\\audio\\Good advice from James about running a meeting._1005521203.wav\n"
     ]
    },
    {
     "name": "stderr",
     "output_type": "stream",
     "text": [
      "Downloading Diaries:  15%|▏| 556/3628 [15:58<3:44:39,  4"
     ]
    },
    {
     "name": "stdout",
     "output_type": "stream",
     "text": [
      "[download] 100% of    2.40MiB in 00:00:02 at 1.08MiB/s                 \n",
      "[ExtractAudio] Destination: ..\\data\\raw\\dementia_diaries\\audio\\James reflects on some of the issues involved in paying people with dementia_1005520834.wav\n"
     ]
    },
    {
     "name": "stderr",
     "output_type": "stream",
     "text": [
      "Downloading Diaries:  15%|▏| 557/3628 [16:01<3:32:30,  4"
     ]
    },
    {
     "name": "stdout",
     "output_type": "stream",
     "text": [
      "[download] 100% of  438.38KiB in 00:00:00 at 697.43KiB/s               \n",
      "[ExtractAudio] Destination: ..\\data\\raw\\dementia_diaries\\audio\\James reads a brilliant little section of one of his songs. Not for the faint-hearted,_1005519283.wav\n"
     ]
    },
    {
     "name": "stderr",
     "output_type": "stream",
     "text": [
      "Downloading Diaries:  15%|▏| 558/3628 [16:05<3:22:00,  3"
     ]
    },
    {
     "name": "stdout",
     "output_type": "stream",
     "text": [
      "[download] 100% of  496.06KiB in 00:00:00 at 793.53KiB/s               \n",
      "[ExtractAudio] Destination: ..\\data\\raw\\dementia_diaries\\audio\\Clive describes a lovely walk in Shropshire._1005518737.wav\n"
     ]
    },
    {
     "name": "stderr",
     "output_type": "stream",
     "text": [
      "Downloading Diaries:  15%|▏| 559/3628 [16:08<3:09:54,  3"
     ]
    },
    {
     "name": "stdout",
     "output_type": "stream",
     "text": [
      "[download] 100% of  501.73KiB in 00:00:00 at 680.27KiB/s               \n",
      "[ExtractAudio] Destination: ..\\data\\raw\\dementia_diaries\\audio\\Jacqui is looking forward to some Jacqui-time. Hope you enjoy it Jacqui._1005518125.wav\n"
     ]
    },
    {
     "name": "stderr",
     "output_type": "stream",
     "text": [
      "Downloading Diaries:  15%|▏| 560/3628 [16:11<3:08:08,  3"
     ]
    },
    {
     "name": "stdout",
     "output_type": "stream",
     "text": [
      "[download] 100% of  483.45KiB in 00:00:00 at 733.86KiB/s               \n",
      "[ExtractAudio] Destination: ..\\data\\raw\\dementia_diaries\\audio\\James finds he is struggling to understand accents._1005517651.wav\n"
     ]
    },
    {
     "name": "stderr",
     "output_type": "stream",
     "text": [
      "Downloading Diaries:  15%|▏| 561/3628 [16:15<3:05:19,  3"
     ]
    },
    {
     "name": "stdout",
     "output_type": "stream",
     "text": [
      "[download] 100% of  478.53KiB in 00:00:00 at 701.19KiB/s               \n",
      "[ExtractAudio] Destination: ..\\data\\raw\\dementia_diaries\\audio\\James feels like he needs a holiday away from screens. Can we come with you James_1005517219.wav\n"
     ]
    },
    {
     "name": "stderr",
     "output_type": "stream",
     "text": [
      "Downloading Diaries:  15%|▏| 562/3628 [16:19<3:12:02,  3"
     ]
    },
    {
     "name": "stdout",
     "output_type": "stream",
     "text": [
      "[download] 100% of  994.71KiB in 00:00:01 at 883.13KiB/s               \n",
      "[ExtractAudio] Destination: ..\\data\\raw\\dementia_diaries\\audio\\Stephen�s experiencing trouble remembering everyday words._1005516796.wav\n"
     ]
    },
    {
     "name": "stderr",
     "output_type": "stream",
     "text": [
      "Downloading Diaries:  16%|▏| 563/3628 [16:24<3:28:37,  4"
     ]
    },
    {
     "name": "stdout",
     "output_type": "stream",
     "text": [
      "[download] 100% of  970.76KiB in 00:00:01 at 858.20KiB/s               \n",
      "[ExtractAudio] Destination: ..\\data\\raw\\dementia_diaries\\audio\\Stephen loves his ZOOM meetings but is longing to meet people face to face again._1005516454.wav\n"
     ]
    },
    {
     "name": "stderr",
     "output_type": "stream",
     "text": [
      "Downloading Diaries:  16%|▏| 564/3628 [16:27<3:16:50,  3"
     ]
    },
    {
     "name": "stdout",
     "output_type": "stream",
     "text": [
      "[download] 100% of  984.69KiB in 00:00:01 at 964.24KiB/s                 \n",
      "[ExtractAudio] Destination: ..\\data\\raw\\dementia_diaries\\audio\\This diary will make you hungry if you�ve not eaten. Or perhaps even if you have._1005516169.wav\n"
     ]
    },
    {
     "name": "stderr",
     "output_type": "stream",
     "text": [
      "Downloading Diaries:  16%|▏| 565/3628 [16:30<3:01:30,  3"
     ]
    },
    {
     "name": "stdout",
     "output_type": "stream",
     "text": [
      "[download] 100% of  616.66KiB in 00:00:00 at 790.95KiB/s                 \n",
      "[ExtractAudio] Destination: ..\\data\\raw\\dementia_diaries\\audio\\It�s a lovely day in Cornwall, but Stephen�s dementia is playing up today._1005515785.wav\n"
     ]
    },
    {
     "name": "stderr",
     "output_type": "stream",
     "text": [
      "Downloading Diaries:  16%|▏| 566/3628 [16:34<3:01:55,  3"
     ]
    },
    {
     "name": "stdout",
     "output_type": "stream",
     "text": [
      "[download] 100% of  818.42KiB in 00:00:00 at 859.79KiB/s                 \n",
      "[ExtractAudio] Destination: ..\\data\\raw\\dementia_diaries\\audio\\The arrival of a new TV lifts Stephen�s spirits._1005515419.wav\n"
     ]
    },
    {
     "name": "stderr",
     "output_type": "stream",
     "text": [
      "Downloading Diaries:  16%|▏| 567/3628 [16:48<5:43:24,  6"
     ]
    },
    {
     "name": "stdout",
     "output_type": "stream",
     "text": [
      "[download] 100% of   11.18MiB in 00:00:11 at 964.87KiB/s                 \n",
      "[ExtractAudio] Destination: ..\\data\\raw\\dementia_diaries\\audio\\George takes us on a glorious tramp through North Shropshire as spring beckons._1005512104.wav\n"
     ]
    },
    {
     "name": "stderr",
     "output_type": "stream",
     "text": [
      "Downloading Diaries:  16%|▏| 568/3628 [16:54<5:34:03,  6"
     ]
    },
    {
     "name": "stdout",
     "output_type": "stream",
     "text": [
      "[download] 100% of  593.06KiB in 00:00:00 at 708.52KiB/s                 \n",
      "[ExtractAudio] Destination: ..\\data\\raw\\dementia_diaries\\audio\\A chiff-chaff tells George that spring is coming._1005511849.wav\n"
     ]
    },
    {
     "name": "stderr",
     "output_type": "stream",
     "text": [
      "Downloading Diaries:  16%|▏| 569/3628 [16:58<5:03:53,  5"
     ]
    },
    {
     "name": "stdout",
     "output_type": "stream",
     "text": [
      "[download] 100% of    1.38MiB in 00:00:01 at 771.48KiB/s               \n",
      "[ExtractAudio] Destination: ..\\data\\raw\\dementia_diaries\\audio\\Keith�s struggling to get support in hospital following a collapse. Hope you recover soon Keith._1005509845.wav\n"
     ]
    },
    {
     "name": "stderr",
     "output_type": "stream",
     "text": [
      "Downloading Diaries:  16%|▏| 570/3628 [17:03<4:51:14,  5"
     ]
    },
    {
     "name": "stdout",
     "output_type": "stream",
     "text": [
      "[download] 100% of    1.43MiB in 00:00:01 at 766.23KiB/s               \n",
      "[ExtractAudio] Destination: ..\\data\\raw\\dementia_diaries\\audio\\A beautiful reminder not to take for granted the everyday beauty all around us._999247681.wav\n"
     ]
    },
    {
     "name": "stderr",
     "output_type": "stream",
     "text": [
      "Downloading Diaries:  16%|▏| 571/3628 [17:07<4:21:02,  5"
     ]
    },
    {
     "name": "stdout",
     "output_type": "stream",
     "text": [
      "[download] 100% of  480.94KiB in 00:00:00 at 673.14KiB/s               \n",
      "[ExtractAudio] Destination: ..\\data\\raw\\dementia_diaries\\audio\\Raymond reports on a busy week. Great to see you at the ZOOM this week!_999136186.wav\n"
     ]
    },
    {
     "name": "stderr",
     "output_type": "stream",
     "text": [
      "Downloading Diaries:  16%|▏| 572/3628 [17:12<4:08:05,  4"
     ]
    },
    {
     "name": "stdout",
     "output_type": "stream",
     "text": [
      "[download] 100% of  459.01KiB in 00:00:00 at 707.74KiB/s               \n",
      "[ExtractAudio] Destination: ..\\data\\raw\\dementia_diaries\\audio\\Clive finds physio works better over video than over the �phone._999135739.wav\n"
     ]
    },
    {
     "name": "stderr",
     "output_type": "stream",
     "text": [
      "Downloading Diaries:  16%|▏| 573/3628 [17:15<3:53:12,  4"
     ]
    },
    {
     "name": "stdout",
     "output_type": "stream",
     "text": [
      "[download] 100% of  319.53KiB in 00:00:00 at 614.21KiB/s               \n",
      "[ExtractAudio] Destination: ..\\data\\raw\\dementia_diaries\\audio\\James finds a silver lining in lockdown._999135499.wav\n"
     ]
    },
    {
     "name": "stderr",
     "output_type": "stream",
     "text": [
      "Downloading Diaries:  16%|▏| 574/3628 [17:19<3:40:43,  4"
     ]
    },
    {
     "name": "stdout",
     "output_type": "stream",
     "text": [
      "[download] 100% of  440.14KiB in 00:00:00 at 674.72KiB/s               \n",
      "[ExtractAudio] Destination: ..\\data\\raw\\dementia_diaries\\audio\\James wonders if his cataract operation will help him to recognise people more often._999133873.wav\n"
     ]
    },
    {
     "name": "stderr",
     "output_type": "stream",
     "text": [
      "Downloading Diaries:  16%|▏| 575/3628 [17:24<3:43:28,  4"
     ]
    },
    {
     "name": "stdout",
     "output_type": "stream",
     "text": [
      "[download] 100% of  502.52KiB in 00:00:00 at 812.80KiB/s               \n",
      "[ExtractAudio] Destination: ..\\data\\raw\\dementia_diaries\\audio\\James wonders about the issue of consent for COVID jabs in people with advanced dementia._999133456.wav\n"
     ]
    },
    {
     "name": "stderr",
     "output_type": "stream",
     "text": [
      "Downloading Diaries:  16%|▏| 576/3628 [17:28<3:36:47,  4"
     ]
    },
    {
     "name": "stdout",
     "output_type": "stream",
     "text": [
      "[download] 100% of  561.99KiB in 00:00:00 at 757.22KiB/s               \n",
      "[ExtractAudio] Destination: ..\\data\\raw\\dementia_diaries\\audio\\James wonders why hospitals are getting colder._999132892.wav\n"
     ]
    },
    {
     "name": "stderr",
     "output_type": "stream",
     "text": [
      "Downloading Diaries:  16%|▏| 577/3628 [17:32<3:32:58,  4"
     ]
    },
    {
     "name": "stdout",
     "output_type": "stream",
     "text": [
      "[download] 100% of  590.60KiB in 00:00:00 at 731.42KiB/s               \n",
      "[ExtractAudio] Destination: ..\\data\\raw\\dementia_diaries\\audio\\Clive regretfully says goodbye to his power tools._999131620.wav\n"
     ]
    },
    {
     "name": "stderr",
     "output_type": "stream",
     "text": [
      "Downloading Diaries:  16%|▏| 578/3628 [17:35<3:17:18,  3"
     ]
    },
    {
     "name": "stdout",
     "output_type": "stream",
     "text": [
      "[download] 100% of  887.01KiB in 00:00:01 at 855.14KiB/s               \n",
      "[ExtractAudio] Destination: ..\\data\\raw\\dementia_diaries\\audio\\We cannot survive without cherishing the interconnections upon which we all depend. Well said._999130357.wav\n"
     ]
    },
    {
     "name": "stderr",
     "output_type": "stream",
     "text": [
      "Downloading Diaries:  16%|▏| 579/3628 [17:39<3:26:04,  4"
     ]
    },
    {
     "name": "stdout",
     "output_type": "stream",
     "text": [
      "[download] 100% of  638.94KiB in 00:00:00 at 706.83KiB/s                 \n",
      "[ExtractAudio] Destination: ..\\data\\raw\\dementia_diaries\\audio\\Tommy's heart goes out to care home residents._999129478.wav\n"
     ]
    },
    {
     "name": "stderr",
     "output_type": "stream",
     "text": [
      "Downloading Diaries:  16%|▏| 580/3628 [17:43<3:26:54,  4"
     ]
    },
    {
     "name": "stdout",
     "output_type": "stream",
     "text": [
      "[download] 100% of  762.82KiB in 00:00:00 at 890.94KiB/s                 \n",
      "[ExtractAudio] Destination: ..\\data\\raw\\dementia_diaries\\audio\\James thinks there�s a case for making bells mandatory on bicycles._999126325.wav\n"
     ]
    },
    {
     "name": "stderr",
     "output_type": "stream",
     "text": [
      "Downloading Diaries:  16%|▏| 581/3628 [17:46<3:08:20,  3"
     ]
    },
    {
     "name": "stdout",
     "output_type": "stream",
     "text": [
      "[download] 100% of  759.24KiB in 00:00:00 at 929.86KiB/s                 \n",
      "[ExtractAudio] Destination: ..\\data\\raw\\dementia_diaries\\audio\\James wonders if he expects too much of himself._999123523.wav\n"
     ]
    },
    {
     "name": "stderr",
     "output_type": "stream",
     "text": [
      "Downloading Diaries:  16%|▏| 582/3628 [17:50<3:13:46,  3"
     ]
    },
    {
     "name": "stdout",
     "output_type": "stream",
     "text": [
      "[download] 100% of  556.31KiB in 00:00:00 at 745.62KiB/s               \n",
      "[ExtractAudio] Destination: ..\\data\\raw\\dementia_diaries\\audio\\James wonders about the long-term effects of ZOOMing all day long._999123007.wav\n"
     ]
    },
    {
     "name": "stderr",
     "output_type": "stream",
     "text": [
      "Downloading Diaries:  16%|▏| 583/3628 [17:54<3:18:37,  3"
     ]
    },
    {
     "name": "stdout",
     "output_type": "stream",
     "text": [
      "[download] 100% of  223.11KiB in 00:00:00 at 550.04KiB/s               \n",
      "[ExtractAudio] Destination: ..\\data\\raw\\dementia_diaries\\audio\\It's the loneliness that people don�t see� John explains how hard the pandemic has been for him._999122056.wav\n"
     ]
    },
    {
     "name": "stderr",
     "output_type": "stream",
     "text": [
      "Downloading Diaries:  16%|▏| 584/3628 [17:59<3:23:13,  4"
     ]
    },
    {
     "name": "stdout",
     "output_type": "stream",
     "text": [
      "[download] 100% of  576.68KiB in 00:00:00 at 721.63KiB/s               \n",
      "[ExtractAudio] Destination: ..\\data\\raw\\dementia_diaries\\audio\\James wonders if those waiting for a diagnosis should be encouraged to join DEEP groups._999118687.wav\n"
     ]
    },
    {
     "name": "stderr",
     "output_type": "stream",
     "text": [
      "Downloading Diaries:  16%|▏| 585/3628 [18:02<3:07:28,  3"
     ]
    },
    {
     "name": "stdout",
     "output_type": "stream",
     "text": [
      "[download] 100% of  659.85KiB in 00:00:00 at 773.68KiB/s                 \n",
      "[ExtractAudio] Destination: ..\\data\\raw\\dementia_diaries\\audio\\James wonders about the impact of dementia and COVID19 on relationships._999077407.wav\n"
     ]
    },
    {
     "name": "stderr",
     "output_type": "stream",
     "text": [
      "Downloading Diaries:  16%|▏| 586/3628 [18:06<3:12:57,  3"
     ]
    },
    {
     "name": "stdout",
     "output_type": "stream",
     "text": [
      "[download] 100% of  909.05KiB in 00:00:01 at 821.08KiB/s               \n",
      "[ExtractAudio] Destination: ..\\data\\raw\\dementia_diaries\\audio\\Stephen is feeling like we are on the verge of coming out lockdown, and a long winter._999077098.wav\n"
     ]
    },
    {
     "name": "stderr",
     "output_type": "stream",
     "text": [
      "Downloading Diaries:  16%|▏| 587/3628 [18:12<3:43:39,  4"
     ]
    },
    {
     "name": "stdout",
     "output_type": "stream",
     "text": [
      "[download] 100% of    1.25MiB in 00:00:02 at 590.71KiB/s               \n",
      "[ExtractAudio] Destination: ..\\data\\raw\\dementia_diaries\\audio\\Bill�s dementia is being exacerbated by weather related isolation and lockdown._999076846.wav\n"
     ]
    },
    {
     "name": "stderr",
     "output_type": "stream",
     "text": [
      "Downloading Diaries:  16%|▏| 588/3628 [18:28<6:48:37,  8"
     ]
    },
    {
     "name": "stdout",
     "output_type": "stream",
     "text": [
      "[download] 100% of   10.96MiB in 00:00:12 at 884.48KiB/s                 \n",
      "[ExtractAudio] Destination: ..\\data\\raw\\dementia_diaries\\audio\\Audio version of Our DEEP News February March  2021_996162991.wav\n"
     ]
    },
    {
     "name": "stderr",
     "output_type": "stream",
     "text": [
      "Downloading Diaries:  16%|▏| 589/3628 [18:34<6:13:53,  7"
     ]
    },
    {
     "name": "stdout",
     "output_type": "stream",
     "text": [
      "[download] 100% of  330.95KiB in 00:00:00 at 617.96KiB/s               \n",
      "[ExtractAudio] Destination: ..\\data\\raw\\dementia_diaries\\audio\\Frances� beautiful diary reminds us all it won�t be long before spring._993616108.wav\n"
     ]
    },
    {
     "name": "stderr",
     "output_type": "stream",
     "text": [
      "Downloading Diaries:  16%|▏| 590/3628 [18:37<5:07:54,  6"
     ]
    },
    {
     "name": "stdout",
     "output_type": "stream",
     "text": [
      "[download] 100% of  607.26KiB in 00:00:00 at 896.78KiB/s               \n",
      "[ExtractAudio] Destination: ..\\data\\raw\\dementia_diaries\\audio\\Lockdown has helped James realise why he used to get backache. Bingo!_993611827.wav\n"
     ]
    },
    {
     "name": "stderr",
     "output_type": "stream",
     "text": [
      "Downloading Diaries:  16%|▏| 591/3628 [18:42<4:45:50,  5"
     ]
    },
    {
     "name": "stdout",
     "output_type": "stream",
     "text": [
      "[download] 100% of  826.79KiB in 00:00:00 at 903.11KiB/s                 \n",
      "[ExtractAudio] Destination: ..\\data\\raw\\dementia_diaries\\audio\\Clive describes the frustration of losing things. Damn those wellies._993611551.wav\n"
     ]
    },
    {
     "name": "stderr",
     "output_type": "stream",
     "text": [
      "Downloading Diaries:  16%|▏| 592/3628 [18:46<4:26:20,  5"
     ]
    },
    {
     "name": "stdout",
     "output_type": "stream",
     "text": [
      "[download] 100% of  385.68KiB in 00:00:00 at 609.25KiB/s               \n",
      "[ExtractAudio] Destination: ..\\data\\raw\\dementia_diaries\\audio\\Oldham feels like a ghost town says Raymond._993611209.wav\n"
     ]
    },
    {
     "name": "stderr",
     "output_type": "stream",
     "text": [
      "Downloading Diaries:  16%|▏| 593/3628 [18:50<4:02:45,  4"
     ]
    },
    {
     "name": "stdout",
     "output_type": "stream",
     "text": [
      "[download] 100% of  803.10KiB in 00:00:00 at 848.94KiB/s                 \n",
      "[ExtractAudio] Destination: ..\\data\\raw\\dementia_diaries\\audio\\In this lovely diary Clive describes his visit to his former bees._993610834.wav\n"
     ]
    },
    {
     "name": "stderr",
     "output_type": "stream",
     "text": [
      "Downloading Diaries:  16%|▏| 594/3628 [18:53<3:40:54,  4"
     ]
    },
    {
     "name": "stdout",
     "output_type": "stream",
     "text": [
      "[download] 100% of  987.23KiB in 00:00:01 at 903.57KiB/s               \n",
      "[ExtractAudio] Destination: ..\\data\\raw\\dementia_diaries\\audio\\An important reminder from James about the importance of diagnosis._993610447.wav\n"
     ]
    },
    {
     "name": "stderr",
     "output_type": "stream",
     "text": [
      "Downloading Diaries:  16%|▏| 595/3628 [18:57<3:26:25,  4"
     ]
    },
    {
     "name": "stdout",
     "output_type": "stream",
     "text": [
      "[download] 100% of  504.50KiB in 00:00:00 at 762.11KiB/s               \n",
      "[ExtractAudio] Destination: ..\\data\\raw\\dementia_diaries\\audio\\James makes a good case for informal chat time before ZOOM meetings start._993610018.wav\n"
     ]
    },
    {
     "name": "stderr",
     "output_type": "stream",
     "text": [
      "Downloading Diaries:  16%|▏| 596/3628 [19:00<3:22:54,  4"
     ]
    },
    {
     "name": "stdout",
     "output_type": "stream",
     "text": [
      "[download] 100% of  976.55KiB in 00:00:01 at 919.00KiB/s               \n",
      "[ExtractAudio] Destination: ..\\data\\raw\\dementia_diaries\\audio\\Fear of needles and the hidden dangers of solvents are just two of the things on James� mind today._993609736.wav\n"
     ]
    },
    {
     "name": "stderr",
     "output_type": "stream",
     "text": [
      "Downloading Diaries:  16%|▏| 597/3628 [19:04<3:24:16,  4"
     ]
    },
    {
     "name": "stdout",
     "output_type": "stream",
     "text": [
      "[download] 100% of  675.45KiB in 00:00:00 at 914.47KiB/s                 \n",
      "[ExtractAudio] Destination: ..\\data\\raw\\dementia_diaries\\audio\\James talks about confabulation, something many people will recognise._993609364.wav\n"
     ]
    },
    {
     "name": "stderr",
     "output_type": "stream",
     "text": [
      "Downloading Diaries:  16%|▏| 598/3628 [19:09<3:33:08,  4"
     ]
    },
    {
     "name": "stdout",
     "output_type": "stream",
     "text": [
      "[download] 100% of    1.32MiB in 00:00:01 at 1.04MiB/s                 \n",
      "[ExtractAudio] Destination: ..\\data\\raw\\dementia_diaries\\audio\\There are way too many phones in Jacqui�s life._993609004.wav\n"
     ]
    },
    {
     "name": "stderr",
     "output_type": "stream",
     "text": [
      "Downloading Diaries:  17%|▏| 599/3628 [19:13<3:30:21,  4"
     ]
    },
    {
     "name": "stdout",
     "output_type": "stream",
     "text": [
      "[download] 100% of  456.20KiB in 00:00:00 at 650.50KiB/s               \n",
      "[ExtractAudio] Destination: ..\\data\\raw\\dementia_diaries\\audio\\Raymond�s internet is back, so he�s been exercising online._993608695.wav\n"
     ]
    },
    {
     "name": "stderr",
     "output_type": "stream",
     "text": [
      "Downloading Diaries:  17%|▏| 600/3628 [19:19<3:49:48,  4"
     ]
    },
    {
     "name": "stdout",
     "output_type": "stream",
     "text": [
      "[download] 100% of    2.03MiB in 00:00:01 at 1.07MiB/s                 \n",
      "[ExtractAudio] Destination: ..\\data\\raw\\dementia_diaries\\audio\\Melvyn has been getting some help to deal with  his chest troubles._993608563.wav\n"
     ]
    },
    {
     "name": "stderr",
     "output_type": "stream",
     "text": [
      "Downloading Diaries:  17%|▏| 601/3628 [19:24<4:03:16,  4"
     ]
    },
    {
     "name": "stdout",
     "output_type": "stream",
     "text": [
      "[download] 100% of    3.02MiB in 00:00:02 at 1.06MiB/s                 \n",
      "[ExtractAudio] Destination: ..\\data\\raw\\dementia_diaries\\audio\\Melvyn provides an welcome update on his campaign against Ratty_993608326.wav\n"
     ]
    },
    {
     "name": "stderr",
     "output_type": "stream",
     "text": [
      "Downloading Diaries:  17%|▏| 602/3628 [19:29<4:06:41,  4"
     ]
    },
    {
     "name": "stdout",
     "output_type": "stream",
     "text": [
      "[download] 100% of  537.58KiB in 00:00:00 at 715.79KiB/s               \n",
      "[ExtractAudio] Destination: ..\\data\\raw\\dementia_diaries\\audio\\Memories of long ago are coming much easier than those of yesterday for James at the moment._993607726.wav\n"
     ]
    },
    {
     "name": "stderr",
     "output_type": "stream",
     "text": [
      "Downloading Diaries:  17%|▏| 603/3628 [19:34<4:00:12,  4"
     ]
    },
    {
     "name": "stdout",
     "output_type": "stream",
     "text": [
      "[download] 100% of  405.57KiB in 00:00:00 at 661.00KiB/s               \n",
      "[ExtractAudio] Destination: ..\\data\\raw\\dementia_diaries\\audio\\Joy wonders if it�s just her climbing the walls._993607015.wav\n"
     ]
    },
    {
     "name": "stderr",
     "output_type": "stream",
     "text": [
      "Downloading Diaries:  17%|▏| 604/3628 [19:37<3:40:24,  4"
     ]
    },
    {
     "name": "stdout",
     "output_type": "stream",
     "text": [
      "[download] 100% of    1.24MiB in 00:00:01 at 1008.08KiB/s              \n",
      "[ExtractAudio] Destination: ..\\data\\raw\\dementia_diaries\\audio\\Agnes is relieved to have had her jab, despite the side-effects._993606850.wav\n"
     ]
    },
    {
     "name": "stderr",
     "output_type": "stream",
     "text": [
      "Downloading Diaries:  17%|▏| 605/3628 [19:40<3:24:18,  4"
     ]
    },
    {
     "name": "stdout",
     "output_type": "stream",
     "text": [
      "[download] 100% of  361.06KiB in 00:00:00 at 662.93KiB/s               \n",
      "[ExtractAudio] Destination: ..\\data\\raw\\dementia_diaries\\audio\\Raymond is a bit down in the dumps, not helped by his internet being down._993606220.wav\n"
     ]
    },
    {
     "name": "stderr",
     "output_type": "stream",
     "text": [
      "Downloading Diaries:  17%|▏| 606/3628 [19:43<3:10:16,  3"
     ]
    },
    {
     "name": "stdout",
     "output_type": "stream",
     "text": [
      "[download] 100% of  924.59KiB in 00:00:01 at 851.66KiB/s               \n",
      "[ExtractAudio] Destination: ..\\data\\raw\\dementia_diaries\\audio\\Stephen is full of praise for the care he received while having his jab._993606028.wav\n"
     ]
    },
    {
     "name": "stderr",
     "output_type": "stream",
     "text": [
      "Downloading Diaries:  17%|▏| 607/3628 [19:47<3:01:01,  3"
     ]
    },
    {
     "name": "stdout",
     "output_type": "stream",
     "text": [
      "[download] 100% of  781.38KiB in 00:00:00 at 846.56KiB/s                 \n",
      "[ExtractAudio] Destination: ..\\data\\raw\\dementia_diaries\\audio\\Stephen�s reminded of the old song �Things Can Only Get Better�_993605494.wav\n"
     ]
    },
    {
     "name": "stderr",
     "output_type": "stream",
     "text": [
      "Downloading Diaries:  17%|▏| 608/3628 [19:50<2:56:05,  3"
     ]
    },
    {
     "name": "stdout",
     "output_type": "stream",
     "text": [
      "[download] 100% of  867.67KiB in 00:00:00 at 889.70KiB/s                 \n",
      "[ExtractAudio] Destination: ..\\data\\raw\\dementia_diaries\\audio\\Spring is round the corner says Stephen after a great bit of weather for a change._993600655.wav\n"
     ]
    },
    {
     "name": "stderr",
     "output_type": "stream",
     "text": [
      "Downloading Diaries:  17%|▏| 609/3628 [19:53<2:49:44,  3"
     ]
    },
    {
     "name": "stdout",
     "output_type": "stream",
     "text": [
      "[download] 100% of  952.63KiB in 00:00:01 at 907.59KiB/s               \n",
      "[ExtractAudio] Destination: ..\\data\\raw\\dementia_diaries\\audio\\Stephen�s feeling a bit low. This lockdown is grinding on. Strange days._993600301.wav\n"
     ]
    },
    {
     "name": "stderr",
     "output_type": "stream",
     "text": [
      "Downloading Diaries:  17%|▏| 610/3628 [19:57<2:53:24,  3"
     ]
    },
    {
     "name": "stdout",
     "output_type": "stream",
     "text": [
      "[download] 100% of  959.68KiB in 00:00:01 at 836.32KiB/s               \n",
      "[ExtractAudio] Destination: ..\\data\\raw\\dementia_diaries\\audio\\Stephen�s carer has sorted out his jabs. He�s delighted with her._993599992.wav\n"
     ]
    },
    {
     "name": "stderr",
     "output_type": "stream",
     "text": [
      "Downloading Diaries:  17%|▏| 611/3628 [20:00<2:57:18,  3"
     ]
    },
    {
     "name": "stdout",
     "output_type": "stream",
     "text": [
      "[download] 100% of  414.70KiB in 00:00:00 at 656.88KiB/s               \n",
      "[ExtractAudio] Destination: ..\\data\\raw\\dementia_diaries\\audio\\Dory sends a report from �Lost the Plot�. Sounds lovely X._993599683.wav\n"
     ]
    },
    {
     "name": "stderr",
     "output_type": "stream",
     "text": [
      "Downloading Diaries:  17%|▏| 612/3628 [20:06<3:33:19,  4"
     ]
    },
    {
     "name": "stdout",
     "output_type": "stream",
     "text": [
      "[download] 100% of    1.49MiB in 00:00:01 at 770.30KiB/s               \n",
      "[ExtractAudio] Destination: ..\\data\\raw\\dementia_diaries\\audio\\Gail describes a really frustrating day, but got through with a little help from hubby._993599374.wav\n"
     ]
    },
    {
     "name": "stderr",
     "output_type": "stream",
     "text": [
      "Downloading Diaries:  17%|▏| 613/3628 [20:12<3:56:45,  4"
     ]
    },
    {
     "name": "stdout",
     "output_type": "stream",
     "text": [
      "[download] 100% of    1.93MiB in 00:00:02 at 808.70KiB/s               \n",
      "[ExtractAudio] Destination: ..\\data\\raw\\dementia_diaries\\audio\\Gail feels it is important to talk about bad as well as good days. Quite right too!_993598960.wav\n"
     ]
    },
    {
     "name": "stderr",
     "output_type": "stream",
     "text": [
      "Downloading Diaries:  17%|▏| 614/3628 [20:16<3:50:12,  4"
     ]
    },
    {
     "name": "stdout",
     "output_type": "stream",
     "text": [
      "[download] 100% of    1.05MiB in 00:00:01 at 691.99KiB/s               \n",
      "[ExtractAudio] Destination: ..\\data\\raw\\dementia_diaries\\audio\\Chris sends us a beautiful recording of birdsong. But which bird George_993598420.wav\n"
     ]
    },
    {
     "name": "stderr",
     "output_type": "stream",
     "text": [
      "Downloading Diaries:  17%|▏| 615/3628 [20:23<4:17:55,  5"
     ]
    },
    {
     "name": "stdout",
     "output_type": "stream",
     "text": [
      "[download] 100% of    2.11MiB in 00:00:02 at 862.75KiB/s               \n",
      "[ExtractAudio] Destination: ..\\data\\raw\\dementia_diaries\\audio\\George is feeling rather powerless in the face of the losses caused by dementia._993597970.wav\n"
     ]
    },
    {
     "name": "stderr",
     "output_type": "stream",
     "text": [
      "Downloading Diaries:  17%|▏| 616/3628 [20:28<4:19:06,  5"
     ]
    },
    {
     "name": "stdout",
     "output_type": "stream",
     "text": [
      "[download] 100% of    1.04MiB in 00:00:01 at 748.18KiB/s               \n",
      "[ExtractAudio] Destination: ..\\data\\raw\\dementia_diaries\\audio\\Keith describes how he gently explains dementia to his grand-daughter._988698679.wav\n"
     ]
    },
    {
     "name": "stderr",
     "output_type": "stream",
     "text": [
      "Downloading Diaries:  17%|▏| 617/3628 [20:31<3:53:18,  4"
     ]
    },
    {
     "name": "stdout",
     "output_type": "stream",
     "text": [
      "[download] 100% of  789.26KiB in 00:00:01 at 731.91KiB/s               \n",
      "[ExtractAudio] Destination: ..\\data\\raw\\dementia_diaries\\audio\\Stephen has been out today for some free oxygen._988696648.wav\n"
     ]
    },
    {
     "name": "stderr",
     "output_type": "stream",
     "text": [
      "Downloading Diaries:  17%|▏| 618/3628 [20:36<3:46:31,  4"
     ]
    },
    {
     "name": "stdout",
     "output_type": "stream",
     "text": [
      "[download] 100% of  694.02KiB in 00:00:00 at 769.08KiB/s                 \n",
      "[ExtractAudio] Destination: ..\\data\\raw\\dementia_diaries\\audio\\Stephen has been told to shield for another 3 weeks, and is not feeling great._988696465.wav\n"
     ]
    },
    {
     "name": "stderr",
     "output_type": "stream",
     "text": [
      "Downloading Diaries:  17%|▏| 619/3628 [20:40<3:41:31,  4"
     ]
    },
    {
     "name": "stdout",
     "output_type": "stream",
     "text": [
      "[download] 100% of  685.31KiB in 00:00:00 at 770.56KiB/s                 \n",
      "[ExtractAudio] Destination: ..\\data\\raw\\dementia_diaries\\audio\\Co-production and trust are key in working with people with dementia as Julie explains._988696174.wav\n"
     ]
    },
    {
     "name": "stderr",
     "output_type": "stream",
     "text": [
      "Downloading Diaries:  17%|▏| 620/3628 [20:43<3:27:55,  4"
     ]
    },
    {
     "name": "stdout",
     "output_type": "stream",
     "text": [
      "[download] 100% of  555.46KiB in 00:00:00 at 700.36KiB/s                 \n",
      "[ExtractAudio] Destination: ..\\data\\raw\\dementia_diaries\\audio\\It was great to see Raymond at the diarists ZOOM this week._988695754.wav\n"
     ]
    },
    {
     "name": "stderr",
     "output_type": "stream",
     "text": [
      "Downloading Diaries:  17%|▏| 621/3628 [20:48<3:38:23,  4"
     ]
    },
    {
     "name": "stdout",
     "output_type": "stream",
     "text": [
      "[download] 100% of    1.08MiB in 00:00:01 at 1001.38KiB/s              \n",
      "[ExtractAudio] Destination: ..\\data\\raw\\dementia_diaries\\audio\\James raises a very important question about those who may have developed dementia during COVID._988695352.wav\n"
     ]
    },
    {
     "name": "stderr",
     "output_type": "stream",
     "text": [
      "Downloading Diaries:  17%|▏| 622/3628 [20:51<3:22:05,  4"
     ]
    },
    {
     "name": "stdout",
     "output_type": "stream",
     "text": [
      "[download] 100% of  747.16KiB in 00:00:00 at 864.12KiB/s                 \n",
      "[ExtractAudio] Destination: ..\\data\\raw\\dementia_diaries\\audio\\James feels his horizons are �shrinking all the time�_988694299.wav\n"
     ]
    },
    {
     "name": "stderr",
     "output_type": "stream",
     "text": [
      "Downloading Diaries:  17%|▏| 623/3628 [20:55<3:17:01,  3"
     ]
    },
    {
     "name": "stdout",
     "output_type": "stream",
     "text": [
      "[download] 100% of    1.46MiB in 00:00:01 at 1.02MiB/s                 \n",
      "[ExtractAudio] Destination: ..\\data\\raw\\dementia_diaries\\audio\\Agnes has had her jab, and despite side effects, she is pleased to have had it._988693861.wav\n"
     ]
    },
    {
     "name": "stderr",
     "output_type": "stream",
     "text": [
      "Downloading Diaries:  17%|▏| 624/3628 [21:00<3:27:34,  4"
     ]
    },
    {
     "name": "stdout",
     "output_type": "stream",
     "text": [
      "[download] 100% of    1.86MiB in 00:00:01 at 1.12MiB/s                 \n",
      "[ExtractAudio] Destination: ..\\data\\raw\\dementia_diaries\\audio\\Melvyn explains how this lockdown is making him feel._988693477.wav\n"
     ]
    },
    {
     "name": "stderr",
     "output_type": "stream",
     "text": [
      "Downloading Diaries:  17%|▏| 625/3628 [21:06<3:51:44,  4"
     ]
    },
    {
     "name": "stdout",
     "output_type": "stream",
     "text": [
      "[download] 100% of    2.66MiB in 00:00:02 at 1.17MiB/s                 \n",
      "[ExtractAudio] Destination: ..\\data\\raw\\dementia_diaries\\audio\\Melvyn feels that Dementia Diaries should be more actively promoted to DEEP groups._988693165.wav\n"
     ]
    },
    {
     "name": "stderr",
     "output_type": "stream",
     "text": [
      "Downloading Diaries:  17%|▏| 626/3628 [21:09<3:30:44,  4"
     ]
    },
    {
     "name": "stdout",
     "output_type": "stream",
     "text": [
      "[download] 100% of  583.93KiB in 00:00:00 at 832.38KiB/s                 \n",
      "[ExtractAudio] Destination: ..\\data\\raw\\dementia_diaries\\audio\\Raymond�s been keeping busy and is looking forward to more._988692907.wav\n"
     ]
    },
    {
     "name": "stderr",
     "output_type": "stream",
     "text": [
      "Downloading Diaries:  17%|▏| 627/3628 [21:13<3:28:05,  4"
     ]
    },
    {
     "name": "stdout",
     "output_type": "stream",
     "text": [
      "[download] 100% of    1.49MiB in 00:00:01 at 995.78KiB/s               \n",
      "[ExtractAudio] Destination: ..\\data\\raw\\dementia_diaries\\audio\\Jacqui has some good advice about being interviewed by the media._988692472.wav\n"
     ]
    },
    {
     "name": "stderr",
     "output_type": "stream",
     "text": [
      "Downloading Diaries:  17%|▏| 628/3628 [21:18<3:41:48,  4"
     ]
    },
    {
     "name": "stdout",
     "output_type": "stream",
     "text": [
      "[download] 100% of    1.02MiB in 00:00:01 at 1003.17KiB/s                \n",
      "[ExtractAudio] Destination: ..\\data\\raw\\dementia_diaries\\audio\\Stephen has been busy painting and crafting, as he waits on a date for his jab._988692148.wav\n"
     ]
    },
    {
     "name": "stderr",
     "output_type": "stream",
     "text": [
      "Downloading Diaries:  17%|▏| 629/3628 [21:22<3:35:30,  4"
     ]
    },
    {
     "name": "stdout",
     "output_type": "stream",
     "text": [
      "[download] 100% of  547.76KiB in 00:00:00 at 654.61KiB/s               \n",
      "[ExtractAudio] Destination: ..\\data\\raw\\dementia_diaries\\audio\\Peter describes one of the benefits of a poor memory. Lovely._988689916.wav\n"
     ]
    },
    {
     "name": "stderr",
     "output_type": "stream",
     "text": [
      "Downloading Diaries:  17%|▏| 630/3628 [21:26<3:26:40,  4"
     ]
    },
    {
     "name": "stdout",
     "output_type": "stream",
     "text": [
      "[download] 100% of  532.83KiB in 00:00:00 at 570.71KiB/s                 \n",
      "[ExtractAudio] Destination: ..\\data\\raw\\dementia_diaries\\audio\\Raymond has had a bad night with his dementia._988689364.wav\n"
     ]
    },
    {
     "name": "stderr",
     "output_type": "stream",
     "text": [
      "Downloading Diaries:  17%|▏| 631/3628 [21:29<3:13:29,  3"
     ]
    },
    {
     "name": "stdout",
     "output_type": "stream",
     "text": [
      "[download] 100% of    1.02MiB in 00:00:01 at 1.01MiB/s                   \n",
      "[ExtractAudio] Destination: ..\\data\\raw\\dementia_diaries\\audio\\Stephen is full of praise for carers. Well said Stephen._988687351.wav\n"
     ]
    },
    {
     "name": "stderr",
     "output_type": "stream",
     "text": [
      "Downloading Diaries:  17%|▏| 632/3628 [21:34<3:24:28,  4"
     ]
    },
    {
     "name": "stdout",
     "output_type": "stream",
     "text": [
      "[download] 100% of  819.46KiB in 00:00:01 at 757.40KiB/s               \n",
      "[ExtractAudio] Destination: ..\\data\\raw\\dementia_diaries\\audio\\Stephen feels the spring is just around the corner._984190768.wav\n"
     ]
    },
    {
     "name": "stderr",
     "output_type": "stream",
     "text": [
      "Downloading Diaries:  17%|▏| 633/3628 [21:37<3:21:20,  4"
     ]
    },
    {
     "name": "stdout",
     "output_type": "stream",
     "text": [
      "[download] 100% of  462.19KiB in 00:00:00 at 692.27KiB/s                 \n",
      "[ExtractAudio] Destination: ..\\data\\raw\\dementia_diaries\\audio\\Dory is wandering, but with a purpose.  Is lost, but not alone._984189655.wav\n"
     ]
    },
    {
     "name": "stderr",
     "output_type": "stream",
     "text": [
      "Downloading Diaries:  17%|▏| 634/3628 [21:40<3:00:36,  3"
     ]
    },
    {
     "name": "stdout",
     "output_type": "stream",
     "text": [
      "[download] 100% of  386.53KiB in 00:00:00 at 666.47KiB/s               \n",
      "[ExtractAudio] Destination: ..\\data\\raw\\dementia_diaries\\audio\\Lorraine says a big thank-you to her fellow diarists for a great ZOOM meeting._984188428.wav\n"
     ]
    },
    {
     "name": "stderr",
     "output_type": "stream",
     "text": [
      "Downloading Diaries:  18%|▏| 635/3628 [21:44<3:04:33,  3"
     ]
    },
    {
     "name": "stdout",
     "output_type": "stream",
     "text": [
      "[download] 100% of    1.57MiB in 00:00:02 at 802.02KiB/s               \n",
      "[ExtractAudio] Destination: ..\\data\\raw\\dementia_diaries\\audio\\Ten hours sleep leaves Gail wondering if she has had brain overload this week._984186826.wav\n"
     ]
    },
    {
     "name": "stderr",
     "output_type": "stream",
     "text": [
      "Downloading Diaries:  18%|▏| 636/3628 [21:49<3:22:47,  4"
     ]
    },
    {
     "name": "stdout",
     "output_type": "stream",
     "text": [
      "[download] 100% of    1.06MiB in 00:00:01 at 864.21KiB/s               \n",
      "[ExtractAudio] Destination: ..\\data\\raw\\dementia_diaries\\audio\\Gail�s description of dawn in the nature reserve is gorgeous._984185518.wav\n"
     ]
    },
    {
     "name": "stderr",
     "output_type": "stream",
     "text": [
      "Downloading Diaries:  18%|▏| 637/3628 [21:53<3:25:29,  4"
     ]
    },
    {
     "name": "stdout",
     "output_type": "stream",
     "text": [
      "[download] 100% of  730.09KiB in 00:00:01 at 662.95KiB/s               \n",
      "[ExtractAudio] Destination: ..\\data\\raw\\dementia_diaries\\audio\\�We need to keep in touch with people� Keith makes a plea for us all to keep on talking._984184141.wav\n"
     ]
    },
    {
     "name": "stderr",
     "output_type": "stream",
     "text": [
      "Downloading Diaries:  18%|▏| 638/3628 [21:58<3:33:14,  4"
     ]
    },
    {
     "name": "stdout",
     "output_type": "stream",
     "text": [
      "[download] 100% of    1.25MiB in 00:00:01 at 1.08MiB/s                 \n",
      "[ExtractAudio] Destination: ..\\data\\raw\\dementia_diaries\\audio\\Dreane has been experiencing the better angels of human nature._984180955.wav\n"
     ]
    },
    {
     "name": "stderr",
     "output_type": "stream",
     "text": [
      "Downloading Diaries:  18%|▏| 639/3628 [22:01<3:17:43,  3"
     ]
    },
    {
     "name": "stdout",
     "output_type": "stream",
     "text": [
      "[download] 100% of  617.24KiB in 00:00:00 at 814.47KiB/s                 \n",
      "[ExtractAudio] Destination: ..\\data\\raw\\dementia_diaries\\audio\\Raymond has been promoting Dementia Diaries. Great work Raymond._984177529.wav\n"
     ]
    },
    {
     "name": "stderr",
     "output_type": "stream",
     "text": [
      "Downloading Diaries:  18%|▏| 640/3628 [22:04<3:06:44,  3"
     ]
    },
    {
     "name": "stdout",
     "output_type": "stream",
     "text": [
      "[download] 100% of  732.95KiB in 00:00:00 at 902.49KiB/s                 \n",
      "[ExtractAudio] Destination: ..\\data\\raw\\dementia_diaries\\audio\\Clive reflects on the power of his tattoos to provoke memories._984176182.wav\n"
     ]
    },
    {
     "name": "stderr",
     "output_type": "stream",
     "text": [
      "Downloading Diaries:  18%|▏| 641/3628 [22:08<3:01:20,  3"
     ]
    },
    {
     "name": "stdout",
     "output_type": "stream",
     "text": [
      "[download] 100% of  533.90KiB in 00:00:00 at 722.69KiB/s               \n",
      "[ExtractAudio] Destination: ..\\data\\raw\\dementia_diaries\\audio\\James finds it much easier these days to write in CAPITALS._984173095.wav\n"
     ]
    },
    {
     "name": "stderr",
     "output_type": "stream",
     "text": [
      "Downloading Diaries:  18%|▏| 642/3628 [22:12<3:05:33,  3"
     ]
    },
    {
     "name": "stdout",
     "output_type": "stream",
     "text": [
      "[download] 100% of  394.59KiB in 00:00:00 at 558.06KiB/s               \n",
      "[ExtractAudio] Destination: ..\\data\\raw\\dementia_diaries\\audio\\Raymond is keeping active (and warm) as it snows outside_984171664.wav\n"
     ]
    },
    {
     "name": "stderr",
     "output_type": "stream",
     "text": [
      "Downloading Diaries:  18%|▏| 643/3628 [22:15<2:55:18,  3"
     ]
    },
    {
     "name": "stdout",
     "output_type": "stream",
     "text": [
      "[download] 100% of    1.10MiB in 00:00:01 at 987.60KiB/s               \n",
      "[ExtractAudio] Destination: ..\\data\\raw\\dementia_diaries\\audio\\Agnes counts her blessings but is finding this lockdown just too much._984170599.wav\n"
     ]
    },
    {
     "name": "stderr",
     "output_type": "stream",
     "text": [
      "Downloading Diaries:  18%|▏| 644/3628 [22:19<3:05:36,  3"
     ]
    },
    {
     "name": "stdout",
     "output_type": "stream",
     "text": [
      "[download] 100% of 1004.79KiB in 00:00:01 at 901.98KiB/s               \n",
      "[ExtractAudio] Destination: ..\\data\\raw\\dementia_diaries\\audio\\Dreane feels like she has been thrown a lifebelt with her vaccine jab._984169525.wav\n"
     ]
    },
    {
     "name": "stderr",
     "output_type": "stream",
     "text": [
      "Downloading Diaries:  18%|▏| 645/3628 [22:23<3:10:15,  3"
     ]
    },
    {
     "name": "stdout",
     "output_type": "stream",
     "text": [
      "[download] 100% of  655.56KiB in 00:00:00 at 870.39KiB/s                 \n",
      "[ExtractAudio] Destination: ..\\data\\raw\\dementia_diaries\\audio\\Is it hard to buy presents for people with dementia Jacqui doesn�t see why it should be._984166954.wav\n"
     ]
    },
    {
     "name": "stderr",
     "output_type": "stream",
     "text": [
      "Downloading Diaries:  18%|▏| 646/3628 [22:29<3:39:18,  4"
     ]
    },
    {
     "name": "stdout",
     "output_type": "stream",
     "text": [
      "[download] 100% of    1.92MiB in 00:00:02 at 981.28KiB/s               \n",
      "[ExtractAudio] Destination: ..\\data\\raw\\dementia_diaries\\audio\\It's snowing outside. The greyhounds are useless and Ratty continues to get the better of Melvyn._984165838.wav\n"
     ]
    },
    {
     "name": "stderr",
     "output_type": "stream",
     "text": [
      "Downloading Diaries:  18%|▏| 647/3628 [22:34<3:47:20,  4"
     ]
    },
    {
     "name": "stdout",
     "output_type": "stream",
     "text": [
      "[download] 100% of  412.50KiB in 00:00:00 at 447.41KiB/s               \n",
      "[ExtractAudio] Destination: ..\\data\\raw\\dementia_diaries\\audio\\James ponders the advantages of a specialist nurse, over a �general� practitioner._984163024.wav\n"
     ]
    },
    {
     "name": "stderr",
     "output_type": "stream",
     "text": [
      "Downloading Diaries:  18%|▏| 648/3628 [22:37<3:27:45,  4"
     ]
    },
    {
     "name": "stdout",
     "output_type": "stream",
     "text": [
      "[download] 100% of  262.70KiB in 00:00:00 at 605.39KiB/s               \n",
      "[ExtractAudio] Destination: ..\\data\\raw\\dementia_diaries\\audio\\James asks an interesting question, but don�t try this at home. It WILL hurt._984162649.wav\n"
     ]
    },
    {
     "name": "stderr",
     "output_type": "stream",
     "text": [
      "Downloading Diaries:  18%|▏| 649/3628 [22:41<3:28:57,  4"
     ]
    },
    {
     "name": "stdout",
     "output_type": "stream",
     "text": [
      "[download] 100% of  491.53KiB in 00:00:00 at 830.77KiB/s               \n",
      "[ExtractAudio] Destination: ..\\data\\raw\\dementia_diaries\\audio\\Glenda has had her jab, and is absolutely fine._984162115.wav\n"
     ]
    },
    {
     "name": "stderr",
     "output_type": "stream",
     "text": [
      "Downloading Diaries:  18%|▏| 650/3628 [22:44<3:05:42,  3"
     ]
    },
    {
     "name": "stdout",
     "output_type": "stream",
     "text": [
      "[download] 100% of  369.11KiB in 00:00:00 at 651.05KiB/s               \n",
      "[ExtractAudio] Destination: ..\\data\\raw\\dementia_diaries\\audio\\Raymond has been busy and sends greetings from a sunny Oldham._984161380.wav\n"
     ]
    },
    {
     "name": "stderr",
     "output_type": "stream",
     "text": [
      "Downloading Diaries:  18%|▏| 651/3628 [22:48<3:10:06,  3"
     ]
    },
    {
     "name": "stdout",
     "output_type": "stream",
     "text": [
      "[download] 100% of  436.99KiB in 00:00:00 at 769.21KiB/s               \n",
      "[ExtractAudio] Destination: ..\\data\\raw\\dementia_diaries\\audio\\Like many people, James is put off by being asked to accept cookies._979733956.wav\n"
     ]
    },
    {
     "name": "stderr",
     "output_type": "stream",
     "text": [
      "Downloading Diaries:  18%|▏| 652/3628 [22:54<3:36:50,  4"
     ]
    },
    {
     "name": "stdout",
     "output_type": "stream",
     "text": [
      "[download] 100% of    2.07MiB in 00:00:02 at 1.03MiB/s                 \n",
      "[ExtractAudio] Destination: ..\\data\\raw\\dementia_diaries\\audio\\Larry talks about his experience of Personal Assistants._979721299.wav\n"
     ]
    },
    {
     "name": "stderr",
     "output_type": "stream",
     "text": [
      "Downloading Diaries:  18%|▏| 653/3628 [22:59<3:59:21,  4"
     ]
    },
    {
     "name": "stdout",
     "output_type": "stream",
     "text": [
      "[download] 100% of    1.63MiB in 00:00:01 at 986.55KiB/s               \n",
      "[ExtractAudio] Destination: ..\\data\\raw\\dementia_diaries\\audio\\Larry explains his reasons for leaving the UK._979720873.wav\n"
     ]
    },
    {
     "name": "stderr",
     "output_type": "stream",
     "text": [
      "Downloading Diaries:  18%|▏| 654/3628 [23:03<3:44:08,  4"
     ]
    },
    {
     "name": "stdout",
     "output_type": "stream",
     "text": [
      "[download] 100% of  343.97KiB in 00:00:00 at 566.89KiB/s               \n",
      "[ExtractAudio] Destination: ..\\data\\raw\\dementia_diaries\\audio\\Raymond is getting a lot from his ZOOM meetings._979714057.wav\n"
     ]
    },
    {
     "name": "stderr",
     "output_type": "stream",
     "text": [
      "Downloading Diaries:  18%|▏| 655/3628 [23:07<3:28:16,  4"
     ]
    },
    {
     "name": "stdout",
     "output_type": "stream",
     "text": [
      "[download] 100% of  361.35KiB in 00:00:00 at 566.30KiB/s               \n",
      "[ExtractAudio] Destination: ..\\data\\raw\\dementia_diaries\\audio\\James has put the Dementia Diaries number on speed-dial - great idea James!_979713073.wav\n"
     ]
    },
    {
     "name": "stderr",
     "output_type": "stream",
     "text": [
      "Downloading Diaries:  18%|▏| 656/3628 [23:10<3:20:49,  4"
     ]
    },
    {
     "name": "stdout",
     "output_type": "stream",
     "text": [
      "[download] 100% of  739.76KiB in 00:00:00 at 860.20KiB/s                 \n",
      "[ExtractAudio] Destination: ..\\data\\raw\\dementia_diaries\\audio\\Jacqui describes how easy it is for her to experience information overload._979712227.wav\n"
     ]
    },
    {
     "name": "stderr",
     "output_type": "stream",
     "text": [
      "Downloading Diaries:  18%|▏| 657/3628 [23:14<3:06:57,  3"
     ]
    },
    {
     "name": "stdout",
     "output_type": "stream",
     "text": [
      "[download] 100% of  786.02KiB in 00:00:00 at 907.40KiB/s                 \n",
      "[ExtractAudio] Destination: ..\\data\\raw\\dementia_diaries\\audio\\Tommy on the need to people to be supported to use public transport as we come out of lockdown._979710184.wav\n"
     ]
    },
    {
     "name": "stderr",
     "output_type": "stream",
     "text": [
      "Downloading Diaries:  18%|▏| 658/3628 [23:16<2:47:23,  3"
     ]
    },
    {
     "name": "stdout",
     "output_type": "stream",
     "text": [
      "[download] 100% of  429.97KiB in 00:00:00 at 903.46KiB/s               \n",
      "[ExtractAudio] Destination: ..\\data\\raw\\dementia_diaries\\audio\\James wonders about the safety of in-ear thermometers._979709935.wav\n"
     ]
    },
    {
     "name": "stderr",
     "output_type": "stream",
     "text": [
      "Downloading Diaries:  18%|▏| 659/3628 [23:19<2:38:22,  3"
     ]
    },
    {
     "name": "stdout",
     "output_type": "stream",
     "text": [
      "[download] 100% of  777.65KiB in 00:00:00 at 1001.92KiB/s                \n",
      "[ExtractAudio] Destination: ..\\data\\raw\\dementia_diaries\\audio\\Clive is dismayed by the number of people ignoring social distancing._979709527.wav\n"
     ]
    },
    {
     "name": "stderr",
     "output_type": "stream",
     "text": [
      "Downloading Diaries:  18%|▏| 660/3628 [23:23<2:56:16,  3"
     ]
    },
    {
     "name": "stdout",
     "output_type": "stream",
     "text": [
      "[download] 100% of  322.79KiB in 00:00:00 at 586.68KiB/s               \n",
      "[ExtractAudio] Destination: ..\\data\\raw\\dementia_diaries\\audio\\Raymond calls in from a cold and wet Oldham._979709035.wav\n"
     ]
    },
    {
     "name": "stderr",
     "output_type": "stream",
     "text": [
      "Downloading Diaries:  18%|▏| 661/3628 [23:27<3:02:24,  3"
     ]
    },
    {
     "name": "stdout",
     "output_type": "stream",
     "text": [
      "[download] 100% of    2.03MiB in 00:00:01 at 1.17MiB/s                 \n",
      "[ExtractAudio] Destination: ..\\data\\raw\\dementia_diaries\\audio\\Jacqui feels she may need to revise her expectations for travel after lockdown._979708558.wav\n"
     ]
    },
    {
     "name": "stderr",
     "output_type": "stream",
     "text": [
      "Downloading Diaries:  18%|▏| 662/3628 [23:32<3:25:07,  4"
     ]
    },
    {
     "name": "stdout",
     "output_type": "stream",
     "text": [
      "[download] 100% of  959.00KiB in 00:00:00 at 1.01MiB/s                   \n",
      "[ExtractAudio] Destination: ..\\data\\raw\\dementia_diaries\\audio\\Glenda has been enjoying working remotely with students._979708003.wav\n"
     ]
    },
    {
     "name": "stderr",
     "output_type": "stream",
     "text": [
      "Downloading Diaries:  18%|▏| 663/3628 [23:37<3:31:03,  4"
     ]
    },
    {
     "name": "stdout",
     "output_type": "stream",
     "text": [
      "[download] 100% of    1.60MiB in 00:00:01 at 1.15MiB/s                 \n",
      "[ExtractAudio] Destination: ..\\data\\raw\\dementia_diaries\\audio\\�Worth its weight in gold� a simple wave reform a loved on in this powerful diary._979707610.wav\n"
     ]
    },
    {
     "name": "stderr",
     "output_type": "stream",
     "text": [
      "Downloading Diaries:  18%|▏| 664/3628 [23:42<3:40:58,  4"
     ]
    },
    {
     "name": "stdout",
     "output_type": "stream",
     "text": [
      "[download] 100% of    1.36MiB in 00:00:01 at 1010.01KiB/s              \n",
      "[ExtractAudio] Destination: ..\\data\\raw\\dementia_diaries\\audio\\Kieth considers the link between resilience and creativity._979706971.wav\n"
     ]
    },
    {
     "name": "stderr",
     "output_type": "stream",
     "text": [
      "Downloading Diaries:  18%|▏| 665/3628 [23:46<3:37:07,  4"
     ]
    },
    {
     "name": "stdout",
     "output_type": "stream",
     "text": [
      "[download] 100% of 1007.23KiB in 00:00:00 at 1.06MiB/s                   \n",
      "[ExtractAudio] Destination: ..\\data\\raw\\dementia_diaries\\audio\\Agnes explains how she is taking care of herself in recovery._979706530.wav\n"
     ]
    },
    {
     "name": "stderr",
     "output_type": "stream",
     "text": [
      "Downloading Diaries:  18%|▏| 666/3628 [23:50<3:37:11,  4"
     ]
    },
    {
     "name": "stdout",
     "output_type": "stream",
     "text": [
      "[download] 100% of  534.17KiB in 00:00:00 at 836.18KiB/s               \n",
      "[ExtractAudio] Destination: ..\\data\\raw\\dementia_diaries\\audio\\Julie reads a lovely poem about lockdown and the support that sees her through._979699699.wav\n"
     ]
    },
    {
     "name": "stderr",
     "output_type": "stream",
     "text": [
      "Downloading Diaries:  18%|▏| 667/3628 [23:55<3:40:43,  4"
     ]
    },
    {
     "name": "stdout",
     "output_type": "stream",
     "text": [
      "[download] 100% of  707.24KiB in 00:00:00 at 735.05KiB/s                 \n",
      "[ExtractAudio] Destination: ..\\data\\raw\\dementia_diaries\\audio\\He�s had his chest X-Ray, and now Stephen waits nervously for the results._979696753.wav\n"
     ]
    },
    {
     "name": "stderr",
     "output_type": "stream",
     "text": [
      "Downloading Diaries:  18%|▏| 668/3628 [24:00<3:42:55,  4"
     ]
    },
    {
     "name": "stdout",
     "output_type": "stream",
     "text": [
      "[download] 100% of  857.38KiB in 00:00:01 at 831.42KiB/s               \n",
      "[ExtractAudio] Destination: ..\\data\\raw\\dementia_diaries\\audio\\Stephen�s a little apprehensive about his forthcoming chest X-ray._979696369.wav\n"
     ]
    },
    {
     "name": "stderr",
     "output_type": "stream",
     "text": [
      "Downloading Diaries:  18%|▏| 669/3628 [24:04<3:42:05,  4"
     ]
    },
    {
     "name": "stdout",
     "output_type": "stream",
     "text": [
      "[download] 100% of  681.87KiB in 00:00:00 at 724.53KiB/s                 \n",
      "[ExtractAudio] Destination: ..\\data\\raw\\dementia_diaries\\audio\\Stephen wonders how things will be after we come out of lockdown._979695679.wav\n"
     ]
    },
    {
     "name": "stderr",
     "output_type": "stream",
     "text": [
      "Downloading Diaries:  18%|▏| 670/3628 [24:10<3:58:56,  4"
     ]
    },
    {
     "name": "stdout",
     "output_type": "stream",
     "text": [
      "[download] 100% of    1.92MiB in 00:00:02 at 922.35KiB/s               \n",
      "[ExtractAudio] Destination: ..\\data\\raw\\dementia_diaries\\audio\\Join George as he listens in wonder to a songthrush. Be transported._979695040.wav\n"
     ]
    },
    {
     "name": "stderr",
     "output_type": "stream",
     "text": [
      "Downloading Diaries:  18%|▏| 671/3628 [24:13<3:37:02,  4"
     ]
    },
    {
     "name": "stdout",
     "output_type": "stream",
     "text": [
      "[download] 100% of  651.06KiB in 00:00:00 at 746.70KiB/s                 \n",
      "[ExtractAudio] Destination: ..\\data\\raw\\dementia_diaries\\audio\\Dory�s fitness regime is going great guns. Putting on her glasses though, not so much._979693885.wav\n"
     ]
    },
    {
     "name": "stderr",
     "output_type": "stream",
     "text": [
      "Downloading Diaries:  19%|▏| 672/3628 [24:35<7:58:30,  9"
     ]
    },
    {
     "name": "stdout",
     "output_type": "stream",
     "text": [
      "[download] 100% of   18.29MiB in 00:00:18 at 1012.39KiB/s                \n",
      "[ExtractAudio] Destination: ..\\data\\raw\\dementia_diaries\\audio\\Our DEEP News Audio Version January February 2021_977032093.wav\n"
     ]
    },
    {
     "name": "stderr",
     "output_type": "stream",
     "text": [
      "Downloading Diaries:  19%|▏| 673/3628 [24:45<7:56:26,  9"
     ]
    },
    {
     "name": "stdout",
     "output_type": "stream",
     "text": [
      "[download] 100% of    2.48MiB in 00:00:02 at 1.03MiB/s                 \n",
      "[ExtractAudio] Destination: ..\\data\\raw\\dementia_diaries\\audio\\Melvyn encourages people to read the poems in the Time and Place book._975239791.wav\n"
     ]
    },
    {
     "name": "stderr",
     "output_type": "stream",
     "text": [
      "Downloading Diaries:  19%|▏| 674/3628 [24:51<7:03:22,  8"
     ]
    },
    {
     "name": "stdout",
     "output_type": "stream",
     "text": [
      "[download] 100% of    2.86MiB in 00:00:02 at 1.18MiB/s                 \n",
      "[ExtractAudio] Destination: ..\\data\\raw\\dementia_diaries\\audio\\Don't listen to this if you are hungry. Melvyn has been cooking up a storm._975239293.wav\n"
     ]
    },
    {
     "name": "stderr",
     "output_type": "stream",
     "text": [
      "Downloading Diaries:  19%|▏| 675/3628 [24:55<5:58:42,  7"
     ]
    },
    {
     "name": "stdout",
     "output_type": "stream",
     "text": [
      "[download] 100% of  542.38KiB in 00:00:00 at 780.60KiB/s               \n",
      "[ExtractAudio] Destination: ..\\data\\raw\\dementia_diaries\\audio\\Jacqui is overjoyed to have started watercolour lessons._975238708.wav\n"
     ]
    },
    {
     "name": "stderr",
     "output_type": "stream",
     "text": [
      "Downloading Diaries:  19%|▏| 676/3628 [24:59<5:07:18,  6"
     ]
    },
    {
     "name": "stdout",
     "output_type": "stream",
     "text": [
      "[download] 100% of  628.32KiB in 00:00:00 at 885.48KiB/s                 \n",
      "[ExtractAudio] Destination: ..\\data\\raw\\dementia_diaries\\audio\\Jacqui has been really enjoying travel videos by Rick Steves on YouTube_975238273.wav\n"
     ]
    },
    {
     "name": "stderr",
     "output_type": "stream",
     "text": [
      "Downloading Diaries:  19%|▏| 677/3628 [25:02<4:24:47,  5"
     ]
    },
    {
     "name": "stdout",
     "output_type": "stream",
     "text": [
      "[download] 100% of  383.36KiB in 00:00:00 at 659.69KiB/s               \n",
      "[ExtractAudio] Destination: ..\\data\\raw\\dementia_diaries\\audio\\Raymond has been enjoying Singing for the Brain on ZOOM_975237886.wav\n"
     ]
    },
    {
     "name": "stderr",
     "output_type": "stream",
     "text": [
      "Downloading Diaries:  19%|▏| 678/3628 [25:05<3:43:53,  4"
     ]
    },
    {
     "name": "stdout",
     "output_type": "stream",
     "text": [
      "[download] 100% of  678.14KiB in 00:00:00 at 972.30KiB/s                 \n",
      "[ExtractAudio] Destination: ..\\data\\raw\\dementia_diaries\\audio\\Joy reconsiders her opinion of reminiscence thanks to Search and Rescue_975237448.wav\n"
     ]
    },
    {
     "name": "stderr",
     "output_type": "stream",
     "text": [
      "Downloading Diaries:  19%|▏| 679/3628 [25:10<3:45:29,  4"
     ]
    },
    {
     "name": "stdout",
     "output_type": "stream",
     "text": [
      "[download] 100% of    1.19MiB in 00:00:01 at 1021.64KiB/s              \n",
      "[ExtractAudio] Destination: ..\\data\\raw\\dementia_diaries\\audio\\A DEEP Hug bear brings some comfort to Agnes during a very difficult time._975236950.wav\n"
     ]
    },
    {
     "name": "stderr",
     "output_type": "stream",
     "text": [
      "Downloading Diaries:  19%|▏| 680/3628 [25:14<3:38:24,  4"
     ]
    },
    {
     "name": "stdout",
     "output_type": "stream",
     "text": [
      "[download] 100% of  804.34KiB in 00:00:00 at 905.60KiB/s                 \n",
      "[ExtractAudio] Destination: ..\\data\\raw\\dementia_diaries\\audio\\Jacqui muses on the importance of retaining a sense of purpose during lockdown._975236485.wav\n"
     ]
    },
    {
     "name": "stderr",
     "output_type": "stream",
     "text": [
      "Downloading Diaries:  19%|▏| 681/3628 [25:20<4:07:05,  5"
     ]
    },
    {
     "name": "stdout",
     "output_type": "stream",
     "text": [
      "[download] 100% of    2.61MiB in 00:00:02 at 1.04MiB/s                 \n",
      "[ExtractAudio] Destination: ..\\data\\raw\\dementia_diaries\\audio\\Dreane talks about the importance of reaching out when you need to._975236011.wav\n"
     ]
    },
    {
     "name": "stderr",
     "output_type": "stream",
     "text": [
      "Downloading Diaries:  19%|▏| 682/3628 [25:23<3:40:32,  4"
     ]
    },
    {
     "name": "stdout",
     "output_type": "stream",
     "text": [
      "[download] 100% of  368.91KiB in 00:00:00 at 682.16KiB/s               \n",
      "[ExtractAudio] Destination: ..\\data\\raw\\dementia_diaries\\audio\\Raymond has been enjoying his ZOOM meetings._975235144.wav\n"
     ]
    },
    {
     "name": "stderr",
     "output_type": "stream",
     "text": [
      "Downloading Diaries:  19%|▏| 683/3628 [25:27<3:33:11,  4"
     ]
    },
    {
     "name": "stdout",
     "output_type": "stream",
     "text": [
      "[download] 100% of  859.48KiB in 00:00:01 at 814.26KiB/s               \n",
      "[ExtractAudio] Destination: ..\\data\\raw\\dementia_diaries\\audio\\Stephen is pleased to have tested negative for COVID - so he can crack on and get his chest X-Ray_975234754.wav\n"
     ]
    },
    {
     "name": "stderr",
     "output_type": "stream",
     "text": [
      "Downloading Diaries:  19%|▏| 684/3628 [25:31<3:27:51,  4"
     ]
    },
    {
     "name": "stdout",
     "output_type": "stream",
     "text": [
      "[download] 100% of  790.68KiB in 00:00:01 at 689.52KiB/s               \n",
      "[ExtractAudio] Destination: ..\\data\\raw\\dementia_diaries\\audio\\Stephen is glad to be able to get some �free oxygen�_975234391.wav\n"
     ]
    },
    {
     "name": "stderr",
     "output_type": "stream",
     "text": [
      "Downloading Diaries:  19%|▏| 685/3628 [25:37<3:46:33,  4"
     ]
    },
    {
     "name": "stdout",
     "output_type": "stream",
     "text": [
      "[download] 100% of    3.02MiB in 00:00:03 at 997.34KiB/s               \n",
      "[ExtractAudio] Destination: ..\\data\\raw\\dementia_diaries\\audio\\George ponders the qualities of an effective DEEP group facilitator._975233995.wav\n"
     ]
    },
    {
     "name": "stderr",
     "output_type": "stream",
     "text": [
      "Downloading Diaries:  19%|▏| 686/3628 [25:44<4:22:31,  5"
     ]
    },
    {
     "name": "stdout",
     "output_type": "stream",
     "text": [
      "[download] 100% of    3.33MiB in 00:00:03 at 928.78KiB/s               \n",
      "[ExtractAudio] Destination: ..\\data\\raw\\dementia_diaries\\audio\\George diaries from his shed where he is carving._975232795.wav\n"
     ]
    },
    {
     "name": "stderr",
     "output_type": "stream",
     "text": [
      "Downloading Diaries:  19%|▏| 687/3628 [25:49<4:18:34,  5"
     ]
    },
    {
     "name": "stdout",
     "output_type": "stream",
     "text": [
      "[download] 100% of  749.65KiB in 00:00:01 at 745.86KiB/s                 \n",
      "[ExtractAudio] Destination: ..\\data\\raw\\dementia_diaries\\audio\\Dory looks forward to being �fit as a butchers dog�._975230707.wav\n"
     ]
    },
    {
     "name": "stderr",
     "output_type": "stream",
     "text": [
      "Downloading Diaries:  19%|▏| 688/3628 [25:55<4:20:37,  5"
     ]
    },
    {
     "name": "stdout",
     "output_type": "stream",
     "text": [
      "[download] 100% of    1.01MiB in 00:00:01 at 739.27KiB/s               \n",
      "[ExtractAudio] Destination: ..\\data\\raw\\dementia_diaries\\audio\\Bill talks about how finding others with dementia online has helped him during lockdown._975229984.wav\n"
     ]
    },
    {
     "name": "stderr",
     "output_type": "stream",
     "text": [
      "Downloading Diaries:  19%|▏| 689/3628 [26:01<4:31:59,  5"
     ]
    },
    {
     "name": "stdout",
     "output_type": "stream",
     "text": [
      "[download] 100% of    1.63MiB in 00:00:02 at 772.12KiB/s               \n",
      "[ExtractAudio] Destination: ..\\data\\raw\\dementia_diaries\\audio\\Gail cannot understand people not following the rules during lockdown._975227173.wav\n"
     ]
    },
    {
     "name": "stderr",
     "output_type": "stream",
     "text": [
      "Downloading Diaries:  19%|▏| 690/3628 [26:05<4:21:39,  5"
     ]
    },
    {
     "name": "stdout",
     "output_type": "stream",
     "text": [
      "[download] 100% of  553.28KiB in 00:00:00 at 631.23KiB/s                 \n",
      "[ExtractAudio] Destination: ..\\data\\raw\\dementia_diaries\\audio\\Gail reads �Taboo�, her poem written just after her diagnosis, and it�s spot-on._975226636.wav\n"
     ]
    },
    {
     "name": "stderr",
     "output_type": "stream",
     "text": [
      "Downloading Diaries:  19%|▏| 691/3628 [26:10<4:15:11,  5"
     ]
    },
    {
     "name": "stdout",
     "output_type": "stream",
     "text": [
      "[download] 100% of    1.51MiB in 00:00:02 at 773.09KiB/s               \n",
      "[ExtractAudio] Destination: ..\\data\\raw\\dementia_diaries\\audio\\Gail is struggling to remember how if feels to hug her family._975225943.wav\n"
     ]
    },
    {
     "name": "stderr",
     "output_type": "stream",
     "text": [
      "Downloading Diaries:  19%|▏| 692/3628 [26:16<4:20:20,  5"
     ]
    },
    {
     "name": "stdout",
     "output_type": "stream",
     "text": [
      "[download] 100% of    2.02MiB in 00:00:02 at 805.85KiB/s               \n",
      "[ExtractAudio] Destination: ..\\data\\raw\\dementia_diaries\\audio\\Keith describes how he has overcome his fear of going out during lockdown._975220129.wav\n"
     ]
    },
    {
     "name": "stderr",
     "output_type": "stream",
     "text": [
      "Downloading Diaries:  19%|▏| 693/3628 [26:21<4:09:13,  5"
     ]
    },
    {
     "name": "stdout",
     "output_type": "stream",
     "text": [
      "[download] 100% of    1.08MiB in 00:00:01 at 805.32KiB/s               \n",
      "[ExtractAudio] Destination: ..\\data\\raw\\dementia_diaries\\audio\\Organising a meeting Here�s some great advice from Wayne._970481668.wav\n"
     ]
    },
    {
     "name": "stderr",
     "output_type": "stream",
     "text": [
      "Downloading Diaries:  19%|▏| 694/3628 [26:26<4:11:03,  5"
     ]
    },
    {
     "name": "stdout",
     "output_type": "stream",
     "text": [
      "[download] 100% of    1.94MiB in 00:00:01 at 1.08MiB/s                 \n",
      "[ExtractAudio] Destination: ..\\data\\raw\\dementia_diaries\\audio\\Agnes makes a plea for better understanding of the importance of self-directed support._970474657.wav\n"
     ]
    },
    {
     "name": "stderr",
     "output_type": "stream",
     "text": [
      "Downloading Diaries:  19%|▏| 695/3628 [26:31<4:10:57,  5"
     ]
    },
    {
     "name": "stdout",
     "output_type": "stream",
     "text": [
      "[download] 100% of    1.54MiB in 00:00:01 at 1.03MiB/s                 \n",
      "[ExtractAudio] Destination: ..\\data\\raw\\dementia_diaries\\audio\\Agnes thanks friends for their support during a really bad night with her respiratory illness._970471648.wav\n"
     ]
    },
    {
     "name": "stderr",
     "output_type": "stream",
     "text": [
      "Downloading Diaries:  19%|▏| 696/3628 [26:37<4:22:05,  5"
     ]
    },
    {
     "name": "stdout",
     "output_type": "stream",
     "text": [
      "[download] 100% of    2.22MiB in 00:00:01 at 1.14MiB/s                 \n",
      "[ExtractAudio] Destination: ..\\data\\raw\\dementia_diaries\\audio\\Jacqui is still bouncing around from pillar to post trying to get help to look after herself._970471135.wav\n"
     ]
    },
    {
     "name": "stderr",
     "output_type": "stream",
     "text": [
      "Downloading Diaries:  19%|▏| 697/3628 [26:42<4:15:55,  5"
     ]
    },
    {
     "name": "stdout",
     "output_type": "stream",
     "text": [
      "[download] 100% of  535.45KiB in 00:00:00 at 814.14KiB/s               \n",
      "[ExtractAudio] Destination: ..\\data\\raw\\dementia_diaries\\audio\\�When it�s raining, look for the rainbows� says Joy._970470469.wav\n"
     ]
    },
    {
     "name": "stderr",
     "output_type": "stream",
     "text": [
      "Downloading Diaries:  19%|▏| 698/3628 [26:46<3:55:26,  4"
     ]
    },
    {
     "name": "stdout",
     "output_type": "stream",
     "text": [
      "[download] 100% of  787.02KiB in 00:00:00 at 923.10KiB/s                 \n",
      "[ExtractAudio] Destination: ..\\data\\raw\\dementia_diaries\\audio\\James has had his COVID jab today. He wonders how they know who they are jabbing._970470205.wav\n"
     ]
    },
    {
     "name": "stderr",
     "output_type": "stream",
     "text": [
      "Downloading Diaries:  19%|▏| 699/3628 [26:50<3:42:21,  4"
     ]
    },
    {
     "name": "stdout",
     "output_type": "stream",
     "text": [
      "[download] 100% of  544.85KiB in 00:00:00 at 870.48KiB/s               \n",
      "[ExtractAudio] Destination: ..\\data\\raw\\dementia_diaries\\audio\\Frances has been not so good recently, but is hoping for better days to come._970469755.wav\n"
     ]
    },
    {
     "name": "stderr",
     "output_type": "stream",
     "text": [
      "Downloading Diaries:  19%|▏| 700/3628 [26:53<3:32:18,  4"
     ]
    },
    {
     "name": "stdout",
     "output_type": "stream",
     "text": [
      "[download] 100% of    1.62MiB in 00:00:01 at 1.09MiB/s                 \n",
      "[ExtractAudio] Destination: ..\\data\\raw\\dementia_diaries\\audio\\Melvyn reads a great poem about COVID that will resonate with a lot of people et the moment._970469449.wav\n"
     ]
    },
    {
     "name": "stderr",
     "output_type": "stream",
     "text": [
      "Downloading Diaries:  19%|▏| 701/3628 [26:58<3:35:02,  4"
     ]
    },
    {
     "name": "stdout",
     "output_type": "stream",
     "text": [
      "[download] 100% of    1.33MiB in 00:00:01 at 1.01MiB/s                 \n",
      "[ExtractAudio] Destination: ..\\data\\raw\\dementia_diaries\\audio\\Agnes is still feeling exhausted but is doing her best to keep well on her own terms._970468255.wav\n"
     ]
    },
    {
     "name": "stderr",
     "output_type": "stream",
     "text": [
      "Downloading Diaries:  19%|▏| 702/3628 [27:01<3:18:09,  4"
     ]
    },
    {
     "name": "stdout",
     "output_type": "stream",
     "text": [
      "[download] 100% of  393.93KiB in 00:00:00 at 565.35KiB/s               \n",
      "[ExtractAudio] Destination: ..\\data\\raw\\dementia_diaries\\audio\\Raymond is keeping busy, but finding lockdown hard._970467415.wav\n"
     ]
    },
    {
     "name": "stderr",
     "output_type": "stream",
     "text": [
      "Downloading Diaries:  19%|▏| 703/3628 [27:05<3:17:26,  4"
     ]
    },
    {
     "name": "stdout",
     "output_type": "stream",
     "text": [
      "[download] 100% of    1.70MiB in 00:00:01 at 1.04MiB/s                 \n",
      "[ExtractAudio] Destination: ..\\data\\raw\\dementia_diaries\\audio\\Keith writes again to his adversary �Dear Alzheimer�s� in defiant mood._970467181.wav\n"
     ]
    },
    {
     "name": "stderr",
     "output_type": "stream",
     "text": [
      "Downloading Diaries:  19%|▏| 704/3628 [27:10<3:22:57,  4"
     ]
    },
    {
     "name": "stdout",
     "output_type": "stream",
     "text": [
      "[download] 100% of    1.13MiB in 00:00:01 at 849.95KiB/s               \n",
      "[ExtractAudio] Destination: ..\\data\\raw\\dementia_diaries\\audio\\�It's like groundhog day every day� Steve is feeling really worn down by lockdown._970466479.wav\n"
     ]
    },
    {
     "name": "stderr",
     "output_type": "stream",
     "text": [
      "Downloading Diaries:  19%|▏| 705/3628 [27:14<3:25:24,  4"
     ]
    },
    {
     "name": "stdout",
     "output_type": "stream",
     "text": [
      "[download] 100% of  831.63KiB in 00:00:00 at 845.23KiB/s                 \n",
      "[ExtractAudio] Destination: ..\\data\\raw\\dementia_diaries\\audio\\Stephen�s test has arrived in the post, he�s hoping for a negative result._970465699.wav\n"
     ]
    },
    {
     "name": "stderr",
     "output_type": "stream",
     "text": [
      "Downloading Diaries:  19%|▏| 706/3628 [27:17<3:10:11,  3"
     ]
    },
    {
     "name": "stdout",
     "output_type": "stream",
     "text": [
      "[download] 100% of  689.16KiB in 00:00:00 at 703.42KiB/s                 \n",
      "[ExtractAudio] Destination: ..\\data\\raw\\dementia_diaries\\audio\\Stephen�s discovered he needs to have a Covid test before he can have a chest x-ray._970465459.wav\n"
     ]
    },
    {
     "name": "stderr",
     "output_type": "stream",
     "text": [
      "Downloading Diaries:  19%|▏| 707/3628 [27:21<3:16:07,  4"
     ]
    },
    {
     "name": "stdout",
     "output_type": "stream",
     "text": [
      "[download] 100% of  844.73KiB in 00:00:01 at 764.74KiB/s               \n",
      "[ExtractAudio] Destination: ..\\data\\raw\\dementia_diaries\\audio\\Not yet recovered but Stephen�s chest is much improved, as is the weather._970465060.wav\n"
     ]
    },
    {
     "name": "stderr",
     "output_type": "stream",
     "text": [
      "Downloading Diaries:  20%|▏| 708/3628 [27:25<3:04:26,  3"
     ]
    },
    {
     "name": "stdout",
     "output_type": "stream",
     "text": [
      "[download] 100% of  867.07KiB in 00:00:01 at 814.42KiB/s               \n",
      "[ExtractAudio] Destination: ..\\data\\raw\\dementia_diaries\\audio\\Stephen makes a bold case for Samsung._970464808.wav\n"
     ]
    },
    {
     "name": "stderr",
     "output_type": "stream",
     "text": [
      "Downloading Diaries:  20%|▏| 709/3628 [27:29<3:16:14,  4"
     ]
    },
    {
     "name": "stdout",
     "output_type": "stream",
     "text": [
      "[download] 100% of  384.04KiB in 00:00:00 at 399.93KiB/s               \n",
      "[ExtractAudio] Destination: ..\\data\\raw\\dementia_diaries\\audio\\Lorraine records this great diary from a bridge in the middle of Capstone Lake._970464511.wav\n"
     ]
    },
    {
     "name": "stderr",
     "output_type": "stream",
     "text": [
      "Downloading Diaries:  20%|▏| 710/3628 [27:32<3:01:22,  3"
     ]
    },
    {
     "name": "stdout",
     "output_type": "stream",
     "text": [
      "[download] 100% of  377.43KiB in 00:00:00 at 692.39KiB/s               \n",
      "[ExtractAudio] Destination: ..\\data\\raw\\dementia_diaries\\audio\\Signs of spring abound in Lorraine�s garden. Just what we all need._970464301.wav\n"
     ]
    },
    {
     "name": "stderr",
     "output_type": "stream",
     "text": [
      "Downloading Diaries:  20%|▏| 711/3628 [27:36<3:02:08,  3"
     ]
    },
    {
     "name": "stdout",
     "output_type": "stream",
     "text": [
      "[download] 100% of  461.29KiB in 00:00:00 at 613.90KiB/s                 \n",
      "[ExtractAudio] Destination: ..\\data\\raw\\dementia_diaries\\audio\\Keith has been out in the open in this lovely (and beautifully recorded) diary._970464001.wav\n"
     ]
    },
    {
     "name": "stderr",
     "output_type": "stream",
     "text": [
      "Downloading Diaries:  20%|▏| 712/3628 [27:41<3:15:40,  4"
     ]
    },
    {
     "name": "stdout",
     "output_type": "stream",
     "text": [
      "[download] 100% of  696.50KiB in 00:00:00 at 715.72KiB/s                 \n",
      "[ExtractAudio] Destination: ..\\data\\raw\\dementia_diaries\\audio\\It's lovely to hear from the Happy Tandemer in her first diary of the New Year._966251926.wav\n"
     ]
    },
    {
     "name": "stderr",
     "output_type": "stream",
     "text": [
      "Downloading Diaries:  20%|▏| 713/3628 [27:44<3:05:34,  3"
     ]
    },
    {
     "name": "stdout",
     "output_type": "stream",
     "text": [
      "[download] 100% of    1.04MiB in 00:00:01 at 993.93KiB/s               \n",
      "[ExtractAudio] Destination: ..\\data\\raw\\dementia_diaries\\audio\\Stephen is in bed but feeling a little better. Have a good rest Stephen._966198199.wav\n"
     ]
    },
    {
     "name": "stderr",
     "output_type": "stream",
     "text": [
      "Downloading Diaries:  20%|▏| 714/3628 [27:49<3:18:29,  4"
     ]
    },
    {
     "name": "stdout",
     "output_type": "stream",
     "text": [
      "[download] 100% of  737.12KiB in 00:00:00 at 765.20KiB/s                 \n",
      "[ExtractAudio] Destination: ..\\data\\raw\\dementia_diaries\\audio\\Blimey,  hasn�t Wayne had a good week. If you find out why, can you bottle it_966187537.wav\n"
     ]
    },
    {
     "name": "stderr",
     "output_type": "stream",
     "text": [
      "Downloading Diaries:  20%|▏| 715/3628 [27:52<3:09:37,  3"
     ]
    },
    {
     "name": "stdout",
     "output_type": "stream",
     "text": [
      "[download] 100% of  955.98KiB in 00:00:01 at 937.15KiB/s               \n",
      "[ExtractAudio] Destination: ..\\data\\raw\\dementia_diaries\\audio\\Bill makes his first diary entry from across the pond in Canada. Welcome Bill._966187084.wav\n"
     ]
    },
    {
     "name": "stderr",
     "output_type": "stream",
     "text": [
      "Downloading Diaries:  20%|▏| 716/3628 [27:56<3:10:50,  3"
     ]
    },
    {
     "name": "stdout",
     "output_type": "stream",
     "text": [
      "[download] 100% of  773.84KiB in 00:00:00 at 969.20KiB/s                 \n",
      "[ExtractAudio] Destination: ..\\data\\raw\\dementia_diaries\\audio\\James wonders about those whose lives were changed following the Aberfan disaster._966184651.wav\n"
     ]
    },
    {
     "name": "stderr",
     "output_type": "stream",
     "text": [
      "Downloading Diaries:  20%|▏| 717/3628 [28:00<3:13:30,  3"
     ]
    },
    {
     "name": "stdout",
     "output_type": "stream",
     "text": [
      "[download] 100% of  862.66KiB in 00:00:00 at 963.40KiB/s                 \n",
      "[ExtractAudio] Destination: ..\\data\\raw\\dementia_diaries\\audio\\James remembers the scourges of polio and smallpox and the role of vaccines in eliminating them._966183694.wav\n"
     ]
    },
    {
     "name": "stderr",
     "output_type": "stream",
     "text": [
      "Downloading Diaries:  20%|▏| 718/3628 [28:04<3:05:38,  3"
     ]
    },
    {
     "name": "stdout",
     "output_type": "stream",
     "text": [
      "[download] 100% of    1.06MiB in 00:00:01 at 985.13KiB/s               \n",
      "[ExtractAudio] Destination: ..\\data\\raw\\dementia_diaries\\audio\\Glenda is finding this lockdown much more difficult than the last._966182902.wav\n"
     ]
    },
    {
     "name": "stderr",
     "output_type": "stream",
     "text": [
      "Downloading Diaries:  20%|▏| 719/3628 [28:10<3:31:45,  4"
     ]
    },
    {
     "name": "stdout",
     "output_type": "stream",
     "text": [
      "[download] 100% of    2.38MiB in 00:00:02 at 1.01MiB/s                 \n",
      "[ExtractAudio] Destination: ..\\data\\raw\\dementia_diaries\\audio\\Melvyn wonders if celebrity support might help spread the word about the poetry project._966180424.wav\n"
     ]
    },
    {
     "name": "stderr",
     "output_type": "stream",
     "text": [
      "Downloading Diaries:  20%|▏| 720/3628 [28:14<3:27:13,  4"
     ]
    },
    {
     "name": "stdout",
     "output_type": "stream",
     "text": [
      "[download] 100% of    1.21MiB in 00:00:01 at 1.05MiB/s                 \n",
      "[ExtractAudio] Destination: ..\\data\\raw\\dementia_diaries\\audio\\Agnes is exhausted by her efforts to get support for her husband._966174721.wav\n"
     ]
    },
    {
     "name": "stderr",
     "output_type": "stream",
     "text": [
      "Downloading Diaries:  20%|▏| 721/3628 [28:19<3:36:22,  4"
     ]
    },
    {
     "name": "stdout",
     "output_type": "stream",
     "text": [
      "[download] 100% of    1.33MiB in 00:00:01 at 1.06MiB/s                 \n",
      "[ExtractAudio] Destination: ..\\data\\raw\\dementia_diaries\\audio\\Agnes is getting to grips and coming to terms with her new status as a carer._966171793.wav\n"
     ]
    },
    {
     "name": "stderr",
     "output_type": "stream",
     "text": [
      "Downloading Diaries:  20%|▏| 722/3628 [28:23<3:31:42,  4"
     ]
    },
    {
     "name": "stdout",
     "output_type": "stream",
     "text": [
      "[download] 100% of    1.13MiB in 00:00:01 at 953.11KiB/s               \n",
      "[ExtractAudio] Destination: ..\\data\\raw\\dementia_diaries\\audio\\Jacqui continues her efforts to find the right balance in continence management._966169573.wav\n"
     ]
    },
    {
     "name": "stderr",
     "output_type": "stream",
     "text": [
      "Downloading Diaries:  20%|▏| 723/3628 [28:26<3:11:44,  3"
     ]
    },
    {
     "name": "stdout",
     "output_type": "stream",
     "text": [
      "[download] 100% of  451.29KiB in 00:00:00 at 754.19KiB/s               \n",
      "[ExtractAudio] Destination: ..\\data\\raw\\dementia_diaries\\audio\\Raymond finds a shared experience with others in the DEEP newsletter._966166180.wav\n"
     ]
    },
    {
     "name": "stderr",
     "output_type": "stream",
     "text": [
      "Downloading Diaries:  20%|▏| 724/3628 [28:30<3:12:45,  3"
     ]
    },
    {
     "name": "stdout",
     "output_type": "stream",
     "text": [
      "[download] 100% of    1.13MiB in 00:00:01 at 836.76KiB/s               \n",
      "[ExtractAudio] Destination: ..\\data\\raw\\dementia_diaries\\audio\\Keith reads a wonderful poem about the Time and Place poetry project._966123130.wav\n"
     ]
    },
    {
     "name": "stderr",
     "output_type": "stream",
     "text": [
      "Downloading Diaries:  20%|▏| 725/3628 [28:35<3:24:56,  4"
     ]
    },
    {
     "name": "stdout",
     "output_type": "stream",
     "text": [
      "[download] 100% of    1.96MiB in 00:00:02 at 939.62KiB/s               \n",
      "[ExtractAudio] Destination: ..\\data\\raw\\dementia_diaries\\audio\\Melvyn wants to say a special thank you to those that supported the Time and Place poetry project._966122485.wav\n"
     ]
    },
    {
     "name": "stderr",
     "output_type": "stream",
     "text": [
      "Downloading Diaries:  20%|▏| 726/3628 [28:38<3:19:50,  4"
     ]
    },
    {
     "name": "stdout",
     "output_type": "stream",
     "text": [
      "[download] 100% of  433.34KiB in 00:00:00 at 807.91KiB/s               \n",
      "[ExtractAudio] Destination: ..\\data\\raw\\dementia_diaries\\audio\\James reminds us that it�s not just dementia that can cause memory problems._966121879.wav\n"
     ]
    },
    {
     "name": "stderr",
     "output_type": "stream",
     "text": [
      "Downloading Diaries:  20%|▏| 727/3628 [28:42<3:18:01,  4"
     ]
    },
    {
     "name": "stdout",
     "output_type": "stream",
     "text": [
      "[download] 100% of  989.00KiB in 00:00:01 at 966.62KiB/s                 \n",
      "[ExtractAudio] Destination: ..\\data\\raw\\dementia_diaries\\audio\\Stephen�s recovery slowly improves, and he�s trying to keep busy._966121027.wav\n"
     ]
    },
    {
     "name": "stderr",
     "output_type": "stream",
     "text": [
      "Downloading Diaries:  20%|▏| 728/3628 [28:46<3:07:31,  3"
     ]
    },
    {
     "name": "stdout",
     "output_type": "stream",
     "text": [
      "[download] 100% of    1.09MiB in 00:00:01 at 987.31KiB/s               \n",
      "[ExtractAudio] Destination: ..\\data\\raw\\dementia_diaries\\audio\\Stephen is looking forward to feeling better and maybe getting out if weather improves as promised._966120580.wav\n"
     ]
    },
    {
     "name": "stderr",
     "output_type": "stream",
     "text": [
      "Downloading Diaries:  20%|▏| 729/3628 [28:50<3:14:25,  4"
     ]
    },
    {
     "name": "stdout",
     "output_type": "stream",
     "text": [
      "[download] 100% of    1.04MiB in 00:00:01 at 996.66KiB/s               \n",
      "[ExtractAudio] Destination: ..\\data\\raw\\dementia_diaries\\audio\\Stephen is in bed but feeling a little better. Have a good rest Stephen._966120319.wav\n"
     ]
    },
    {
     "name": "stderr",
     "output_type": "stream",
     "text": [
      "Downloading Diaries:  20%|▏| 730/3628 [28:55<3:31:07,  4"
     ]
    },
    {
     "name": "stdout",
     "output_type": "stream",
     "text": [
      "[download] 100% of    1.23MiB in 00:00:01 at 833.32KiB/s               \n",
      "[ExtractAudio] Destination: ..\\data\\raw\\dementia_diaries\\audio\\Dory has some words of advice for those wanting to consult with people with dementia._966119878.wav\n"
     ]
    },
    {
     "name": "stderr",
     "output_type": "stream",
     "text": [
      "Downloading Diaries:  20%|▏| 731/3628 [28:59<3:18:18,  4"
     ]
    },
    {
     "name": "stdout",
     "output_type": "stream",
     "text": [
      "[download] 100% of  924.09KiB in 00:00:01 at 813.06KiB/s               \n",
      "[ExtractAudio] Destination: ..\\data\\raw\\dementia_diaries\\audio\\Wayne has some amazing news from Tasmania. Cracking news Wayne!_966119398.wav\n"
     ]
    },
    {
     "name": "stderr",
     "output_type": "stream",
     "text": [
      "Downloading Diaries:  20%|▏| 732/3628 [29:05<3:47:19,  4"
     ]
    },
    {
     "name": "stdout",
     "output_type": "stream",
     "text": [
      "[download] 100% of    1.99MiB in 00:00:02 at 905.83KiB/s               \n",
      "[ExtractAudio] Destination: ..\\data\\raw\\dementia_diaries\\audio\\Gail reads a brilliant poem about getting a diagnosis of dementia._966118495.wav\n"
     ]
    },
    {
     "name": "stderr",
     "output_type": "stream",
     "text": [
      "Downloading Diaries:  20%|▏| 733/3628 [29:10<3:51:44,  4"
     ]
    },
    {
     "name": "stdout",
     "output_type": "stream",
     "text": [
      "[download] 100% of    1.02MiB in 00:00:01 at 733.96KiB/s               \n",
      "[ExtractAudio] Destination: ..\\data\\raw\\dementia_diaries\\audio\\Great advice from Keith for people with dementia struggling with loneliness at home._966117934.wav\n"
     ]
    },
    {
     "name": "stderr",
     "output_type": "stream",
     "text": [
      "Downloading Diaries:  20%|▏| 734/3628 [29:17<4:20:53,  5"
     ]
    },
    {
     "name": "stdout",
     "output_type": "stream",
     "text": [
      "[download] 100% of    3.79MiB in 00:00:03 at 1.00MiB/s                 \n",
      "[ExtractAudio] Destination: ..\\data\\raw\\dementia_diaries\\audio\\Does George detect the first glimpses of a return to brighter days_961879051.wav\n"
     ]
    },
    {
     "name": "stderr",
     "output_type": "stream",
     "text": [
      "Downloading Diaries:  20%|▏| 735/3628 [29:22<4:14:20,  5"
     ]
    },
    {
     "name": "stdout",
     "output_type": "stream",
     "text": [
      "[download] 100% of  349.09KiB in 00:00:00 at 594.96KiB/s               \n",
      "[ExtractAudio] Destination: ..\\data\\raw\\dementia_diaries\\audio\\Raymond hopes everyone is keeping safe. You too Raymond X_961779727.wav\n"
     ]
    },
    {
     "name": "stderr",
     "output_type": "stream",
     "text": [
      "Downloading Diaries:  20%|▏| 736/3628 [29:26<3:53:37,  4"
     ]
    },
    {
     "name": "stdout",
     "output_type": "stream",
     "text": [
      "[download] 100% of    1.87MiB in 00:00:01 at 1.04MiB/s                 \n",
      "[ExtractAudio] Destination: ..\\data\\raw\\dementia_diaries\\audio\\Melvyn takes his council to task over it�s financial decisions_961777465.wav\n"
     ]
    },
    {
     "name": "stderr",
     "output_type": "stream",
     "text": [
      "Downloading Diaries:  20%|▏| 737/3628 [29:32<4:13:17,  5"
     ]
    },
    {
     "name": "stdout",
     "output_type": "stream",
     "text": [
      "[download] 100% of    2.83MiB in 00:00:02 at 1.15MiB/s                 \n",
      "[ExtractAudio] Destination: ..\\data\\raw\\dementia_diaries\\audio\\Dreane remembers more about Christmas Day, complete with mystery chicken._961774240.wav\n"
     ]
    },
    {
     "name": "stderr",
     "output_type": "stream",
     "text": [
      "Downloading Diaries:  20%|▏| 738/3628 [29:38<4:22:20,  5"
     ]
    },
    {
     "name": "stdout",
     "output_type": "stream",
     "text": [
      "[download] 100% of    3.02MiB in 00:00:02 at 1.15MiB/s                 \n",
      "[ExtractAudio] Destination: ..\\data\\raw\\dementia_diaries\\audio\\Before the current lockdown, Melvyn reads a collection of his poems own the theme of COVID._961771702.wav\n"
     ]
    },
    {
     "name": "stderr",
     "output_type": "stream",
     "text": [
      "Downloading Diaries:  20%|▏| 739/3628 [29:43<4:12:57,  5"
     ]
    },
    {
     "name": "stdout",
     "output_type": "stream",
     "text": [
      "[download] 100% of    1.51MiB in 00:00:01 at 1.05MiB/s                 \n",
      "[ExtractAudio] Destination: ..\\data\\raw\\dementia_diaries\\audio\\Part 3 of Melvyn�s diary about The Rat. This could run and run, like the rat._961767526.wav\n"
     ]
    },
    {
     "name": "stderr",
     "output_type": "stream",
     "text": [
      "Downloading Diaries:  20%|▏| 740/3628 [29:49<4:28:13,  5"
     ]
    },
    {
     "name": "stdout",
     "output_type": "stream",
     "text": [
      "[download] 100% of    2.97MiB in 00:00:02 at 1.14MiB/s                 \n",
      "[ExtractAudio] Destination: ..\\data\\raw\\dementia_diaries\\audio\\Part 2 of Melvyn�s diary about his struggles with the rat._961766635.wav\n"
     ]
    },
    {
     "name": "stderr",
     "output_type": "stream",
     "text": [
      "Downloading Diaries:  20%|▏| 741/3628 [29:54<4:23:42,  5"
     ]
    },
    {
     "name": "stdout",
     "output_type": "stream",
     "text": [
      "[download] 100% of    1.86MiB in 00:00:01 at 1.09MiB/s                 \n",
      "[ExtractAudio] Destination: ..\\data\\raw\\dementia_diaries\\audio\\Melvyn continues his epic struggle with the garden rat. Part 1 of 3_961765417.wav\n"
     ]
    },
    {
     "name": "stderr",
     "output_type": "stream",
     "text": [
      "Downloading Diaries:  20%|▏| 742/3628 [29:58<4:00:39,  5"
     ]
    },
    {
     "name": "stdout",
     "output_type": "stream",
     "text": [
      "[download] 100% of  547.08KiB in 00:00:00 at 781.84KiB/s               \n",
      "[ExtractAudio] Destination: ..\\data\\raw\\dementia_diaries\\audio\\Joy resolves to get everything back in 2021 that COVID has taken away from her._961764676.wav\n"
     ]
    },
    {
     "name": "stderr",
     "output_type": "stream",
     "text": [
      "Downloading Diaries:  20%|▏| 743/3628 [30:04<4:15:28,  5"
     ]
    },
    {
     "name": "stdout",
     "output_type": "stream",
     "text": [
      "[download] 100% of    3.87MiB in 00:00:03 at 1.11MiB/s                 \n",
      "[ExtractAudio] Destination: ..\\data\\raw\\dementia_diaries\\audio\\Melvyn celebrates �Time and Place�, a new book of poems by people with dementia._961758700.wav\n"
     ]
    },
    {
     "name": "stderr",
     "output_type": "stream",
     "text": [
      "Downloading Diaries:  21%|▏| 744/3628 [30:11<4:35:46,  5"
     ]
    },
    {
     "name": "stdout",
     "output_type": "stream",
     "text": [
      "[download] 100% of    3.10MiB in 00:00:03 at 1012.68KiB/s              \n",
      "[ExtractAudio] Destination: ..\\data\\raw\\dementia_diaries\\audio\\Agnes reflects on a turbulent year during which, among other things she became a carer._961756798.wav\n"
     ]
    },
    {
     "name": "stderr",
     "output_type": "stream",
     "text": [
      "Downloading Diaries:  21%|▏| 745/3628 [30:15<4:10:59,  5"
     ]
    },
    {
     "name": "stdout",
     "output_type": "stream",
     "text": [
      "[download] 100% of    1.11MiB in 00:00:01 at 985.79KiB/s               \n",
      "[ExtractAudio] Destination: ..\\data\\raw\\dementia_diaries\\audio\\Dreane ponders the problems of a forthcoming lockdown._961755628.wav\n"
     ]
    },
    {
     "name": "stderr",
     "output_type": "stream",
     "text": [
      "Downloading Diaries:  21%|▏| 746/3628 [30:20<4:12:25,  5"
     ]
    },
    {
     "name": "stdout",
     "output_type": "stream",
     "text": [
      "[download] 100% of    3.01MiB in 00:00:02 at 1.11MiB/s                 \n",
      "[ExtractAudio] Destination: ..\\data\\raw\\dementia_diaries\\audio\\Melvyn reads a powerful poem about social justice._961755241.wav\n"
     ]
    },
    {
     "name": "stderr",
     "output_type": "stream",
     "text": [
      "Downloading Diaries:  21%|▏| 747/3628 [30:24<3:51:36,  4"
     ]
    },
    {
     "name": "stdout",
     "output_type": "stream",
     "text": [
      "[download] 100% of  937.61KiB in 00:00:00 at 980.27KiB/s                 \n",
      "[ExtractAudio] Destination: ..\\data\\raw\\dementia_diaries\\audio\\Julie has an important message for those tasked with delivering a diagnosis of dementia._961754233.wav\n"
     ]
    },
    {
     "name": "stderr",
     "output_type": "stream",
     "text": [
      "Downloading Diaries:  21%|▏| 748/3628 [30:30<4:06:44,  5"
     ]
    },
    {
     "name": "stdout",
     "output_type": "stream",
     "text": [
      "[download] 100% of    1.92MiB in 00:00:02 at 959.38KiB/s               \n",
      "[ExtractAudio] Destination: ..\\data\\raw\\dementia_diaries\\audio\\Dreane�s account of Christmas is wry as ever, and contains a lovely message of hope for 2021._961751104.wav\n"
     ]
    },
    {
     "name": "stderr",
     "output_type": "stream",
     "text": [
      "Downloading Diaries:  21%|▏| 749/3628 [30:33<3:41:33,  4"
     ]
    },
    {
     "name": "stdout",
     "output_type": "stream",
     "text": [
      "[download] 100% of  470.08KiB in 00:00:00 at 734.99KiB/s               \n",
      "[ExtractAudio] Destination: ..\\data\\raw\\dementia_diaries\\audio\\Raymond has been enjoying keeping fit over ZOOM._961750069.wav\n"
     ]
    },
    {
     "name": "stderr",
     "output_type": "stream",
     "text": [
      "Downloading Diaries:  21%|▏| 750/3628 [30:38<3:40:59,  4"
     ]
    },
    {
     "name": "stdout",
     "output_type": "stream",
     "text": [
      "[download] 100% of  741.71KiB in 00:00:00 at 840.46KiB/s                 \n",
      "[ExtractAudio] Destination: ..\\data\\raw\\dementia_diaries\\audio\\Julie has a message of hope for those recently diagnosed. These are wise words Julie X_961748116.wav\n"
     ]
    },
    {
     "name": "stderr",
     "output_type": "stream",
     "text": [
      "Downloading Diaries:  21%|▏| 751/3628 [30:43<3:43:34,  4"
     ]
    },
    {
     "name": "stdout",
     "output_type": "stream",
     "text": [
      "[download] 100% of    1.57MiB in 00:00:01 at 810.61KiB/s               \n",
      "[ExtractAudio] Destination: ..\\data\\raw\\dementia_diaries\\audio\\Dory is finding her new FitBit is helping motivate her to get out._961746394.wav\n"
     ]
    },
    {
     "name": "stderr",
     "output_type": "stream",
     "text": [
      "Downloading Diaries:  21%|▏| 752/3628 [30:47<3:38:42,  4"
     ]
    },
    {
     "name": "stdout",
     "output_type": "stream",
     "text": [
      "[download] 100% of    1.10MiB in 00:00:01 at 775.20KiB/s               \n",
      "[ExtractAudio] Destination: ..\\data\\raw\\dementia_diaries\\audio\\Gail experiences �a new world through a lens�._961745218.wav\n"
     ]
    },
    {
     "name": "stderr",
     "output_type": "stream",
     "text": [
      "Downloading Diaries:  21%|▏| 753/3628 [30:51<3:36:16,  4"
     ]
    },
    {
     "name": "stdout",
     "output_type": "stream",
     "text": [
      "[download] 100% of    1.58MiB in 00:00:01 at 810.61KiB/s               \n",
      "[ExtractAudio] Destination: ..\\data\\raw\\dementia_diaries\\audio\\Many will recognise Gail�s wish to return to normal after Christmas._961744372.wav\n"
     ]
    },
    {
     "name": "stderr",
     "output_type": "stream",
     "text": [
      "Downloading Diaries:  21%|▏| 754/3628 [30:58<4:10:28,  5"
     ]
    },
    {
     "name": "stdout",
     "output_type": "stream",
     "text": [
      "[download] 100% of    2.16MiB in 00:00:02 at 844.26KiB/s               \n",
      "[ExtractAudio] Destination: ..\\data\\raw\\dementia_diaries\\audio\\Gail reflects on her diagnosis and what has happened since._961742488.wav\n"
     ]
    },
    {
     "name": "stderr",
     "output_type": "stream",
     "text": [
      "Downloading Diaries:  21%|▏| 755/3628 [31:33<11:15:30, 1"
     ]
    },
    {
     "name": "stdout",
     "output_type": "stream",
     "text": [
      "[download] 100% of   29.11MiB in 00:00:31 at 947.06KiB/s                 \n",
      "[ExtractAudio] Destination: ..\\data\\raw\\dementia_diaries\\audio\\Scotland Wales Knowledge is Power Meeting Audio 27th Nov 2020_937040776.wav\n"
     ]
    },
    {
     "name": "stderr",
     "output_type": "stream",
     "text": [
      "Downloading Diaries:  21%|▏| 756/3628 [31:57<13:33:24, 1"
     ]
    },
    {
     "name": "stdout",
     "output_type": "stream",
     "text": [
      "[download] 100% of   11.57MiB in 00:00:13 at 899.86KiB/s                 \n",
      "[ExtractAudio] Destination: ..\\data\\raw\\dementia_diaries\\audio\\Audio Our DEEP News Dec 2020 January 2021_959193739.wav\n"
     ]
    },
    {
     "name": "stderr",
     "output_type": "stream",
     "text": [
      "Downloading Diaries:  21%|▏| 757/3628 [32:04<11:06:50, 1"
     ]
    },
    {
     "name": "stdout",
     "output_type": "stream",
     "text": [
      "[download] 100% of    1.05MiB in 00:00:01 at 839.02KiB/s               \n",
      "[ExtractAudio] Destination: ..\\data\\raw\\dementia_diaries\\audio\\Stephen explains what he hopes people get from listening to dementia diaries._949968529.wav\n"
     ]
    },
    {
     "name": "stderr",
     "output_type": "stream",
     "text": [
      "Downloading Diaries:  21%|▏| 758/3628 [32:08<8:48:17, 11"
     ]
    },
    {
     "name": "stdout",
     "output_type": "stream",
     "text": [
      "[download] 100% of    1.08MiB in 00:00:01 at 986.75KiB/s               \n",
      "[ExtractAudio] Destination: ..\\data\\raw\\dementia_diaries\\audio\\Stephen is going to miss the diarists ZOOM meetings as we take a break for Christmas. Back soon!_949967155.wav\n"
     ]
    },
    {
     "name": "stderr",
     "output_type": "stream",
     "text": [
      "Downloading Diaries:  21%|▏| 759/3628 [32:13<7:24:29,  9"
     ]
    },
    {
     "name": "stdout",
     "output_type": "stream",
     "text": [
      "[download] 100% of    1.02MiB in 00:00:01 at 766.17KiB/s               \n",
      "[ExtractAudio] Destination: ..\\data\\raw\\dementia_diaries\\audio\\Stephen describes his process with watercolours._949966714.wav\n"
     ]
    },
    {
     "name": "stderr",
     "output_type": "stream",
     "text": [
      "Downloading Diaries:  21%|▏| 760/3628 [32:18<6:22:08,  7"
     ]
    },
    {
     "name": "stdout",
     "output_type": "stream",
     "text": [
      "[download] 100% of  878.35KiB in 00:00:01 at 862.09KiB/s                 \n",
      "[ExtractAudio] Destination: ..\\data\\raw\\dementia_diaries\\audio\\After globetrotting on ZOOM Stephen is going to settle down with some water-colouring_949965979.wav\n"
     ]
    },
    {
     "name": "stderr",
     "output_type": "stream",
     "text": [
      "Downloading Diaries:  21%|▏| 761/3628 [32:23<5:38:03,  7"
     ]
    },
    {
     "name": "stdout",
     "output_type": "stream",
     "text": [
      "[download] 100% of    1.02MiB in 00:00:01 at 942.41KiB/s               \n",
      "[ExtractAudio] Destination: ..\\data\\raw\\dementia_diaries\\audio\\Stephen�s had a great day with his grandkids. �Better than any medicine�_949965358.wav\n"
     ]
    },
    {
     "name": "stderr",
     "output_type": "stream",
     "text": [
      "Downloading Diaries:  21%|▏| 762/3628 [32:27<4:58:24,  6"
     ]
    },
    {
     "name": "stdout",
     "output_type": "stream",
     "text": [
      "[download] 100% of    1.03MiB in 00:00:01 at 938.57KiB/s               \n",
      "[ExtractAudio] Destination: ..\\data\\raw\\dementia_diaries\\audio\\It's a grey old day so the TV beckons for Stephen._949964575.wav\n"
     ]
    },
    {
     "name": "stderr",
     "output_type": "stream",
     "text": [
      "Downloading Diaries:  21%|▏| 763/3628 [32:32<4:38:06,  5"
     ]
    },
    {
     "name": "stdout",
     "output_type": "stream",
     "text": [
      "[download] 100% of    1.02MiB in 00:00:01 at 959.27KiB/s               \n",
      "[ExtractAudio] Destination: ..\\data\\raw\\dementia_diaries\\audio\\Blimey - Stephen�s got a lot going on. Good job he likes to keep busy._949964041.wav\n"
     ]
    },
    {
     "name": "stderr",
     "output_type": "stream",
     "text": [
      "Downloading Diaries:  21%|▏| 764/3628 [32:37<4:22:55,  5"
     ]
    },
    {
     "name": "stdout",
     "output_type": "stream",
     "text": [
      "[download] 100% of  945.56KiB in 00:00:01 at 896.89KiB/s               \n",
      "[ExtractAudio] Destination: ..\\data\\raw\\dementia_diaries\\audio\\Stephen is energised by his crafting activities, supporting people with dementia in a care home._949963702.wav\n"
     ]
    },
    {
     "name": "stderr",
     "output_type": "stream",
     "text": [
      "Downloading Diaries:  21%|▏| 765/3628 [32:41<3:58:44,  5"
     ]
    },
    {
     "name": "stdout",
     "output_type": "stream",
     "text": [
      "[download] 100% of    1.01MiB in 00:00:01 at 1015.85KiB/s                \n",
      "[ExtractAudio] Destination: ..\\data\\raw\\dementia_diaries\\audio\\Stephen is looking forward to using video to record dementia diaries._949961260.wav\n"
     ]
    },
    {
     "name": "stderr",
     "output_type": "stream",
     "text": [
      "Downloading Diaries:  21%|▏| 766/3628 [32:46<3:59:28,  5"
     ]
    },
    {
     "name": "stdout",
     "output_type": "stream",
     "text": [
      "[download] 100% of    1.08MiB in 00:00:01 at 1012.24KiB/s              \n",
      "[ExtractAudio] Destination: ..\\data\\raw\\dementia_diaries\\audio\\Glenda is sorted for Christmas, and sends a lovely Christmas message._949960849.wav\n"
     ]
    },
    {
     "name": "stderr",
     "output_type": "stream",
     "text": [
      "Downloading Diaries:  21%|▏| 767/3628 [32:49<3:36:00,  4"
     ]
    },
    {
     "name": "stdout",
     "output_type": "stream",
     "text": [
      "[download] 100% of  436.15KiB in 00:00:00 at 681.82KiB/s               \n",
      "[ExtractAudio] Destination: ..\\data\\raw\\dementia_diaries\\audio\\Christmas greetings from Raymond. Merry Christmas to you too Raymond X_949960123.wav\n"
     ]
    },
    {
     "name": "stderr",
     "output_type": "stream",
     "text": [
      "Downloading Diaries:  21%|▏| 768/3628 [32:55<3:48:26,  4"
     ]
    },
    {
     "name": "stdout",
     "output_type": "stream",
     "text": [
      "[download] 100% of    1.65MiB in 00:00:01 at 1.02MiB/s                 \n",
      "[ExtractAudio] Destination: ..\\data\\raw\\dementia_diaries\\audio\\Melvyn reflects on the link between loneliness, loss, and regret in this touching diary._949959388.wav\n"
     ]
    },
    {
     "name": "stderr",
     "output_type": "stream",
     "text": [
      "Downloading Diaries:  21%|▏| 769/3628 [33:00<4:04:12,  5"
     ]
    },
    {
     "name": "stdout",
     "output_type": "stream",
     "text": [
      "[download] 100% of    1.83MiB in 00:00:01 at 1.00MiB/s                 \n",
      "[ExtractAudio] Destination: ..\\data\\raw\\dementia_diaries\\audio\\Melvyn reads his sonnet about COVID19._949958404.wav\n"
     ]
    },
    {
     "name": "stderr",
     "output_type": "stream",
     "text": [
      "Downloading Diaries:  21%|▏| 770/3628 [33:06<4:11:32,  5"
     ]
    },
    {
     "name": "stdout",
     "output_type": "stream",
     "text": [
      "[download] 100% of    2.83MiB in 00:00:02 at 1.08MiB/s                 \n",
      "[ExtractAudio] Destination: ..\\data\\raw\\dementia_diaries\\audio\\Melvyn reads a poem by Wifred Owen that he feels speaks directly to the COVID situation._949957783.wav\n"
     ]
    },
    {
     "name": "stderr",
     "output_type": "stream",
     "text": [
      "Downloading Diaries:  21%|▏| 771/3628 [33:12<4:13:50,  5"
     ]
    },
    {
     "name": "stdout",
     "output_type": "stream",
     "text": [
      "[download] 100% of    2.64MiB in 00:00:02 at 1.05MiB/s                 \n",
      "[ExtractAudio] Destination: ..\\data\\raw\\dementia_diaries\\audio\\Melvyn talks DEEP grants and rat problems._949956892.wav\n"
     ]
    },
    {
     "name": "stderr",
     "output_type": "stream",
     "text": [
      "Downloading Diaries:  21%|▏| 772/3628 [33:16<4:02:41,  5"
     ]
    },
    {
     "name": "stdout",
     "output_type": "stream",
     "text": [
      "[download] 100% of  766.27KiB in 00:00:00 at 844.16KiB/s                 \n",
      "[ExtractAudio] Destination: ..\\data\\raw\\dementia_diaries\\audio\\Jacqui is excited at the arrival of a canopy for her scooter_949956400.wav\n"
     ]
    },
    {
     "name": "stderr",
     "output_type": "stream",
     "text": [
      "Downloading Diaries:  21%|▏| 773/3628 [33:21<3:58:06,  5"
     ]
    },
    {
     "name": "stdout",
     "output_type": "stream",
     "text": [
      "[download] 100% of    1.13MiB in 00:00:01 at 1003.88KiB/s              \n",
      "[ExtractAudio] Destination: ..\\data\\raw\\dementia_diaries\\audio\\Agnes is going to approach a busy day on ZOOM with caution - wise words Agnes._949956256.wav\n"
     ]
    },
    {
     "name": "stderr",
     "output_type": "stream",
     "text": [
      "Downloading Diaries:  21%|▏| 774/3628 [33:24<3:35:05,  4"
     ]
    },
    {
     "name": "stdout",
     "output_type": "stream",
     "text": [
      "[download] 100% of  292.16KiB in 00:00:00 at 550.29KiB/s               \n",
      "[ExtractAudio] Destination: ..\\data\\raw\\dementia_diaries\\audio\\Raymond has had a lovely time on Singing for the Brain on ZOOM - Christmas special._949956007.wav\n"
     ]
    },
    {
     "name": "stderr",
     "output_type": "stream",
     "text": [
      "Downloading Diaries:  21%|▏| 775/3628 [33:29<3:32:05,  4"
     ]
    },
    {
     "name": "stdout",
     "output_type": "stream",
     "text": [
      "[download] 100% of    1.65MiB in 00:00:01 at 1018.02KiB/s              \n",
      "[ExtractAudio] Destination: ..\\data\\raw\\dementia_diaries\\audio\\Agnes on the joys of a visit to the dental hygienist._949955716.wav\n"
     ]
    },
    {
     "name": "stderr",
     "output_type": "stream",
     "text": [
      "Downloading Diaries:  21%|▏| 776/3628 [33:32<3:14:01,  4"
     ]
    },
    {
     "name": "stdout",
     "output_type": "stream",
     "text": [
      "[download] 100% of  338.94KiB in 00:00:00 at 599.47KiB/s               \n",
      "[ExtractAudio] Destination: ..\\data\\raw\\dementia_diaries\\audio\\Raymond reports from a rainy Oldham_949955344.wav\n"
     ]
    },
    {
     "name": "stderr",
     "output_type": "stream",
     "text": [
      "Downloading Diaries:  21%|▏| 777/3628 [33:36<3:21:08,  4"
     ]
    },
    {
     "name": "stdout",
     "output_type": "stream",
     "text": [
      "[download] 100% of    1.05MiB in 00:00:01 at 964.06KiB/s               \n",
      "[ExtractAudio] Destination: ..\\data\\raw\\dementia_diaries\\audio\\Agnes is feeling ripped off by Royal Mail._949955122.wav\n"
     ]
    },
    {
     "name": "stderr",
     "output_type": "stream",
     "text": [
      "Downloading Diaries:  21%|▏| 778/3628 [33:40<3:09:53,  4"
     ]
    },
    {
     "name": "stdout",
     "output_type": "stream",
     "text": [
      "[download] 100% of    1.06MiB in 00:00:01 at 1.04MiB/s                 \n",
      "[ExtractAudio] Destination: ..\\data\\raw\\dementia_diaries\\audio\\The first snowfall of the year is tempting a very brave Agnes out of her front door._949954819.wav\n"
     ]
    },
    {
     "name": "stderr",
     "output_type": "stream",
     "text": [
      "Downloading Diaries:  21%|▏| 779/3628 [33:44<3:10:15,  4"
     ]
    },
    {
     "name": "stdout",
     "output_type": "stream",
     "text": [
      "[download] 100% of    1.91MiB in 00:00:01 at 1.02MiB/s                 \n",
      "[ExtractAudio] Destination: ..\\data\\raw\\dementia_diaries\\audio\\Melvyn reflects sadly on the impact of COVID. �nothing seems to make sense�_949953565.wav\n"
     ]
    },
    {
     "name": "stderr",
     "output_type": "stream",
     "text": [
      "Downloading Diaries:  21%|▏| 780/3628 [33:54<4:40:45,  5"
     ]
    },
    {
     "name": "stdout",
     "output_type": "stream",
     "text": [
      "[download] 100% of    6.75MiB in 00:00:07 at 960.19KiB/s                 \n",
      "[ExtractAudio] Destination: ..\\data\\raw\\dementia_diaries\\audio\\It�s been a while since George sent a diary from his walk,  but this is a Christmas treat._949953082.wav\n"
     ]
    },
    {
     "name": "stderr",
     "output_type": "stream",
     "text": [
      "Downloading Diaries:  22%|▏| 781/3628 [34:00<4:44:49,  6"
     ]
    },
    {
     "name": "stdout",
     "output_type": "stream",
     "text": [
      "[download] 100% of    1.08MiB in 00:00:01 at 789.94KiB/s               \n",
      "[ExtractAudio] Destination: ..\\data\\raw\\dementia_diaries\\audio\\Tony Husband has crafted a lovely poem about Dory�s dying wishes. This is simply beautiful._949951384.wav\n"
     ]
    },
    {
     "name": "stderr",
     "output_type": "stream",
     "text": [
      "Downloading Diaries:  22%|▏| 782/3628 [34:04<4:06:52,  5"
     ]
    },
    {
     "name": "stdout",
     "output_type": "stream",
     "text": [
      "[download] 100% of  639.93KiB in 00:00:00 at 684.76KiB/s                 \n",
      "[ExtractAudio] Destination: ..\\data\\raw\\dementia_diaries\\audio\\�A different year, but a year or kindness too� Dory reflects on 2020_949950883.wav\n"
     ]
    },
    {
     "name": "stderr",
     "output_type": "stream",
     "text": [
      "Downloading Diaries:  22%|▏| 783/3628 [34:09<4:06:26,  5"
     ]
    },
    {
     "name": "stdout",
     "output_type": "stream",
     "text": [
      "[download] 100% of    1.40MiB in 00:00:01 at 778.58KiB/s               \n",
      "[ExtractAudio] Destination: ..\\data\\raw\\dementia_diaries\\audio\\Gerry from STAND invites you to A DEEP Christmas Celebration_943054891.wav\n"
     ]
    },
    {
     "name": "stderr",
     "output_type": "stream",
     "text": [
      "Downloading Diaries:  22%|▏| 784/3628 [34:29<7:31:17,  9"
     ]
    },
    {
     "name": "stdout",
     "output_type": "stream",
     "text": [
      "[download] 100% of   15.38MiB in 00:00:17 at 913.06KiB/s                 \n",
      "[ExtractAudio] Destination: ..\\data\\raw\\dementia_diaries\\audio\\Audio version of the November December 2020 Our DEEP News_943042072.wav\n"
     ]
    },
    {
     "name": "stderr",
     "output_type": "stream",
     "text": [
      "Downloading Diaries:  22%|▏| 785/3628 [34:35<6:49:48,  8"
     ]
    },
    {
     "name": "stdout",
     "output_type": "stream",
     "text": [
      "[download] 100% of  378.36KiB in 00:00:00 at 652.23KiB/s               \n",
      "[ExtractAudio] Destination: ..\\data\\raw\\dementia_diaries\\audio\\Raymond wonders if it's just him that gets ignored because he has dementia_939854656.wav\n"
     ]
    },
    {
     "name": "stderr",
     "output_type": "stream",
     "text": [
      "Downloading Diaries:  22%|▏| 786/3628 [34:40<5:52:39,  7"
     ]
    },
    {
     "name": "stdout",
     "output_type": "stream",
     "text": [
      "[download] 100% of    1.40MiB in 00:00:01 at 931.67KiB/s               \n",
      "[ExtractAudio] Destination: ..\\data\\raw\\dementia_diaries\\audio\\Melvyn has written on the subject of loneliness. A moving diary._939346795.wav\n"
     ]
    },
    {
     "name": "stderr",
     "output_type": "stream",
     "text": [
      "Downloading Diaries:  22%|▏| 787/3628 [34:45<5:17:06,  6"
     ]
    },
    {
     "name": "stdout",
     "output_type": "stream",
     "text": [
      "[download] 100% of    1.42MiB in 00:00:01 at 1.02MiB/s                 \n",
      "[ExtractAudio] Destination: ..\\data\\raw\\dementia_diaries\\audio\\Agnes shows us how to use Alexa to connect to DEEPNESS radio._939346054.wav\n"
     ]
    },
    {
     "name": "stderr",
     "output_type": "stream",
     "text": [
      "Downloading Diaries:  22%|▏| 788/3628 [34:49<4:44:05,  6"
     ]
    },
    {
     "name": "stdout",
     "output_type": "stream",
     "text": [
      "[download] 100% of    2.07MiB in 00:00:02 at 989.83KiB/s               \n",
      "[ExtractAudio] Destination: ..\\data\\raw\\dementia_diaries\\audio\\Melvyn reads one of his new pieces about the neglect of people with dementia._939345562.wav\n"
     ]
    },
    {
     "name": "stderr",
     "output_type": "stream",
     "text": [
      "Downloading Diaries:  22%|▏| 789/3628 [34:54<4:25:28,  5"
     ]
    },
    {
     "name": "stdout",
     "output_type": "stream",
     "text": [
      "[download] 100% of  985.51KiB in 00:00:01 at 981.94KiB/s                 \n",
      "[ExtractAudio] Destination: ..\\data\\raw\\dementia_diaries\\audio\\Stephen looks back over a rough week and forward to getting back to �some sort of normal�._939344398.wav\n"
     ]
    },
    {
     "name": "stderr",
     "output_type": "stream",
     "text": [
      "Downloading Diaries:  22%|▏| 790/3628 [34:58<4:06:08,  5"
     ]
    },
    {
     "name": "stdout",
     "output_type": "stream",
     "text": [
      "[download] 100% of  976.64KiB in 00:00:01 at 780.99KiB/s               \n",
      "[ExtractAudio] Destination: ..\\data\\raw\\dementia_diaries\\audio\\A day or so on from his anxiety attack and Stephen is getting on top of things again._939341689.wav\n"
     ]
    },
    {
     "name": "stderr",
     "output_type": "stream",
     "text": [
      "Downloading Diaries:  22%|▏| 791/3628 [35:02<3:43:46,  4"
     ]
    },
    {
     "name": "stdout",
     "output_type": "stream",
     "text": [
      "[download] 100% of  955.78KiB in 00:00:01 at 838.61KiB/s               \n",
      "[ExtractAudio] Destination: ..\\data\\raw\\dementia_diaries\\audio\\An anxiety attack has knocked Stephen for six. He�s exhausted._939341281.wav\n"
     ]
    },
    {
     "name": "stderr",
     "output_type": "stream",
     "text": [
      "Downloading Diaries:  22%|▏| 792/3628 [35:06<3:32:37,  4"
     ]
    },
    {
     "name": "stdout",
     "output_type": "stream",
     "text": [
      "[download] 100% of    1.05MiB in 00:00:01 at 700.46KiB/s               \n",
      "[ExtractAudio] Destination: ..\\data\\raw\\dementia_diaries\\audio\\This is wonderful. Gail and the Sea. But mostly the sea._939340882.wav\n"
     ]
    },
    {
     "name": "stderr",
     "output_type": "stream",
     "text": [
      "Downloading Diaries:  22%|▏| 793/3628 [35:11<3:40:32,  4"
     ]
    },
    {
     "name": "stdout",
     "output_type": "stream",
     "text": [
      "[download] 100% of    2.20MiB in 00:00:02 at 939.71KiB/s               \n",
      "[ExtractAudio] Destination: ..\\data\\raw\\dementia_diaries\\audio\\Dreane reports as she waits for her new sleeping meds to kick in_936375181.wav\n"
     ]
    },
    {
     "name": "stderr",
     "output_type": "stream",
     "text": [
      "Downloading Diaries:  22%|▏| 794/3628 [35:14<3:25:34,  4"
     ]
    },
    {
     "name": "stdout",
     "output_type": "stream",
     "text": [
      "[download] 100% of  664.68KiB in 00:00:00 at 858.70KiB/s                 \n",
      "[ExtractAudio] Destination: ..\\data\\raw\\dementia_diaries\\audio\\Tommy explains what person-centred care means to him._936374722.wav\n"
     ]
    },
    {
     "name": "stderr",
     "output_type": "stream",
     "text": [
      "Downloading Diaries:  22%|▏| 795/3628 [35:18<3:09:13,  4"
     ]
    },
    {
     "name": "stdout",
     "output_type": "stream",
     "text": [
      "[download] 100% of  257.21KiB in 00:00:00 at 428.49KiB/s               \n",
      "[ExtractAudio] Destination: ..\\data\\raw\\dementia_diaries\\audio\\Raymond reports from a cold and wet Oldham._936374470.wav\n"
     ]
    },
    {
     "name": "stderr",
     "output_type": "stream",
     "text": [
      "Downloading Diaries:  22%|▏| 796/3628 [35:21<3:05:44,  3"
     ]
    },
    {
     "name": "stdout",
     "output_type": "stream",
     "text": [
      "[download] 100% of  857.44KiB in 00:00:00 at 1012.20KiB/s                \n",
      "[ExtractAudio] Destination: ..\\data\\raw\\dementia_diaries\\audio\\Glenda is happy, warm, and productive in her kitchen while the winter sets in outside._936374254.wav\n"
     ]
    },
    {
     "name": "stderr",
     "output_type": "stream",
     "text": [
      "Downloading Diaries:  22%|▏| 797/3628 [35:25<3:06:57,  3"
     ]
    },
    {
     "name": "stdout",
     "output_type": "stream",
     "text": [
      "[download] 100% of  415.16KiB in 00:00:00 at 711.20KiB/s               \n",
      "[ExtractAudio] Destination: ..\\data\\raw\\dementia_diaries\\audio\\Raymond is looking forward to getting back to normal._936373825.wav\n"
     ]
    },
    {
     "name": "stderr",
     "output_type": "stream",
     "text": [
      "Downloading Diaries:  22%|▏| 798/3628 [35:28<2:50:24,  3"
     ]
    },
    {
     "name": "stdout",
     "output_type": "stream",
     "text": [
      "[download] 100% of  488.83KiB in 00:00:00 at 900.61KiB/s               \n",
      "[ExtractAudio] Destination: ..\\data\\raw\\dementia_diaries\\audio\\Joy's mood is lifted by some great news - what an achievement !_936373618.wav\n"
     ]
    },
    {
     "name": "stderr",
     "output_type": "stream",
     "text": [
      "Downloading Diaries:  22%|▏| 799/3628 [35:32<2:53:36,  3"
     ]
    },
    {
     "name": "stdout",
     "output_type": "stream",
     "text": [
      "[download] 100% of  501.08KiB in 00:00:00 at 748.81KiB/s               \n",
      "[ExtractAudio] Destination: ..\\data\\raw\\dementia_diaries\\audio\\Raymond has joined a new online exercise group. No pain no gain Raymond._936373051.wav\n"
     ]
    },
    {
     "name": "stderr",
     "output_type": "stream",
     "text": [
      "Downloading Diaries:  22%|▏| 800/3628 [35:35<2:47:47,  3"
     ]
    },
    {
     "name": "stdout",
     "output_type": "stream",
     "text": [
      "[download] 100% of 1005.27KiB in 00:00:00 at 1.01MiB/s                   \n",
      "[ExtractAudio] Destination: ..\\data\\raw\\dementia_diaries\\audio\\Despite her troubles, Agnes' friends in the Zoomettes and DEEP are keeping her going._936372493.wav\n"
     ]
    },
    {
     "name": "stderr",
     "output_type": "stream",
     "text": [
      "Downloading Diaries:  22%|▏| 801/3628 [35:40<3:03:24,  3"
     ]
    },
    {
     "name": "stdout",
     "output_type": "stream",
     "text": [
      "[download] 100% of    1.11MiB in 00:00:01 at 838.62KiB/s               \n",
      "[ExtractAudio] Destination: ..\\data\\raw\\dementia_diaries\\audio\\Stephen is saddened that many are living through such difficult times._936372148.wav\n"
     ]
    },
    {
     "name": "stderr",
     "output_type": "stream",
     "text": [
      "Downloading Diaries:  22%|▏| 802/3628 [35:44<3:11:46,  4"
     ]
    },
    {
     "name": "stdout",
     "output_type": "stream",
     "text": [
      "[download] 100% of  906.30KiB in 00:00:00 at 908.73KiB/s                 \n",
      "[ExtractAudio] Destination: ..\\data\\raw\\dementia_diaries\\audio\\It's very scary, it�s very close� says Stephen about  COVID19_936371812.wav\n"
     ]
    },
    {
     "name": "stderr",
     "output_type": "stream",
     "text": [
      "Downloading Diaries:  22%|▏| 803/3628 [35:49<3:24:11,  4"
     ]
    },
    {
     "name": "stdout",
     "output_type": "stream",
     "text": [
      "[download] 100% of    1.00MiB in 00:00:01 at 1002.62KiB/s              \n",
      "[ExtractAudio] Destination: ..\\data\\raw\\dementia_diaries\\audio\\Stephen is troubled by the constant stream of email phone and online scams_936371374.wav\n"
     ]
    },
    {
     "name": "stderr",
     "output_type": "stream",
     "text": [
      "Downloading Diaries:  22%|▏| 804/3628 [35:53<3:19:56,  4"
     ]
    },
    {
     "name": "stdout",
     "output_type": "stream",
     "text": [
      "[download] 100% of    1.10MiB in 00:00:01 at 955.59KiB/s               \n",
      "[ExtractAudio] Destination: ..\\data\\raw\\dementia_diaries\\audio\\Stephen is over the moon with the watercolour painting he is learning from Fran._936369790.wav\n"
     ]
    },
    {
     "name": "stderr",
     "output_type": "stream",
     "text": [
      "Downloading Diaries:  22%|▏| 805/3628 [35:58<3:18:09,  4"
     ]
    },
    {
     "name": "stdout",
     "output_type": "stream",
     "text": [
      "[download] 100% of  938.41KiB in 00:00:01 at 886.85KiB/s               \n",
      "[ExtractAudio] Destination: ..\\data\\raw\\dementia_diaries\\audio\\Stephen wonders where the birds have suddenly gone._936369325.wav\n"
     ]
    },
    {
     "name": "stderr",
     "output_type": "stream",
     "text": [
      "Downloading Diaries:  22%|▏| 806/3628 [36:02<3:25:40,  4"
     ]
    },
    {
     "name": "stdout",
     "output_type": "stream",
     "text": [
      "[download] 100% of  630.43KiB in 00:00:00 at 809.55KiB/s                 \n",
      "[ExtractAudio] Destination: ..\\data\\raw\\dementia_diaries\\audio\\Wayne reads a great poem he has written about the forthcoming 2020 Christmas_936368905.wav\n"
     ]
    },
    {
     "name": "stderr",
     "output_type": "stream",
     "text": [
      "Downloading Diaries:  22%|▏| 807/3628 [36:05<3:08:40,  4"
     ]
    },
    {
     "name": "stdout",
     "output_type": "stream",
     "text": [
      "[download] 100% of  630.43KiB in 00:00:00 at 725.45KiB/s                 \n",
      "[ExtractAudio] Destination: ..\\data\\raw\\dementia_diaries\\audio\\Wayne has been busy elsewhere, but makes a welcome return in this new diary._936368587.wav\n"
     ]
    },
    {
     "name": "stderr",
     "output_type": "stream",
     "text": [
      "Downloading Diaries:  22%|▏| 808/3628 [36:09<3:08:28,  4"
     ]
    },
    {
     "name": "stdout",
     "output_type": "stream",
     "text": [
      "[download] 100% of    1.03MiB in 00:00:01 at 774.67KiB/s               \n",
      "[ExtractAudio] Destination: ..\\data\\raw\\dementia_diaries\\audio\\Gail is delighted and moved by what has arrived in the post. Happy tears._936368041.wav\n"
     ]
    },
    {
     "name": "stderr",
     "output_type": "stream",
     "text": [
      "Downloading Diaries:  22%|▏| 809/3628 [36:13<3:02:26,  3"
     ]
    },
    {
     "name": "stdout",
     "output_type": "stream",
     "text": [
      "[download] 100% of    1.15MiB in 00:00:01 at 960.83KiB/s               \n",
      "[ExtractAudio] Destination: ..\\data\\raw\\dementia_diaries\\audio\\Jacqui has been trying various things to help with her overactive bladder._930315925.wav\n"
     ]
    },
    {
     "name": "stderr",
     "output_type": "stream",
     "text": [
      "Downloading Diaries:  22%|▏| 810/3628 [36:17<2:56:23,  3"
     ]
    },
    {
     "name": "stdout",
     "output_type": "stream",
     "text": [
      "[download] 100% of    1.00MiB in 00:00:01 at 942.87KiB/s               \n",
      "[ExtractAudio] Destination: ..\\data\\raw\\dementia_diaries\\audio\\Peter reports on his experience of lockdown in Suffolk._930315562.wav\n"
     ]
    },
    {
     "name": "stderr",
     "output_type": "stream",
     "text": [
      "Downloading Diaries:  22%|▏| 811/3628 [36:21<3:02:46,  3"
     ]
    },
    {
     "name": "stdout",
     "output_type": "stream",
     "text": [
      "[download] 100% of  420.82KiB in 00:00:00 at 512.47KiB/s               \n",
      "[ExtractAudio] Destination: ..\\data\\raw\\dementia_diaries\\audio\\Raymond has been Dancing like Nobody�s Watching._930315094.wav\n"
     ]
    },
    {
     "name": "stderr",
     "output_type": "stream",
     "text": [
      "Downloading Diaries:  22%|▏| 812/3628 [36:25<3:04:08,  3"
     ]
    },
    {
     "name": "stdout",
     "output_type": "stream",
     "text": [
      "[download] 100% of  420.82KiB in 00:00:00 at 685.03KiB/s               \n",
      "[ExtractAudio] Destination: ..\\data\\raw\\dementia_diaries\\audio\\Raymond has been Dancing like Nobody�s Watching._930314119.wav\n"
     ]
    },
    {
     "name": "stderr",
     "output_type": "stream",
     "text": [
      "Downloading Diaries:  22%|▏| 813/3628 [36:28<2:59:00,  3"
     ]
    },
    {
     "name": "stdout",
     "output_type": "stream",
     "text": [
      "[download] 100% of  518.59KiB in 00:00:00 at 719.18KiB/s               \n",
      "[ExtractAudio] Destination: ..\\data\\raw\\dementia_diaries\\audio\\Ray�s had a great meeting with Springboard on ZOOM._930313888.wav\n"
     ]
    },
    {
     "name": "stderr",
     "output_type": "stream",
     "text": [
      "Downloading Diaries:  22%|▏| 814/3628 [36:33<3:07:58,  4"
     ]
    },
    {
     "name": "stdout",
     "output_type": "stream",
     "text": [
      "[download] 100% of  457.39KiB in 00:00:00 at 664.20KiB/s               \n",
      "[ExtractAudio] Destination: ..\\data\\raw\\dementia_diaries\\audio\\Ray�s had a busy day, with a busy week to come, and sends his greetings._930313561.wav\n"
     ]
    },
    {
     "name": "stderr",
     "output_type": "stream",
     "text": [
      "Downloading Diaries:  22%|▏| 815/3628 [36:36<2:57:09,  3"
     ]
    },
    {
     "name": "stdout",
     "output_type": "stream",
     "text": [
      "[download] 100% of  237.53KiB in 00:00:00 at 538.78KiB/s               \n",
      "[ExtractAudio] Destination: ..\\data\\raw\\dementia_diaries\\audio\\Joy reflects on the warmth she experiences in the small gestures from others._930313249.wav\n"
     ]
    },
    {
     "name": "stderr",
     "output_type": "stream",
     "text": [
      "Downloading Diaries:  22%|▏| 816/3628 [36:40<2:56:23,  3"
     ]
    },
    {
     "name": "stdout",
     "output_type": "stream",
     "text": [
      "[download] 100% of    1.22MiB in 00:00:01 at 1.01MiB/s                 \n",
      "[ExtractAudio] Destination: ..\\data\\raw\\dementia_diaries\\audio\\Dreane marvels at the resourcefulness within the community of people with dementia._930312904.wav\n"
     ]
    },
    {
     "name": "stderr",
     "output_type": "stream",
     "text": [
      "Downloading Diaries:  23%|▏| 817/3628 [36:43<2:50:17,  3"
     ]
    },
    {
     "name": "stdout",
     "output_type": "stream",
     "text": [
      "[download] 100% of    1.08MiB in 00:00:01 at 889.53KiB/s               \n",
      "[ExtractAudio] Destination: ..\\data\\raw\\dementia_diaries\\audio\\Stephen's really enjoying the watercolour painting he is learning from Fran._930312598.wav\n"
     ]
    },
    {
     "name": "stderr",
     "output_type": "stream",
     "text": [
      "Downloading Diaries:  23%|▏| 818/3628 [36:47<2:59:33,  3"
     ]
    },
    {
     "name": "stdout",
     "output_type": "stream",
     "text": [
      "[download] 100% of  928.44KiB in 00:00:00 at 971.51KiB/s                 \n",
      "[ExtractAudio] Destination: ..\\data\\raw\\dementia_diaries\\audio\\Stephen�s had a good day out, despite the lack of social distancing he sees all around._930312235.wav\n"
     ]
    },
    {
     "name": "stderr",
     "output_type": "stream",
     "text": [
      "Downloading Diaries:  23%|▏| 819/3628 [36:50<2:49:02,  3"
     ]
    },
    {
     "name": "stdout",
     "output_type": "stream",
     "text": [
      "[download] 100% of  896.38KiB in 00:00:00 at 901.30KiB/s                 \n",
      "[ExtractAudio] Destination: ..\\data\\raw\\dementia_diaries\\audio\\Stephen is taking a break for the computer screen by concentrating on his watercolour painting._930311674.wav\n"
     ]
    },
    {
     "name": "stderr",
     "output_type": "stream",
     "text": [
      "Downloading Diaries:  23%|▏| 820/3628 [36:54<2:48:39,  3"
     ]
    },
    {
     "name": "stdout",
     "output_type": "stream",
     "text": [
      "[download] 100% of    1.05MiB in 00:00:01 at 740.94KiB/s               \n",
      "[ExtractAudio] Destination: ..\\data\\raw\\dementia_diaries\\audio\\Gail wonders what will happen with all her ZOOM friendships once we are �back to normal�_930311368.wav\n"
     ]
    },
    {
     "name": "stderr",
     "output_type": "stream",
     "text": [
      "Downloading Diaries:  23%|▏| 821/3628 [36:58<2:58:45,  3"
     ]
    },
    {
     "name": "stdout",
     "output_type": "stream",
     "text": [
      "[download] 100% of    2.01MiB in 00:00:02 at 1023.11KiB/s              \n",
      "[ExtractAudio] Destination: ..\\data\\raw\\dementia_diaries\\audio\\Gail feels that dementia is helping her to see things through a different lens._930311098.wav\n"
     ]
    },
    {
     "name": "stderr",
     "output_type": "stream",
     "text": [
      "Downloading Diaries:  23%|▏| 822/3628 [37:03<3:04:13,  3"
     ]
    },
    {
     "name": "stdout",
     "output_type": "stream",
     "text": [
      "[download] 100% of    1.41MiB in 00:00:01 at 890.14KiB/s               \n",
      "[ExtractAudio] Destination: ..\\data\\raw\\dementia_diaries\\audio\\Gail's remembrance pebbles have been a huge success. Brilliant!_930310645.wav\n"
     ]
    },
    {
     "name": "stderr",
     "output_type": "stream",
     "text": [
      "Downloading Diaries:  23%|▏| 823/3628 [37:08<3:25:12,  4"
     ]
    },
    {
     "name": "stdout",
     "output_type": "stream",
     "text": [
      "[download] 100% of    3.00MiB in 00:00:02 at 1.06MiB/s                 \n",
      "[ExtractAudio] Destination: ..\\data\\raw\\dementia_diaries\\audio\\George explains what dementia diaries means to him._930309934.wav\n"
     ]
    },
    {
     "name": "stderr",
     "output_type": "stream",
     "text": [
      "Downloading Diaries:  23%|▏| 824/3628 [37:12<3:24:49,  4"
     ]
    },
    {
     "name": "stdout",
     "output_type": "stream",
     "text": [
      "[download] 100% of  489.99KiB in 00:00:00 at 710.88KiB/s                 \n",
      "[ExtractAudio] Destination: ..\\data\\raw\\dementia_diaries\\audio\\Dory wants people to know that she is feeling the love and support._930309529.wav\n"
     ]
    },
    {
     "name": "stderr",
     "output_type": "stream",
     "text": [
      "Downloading Diaries:  23%|▏| 825/3628 [37:18<3:38:10,  4"
     ]
    },
    {
     "name": "stdout",
     "output_type": "stream",
     "text": [
      "[download] 100% of    1.19MiB in 00:00:01 at 1.06MiB/s                 \n",
      "[ExtractAudio] Destination: ..\\data\\raw\\dementia_diaries\\audio\\Daithi recalls the day Jackie Kennedy lost her gloves._927818677.wav\n"
     ]
    },
    {
     "name": "stderr",
     "output_type": "stream",
     "text": [
      "Downloading Diaries:  23%|▏| 826/3628 [37:23<3:43:18,  4"
     ]
    },
    {
     "name": "stdout",
     "output_type": "stream",
     "text": [
      "[download] 100% of  989.18KiB in 00:00:01 at 986.10KiB/s                 \n",
      "[ExtractAudio] Destination: ..\\data\\raw\\dementia_diaries\\audio\\Daithi remembers the moon and stars on his childhood ceiling._927817129.wav\n"
     ]
    },
    {
     "name": "stderr",
     "output_type": "stream",
     "text": [
      "Downloading Diaries:  23%|▏| 827/3628 [37:26<3:19:01,  4"
     ]
    },
    {
     "name": "stdout",
     "output_type": "stream",
     "text": [
      "[download] 100% of  450.10KiB in 00:00:00 at 720.51KiB/s               \n",
      "[ExtractAudio] Destination: ..\\data\\raw\\dementia_diaries\\audio\\Raymond is missing his grandchildren, but his online groups give him something to look forward to._925947895.wav\n"
     ]
    },
    {
     "name": "stderr",
     "output_type": "stream",
     "text": [
      "Downloading Diaries:  23%|▏| 828/3628 [37:30<3:12:12,  4"
     ]
    },
    {
     "name": "stdout",
     "output_type": "stream",
     "text": [
      "[download] 100% of  240.78KiB in 00:00:00 at 542.41KiB/s               \n",
      "[ExtractAudio] Destination: ..\\data\\raw\\dementia_diaries\\audio\\Raymond has been dancing !_925947676.wav\n"
     ]
    },
    {
     "name": "stderr",
     "output_type": "stream",
     "text": [
      "Downloading Diaries:  23%|▏| 829/3628 [37:33<3:01:18,  3"
     ]
    },
    {
     "name": "stdout",
     "output_type": "stream",
     "text": [
      "[download] 100% of  353.46KiB in 00:00:00 at 496.99KiB/s               \n",
      "[ExtractAudio] Destination: ..\\data\\raw\\dementia_diaries\\audio\\The kid in me is delighted� says Joy from her vantage point on the sofa. The dog, not so much,_925947511.wav\n"
     ]
    },
    {
     "name": "stderr",
     "output_type": "stream",
     "text": [
      "Downloading Diaries:  23%|▏| 830/3628 [37:37<3:08:49,  4"
     ]
    },
    {
     "name": "stdout",
     "output_type": "stream",
     "text": [
      "[download] 100% of 1015.69KiB in 00:00:01 at 940.54KiB/s               \n",
      "[ExtractAudio] Destination: ..\\data\\raw\\dementia_diaries\\audio\\Stephen feels his memory is being a little more affected than before, but he�s feeling positive._925947250.wav\n"
     ]
    },
    {
     "name": "stderr",
     "output_type": "stream",
     "text": [
      "Downloading Diaries:  23%|▏| 831/3628 [37:42<3:14:49,  4"
     ]
    },
    {
     "name": "stdout",
     "output_type": "stream",
     "text": [
      "[download] 100% of  571.46KiB in 00:00:00 at 637.37KiB/s                 \n",
      "[ExtractAudio] Destination: ..\\data\\raw\\dementia_diaries\\audio\\Online friends are helping Stephen feel much better after his health problems last week._925946953.wav\n"
     ]
    },
    {
     "name": "stderr",
     "output_type": "stream",
     "text": [
      "Downloading Diaries:  23%|▏| 832/3628 [37:46<3:12:23,  4"
     ]
    },
    {
     "name": "stdout",
     "output_type": "stream",
     "text": [
      "[download] 100% of  965.13KiB in 00:00:01 at 955.29KiB/s                 \n",
      "[ExtractAudio] Destination: ..\\data\\raw\\dementia_diaries\\audio\\There's nothing so good as free oxygen in the fresh air as Stephen reminds us._925946809.wav\n"
     ]
    },
    {
     "name": "stderr",
     "output_type": "stream",
     "text": [
      "Downloading Diaries:  23%|▏| 833/3628 [37:50<3:05:43,  3"
     ]
    },
    {
     "name": "stdout",
     "output_type": "stream",
     "text": [
      "[download] 100% of    1.34MiB in 00:00:01 at 878.26KiB/s               \n",
      "[ExtractAudio] Destination: ..\\data\\raw\\dementia_diaries\\audio\\Gail is very touched to be reminded there are so many good people who really do care._925946608.wav\n"
     ]
    },
    {
     "name": "stderr",
     "output_type": "stream",
     "text": [
      "Downloading Diaries:  23%|▏| 834/3628 [37:53<2:58:20,  3"
     ]
    },
    {
     "name": "stdout",
     "output_type": "stream",
     "text": [
      "[download] 100% of  638.26KiB in 00:00:00 at 755.17KiB/s                 \n",
      "[ExtractAudio] Destination: ..\\data\\raw\\dementia_diaries\\audio\\The fireworks are bothering Dory, but the dog doesn�t give a monkey�s._925946323.wav\n"
     ]
    },
    {
     "name": "stderr",
     "output_type": "stream",
     "text": [
      "Downloading Diaries:  23%|▏| 835/3628 [37:56<2:46:57,  3"
     ]
    },
    {
     "name": "stdout",
     "output_type": "stream",
     "text": [
      "[download] 100% of    1.02MiB in 00:00:00 at 1.02MiB/s                   \n",
      "[ExtractAudio] Destination: ..\\data\\raw\\dementia_diaries\\audio\\Jacqui sticks up for someone getting shouted at for not wearing a mask properly._922624519.wav\n"
     ]
    },
    {
     "name": "stderr",
     "output_type": "stream",
     "text": [
      "Downloading Diaries:  23%|▏| 836/3628 [38:00<2:46:36,  3"
     ]
    },
    {
     "name": "stdout",
     "output_type": "stream",
     "text": [
      "[download] 100% of  364.76KiB in 00:00:00 at 627.84KiB/s               \n",
      "[ExtractAudio] Destination: ..\\data\\raw\\dementia_diaries\\audio\\Raymond want to say a big �thank-you� to everyone at Springboard._922624228.wav\n"
     ]
    },
    {
     "name": "stderr",
     "output_type": "stream",
     "text": [
      "Downloading Diaries:  23%|▏| 837/3628 [38:04<2:59:15,  3"
     ]
    },
    {
     "name": "stdout",
     "output_type": "stream",
     "text": [
      "[download] 100% of  397.10KiB in 00:00:00 at 740.85KiB/s               \n",
      "[ExtractAudio] Destination: ..\\data\\raw\\dementia_diaries\\audio\\Raymond has been pretty busy by the sound of it._922623799.wav\n"
     ]
    },
    {
     "name": "stderr",
     "output_type": "stream",
     "text": [
      "Downloading Diaries:  23%|▏| 838/3628 [38:08<2:57:03,  3"
     ]
    },
    {
     "name": "stdout",
     "output_type": "stream",
     "text": [
      "[download] 100% of    1.83MiB in 00:00:01 at 1.06MiB/s                 \n",
      "[ExtractAudio] Destination: ..\\data\\raw\\dementia_diaries\\audio\\Melvyn reflects on how he has been shaped by his childhood experiences_922623109.wav\n"
     ]
    },
    {
     "name": "stderr",
     "output_type": "stream",
     "text": [
      "Downloading Diaries:  23%|▏| 839/3628 [38:12<2:58:37,  3"
     ]
    },
    {
     "name": "stdout",
     "output_type": "stream",
     "text": [
      "[download] 100% of  438.62KiB in 00:00:00 at 786.81KiB/s               \n",
      "[ExtractAudio] Destination: ..\\data\\raw\\dementia_diaries\\audio\\Joy on the COVID guidelines. �You don�t have to have dementia to be confused� she says._922622839.wav\n"
     ]
    },
    {
     "name": "stderr",
     "output_type": "stream",
     "text": [
      "Downloading Diaries:  23%|▏| 840/3628 [38:16<3:02:11,  3"
     ]
    },
    {
     "name": "stdout",
     "output_type": "stream",
     "text": [
      "[download] 100% of  426.66KiB in 00:00:00 at 785.05KiB/s               \n",
      "[ExtractAudio] Destination: ..\\data\\raw\\dementia_diaries\\audio\\Raymond hopes someone will take over supporting his group now Alexandra has moved back to Italy._922622434.wav\n"
     ]
    },
    {
     "name": "stderr",
     "output_type": "stream",
     "text": [
      "Downloading Diaries:  23%|▏| 841/3628 [38:21<3:14:49,  4"
     ]
    },
    {
     "name": "stdout",
     "output_type": "stream",
     "text": [
      "[download] 100% of    1.79MiB in 00:00:01 at 1.10MiB/s                 \n",
      "[ExtractAudio] Destination: ..\\data\\raw\\dementia_diaries\\audio\\A timely reminder from Dreane of the power of a simple phone call. Lovely._922622017.wav\n"
     ]
    },
    {
     "name": "stderr",
     "output_type": "stream",
     "text": [
      "Downloading Diaries:  23%|▏| 842/3628 [38:26<3:33:37,  4"
     ]
    },
    {
     "name": "stdout",
     "output_type": "stream",
     "text": [
      "[download] 100% of    1.90MiB in 00:00:01 at 1.15MiB/s                 \n",
      "[ExtractAudio] Destination: ..\\data\\raw\\dementia_diaries\\audio\\Melvyn has been concerned about the NHS for a long time now. He reads this from his 2014 diaries._922621465.wav\n"
     ]
    },
    {
     "name": "stderr",
     "output_type": "stream",
     "text": [
      "Downloading Diaries:  23%|▏| 843/3628 [38:29<3:13:37,  4"
     ]
    },
    {
     "name": "stdout",
     "output_type": "stream",
     "text": [
      "[download] 100% of  376.57KiB in 00:00:00 at 656.05KiB/s               \n",
      "[ExtractAudio] Destination: ..\\data\\raw\\dementia_diaries\\audio\\Raymond is looking forward to his group meeting tomorrow._922620733.wav\n"
     ]
    },
    {
     "name": "stderr",
     "output_type": "stream",
     "text": [
      "Downloading Diaries:  23%|▏| 844/3628 [38:32<2:57:25,  3"
     ]
    },
    {
     "name": "stdout",
     "output_type": "stream",
     "text": [
      "[download] 100% of  506.17KiB in 00:00:00 at 715.78KiB/s               \n",
      "[ExtractAudio] Destination: ..\\data\\raw\\dementia_diaries\\audio\\Lorraine describes the beauty she sees around her - what a great diary !_922619698.wav\n"
     ]
    },
    {
     "name": "stderr",
     "output_type": "stream",
     "text": [
      "Downloading Diaries:  23%|▏| 845/3628 [38:36<2:56:35,  3"
     ]
    },
    {
     "name": "stdout",
     "output_type": "stream",
     "text": [
      "[download] 100% of    1.70MiB in 00:00:01 at 1.11MiB/s                 \n",
      "[ExtractAudio] Destination: ..\\data\\raw\\dementia_diaries\\audio\\Melvyn laments the treatment of people with dementia and the governments handling of COVID19._922618243.wav\n"
     ]
    },
    {
     "name": "stderr",
     "output_type": "stream",
     "text": [
      "Downloading Diaries:  23%|▏| 846/3628 [38:40<2:54:05,  3"
     ]
    },
    {
     "name": "stdout",
     "output_type": "stream",
     "text": [
      "[download] 100% of  351.40KiB in 00:00:00 at 679.97KiB/s               \n",
      "[ExtractAudio] Destination: ..\\data\\raw\\dementia_diaries\\audio\\Raymond wants to warn people of a new scam purporting to come from Inland Revenue and from Amazon_922617256.wav\n"
     ]
    },
    {
     "name": "stderr",
     "output_type": "stream",
     "text": [
      "Downloading Diaries:  23%|▏| 847/3628 [38:44<3:03:41,  3"
     ]
    },
    {
     "name": "stdout",
     "output_type": "stream",
     "text": [
      "[download] 100% of    1.78MiB in 00:00:01 at 1.17MiB/s                 \n",
      "[ExtractAudio] Destination: ..\\data\\raw\\dementia_diaries\\audio\\Melvyn has been baking up a storm, much to his neighbour�s delight._922616980.wav\n"
     ]
    },
    {
     "name": "stderr",
     "output_type": "stream",
     "text": [
      "Downloading Diaries:  23%|▏| 848/3628 [38:49<3:15:52,  4"
     ]
    },
    {
     "name": "stdout",
     "output_type": "stream",
     "text": [
      "[download] 100% of  929.76KiB in 00:00:01 at 889.72KiB/s               \n",
      "[ExtractAudio] Destination: ..\\data\\raw\\dementia_diaries\\audio\\Stephen has been set back by a mini-stroke, but he�s determined to bounce back._922616653.wav\n"
     ]
    },
    {
     "name": "stderr",
     "output_type": "stream",
     "text": [
      "Downloading Diaries:  23%|▏| 849/3628 [38:53<3:14:00,  4"
     ]
    },
    {
     "name": "stdout",
     "output_type": "stream",
     "text": [
      "[download] 100% of  857.26KiB in 00:00:00 at 888.84KiB/s                 \n",
      "[ExtractAudio] Destination: ..\\data\\raw\\dementia_diaries\\audio\\It�s a wintery old day, and �Christmas is just a whisp away� says Stephen._922616389.wav\n"
     ]
    },
    {
     "name": "stderr",
     "output_type": "stream",
     "text": [
      "Downloading Diaries:  23%|▏| 850/3628 [38:56<2:59:57,  3"
     ]
    },
    {
     "name": "stdout",
     "output_type": "stream",
     "text": [
      "[download] 100% of    1.06MiB in 00:00:01 at 992.68KiB/s               \n",
      "[ExtractAudio] Destination: ..\\data\\raw\\dementia_diaries\\audio\\Stephen�s been learning watercolour painting from fellow diarist Frances. He�s delighted._922616059.wav\n"
     ]
    },
    {
     "name": "stderr",
     "output_type": "stream",
     "text": [
      "Downloading Diaries:  23%|▏| 851/3628 [39:00<3:02:51,  3"
     ]
    },
    {
     "name": "stdout",
     "output_type": "stream",
     "text": [
      "[download] 100% of    1.01MiB in 00:00:00 at 1.05MiB/s                   \n",
      "[ExtractAudio] Destination: ..\\data\\raw\\dementia_diaries\\audio\\Stephen reflects on a really enjoyable Dementia Diarists ZOOM meeting._922615660.wav\n"
     ]
    },
    {
     "name": "stderr",
     "output_type": "stream",
     "text": [
      "Downloading Diaries:  23%|▏| 852/3628 [39:04<2:52:40,  3"
     ]
    },
    {
     "name": "stdout",
     "output_type": "stream",
     "text": [
      "[download] 100% of  966.83KiB in 00:00:00 at 979.57KiB/s                 \n",
      "[ExtractAudio] Destination: ..\\data\\raw\\dementia_diaries\\audio\\Stephen describes a great day out._922615372.wav\n"
     ]
    },
    {
     "name": "stderr",
     "output_type": "stream",
     "text": [
      "Downloading Diaries:  24%|▏| 853/3628 [39:12<4:02:02,  5"
     ]
    },
    {
     "name": "stdout",
     "output_type": "stream",
     "text": [
      "[download] 100% of    1.11MiB in 00:00:01 at 859.45KiB/s               \n",
      "[ExtractAudio] Destination: ..\\data\\raw\\dementia_diaries\\audio\\Gail feels like her mood might be lifting. Good on you Gail._922610758.wav\n"
     ]
    },
    {
     "name": "stderr",
     "output_type": "stream",
     "text": [
      "Downloading Diaries:  24%|▏| 854/3628 [39:16<3:35:17,  4"
     ]
    },
    {
     "name": "stdout",
     "output_type": "stream",
     "text": [
      "[download] 100% of  483.14KiB in 00:00:00 at 635.71KiB/s                 \n",
      "[ExtractAudio] Destination: ..\\data\\raw\\dementia_diaries\\audio\\Dory has had some very welcome, and deservedly good news_922610254.wav\n"
     ]
    },
    {
     "name": "stderr",
     "output_type": "stream",
     "text": [
      "Downloading Diaries:  24%|▏| 855/3628 [39:27<5:09:27,  6"
     ]
    },
    {
     "name": "stdout",
     "output_type": "stream",
     "text": [
      "[download] 100% of    8.75MiB in 00:00:08 at 1002.91KiB/s                \n",
      "[ExtractAudio] Destination: ..\\data\\raw\\dementia_diaries\\audio\\Audio Our DEEP News October November 2020_922140790.wav\n"
     ]
    },
    {
     "name": "stderr",
     "output_type": "stream",
     "text": [
      "Downloading Diaries:  24%|▏| 856/3628 [39:40<6:28:22,  8"
     ]
    },
    {
     "name": "stdout",
     "output_type": "stream",
     "text": [
      "[download] 100% of    6.24MiB in 00:00:06 at 967.96KiB/s               \n",
      "[ExtractAudio] Destination: ..\\data\\raw\\dementia_diaries\\audio\\Pages 12 To 16  Audio Our DEEP News Aug Sept 2020_917057017.wav\n"
     ]
    },
    {
     "name": "stderr",
     "output_type": "stream",
     "text": [
      "Downloading Diaries:  24%|▏| 857/3628 [39:50<7:01:10,  9"
     ]
    },
    {
     "name": "stdout",
     "output_type": "stream",
     "text": [
      "[download] 100% of    6.03MiB in 00:00:06 at 977.07KiB/s               \n",
      "[ExtractAudio] Destination: ..\\data\\raw\\dementia_diaries\\audio\\Audio P6 To 11 Our DEEP News Aug - Sept 2020_917056121.wav\n"
     ]
    },
    {
     "name": "stderr",
     "output_type": "stream",
     "text": [
      "Downloading Diaries:  24%|▏| 858/3628 [40:04<7:59:05, 10"
     ]
    },
    {
     "name": "stdout",
     "output_type": "stream",
     "text": [
      "[download] 100% of    9.01MiB in 00:00:09 at 940.27KiB/s                 \n",
      "[ExtractAudio] Destination: ..\\data\\raw\\dementia_diaries\\audio\\The audio version of September to October Our DEEP News_917024312.wav\n"
     ]
    },
    {
     "name": "stderr",
     "output_type": "stream",
     "text": [
      "Downloading Diaries:  24%|▏| 859/3628 [40:15<8:09:20, 10"
     ]
    },
    {
     "name": "stdout",
     "output_type": "stream",
     "text": [
      "[download] 100% of    5.96MiB in 00:00:05 at 1.04MiB/s                 \n",
      "[ExtractAudio] Destination: ..\\data\\raw\\dementia_diaries\\audio\\Our DEEP News Aug Sept 2020 Pages 1 To 5 Audio_915472540.wav\n"
     ]
    },
    {
     "name": "stderr",
     "output_type": "stream",
     "text": [
      "Downloading Diaries:  24%|▏| 860/3628 [40:19<6:41:02,  8"
     ]
    },
    {
     "name": "stdout",
     "output_type": "stream",
     "text": [
      "[download] 100% of  375.64KiB in 00:00:00 at 587.29KiB/s               \n",
      "[ExtractAudio] Destination: ..\\data\\raw\\dementia_diaries\\audio\\George reads one of his own poems. Beautiful._913098940.wav\n"
     ]
    },
    {
     "name": "stderr",
     "output_type": "stream",
     "text": [
      "Downloading Diaries:  24%|▏| 861/3628 [40:23<5:37:30,  7"
     ]
    },
    {
     "name": "stdout",
     "output_type": "stream",
     "text": [
      "[download] 100% of  601.25KiB in 00:00:00 at 841.04KiB/s                 \n",
      "[ExtractAudio] Destination: ..\\data\\raw\\dementia_diaries\\audio\\Joy has been making another film for schools about �Mr Alzheimer�s�_913098190.wav\n"
     ]
    },
    {
     "name": "stderr",
     "output_type": "stream",
     "text": [
      "Downloading Diaries:  24%|▏| 862/3628 [40:26<4:41:04,  6"
     ]
    },
    {
     "name": "stdout",
     "output_type": "stream",
     "text": [
      "[download] 100% of  848.77KiB in 00:00:00 at 936.29KiB/s                 \n",
      "[ExtractAudio] Destination: ..\\data\\raw\\dementia_diaries\\audio\\Lockdown has impacts beyond the actual virus, as Jacqui describes._913097950.wav\n"
     ]
    },
    {
     "name": "stderr",
     "output_type": "stream",
     "text": [
      "Downloading Diaries:  24%|▏| 863/3628 [40:30<4:12:53,  5"
     ]
    },
    {
     "name": "stdout",
     "output_type": "stream",
     "text": [
      "[download] 100% of  841.70KiB in 00:00:00 at 997.89KiB/s                 \n",
      "[ExtractAudio] Destination: ..\\data\\raw\\dementia_diaries\\audio\\Frances beautiful description of the Brecon Beacons is simply wonderful._913097776.wav\n"
     ]
    },
    {
     "name": "stderr",
     "output_type": "stream",
     "text": [
      "Downloading Diaries:  24%|▏| 864/3628 [40:33<3:37:23,  4"
     ]
    },
    {
     "name": "stdout",
     "output_type": "stream",
     "text": [
      "[download] 100% of  387.14KiB in 00:00:00 at 705.79KiB/s               \n",
      "[ExtractAudio] Destination: ..\\data\\raw\\dementia_diaries\\audio\\Lorraine is doing valuable work for South Eastern Railways._913097533.wav\n"
     ]
    },
    {
     "name": "stderr",
     "output_type": "stream",
     "text": [
      "Downloading Diaries:  24%|▏| 865/3628 [40:37<3:21:36,  4"
     ]
    },
    {
     "name": "stdout",
     "output_type": "stream",
     "text": [
      "[download] 100% of  387.34KiB in 00:00:00 at 617.25KiB/s               \n",
      "[ExtractAudio] Destination: ..\\data\\raw\\dementia_diaries\\audio\\Raymond is looking forward to dancing in his front room_913097350.wav\n"
     ]
    },
    {
     "name": "stderr",
     "output_type": "stream",
     "text": [
      "Downloading Diaries:  24%|▏| 866/3628 [40:41<3:15:16,  4"
     ]
    },
    {
     "name": "stdout",
     "output_type": "stream",
     "text": [
      "[download] 100% of  659.71KiB in 00:00:00 at 842.50KiB/s                 \n",
      "[ExtractAudio] Destination: ..\\data\\raw\\dementia_diaries\\audio\\A lovely ZOOM meeting brightens Raymonds mood against the backdrop of a wet and rainy Oldham._913097170.wav\n"
     ]
    },
    {
     "name": "stderr",
     "output_type": "stream",
     "text": [
      "Downloading Diaries:  24%|▏| 867/3628 [40:45<3:11:17,  4"
     ]
    },
    {
     "name": "stdout",
     "output_type": "stream",
     "text": [
      "[download] 100% of    1.19MiB in 00:00:01 at 1.09MiB/s                 \n",
      "[ExtractAudio] Destination: ..\\data\\raw\\dementia_diaries\\audio\\Agnes is feeling frustrated at the poor communication from her local libraries_913097002.wav\n"
     ]
    },
    {
     "name": "stderr",
     "output_type": "stream",
     "text": [
      "Downloading Diaries:  24%|▏| 868/3628 [40:50<3:24:30,  4"
     ]
    },
    {
     "name": "stdout",
     "output_type": "stream",
     "text": [
      "[download] 100% of  971.49KiB in 00:00:01 at 897.37KiB/s               \n",
      "[ExtractAudio] Destination: ..\\data\\raw\\dementia_diaries\\audio\\Stephen�s having a bit of a mixed week. He feels good to have been out though._913096399.wav\n"
     ]
    },
    {
     "name": "stderr",
     "output_type": "stream",
     "text": [
      "Downloading Diaries:  24%|▏| 869/3628 [40:54<3:23:02,  4"
     ]
    },
    {
     "name": "stdout",
     "output_type": "stream",
     "text": [
      "[download] 100% of    1.07MiB in 00:00:01 at 966.86KiB/s               \n",
      "[ExtractAudio] Destination: ..\\data\\raw\\dementia_diaries\\audio\\Stephen talks about what he gets form the Dementia Diaries ZOOM meetings._913096180.wav\n"
     ]
    },
    {
     "name": "stderr",
     "output_type": "stream",
     "text": [
      "Downloading Diaries:  24%|▏| 870/3628 [41:00<3:37:25,  4"
     ]
    },
    {
     "name": "stdout",
     "output_type": "stream",
     "text": [
      "[download] 100% of    1.52MiB in 00:00:01 at 990.15KiB/s               \n",
      "[ExtractAudio] Destination: ..\\data\\raw\\dementia_diaries\\audio\\�My magic is gone today� Gail is struggling with intrusive negative thoughts._913096027.wav\n"
     ]
    },
    {
     "name": "stderr",
     "output_type": "stream",
     "text": [
      "Downloading Diaries:  24%|▏| 871/3628 [41:04<3:33:31,  4"
     ]
    },
    {
     "name": "stdout",
     "output_type": "stream",
     "text": [
      "[download] 100% of    1.46MiB in 00:00:01 at 923.25KiB/s               \n",
      "[ExtractAudio] Destination: ..\\data\\raw\\dementia_diaries\\audio\\Gail bounces back with a new diary after a spell under the weather._913095745.wav\n"
     ]
    },
    {
     "name": "stderr",
     "output_type": "stream",
     "text": [
      "Downloading Diaries:  24%|▏| 872/3628 [41:10<3:47:55,  4"
     ]
    },
    {
     "name": "stdout",
     "output_type": "stream",
     "text": [
      "[download] 100% of    1.62MiB in 00:00:01 at 895.13KiB/s               \n",
      "[ExtractAudio] Destination: ..\\data\\raw\\dementia_diaries\\audio\\George reflects on the change of seasons in this beautifully narrated walking diary._913095562.wav\n"
     ]
    },
    {
     "name": "stderr",
     "output_type": "stream",
     "text": [
      "Downloading Diaries:  24%|▏| 873/3628 [41:13<3:25:18,  4"
     ]
    },
    {
     "name": "stdout",
     "output_type": "stream",
     "text": [
      "[download] 100% of  408.57KiB in 00:00:00 at 718.34KiB/s               \n",
      "[ExtractAudio] Destination: ..\\data\\raw\\dementia_diaries\\audio\\Dementia is like a rollercoaster says Raymond. Great Diary Raymond!_909130132.wav\n"
     ]
    },
    {
     "name": "stderr",
     "output_type": "stream",
     "text": [
      "Downloading Diaries:  24%|▏| 874/3628 [41:17<3:20:19,  4"
     ]
    },
    {
     "name": "stdout",
     "output_type": "stream",
     "text": [
      "[download] 100% of  368.14KiB in 00:00:00 at 671.15KiB/s               \n",
      "[ExtractAudio] Destination: ..\\data\\raw\\dementia_diaries\\audio\\Raymond is feeling a bit down in the dumps with lockdown._909129616.wav\n"
     ]
    },
    {
     "name": "stderr",
     "output_type": "stream",
     "text": [
      "Downloading Diaries:  24%|▏| 875/3628 [41:22<3:25:21,  4"
     ]
    },
    {
     "name": "stdout",
     "output_type": "stream",
     "text": [
      "[download] 100% of  775.82KiB in 00:00:00 at 906.64KiB/s                 \n",
      "[ExtractAudio] Destination: ..\\data\\raw\\dementia_diaries\\audio\\In this bilingual diary Glenda tells us about the power of facebook and the power of friends._909129112.wav\n"
     ]
    },
    {
     "name": "stderr",
     "output_type": "stream",
     "text": [
      "Downloading Diaries:  24%|▏| 876/3628 [41:26<3:20:27,  4"
     ]
    },
    {
     "name": "stdout",
     "output_type": "stream",
     "text": [
      "[download] 100% of  490.71KiB in 00:00:00 at 824.82KiB/s               \n",
      "[ExtractAudio] Destination: ..\\data\\raw\\dementia_diaries\\audio\\Jacqui is surprised to learn that she going to be having a full OT assessment. Lockdown permitting._909128740.wav\n"
     ]
    },
    {
     "name": "stderr",
     "output_type": "stream",
     "text": [
      "Downloading Diaries:  24%|▏| 877/3628 [41:31<3:24:52,  4"
     ]
    },
    {
     "name": "stdout",
     "output_type": "stream",
     "text": [
      "[download] 100% of 1023.54KiB in 00:00:00 at 1.04MiB/s                   \n",
      "[ExtractAudio] Destination: ..\\data\\raw\\dementia_diaries\\audio\\Steve has written a great poem about lockdown, and reads it here._909128599.wav\n"
     ]
    },
    {
     "name": "stderr",
     "output_type": "stream",
     "text": [
      "Downloading Diaries:  24%|▏| 878/3628 [41:35<3:15:29,  4"
     ]
    },
    {
     "name": "stdout",
     "output_type": "stream",
     "text": [
      "[download] 100% of  967.38KiB in 00:00:01 at 947.75KiB/s                 \n",
      "[ExtractAudio] Destination: ..\\data\\raw\\dementia_diaries\\audio\\You�ve got to have a bit of resilience says Stephen, as his week gets worse still._909128110.wav\n"
     ]
    },
    {
     "name": "stderr",
     "output_type": "stream",
     "text": [
      "Downloading Diaries:  24%|▏| 879/3628 [41:38<3:02:43,  3"
     ]
    },
    {
     "name": "stdout",
     "output_type": "stream",
     "text": [
      "[download] 100% of    1.05MiB in 00:00:01 at 992.69KiB/s               \n",
      "[ExtractAudio] Destination: ..\\data\\raw\\dementia_diaries\\audio\\It's like a big family� Stephen says about his friends on Dementia Diaries._909127894.wav\n"
     ]
    },
    {
     "name": "stderr",
     "output_type": "stream",
     "text": [
      "Downloading Diaries:  24%|▏| 880/3628 [41:42<3:07:56,  4"
     ]
    },
    {
     "name": "stdout",
     "output_type": "stream",
     "text": [
      "[download] 100% of    1.09MiB in 00:00:01 at 942.06KiB/s               \n",
      "[ExtractAudio] Destination: ..\\data\\raw\\dementia_diaries\\audio\\Stephen�s been having a rubbish week. Hope things improve for you Stephen,_909126796.wav\n"
     ]
    },
    {
     "name": "stderr",
     "output_type": "stream",
     "text": [
      "Downloading Diaries:  24%|▏| 881/3628 [41:45<2:50:15,  3"
     ]
    },
    {
     "name": "stdout",
     "output_type": "stream",
     "text": [
      "[download] 100% of  677.17KiB in 00:00:00 at 879.54KiB/s                 \n",
      "[ExtractAudio] Destination: ..\\data\\raw\\dementia_diaries\\audio\\Rae feels like she is grieving for something, but can�t remember what��_905561107.wav\n"
     ]
    },
    {
     "name": "stderr",
     "output_type": "stream",
     "text": [
      "Downloading Diaries:  24%|▏| 882/3628 [41:49<2:54:31,  3"
     ]
    },
    {
     "name": "stdout",
     "output_type": "stream",
     "text": [
      "[download] 100% of  776.76KiB in 00:00:00 at 896.41KiB/s                 \n",
      "[ExtractAudio] Destination: ..\\data\\raw\\dementia_diaries\\audio\\Jacqui is very happy that there�s movement in getting the home adaptations she needs,_905560879.wav\n"
     ]
    },
    {
     "name": "stderr",
     "output_type": "stream",
     "text": [
      "Downloading Diaries:  24%|▏| 883/3628 [41:52<2:45:42,  3"
     ]
    },
    {
     "name": "stdout",
     "output_type": "stream",
     "text": [
      "[download] 100% of  448.78KiB in 00:00:00 at 665.24KiB/s               \n",
      "[ExtractAudio] Destination: ..\\data\\raw\\dementia_diaries\\audio\\Raymond warns others of phone scams pretending to be from Inland Revenue and Amazon._905560615.wav\n"
     ]
    },
    {
     "name": "stderr",
     "output_type": "stream",
     "text": [
      "Downloading Diaries:  24%|▏| 884/3628 [41:56<2:42:24,  3"
     ]
    },
    {
     "name": "stdout",
     "output_type": "stream",
     "text": [
      "[download] 100% of    1.02MiB in 00:00:00 at 1.06MiB/s                   \n",
      "[ExtractAudio] Destination: ..\\data\\raw\\dementia_diaries\\audio\\Agnes will have to relearn all sorts of things  following the loss of routine during lockdown._905560438.wav\n"
     ]
    },
    {
     "name": "stderr",
     "output_type": "stream",
     "text": [
      "Downloading Diaries:  24%|▏| 885/3628 [42:00<2:47:28,  3"
     ]
    },
    {
     "name": "stdout",
     "output_type": "stream",
     "text": [
      "[download] 100% of    1.55MiB in 00:00:01 at 1.04MiB/s                 \n",
      "[ExtractAudio] Destination: ..\\data\\raw\\dementia_diaries\\audio\\Dory is now back in lockdown. She wonders when it will all end._905560093.wav\n"
     ]
    },
    {
     "name": "stderr",
     "output_type": "stream",
     "text": [
      "Downloading Diaries:  24%|▏| 886/3628 [42:03<2:46:29,  3"
     ]
    },
    {
     "name": "stdout",
     "output_type": "stream",
     "text": [
      "[download] 100% of  377.12KiB in 00:00:00 at 582.68KiB/s               \n",
      "[ExtractAudio] Destination: ..\\data\\raw\\dementia_diaries\\audio\\It�s not the same as face to face, but Raymond is enjoying meetings with his group over ZOOM_905559880.wav\n"
     ]
    },
    {
     "name": "stderr",
     "output_type": "stream",
     "text": [
      "Downloading Diaries:  24%|▏| 887/3628 [42:07<2:50:39,  3"
     ]
    },
    {
     "name": "stdout",
     "output_type": "stream",
     "text": [
      "[download] 100% of  247.80KiB in 00:00:00 at 393.25KiB/s               \n",
      "[ExtractAudio] Destination: ..\\data\\raw\\dementia_diaries\\audio\\Raymond wishes Alexandra well as she heads off to her new job_905559664.wav\n"
     ]
    },
    {
     "name": "stderr",
     "output_type": "stream",
     "text": [
      "Downloading Diaries:  24%|▏| 888/3628 [42:11<2:48:49,  3"
     ]
    },
    {
     "name": "stdout",
     "output_type": "stream",
     "text": [
      "[download] 100% of  700.13KiB in 00:00:00 at 838.83KiB/s                 \n",
      "[ExtractAudio] Destination: ..\\data\\raw\\dementia_diaries\\audio\\A great update from Glenda who has been busy on ZOOM, on BBC and in her polytunnel._905559295.wav\n"
     ]
    },
    {
     "name": "stderr",
     "output_type": "stream",
     "text": [
      "Downloading Diaries:  25%|▏| 889/3628 [42:16<3:09:30,  4"
     ]
    },
    {
     "name": "stdout",
     "output_type": "stream",
     "text": [
      "[download] 100% of    1.06MiB in 00:00:01 at 902.10KiB/s               \n",
      "[ExtractAudio] Destination: ..\\data\\raw\\dementia_diaries\\audio\\The storm is passing and Stephen has been enjoying a day out._905558830.wav\n"
     ]
    },
    {
     "name": "stderr",
     "output_type": "stream",
     "text": [
      "Downloading Diaries:  25%|▏| 890/3628 [42:19<2:55:13,  3"
     ]
    },
    {
     "name": "stdout",
     "output_type": "stream",
     "text": [
      "[download] 100% of  945.62KiB in 00:00:01 at 940.88KiB/s                 \n",
      "[ExtractAudio] Destination: ..\\data\\raw\\dementia_diaries\\audio\\Stephen is feeling much better and is cracking on with his YouTube videos._905558344.wav\n"
     ]
    },
    {
     "name": "stderr",
     "output_type": "stream",
     "text": [
      "Downloading Diaries:  25%|▏| 891/3628 [42:23<2:51:16,  3"
     ]
    },
    {
     "name": "stdout",
     "output_type": "stream",
     "text": [
      "[download] 100% of    1.36MiB in 00:00:01 at 1.09MiB/s                 \n",
      "[ExtractAudio] Destination: ..\\data\\raw\\dementia_diaries\\audio\\Stephen is relaxing after a strange spell with his health._905557528.wav\n"
     ]
    },
    {
     "name": "stderr",
     "output_type": "stream",
     "text": [
      "Downloading Diaries:  25%|▏| 892/3628 [42:29<3:19:16,  4"
     ]
    },
    {
     "name": "stdout",
     "output_type": "stream",
     "text": [
      "[download] 100% of    1.76MiB in 00:00:01 at 1012.45KiB/s              \n",
      "[ExtractAudio] Destination: ..\\data\\raw\\dementia_diaries\\audio\\Crafting is going to get Gail through what she feels might be a long winter._905556625.wav\n"
     ]
    },
    {
     "name": "stderr",
     "output_type": "stream",
     "text": [
      "Downloading Diaries:  25%|▏| 893/3628 [42:34<3:30:44,  4"
     ]
    },
    {
     "name": "stdout",
     "output_type": "stream",
     "text": [
      "[download] 100% of    1.39MiB in 00:00:01 at 933.58KiB/s               \n",
      "[ExtractAudio] Destination: ..\\data\\raw\\dementia_diaries\\audio\\Wayne has had better support whilst travelling on public transport. Come on TFL._902217325.wav\n"
     ]
    },
    {
     "name": "stderr",
     "output_type": "stream",
     "text": [
      "Downloading Diaries:  25%|▏| 894/3628 [42:37<3:16:03,  4"
     ]
    },
    {
     "name": "stdout",
     "output_type": "stream",
     "text": [
      "[download] 100% of  675.21KiB in 00:00:00 at 915.53KiB/s                 \n",
      "[ExtractAudio] Destination: ..\\data\\raw\\dementia_diaries\\audio\\Joy is having problems getting a flu jab. Anyone else_902216623.wav\n"
     ]
    },
    {
     "name": "stderr",
     "output_type": "stream",
     "text": [
      "Downloading Diaries:  25%|▏| 895/3628 [42:42<3:26:14,  4"
     ]
    },
    {
     "name": "stdout",
     "output_type": "stream",
     "text": [
      "[download] 100% of    1.06MiB in 00:00:01 at 987.02KiB/s               \n",
      "[ExtractAudio] Destination: ..\\data\\raw\\dementia_diaries\\audio\\�I�m living my life� says Dreanne, who honours her friends with dementia for buoying her up._902216266.wav\n"
     ]
    },
    {
     "name": "stderr",
     "output_type": "stream",
     "text": [
      "Downloading Diaries:  25%|▏| 896/3628 [42:47<3:31:40,  4"
     ]
    },
    {
     "name": "stdout",
     "output_type": "stream",
     "text": [
      "[download] 100% of  776.36KiB in 00:00:00 at 896.34KiB/s                 \n",
      "[ExtractAudio] Destination: ..\\data\\raw\\dementia_diaries\\audio\\Rae is struggling to remember �daft� but really important things._902215864.wav\n"
     ]
    },
    {
     "name": "stderr",
     "output_type": "stream",
     "text": [
      "Downloading Diaries:  25%|▏| 897/3628 [42:53<3:40:29,  4"
     ]
    },
    {
     "name": "stdout",
     "output_type": "stream",
     "text": [
      "[download] 100% of    1.89MiB in 00:00:01 at 1.12MiB/s                 \n",
      "[ExtractAudio] Destination: ..\\data\\raw\\dementia_diaries\\audio\\Things which are confusingly written make life difficult for everyone, as Jacqui explains._902215549.wav\n"
     ]
    },
    {
     "name": "stderr",
     "output_type": "stream",
     "text": [
      "Downloading Diaries:  25%|▏| 898/3628 [42:57<3:38:37,  4"
     ]
    },
    {
     "name": "stdout",
     "output_type": "stream",
     "text": [
      "[download] 100% of  509.25KiB in 00:00:00 at 755.80KiB/s               \n",
      "[ExtractAudio] Destination: ..\\data\\raw\\dementia_diaries\\audio\\Joy feels that this autumn won�t be the same, with or without Matt Hancock._902214886.wav\n"
     ]
    },
    {
     "name": "stderr",
     "output_type": "stream",
     "text": [
      "Downloading Diaries:  25%|▏| 899/3628 [43:02<3:31:31,  4"
     ]
    },
    {
     "name": "stdout",
     "output_type": "stream",
     "text": [
      "[download] 100% of  510.46KiB in 00:00:00 at 829.21KiB/s               \n",
      "[ExtractAudio] Destination: ..\\data\\raw\\dementia_diaries\\audio\\It's a dull day in Oldham but Raymond is looking forward to ZOOMING over the next week._902214523.wav\n"
     ]
    },
    {
     "name": "stderr",
     "output_type": "stream",
     "text": [
      "Downloading Diaries:  25%|▏| 900/3628 [43:06<3:24:31,  4"
     ]
    },
    {
     "name": "stdout",
     "output_type": "stream",
     "text": [
      "[download] 100% of  984.49KiB in 00:00:00 at 1019.87KiB/s                \n",
      "[ExtractAudio] Destination: ..\\data\\raw\\dementia_diaries\\audio\\Stephen wonders if he has had a TIA and is feeling rough._902213980.wav\n"
     ]
    },
    {
     "name": "stderr",
     "output_type": "stream",
     "text": [
      "Downloading Diaries:  25%|▏| 901/3628 [43:11<3:34:16,  4"
     ]
    },
    {
     "name": "stdout",
     "output_type": "stream",
     "text": [
      "[download] 100% of  920.09KiB in 00:00:01 at 913.00KiB/s                 \n",
      "[ExtractAudio] Destination: ..\\data\\raw\\dementia_diaries\\audio\\Stephen has lost more than a stone and is feeling relaxed._902213290.wav\n"
     ]
    },
    {
     "name": "stderr",
     "output_type": "stream",
     "text": [
      "Downloading Diaries:  25%|▏| 902/3628 [43:16<3:32:23,  4"
     ]
    },
    {
     "name": "stdout",
     "output_type": "stream",
     "text": [
      "[download] 100% of  936.14KiB in 00:00:01 at 926.19KiB/s                 \n",
      "[ExtractAudio] Destination: ..\\data\\raw\\dementia_diaries\\audio\\Stephen watches the seasons change._902212999.wav\n"
     ]
    },
    {
     "name": "stderr",
     "output_type": "stream",
     "text": [
      "Downloading Diaries:  25%|▏| 903/3628 [43:19<3:18:35,  4"
     ]
    },
    {
     "name": "stdout",
     "output_type": "stream",
     "text": [
      "[download] 100% of    1.49MiB in 00:00:01 at 1.10MiB/s                 \n",
      "[ExtractAudio] Destination: ..\\data\\raw\\dementia_diaries\\audio\\Daithi muses on the sensory memories that connect him with his childhood._899459761.wav\n"
     ]
    },
    {
     "name": "stderr",
     "output_type": "stream",
     "text": [
      "Downloading Diaries:  25%|▏| 904/3628 [43:24<3:23:03,  4"
     ]
    },
    {
     "name": "stdout",
     "output_type": "stream",
     "text": [
      "[download] 100% of    1.15MiB in 00:00:01 at 1013.75KiB/s              \n",
      "[ExtractAudio] Destination: ..\\data\\raw\\dementia_diaries\\audio\\Daithi reflects on things he does differently now he is a European._899456929.wav\n"
     ]
    },
    {
     "name": "stderr",
     "output_type": "stream",
     "text": [
      "Downloading Diaries:  25%|▏| 905/3628 [43:28<3:23:32,  4"
     ]
    },
    {
     "name": "stdout",
     "output_type": "stream",
     "text": [
      "[download] 100% of    2.57MiB in 00:00:02 at 1.07MiB/s                 \n",
      "[ExtractAudio] Destination: ..\\data\\raw\\dementia_diaries\\audio\\Daithi recalls working with Myrna Loy_896960113.wav\n"
     ]
    },
    {
     "name": "stderr",
     "output_type": "stream",
     "text": [
      "Downloading Diaries:  25%|▏| 906/3628 [43:33<3:25:21,  4"
     ]
    },
    {
     "name": "stdout",
     "output_type": "stream",
     "text": [
      "[download] 100% of    1.31MiB in 00:00:01 at 1000.81KiB/s              \n",
      "[ExtractAudio] Destination: ..\\data\\raw\\dementia_diaries\\audio\\Placing a seed in the ground is a long term investment says Jacqui._896906176.wav\n"
     ]
    },
    {
     "name": "stderr",
     "output_type": "stream",
     "text": [
      "Downloading Diaries:  25%|▎| 907/3628 [43:38<3:30:55,  4"
     ]
    },
    {
     "name": "stdout",
     "output_type": "stream",
     "text": [
      "[download] 100% of    1.15MiB in 00:00:01 at 1.06MiB/s                 \n",
      "[ExtractAudio] Destination: ..\\data\\raw\\dementia_diaries\\audio\\Dreanne is in reflective mood. �I�ll see you in the Spring�.stay calm�_896905957.wav\n"
     ]
    },
    {
     "name": "stderr",
     "output_type": "stream",
     "text": [
      "Downloading Diaries:  25%|▎| 908/3628 [43:42<3:19:58,  4"
     ]
    },
    {
     "name": "stdout",
     "output_type": "stream",
     "text": [
      "[download] 100% of  287.05KiB in 00:00:00 at 602.89KiB/s               \n",
      "[ExtractAudio] Destination: ..\\data\\raw\\dementia_diaries\\audio\\Raymond is enjoying his DEEP newsletter, especially the poem._896905660.wav\n"
     ]
    },
    {
     "name": "stderr",
     "output_type": "stream",
     "text": [
      "Downloading Diaries:  25%|▎| 909/3628 [43:48<3:41:51,  4"
     ]
    },
    {
     "name": "stdout",
     "output_type": "stream",
     "text": [
      "[download] 100% of    2.95MiB in 00:00:02 at 1.13MiB/s                 \n",
      "[ExtractAudio] Destination: ..\\data\\raw\\dementia_diaries\\audio\\Agnes is really struggling with her hypercusis. Anyone else had a similar problem_896905405.wav\n"
     ]
    },
    {
     "name": "stderr",
     "output_type": "stream",
     "text": [
      "Downloading Diaries:  25%|▎| 910/3628 [43:52<3:34:13,  4"
     ]
    },
    {
     "name": "stdout",
     "output_type": "stream",
     "text": [
      "[download] 100% of  860.12KiB in 00:00:00 at 922.56KiB/s                 \n",
      "[ExtractAudio] Destination: ..\\data\\raw\\dementia_diaries\\audio\\Jacqui thanks her doggy-care friend, and is feeling very well looked-after._896905204.wav\n"
     ]
    },
    {
     "name": "stderr",
     "output_type": "stream",
     "text": [
      "Downloading Diaries:  25%|▎| 911/3628 [43:55<3:09:53,  4"
     ]
    },
    {
     "name": "stdout",
     "output_type": "stream",
     "text": [
      "[download] 100% of  296.22KiB in 00:00:00 at 668.84KiB/s               \n",
      "[ExtractAudio] Destination: ..\\data\\raw\\dementia_diaries\\audio\\The rain has gone, and Raymond has been ZOOMING._896904931.wav\n"
     ]
    },
    {
     "name": "stderr",
     "output_type": "stream",
     "text": [
      "Downloading Diaries:  25%|▎| 912/3628 [44:00<3:13:59,  4"
     ]
    },
    {
     "name": "stdout",
     "output_type": "stream",
     "text": [
      "[download] 100% of    1.67MiB in 00:00:01 at 1.06MiB/s                 \n",
      "[ExtractAudio] Destination: ..\\data\\raw\\dementia_diaries\\audio\\Melvyn has penned a poem about DEEP - and here it is!_896904490.wav\n"
     ]
    },
    {
     "name": "stderr",
     "output_type": "stream",
     "text": [
      "Downloading Diaries:  25%|▎| 913/3628 [44:03<2:57:39,  3"
     ]
    },
    {
     "name": "stdout",
     "output_type": "stream",
     "text": [
      "[download] 100% of  560.32KiB in 00:00:00 at 824.61KiB/s                 \n",
      "[ExtractAudio] Destination: ..\\data\\raw\\dementia_diaries\\audio\\Frances is in need of a little serenity, and she finds it in this beautifully read diary._896904067.wav\n"
     ]
    },
    {
     "name": "stderr",
     "output_type": "stream",
     "text": [
      "Downloading Diaries:  25%|▎| 914/3628 [44:06<2:47:15,  3"
     ]
    },
    {
     "name": "stdout",
     "output_type": "stream",
     "text": [
      "[download] 100% of  938.03KiB in 00:00:01 at 910.62KiB/s               \n",
      "[ExtractAudio] Destination: ..\\data\\raw\\dementia_diaries\\audio\\Jacqui works out a solution to her dilemma live during the course of recording this diary._896903773.wav\n"
     ]
    },
    {
     "name": "stderr",
     "output_type": "stream",
     "text": [
      "Downloading Diaries:  25%|▎| 915/3628 [44:11<3:06:02,  4"
     ]
    },
    {
     "name": "stdout",
     "output_type": "stream",
     "text": [
      "[download] 100% of    1.11MiB in 00:00:01 at 1004.29KiB/s              \n",
      "[ExtractAudio] Destination: ..\\data\\raw\\dementia_diaries\\audio\\Looking forward to a few days on her own, Jacqui reflects on her supportive friend Carol._896903515.wav\n"
     ]
    },
    {
     "name": "stderr",
     "output_type": "stream",
     "text": [
      "Downloading Diaries:  25%|▎| 916/3628 [44:16<3:22:48,  4"
     ]
    },
    {
     "name": "stdout",
     "output_type": "stream",
     "text": [
      "[download] 100% of    1.54MiB in 00:00:01 at 1.01MiB/s                 \n",
      "[ExtractAudio] Destination: ..\\data\\raw\\dementia_diaries\\audio\\The response of others to confusion can be worse than the confusion itself, Jacqui reminds us._896903044.wav\n"
     ]
    },
    {
     "name": "stderr",
     "output_type": "stream",
     "text": [
      "Downloading Diaries:  25%|▎| 917/3628 [44:22<3:31:32,  4"
     ]
    },
    {
     "name": "stdout",
     "output_type": "stream",
     "text": [
      "[download] 100% of    2.03MiB in 00:00:01 at 1.17MiB/s                 \n",
      "[ExtractAudio] Destination: ..\\data\\raw\\dementia_diaries\\audio\\Agnes feels she is getting her Mojo back again, thanks to people with dementia._896902708.wav\n"
     ]
    },
    {
     "name": "stderr",
     "output_type": "stream",
     "text": [
      "Downloading Diaries:  25%|▎| 918/3628 [44:25<3:12:46,  4"
     ]
    },
    {
     "name": "stdout",
     "output_type": "stream",
     "text": [
      "[download] 100% of  214.45KiB in 00:00:00 at 628.56KiB/s               \n",
      "[ExtractAudio] Destination: ..\\data\\raw\\dementia_diaries\\audio\\Raymond�s back from Blackpool and wishes everyone well._896902489.wav\n"
     ]
    },
    {
     "name": "stderr",
     "output_type": "stream",
     "text": [
      "Downloading Diaries:  25%|▎| 919/3628 [44:28<2:54:49,  3"
     ]
    },
    {
     "name": "stdout",
     "output_type": "stream",
     "text": [
      "[download] 100% of  767.87KiB in 00:00:01 at 738.91KiB/s               \n",
      "[ExtractAudio] Destination: ..\\data\\raw\\dementia_diaries\\audio\\Stephen�s problems with inconsiderate parking continue, but he remains philosophical._896902111.wav\n"
     ]
    },
    {
     "name": "stderr",
     "output_type": "stream",
     "text": [
      "Downloading Diaries:  25%|▎| 920/3628 [44:32<3:05:51,  4"
     ]
    },
    {
     "name": "stdout",
     "output_type": "stream",
     "text": [
      "[download] 100% of  886.72KiB in 00:00:00 at 898.92KiB/s                 \n",
      "[ExtractAudio] Destination: ..\\data\\raw\\dementia_diaries\\audio\\Stephen�s hopefully up and running again with a new laptop._896901745.wav\n"
     ]
    },
    {
     "name": "stderr",
     "output_type": "stream",
     "text": [
      "Downloading Diaries:  25%|▎| 921/3628 [44:37<3:10:40,  4"
     ]
    },
    {
     "name": "stdout",
     "output_type": "stream",
     "text": [
      "[download] 100% of    2.30MiB in 00:00:02 at 1.06MiB/s                 \n",
      "[ExtractAudio] Destination: ..\\data\\raw\\dementia_diaries\\audio\\Listen to Gail describe one her her �bad� days in her latest diary._896901466.wav\n"
     ]
    },
    {
     "name": "stderr",
     "output_type": "stream",
     "text": [
      "Downloading Diaries:  25%|▎| 922/3628 [44:42<3:20:46,  4"
     ]
    },
    {
     "name": "stdout",
     "output_type": "stream",
     "text": [
      "[download] 100% of    1.66MiB in 00:00:01 at 987.61KiB/s               \n",
      "[ExtractAudio] Destination: ..\\data\\raw\\dementia_diaries\\audio\\Gail talks about her blog, and what keeps her going._896901061.wav\n"
     ]
    },
    {
     "name": "stderr",
     "output_type": "stream",
     "text": [
      "Downloading Diaries:  25%|▎| 923/3628 [44:45<3:03:47,  4"
     ]
    },
    {
     "name": "stdout",
     "output_type": "stream",
     "text": [
      "[download] 100% of  660.62KiB in 00:00:00 at 717.90KiB/s                 \n",
      "[ExtractAudio] Destination: ..\\data\\raw\\dementia_diaries\\audio\\Wendy reads a poem about her enormous hike in support of Minds and Voices._894671158.wav\n"
     ]
    },
    {
     "name": "stderr",
     "output_type": "stream",
     "text": [
      "Downloading Diaries:  25%|▎| 924/3628 [44:50<3:11:01,  4"
     ]
    },
    {
     "name": "stdout",
     "output_type": "stream",
     "text": [
      "[download] 100% of  882.44KiB in 00:00:01 at 815.91KiB/s               \n",
      "[ExtractAudio] Destination: ..\\data\\raw\\dementia_diaries\\audio\\Gerry King reads his poem 'Why Me_893626777.wav\n"
     ]
    },
    {
     "name": "stderr",
     "output_type": "stream",
     "text": [
      "Downloading Diaries:  25%|▎| 925/3628 [44:53<3:04:08,  4"
     ]
    },
    {
     "name": "stdout",
     "output_type": "stream",
     "text": [
      "[download] 100% of  783.72KiB in 00:00:00 at 848.84KiB/s                 \n",
      "[ExtractAudio] Destination: ..\\data\\raw\\dementia_diaries\\audio\\Gerry King reads his poem 'My recipe for life'_893618812.wav\n"
     ]
    },
    {
     "name": "stderr",
     "output_type": "stream",
     "text": [
      "Downloading Diaries:  26%|▎| 926/3628 [44:58<3:04:39,  4"
     ]
    },
    {
     "name": "stdout",
     "output_type": "stream",
     "text": [
      "[download] 100% of  478.12KiB in 00:00:00 at 765.78KiB/s               \n",
      "[ExtractAudio] Destination: ..\\data\\raw\\dementia_diaries\\audio\\Gerry King reads his poem 'My Bed'_893611078.wav\n"
     ]
    },
    {
     "name": "stderr",
     "output_type": "stream",
     "text": [
      "Downloading Diaries:  26%|▎| 927/3628 [45:01<2:59:21,  3"
     ]
    },
    {
     "name": "stdout",
     "output_type": "stream",
     "text": [
      "[download] 100% of    1.17MiB in 00:00:01 at 869.88KiB/s               \n",
      "[ExtractAudio] Destination: ..\\data\\raw\\dementia_diaries\\audio\\Dreanne had forgotten she was a Dementia Diarist, but is delighted to be back._892981213.wav\n"
     ]
    },
    {
     "name": "stderr",
     "output_type": "stream",
     "text": [
      "Downloading Diaries:  26%|▎| 928/3628 [45:04<2:48:12,  3"
     ]
    },
    {
     "name": "stdout",
     "output_type": "stream",
     "text": [
      "[download] 100% of  814.43KiB in 00:00:00 at 865.44KiB/s                 \n",
      "[ExtractAudio] Destination: ..\\data\\raw\\dementia_diaries\\audio\\Rae is frustrated at how quickly she becomes irritated with others._892980877.wav\n"
     ]
    },
    {
     "name": "stderr",
     "output_type": "stream",
     "text": [
      "Downloading Diaries:  26%|▎| 929/3628 [45:09<2:52:41,  3"
     ]
    },
    {
     "name": "stdout",
     "output_type": "stream",
     "text": [
      "[download] 100% of    1.19MiB in 00:00:01 at 1.09MiB/s                 \n",
      "[ExtractAudio] Destination: ..\\data\\raw\\dementia_diaries\\audio\\Agnes makes a plea to others to observe the rules to avoid further lockdowns._892980727.wav\n"
     ]
    },
    {
     "name": "stderr",
     "output_type": "stream",
     "text": [
      "Downloading Diaries:  26%|▎| 930/3628 [45:14<3:10:45,  4"
     ]
    },
    {
     "name": "stdout",
     "output_type": "stream",
     "text": [
      "[download] 100% of    1.29MiB in 00:00:01 at 1.14MiB/s                 \n",
      "[ExtractAudio] Destination: ..\\data\\raw\\dementia_diaries\\audio\\A useful reminder from Jacqui about the importance of taking things steady._892980379.wav\n"
     ]
    },
    {
     "name": "stderr",
     "output_type": "stream",
     "text": [
      "Downloading Diaries:  26%|▎| 931/3628 [45:18<3:04:53,  4"
     ]
    },
    {
     "name": "stdout",
     "output_type": "stream",
     "text": [
      "[download] 100% of  665.09KiB in 00:00:00 at 877.48KiB/s                 \n",
      "[ExtractAudio] Destination: ..\\data\\raw\\dementia_diaries\\audio\\Rae is finally allowed to be visited by her brother._892980193.wav\n"
     ]
    },
    {
     "name": "stderr",
     "output_type": "stream",
     "text": [
      "Downloading Diaries:  26%|▎| 932/3628 [45:22<3:05:06,  4"
     ]
    },
    {
     "name": "stdout",
     "output_type": "stream",
     "text": [
      "[download] 100% of  575.93KiB in 00:00:00 at 834.24KiB/s                 \n",
      "[ExtractAudio] Destination: ..\\data\\raw\\dementia_diaries\\audio\\Rae is feeling emotionally numb after many months of lockdown._892980019.wav\n"
     ]
    },
    {
     "name": "stderr",
     "output_type": "stream",
     "text": [
      "Downloading Diaries:  26%|▎| 933/3628 [45:27<3:18:55,  4"
     ]
    },
    {
     "name": "stdout",
     "output_type": "stream",
     "text": [
      "[download] 100% of    1.18MiB in 00:00:01 at 958.14KiB/s               \n",
      "[ExtractAudio] Destination: ..\\data\\raw\\dementia_diaries\\audio\\Jacqui hopes that people remain cautious as lockdown eases._892979752.wav\n"
     ]
    },
    {
     "name": "stderr",
     "output_type": "stream",
     "text": [
      "Downloading Diaries:  26%|▎| 934/3628 [45:32<3:26:58,  4"
     ]
    },
    {
     "name": "stdout",
     "output_type": "stream",
     "text": [
      "[download] 100% of  334.74KiB in 00:00:00 at 608.07KiB/s               \n",
      "[ExtractAudio] Destination: ..\\data\\raw\\dementia_diaries\\audio\\Raymond reports from a rainy Oldham._892979575.wav\n"
     ]
    },
    {
     "name": "stderr",
     "output_type": "stream",
     "text": [
      "Downloading Diaries:  26%|▎| 935/3628 [45:36<3:21:44,  4"
     ]
    },
    {
     "name": "stdout",
     "output_type": "stream",
     "text": [
      "[download] 100% of  862.16KiB in 00:00:00 at 1002.99KiB/s                \n",
      "[ExtractAudio] Destination: ..\\data\\raw\\dementia_diaries\\audio\\Frances watches the countryside getting ready for the change of seasons._892979416.wav\n"
     ]
    },
    {
     "name": "stderr",
     "output_type": "stream",
     "text": [
      "Downloading Diaries:  26%|▎| 936/3628 [45:39<2:59:32,  4"
     ]
    },
    {
     "name": "stdout",
     "output_type": "stream",
     "text": [
      "[download] 100% of  440.50KiB in 00:00:00 at 690.49KiB/s               \n",
      "[ExtractAudio] Destination: ..\\data\\raw\\dementia_diaries\\audio\\Frances reports from her beloved Brecon Beacons_892979209.wav\n"
     ]
    },
    {
     "name": "stderr",
     "output_type": "stream",
     "text": [
      "Downloading Diaries:  26%|▎| 937/3628 [45:42<2:48:56,  3"
     ]
    },
    {
     "name": "stdout",
     "output_type": "stream",
     "text": [
      "[download] 100% of    1.26MiB in 00:00:01 at 1.10MiB/s                 \n",
      "[ExtractAudio] Destination: ..\\data\\raw\\dementia_diaries\\audio\\Agnes wonders why her library is showing no sign of opening up._892978615.wav\n"
     ]
    },
    {
     "name": "stderr",
     "output_type": "stream",
     "text": [
      "Downloading Diaries:  26%|▎| 938/3628 [45:47<3:03:49,  4"
     ]
    },
    {
     "name": "stdout",
     "output_type": "stream",
     "text": [
      "[download] 100% of 1010.96KiB in 00:00:01 at 879.36KiB/s               \n",
      "[ExtractAudio] Destination: ..\\data\\raw\\dementia_diaries\\audio\\Inconsiderate parking is a real problem for Stephen, with potentially life-threatening consequences._892978480.wav\n"
     ]
    },
    {
     "name": "stderr",
     "output_type": "stream",
     "text": [
      "Downloading Diaries:  26%|▎| 939/3628 [45:52<3:12:43,  4"
     ]
    },
    {
     "name": "stdout",
     "output_type": "stream",
     "text": [
      "[download] 100% of 1004.33KiB in 00:00:01 at 987.65KiB/s               \n",
      "[ExtractAudio] Destination: ..\\data\\raw\\dementia_diaries\\audio\\Stephen�s been enjoying learning new skills from other people with dementia._892978207.wav\n"
     ]
    },
    {
     "name": "stderr",
     "output_type": "stream",
     "text": [
      "Downloading Diaries:  26%|▎| 940/3628 [45:56<3:07:09,  4"
     ]
    },
    {
     "name": "stdout",
     "output_type": "stream",
     "text": [
      "[download] 100% of    1.01MiB in 00:00:01 at 865.68KiB/s               \n",
      "[ExtractAudio] Destination: ..\\data\\raw\\dementia_diaries\\audio\\Stephen�s having a nice chill out day after some good ZOOM meetings._892978060.wav\n"
     ]
    },
    {
     "name": "stderr",
     "output_type": "stream",
     "text": [
      "Downloading Diaries:  26%|▎| 941/3628 [45:59<2:57:29,  3"
     ]
    },
    {
     "name": "stdout",
     "output_type": "stream",
     "text": [
      "[download] 100% of 1017.21KiB in 00:00:01 at 1003.76KiB/s                \n",
      "[ExtractAudio] Destination: ..\\data\\raw\\dementia_diaries\\audio\\A lifetime of farm-work has left Stephen with a painful legacy._892977871.wav\n"
     ]
    },
    {
     "name": "stderr",
     "output_type": "stream",
     "text": [
      "Downloading Diaries:  26%|▎| 942/3628 [46:04<3:05:11,  4"
     ]
    },
    {
     "name": "stdout",
     "output_type": "stream",
     "text": [
      "[download] 100% of  844.53KiB in 00:00:00 at 875.74KiB/s                 \n",
      "[ExtractAudio] Destination: ..\\data\\raw\\dementia_diaries\\audio\\�You just keep going�it�s all you can do� Stephen is in reflective mood._892977640.wav\n"
     ]
    },
    {
     "name": "stderr",
     "output_type": "stream",
     "text": [
      "Downloading Diaries:  26%|▎| 943/3628 [46:08<3:08:38,  4"
     ]
    },
    {
     "name": "stdout",
     "output_type": "stream",
     "text": [
      "[download] 100% of  911.22KiB in 00:00:01 at 763.21KiB/s               \n",
      "[ExtractAudio] Destination: ..\\data\\raw\\dementia_diaries\\audio\\�It's coming down in stair rods� for Stephen_892977457.wav\n"
     ]
    },
    {
     "name": "stderr",
     "output_type": "stream",
     "text": [
      "Downloading Diaries:  26%|▎| 944/3628 [46:11<2:46:28,  3"
     ]
    },
    {
     "name": "stdout",
     "output_type": "stream",
     "text": [
      "[download] 100% of  238.10KiB in 00:00:00 at 550.81KiB/s               \n",
      "[ExtractAudio] Destination: ..\\data\\raw\\dementia_diaries\\audio\\Lorraine describes a magical day with her granddaughter._892977286.wav\n"
     ]
    },
    {
     "name": "stderr",
     "output_type": "stream",
     "text": [
      "Downloading Diaries:  26%|▎| 945/3628 [46:14<2:42:19,  3"
     ]
    },
    {
     "name": "stdout",
     "output_type": "stream",
     "text": [
      "[download] 100% of    1.15MiB in 00:00:01 at 826.86KiB/s               \n",
      "[ExtractAudio] Destination: ..\\data\\raw\\dementia_diaries\\audio\\The swallows are gathering and George feels the seasons shifting._892976857.wav\n"
     ]
    },
    {
     "name": "stderr",
     "output_type": "stream",
     "text": [
      "Downloading Diaries:  26%|▎| 946/3628 [46:19<3:02:02,  4"
     ]
    },
    {
     "name": "stdout",
     "output_type": "stream",
     "text": [
      "[download] 100% of    1.07MiB in 00:00:01 at 784.84KiB/s               \n",
      "[ExtractAudio] Destination: ..\\data\\raw\\dementia_diaries\\audio\\Dory explains why her ZOOM meetings with other people with dementia are so important._892976641.wav\n"
     ]
    },
    {
     "name": "stderr",
     "output_type": "stream",
     "text": [
      "Downloading Diaries:  26%|▎| 947/3628 [46:23<2:55:35,  3"
     ]
    },
    {
     "name": "stdout",
     "output_type": "stream",
     "text": [
      "[download] 100% of  542.42KiB in 00:00:00 at 644.19KiB/s                 \n",
      "[ExtractAudio] Destination: ..\\data\\raw\\dementia_diaries\\audio\\Dory is learning British Sign Language - wow!_892976422.wav\n"
     ]
    },
    {
     "name": "stderr",
     "output_type": "stream",
     "text": [
      "Downloading Diaries:  26%|▎| 948/3628 [46:27<3:03:19,  4"
     ]
    },
    {
     "name": "stdout",
     "output_type": "stream",
     "text": [
      "[download] 100% of    1.54MiB in 00:00:01 at 1.04MiB/s                 \n",
      "[ExtractAudio] Destination: ..\\data\\raw\\dementia_diaries\\audio\\W talks about his painting by numbers_889669636.wav\n"
     ]
    },
    {
     "name": "stderr",
     "output_type": "stream",
     "text": [
      "Downloading Diaries:  26%|▎| 949/3628 [46:32<3:08:16,  4"
     ]
    },
    {
     "name": "stdout",
     "output_type": "stream",
     "text": [
      "[download] 100% of    1.16MiB in 00:00:01 at 1.01MiB/s                 \n",
      "[ExtractAudio] Destination: ..\\data\\raw\\dementia_diaries\\audio\\Glenda and her polytunnel have been having all sorts of adventures in gale-force winds._887427889.wav\n"
     ]
    },
    {
     "name": "stderr",
     "output_type": "stream",
     "text": [
      "Downloading Diaries:  26%|▎| 950/3628 [46:36<3:13:09,  4"
     ]
    },
    {
     "name": "stdout",
     "output_type": "stream",
     "text": [
      "[download] 100% of    1.39MiB in 00:00:01 at 999.44KiB/s               \n",
      "[ExtractAudio] Destination: ..\\data\\raw\\dementia_diaries\\audio\\Melvyn is looking forward to being reconnected with his DEEP friends again._887427592.wav\n"
     ]
    },
    {
     "name": "stderr",
     "output_type": "stream",
     "text": [
      "Downloading Diaries:  26%|▎| 951/3628 [46:42<3:24:08,  4"
     ]
    },
    {
     "name": "stdout",
     "output_type": "stream",
     "text": [
      "[download] 100% of    2.38MiB in 00:00:01 at 1.24MiB/s                 \n",
      "[ExtractAudio] Destination: ..\\data\\raw\\dementia_diaries\\audio\\Melvyn wonders why technology can�t be easier to use for people with dementia._887427118.wav\n"
     ]
    },
    {
     "name": "stderr",
     "output_type": "stream",
     "text": [
      "Downloading Diaries:  26%|▎| 952/3628 [46:47<3:32:48,  4"
     ]
    },
    {
     "name": "stdout",
     "output_type": "stream",
     "text": [
      "[download] 100% of    1.54MiB in 00:00:01 at 1.19MiB/s                 \n",
      "[ExtractAudio] Destination: ..\\data\\raw\\dementia_diaries\\audio\\Jacqui explains how sensory overload affects her._887426386.wav\n"
     ]
    },
    {
     "name": "stderr",
     "output_type": "stream",
     "text": [
      "Downloading Diaries:  26%|▎| 953/3628 [46:51<3:22:27,  4"
     ]
    },
    {
     "name": "stdout",
     "output_type": "stream",
     "text": [
      "[download] 100% of  708.15KiB in 00:00:00 at 1023.62KiB/s                \n",
      "[ExtractAudio] Destination: ..\\data\\raw\\dementia_diaries\\audio\\Rae records a new diary in her uniquely wry style._887426104.wav\n"
     ]
    },
    {
     "name": "stderr",
     "output_type": "stream",
     "text": [
      "Downloading Diaries:  26%|▎| 954/3628 [46:55<3:14:04,  4"
     ]
    },
    {
     "name": "stdout",
     "output_type": "stream",
     "text": [
      "[download] 100% of    1.51MiB in 00:00:01 at 1.13MiB/s                 \n",
      "[ExtractAudio] Destination: ..\\data\\raw\\dementia_diaries\\audio\\Agnes is getting to grips with �the new COVID etiquette� as she ventures out again._887425693.wav\n"
     ]
    },
    {
     "name": "stderr",
     "output_type": "stream",
     "text": [
      "Downloading Diaries:  26%|▎| 955/3628 [46:58<3:01:33,  4"
     ]
    },
    {
     "name": "stdout",
     "output_type": "stream",
     "text": [
      "[download] 100% of    1.38MiB in 00:00:01 at 1.16MiB/s                 \n",
      "[ExtractAudio] Destination: ..\\data\\raw\\dementia_diaries\\audio\\Jacqui explains how she got involved with crafting, and what it means to her._887425291.wav\n"
     ]
    },
    {
     "name": "stderr",
     "output_type": "stream",
     "text": [
      "Downloading Diaries:  26%|▎| 956/3628 [47:02<2:55:33,  3"
     ]
    },
    {
     "name": "stdout",
     "output_type": "stream",
     "text": [
      "[download] 100% of  802.26KiB in 00:00:00 at 849.83KiB/s                 \n",
      "[ExtractAudio] Destination: ..\\data\\raw\\dementia_diaries\\audio\\Frances and her husband are feeling in shock at recent developments. We�re thinking of you Frances._887425036.wav\n"
     ]
    },
    {
     "name": "stderr",
     "output_type": "stream",
     "text": [
      "Downloading Diaries:  26%|▎| 957/3628 [47:06<2:57:02,  3"
     ]
    },
    {
     "name": "stdout",
     "output_type": "stream",
     "text": [
      "[download] 100% of  879.07KiB in 00:00:00 at 984.98KiB/s                 \n",
      "[ExtractAudio] Destination: ..\\data\\raw\\dementia_diaries\\audio\\Agnes is really feeling the effects of post-viral tiredness._887424511.wav\n"
     ]
    },
    {
     "name": "stderr",
     "output_type": "stream",
     "text": [
      "Downloading Diaries:  26%|▎| 958/3628 [47:09<2:46:56,  3"
     ]
    },
    {
     "name": "stdout",
     "output_type": "stream",
     "text": [
      "[download] 100% of  359.24KiB in 00:00:00 at 691.52KiB/s               \n",
      "[ExtractAudio] Destination: ..\\data\\raw\\dementia_diaries\\audio\\Raymond has been Singing for the Brain over ZOOM_887424253.wav\n"
     ]
    },
    {
     "name": "stderr",
     "output_type": "stream",
     "text": [
      "Downloading Diaries:  26%|▎| 959/3628 [47:14<2:58:04,  4"
     ]
    },
    {
     "name": "stdout",
     "output_type": "stream",
     "text": [
      "[download] 100% of  534.87KiB in 00:00:00 at 677.44KiB/s                 \n",
      "[ExtractAudio] Destination: ..\\data\\raw\\dementia_diaries\\audio\\Raymond has been keeping in touch with ZOOM through the ongoing lockdown in Oldham._887423878.wav\n"
     ]
    },
    {
     "name": "stderr",
     "output_type": "stream",
     "text": [
      "Downloading Diaries:  26%|▎| 960/3628 [47:18<2:59:47,  4"
     ]
    },
    {
     "name": "stdout",
     "output_type": "stream",
     "text": [
      "[download] 100% of  778.28KiB in 00:00:00 at 1.00MiB/s                   \n",
      "[ExtractAudio] Destination: ..\\data\\raw\\dementia_diaries\\audio\\Joy is keen to get things moving again with Salford University._887423593.wav\n"
     ]
    },
    {
     "name": "stderr",
     "output_type": "stream",
     "text": [
      "Downloading Diaries:  26%|▎| 961/3628 [47:22<2:58:30,  4"
     ]
    },
    {
     "name": "stdout",
     "output_type": "stream",
     "text": [
      "[download] 100% of 1019.05KiB in 00:00:01 at 1010.15KiB/s                \n",
      "[ExtractAudio] Destination: ..\\data\\raw\\dementia_diaries\\audio\\Jacqui is wondering how dogs might help people with dementia._887422939.wav\n"
     ]
    },
    {
     "name": "stderr",
     "output_type": "stream",
     "text": [
      "Downloading Diaries:  27%|▎| 962/3628 [47:26<3:07:26,  4"
     ]
    },
    {
     "name": "stdout",
     "output_type": "stream",
     "text": [
      "[download] 100% of  538.16KiB in 00:00:00 at 808.55KiB/s               \n",
      "[ExtractAudio] Destination: ..\\data\\raw\\dementia_diaries\\audio\\�Here�s the pupil teaching the teacher� Jacqui is chuffed to bits._887422564.wav\n"
     ]
    },
    {
     "name": "stderr",
     "output_type": "stream",
     "text": [
      "Downloading Diaries:  27%|▎| 963/3628 [47:33<3:34:11,  4"
     ]
    },
    {
     "name": "stdout",
     "output_type": "stream",
     "text": [
      "[download] 100% of    4.08MiB in 00:00:04 at 989.96KiB/s               \n",
      "[ExtractAudio] Destination: ..\\data\\raw\\dementia_diaries\\audio\\Up with the lark on a wonderful morning, George celebrates the role of crafting in his life._887422171.wav\n"
     ]
    },
    {
     "name": "stderr",
     "output_type": "stream",
     "text": [
      "Downloading Diaries:  27%|▎| 964/3628 [47:37<3:28:26,  4"
     ]
    },
    {
     "name": "stdout",
     "output_type": "stream",
     "text": [
      "[download] 100% of  865.31KiB in 00:00:01 at 741.37KiB/s               \n",
      "[ExtractAudio] Destination: ..\\data\\raw\\dementia_diaries\\audio\\Stephen�s having technical problems. Sorry you�re having a bit of a ropey week Stephen�._887421784.wav\n"
     ]
    },
    {
     "name": "stderr",
     "output_type": "stream",
     "text": [
      "Downloading Diaries:  27%|▎| 965/3628 [47:42<3:32:43,  4"
     ]
    },
    {
     "name": "stdout",
     "output_type": "stream",
     "text": [
      "[download] 100% of  852.15KiB in 00:00:01 at 751.03KiB/s               \n",
      "[ExtractAudio] Destination: ..\\data\\raw\\dementia_diaries\\audio\\Stephen�s had a disappointing knock back._887421592.wav\n"
     ]
    },
    {
     "name": "stderr",
     "output_type": "stream",
     "text": [
      "Downloading Diaries:  27%|▎| 966/3628 [47:45<3:10:30,  4"
     ]
    },
    {
     "name": "stdout",
     "output_type": "stream",
     "text": [
      "[download] 100% of  837.04KiB in 00:00:01 at 822.18KiB/s                 \n",
      "[ExtractAudio] Destination: ..\\data\\raw\\dementia_diaries\\audio\\It feels like winter in August to Stephen as he sorts out some legal issues._887421310.wav\n"
     ]
    },
    {
     "name": "stderr",
     "output_type": "stream",
     "text": [
      "Downloading Diaries:  27%|▎| 967/3628 [47:49<3:03:24,  4"
     ]
    },
    {
     "name": "stdout",
     "output_type": "stream",
     "text": [
      "[download] 100% of  867.48KiB in 00:00:01 at 802.03KiB/s               \n",
      "[ExtractAudio] Destination: ..\\data\\raw\\dementia_diaries\\audio\\Stephen�s feeling in control �it�s nice to have some independence�_887421019.wav\n"
     ]
    },
    {
     "name": "stderr",
     "output_type": "stream",
     "text": [
      "Downloading Diaries:  27%|▎| 968/3628 [47:54<3:09:43,  4"
     ]
    },
    {
     "name": "stdout",
     "output_type": "stream",
     "text": [
      "[download] 100% of  755.10KiB in 00:00:00 at 782.99KiB/s                 \n",
      "[ExtractAudio] Destination: ..\\data\\raw\\dementia_diaries\\audio\\Stephen�s had a frightening night with his COPD, but is feeling a lot better today._887420755.wav\n"
     ]
    },
    {
     "name": "stderr",
     "output_type": "stream",
     "text": [
      "Downloading Diaries:  27%|▎| 969/3628 [47:58<3:11:26,  4"
     ]
    },
    {
     "name": "stdout",
     "output_type": "stream",
     "text": [
      "[download] 100% of    1.55MiB in 00:00:01 at 911.03KiB/s               \n",
      "[ExtractAudio] Destination: ..\\data\\raw\\dementia_diaries\\audio\\Gail explains why crafting is so important to her in this lovely diary._887419159.wav\n"
     ]
    },
    {
     "name": "stderr",
     "output_type": "stream",
     "text": [
      "Downloading Diaries:  27%|▎| 970/3628 [48:03<3:21:52,  4"
     ]
    },
    {
     "name": "stdout",
     "output_type": "stream",
     "text": [
      "[download] 100% of  674.73KiB in 00:00:00 at 799.29KiB/s                 \n",
      "[ExtractAudio] Destination: ..\\data\\raw\\dementia_diaries\\audio\\Frances talks about receiving a happy bag from Dory_887075161.wav\n"
     ]
    },
    {
     "name": "stderr",
     "output_type": "stream",
     "text": [
      "Downloading Diaries:  27%|▎| 971/3628 [48:06<3:00:54,  4"
     ]
    },
    {
     "name": "stdout",
     "output_type": "stream",
     "text": [
      "[download] 100% of  571.79KiB in 00:00:00 at 887.06KiB/s                 \n",
      "[ExtractAudio] Destination: ..\\data\\raw\\dementia_diaries\\audio\\Frances receives a Rainbow Bag from Agnes_887074339.wav\n"
     ]
    },
    {
     "name": "stderr",
     "output_type": "stream",
     "text": [
      "Downloading Diaries:  27%|▎| 972/3628 [48:10<2:55:17,  3"
     ]
    },
    {
     "name": "stdout",
     "output_type": "stream",
     "text": [
      "[download] 100% of  950.60KiB in 00:00:01 at 871.81KiB/s               \n",
      "[ExtractAudio] Destination: ..\\data\\raw\\dementia_diaries\\audio\\Frances receives a whistle from George_887070652.wav\n"
     ]
    },
    {
     "name": "stderr",
     "output_type": "stream",
     "text": [
      "Downloading Diaries:  27%|▎| 973/3628 [48:17<3:34:00,  4"
     ]
    },
    {
     "name": "stdout",
     "output_type": "stream",
     "text": [
      "[download] 100% of    2.82MiB in 00:00:02 at 977.96KiB/s               \n",
      "[ExtractAudio] Destination: ..\\data\\raw\\dementia_diaries\\audio\\Fiona Candlish explains how she makes pressed flower cards_885148876.wav\n"
     ]
    },
    {
     "name": "stderr",
     "output_type": "stream",
     "text": [
      "Downloading Diaries:  27%|▎| 974/3628 [48:23<3:51:25,  5"
     ]
    },
    {
     "name": "stdout",
     "output_type": "stream",
     "text": [
      "[download] 100% of    1.28MiB in 00:00:01 at 918.76KiB/s               \n",
      "[ExtractAudio] Destination: ..\\data\\raw\\dementia_diaries\\audio\\Agnes talks about the DEEP Hug blanket_882765388.wav\n"
     ]
    },
    {
     "name": "stderr",
     "output_type": "stream",
     "text": [
      "Downloading Diaries:  27%|▎| 975/3628 [48:28<3:46:33,  5"
     ]
    },
    {
     "name": "stdout",
     "output_type": "stream",
     "text": [
      "[download] 100% of    1.91MiB in 00:00:01 at 1.15MiB/s                 \n",
      "[ExtractAudio] Destination: ..\\data\\raw\\dementia_diaries\\audio\\Carol talks arts and crafts, crochet and knitting..._877293625.wav\n"
     ]
    },
    {
     "name": "stderr",
     "output_type": "stream",
     "text": [
      "Downloading Diaries:  27%|▎| 976/3628 [48:32<3:41:42,  5"
     ]
    },
    {
     "name": "stdout",
     "output_type": "stream",
     "text": [
      "[download] 100% of  371.67KiB in 00:00:00 at 611.58KiB/s               \n",
      "[ExtractAudio] Destination: ..\\data\\raw\\dementia_diaries\\audio\\Lorraine says farewell to a much loved friend._875766547.wav\n"
     ]
    },
    {
     "name": "stderr",
     "output_type": "stream",
     "text": [
      "Downloading Diaries:  27%|▎| 977/3628 [48:36<3:28:00,  4"
     ]
    },
    {
     "name": "stdout",
     "output_type": "stream",
     "text": [
      "[download] 100% of    1.28MiB in 00:00:01 at 910.24KiB/s               \n",
      "[ExtractAudio] Destination: ..\\data\\raw\\dementia_diaries\\audio\\Gail is sounding remarkably perky on one hour�s sleep. Happy Birthday Gail X_875766223.wav\n"
     ]
    },
    {
     "name": "stderr",
     "output_type": "stream",
     "text": [
      "Downloading Diaries:  27%|▎| 978/3628 [48:41<3:24:06,  4"
     ]
    },
    {
     "name": "stdout",
     "output_type": "stream",
     "text": [
      "[download] 100% of    1.77MiB in 00:00:01 at 941.37KiB/s               \n",
      "[ExtractAudio] Destination: ..\\data\\raw\\dementia_diaries\\audio\\Gail describes an unusual episode during the night. Anyone else had this happen_875765872.wav\n"
     ]
    },
    {
     "name": "stderr",
     "output_type": "stream",
     "text": [
      "Downloading Diaries:  27%|▎| 979/3628 [48:45<3:16:16,  4"
     ]
    },
    {
     "name": "stdout",
     "output_type": "stream",
     "text": [
      "[download] 100% of  917.27KiB in 00:00:01 at 728.74KiB/s               \n",
      "[ExtractAudio] Destination: ..\\data\\raw\\dementia_diaries\\audio\\Come and enjoy the sounds of the sea with Gail_875765632.wav\n"
     ]
    },
    {
     "name": "stderr",
     "output_type": "stream",
     "text": [
      "Downloading Diaries:  27%|▎| 980/3628 [48:49<3:15:44,  4"
     ]
    },
    {
     "name": "stdout",
     "output_type": "stream",
     "text": [
      "[download] 100% of  920.84KiB in 00:00:01 at 867.03KiB/s               \n",
      "[ExtractAudio] Destination: ..\\data\\raw\\dementia_diaries\\audio\\Stephen is recovering from a rotten dream and sweltering with the heat._875765320.wav\n"
     ]
    },
    {
     "name": "stderr",
     "output_type": "stream",
     "text": [
      "Downloading Diaries:  27%|▎| 981/3628 [48:53<3:12:22,  4"
     ]
    },
    {
     "name": "stdout",
     "output_type": "stream",
     "text": [
      "[download] 100% of  955.74KiB in 00:00:01 at 877.57KiB/s               \n",
      "[ExtractAudio] Destination: ..\\data\\raw\\dementia_diaries\\audio\\Hopefully watching Alaska on the TV might help Stephen cool down._875765023.wav\n"
     ]
    },
    {
     "name": "stderr",
     "output_type": "stream",
     "text": [
      "Downloading Diaries:  27%|▎| 982/3628 [48:58<3:11:38,  4"
     ]
    },
    {
     "name": "stdout",
     "output_type": "stream",
     "text": [
      "[download] 100% of  913.92KiB in 00:00:01 at 803.49KiB/s               \n",
      "[ExtractAudio] Destination: ..\\data\\raw\\dementia_diaries\\audio\\Frances is in a reflective mood as she recovers from a fall in the garden._875764642.wav\n"
     ]
    },
    {
     "name": "stderr",
     "output_type": "stream",
     "text": [
      "Downloading Diaries:  27%|▎| 983/3628 [49:01<2:53:46,  3"
     ]
    },
    {
     "name": "stdout",
     "output_type": "stream",
     "text": [
      "[download] 100% of  295.20KiB in 00:00:00 at 570.68KiB/s               \n",
      "[ExtractAudio] Destination: ..\\data\\raw\\dementia_diaries\\audio\\Raymond reports from a sunny Oldham._875764252.wav\n"
     ]
    },
    {
     "name": "stderr",
     "output_type": "stream",
     "text": [
      "Downloading Diaries:  27%|▎| 984/3628 [49:04<2:47:42,  3"
     ]
    },
    {
     "name": "stdout",
     "output_type": "stream",
     "text": [
      "[download] 100% of  637.37KiB in 00:00:00 at 824.37KiB/s                 \n",
      "[ExtractAudio] Destination: ..\\data\\raw\\dementia_diaries\\audio\\Apart from being hot and bothered Rae is feeling OK_875763895.wav\n"
     ]
    },
    {
     "name": "stderr",
     "output_type": "stream",
     "text": [
      "Downloading Diaries:  27%|▎| 985/3628 [49:09<2:56:37,  4"
     ]
    },
    {
     "name": "stdout",
     "output_type": "stream",
     "text": [
      "[download] 100% of    2.48MiB in 00:00:02 at 1.13MiB/s                 \n",
      "[ExtractAudio] Destination: ..\\data\\raw\\dementia_diaries\\audio\\Politics, gardens and dogs are the subject of Melvyn�s latest diary_875763553.wav\n"
     ]
    },
    {
     "name": "stderr",
     "output_type": "stream",
     "text": [
      "Downloading Diaries:  27%|▎| 986/3628 [49:14<3:07:47,  4"
     ]
    },
    {
     "name": "stdout",
     "output_type": "stream",
     "text": [
      "[download] 100% of  789.81KiB in 00:00:00 at 970.38KiB/s                 \n",
      "[ExtractAudio] Destination: ..\\data\\raw\\dementia_diaries\\audio\\Frances reports from a field full of ponies and flowers - a lovely diary_875763265.wav\n"
     ]
    },
    {
     "name": "stderr",
     "output_type": "stream",
     "text": [
      "Downloading Diaries:  27%|▎| 987/3628 [49:17<3:01:10,  4"
     ]
    },
    {
     "name": "stdout",
     "output_type": "stream",
     "text": [
      "[download] 100% of  270.19KiB in 00:00:00 at 648.26KiB/s               \n",
      "[ExtractAudio] Destination: ..\\data\\raw\\dementia_diaries\\audio\\Raymond warns about the danger of scam phonecalls._875762941.wav\n"
     ]
    },
    {
     "name": "stderr",
     "output_type": "stream",
     "text": [
      "Downloading Diaries:  27%|▎| 988/3628 [49:22<3:05:03,  4"
     ]
    },
    {
     "name": "stdout",
     "output_type": "stream",
     "text": [
      "[download] 100% of    1.01MiB in 00:00:01 at 1.01MiB/s                   \n",
      "[ExtractAudio] Destination: ..\\data\\raw\\dementia_diaries\\audio\\Jacqui has resorted to noise-cancelling headphones to cope with the sound of her neighbours._875762521.wav\n"
     ]
    },
    {
     "name": "stderr",
     "output_type": "stream",
     "text": [
      "Downloading Diaries:  27%|▎| 989/3628 [49:27<3:19:45,  4"
     ]
    },
    {
     "name": "stdout",
     "output_type": "stream",
     "text": [
      "[download] 100% of    1.62MiB in 00:00:01 at 1.19MiB/s                 \n",
      "[ExtractAudio] Destination: ..\\data\\raw\\dementia_diaries\\audio\\Agnes is full of praise for the STRAND group following their ZOOM meeting._875762086.wav\n"
     ]
    },
    {
     "name": "stderr",
     "output_type": "stream",
     "text": [
      "Downloading Diaries:  27%|▎| 990/3628 [49:31<3:10:28,  4"
     ]
    },
    {
     "name": "stdout",
     "output_type": "stream",
     "text": [
      "[download] 100% of    1.30MiB in 00:00:01 at 917.60KiB/s               \n",
      "[ExtractAudio] Destination: ..\\data\\raw\\dementia_diaries\\audio\\Jacqui describes how to make plant holders out of plastic bottles._875761831.wav\n"
     ]
    },
    {
     "name": "stderr",
     "output_type": "stream",
     "text": [
      "Downloading Diaries:  27%|▎| 991/3628 [49:35<3:03:45,  4"
     ]
    },
    {
     "name": "stdout",
     "output_type": "stream",
     "text": [
      "[download] 100% of  247.46KiB in 00:00:00 at 568.26KiB/s               \n",
      "[ExtractAudio] Destination: ..\\data\\raw\\dementia_diaries\\audio\\Raymond wonders how he might get one of the very fine �I want to speak masks� fashioned by Gail._875761522.wav\n"
     ]
    },
    {
     "name": "stderr",
     "output_type": "stream",
     "text": [
      "Downloading Diaries:  27%|▎| 992/3628 [49:40<3:16:36,  4"
     ]
    },
    {
     "name": "stdout",
     "output_type": "stream",
     "text": [
      "[download] 100% of    1.40MiB in 00:00:01 at 1.07MiB/s                 \n",
      "[ExtractAudio] Destination: ..\\data\\raw\\dementia_diaries\\audio\\Establishing the best way to communicate with people with dementia is key, as Jacqui�s diary shows._875761111.wav\n"
     ]
    },
    {
     "name": "stderr",
     "output_type": "stream",
     "text": [
      "Downloading Diaries:  27%|▎| 993/3628 [49:44<3:09:26,  4"
     ]
    },
    {
     "name": "stdout",
     "output_type": "stream",
     "text": [
      "[download] 100% of  624.48KiB in 00:00:00 at 979.46KiB/s                 \n",
      "[ExtractAudio] Destination: ..\\data\\raw\\dementia_diaries\\audio\\Joy is struggling with Manchester lockdown # and is off to the paddling pool to cool down._875760325.wav\n"
     ]
    },
    {
     "name": "stderr",
     "output_type": "stream",
     "text": [
      "Downloading Diaries:  27%|▎| 994/3628 [49:47<2:51:26,  3"
     ]
    },
    {
     "name": "stdout",
     "output_type": "stream",
     "text": [
      "[download] 100% of  479.32KiB in 00:00:00 at 717.23KiB/s               \n",
      "[ExtractAudio] Destination: ..\\data\\raw\\dementia_diaries\\audio\\The Happy Tandemer has been having a wonderful time picking fruit._875759872.wav\n"
     ]
    },
    {
     "name": "stderr",
     "output_type": "stream",
     "text": [
      "Downloading Diaries:  27%|▎| 995/3628 [49:51<2:52:39,  3"
     ]
    },
    {
     "name": "stdout",
     "output_type": "stream",
     "text": [
      "[download] 100% of  511.20KiB in 00:00:00 at 798.00KiB/s               \n",
      "[ExtractAudio] Destination: ..\\data\\raw\\dementia_diaries\\audio\\The Happy Tandemer loves to be out in a storm with the rain on her face._875759626.wav\n"
     ]
    },
    {
     "name": "stderr",
     "output_type": "stream",
     "text": [
      "Downloading Diaries:  27%|▎| 996/3628 [49:54<2:43:11,  3"
     ]
    },
    {
     "name": "stdout",
     "output_type": "stream",
     "text": [
      "[download] 100% of  341.05KiB in 00:00:00 at 694.61KiB/s               \n",
      "[ExtractAudio] Destination: ..\\data\\raw\\dementia_diaries\\audio\\Raymond has had a lovely couple of hours with Singing for the Brain._875759314.wav\n"
     ]
    },
    {
     "name": "stderr",
     "output_type": "stream",
     "text": [
      "Downloading Diaries:  27%|▎| 997/3628 [49:58<2:52:16,  3"
     ]
    },
    {
     "name": "stdout",
     "output_type": "stream",
     "text": [
      "[download] 100% of    2.11MiB in 00:00:01 at 1.18MiB/s                 \n",
      "[ExtractAudio] Destination: ..\\data\\raw\\dementia_diaries\\audio\\Carol describes what she gets from crafting._875758978.wav\n"
     ]
    },
    {
     "name": "stderr",
     "output_type": "stream",
     "text": [
      "Downloading Diaries:  28%|▎| 998/3628 [50:02<2:46:15,  3"
     ]
    },
    {
     "name": "stdout",
     "output_type": "stream",
     "text": [
      "[download] 100% of  898.01KiB in 00:00:01 at 879.60KiB/s                 \n",
      "[ExtractAudio] Destination: ..\\data\\raw\\dementia_diaries\\audio\\Dory is trying to keep herself busy at home after injuring her foot._875758690.wav\n"
     ]
    },
    {
     "name": "stderr",
     "output_type": "stream",
     "text": [
      "Downloading Diaries:  28%|▎| 999/3628 [50:07<3:09:07,  4"
     ]
    },
    {
     "name": "stdout",
     "output_type": "stream",
     "text": [
      "[download] 100% of    2.47MiB in 00:00:02 at 1.13MiB/s                 \n",
      "[ExtractAudio] Destination: ..\\data\\raw\\dementia_diaries\\audio\\Daithi remembers Hattie Jane Parker_875758057.wav\n"
     ]
    },
    {
     "name": "stderr",
     "output_type": "stream",
     "text": [
      "Downloading Diaries:  28%|▎| 1000/3628 [50:13<3:19:42,  "
     ]
    },
    {
     "name": "stdout",
     "output_type": "stream",
     "text": [
      "[download] 100% of  737.48KiB in 00:00:00 at 759.00KiB/s                 \n",
      "[ExtractAudio] Destination: ..\\data\\raw\\dementia_diaries\\audio\\George Rook talks about carving_874506112.wav\n"
     ]
    },
    {
     "name": "stderr",
     "output_type": "stream",
     "text": [
      "Downloading Diaries:  28%|▎| 1001/3628 [50:17<3:18:28,  "
     ]
    },
    {
     "name": "stdout",
     "output_type": "stream",
     "text": [
      "[download] 100% of    1.08MiB in 00:00:01 at 1.08MiB/s                   \n",
      "[ExtractAudio] Destination: ..\\data\\raw\\dementia_diaries\\audio\\Dory explains how she is crafting while self-isolating_874503529.wav\n"
     ]
    },
    {
     "name": "stderr",
     "output_type": "stream",
     "text": [
      "Downloading Diaries:  28%|▎| 1002/3628 [50:21<3:12:31,  "
     ]
    },
    {
     "name": "stdout",
     "output_type": "stream",
     "text": [
      "[download] 100% of    1.01MiB in 00:00:01 at 985.41KiB/s                 \n",
      "[ExtractAudio] Destination: ..\\data\\raw\\dementia_diaries\\audio\\Carol Fordyce talks about arts, crafts and knitting_874502206.wav\n"
     ]
    },
    {
     "name": "stderr",
     "output_type": "stream",
     "text": [
      "Downloading Diaries:  28%|▎| 1003/3628 [50:26<3:24:32,  "
     ]
    },
    {
     "name": "stdout",
     "output_type": "stream",
     "text": [
      "[download] 100% of  964.97KiB in 00:00:02 at 438.72KiB/s               \n",
      "[ExtractAudio] Destination: ..\\data\\raw\\dementia_diaries\\audio\\George Rook explains Dementia Craftivism_874496224.wav\n"
     ]
    },
    {
     "name": "stderr",
     "output_type": "stream",
     "text": [
      "Downloading Diaries:  28%|▎| 1004/3628 [50:34<4:01:12,  "
     ]
    },
    {
     "name": "stdout",
     "output_type": "stream",
     "text": [
      "[download] 100% of  565.15KiB in 00:00:00 at 861.86KiB/s               \n",
      "[ExtractAudio] Destination: ..\\data\\raw\\dementia_diaries\\audio\\Jacqui is repotting Cacti - and, like Gail, finds herself lost in the moment._871770475.wav\n"
     ]
    },
    {
     "name": "stderr",
     "output_type": "stream",
     "text": [
      "Downloading Diaries:  28%|▎| 1005/3628 [50:37<3:27:03,  "
     ]
    },
    {
     "name": "stdout",
     "output_type": "stream",
     "text": [
      "[download] 100% of  530.13KiB in 00:00:00 at 814.11KiB/s               \n",
      "[ExtractAudio] Destination: ..\\data\\raw\\dementia_diaries\\audio\\Rae is frustrated by hospital transport_871769995.wav\n"
     ]
    },
    {
     "name": "stderr",
     "output_type": "stream",
     "text": [
      "Downloading Diaries:  28%|▎| 1006/3628 [50:40<3:07:12,  "
     ]
    },
    {
     "name": "stdout",
     "output_type": "stream",
     "text": [
      "[download] 100% of  914.84KiB in 00:00:00 at 955.62KiB/s                 \n",
      "[ExtractAudio] Destination: ..\\data\\raw\\dementia_diaries\\audio\\Rae wonders why she can�t say what she really thinks. �I�m going to start a revolution in my head�_871769671.wav\n"
     ]
    },
    {
     "name": "stderr",
     "output_type": "stream",
     "text": [
      "Downloading Diaries:  28%|▎| 1007/3628 [50:44<3:04:05,  "
     ]
    },
    {
     "name": "stdout",
     "output_type": "stream",
     "text": [
      "[download] 100% of  596.48KiB in 00:00:00 at 773.07KiB/s                 \n",
      "[ExtractAudio] Destination: ..\\data\\raw\\dementia_diaries\\audio\\Lockdown is hard for Joy, but she still has her Mojo._871769440.wav\n"
     ]
    },
    {
     "name": "stderr",
     "output_type": "stream",
     "text": [
      "Downloading Diaries:  28%|▎| 1008/3628 [50:47<2:52:31,  "
     ]
    },
    {
     "name": "stdout",
     "output_type": "stream",
     "text": [
      "[download] 100% of  909.24KiB in 00:00:00 at 1.01MiB/s                   \n",
      "[ExtractAudio] Destination: ..\\data\\raw\\dementia_diaries\\audio\\Jacqui explains why emails are better for her than phone calls._871769167.wav\n"
     ]
    },
    {
     "name": "stderr",
     "output_type": "stream",
     "text": [
      "Downloading Diaries:  28%|▎| 1009/3628 [50:53<3:07:22,  "
     ]
    },
    {
     "name": "stdout",
     "output_type": "stream",
     "text": [
      "[download] 100% of    1.01MiB in 00:00:01 at 986.76KiB/s               \n",
      "[ExtractAudio] Destination: ..\\data\\raw\\dementia_diaries\\audio\\Frances feels that lockdown has made her life with dementia easier_871768927.wav\n"
     ]
    },
    {
     "name": "stderr",
     "output_type": "stream",
     "text": [
      "Downloading Diaries:  28%|▎| 1010/3628 [50:58<3:18:17,  "
     ]
    },
    {
     "name": "stdout",
     "output_type": "stream",
     "text": [
      "[download] 100% of  771.48KiB in 00:00:00 at 947.15KiB/s                 \n",
      "[ExtractAudio] Destination: ..\\data\\raw\\dementia_diaries\\audio\\Agnes empathises with Steve�s struggle with the stairs._871768663.wav\n"
     ]
    },
    {
     "name": "stderr",
     "output_type": "stream",
     "text": [
      "Downloading Diaries:  28%|▎| 1011/3628 [51:02<3:17:05,  "
     ]
    },
    {
     "name": "stdout",
     "output_type": "stream",
     "text": [
      "[download] 100% of    1.86MiB in 00:00:01 at 1.18MiB/s                 \n",
      "[ExtractAudio] Destination: ..\\data\\raw\\dementia_diaries\\audio\\Melvyn tries to square the governments anti-obesity drive_871768441.wav\n"
     ]
    },
    {
     "name": "stderr",
     "output_type": "stream",
     "text": [
      "Downloading Diaries:  28%|▎| 1012/3628 [51:08<3:28:15,  "
     ]
    },
    {
     "name": "stdout",
     "output_type": "stream",
     "text": [
      "[download] 100% of    1.68MiB in 00:00:01 at 1.10MiB/s                 \n",
      "[ExtractAudio] Destination: ..\\data\\raw\\dementia_diaries\\audio\\Glenda is looking forward to meeting up with her friends, but worries things will never be the same._871768114.wav\n"
     ]
    },
    {
     "name": "stderr",
     "output_type": "stream",
     "text": [
      "Downloading Diaries:  28%|▎| 1013/3628 [51:12<3:22:48,  "
     ]
    },
    {
     "name": "stdout",
     "output_type": "stream",
     "text": [
      "[download] 100% of    1.89MiB in 00:00:01 at 1.05MiB/s                 \n",
      "[ExtractAudio] Destination: ..\\data\\raw\\dementia_diaries\\audio\\Jacqui is frustrated about the wait for her test results._871767865.wav\n"
     ]
    },
    {
     "name": "stderr",
     "output_type": "stream",
     "text": [
      "Downloading Diaries:  28%|▎| 1014/3628 [51:16<3:21:45,  "
     ]
    },
    {
     "name": "stdout",
     "output_type": "stream",
     "text": [
      "[download] 100% of  325.57KiB in 00:00:00 at 614.09KiB/s               \n",
      "[ExtractAudio] Destination: ..\\data\\raw\\dementia_diaries\\audio\\Springboard is providing great support during the second lockdown says Raymond_871767475.wav\n"
     ]
    },
    {
     "name": "stderr",
     "output_type": "stream",
     "text": [
      "Downloading Diaries:  28%|▎| 1015/3628 [51:21<3:14:46,  "
     ]
    },
    {
     "name": "stdout",
     "output_type": "stream",
     "text": [
      "[download] 100% of    1.36MiB in 00:00:01 at 1.09MiB/s                 \n",
      "[ExtractAudio] Destination: ..\\data\\raw\\dementia_diaries\\audio\\Jacqui is feeling well-supported by the young-onset dementia team._871767079.wav\n"
     ]
    },
    {
     "name": "stderr",
     "output_type": "stream",
     "text": [
      "Downloading Diaries:  28%|▎| 1016/3628 [51:24<3:07:13,  "
     ]
    },
    {
     "name": "stdout",
     "output_type": "stream",
     "text": [
      "[download] 100% of  844.03KiB in 00:00:00 at 889.34KiB/s                 \n",
      "[ExtractAudio] Destination: ..\\data\\raw\\dementia_diaries\\audio\\Spoke too soon. A broken stairlift has side-swiped Stephen�s plans for a relaxing day._871766920.wav\n"
     ]
    },
    {
     "name": "stderr",
     "output_type": "stream",
     "text": [
      "Downloading Diaries:  28%|▎| 1017/3628 [51:29<3:09:43,  "
     ]
    },
    {
     "name": "stdout",
     "output_type": "stream",
     "text": [
      "[download] 100% of  905.98KiB in 00:00:00 at 923.17KiB/s                 \n",
      "[ExtractAudio] Destination: ..\\data\\raw\\dementia_diaries\\audio\\It�s thundery and sultry outside, but Stephen is having a relaxing day at home._871766659.wav\n"
     ]
    },
    {
     "name": "stderr",
     "output_type": "stream",
     "text": [
      "Downloading Diaries:  28%|▎| 1018/3628 [51:33<3:10:36,  "
     ]
    },
    {
     "name": "stdout",
     "output_type": "stream",
     "text": [
      "[download] 100% of  780.25KiB in 00:00:00 at 805.20KiB/s                 \n",
      "[ExtractAudio] Destination: ..\\data\\raw\\dementia_diaries\\audio\\Stephen ponders the potential for another lockdown._871766416.wav\n"
     ]
    },
    {
     "name": "stderr",
     "output_type": "stream",
     "text": [
      "Downloading Diaries:  28%|▎| 1019/3628 [51:39<3:19:43,  "
     ]
    },
    {
     "name": "stdout",
     "output_type": "stream",
     "text": [
      "[download] 100% of  862.36KiB in 00:00:01 at 837.81KiB/s                 \n",
      "[ExtractAudio] Destination: ..\\data\\raw\\dementia_diaries\\audio\\Stephen is about to open his first ever bank account._871766146.wav\n"
     ]
    },
    {
     "name": "stderr",
     "output_type": "stream",
     "text": [
      "Downloading Diaries:  28%|▎| 1020/3628 [51:44<3:31:13,  "
     ]
    },
    {
     "name": "stdout",
     "output_type": "stream",
     "text": [
      "[download] 100% of    1.89MiB in 00:00:01 at 973.89KiB/s               \n",
      "[ExtractAudio] Destination: ..\\data\\raw\\dementia_diaries\\audio\\Gail describes how she makes crafting videos for YouTube_871765834.wav\n"
     ]
    },
    {
     "name": "stderr",
     "output_type": "stream",
     "text": [
      "Downloading Diaries:  28%|▎| 1021/3628 [51:49<3:28:03,  "
     ]
    },
    {
     "name": "stdout",
     "output_type": "stream",
     "text": [
      "[download] 100% of    1.58MiB in 00:00:01 at 927.81KiB/s               \n",
      "[ExtractAudio] Destination: ..\\data\\raw\\dementia_diaries\\audio\\A visit to the vets for Toby the dog in this lovely diary from Gail._871765621.wav\n"
     ]
    },
    {
     "name": "stderr",
     "output_type": "stream",
     "text": [
      "Downloading Diaries:  28%|▎| 1022/3628 [51:53<3:29:02,  "
     ]
    },
    {
     "name": "stdout",
     "output_type": "stream",
     "text": [
      "[download] 100% of    1.45MiB in 00:00:01 at 970.09KiB/s               \n",
      "[ExtractAudio] Destination: ..\\data\\raw\\dementia_diaries\\audio\\Gail describes a wonderful and long-awaited reunion._871765480.wav\n"
     ]
    },
    {
     "name": "stderr",
     "output_type": "stream",
     "text": [
      "Downloading Diaries:  28%|▎| 1023/3628 [51:58<3:24:42,  "
     ]
    },
    {
     "name": "stdout",
     "output_type": "stream",
     "text": [
      "[download] 100% of  292.10KiB in 00:00:00 at 582.57KiB/s               \n",
      "[ExtractAudio] Destination: ..\\data\\raw\\dementia_diaries\\audio\\Chris reads a lovely quote from Cary Mulligan_871765342.wav\n"
     ]
    },
    {
     "name": "stderr",
     "output_type": "stream",
     "text": [
      "Downloading Diaries:  28%|▎| 1024/3628 [52:02<3:14:37,  "
     ]
    },
    {
     "name": "stdout",
     "output_type": "stream",
     "text": [
      "[download] 100% of  774.82KiB in 00:00:00 at 809.02KiB/s                 \n",
      "[ExtractAudio] Destination: ..\\data\\raw\\dementia_diaries\\audio\\�It's nice to get out� says Stephen, who has managed to avoid the crowds._871765168.wav\n"
     ]
    },
    {
     "name": "stderr",
     "output_type": "stream",
     "text": [
      "Downloading Diaries:  28%|▎| 1025/3628 [52:09<3:42:49,  "
     ]
    },
    {
     "name": "stdout",
     "output_type": "stream",
     "text": [
      "[download] 100% of    3.82MiB in 00:00:04 at 920.89KiB/s               \n",
      "[ExtractAudio] Destination: ..\\data\\raw\\dementia_diaries\\audio\\George is disappointed in the  provision for dementia in  the NHS Response to COVID._871764967.wav\n"
     ]
    },
    {
     "name": "stderr",
     "output_type": "stream",
     "text": [
      "Downloading Diaries:  28%|▎| 1026/3628 [52:17<4:24:59,  "
     ]
    },
    {
     "name": "stdout",
     "output_type": "stream",
     "text": [
      "[download] 100% of    3.73MiB in 00:00:04 at 831.04KiB/s               \n",
      "[ExtractAudio] Destination: ..\\data\\raw\\dementia_diaries\\audio\\Pages 9 To 12 Our DEEP News July August 2020_870664558.wav\n"
     ]
    },
    {
     "name": "stderr",
     "output_type": "stream",
     "text": [
      "Downloading Diaries:  28%|▎| 1027/3628 [52:26<4:57:13,  "
     ]
    },
    {
     "name": "stdout",
     "output_type": "stream",
     "text": [
      "[download] 100% of    3.36MiB in 00:00:03 at 864.77KiB/s               \n",
      "[ExtractAudio] Destination: ..\\data\\raw\\dementia_diaries\\audio\\Pages 5 To 8 Our DEEP News July - Aug 2020_870619534.wav\n"
     ]
    },
    {
     "name": "stderr",
     "output_type": "stream",
     "text": [
      "Downloading Diaries:  28%|▎| 1028/3628 [52:35<5:24:17,  "
     ]
    },
    {
     "name": "stdout",
     "output_type": "stream",
     "text": [
      "[download] 100% of    4.07MiB in 00:00:04 at 901.62KiB/s               \n",
      "[ExtractAudio] Destination: ..\\data\\raw\\dementia_diaries\\audio\\Page 1 To Page 4 Our DEEP News  July August 2020_870536674.wav\n"
     ]
    },
    {
     "name": "stderr",
     "output_type": "stream",
     "text": [
      "Downloading Diaries:  28%|▎| 1029/3628 [52:41<5:04:51,  "
     ]
    },
    {
     "name": "stdout",
     "output_type": "stream",
     "text": [
      "[download] 100% of    2.26MiB in 00:00:02 at 909.50KiB/s               \n",
      "[ExtractAudio] Destination: ..\\data\\raw\\dementia_diaries\\audio\\Gail reflects on her ZOOM world, and why she shares on social media._867724063.wav\n"
     ]
    },
    {
     "name": "stderr",
     "output_type": "stream",
     "text": [
      "Downloading Diaries:  28%|▎| 1030/3628 [52:44<4:21:06,  "
     ]
    },
    {
     "name": "stdout",
     "output_type": "stream",
     "text": [
      "[download] 100% of  346.00KiB in 00:00:00 at 597.89KiB/s               \n",
      "[ExtractAudio] Destination: ..\\data\\raw\\dementia_diaries\\audio\\Raymond�s group have been saying fond farewells to Alexandra._867723844.wav\n"
     ]
    },
    {
     "name": "stderr",
     "output_type": "stream",
     "text": [
      "Downloading Diaries:  28%|▎| 1031/3628 [52:48<3:49:49,  "
     ]
    },
    {
     "name": "stdout",
     "output_type": "stream",
     "text": [
      "[download] 100% of  663.99KiB in 00:00:00 at 903.33KiB/s                 \n",
      "[ExtractAudio] Destination: ..\\data\\raw\\dementia_diaries\\audio\\Melvyn reads a heartfelt poem about his fondly-remember dog Max. This is lovely Melvyn._867723544.wav\n"
     ]
    },
    {
     "name": "stderr",
     "output_type": "stream",
     "text": [
      "Downloading Diaries:  28%|▎| 1032/3628 [52:52<3:36:44,  "
     ]
    },
    {
     "name": "stdout",
     "output_type": "stream",
     "text": [
      "[download] 100% of  854.23KiB in 00:00:00 at 1.04MiB/s                   \n",
      "[ExtractAudio] Destination: ..\\data\\raw\\dementia_diaries\\audio\\Steve�s recovering from pneumonia but scaling the steps feels like a feat worthy of Edmund Hillary_867723091.wav\n"
     ]
    },
    {
     "name": "stderr",
     "output_type": "stream",
     "text": [
      "Downloading Diaries:  28%|▎| 1033/3628 [52:56<3:26:59,  "
     ]
    },
    {
     "name": "stdout",
     "output_type": "stream",
     "text": [
      "[download] 100% of    1.14MiB in 00:00:01 at 1.06MiB/s                 \n",
      "[ExtractAudio] Destination: ..\\data\\raw\\dementia_diaries\\audio\\Melvyn isn�t surprised by the new quarantine rules for those returning from Spain._867722830.wav\n"
     ]
    },
    {
     "name": "stderr",
     "output_type": "stream",
     "text": [
      "Downloading Diaries:  29%|▎| 1034/3628 [53:02<3:32:32,  "
     ]
    },
    {
     "name": "stdout",
     "output_type": "stream",
     "text": [
      "[download] 100% of    2.25MiB in 00:00:01 at 1.13MiB/s                 \n",
      "[ExtractAudio] Destination: ..\\data\\raw\\dementia_diaries\\audio\\Melvyn reflects on the government�s treatment of those who sacrificed themselves during lockdown._867722473.wav\n"
     ]
    },
    {
     "name": "stderr",
     "output_type": "stream",
     "text": [
      "Downloading Diaries:  29%|▎| 1035/3628 [53:07<3:41:53,  "
     ]
    },
    {
     "name": "stdout",
     "output_type": "stream",
     "text": [
      "[download] 100% of    1.75MiB in 00:00:01 at 1.15MiB/s                 \n",
      "[ExtractAudio] Destination: ..\\data\\raw\\dementia_diaries\\audio\\Kindness is the magic ingredient says Agnes. Can it be taught_867722173.wav\n"
     ]
    },
    {
     "name": "stderr",
     "output_type": "stream",
     "text": [
      "Downloading Diaries:  29%|▎| 1036/3628 [53:10<3:13:36,  "
     ]
    },
    {
     "name": "stdout",
     "output_type": "stream",
     "text": [
      "[download] 100% of  180.26KiB in 00:00:00 at 459.34KiB/s               \n",
      "[ExtractAudio] Destination: ..\\data\\raw\\dementia_diaries\\audio\\Raymond is pleased to have got his DEEP newsletter_867721954.wav\n"
     ]
    },
    {
     "name": "stderr",
     "output_type": "stream",
     "text": [
      "Downloading Diaries:  29%|▎| 1037/3628 [53:15<3:17:22,  "
     ]
    },
    {
     "name": "stdout",
     "output_type": "stream",
     "text": [
      "[download] 100% of    1.52MiB in 00:00:01 at 1.41MiB/s                 \n",
      "[ExtractAudio] Destination: ..\\data\\raw\\dementia_diaries\\audio\\Wow - listen to the quality of Stephen�s latest dementia diary using his voice recorder!_867721666.wav\n"
     ]
    },
    {
     "name": "stderr",
     "output_type": "stream",
     "text": [
      "Downloading Diaries:  29%|▎| 1038/3628 [53:18<3:02:03,  "
     ]
    },
    {
     "name": "stdout",
     "output_type": "stream",
     "text": [
      "[download] 100% of  944.55KiB in 00:00:01 at 900.55KiB/s                 \n",
      "[ExtractAudio] Destination: ..\\data\\raw\\dementia_diaries\\audio\\Stephen is struggling with the audio on his YouTube videos.  Any ideas anyone_867721441.wav\n"
     ]
    },
    {
     "name": "stderr",
     "output_type": "stream",
     "text": [
      "Downloading Diaries:  29%|▎| 1039/3628 [53:23<3:05:02,  "
     ]
    },
    {
     "name": "stdout",
     "output_type": "stream",
     "text": [
      "[download] 100% of    1.16MiB in 00:00:01 at 980.80KiB/s               \n",
      "[ExtractAudio] Destination: ..\\data\\raw\\dementia_diaries\\audio\\�We are still people and we have so much left to give� Gail praises those she has met through DEEP._867720892.wav\n"
     ]
    },
    {
     "name": "stderr",
     "output_type": "stream",
     "text": [
      "Downloading Diaries:  29%|▎| 1040/3628 [53:27<3:00:52,  "
     ]
    },
    {
     "name": "stdout",
     "output_type": "stream",
     "text": [
      "[download] 100% of    1.55MiB in 00:00:01 at 910.77KiB/s               \n",
      "[ExtractAudio] Destination: ..\\data\\raw\\dementia_diaries\\audio\\Gail has not had the best of days on her bike, �but the main thing is, I tried�_867720577.wav\n"
     ]
    },
    {
     "name": "stderr",
     "output_type": "stream",
     "text": [
      "Downloading Diaries:  29%|▎| 1041/3628 [53:32<3:11:39,  "
     ]
    },
    {
     "name": "stdout",
     "output_type": "stream",
     "text": [
      "[download] 100% of    2.08MiB in 00:00:02 at 948.90KiB/s               \n",
      "[ExtractAudio] Destination: ..\\data\\raw\\dementia_diaries\\audio\\George thinks ZOOM is best used for fun. Just don�t ask him to tell a joke._867720046.wav\n"
     ]
    },
    {
     "name": "stderr",
     "output_type": "stream",
     "text": [
      "Downloading Diaries:  29%|▎| 1042/3628 [53:36<3:14:01,  "
     ]
    },
    {
     "name": "stdout",
     "output_type": "stream",
     "text": [
      "[download] 100% of    1.34MiB in 00:00:01 at 930.63KiB/s               \n",
      "[ExtractAudio] Destination: ..\\data\\raw\\dementia_diaries\\audio\\Dory is really enjoying DEEPNESS Radio and shows us how to get Alexa to play it._867719137.wav\n"
     ]
    },
    {
     "name": "stderr",
     "output_type": "stream",
     "text": [
      "Downloading Diaries:  29%|▎| 1043/3628 [53:40<2:59:52,  "
     ]
    },
    {
     "name": "stdout",
     "output_type": "stream",
     "text": [
      "[download] 100% of  303.51KiB in 00:00:00 at 615.43KiB/s               \n",
      "[ExtractAudio] Destination: ..\\data\\raw\\dementia_diaries\\audio\\Lorraine is getting to grips with a new way of recording better quality diaries._867718777.wav\n"
     ]
    },
    {
     "name": "stderr",
     "output_type": "stream",
     "text": [
      "Downloading Diaries:  29%|▎| 1044/3628 [53:43<2:43:00,  "
     ]
    },
    {
     "name": "stdout",
     "output_type": "stream",
     "text": [
      "[download] 100% of  814.29KiB in 00:00:00 at 881.59KiB/s                 \n",
      "[ExtractAudio] Destination: ..\\data\\raw\\dementia_diaries\\audio\\Stephen�s having a good week, and is looking forward._863714956.wav\n"
     ]
    },
    {
     "name": "stderr",
     "output_type": "stream",
     "text": [
      "Downloading Diaries:  29%|▎| 1045/3628 [53:46<2:35:17,  "
     ]
    },
    {
     "name": "stdout",
     "output_type": "stream",
     "text": [
      "[download] 100% of  351.48KiB in 00:00:00 at 595.05KiB/s               \n",
      "[ExtractAudio] Destination: ..\\data\\raw\\dementia_diaries\\audio\\After all this time Raymond has enjoyed getting out and back with his group._863714134.wav\n"
     ]
    },
    {
     "name": "stderr",
     "output_type": "stream",
     "text": [
      "Downloading Diaries:  29%|▎| 1046/3628 [53:50<2:36:19,  "
     ]
    },
    {
     "name": "stdout",
     "output_type": "stream",
     "text": [
      "[download] 100% of  525.77KiB in 00:00:00 at 879.29KiB/s               \n",
      "[ExtractAudio] Destination: ..\\data\\raw\\dementia_diaries\\audio\\Rae is back after a fall has left in in a lot of pain. Hope you recover quickly Rae._863697049.wav\n"
     ]
    },
    {
     "name": "stderr",
     "output_type": "stream",
     "text": [
      "Downloading Diaries:  29%|▎| 1047/3628 [53:54<2:44:39,  "
     ]
    },
    {
     "name": "stdout",
     "output_type": "stream",
     "text": [
      "[download] 100% of  883.22KiB in 00:00:00 at 1.02MiB/s                   \n",
      "[ExtractAudio] Destination: ..\\data\\raw\\dementia_diaries\\audio\\Melvyn is appalled at government announcement on pay rises for the public sector._863695918.wav\n"
     ]
    },
    {
     "name": "stderr",
     "output_type": "stream",
     "text": [
      "Downloading Diaries:  29%|▎| 1048/3628 [53:58<2:43:31,  "
     ]
    },
    {
     "name": "stdout",
     "output_type": "stream",
     "text": [
      "[download] 100% of    1.42MiB in 00:00:01 at 1.10MiB/s                 \n",
      "[ExtractAudio] Destination: ..\\data\\raw\\dementia_diaries\\audio\\Having finally got the medication she needs Agnes is feeling 99%_863630722.wav\n"
     ]
    },
    {
     "name": "stderr",
     "output_type": "stream",
     "text": [
      "Downloading Diaries:  29%|▎| 1049/3628 [54:02<2:46:27,  "
     ]
    },
    {
     "name": "stdout",
     "output_type": "stream",
     "text": [
      "[download] 100% of    1.12MiB in 00:00:01 at 1.12MiB/s                   \n",
      "[ExtractAudio] Destination: ..\\data\\raw\\dementia_diaries\\audio\\�The system is broken� says Agnes, as she struggles to get care from her GP._863630551.wav\n"
     ]
    },
    {
     "name": "stderr",
     "output_type": "stream",
     "text": [
      "Downloading Diaries:  29%|▎| 1050/3628 [54:06<2:58:16,  "
     ]
    },
    {
     "name": "stdout",
     "output_type": "stream",
     "text": [
      "[download] 100% of    2.46MiB in 00:00:02 at 1.22MiB/s                 \n",
      "[ExtractAudio] Destination: ..\\data\\raw\\dementia_diaries\\audio\\Following a worsening of her respiratory symptoms Agnes is struggling to get support from her GP._863629654.wav\n"
     ]
    },
    {
     "name": "stderr",
     "output_type": "stream",
     "text": [
      "Downloading Diaries:  29%|▎| 1051/3628 [54:10<2:55:56,  "
     ]
    },
    {
     "name": "stdout",
     "output_type": "stream",
     "text": [
      "[download] 100% of    1.73MiB in 00:00:01 at 1.13MiB/s                 \n",
      "[ExtractAudio] Destination: ..\\data\\raw\\dementia_diaries\\audio\\Agnes wants to thank those that helped her get back online. Especially her knight in shining armour._863629153.wav\n"
     ]
    },
    {
     "name": "stderr",
     "output_type": "stream",
     "text": [
      "Downloading Diaries:  29%|▎| 1052/3628 [54:13<2:37:14,  "
     ]
    },
    {
     "name": "stdout",
     "output_type": "stream",
     "text": [
      "[download] 100% of  314.98KiB in 00:00:00 at 654.20KiB/s               \n",
      "[ExtractAudio] Destination: ..\\data\\raw\\dementia_diaries\\audio\\Raymond�s been having a tough time but sends best wishes to all.  All the best to you too Raymond_863628898.wav\n"
     ]
    },
    {
     "name": "stderr",
     "output_type": "stream",
     "text": [
      "Downloading Diaries:  29%|▎| 1053/3628 [54:17<2:44:22,  "
     ]
    },
    {
     "name": "stdout",
     "output_type": "stream",
     "text": [
      "[download] 100% of    1.05MiB in 00:00:01 at 996.56KiB/s               \n",
      "[ExtractAudio] Destination: ..\\data\\raw\\dementia_diaries\\audio\\Keith describes the excellent poetry project many diarists have enjoyed immensely._863628742.wav\n"
     ]
    },
    {
     "name": "stderr",
     "output_type": "stream",
     "text": [
      "Downloading Diaries:  29%|▎| 1054/3628 [54:21<2:38:27,  "
     ]
    },
    {
     "name": "stdout",
     "output_type": "stream",
     "text": [
      "[download] 100% of    1.21MiB in 00:00:01 at 1.10MiB/s                 \n",
      "[ExtractAudio] Destination: ..\\data\\raw\\dementia_diaries\\audio\\Frances is feeling stronger and is back walking in her beloved Beacons._863628532.wav\n"
     ]
    },
    {
     "name": "stderr",
     "output_type": "stream",
     "text": [
      "Downloading Diaries:  29%|▎| 1055/3628 [54:26<3:03:04,  "
     ]
    },
    {
     "name": "stdout",
     "output_type": "stream",
     "text": [
      "[download] 100% of    1.36MiB in 00:00:01 at 884.31KiB/s               \n",
      "[ExtractAudio] Destination: ..\\data\\raw\\dementia_diaries\\audio\\Gail�s had some worrying news. Hope all will be well Gail X_863628373.wav\n"
     ]
    },
    {
     "name": "stderr",
     "output_type": "stream",
     "text": [
      "Downloading Diaries:  29%|▎| 1056/3628 [54:32<3:22:58,  "
     ]
    },
    {
     "name": "stdout",
     "output_type": "stream",
     "text": [
      "[download] 100% of    2.48MiB in 00:00:03 at 757.66KiB/s               \n",
      "[ExtractAudio] Destination: ..\\data\\raw\\dementia_diaries\\audio\\George invites us to share the sound of nature around him. This is wonderful, thanks George._863628010.wav\n"
     ]
    },
    {
     "name": "stderr",
     "output_type": "stream",
     "text": [
      "Downloading Diaries:  29%|▎| 1057/3628 [54:38<3:42:55,  "
     ]
    },
    {
     "name": "stdout",
     "output_type": "stream",
     "text": [
      "[download] 100% of    3.19MiB in 00:00:03 at 884.27KiB/s               \n",
      "[ExtractAudio] Destination: ..\\data\\raw\\dementia_diaries\\audio\\Ever have one of those days  George is having one today._863627791.wav\n"
     ]
    },
    {
     "name": "stderr",
     "output_type": "stream",
     "text": [
      "Downloading Diaries:  29%|▎| 1058/3628 [54:45<4:04:13,  "
     ]
    },
    {
     "name": "stdout",
     "output_type": "stream",
     "text": [
      "[download] 100% of    2.42MiB in 00:00:02 at 1.15MiB/s                 \n",
      "[ExtractAudio] Destination: ..\\data\\raw\\dementia_diaries\\audio\\Agnes ponders how she might reconnect to her local community._859581478.wav\n"
     ]
    },
    {
     "name": "stderr",
     "output_type": "stream",
     "text": [
      "Downloading Diaries:  29%|▎| 1059/3628 [54:50<3:49:59,  "
     ]
    },
    {
     "name": "stdout",
     "output_type": "stream",
     "text": [
      "[download] 100% of  860.00KiB in 00:00:00 at 989.35KiB/s                 \n",
      "[ExtractAudio] Destination: ..\\data\\raw\\dementia_diaries\\audio\\Stephen�s been doing his bit for nature._859581322.wav\n"
     ]
    },
    {
     "name": "stderr",
     "output_type": "stream",
     "text": [
      "Downloading Diaries:  29%|▎| 1060/3628 [54:53<3:25:20,  "
     ]
    },
    {
     "name": "stdout",
     "output_type": "stream",
     "text": [
      "[download] 100% of  838.38KiB in 00:00:00 at 1.05MiB/s                   \n",
      "[ExtractAudio] Destination: ..\\data\\raw\\dementia_diaries\\audio\\Empathy is a precious thing, as Jacqui explains._859581031.wav\n"
     ]
    },
    {
     "name": "stderr",
     "output_type": "stream",
     "text": [
      "Downloading Diaries:  29%|▎| 1061/3628 [54:57<3:11:39,  "
     ]
    },
    {
     "name": "stdout",
     "output_type": "stream",
     "text": [
      "[download] 100% of  667.47KiB in 00:00:00 at 858.17KiB/s                 \n",
      "[ExtractAudio] Destination: ..\\data\\raw\\dementia_diaries\\audio\\Stephen is having a funny old week._859580866.wav\n"
     ]
    },
    {
     "name": "stderr",
     "output_type": "stream",
     "text": [
      "Downloading Diaries:  29%|▎| 1062/3628 [55:01<3:04:00,  "
     ]
    },
    {
     "name": "stdout",
     "output_type": "stream",
     "text": [
      "[download] 100% of  912.72KiB in 00:00:00 at 982.38KiB/s                 \n",
      "[ExtractAudio] Destination: ..\\data\\raw\\dementia_diaries\\audio\\Mhari describes a brilliant outdoor exercise group she has joined._859579960.wav\n"
     ]
    },
    {
     "name": "stderr",
     "output_type": "stream",
     "text": [
      "Downloading Diaries:  29%|▎| 1063/3628 [55:05<3:00:49,  "
     ]
    },
    {
     "name": "stdout",
     "output_type": "stream",
     "text": [
      "[download] 100% of  447.46KiB in 00:00:00 at 888.12KiB/s               \n",
      "[ExtractAudio] Destination: ..\\data\\raw\\dementia_diaries\\audio\\Davie explains his experience of living through, and beyond lockdown._859579732.wav\n"
     ]
    },
    {
     "name": "stderr",
     "output_type": "stream",
     "text": [
      "Downloading Diaries:  29%|▎| 1064/3628 [55:09<3:01:26,  "
     ]
    },
    {
     "name": "stdout",
     "output_type": "stream",
     "text": [
      "[download] 100% of  316.85KiB in 00:00:00 at 626.90KiB/s               \n",
      "[ExtractAudio] Destination: ..\\data\\raw\\dementia_diaries\\audio\\Raymond has been using What�s App and ZOOM to keep in touch with friends._859579561.wav\n"
     ]
    },
    {
     "name": "stderr",
     "output_type": "stream",
     "text": [
      "Downloading Diaries:  29%|▎| 1065/3628 [55:14<3:03:28,  "
     ]
    },
    {
     "name": "stdout",
     "output_type": "stream",
     "text": [
      "[download] 100% of  668.07KiB in 00:00:00 at 894.97KiB/s                 \n",
      "[ExtractAudio] Destination: ..\\data\\raw\\dementia_diaries\\audio\\Stephen reports what appears to be a clear case of unlawful discrimination._859579192.wav\n"
     ]
    },
    {
     "name": "stderr",
     "output_type": "stream",
     "text": [
      "Downloading Diaries:  29%|▎| 1066/3628 [55:17<2:52:22,  "
     ]
    },
    {
     "name": "stdout",
     "output_type": "stream",
     "text": [
      "[download] 100% of    1.19MiB in 00:00:01 at 998.99KiB/s               \n",
      "[ExtractAudio] Destination: ..\\data\\raw\\dementia_diaries\\audio\\Melvyn reads a poem that will resonate for many._859578835.wav\n"
     ]
    },
    {
     "name": "stderr",
     "output_type": "stream",
     "text": [
      "Downloading Diaries:  29%|▎| 1067/3628 [55:21<2:43:43,  "
     ]
    },
    {
     "name": "stdout",
     "output_type": "stream",
     "text": [
      "[download] 100% of  586.58KiB in 00:00:00 at 735.38KiB/s                 \n",
      "[ExtractAudio] Destination: ..\\data\\raw\\dementia_diaries\\audio\\Gail reads her wonderful poem �In Grandma�s House�_859578658.wav\n"
     ]
    },
    {
     "name": "stderr",
     "output_type": "stream",
     "text": [
      "Downloading Diaries:  29%|▎| 1068/3628 [55:24<2:38:32,  "
     ]
    },
    {
     "name": "stdout",
     "output_type": "stream",
     "text": [
      "[download] 100% of    1.34MiB in 00:00:01 at 959.13KiB/s               \n",
      "[ExtractAudio] Destination: ..\\data\\raw\\dementia_diaries\\audio\\Gail describes a lovely day at the beach with her family, and her sunshine._859578487.wav\n"
     ]
    },
    {
     "name": "stderr",
     "output_type": "stream",
     "text": [
      "Downloading Diaries:  29%|▎| 1069/3628 [55:29<2:58:28,  "
     ]
    },
    {
     "name": "stdout",
     "output_type": "stream",
     "text": [
      "[download] 100% of    2.29MiB in 00:00:02 at 1008.51KiB/s              \n",
      "[ExtractAudio] Destination: ..\\data\\raw\\dementia_diaries\\audio\\Gail reflects upon the impact of her diagnosis on others._859578295.wav\n"
     ]
    },
    {
     "name": "stderr",
     "output_type": "stream",
     "text": [
      "Downloading Diaries:  29%|▎| 1070/3628 [55:37<3:40:37,  "
     ]
    },
    {
     "name": "stdout",
     "output_type": "stream",
     "text": [
      "[download] 100% of    3.16MiB in 00:00:03 at 959.31KiB/s               \n",
      "[ExtractAudio] Destination: ..\\data\\raw\\dementia_diaries\\audio\\George tackles the tricky subject of DEEP group etiquette._859577959.wav\n"
     ]
    },
    {
     "name": "stderr",
     "output_type": "stream",
     "text": [
      "Downloading Diaries:  30%|▎| 1071/3628 [55:44<4:13:01,  "
     ]
    },
    {
     "name": "stdout",
     "output_type": "stream",
     "text": [
      "[download] 100% of    2.97MiB in 00:00:03 at 948.00KiB/s               \n",
      "[ExtractAudio] Destination: ..\\data\\raw\\dementia_diaries\\audio\\Ever heard of �Craftivism� You have now. George tells us more._859577782.wav\n"
     ]
    },
    {
     "name": "stderr",
     "output_type": "stream",
     "text": [
      "Downloading Diaries:  30%|▎| 1072/3628 [55:50<4:08:33,  "
     ]
    },
    {
     "name": "stdout",
     "output_type": "stream",
     "text": [
      "[download] 100% of    1.29MiB in 00:00:01 at 870.59KiB/s               \n",
      "[ExtractAudio] Destination: ..\\data\\raw\\dementia_diaries\\audio\\Quality time with friends out in nature. What could be better......._859577587.wav\n"
     ]
    },
    {
     "name": "stderr",
     "output_type": "stream",
     "text": [
      "Downloading Diaries:  30%|▎| 1073/3628 [55:56<4:07:53,  "
     ]
    },
    {
     "name": "stdout",
     "output_type": "stream",
     "text": [
      "[download] 100% of    2.34MiB in 00:00:02 at 935.59KiB/s               \n",
      "[ExtractAudio] Destination: ..\\data\\raw\\dementia_diaries\\audio\\Page 4 - Page 6 Our DEEP News audio June July 2020_857129839.wav\n"
     ]
    },
    {
     "name": "stderr",
     "output_type": "stream",
     "text": [
      "Downloading Diaries:  30%|▎| 1074/3628 [56:01<4:02:55,  "
     ]
    },
    {
     "name": "stdout",
     "output_type": "stream",
     "text": [
      "[download] 100% of    2.05MiB in 00:00:02 at 899.82KiB/s               \n",
      "[ExtractAudio] Destination: ..\\data\\raw\\dementia_diaries\\audio\\Chris Norris reads the Small Ads Our DEEP News June July 2020_857115502.wav\n"
     ]
    },
    {
     "name": "stderr",
     "output_type": "stream",
     "text": [
      "Downloading Diaries:  30%|▎| 1075/3628 [56:07<4:00:08,  "
     ]
    },
    {
     "name": "stdout",
     "output_type": "stream",
     "text": [
      "[download] 100% of    2.77MiB in 00:00:02 at 1.00MiB/s                 \n",
      "[ExtractAudio] Destination: ..\\data\\raw\\dementia_diaries\\audio\\Page 11 to Page 12 Our DEEP News audio June July 2020_857105239.wav\n"
     ]
    },
    {
     "name": "stderr",
     "output_type": "stream",
     "text": [
      "Downloading Diaries:  30%|▎| 1076/3628 [56:12<3:53:38,  "
     ]
    },
    {
     "name": "stdout",
     "output_type": "stream",
     "text": [
      "[download] 100% of  879.60KiB in 00:00:00 at 926.82KiB/s                 \n",
      "[ExtractAudio] Destination: ..\\data\\raw\\dementia_diaries\\audio\\Melvyn reads a different version of his poem about the garden._855510418.wav\n"
     ]
    },
    {
     "name": "stderr",
     "output_type": "stream",
     "text": [
      "Downloading Diaries:  30%|▎| 1077/3628 [56:17<3:45:15,  "
     ]
    },
    {
     "name": "stdout",
     "output_type": "stream",
     "text": [
      "[download] 100% of    1.61MiB in 00:00:01 at 1.10MiB/s                 \n",
      "[ExtractAudio] Destination: ..\\data\\raw\\dementia_diaries\\audio\\Melvyn reads a poem about his garden._855510229.wav\n"
     ]
    },
    {
     "name": "stderr",
     "output_type": "stream",
     "text": [
      "Downloading Diaries:  30%|▎| 1078/3628 [56:21<3:36:18,  "
     ]
    },
    {
     "name": "stdout",
     "output_type": "stream",
     "text": [
      "[download] 100% of    1.26MiB in 00:00:01 at 1.13MiB/s                 \n",
      "[ExtractAudio] Destination: ..\\data\\raw\\dementia_diaries\\audio\\Melvyn's poem 'Don't get old'_855509947.wav\n"
     ]
    },
    {
     "name": "stderr",
     "output_type": "stream",
     "text": [
      "Downloading Diaries:  30%|▎| 1079/3628 [56:26<3:31:30,  "
     ]
    },
    {
     "name": "stdout",
     "output_type": "stream",
     "text": [
      "[download] 100% of    1.26MiB in 00:00:01 at 1.19MiB/s                 \n",
      "[ExtractAudio] Destination: ..\\data\\raw\\dementia_diaries\\audio\\Melvyn's poem 'Don't get old'_855508555.wav\n"
     ]
    },
    {
     "name": "stderr",
     "output_type": "stream",
     "text": [
      "Downloading Diaries:  30%|▎| 1080/3628 [56:29<3:10:12,  "
     ]
    },
    {
     "name": "stdout",
     "output_type": "stream",
     "text": [
      "[download] 100% of    1.28MiB in 00:00:01 at 1.14MiB/s                 \n",
      "[ExtractAudio] Destination: ..\\data\\raw\\dementia_diaries\\audio\\Melvyn's poem 'Space is...'_855508273.wav\n"
     ]
    },
    {
     "name": "stderr",
     "output_type": "stream",
     "text": [
      "Downloading Diaries:  30%|▎| 1081/3628 [56:33<2:59:56,  "
     ]
    },
    {
     "name": "stdout",
     "output_type": "stream",
     "text": [
      "[download] 100% of    1.61MiB in 00:00:01 at 1.08MiB/s                 \n",
      "[ExtractAudio] Destination: ..\\data\\raw\\dementia_diaries\\audio\\Melvyn reflects on some of the great people with dementia he has met over the years._855507928.wav\n"
     ]
    },
    {
     "name": "stderr",
     "output_type": "stream",
     "text": [
      "Downloading Diaries:  30%|▎| 1082/3628 [56:39<3:15:44,  "
     ]
    },
    {
     "name": "stdout",
     "output_type": "stream",
     "text": [
      "[download] 100% of    2.28MiB in 00:00:02 at 1.08MiB/s                 \n",
      "[ExtractAudio] Destination: ..\\data\\raw\\dementia_diaries\\audio\\Melvyn is finally online and is looking back over his old diaries._855507631.wav\n"
     ]
    },
    {
     "name": "stderr",
     "output_type": "stream",
     "text": [
      "Downloading Diaries:  30%|▎| 1083/3628 [56:43<3:09:41,  "
     ]
    },
    {
     "name": "stdout",
     "output_type": "stream",
     "text": [
      "[download] 100% of  590.25KiB in 00:00:00 at 807.38KiB/s               \n",
      "[ExtractAudio] Destination: ..\\data\\raw\\dementia_diaries\\audio\\Melvyn is scathing about what he is hearing on the Andrew Marr show._855507379.wav\n"
     ]
    },
    {
     "name": "stderr",
     "output_type": "stream",
     "text": [
      "Downloading Diaries:  30%|▎| 1084/3628 [56:47<3:02:47,  "
     ]
    },
    {
     "name": "stdout",
     "output_type": "stream",
     "text": [
      "[download] 100% of  487.84KiB in 00:00:00 at 770.77KiB/s               \n",
      "[ExtractAudio] Destination: ..\\data\\raw\\dementia_diaries\\audio\\Stephen�s had a great day and is enjoying being out and about a bit more._855485413.wav\n"
     ]
    },
    {
     "name": "stderr",
     "output_type": "stream",
     "text": [
      "Downloading Diaries:  30%|▎| 1085/3628 [56:51<3:09:27,  "
     ]
    },
    {
     "name": "stdout",
     "output_type": "stream",
     "text": [
      "[download] 100% of    1.23MiB in 00:00:01 at 1.16MiB/s                 \n",
      "[ExtractAudio] Destination: ..\\data\\raw\\dementia_diaries\\audio\\Jacqui ponders the difficulties of information for people with dementia when everyone is different._855485089.wav\n"
     ]
    },
    {
     "name": "stderr",
     "output_type": "stream",
     "text": [
      "Downloading Diaries:  30%|▎| 1086/3628 [56:55<2:52:15,  "
     ]
    },
    {
     "name": "stdout",
     "output_type": "stream",
     "text": [
      "[download] 100% of  497.28KiB in 00:00:00 at 855.82KiB/s               \n",
      "[ExtractAudio] Destination: ..\\data\\raw\\dementia_diaries\\audio\\Jacqui has had a lovely surprise in the post._855484609.wav\n"
     ]
    },
    {
     "name": "stderr",
     "output_type": "stream",
     "text": [
      "Downloading Diaries:  30%|▎| 1087/3628 [56:57<2:36:50,  "
     ]
    },
    {
     "name": "stdout",
     "output_type": "stream",
     "text": [
      "[download] 100% of  556.62KiB in 00:00:00 at 777.97KiB/s                 \n",
      "[ExtractAudio] Destination: ..\\data\\raw\\dementia_diaries\\audio\\Stephen is half the man he used to be. In a good way._855483943.wav\n"
     ]
    },
    {
     "name": "stderr",
     "output_type": "stream",
     "text": [
      "Downloading Diaries:  30%|▎| 1088/3628 [57:01<2:36:18,  "
     ]
    },
    {
     "name": "stdout",
     "output_type": "stream",
     "text": [
      "[download] 100% of 1018.85KiB in 00:00:00 at 1.02MiB/s                   \n",
      "[ExtractAudio] Destination: ..\\data\\raw\\dementia_diaries\\audio\\Glenda has ended up in hospital with a tummy bug. Get well soon Glenda._855483463.wav\n"
     ]
    },
    {
     "name": "stderr",
     "output_type": "stream",
     "text": [
      "Downloading Diaries:  30%|▎| 1089/3628 [57:04<2:30:34,  "
     ]
    },
    {
     "name": "stdout",
     "output_type": "stream",
     "text": [
      "[download] 100% of  319.13KiB in 00:00:00 at 612.29KiB/s               \n",
      "[ExtractAudio] Destination: ..\\data\\raw\\dementia_diaries\\audio\\Raymond continues to have good days and bad days. Hope things improve soon Raymond._855483187.wav\n"
     ]
    },
    {
     "name": "stderr",
     "output_type": "stream",
     "text": [
      "Downloading Diaries:  30%|▎| 1090/3628 [57:09<2:40:15,  "
     ]
    },
    {
     "name": "stdout",
     "output_type": "stream",
     "text": [
      "[download] 100% of    2.87MiB in 00:00:02 at 1.17MiB/s                 \n",
      "[ExtractAudio] Destination: ..\\data\\raw\\dementia_diaries\\audio\\Keith reflects on the impact of dementia and lockdown on relationships._855482833.wav\n"
     ]
    },
    {
     "name": "stderr",
     "output_type": "stream",
     "text": [
      "Downloading Diaries:  30%|▎| 1091/3628 [57:14<2:53:44,  "
     ]
    },
    {
     "name": "stdout",
     "output_type": "stream",
     "text": [
      "[download] 100% of    1.02MiB in 00:00:00 at 1.10MiB/s                   \n",
      "[ExtractAudio] Destination: ..\\data\\raw\\dementia_diaries\\audio\\Jacqui is enormously pleased with the support from her speech and language consultant._855482506.wav\n"
     ]
    },
    {
     "name": "stderr",
     "output_type": "stream",
     "text": [
      "Downloading Diaries:  30%|▎| 1092/3628 [57:20<3:18:13,  "
     ]
    },
    {
     "name": "stdout",
     "output_type": "stream",
     "text": [
      "[download] 100% of    2.07MiB in 00:00:02 at 1013.92KiB/s              \n",
      "[ExtractAudio] Destination: ..\\data\\raw\\dementia_diaries\\audio\\Gail has been working on ideas for helpful tips. These are great!_855482134.wav\n"
     ]
    },
    {
     "name": "stderr",
     "output_type": "stream",
     "text": [
      "Downloading Diaries:  30%|▎| 1093/3628 [57:24<3:08:11,  "
     ]
    },
    {
     "name": "stdout",
     "output_type": "stream",
     "text": [
      "[download] 100% of    1.00MiB in 00:00:01 at 885.53KiB/s               \n",
      "[ExtractAudio] Destination: ..\\data\\raw\\dementia_diaries\\audio\\Gail�s vivid description of sleep disturbance will be very familiar to many. Tick Tock._855481999.wav\n"
     ]
    },
    {
     "name": "stderr",
     "output_type": "stream",
     "text": [
      "Downloading Diaries:  30%|▎| 1094/3628 [57:28<3:11:07,  "
     ]
    },
    {
     "name": "stdout",
     "output_type": "stream",
     "text": [
      "[download] 100% of    1.08MiB in 00:00:01 at 910.72KiB/s               \n",
      "[ExtractAudio] Destination: ..\\data\\raw\\dementia_diaries\\audio\\Gail has had a lovely weekend. Go easy on the fruit though Gail._855481798.wav\n"
     ]
    },
    {
     "name": "stderr",
     "output_type": "stream",
     "text": [
      "Downloading Diaries:  30%|▎| 1095/3628 [57:33<3:17:02,  "
     ]
    },
    {
     "name": "stdout",
     "output_type": "stream",
     "text": [
      "[download] 100% of    1.64MiB in 00:00:01 at 947.15KiB/s               \n",
      "[ExtractAudio] Destination: ..\\data\\raw\\dementia_diaries\\audio\\Gail has decided to focus her time and energies on those who lift her up._855481501.wav\n"
     ]
    },
    {
     "name": "stderr",
     "output_type": "stream",
     "text": [
      "Downloading Diaries:  30%|▎| 1096/3628 [57:39<3:25:17,  "
     ]
    },
    {
     "name": "stdout",
     "output_type": "stream",
     "text": [
      "[download] 100% of    2.20MiB in 00:00:02 at 895.00KiB/s               \n",
      "[ExtractAudio] Destination: ..\\data\\raw\\dementia_diaries\\audio\\A plea from George for organisations to involve a wider pool of people with dementia._855481111.wav\n"
     ]
    },
    {
     "name": "stderr",
     "output_type": "stream",
     "text": [
      "Downloading Diaries:  30%|▎| 1097/3628 [57:45<3:48:16,  "
     ]
    },
    {
     "name": "stdout",
     "output_type": "stream",
     "text": [
      "[download] 100% of    2.40MiB in 00:00:02 at 872.62KiB/s               \n",
      "[ExtractAudio] Destination: ..\\data\\raw\\dementia_diaries\\audio\\George ponders a radical change of tactics for dementia activism._855480895.wav\n"
     ]
    },
    {
     "name": "stderr",
     "output_type": "stream",
     "text": [
      "Downloading Diaries:  30%|▎| 1098/3628 [57:51<3:54:14,  "
     ]
    },
    {
     "name": "stdout",
     "output_type": "stream",
     "text": [
      "[download] 100% of    2.38MiB in 00:00:02 at 923.14KiB/s               \n",
      "[ExtractAudio] Destination: ..\\data\\raw\\dementia_diaries\\audio\\George reflects that palliative care is almost entirely absent in dementia._855480613.wav\n"
     ]
    },
    {
     "name": "stderr",
     "output_type": "stream",
     "text": [
      "Downloading Diaries:  30%|▎| 1099/3628 [57:56<3:42:48,  "
     ]
    },
    {
     "name": "stdout",
     "output_type": "stream",
     "text": [
      "[download] 100% of    1.59MiB in 00:00:01 at 859.09KiB/s               \n",
      "[ExtractAudio] Destination: ..\\data\\raw\\dementia_diaries\\audio\\Dory doesn�t know whether its the dementia or lockdown that�s affecting her emotions._855480385.wav\n"
     ]
    },
    {
     "name": "stderr",
     "output_type": "stream",
     "text": [
      "Downloading Diaries:  30%|▎| 1100/3628 [58:04<4:17:24,  "
     ]
    },
    {
     "name": "stdout",
     "output_type": "stream",
     "text": [
      "[download] 100% of    5.13MiB in 00:00:05 at 1014.16KiB/s              \n",
      "[ExtractAudio] Destination: ..\\data\\raw\\dementia_diaries\\audio\\P7 - P10 Our DEEP News JuneJuly 2020_854224207.wav\n"
     ]
    },
    {
     "name": "stderr",
     "output_type": "stream",
     "text": [
      "Downloading Diaries:  30%|▎| 1101/3628 [58:13<4:55:04,  "
     ]
    },
    {
     "name": "stdout",
     "output_type": "stream",
     "text": [
      "[download] 100% of    4.20MiB in 00:00:04 at 990.66KiB/s               \n",
      "[ExtractAudio] Destination: ..\\data\\raw\\dementia_diaries\\audio\\P1 To P3 Our DEEP News June July 2020_854187409.wav\n"
     ]
    },
    {
     "name": "stderr",
     "output_type": "stream",
     "text": [
      "Downloading Diaries:  30%|▎| 1102/3628 [58:18<4:26:15,  "
     ]
    },
    {
     "name": "stdout",
     "output_type": "stream",
     "text": [
      "[download] 100% of  485.58KiB in 00:00:00 at 800.08KiB/s               \n",
      "[ExtractAudio] Destination: ..\\data\\raw\\dementia_diaries\\audio\\A poem from Melvyn on the subject of memory_852687091.wav\n"
     ]
    },
    {
     "name": "stderr",
     "output_type": "stream",
     "text": [
      "Downloading Diaries:  30%|▎| 1103/3628 [58:22<3:57:20,  "
     ]
    },
    {
     "name": "stdout",
     "output_type": "stream",
     "text": [
      "[download] 100% of    1.17MiB in 00:00:01 at 1.07MiB/s                 \n",
      "[ExtractAudio] Destination: ..\\data\\raw\\dementia_diaries\\audio\\Two poems from Melvyn on the subject of pandemics._852686497.wav\n"
     ]
    },
    {
     "name": "stderr",
     "output_type": "stream",
     "text": [
      "Downloading Diaries:  30%|▎| 1104/3628 [58:26<3:39:43,  "
     ]
    },
    {
     "name": "stdout",
     "output_type": "stream",
     "text": [
      "[download] 100% of  628.90KiB in 00:00:00 at 1.05MiB/s                 \n",
      "[ExtractAudio] Destination: ..\\data\\raw\\dementia_diaries\\audio\\COVID19 - a poem from Melvyn_852685942.wav\n"
     ]
    },
    {
     "name": "stderr",
     "output_type": "stream",
     "text": [
      "Downloading Diaries:  30%|▎| 1105/3628 [58:29<3:14:46,  "
     ]
    },
    {
     "name": "stdout",
     "output_type": "stream",
     "text": [
      "[download] 100% of    1.04MiB in 00:00:00 at 1.06MiB/s                   \n",
      "[ExtractAudio] Destination: ..\\data\\raw\\dementia_diaries\\audio\\Glenda is feeling scared at the prospect of meeting others if she goes out._851455468.wav\n"
     ]
    },
    {
     "name": "stderr",
     "output_type": "stream",
     "text": [
      "Downloading Diaries:  30%|▎| 1106/3628 [58:34<3:13:13,  "
     ]
    },
    {
     "name": "stdout",
     "output_type": "stream",
     "text": [
      "[download] 100% of    1.39MiB in 00:00:01 at 1.16MiB/s                 \n",
      "[ExtractAudio] Destination: ..\\data\\raw\\dementia_diaries\\audio\\Tracey is struggling with changes to recycling, or rather, the response of others to her struggling._851455144.wav\n"
     ]
    },
    {
     "name": "stderr",
     "output_type": "stream",
     "text": [
      "Downloading Diaries:  31%|▎| 1107/3628 [58:38<3:08:18,  "
     ]
    },
    {
     "name": "stdout",
     "output_type": "stream",
     "text": [
      "[download] 100% of  916.09KiB in 00:00:00 at 1.01MiB/s                   \n",
      "[ExtractAudio] Destination: ..\\data\\raw\\dementia_diaries\\audio\\Melvyn has made it onto the Jeremy Vine show - and again is sticking up for the underdog._851454892.wav\n"
     ]
    },
    {
     "name": "stderr",
     "output_type": "stream",
     "text": [
      "Downloading Diaries:  31%|▎| 1108/3628 [58:42<3:06:17,  "
     ]
    },
    {
     "name": "stdout",
     "output_type": "stream",
     "text": [
      "[download] 100% of  777.02KiB in 00:00:01 at 719.96KiB/s               \n",
      "[ExtractAudio] Destination: ..\\data\\raw\\dementia_diaries\\audio\\Stephen is pretty apprehensive about the arrival of tourists to Cornwall. Stay Safe Stephen._851454631.wav\n"
     ]
    },
    {
     "name": "stderr",
     "output_type": "stream",
     "text": [
      "Downloading Diaries:  31%|▎| 1109/3628 [58:47<3:07:51,  "
     ]
    },
    {
     "name": "stdout",
     "output_type": "stream",
     "text": [
      "[download] 100% of    1.58MiB in 00:00:01 at 1.21MiB/s                 \n",
      "[ExtractAudio] Destination: ..\\data\\raw\\dementia_diaries\\audio\\Agnes feels that complacency over COVID does not auger well. Please use common sense, she says._851454367.wav\n"
     ]
    },
    {
     "name": "stderr",
     "output_type": "stream",
     "text": [
      "Downloading Diaries:  31%|▎| 1110/3628 [58:51<3:10:14,  "
     ]
    },
    {
     "name": "stdout",
     "output_type": "stream",
     "text": [
      "[download] 100% of    2.39MiB in 00:00:01 at 1.27MiB/s                 \n",
      "[ExtractAudio] Destination: ..\\data\\raw\\dementia_diaries\\audio\\Despite feeling held back by her health conditions, Agnes still wants to be included._851453758.wav\n"
     ]
    },
    {
     "name": "stderr",
     "output_type": "stream",
     "text": [
      "Downloading Diaries:  31%|▎| 1111/3628 [58:56<3:12:55,  "
     ]
    },
    {
     "name": "stdout",
     "output_type": "stream",
     "text": [
      "[download] 100% of  895.48KiB in 00:00:01 at 861.23KiB/s                 \n",
      "[ExtractAudio] Destination: ..\\data\\raw\\dementia_diaries\\audio\\Lorraine reads a touching new poem �In my garden�_851453440.wav\n"
     ]
    },
    {
     "name": "stderr",
     "output_type": "stream",
     "text": [
      "Downloading Diaries:  31%|▎| 1112/3628 [58:59<2:49:33,  "
     ]
    },
    {
     "name": "stdout",
     "output_type": "stream",
     "text": [
      "[download] 100% of  291.13KiB in 00:00:00 at 651.37KiB/s               \n",
      "[ExtractAudio] Destination: ..\\data\\raw\\dementia_diaries\\audio\\Raymond describes the �rollercoaster� of dementia he is experiencing._851453176.wav\n"
     ]
    },
    {
     "name": "stderr",
     "output_type": "stream",
     "text": [
      "Downloading Diaries:  31%|▎| 1113/3628 [59:03<2:45:05,  "
     ]
    },
    {
     "name": "stdout",
     "output_type": "stream",
     "text": [
      "[download] 100% of    1.51MiB in 00:00:01 at 938.80KiB/s               \n",
      "[ExtractAudio] Destination: ..\\data\\raw\\dementia_diaries\\audio\\Gail explains why she gets so much from the ZOOM groups she has joined, despite  the scotch-egg_851451925.wav\n"
     ]
    },
    {
     "name": "stderr",
     "output_type": "stream",
     "text": [
      "Downloading Diaries:  31%|▎| 1114/3628 [59:06<2:42:53,  "
     ]
    },
    {
     "name": "stdout",
     "output_type": "stream",
     "text": [
      "[download] 100% of  725.98KiB in 00:00:00 at 833.92KiB/s                 \n",
      "[ExtractAudio] Destination: ..\\data\\raw\\dementia_diaries\\audio\\Gail loves her ZOOM groups, but wonders why some find this difficult to understand._851451343.wav\n"
     ]
    },
    {
     "name": "stderr",
     "output_type": "stream",
     "text": [
      "Downloading Diaries:  31%|▎| 1115/3628 [59:10<2:36:48,  "
     ]
    },
    {
     "name": "stdout",
     "output_type": "stream",
     "text": [
      "[download] 100% of  187.61KiB in 00:00:00 at 469.74KiB/s               \n",
      "[ExtractAudio] Destination: ..\\data\\raw\\dementia_diaries\\audio\\Dory uses her new voice recorder to capture these mistlethrush and chiff-chaff._851451175.wav\n"
     ]
    },
    {
     "name": "stderr",
     "output_type": "stream",
     "text": [
      "Downloading Diaries:  31%|▎| 1116/3628 [59:16<3:03:19,  "
     ]
    },
    {
     "name": "stdout",
     "output_type": "stream",
     "text": [
      "[download] 100% of    3.17MiB in 00:00:03 at 945.57KiB/s               \n",
      "[ExtractAudio] Destination: ..\\data\\raw\\dementia_diaries\\audio\\George reflects on the growth of friendships during lockdown through DEEP._851450899.wav\n"
     ]
    },
    {
     "name": "stderr",
     "output_type": "stream",
     "text": [
      "Downloading Diaries:  31%|▎| 1117/3628 [59:23<3:36:17,  "
     ]
    },
    {
     "name": "stdout",
     "output_type": "stream",
     "text": [
      "[download] 100% of    2.68MiB in 00:00:02 at 933.94KiB/s               \n",
      "[ExtractAudio] Destination: ..\\data\\raw\\dementia_diaries\\audio\\Join George as he takes his morning walk in the fields amidst the glorious sounds of nature._851450653.wav\n"
     ]
    },
    {
     "name": "stderr",
     "output_type": "stream",
     "text": [
      "Downloading Diaries:  31%|▎| 1118/3628 [59:29<3:48:43,  "
     ]
    },
    {
     "name": "stdout",
     "output_type": "stream",
     "text": [
      "[download] 100% of    3.00MiB in 00:00:03 at 900.44KiB/s               \n",
      "[ExtractAudio] Destination: ..\\data\\raw\\dementia_diaries\\audio\\George on the importance of working at one�s own pace_851450401.wav\n"
     ]
    },
    {
     "name": "stderr",
     "output_type": "stream",
     "text": [
      "Downloading Diaries:  31%|▎| 1119/3628 [59:34<3:49:13,  "
     ]
    },
    {
     "name": "stdout",
     "output_type": "stream",
     "text": [
      "[download] 100% of    1.19MiB in 00:00:01 at 799.14KiB/s               \n",
      "[ExtractAudio] Destination: ..\\data\\raw\\dementia_diaries\\audio\\George enjoys the company of a juvenile buzzard in this brilliant outdoor diary._851450047.wav\n"
     ]
    },
    {
     "name": "stderr",
     "output_type": "stream",
     "text": [
      "Downloading Diaries:  31%|▎| 1120/3628 [59:40<3:44:38,  "
     ]
    },
    {
     "name": "stdout",
     "output_type": "stream",
     "text": [
      "[download] 100% of  582.46KiB in 00:00:00 at 782.03KiB/s                 \n",
      "[ExtractAudio] Destination: ..\\data\\raw\\dementia_diaries\\audio\\Dory has a frog in the smallest garden pond in Wales._851449837.wav\n"
     ]
    },
    {
     "name": "stderr",
     "output_type": "stream",
     "text": [
      "Downloading Diaries:  31%|▎| 1121/3628 [59:43<3:23:56,  "
     ]
    },
    {
     "name": "stdout",
     "output_type": "stream",
     "text": [
      "[download] 100% of  835.99KiB in 00:00:00 at 866.63KiB/s                 \n",
      "[ExtractAudio] Destination: ..\\data\\raw\\dementia_diaries\\audio\\There�s more than one way to answer a question, as Dory recalls._851449276.wav\n"
     ]
    },
    {
     "name": "stderr",
     "output_type": "stream",
     "text": [
      "Downloading Diaries:  31%|▎| 1122/3628 [59:48<3:24:15,  "
     ]
    },
    {
     "name": "stdout",
     "output_type": "stream",
     "text": [
      "[download] 100% of  447.07KiB in 00:00:00 at 626.30KiB/s                 \n",
      "[ExtractAudio] Destination: ..\\data\\raw\\dementia_diaries\\audio\\Ever had that feeling you�ve seen something before Dory has._851448925.wav\n"
     ]
    },
    {
     "name": "stderr",
     "output_type": "stream",
     "text": [
      "Downloading Diaries:  31%|▎| 1123/3628 [59:54<3:39:01,  "
     ]
    },
    {
     "name": "stdout",
     "output_type": "stream",
     "text": [
      "[download] 100% of    3.55MiB in 00:00:03 at 1.03MiB/s                 \n",
      "[ExtractAudio] Destination: ..\\data\\raw\\dementia_diaries\\audio\\Irene Donaldson from STAND_847343461.wav\n"
     ]
    },
    {
     "name": "stderr",
     "output_type": "stream",
     "text": [
      "Downloading Diaries:  31%|▎| 1124/3628 [59:58<3:19:15,  "
     ]
    },
    {
     "name": "stdout",
     "output_type": "stream",
     "text": [
      "[download] 100% of  908.37KiB in 00:00:00 at 982.58KiB/s                 \n",
      "[ExtractAudio] Destination: ..\\data\\raw\\dementia_diaries\\audio\\Another poem from Melvyn_847248427.wav\n"
     ]
    },
    {
     "name": "stderr",
     "output_type": "stream",
     "text": [
      "Downloading Diaries:  31%|▎| 1125/3628 [1:00:01<3:01:45,"
     ]
    },
    {
     "name": "stdout",
     "output_type": "stream",
     "text": [
      "[download] 100% of  982.71KiB in 00:00:00 at 1.06MiB/s                   \n",
      "[ExtractAudio] Destination: ..\\data\\raw\\dementia_diaries\\audio\\Melvyn wonders what support there is during COVID for people who aren�t online_847248094.wav\n"
     ]
    },
    {
     "name": "stderr",
     "output_type": "stream",
     "text": [
      "Downloading Diaries:  31%|▎| 1126/3628 [1:00:07<3:23:30,"
     ]
    },
    {
     "name": "stdout",
     "output_type": "stream",
     "text": [
      "[download] 100% of    2.71MiB in 00:00:02 at 1.04MiB/s                 \n",
      "[ExtractAudio] Destination: ..\\data\\raw\\dementia_diaries\\audio\\Melvyn feels that DEEP should be doing more to promote activism across the network._847247830.wav\n"
     ]
    },
    {
     "name": "stderr",
     "output_type": "stream",
     "text": [
      "Downloading Diaries:  31%|▎| 1127/3628 [1:00:12<3:25:49,"
     ]
    },
    {
     "name": "stdout",
     "output_type": "stream",
     "text": [
      "[download] 100% of    2.55MiB in 00:00:02 at 1.21MiB/s                 \n",
      "[ExtractAudio] Destination: ..\\data\\raw\\dementia_diaries\\audio\\�No Care No Compassion No Love� Melvyn�s assessment of the treatment of people with dementia._847247011.wav\n"
     ]
    },
    {
     "name": "stderr",
     "output_type": "stream",
     "text": [
      "Downloading Diaries:  31%|▎| 1128/3628 [1:00:18<3:36:48,"
     ]
    },
    {
     "name": "stdout",
     "output_type": "stream",
     "text": [
      "[download] 100% of    2.65MiB in 00:00:02 at 1.24MiB/s                 \n",
      "[ExtractAudio] Destination: ..\\data\\raw\\dementia_diaries\\audio\\Melvyn is really disappointed that support for the Allies project has been ended._847246195.wav\n"
     ]
    },
    {
     "name": "stderr",
     "output_type": "stream",
     "text": [
      "Downloading Diaries:  31%|▎| 1129/3628 [1:00:24<3:40:06,"
     ]
    },
    {
     "name": "stdout",
     "output_type": "stream",
     "text": [
      "[download] 100% of    1.70MiB in 00:00:01 at 1.11MiB/s                 \n",
      "[ExtractAudio] Destination: ..\\data\\raw\\dementia_diaries\\audio\\A few poems from Melvyn_847245973.wav\n"
     ]
    },
    {
     "name": "stderr",
     "output_type": "stream",
     "text": [
      "Downloading Diaries:  31%|▎| 1130/3628 [1:00:28<3:26:17,"
     ]
    },
    {
     "name": "stdout",
     "output_type": "stream",
     "text": [
      "[download] 100% of  933.73KiB in 00:00:00 at 1023.41KiB/s                \n",
      "[ExtractAudio] Destination: ..\\data\\raw\\dementia_diaries\\audio\\Jacqui feels she should have a choice in the kind of contact she has with the Memory Clinic._847245514.wav\n"
     ]
    },
    {
     "name": "stderr",
     "output_type": "stream",
     "text": [
      "Downloading Diaries:  31%|▎| 1131/3628 [1:00:31<3:05:21,"
     ]
    },
    {
     "name": "stdout",
     "output_type": "stream",
     "text": [
      "[download] 100% of  676.72KiB in 00:00:00 at 805.69KiB/s                 \n",
      "[ExtractAudio] Destination: ..\\data\\raw\\dementia_diaries\\audio\\Stephen has been taken by surprise by a call from his GP surgery_847245313.wav\n"
     ]
    },
    {
     "name": "stderr",
     "output_type": "stream",
     "text": [
      "Downloading Diaries:  31%|▎| 1132/3628 [1:00:34<2:47:05,"
     ]
    },
    {
     "name": "stdout",
     "output_type": "stream",
     "text": [
      "[download] 100% of  333.15KiB in 00:00:00 at 674.25KiB/s               \n",
      "[ExtractAudio] Destination: ..\\data\\raw\\dementia_diaries\\audio\\Stephen is wearing a 24 hour blood pressure monitor_847244974.wav\n"
     ]
    },
    {
     "name": "stderr",
     "output_type": "stream",
     "text": [
      "Downloading Diaries:  31%|▎| 1133/3628 [1:00:40<3:05:24,"
     ]
    },
    {
     "name": "stdout",
     "output_type": "stream",
     "text": [
      "[download] 100% of    3.07MiB in 00:00:02 at 1.24MiB/s                 \n",
      "[ExtractAudio] Destination: ..\\data\\raw\\dementia_diaries\\audio\\Agnes has lots of questions about her rights as a patient from her GP._847244668.wav\n"
     ]
    },
    {
     "name": "stderr",
     "output_type": "stream",
     "text": [
      "Downloading Diaries:  31%|▎| 1134/3628 [1:00:45<3:11:16,"
     ]
    },
    {
     "name": "stdout",
     "output_type": "stream",
     "text": [
      "[download] 100% of    2.81MiB in 00:00:02 at 1.31MiB/s                 \n",
      "[ExtractAudio] Destination: ..\\data\\raw\\dementia_diaries\\audio\\Agnes is very unhappy with the support from her GP, and wonders if this is others experience._847244287.wav\n"
     ]
    },
    {
     "name": "stderr",
     "output_type": "stream",
     "text": [
      "Downloading Diaries:  31%|▎| 1135/3628 [1:00:48<3:01:37,"
     ]
    },
    {
     "name": "stdout",
     "output_type": "stream",
     "text": [
      "[download] 100% of  692.22KiB in 00:00:00 at 905.05KiB/s                 \n",
      "[ExtractAudio] Destination: ..\\data\\raw\\dementia_diaries\\audio\\Joy�s birthday celebrations were a little different this year. Belated Happy Birthday Joy_847244041.wav\n"
     ]
    },
    {
     "name": "stderr",
     "output_type": "stream",
     "text": [
      "Downloading Diaries:  31%|▎| 1136/3628 [1:00:53<3:07:24,"
     ]
    },
    {
     "name": "stdout",
     "output_type": "stream",
     "text": [
      "[download] 100% of    1.60MiB in 00:00:01 at 944.91KiB/s               \n",
      "[ExtractAudio] Destination: ..\\data\\raw\\dementia_diaries\\audio\\Gail gives a lovely account of seeing her parents for the first time since lockdown._847243711.wav\n"
     ]
    },
    {
     "name": "stderr",
     "output_type": "stream",
     "text": [
      "Downloading Diaries:  31%|▎| 1137/3628 [1:01:00<3:28:23,"
     ]
    },
    {
     "name": "stdout",
     "output_type": "stream",
     "text": [
      "[download] 100% of    2.56MiB in 00:00:02 at 902.87KiB/s               \n",
      "[ExtractAudio] Destination: ..\\data\\raw\\dementia_diaries\\audio\\George makes a heartfelt plea for compassion and understanding in our relationships with others._847243420.wav\n"
     ]
    },
    {
     "name": "stderr",
     "output_type": "stream",
     "text": [
      "Downloading Diaries:  31%|▎| 1138/3628 [1:01:05<3:35:31,"
     ]
    },
    {
     "name": "stdout",
     "output_type": "stream",
     "text": [
      "[download] 100% of    1.02MiB in 00:00:01 at 867.36KiB/s               \n",
      "[ExtractAudio] Destination: ..\\data\\raw\\dementia_diaries\\audio\\You never know what to expect with dementia, so you have to go with the flow, says Gail._843052915.wav\n"
     ]
    },
    {
     "name": "stderr",
     "output_type": "stream",
     "text": [
      "Downloading Diaries:  31%|▎| 1139/3628 [1:01:10<3:30:21,"
     ]
    },
    {
     "name": "stdout",
     "output_type": "stream",
     "text": [
      "[download] 100% of  892.24KiB in 00:00:01 at 670.84KiB/s               \n",
      "[ExtractAudio] Destination: ..\\data\\raw\\dementia_diaries\\audio\\You never know what to expect with dementia, so you have to go with the flow, says Gail._843052603.wav\n"
     ]
    },
    {
     "name": "stderr",
     "output_type": "stream",
     "text": [
      "Downloading Diaries:  31%|▎| 1140/3628 [1:01:14<3:22:24,"
     ]
    },
    {
     "name": "stdout",
     "output_type": "stream",
     "text": [
      "[download] 100% of  767.29KiB in 00:00:00 at 768.58KiB/s                 \n",
      "[ExtractAudio] Destination: ..\\data\\raw\\dementia_diaries\\audio\\Let�s listen to the sea with Gail in this lovely outdoors diary. Wonderful._843052342.wav\n"
     ]
    },
    {
     "name": "stderr",
     "output_type": "stream",
     "text": [
      "Downloading Diaries:  31%|▎| 1141/3628 [1:01:17<2:55:44,"
     ]
    },
    {
     "name": "stdout",
     "output_type": "stream",
     "text": [
      "[download] 100% of  366.79KiB in 00:00:00 at 641.71KiB/s               \n",
      "[ExtractAudio] Destination: ..\\data\\raw\\dementia_diaries\\audio\\Gail reads her poem �a foggy day�_843051931.wav\n"
     ]
    },
    {
     "name": "stderr",
     "output_type": "stream",
     "text": [
      "Downloading Diaries:  31%|▎| 1142/3628 [1:01:21<2:47:06,"
     ]
    },
    {
     "name": "stdout",
     "output_type": "stream",
     "text": [
      "[download] 100% of  810.71KiB in 00:00:00 at 874.20KiB/s                 \n",
      "[ExtractAudio] Destination: ..\\data\\raw\\dementia_diaries\\audio\\A simple flower has triggered some wonderful memories for Gail_843051727.wav\n"
     ]
    },
    {
     "name": "stderr",
     "output_type": "stream",
     "text": [
      "Downloading Diaries:  32%|▎| 1143/3628 [1:01:24<2:41:30,"
     ]
    },
    {
     "name": "stdout",
     "output_type": "stream",
     "text": [
      "[download] 100% of  576.25KiB in 00:00:00 at 824.22KiB/s                 \n",
      "[ExtractAudio] Destination: ..\\data\\raw\\dementia_diaries\\audio\\Stephen has really enjoyed the Dementia Diarists ZOOM meeting - and things are looking up a little._843051346.wav\n"
     ]
    },
    {
     "name": "stderr",
     "output_type": "stream",
     "text": [
      "Downloading Diaries:  32%|▎| 1144/3628 [1:01:29<2:51:11,"
     ]
    },
    {
     "name": "stdout",
     "output_type": "stream",
     "text": [
      "[download] 100% of    2.97MiB in 00:00:02 at 1.29MiB/s                 \n",
      "[ExtractAudio] Destination: ..\\data\\raw\\dementia_diaries\\audio\\Agnes is pushing herself to do things, despite feeling distinctly under par._843051097.wav\n"
     ]
    },
    {
     "name": "stderr",
     "output_type": "stream",
     "text": [
      "Downloading Diaries:  32%|▎| 1145/3628 [1:01:34<3:04:32,"
     ]
    },
    {
     "name": "stdout",
     "output_type": "stream",
     "text": [
      "[download] 100% of  945.48KiB in 00:00:00 at 1009.92KiB/s                \n",
      "[ExtractAudio] Destination: ..\\data\\raw\\dementia_diaries\\audio\\Clive reads a lovely poem �I can�t remember�_843050557.wav\n"
     ]
    },
    {
     "name": "stderr",
     "output_type": "stream",
     "text": [
      "Downloading Diaries:  32%|▎| 1146/3628 [1:01:40<3:22:33,"
     ]
    },
    {
     "name": "stdout",
     "output_type": "stream",
     "text": [
      "[download] 100% of    2.68MiB in 00:00:02 at 1.24MiB/s                 \n",
      "[ExtractAudio] Destination: ..\\data\\raw\\dementia_diaries\\audio\\Melvyn worries about the future for younger people, especially with regard to the NHS._843050179.wav\n"
     ]
    },
    {
     "name": "stderr",
     "output_type": "stream",
     "text": [
      "Downloading Diaries:  32%|▎| 1147/3628 [1:01:43<3:04:07,"
     ]
    },
    {
     "name": "stdout",
     "output_type": "stream",
     "text": [
      "[download] 100% of  579.21KiB in 00:00:00 at 833.58KiB/s               \n",
      "[ExtractAudio] Destination: ..\\data\\raw\\dementia_diaries\\audio\\Julie feels that people with dementia should be more strident in their demands for equality._843049846.wav\n"
     ]
    },
    {
     "name": "stderr",
     "output_type": "stream",
     "text": [
      "Downloading Diaries:  32%|▎| 1148/3628 [1:01:49<3:15:55,"
     ]
    },
    {
     "name": "stdout",
     "output_type": "stream",
     "text": [
      "[download] 100% of    2.79MiB in 00:00:02 at 1.24MiB/s                 \n",
      "[ExtractAudio] Destination: ..\\data\\raw\\dementia_diaries\\audio\\Melvyn feels like his health is going downhill._843049276.wav\n"
     ]
    },
    {
     "name": "stderr",
     "output_type": "stream",
     "text": [
      "Downloading Diaries:  32%|▎| 1149/3628 [1:01:54<3:23:23,"
     ]
    },
    {
     "name": "stdout",
     "output_type": "stream",
     "text": [
      "[download] 100% of    1.77MiB in 00:00:01 at 1.13MiB/s                 \n",
      "[ExtractAudio] Destination: ..\\data\\raw\\dementia_diaries\\audio\\Agnes feels her get up and go has got up and gone today._843048661.wav\n"
     ]
    },
    {
     "name": "stderr",
     "output_type": "stream",
     "text": [
      "Downloading Diaries:  32%|▎| 1150/3628 [1:01:57<3:01:12,"
     ]
    },
    {
     "name": "stdout",
     "output_type": "stream",
     "text": [
      "[download] 100% of  379.47KiB in 00:00:00 at 696.81KiB/s               \n",
      "[ExtractAudio] Destination: ..\\data\\raw\\dementia_diaries\\audio\\Raymond looks forward to his ZOOM meeting._843048121.wav\n"
     ]
    },
    {
     "name": "stderr",
     "output_type": "stream",
     "text": [
      "Downloading Diaries:  32%|▎| 1151/3628 [1:02:02<3:07:37,"
     ]
    },
    {
     "name": "stdout",
     "output_type": "stream",
     "text": [
      "[download] 100% of    1.87MiB in 00:00:01 at 1.11MiB/s                 \n",
      "[ExtractAudio] Destination: ..\\data\\raw\\dementia_diaries\\audio\\�Convenience or local loyalty� Dreane ponders the dilemma on the day some shops start to open up._843047821.wav\n"
     ]
    },
    {
     "name": "stderr",
     "output_type": "stream",
     "text": [
      "Downloading Diaries:  32%|▎| 1152/3628 [1:02:06<2:53:23,"
     ]
    },
    {
     "name": "stdout",
     "output_type": "stream",
     "text": [
      "[download] 100% of  860.95KiB in 00:00:00 at 912.58KiB/s                 \n",
      "[ExtractAudio] Destination: ..\\data\\raw\\dementia_diaries\\audio\\Wayne listens to the world come awake  in this diary from his hot and sunny garden._843047437.wav\n"
     ]
    },
    {
     "name": "stderr",
     "output_type": "stream",
     "text": [
      "Downloading Diaries:  32%|▎| 1153/3628 [1:02:10<2:56:02,"
     ]
    },
    {
     "name": "stdout",
     "output_type": "stream",
     "text": [
      "[download] 100% of    1.38MiB in 00:00:01 at 1.11MiB/s                 \n",
      "[ExtractAudio] Destination: ..\\data\\raw\\dementia_diaries\\audio\\Melvyn questions the governments narrative over the recent protests in London._843047029.wav\n"
     ]
    },
    {
     "name": "stderr",
     "output_type": "stream",
     "text": [
      "Downloading Diaries:  32%|▎| 1154/3628 [1:02:16<3:16:33,"
     ]
    },
    {
     "name": "stdout",
     "output_type": "stream",
     "text": [
      "[download] 100% of    2.21MiB in 00:00:01 at 1.17MiB/s                 \n",
      "[ExtractAudio] Destination: ..\\data\\raw\\dementia_diaries\\audio\\Melvyn continues this brilliant tour of his garden - AND he�s finally getting online._843046648.wav\n"
     ]
    },
    {
     "name": "stderr",
     "output_type": "stream",
     "text": [
      "Downloading Diaries:  32%|▎| 1155/3628 [1:02:22<3:29:50,"
     ]
    },
    {
     "name": "stdout",
     "output_type": "stream",
     "text": [
      "[download] 100% of    2.11MiB in 00:00:02 at 1023.57KiB/s              \n",
      "[ExtractAudio] Destination: ..\\data\\raw\\dementia_diaries\\audio\\Melvyn is enjoying the beauty of nature in his garden in this lovely diary._843046315.wav\n"
     ]
    },
    {
     "name": "stderr",
     "output_type": "stream",
     "text": [
      "Downloading Diaries:  32%|▎| 1156/3628 [1:02:26<3:14:19,"
     ]
    },
    {
     "name": "stdout",
     "output_type": "stream",
     "text": [
      "[download] 100% of  723.55KiB in 00:00:00 at 883.59KiB/s                 \n",
      "[ExtractAudio] Destination: ..\\data\\raw\\dementia_diaries\\audio\\The Happy Tandemer has been enjoying the company of others out in the open._843046048.wav\n"
     ]
    },
    {
     "name": "stderr",
     "output_type": "stream",
     "text": [
      "Downloading Diaries:  32%|▎| 1157/3628 [1:02:30<3:07:02,"
     ]
    },
    {
     "name": "stdout",
     "output_type": "stream",
     "text": [
      "[download] 100% of    2.16MiB in 00:00:01 at 1.27MiB/s                 \n",
      "[ExtractAudio] Destination: ..\\data\\raw\\dementia_diaries\\audio\\Melvyn is concerned about the rush to come out of lockdown._843045628.wav\n"
     ]
    },
    {
     "name": "stderr",
     "output_type": "stream",
     "text": [
      "Downloading Diaries:  32%|▎| 1158/3628 [1:02:33<2:50:50,"
     ]
    },
    {
     "name": "stdout",
     "output_type": "stream",
     "text": [
      "[download] 100% of  717.15KiB in 00:00:00 at 973.69KiB/s                 \n",
      "[ExtractAudio] Destination: ..\\data\\raw\\dementia_diaries\\audio\\Martin has had a rough time of late but ZOOM and DEEP has kept him going._843041830.wav\n"
     ]
    },
    {
     "name": "stderr",
     "output_type": "stream",
     "text": [
      "Downloading Diaries:  32%|▎| 1159/3628 [1:02:37<2:42:57,"
     ]
    },
    {
     "name": "stdout",
     "output_type": "stream",
     "text": [
      "[download] 100% of  623.13KiB in 00:00:00 at 832.62KiB/s                 \n",
      "[ExtractAudio] Destination: ..\\data\\raw\\dementia_diaries\\audio\\Stephen is philosophical about the downturn in the weather._843041512.wav\n"
     ]
    },
    {
     "name": "stderr",
     "output_type": "stream",
     "text": [
      "Downloading Diaries:  32%|▎| 1160/3628 [1:02:41<2:42:10,"
     ]
    },
    {
     "name": "stdout",
     "output_type": "stream",
     "text": [
      "[download] 100% of  695.50KiB in 00:00:00 at 703.35KiB/s                 \n",
      "[ExtractAudio] Destination: ..\\data\\raw\\dementia_diaries\\audio\\Glenda is excited about getting a polytunnel. Quite right too !_843041278.wav\n"
     ]
    },
    {
     "name": "stderr",
     "output_type": "stream",
     "text": [
      "Downloading Diaries:  32%|▎| 1161/3628 [1:02:45<2:50:15,"
     ]
    },
    {
     "name": "stdout",
     "output_type": "stream",
     "text": [
      "[download] 100% of    1.56MiB in 00:00:01 at 1.21MiB/s                 \n",
      "[ExtractAudio] Destination: ..\\data\\raw\\dementia_diaries\\audio\\Agnes reminds us of the importance of ZOOM etiquette_843040978.wav\n"
     ]
    },
    {
     "name": "stderr",
     "output_type": "stream",
     "text": [
      "Downloading Diaries:  32%|▎| 1162/3628 [1:02:49<2:42:43,"
     ]
    },
    {
     "name": "stdout",
     "output_type": "stream",
     "text": [
      "[download] 100% of  526.17KiB in 00:00:00 at 795.13KiB/s                 \n",
      "[ExtractAudio] Destination: ..\\data\\raw\\dementia_diaries\\audio\\Join Dory In this spellbinding diary listening to a lone songbird at 4 in the morning_843040528.wav\n"
     ]
    },
    {
     "name": "stderr",
     "output_type": "stream",
     "text": [
      "Downloading Diaries:  32%|▎| 1163/3628 [1:02:56<3:30:19,"
     ]
    },
    {
     "name": "stdout",
     "output_type": "stream",
     "text": [
      "[download] 100% of    3.37MiB in 00:00:03 at 933.44KiB/s               \n",
      "[ExtractAudio] Destination: ..\\data\\raw\\dementia_diaries\\audio\\George offers his thoughts on the running theme of �dementia friendly� businesses._843039427.wav\n"
     ]
    },
    {
     "name": "stderr",
     "output_type": "stream",
     "text": [
      "Downloading Diaries:  32%|▎| 1164/3628 [1:03:02<3:31:52,"
     ]
    },
    {
     "name": "stdout",
     "output_type": "stream",
     "text": [
      "[download] 100% of    1.99MiB in 00:00:02 at 836.47KiB/s               \n",
      "[ExtractAudio] Destination: ..\\data\\raw\\dementia_diaries\\audio\\George ponders the shared experience of dementia._843039025.wav\n"
     ]
    },
    {
     "name": "stderr",
     "output_type": "stream",
     "text": [
      "Downloading Diaries:  32%|▎| 1165/3628 [1:03:07<3:31:58,"
     ]
    },
    {
     "name": "stdout",
     "output_type": "stream",
     "text": [
      "[download] 100% of  905.85KiB in 00:00:00 at 1001.19KiB/s                \n",
      "[ExtractAudio] Destination: ..\\data\\raw\\dementia_diaries\\audio\\Melvyn reads a poem for the Time and Place project._841268848.wav\n"
     ]
    },
    {
     "name": "stderr",
     "output_type": "stream",
     "text": [
      "Downloading Diaries:  32%|▎| 1166/3628 [1:03:10<3:05:51,"
     ]
    },
    {
     "name": "stdout",
     "output_type": "stream",
     "text": [
      "[download] 100% of  627.54KiB in 00:00:00 at 943.43KiB/s                 \n",
      "[ExtractAudio] Destination: ..\\data\\raw\\dementia_diaries\\audio\\Melvyn reads a poem for the Time and Place project._841268488.wav\n"
     ]
    },
    {
     "name": "stderr",
     "output_type": "stream",
     "text": [
      "Downloading Diaries:  32%|▎| 1167/3628 [1:03:13<2:47:51,"
     ]
    },
    {
     "name": "stdout",
     "output_type": "stream",
     "text": [
      "[download] 100% of    1.16MiB in 00:00:01 at 1.05MiB/s                 \n",
      "[ExtractAudio] Destination: ..\\data\\raw\\dementia_diaries\\audio\\Melvyn reads a poem for the Time and Place project_841268107.wav\n"
     ]
    },
    {
     "name": "stderr",
     "output_type": "stream",
     "text": [
      "Downloading Diaries:  32%|▎| 1168/3628 [1:03:16<2:35:42,"
     ]
    },
    {
     "name": "stdout",
     "output_type": "stream",
     "text": [
      "[download] 100% of    1.17MiB in 00:00:01 at 1.06MiB/s                 \n",
      "[ExtractAudio] Destination: ..\\data\\raw\\dementia_diaries\\audio\\Agnes is building up her capacity to travel further beyond her bubble._836877589.wav\n"
     ]
    },
    {
     "name": "stderr",
     "output_type": "stream",
     "text": [
      "Downloading Diaries:  32%|▎| 1169/3628 [1:03:20<2:30:18,"
     ]
    },
    {
     "name": "stdout",
     "output_type": "stream",
     "text": [
      "[download] 100% of  296.52KiB in 00:00:00 at 443.60KiB/s               \n",
      "[ExtractAudio] Destination: ..\\data\\raw\\dementia_diaries\\audio\\Stephen's having a hard week._836877343.wav\n"
     ]
    },
    {
     "name": "stderr",
     "output_type": "stream",
     "text": [
      "Downloading Diaries:  32%|▎| 1170/3628 [1:03:23<2:26:55,"
     ]
    },
    {
     "name": "stdout",
     "output_type": "stream",
     "text": [
      "[download] 100% of  674.83KiB in 00:00:00 at 858.92KiB/s                 \n",
      "[ExtractAudio] Destination: ..\\data\\raw\\dementia_diaries\\audio\\Lorraine describes her feelings during lockdown._836877121.wav\n"
     ]
    },
    {
     "name": "stderr",
     "output_type": "stream",
     "text": [
      "Downloading Diaries:  32%|▎| 1171/3628 [1:03:28<2:42:53,"
     ]
    },
    {
     "name": "stdout",
     "output_type": "stream",
     "text": [
      "[download] 100% of    1.48MiB in 00:00:01 at 1.07MiB/s                 \n",
      "[ExtractAudio] Destination: ..\\data\\raw\\dementia_diaries\\audio\\Tommy explains the importance of being aware of the danger of depression or anxiety in dementia._836876773.wav\n"
     ]
    },
    {
     "name": "stderr",
     "output_type": "stream",
     "text": [
      "Downloading Diaries:  32%|▎| 1172/3628 [1:03:32<2:50:24,"
     ]
    },
    {
     "name": "stdout",
     "output_type": "stream",
     "text": [
      "[download] 100% of  414.34KiB in 00:00:00 at 659.31KiB/s               \n",
      "[ExtractAudio] Destination: ..\\data\\raw\\dementia_diaries\\audio\\Raymond has had his first ZOOM meeting !!!_836876347.wav\n"
     ]
    },
    {
     "name": "stderr",
     "output_type": "stream",
     "text": [
      "Downloading Diaries:  32%|▎| 1173/3628 [1:03:36<2:41:40,"
     ]
    },
    {
     "name": "stdout",
     "output_type": "stream",
     "text": [
      "[download] 100% of  585.41KiB in 00:00:00 at 864.04KiB/s                 \n",
      "[ExtractAudio] Destination: ..\\data\\raw\\dementia_diaries\\audio\\Lorraine is sharing the moment with us. And what a lovely moment it is too._836876044.wav\n"
     ]
    },
    {
     "name": "stderr",
     "output_type": "stream",
     "text": [
      "Downloading Diaries:  32%|▎| 1174/3628 [1:03:39<2:34:20,"
     ]
    },
    {
     "name": "stdout",
     "output_type": "stream",
     "text": [
      "[download] 100% of  789.81KiB in 00:00:00 at 997.66KiB/s                 \n",
      "[ExtractAudio] Destination: ..\\data\\raw\\dementia_diaries\\audio\\Jacqui is keeping Homebase going single-handed._836875708.wav\n"
     ]
    },
    {
     "name": "stderr",
     "output_type": "stream",
     "text": [
      "Downloading Diaries:  32%|▎| 1175/3628 [1:03:43<2:32:44,"
     ]
    },
    {
     "name": "stdout",
     "output_type": "stream",
     "text": [
      "[download] 100% of  669.11KiB in 00:00:00 at 813.36KiB/s                 \n",
      "[ExtractAudio] Destination: ..\\data\\raw\\dementia_diaries\\audio\\Jacqui has been inspired by Gail._836875462.wav\n"
     ]
    },
    {
     "name": "stderr",
     "output_type": "stream",
     "text": [
      "Downloading Diaries:  32%|▎| 1176/3628 [1:03:47<2:37:07,"
     ]
    },
    {
     "name": "stdout",
     "output_type": "stream",
     "text": [
      "[download] 100% of  695.69KiB in 00:00:00 at 870.68KiB/s                 \n",
      "[ExtractAudio] Destination: ..\\data\\raw\\dementia_diaries\\audio\\Like the weather, Stephen�s had an up and down kind of week._836875174.wav\n"
     ]
    },
    {
     "name": "stderr",
     "output_type": "stream",
     "text": [
      "Downloading Diaries:  32%|▎| 1177/3628 [1:03:51<2:41:38,"
     ]
    },
    {
     "name": "stdout",
     "output_type": "stream",
     "text": [
      "[download] 100% of    2.02MiB in 00:00:01 at 1.07MiB/s                 \n",
      "[ExtractAudio] Destination: ..\\data\\raw\\dementia_diaries\\audio\\Dreane wonders whether others share her reticence to venture out._836874958.wav\n"
     ]
    },
    {
     "name": "stderr",
     "output_type": "stream",
     "text": [
      "Downloading Diaries:  32%|▎| 1178/3628 [1:03:55<2:38:29,"
     ]
    },
    {
     "name": "stdout",
     "output_type": "stream",
     "text": [
      "[download] 100% of  791.12KiB in 00:00:00 at 965.71KiB/s                 \n",
      "[ExtractAudio] Destination: ..\\data\\raw\\dementia_diaries\\audio\\She wasn't keen on a walk but a wonderful surprise awaited Glenda. How lovely !_836874490.wav\n"
     ]
    },
    {
     "name": "stderr",
     "output_type": "stream",
     "text": [
      "Downloading Diaries:  32%|▎| 1179/3628 [1:03:59<2:42:33,"
     ]
    },
    {
     "name": "stdout",
     "output_type": "stream",
     "text": [
      "[download] 100% of  932.86KiB in 00:00:00 at 967.72KiB/s                 \n",
      "[ExtractAudio] Destination: ..\\data\\raw\\dementia_diaries\\audio\\Gail finds yet another way for technology to help her with her dementia._836874130.wav\n"
     ]
    },
    {
     "name": "stderr",
     "output_type": "stream",
     "text": [
      "Downloading Diaries:  33%|▎| 1180/3628 [1:04:02<2:33:31,"
     ]
    },
    {
     "name": "stdout",
     "output_type": "stream",
     "text": [
      "[download] 100% of    1.14MiB in 00:00:01 at 1.04MiB/s                 \n",
      "[ExtractAudio] Destination: ..\\data\\raw\\dementia_diaries\\audio\\Agnes ponders taking a few steps outside her beloved bubble._836873932.wav\n"
     ]
    },
    {
     "name": "stderr",
     "output_type": "stream",
     "text": [
      "Downloading Diaries:  33%|▎| 1181/3628 [1:04:05<2:22:16,"
     ]
    },
    {
     "name": "stdout",
     "output_type": "stream",
     "text": [
      "[download] 100% of  751.73KiB in 00:00:00 at 1017.18KiB/s                \n",
      "[ExtractAudio] Destination: ..\\data\\raw\\dementia_diaries\\audio\\In this lovely diary Joy likens her her life to a steam train journey._836873656.wav\n"
     ]
    },
    {
     "name": "stderr",
     "output_type": "stream",
     "text": [
      "Downloading Diaries:  33%|▎| 1182/3628 [1:04:10<2:42:45,"
     ]
    },
    {
     "name": "stdout",
     "output_type": "stream",
     "text": [
      "[download] 100% of    2.80MiB in 00:00:02 at 1.25MiB/s                 \n",
      "[ExtractAudio] Destination: ..\\data\\raw\\dementia_diaries\\audio\\Melvyn despairs of the political class but is hopeful for the younger generation._836873044.wav\n"
     ]
    },
    {
     "name": "stderr",
     "output_type": "stream",
     "text": [
      "Downloading Diaries:  33%|▎| 1183/3628 [1:04:14<2:37:37,"
     ]
    },
    {
     "name": "stdout",
     "output_type": "stream",
     "text": [
      "[download] 100% of  784.64KiB in 00:00:00 at 936.06KiB/s                 \n",
      "[ExtractAudio] Destination: ..\\data\\raw\\dementia_diaries\\audio\\The Zoomettes have reached this fundraising target - Dory thanks everyone that donated !!_836872603.wav\n"
     ]
    },
    {
     "name": "stderr",
     "output_type": "stream",
     "text": [
      "Downloading Diaries:  33%|▎| 1184/3628 [1:04:19<2:57:17,"
     ]
    },
    {
     "name": "stdout",
     "output_type": "stream",
     "text": [
      "[download] 100% of    1.40MiB in 00:00:01 at 920.64KiB/s               \n",
      "[ExtractAudio] Destination: ..\\data\\raw\\dementia_diaries\\audio\\Dory echoes Gail�s questions about dementia friendly businesses._836872069.wav\n"
     ]
    },
    {
     "name": "stderr",
     "output_type": "stream",
     "text": [
      "Downloading Diaries:  33%|▎| 1185/3628 [1:04:27<3:37:08,"
     ]
    },
    {
     "name": "stdout",
     "output_type": "stream",
     "text": [
      "[download] 100% of    3.62MiB in 00:00:04 at 883.52KiB/s               \n",
      "[ExtractAudio] Destination: ..\\data\\raw\\dementia_diaries\\audio\\George takes a walk in the rain. He�s accompanied by the king of the forest._836871550.wav\n"
     ]
    },
    {
     "name": "stderr",
     "output_type": "stream",
     "text": [
      "Downloading Diaries:  33%|▎| 1186/3628 [1:04:31<3:19:15,"
     ]
    },
    {
     "name": "stdout",
     "output_type": "stream",
     "text": [
      "[download] 100% of  152.50KiB in 00:00:00 at 419.90KiB/s               \n",
      "[ExtractAudio] Destination: ..\\data\\raw\\dementia_diaries\\audio\\Melvyn reads his first poem for the project._836224861.wav\n"
     ]
    },
    {
     "name": "stderr",
     "output_type": "stream",
     "text": [
      "Downloading Diaries:  33%|▎| 1187/3628 [1:04:35<3:07:27,"
     ]
    },
    {
     "name": "stdout",
     "output_type": "stream",
     "text": [
      "[download] 100% of    1.74MiB in 00:00:01 at 1.20MiB/s                 \n",
      "[ExtractAudio] Destination: ..\\data\\raw\\dementia_diaries\\audio\\The joy of nature fails to dampen Melvyn�s fury at the death rate in care homes._833874565.wav\n"
     ]
    },
    {
     "name": "stderr",
     "output_type": "stream",
     "text": [
      "Downloading Diaries:  33%|▎| 1188/3628 [1:04:38<2:52:57,"
     ]
    },
    {
     "name": "stdout",
     "output_type": "stream",
     "text": [
      "[download] 100% of  530.66KiB in 00:00:00 at 711.98KiB/s                 \n",
      "[ExtractAudio] Destination: ..\\data\\raw\\dementia_diaries\\audio\\Raymond hopes everyone is keeping well and thanks those who are supporting him._833874121.wav\n"
     ]
    },
    {
     "name": "stderr",
     "output_type": "stream",
     "text": [
      "Downloading Diaries:  33%|▎| 1189/3628 [1:04:42<2:48:01,"
     ]
    },
    {
     "name": "stdout",
     "output_type": "stream",
     "text": [
      "[download] 100% of    1.46MiB in 00:00:01 at 1.14MiB/s                 \n",
      "[ExtractAudio] Destination: ..\\data\\raw\\dementia_diaries\\audio\\Gail argues that people with dementia should be the ones to deliver dementia awareness._833873788.wav\n"
     ]
    },
    {
     "name": "stderr",
     "output_type": "stream",
     "text": [
      "Downloading Diaries:  33%|▎| 1190/3628 [1:04:46<2:46:47,"
     ]
    },
    {
     "name": "stdout",
     "output_type": "stream",
     "text": [
      "[download] 100% of    1.14MiB in 00:00:01 at 1.11MiB/s                 \n",
      "[ExtractAudio] Destination: ..\\data\\raw\\dementia_diaries\\audio\\Glenda feels for those who haven�t been blessed with a garden during lockdown,_833873338.wav\n"
     ]
    },
    {
     "name": "stderr",
     "output_type": "stream",
     "text": [
      "Downloading Diaries:  33%|▎| 1191/3628 [1:04:51<2:50:18,"
     ]
    },
    {
     "name": "stdout",
     "output_type": "stream",
     "text": [
      "[download] 100% of  314.23KiB in 00:00:00 at 697.40KiB/s               \n",
      "[ExtractAudio] Destination: ..\\data\\raw\\dementia_diaries\\audio\\Lorraine shares a wonderful sunny morning moment._833872987.wav\n"
     ]
    },
    {
     "name": "stderr",
     "output_type": "stream",
     "text": [
      "Downloading Diaries:  33%|▎| 1192/3628 [1:04:54<2:44:31,"
     ]
    },
    {
     "name": "stdout",
     "output_type": "stream",
     "text": [
      "[download] 100% of    1.29MiB in 00:00:01 at 1.03MiB/s                 \n",
      "[ExtractAudio] Destination: ..\\data\\raw\\dementia_diaries\\audio\\Gail recounts a terrible experience at the supermarket_833872723.wav\n"
     ]
    },
    {
     "name": "stderr",
     "output_type": "stream",
     "text": [
      "Downloading Diaries:  33%|▎| 1193/3628 [1:04:57<2:28:16,"
     ]
    },
    {
     "name": "stdout",
     "output_type": "stream",
     "text": [
      "[download] 100% of  274.98KiB in 00:00:00 at 663.04KiB/s               \n",
      "[ExtractAudio] Destination: ..\\data\\raw\\dementia_diaries\\audio\\Raymond is looking forward to getting back to normal_833871871.wav\n"
     ]
    },
    {
     "name": "stderr",
     "output_type": "stream",
     "text": [
      "Downloading Diaries:  33%|▎| 1194/3628 [1:05:00<2:25:49,"
     ]
    },
    {
     "name": "stdout",
     "output_type": "stream",
     "text": [
      "[download] 100% of  451.37KiB in 00:00:00 at 749.74KiB/s               \n",
      "[ExtractAudio] Destination: ..\\data\\raw\\dementia_diaries\\audio\\Stephen enjoyed the Dementia Diarists ZOOM meeting._833871361.wav\n"
     ]
    },
    {
     "name": "stderr",
     "output_type": "stream",
     "text": [
      "Downloading Diaries:  33%|▎| 1195/3628 [1:05:05<2:36:58,"
     ]
    },
    {
     "name": "stdout",
     "output_type": "stream",
     "text": [
      "[download] 100% of    1.28MiB in 00:00:01 at 1.12MiB/s                 \n",
      "[ExtractAudio] Destination: ..\\data\\raw\\dementia_diaries\\audio\\Agnes has been invited to share her expertise on sensory issues in dementia._833870977.wav\n"
     ]
    },
    {
     "name": "stderr",
     "output_type": "stream",
     "text": [
      "Downloading Diaries:  33%|▎| 1196/3628 [1:05:09<2:43:55,"
     ]
    },
    {
     "name": "stdout",
     "output_type": "stream",
     "text": [
      "[download] 100% of    1.31MiB in 00:00:01 at 1.02MiB/s                 \n",
      "[ExtractAudio] Destination: ..\\data\\raw\\dementia_diaries\\audio\\Gail reflects on the benefits of joining groups with other people with dementia_833870590.wav\n"
     ]
    },
    {
     "name": "stderr",
     "output_type": "stream",
     "text": [
      "Downloading Diaries:  33%|▎| 1197/3628 [1:05:13<2:43:06,"
     ]
    },
    {
     "name": "stdout",
     "output_type": "stream",
     "text": [
      "[download] 100% of    1.51MiB in 00:00:01 at 1.11MiB/s                 \n",
      "[ExtractAudio] Destination: ..\\data\\raw\\dementia_diaries\\audio\\Good advice from Gail to help avoid getting Zoomed-out._833870188.wav\n"
     ]
    },
    {
     "name": "stderr",
     "output_type": "stream",
     "text": [
      "Downloading Diaries:  33%|▎| 1198/3628 [1:05:17<2:40:24,"
     ]
    },
    {
     "name": "stdout",
     "output_type": "stream",
     "text": [
      "[download] 100% of  822.79KiB in 00:00:00 at 945.82KiB/s                 \n",
      "[ExtractAudio] Destination: ..\\data\\raw\\dementia_diaries\\audio\\Dory is chuffed to discover allotments she never knew about practically on her doorstep._833869675.wav\n"
     ]
    },
    {
     "name": "stderr",
     "output_type": "stream",
     "text": [
      "Downloading Diaries:  33%|▎| 1199/3628 [1:05:22<2:44:55,"
     ]
    },
    {
     "name": "stdout",
     "output_type": "stream",
     "text": [
      "[download] 100% of    1.26MiB in 00:00:01 at 948.56KiB/s               \n",
      "[ExtractAudio] Destination: ..\\data\\raw\\dementia_diaries\\audio\\�We Shall Overcome�. A wonderful sentiment played by Chris during the latest Thursday clapping_833869231.wav\n"
     ]
    },
    {
     "name": "stderr",
     "output_type": "stream",
     "text": [
      "Downloading Diaries:  33%|▎| 1200/3628 [1:05:26<2:50:03,"
     ]
    },
    {
     "name": "stdout",
     "output_type": "stream",
     "text": [
      "[download] 100% of    1.57MiB in 00:00:01 at 855.59KiB/s               \n",
      "[ExtractAudio] Destination: ..\\data\\raw\\dementia_diaries\\audio\\George welcomes the return of greenfinches to his woods._833868289.wav\n"
     ]
    },
    {
     "name": "stderr",
     "output_type": "stream",
     "text": [
      "Downloading Diaries:  33%|▎| 1201/3628 [1:05:32<3:06:14,"
     ]
    },
    {
     "name": "stdout",
     "output_type": "stream",
     "text": [
      "[download] 100% of    2.12MiB in 00:00:02 at 849.18KiB/s               \n",
      "[ExtractAudio] Destination: ..\\data\\raw\\dementia_diaries\\audio\\George reflects on his good fortune in having been able to make a difference in his life_833867410.wav\n"
     ]
    },
    {
     "name": "stderr",
     "output_type": "stream",
     "text": [
      "Downloading Diaries:  33%|▎| 1202/3628 [1:05:38<3:33:06,"
     ]
    },
    {
     "name": "stdout",
     "output_type": "stream",
     "text": [
      "[download] 100% of    2.89MiB in 00:00:03 at 926.78KiB/s               \n",
      "[ExtractAudio] Destination: ..\\data\\raw\\dementia_diaries\\audio\\George muses on the potential benefits lockdown may have bought to people with dementia._833866561.wav\n"
     ]
    },
    {
     "name": "stderr",
     "output_type": "stream",
     "text": [
      "Downloading Diaries:  33%|▎| 1203/3628 [1:05:47<4:11:54,"
     ]
    },
    {
     "name": "stdout",
     "output_type": "stream",
     "text": [
      "[download] 100% of    4.16MiB in 00:00:04 at 927.90KiB/s               \n",
      "[ExtractAudio] Destination: ..\\data\\raw\\dementia_diaries\\audio\\Join a white-throat, a couple of Wrens, and of course a Rook very, very early._833865781.wav\n"
     ]
    },
    {
     "name": "stderr",
     "output_type": "stream",
     "text": [
      "Downloading Diaries:  33%|▎| 1204/3628 [1:05:54<4:18:35,"
     ]
    },
    {
     "name": "stdout",
     "output_type": "stream",
     "text": [
      "[download] 100% of    3.23MiB in 00:00:03 at 1.01MiB/s                 \n",
      "[ExtractAudio] Destination: ..\\data\\raw\\dementia_diaries\\audio\\P4 & 5 Our DEEP News Audio MayJune 2020 - Dodgy Doings Down In Dingly Dell_830480797.wav\n"
     ]
    },
    {
     "name": "stderr",
     "output_type": "stream",
     "text": [
      "Downloading Diaries:  33%|▎| 1205/3628 [1:06:01<4:27:19,"
     ]
    },
    {
     "name": "stdout",
     "output_type": "stream",
     "text": [
      "[download] 100% of    3.32MiB in 00:00:03 at 981.44KiB/s               \n",
      "[ExtractAudio] Destination: ..\\data\\raw\\dementia_diaries\\audio\\Pages 6 7 and 8  Our DEEP News  MayJune2020_829899244.wav\n"
     ]
    },
    {
     "name": "stderr",
     "output_type": "stream",
     "text": [
      "Downloading Diaries:  33%|▎| 1206/3628 [1:06:08<4:29:37,"
     ]
    },
    {
     "name": "stdout",
     "output_type": "stream",
     "text": [
      "[download] 100% of    4.00MiB in 00:00:03 at 1.06MiB/s                 \n",
      "[ExtractAudio] Destination: ..\\data\\raw\\dementia_diaries\\audio\\Pages 1- 3 MayJune 2020 Our DEEP News_829879150.wav\n"
     ]
    },
    {
     "name": "stderr",
     "output_type": "stream",
     "text": [
      "Downloading Diaries:  33%|▎| 1207/3628 [1:06:15<4:39:50,"
     ]
    },
    {
     "name": "stdout",
     "output_type": "stream",
     "text": [
      "[download] 100% of    3.34MiB in 00:00:02 at 1.20MiB/s                 \n",
      "[ExtractAudio] Destination: ..\\data\\raw\\dementia_diaries\\audio\\Human contact - Dementia and Covid_824496124.wav\n"
     ]
    },
    {
     "name": "stderr",
     "output_type": "stream",
     "text": [
      "Downloading Diaries:  33%|▎| 1208/3628 [1:06:23<4:48:46,"
     ]
    },
    {
     "name": "stdout",
     "output_type": "stream",
     "text": [
      "[download] 100% of    3.79MiB in 00:00:03 at 1.08MiB/s                 \n",
      "[ExtractAudio] Destination: ..\\data\\raw\\dementia_diaries\\audio\\Dementia, Covid and Emotions_824421931.wav\n"
     ]
    },
    {
     "name": "stderr",
     "output_type": "stream",
     "text": [
      "Downloading Diaries:  33%|▎| 1209/3628 [1:06:30<4:45:53,"
     ]
    },
    {
     "name": "stdout",
     "output_type": "stream",
     "text": [
      "[download] 100% of    1.52MiB in 00:00:01 at 1.03MiB/s                 \n",
      "[ExtractAudio] Destination: ..\\data\\raw\\dementia_diaries\\audio\\Chris plays �I can sing a rainbow� during the key workers Thursday Clapping - wonderful!_824388406.wav\n"
     ]
    },
    {
     "name": "stderr",
     "output_type": "stream",
     "text": [
      "Downloading Diaries:  33%|▎| 1210/3628 [1:06:35<4:17:24,"
     ]
    },
    {
     "name": "stdout",
     "output_type": "stream",
     "text": [
      "[download] 100% of  876.69KiB in 00:00:00 at 979.85KiB/s                 \n",
      "[ExtractAudio] Destination: ..\\data\\raw\\dementia_diaries\\audio\\To mark VE Day here�s Chris� lovely rendition of �We�ll Meet Again�_824387848.wav\n"
     ]
    },
    {
     "name": "stderr",
     "output_type": "stream",
     "text": [
      "Downloading Diaries:  33%|▎| 1211/3628 [1:06:38<3:40:37,"
     ]
    },
    {
     "name": "stdout",
     "output_type": "stream",
     "text": [
      "[download] 100% of  876.69KiB in 00:00:01 at 861.01KiB/s               \n",
      "[ExtractAudio] Destination: ..\\data\\raw\\dementia_diaries\\audio\\To mark VE Day here�s Chris� lovely rendition of �We�ll Meet Again�_824386504.wav\n"
     ]
    },
    {
     "name": "stderr",
     "output_type": "stream",
     "text": [
      "Downloading Diaries:  33%|▎| 1212/3628 [1:06:43<3:36:39,"
     ]
    },
    {
     "name": "stdout",
     "output_type": "stream",
     "text": [
      "[download] 100% of    2.31MiB in 00:00:02 at 1013.11KiB/s              \n",
      "[ExtractAudio] Destination: ..\\data\\raw\\dementia_diaries\\audio\\The solace of nature - COVID and dementia_824375239.wav\n"
     ]
    },
    {
     "name": "stderr",
     "output_type": "stream",
     "text": [
      "Downloading Diaries:  33%|▎| 1213/3628 [1:06:50<3:50:15,"
     ]
    },
    {
     "name": "stdout",
     "output_type": "stream",
     "text": [
      "[download] 100% of    1.87MiB in 00:00:02 at 848.03KiB/s               \n",
      "[ExtractAudio] Destination: ..\\data\\raw\\dementia_diaries\\audio\\It's lovely to hear the birdsong in George�s woods. This will transport you._821017681.wav\n"
     ]
    },
    {
     "name": "stderr",
     "output_type": "stream",
     "text": [
      "Downloading Diaries:  33%|▎| 1214/3628 [1:06:54<3:31:48,"
     ]
    },
    {
     "name": "stdout",
     "output_type": "stream",
     "text": [
      "[download] 100% of    1.24MiB in 00:00:01 at 1.05MiB/s                 \n",
      "[ExtractAudio] Destination: ..\\data\\raw\\dementia_diaries\\audio\\Gail reminds us of the need to be patient with people with dementia._821017243.wav\n"
     ]
    },
    {
     "name": "stderr",
     "output_type": "stream",
     "text": [
      "Downloading Diaries:  33%|▎| 1215/3628 [1:06:58<3:16:26,"
     ]
    },
    {
     "name": "stdout",
     "output_type": "stream",
     "text": [
      "[download] 100% of  267.56KiB in 00:00:00 at 585.52KiB/s               \n",
      "[ExtractAudio] Destination: ..\\data\\raw\\dementia_diaries\\audio\\Raymond has been struggling a bit more this week. Hope things improve for you Raymond X_821016829.wav\n"
     ]
    },
    {
     "name": "stderr",
     "output_type": "stream",
     "text": [
      "Downloading Diaries:  34%|▎| 1216/3628 [1:07:01<3:00:43,"
     ]
    },
    {
     "name": "stdout",
     "output_type": "stream",
     "text": [
      "[download] 100% of    1.84MiB in 00:00:01 at 1.21MiB/s                 \n",
      "[ExtractAudio] Destination: ..\\data\\raw\\dementia_diaries\\audio\\Melvyn encourages us all to make a contribution if we can. You�re a star Melvyn._821016277.wav\n"
     ]
    },
    {
     "name": "stderr",
     "output_type": "stream",
     "text": [
      "Downloading Diaries:  34%|▎| 1217/3628 [1:07:06<3:01:34,"
     ]
    },
    {
     "name": "stdout",
     "output_type": "stream",
     "text": [
      "[download] 100% of    1.24MiB in 00:00:01 at 1.06MiB/s                 \n",
      "[ExtractAudio] Destination: ..\\data\\raw\\dementia_diaries\\audio\\Melvyn has been on Jeremy Vine again - sticking up for the underdog._821015734.wav\n"
     ]
    },
    {
     "name": "stderr",
     "output_type": "stream",
     "text": [
      "Downloading Diaries:  34%|▎| 1218/3628 [1:07:10<3:00:51,"
     ]
    },
    {
     "name": "stdout",
     "output_type": "stream",
     "text": [
      "[download] 100% of    1.70MiB in 00:00:01 at 1.07MiB/s                 \n",
      "[ExtractAudio] Destination: ..\\data\\raw\\dementia_diaries\\audio\\Melvyn pulls no punches in this highly charged diary about death in care homes_821015095.wav\n"
     ]
    },
    {
     "name": "stderr",
     "output_type": "stream",
     "text": [
      "Downloading Diaries:  34%|▎| 1219/3628 [1:07:15<3:00:32,"
     ]
    },
    {
     "name": "stdout",
     "output_type": "stream",
     "text": [
      "[download] 100% of  512.37KiB in 00:00:00 at 809.57KiB/s               \n",
      "[ExtractAudio] Destination: ..\\data\\raw\\dementia_diaries\\audio\\Gail shares her poem about not giving up�._821014498.wav\n"
     ]
    },
    {
     "name": "stderr",
     "output_type": "stream",
     "text": [
      "Downloading Diaries:  34%|▎| 1220/3628 [1:07:19<3:00:36,"
     ]
    },
    {
     "name": "stdout",
     "output_type": "stream",
     "text": [
      "[download] 100% of    1.07MiB in 00:00:01 at 1.07MiB/s                   \n",
      "[ExtractAudio] Destination: ..\\data\\raw\\dementia_diaries\\audio\\Gail reflects on the many platforms people are using to communicate during lockdown._821014072.wav\n"
     ]
    },
    {
     "name": "stderr",
     "output_type": "stream",
     "text": [
      "Downloading Diaries:  34%|▎| 1221/3628 [1:07:24<2:58:11,"
     ]
    },
    {
     "name": "stdout",
     "output_type": "stream",
     "text": [
      "[download] 100% of    1.11MiB in 00:00:00 at 1.12MiB/s                   \n",
      "[ExtractAudio] Destination: ..\\data\\raw\\dementia_diaries\\audio\\The ocean helps Gail cope with the daily annoyances of technology._821013109.wav\n"
     ]
    },
    {
     "name": "stderr",
     "output_type": "stream",
     "text": [
      "Downloading Diaries:  34%|▎| 1222/3628 [1:07:29<3:05:59,"
     ]
    },
    {
     "name": "stdout",
     "output_type": "stream",
     "text": [
      "[download] 100% of    1.27MiB in 00:00:01 at 1.13MiB/s                 \n",
      "[ExtractAudio] Destination: ..\\data\\raw\\dementia_diaries\\audio\\Wow - a great poem from Gail to mark VE Day._821012695.wav\n"
     ]
    },
    {
     "name": "stderr",
     "output_type": "stream",
     "text": [
      "Downloading Diaries:  34%|▎| 1223/3628 [1:07:34<3:09:52,"
     ]
    },
    {
     "name": "stdout",
     "output_type": "stream",
     "text": [
      "[download] 100% of    1.06MiB in 00:00:01 at 1.05MiB/s                   \n",
      "[ExtractAudio] Destination: ..\\data\\raw\\dementia_diaries\\audio\\Peter recounts a lovely story about the restorative power of fish and chips._821012023.wav\n"
     ]
    },
    {
     "name": "stderr",
     "output_type": "stream",
     "text": [
      "Downloading Diaries:  34%|▎| 1224/3628 [1:07:37<2:49:11,"
     ]
    },
    {
     "name": "stdout",
     "output_type": "stream",
     "text": [
      "[download] 100% of  324.34KiB in 00:00:00 at 834.33KiB/s               \n",
      "[ExtractAudio] Destination: ..\\data\\raw\\dementia_diaries\\audio\\Shelagh looks forward to the most special meal of her life so far._821011528.wav\n"
     ]
    },
    {
     "name": "stderr",
     "output_type": "stream",
     "text": [
      "Downloading Diaries:  34%|▎| 1225/3628 [1:07:40<2:41:44,"
     ]
    },
    {
     "name": "stdout",
     "output_type": "stream",
     "text": [
      "[download] 100% of    1.34MiB in 00:00:01 at 1.09MiB/s                 \n",
      "[ExtractAudio] Destination: ..\\data\\raw\\dementia_diaries\\audio\\Frances has found an online NHS consultation much more productive._821011054.wav\n"
     ]
    },
    {
     "name": "stderr",
     "output_type": "stream",
     "text": [
      "Downloading Diaries:  34%|▎| 1226/3628 [1:07:44<2:32:56,"
     ]
    },
    {
     "name": "stdout",
     "output_type": "stream",
     "text": [
      "[download] 100% of  575.52KiB in 00:00:00 at 937.92KiB/s                 \n",
      "[ExtractAudio] Destination: ..\\data\\raw\\dementia_diaries\\audio\\Happy Tandemer has been enjoying the VE day celebrations._821010511.wav\n"
     ]
    },
    {
     "name": "stderr",
     "output_type": "stream",
     "text": [
      "Downloading Diaries:  34%|▎| 1227/3628 [1:07:48<2:38:40,"
     ]
    },
    {
     "name": "stdout",
     "output_type": "stream",
     "text": [
      "[download] 100% of  255.18KiB in 00:00:00 at 482.15KiB/s               \n",
      "[ExtractAudio] Destination: ..\\data\\raw\\dementia_diaries\\audio\\A lovely poem from Lorraine about Lockdown._821010136.wav\n"
     ]
    },
    {
     "name": "stderr",
     "output_type": "stream",
     "text": [
      "Downloading Diaries:  34%|▎| 1228/3628 [1:07:54<3:00:04,"
     ]
    },
    {
     "name": "stdout",
     "output_type": "stream",
     "text": [
      "[download] 100% of    3.04MiB in 00:00:02 at 1.12MiB/s                 \n",
      "[ExtractAudio] Destination: ..\\data\\raw\\dementia_diaries\\audio\\In this letter Keith reminds his old adversary that people with dementia are stronger together._821009491.wav\n"
     ]
    },
    {
     "name": "stderr",
     "output_type": "stream",
     "text": [
      "Downloading Diaries:  34%|▎| 1229/3628 [1:07:58<2:56:19,"
     ]
    },
    {
     "name": "stdout",
     "output_type": "stream",
     "text": [
      "[download] 100% of  726.30KiB in 00:00:00 at 900.79KiB/s                 \n",
      "[ExtractAudio] Destination: ..\\data\\raw\\dementia_diaries\\audio\\Julie recounts some evocative memories of childhood._821006680.wav\n"
     ]
    },
    {
     "name": "stderr",
     "output_type": "stream",
     "text": [
      "Downloading Diaries:  34%|▎| 1230/3628 [1:08:03<3:03:07,"
     ]
    },
    {
     "name": "stdout",
     "output_type": "stream",
     "text": [
      "[download] 100% of    1.17MiB in 00:00:01 at 1.01MiB/s                 \n",
      "[ExtractAudio] Destination: ..\\data\\raw\\dementia_diaries\\audio\\Jacqui reminds us of the importance of being clear in our speech._821006143.wav\n"
     ]
    },
    {
     "name": "stderr",
     "output_type": "stream",
     "text": [
      "Downloading Diaries:  34%|▎| 1231/3628 [1:08:07<2:57:55,"
     ]
    },
    {
     "name": "stdout",
     "output_type": "stream",
     "text": [
      "[download] 100% of    1.52MiB in 00:00:01 at 1.02MiB/s                 \n",
      "[ExtractAudio] Destination: ..\\data\\raw\\dementia_diaries\\audio\\Dreane has had her spirits lifted by the kindness of neighbours on VE Day._821004865.wav\n"
     ]
    },
    {
     "name": "stderr",
     "output_type": "stream",
     "text": [
      "Downloading Diaries:  34%|▎| 1232/3628 [1:08:10<2:39:56,"
     ]
    },
    {
     "name": "stdout",
     "output_type": "stream",
     "text": [
      "[download] 100% of  517.15KiB in 00:00:00 at 684.10KiB/s                 \n",
      "[ExtractAudio] Destination: ..\\data\\raw\\dementia_diaries\\audio\\Raymond has just come out of hospital but is feeling well-supported._821004016.wav\n"
     ]
    },
    {
     "name": "stderr",
     "output_type": "stream",
     "text": [
      "Downloading Diaries:  34%|▎| 1233/3628 [1:08:14<2:44:15,"
     ]
    },
    {
     "name": "stdout",
     "output_type": "stream",
     "text": [
      "[download] 100% of    1.80MiB in 00:00:01 at 1.14MiB/s                 \n",
      "[ExtractAudio] Destination: ..\\data\\raw\\dementia_diaries\\audio\\Agnes feels she is fading from reality._821002519.wav\n"
     ]
    },
    {
     "name": "stderr",
     "output_type": "stream",
     "text": [
      "Downloading Diaries:  34%|▎| 1234/3628 [1:08:18<2:40:05,"
     ]
    },
    {
     "name": "stdout",
     "output_type": "stream",
     "text": [
      "[download] 100% of  886.25KiB in 00:00:00 at 947.41KiB/s                 \n",
      "[ExtractAudio] Destination: ..\\data\\raw\\dementia_diaries\\audio\\Never work with children or animals Glenda, especially cows._821001856.wav\n"
     ]
    },
    {
     "name": "stderr",
     "output_type": "stream",
     "text": [
      "Downloading Diaries:  34%|▎| 1235/3628 [1:08:23<2:45:32,"
     ]
    },
    {
     "name": "stdout",
     "output_type": "stream",
     "text": [
      "[download] 100% of    1.32MiB in 00:00:01 at 1.07MiB/s                 \n",
      "[ExtractAudio] Destination: ..\\data\\raw\\dementia_diaries\\audio\\Dory reads some more from the lovely �Lost Words�_820999528.wav\n"
     ]
    },
    {
     "name": "stderr",
     "output_type": "stream",
     "text": [
      "Downloading Diaries:  34%|▎| 1236/3628 [1:08:27<2:52:24,"
     ]
    },
    {
     "name": "stdout",
     "output_type": "stream",
     "text": [
      "[download] 100% of    1.36MiB in 00:00:01 at 847.10KiB/s               \n",
      "[ExtractAudio] Destination: ..\\data\\raw\\dementia_diaries\\audio\\Two wonderful poems beautifully read by George_820999147.wav\n"
     ]
    },
    {
     "name": "stderr",
     "output_type": "stream",
     "text": [
      "Downloading Diaries:  34%|▎| 1237/3628 [1:08:32<2:55:49,"
     ]
    },
    {
     "name": "stdout",
     "output_type": "stream",
     "text": [
      "[download] 100% of  766.53KiB in 00:00:00 at 987.64KiB/s                 \n",
      "[ExtractAudio] Destination: ..\\data\\raw\\dementia_diaries\\audio\\Keith Poem 1_818031454.wav\n"
     ]
    },
    {
     "name": "stderr",
     "output_type": "stream",
     "text": [
      "Downloading Diaries:  34%|▎| 1238/3628 [1:08:57<6:56:37,"
     ]
    },
    {
     "name": "stdout",
     "output_type": "stream",
     "text": [
      "[download] 100% of   23.61MiB in 00:00:20 at 1.14MiB/s                   \n",
      "[ExtractAudio] Destination: ..\\data\\raw\\dementia_diaries\\audio\\Clean Gardening with George and friends- Audio 7th May 2020_816383479.wav\n"
     ]
    },
    {
     "name": "stderr",
     "output_type": "stream",
     "text": [
      "Downloading Diaries:  34%|▎| 1239/3628 [1:09:06<6:38:28,"
     ]
    },
    {
     "name": "stdout",
     "output_type": "stream",
     "text": [
      "[download] 100% of  405.97KiB in 00:00:00 at 696.92KiB/s               \n",
      "[ExtractAudio] Destination: ..\\data\\raw\\dementia_diaries\\audio\\Chris reads her poem �The Rainbow Children�_815727304.wav\n"
     ]
    },
    {
     "name": "stderr",
     "output_type": "stream",
     "text": [
      "Downloading Diaries:  34%|▎| 1240/3628 [1:09:12<5:51:34,"
     ]
    },
    {
     "name": "stdout",
     "output_type": "stream",
     "text": [
      "[download] 100% of    1.93MiB in 00:00:02 at 684.69KiB/s               \n",
      "[ExtractAudio] Destination: ..\\data\\raw\\dementia_diaries\\audio\\Wendy describes the deja-vu she is experiencing during the coronavirus crisis._815724505.wav\n"
     ]
    },
    {
     "name": "stderr",
     "output_type": "stream",
     "text": [
      "Downloading Diaries:  34%|▎| 1241/3628 [1:09:16<4:57:10,"
     ]
    },
    {
     "name": "stdout",
     "output_type": "stream",
     "text": [
      "[download] 100% of  249.66KiB in 00:00:00 at 475.32KiB/s               \n",
      "[ExtractAudio] Destination: ..\\data\\raw\\dementia_diaries\\audio\\The sound of birdsong from Chris' garden. Lovely._815723389.wav\n"
     ]
    },
    {
     "name": "stderr",
     "output_type": "stream",
     "text": [
      "Downloading Diaries:  34%|▎| 1242/3628 [1:09:20<4:17:30,"
     ]
    },
    {
     "name": "stdout",
     "output_type": "stream",
     "text": [
      "[download] 100% of    1.18MiB in 00:00:01 at 976.17KiB/s               \n",
      "[ExtractAudio] Destination: ..\\data\\raw\\dementia_diaries\\audio\\Dory reads some more lovely passages from �The Lost Words�_815722120.wav\n"
     ]
    },
    {
     "name": "stderr",
     "output_type": "stream",
     "text": [
      "Downloading Diaries:  34%|▎| 1243/3628 [1:09:26<4:05:31,"
     ]
    },
    {
     "name": "stdout",
     "output_type": "stream",
     "text": [
      "[download] 100% of    1.50MiB in 00:00:01 at 954.28KiB/s               \n",
      "[ExtractAudio] Destination: ..\\data\\raw\\dementia_diaries\\audio\\Dory reads some lovely passages from �The Lost Words�_815718742.wav\n"
     ]
    },
    {
     "name": "stderr",
     "output_type": "stream",
     "text": [
      "Downloading Diaries:  34%|▎| 1244/3628 [1:09:30<3:43:01,"
     ]
    },
    {
     "name": "stdout",
     "output_type": "stream",
     "text": [
      "[download] 100% of  864.62KiB in 00:00:00 at 961.44KiB/s                 \n",
      "[ExtractAudio] Destination: ..\\data\\raw\\dementia_diaries\\audio\\Dory has been feeling down, but she�s coming through._815717830.wav\n"
     ]
    },
    {
     "name": "stderr",
     "output_type": "stream",
     "text": [
      "Downloading Diaries:  34%|▎| 1245/3628 [1:09:35<3:43:06,"
     ]
    },
    {
     "name": "stdout",
     "output_type": "stream",
     "text": [
      "[download] 100% of    1.92MiB in 00:00:01 at 990.22KiB/s               \n",
      "[ExtractAudio] Destination: ..\\data\\raw\\dementia_diaries\\audio\\Dory reads �Coronas letter to Humanity�_815717164.wav\n"
     ]
    },
    {
     "name": "stderr",
     "output_type": "stream",
     "text": [
      "Downloading Diaries:  34%|▎| 1246/3628 [1:09:42<3:47:56,"
     ]
    },
    {
     "name": "stdout",
     "output_type": "stream",
     "text": [
      "[download] 100% of    2.09MiB in 00:00:01 at 1.10MiB/s                 \n",
      "[ExtractAudio] Destination: ..\\data\\raw\\dementia_diaries\\audio\\Chris plays a fitting tribute to Colonel Tom as well as to the NHS and other key workers._815714044.wav\n"
     ]
    },
    {
     "name": "stderr",
     "output_type": "stream",
     "text": [
      "Downloading Diaries:  34%|▎| 1247/3628 [1:09:46<3:37:58,"
     ]
    },
    {
     "name": "stdout",
     "output_type": "stream",
     "text": [
      "[download] 100% of    1.26MiB in 00:00:01 at 842.84KiB/s               \n",
      "[ExtractAudio] Destination: ..\\data\\raw\\dementia_diaries\\audio\\A lovely reading by George  of Gillian Clarke's  �Miracle on St David�s Day�_815414146.wav\n"
     ]
    },
    {
     "name": "stderr",
     "output_type": "stream",
     "text": [
      "Downloading Diaries:  34%|▎| 1248/3628 [1:09:52<3:39:20,"
     ]
    },
    {
     "name": "stdout",
     "output_type": "stream",
     "text": [
      "[download] 100% of    1.76MiB in 00:00:02 at 873.34KiB/s               \n",
      "[ExtractAudio] Destination: ..\\data\\raw\\dementia_diaries\\audio\\George�s description of the woods is so vivid - please listen._815412940.wav\n"
     ]
    },
    {
     "name": "stderr",
     "output_type": "stream",
     "text": [
      "Downloading Diaries:  34%|▎| 1249/3628 [1:09:56<3:20:47,"
     ]
    },
    {
     "name": "stdout",
     "output_type": "stream",
     "text": [
      "[download] 100% of    1.33MiB in 00:00:01 at 812.40KiB/s               \n",
      "[ExtractAudio] Destination: ..\\data\\raw\\dementia_diaries\\audio\\A lovely walk in the woods with George, wren, crow, black-cap and others._815412550.wav\n"
     ]
    },
    {
     "name": "stderr",
     "output_type": "stream",
     "text": [
      "Downloading Diaries:  34%|▎| 1250/3628 [1:10:02<3:35:24,"
     ]
    },
    {
     "name": "stdout",
     "output_type": "stream",
     "text": [
      "[download] 100% of    1.70MiB in 00:00:01 at 873.38KiB/s               \n",
      "[ExtractAudio] Destination: ..\\data\\raw\\dementia_diaries\\audio\\George explains why it�s important to start from the perspective of people with dementia._815412016.wav\n"
     ]
    },
    {
     "name": "stderr",
     "output_type": "stream",
     "text": [
      "Downloading Diaries:  34%|▎| 1251/3628 [1:10:07<3:25:04,"
     ]
    },
    {
     "name": "stdout",
     "output_type": "stream",
     "text": [
      "[download] 100% of  945.72KiB in 00:00:01 at 851.50KiB/s               \n",
      "[ExtractAudio] Destination: ..\\data\\raw\\dementia_diaries\\audio\\Avoid a soggy bottom by listening to Frances._815411653.wav\n"
     ]
    },
    {
     "name": "stderr",
     "output_type": "stream",
     "text": [
      "Downloading Diaries:  35%|▎| 1252/3628 [1:10:10<3:04:00,"
     ]
    },
    {
     "name": "stdout",
     "output_type": "stream",
     "text": [
      "[download] 100% of  357.38KiB in 00:00:00 at 693.69KiB/s               \n",
      "[ExtractAudio] Destination: ..\\data\\raw\\dementia_diaries\\audio\\Steve gives a great reading of this anonymous poem about the glories of tea._815411398.wav\n"
     ]
    },
    {
     "name": "stderr",
     "output_type": "stream",
     "text": [
      "Downloading Diaries:  35%|▎| 1253/3628 [1:10:13<2:43:53,"
     ]
    },
    {
     "name": "stdout",
     "output_type": "stream",
     "text": [
      "[download] 100% of  453.24KiB in 00:00:00 at 659.71KiB/s               \n",
      "[ExtractAudio] Destination: ..\\data\\raw\\dementia_diaries\\audio\\Gail reads her poem �My Lockdown Bubble� - it�s great - give it a listen!_815410993.wav\n"
     ]
    },
    {
     "name": "stderr",
     "output_type": "stream",
     "text": [
      "Downloading Diaries:  35%|▎| 1254/3628 [1:10:18<2:49:40,"
     ]
    },
    {
     "name": "stdout",
     "output_type": "stream",
     "text": [
      "[download] 100% of    1.78MiB in 00:00:01 at 1.05MiB/s                 \n",
      "[ExtractAudio] Destination: ..\\data\\raw\\dementia_diaries\\audio\\A brilliant and inspirational first diary from new diarist Gail._815410279.wav\n"
     ]
    },
    {
     "name": "stderr",
     "output_type": "stream",
     "text": [
      "Downloading Diaries:  35%|▎| 1255/3628 [1:10:23<2:57:01,"
     ]
    },
    {
     "name": "stdout",
     "output_type": "stream",
     "text": [
      "[download] 100% of    1.03MiB in 00:00:01 at 959.89KiB/s               \n",
      "[ExtractAudio] Destination: ..\\data\\raw\\dementia_diaries\\audio\\Two diaries within five minutes shows what the sunshine does to Frances_815409136.wav\n"
     ]
    },
    {
     "name": "stderr",
     "output_type": "stream",
     "text": [
      "Downloading Diaries:  35%|▎| 1256/3628 [1:10:27<2:50:06,"
     ]
    },
    {
     "name": "stdout",
     "output_type": "stream",
     "text": [
      "[download] 100% of  476.16KiB in 00:00:00 at 680.38KiB/s               \n",
      "[ExtractAudio] Destination: ..\\data\\raw\\dementia_diaries\\audio\\Stephen has just recorded his hundredth video !! That's quite an achievement Steve._815408818.wav\n"
     ]
    },
    {
     "name": "stderr",
     "output_type": "stream",
     "text": [
      "Downloading Diaries:  35%|▎| 1257/3628 [1:10:30<2:33:52,"
     ]
    },
    {
     "name": "stdout",
     "output_type": "stream",
     "text": [
      "[download] 100% of  866.72KiB in 00:00:01 at 862.19KiB/s                 \n",
      "[ExtractAudio] Destination: ..\\data\\raw\\dementia_diaries\\audio\\Keith has words of encouragement for those struggling to maintain social isolation._815407660.wav\n"
     ]
    },
    {
     "name": "stderr",
     "output_type": "stream",
     "text": [
      "Downloading Diaries:  35%|▎| 1258/3628 [1:10:33<2:23:42,"
     ]
    },
    {
     "name": "stdout",
     "output_type": "stream",
     "text": [
      "[download] 100% of  491.66KiB in 00:00:00 at 780.27KiB/s               \n",
      "[ExtractAudio] Destination: ..\\data\\raw\\dementia_diaries\\audio\\Lorraine has been brightened up by other diarists at their ZOOM meeting  �the fog has cleared�_815407291.wav\n"
     ]
    },
    {
     "name": "stderr",
     "output_type": "stream",
     "text": [
      "Downloading Diaries:  35%|▎| 1259/3628 [1:10:37<2:29:47,"
     ]
    },
    {
     "name": "stdout",
     "output_type": "stream",
     "text": [
      "[download] 100% of  914.65KiB in 00:00:00 at 948.87KiB/s                 \n",
      "[ExtractAudio] Destination: ..\\data\\raw\\dementia_diaries\\audio\\Frances has been listening to other diarists experiences of lockdown._815406430.wav\n"
     ]
    },
    {
     "name": "stderr",
     "output_type": "stream",
     "text": [
      "Downloading Diaries:  35%|▎| 1260/3628 [1:10:40<2:24:25,"
     ]
    },
    {
     "name": "stdout",
     "output_type": "stream",
     "text": [
      "[download] 100% of  924.88KiB in 00:00:00 at 991.08KiB/s                 \n",
      "[ExtractAudio] Destination: ..\\data\\raw\\dementia_diaries\\audio\\Glenda has been taking a break from exercise and is enjoying pottering._815405968.wav\n"
     ]
    },
    {
     "name": "stderr",
     "output_type": "stream",
     "text": [
      "Downloading Diaries:  35%|▎| 1261/3628 [1:10:52<4:02:01,"
     ]
    },
    {
     "name": "stdout",
     "output_type": "stream",
     "text": [
      "[download] 100% of    7.87MiB in 00:00:07 at 1.01MiB/s                   \n",
      "[ExtractAudio] Destination: ..\\data\\raw\\dementia_diaries\\audio\\Our DEEP News Audio Part One Pages 1 To 5 April May 2020_813228835.wav\n"
     ]
    },
    {
     "name": "stderr",
     "output_type": "stream",
     "text": [
      "Downloading Diaries:  35%|▎| 1262/3628 [1:11:07<5:48:34,"
     ]
    },
    {
     "name": "stdout",
     "output_type": "stream",
     "text": [
      "[download] 100% of   10.34MiB in 00:00:10 at 1.01MiB/s                   \n",
      "[ExtractAudio] Destination: ..\\data\\raw\\dementia_diaries\\audio\\Part two - Page 6 to Page 12 audio version of April - May 2020 Our DEEP News_812737510.wav\n"
     ]
    },
    {
     "name": "stderr",
     "output_type": "stream",
     "text": [
      "Downloading Diaries:  35%|▎| 1263/3628 [1:11:39<10:21:39"
     ]
    },
    {
     "name": "stdout",
     "output_type": "stream",
     "text": [
      "[download] 100% of   26.97MiB in 00:00:25 at 1.05MiB/s                   \n",
      "[ExtractAudio] Destination: ..\\data\\raw\\dementia_diaries\\audio\\Life in lockdown with Dory and Frannie Session Two audio recording_811378606.wav\n"
     ]
    },
    {
     "name": "stderr",
     "output_type": "stream",
     "text": [
      "Downloading Diaries:  35%|▎| 1264/3628 [1:12:10<13:16:27"
     ]
    },
    {
     "name": "stdout",
     "output_type": "stream",
     "text": [
      "[download] 100% of   22.94MiB in 00:00:21 at 1.05MiB/s                   \n",
      "[ExtractAudio] Destination: ..\\data\\raw\\dementia_diaries\\audio\\Dirty gardening with George Rook and friends audio - session one 30420_810508078.wav\n"
     ]
    },
    {
     "name": "stderr",
     "output_type": "stream",
     "text": [
      "Downloading Diaries:  35%|▎| 1265/3628 [1:12:21<11:25:03"
     ]
    },
    {
     "name": "stdout",
     "output_type": "stream",
     "text": [
      "[download] 100% of    1.40MiB in 00:00:01 at 801.83KiB/s               \n",
      "[ExtractAudio] Destination: ..\\data\\raw\\dementia_diaries\\audio\\Chris underlines the importance of consistent information about COVID._809696587.wav\n"
     ]
    },
    {
     "name": "stderr",
     "output_type": "stream",
     "text": [
      "Downloading Diaries:  35%|▎| 1266/3628 [1:12:24<8:37:32,"
     ]
    },
    {
     "name": "stdout",
     "output_type": "stream",
     "text": [
      "[download] 100% of  405.94KiB in 00:00:00 at 656.15KiB/s               \n",
      "[ExtractAudio] Destination: ..\\data\\raw\\dementia_diaries\\audio\\Melvyn finally got on the Jeremy Vine Show and �gave the government two barrels�._809686510.wav\n"
     ]
    },
    {
     "name": "stderr",
     "output_type": "stream",
     "text": [
      "Downloading Diaries:  35%|▎| 1267/3628 [1:12:27<6:39:53,"
     ]
    },
    {
     "name": "stdout",
     "output_type": "stream",
     "text": [
      "[download] 100% of  676.71KiB in 00:00:00 at 863.94KiB/s                 \n",
      "[ExtractAudio] Destination: ..\\data\\raw\\dementia_diaries\\audio\\After COVID has passed, dementia will remain a pressing issue, as Tommy reminds us._809683798.wav\n"
     ]
    },
    {
     "name": "stderr",
     "output_type": "stream",
     "text": [
      "Downloading Diaries:  35%|▎| 1268/3628 [1:12:31<5:29:38,"
     ]
    },
    {
     "name": "stdout",
     "output_type": "stream",
     "text": [
      "[download] 100% of  929.04KiB in 00:00:00 at 983.98KiB/s                 \n",
      "[ExtractAudio] Destination: ..\\data\\raw\\dementia_diaries\\audio\\Martin looks back on his life on the occasion of his birthday._809683390.wav\n"
     ]
    },
    {
     "name": "stderr",
     "output_type": "stream",
     "text": [
      "Downloading Diaries:  35%|▎| 1269/3628 [1:12:34<4:25:35,"
     ]
    },
    {
     "name": "stdout",
     "output_type": "stream",
     "text": [
      "[download] 100% of  444.63KiB in 00:00:00 at 757.36KiB/s               \n",
      "[ExtractAudio] Destination: ..\\data\\raw\\dementia_diaries\\audio\\Happy Tandemer has been stargazing._809682910.wav\n"
     ]
    },
    {
     "name": "stderr",
     "output_type": "stream",
     "text": [
      "Downloading Diaries:  35%|▎| 1270/3628 [1:12:38<3:51:42,"
     ]
    },
    {
     "name": "stdout",
     "output_type": "stream",
     "text": [
      "[download] 100% of  901.04KiB in 00:00:01 at 895.52KiB/s                 \n",
      "[ExtractAudio] Destination: ..\\data\\raw\\dementia_diaries\\audio\\Happy Tandemer has enjoyed her first ZOOM meeting with friends from church_809682592.wav\n"
     ]
    },
    {
     "name": "stderr",
     "output_type": "stream",
     "text": [
      "Downloading Diaries:  35%|▎| 1271/3628 [1:12:42<3:25:05,"
     ]
    },
    {
     "name": "stdout",
     "output_type": "stream",
     "text": [
      "[download] 100% of  235.72KiB in 00:00:00 at 522.17KiB/s               \n",
      "[ExtractAudio] Destination: ..\\data\\raw\\dementia_diaries\\audio\\Raymond says thanks for the newsletter - and for the calls he is getting !_809682298.wav\n"
     ]
    },
    {
     "name": "stderr",
     "output_type": "stream",
     "text": [
      "Downloading Diaries:  35%|▎| 1272/3628 [1:12:46<3:18:03,"
     ]
    },
    {
     "name": "stdout",
     "output_type": "stream",
     "text": [
      "[download] 100% of    1.73MiB in 00:00:01 at 1.16MiB/s                 \n",
      "[ExtractAudio] Destination: ..\\data\\raw\\dementia_diaries\\audio\\Agnes feels she has woken to an unfamiliar world._809681986.wav\n"
     ]
    },
    {
     "name": "stderr",
     "output_type": "stream",
     "text": [
      "Downloading Diaries:  35%|▎| 1273/3628 [1:12:51<3:14:24,"
     ]
    },
    {
     "name": "stdout",
     "output_type": "stream",
     "text": [
      "[download] 100% of  754.03KiB in 00:00:00 at 936.93KiB/s                 \n",
      "[ExtractAudio] Destination: ..\\data\\raw\\dementia_diaries\\audio\\Rae is feeling so emotionally numb, she wonders if she might be dead._809681509.wav\n"
     ]
    },
    {
     "name": "stderr",
     "output_type": "stream",
     "text": [
      "Downloading Diaries:  35%|▎| 1274/3628 [1:12:56<3:11:42,"
     ]
    },
    {
     "name": "stdout",
     "output_type": "stream",
     "text": [
      "[download] 100% of  531.72KiB in 00:00:00 at 736.01KiB/s               \n",
      "[ExtractAudio] Destination: ..\\data\\raw\\dementia_diaries\\audio\\Joy is feeling blessed that she has a garden._809681110.wav\n"
     ]
    },
    {
     "name": "stderr",
     "output_type": "stream",
     "text": [
      "Downloading Diaries:  35%|▎| 1275/3628 [1:13:01<3:12:09,"
     ]
    },
    {
     "name": "stdout",
     "output_type": "stream",
     "text": [
      "[download] 100% of    2.24MiB in 00:00:02 at 1.11MiB/s                 \n",
      "[ExtractAudio] Destination: ..\\data\\raw\\dementia_diaries\\audio\\Agnes is delighted with the support she got from Scottish Gas_809680654.wav\n"
     ]
    },
    {
     "name": "stderr",
     "output_type": "stream",
     "text": [
      "Downloading Diaries:  35%|▎| 1276/3628 [1:13:06<3:13:45,"
     ]
    },
    {
     "name": "stdout",
     "output_type": "stream",
     "text": [
      "[download] 100% of    1.02MiB in 00:00:01 at 954.13KiB/s               \n",
      "[ExtractAudio] Destination: ..\\data\\raw\\dementia_diaries\\audio\\A lovely reading by Dreane of WB Yeats� the Lake Isle of Innisfree_809680084.wav\n"
     ]
    },
    {
     "name": "stderr",
     "output_type": "stream",
     "text": [
      "Downloading Diaries:  35%|▎| 1277/3628 [1:13:10<3:04:52,"
     ]
    },
    {
     "name": "stdout",
     "output_type": "stream",
     "text": [
      "[download] 100% of  400.76KiB in 00:00:00 at 598.67KiB/s               \n",
      "[ExtractAudio] Destination: ..\\data\\raw\\dementia_diaries\\audio\\Stephen reminds us that there�s a lot of good people around._809679640.wav\n"
     ]
    },
    {
     "name": "stderr",
     "output_type": "stream",
     "text": [
      "Downloading Diaries:  35%|▎| 1278/3628 [1:13:13<2:44:46,"
     ]
    },
    {
     "name": "stdout",
     "output_type": "stream",
     "text": [
      "[download] 100% of  181.47KiB in 00:00:00 at 484.93KiB/s               \n",
      "[ExtractAudio] Destination: ..\\data\\raw\\dementia_diaries\\audio\\Raymond wishes everyone well and looks forward to getting back to normal_809679277.wav\n"
     ]
    },
    {
     "name": "stderr",
     "output_type": "stream",
     "text": [
      "Downloading Diaries:  35%|▎| 1279/3628 [1:13:16<2:35:00,"
     ]
    },
    {
     "name": "stdout",
     "output_type": "stream",
     "text": [
      "[download] 100% of 1020.82KiB in 00:00:01 at 1016.85KiB/s                \n",
      "[ExtractAudio] Destination: ..\\data\\raw\\dementia_diaries\\audio\\Glenda reads Welsh Nursery Rhymes and listens to birdsong_809679010.wav\n"
     ]
    },
    {
     "name": "stderr",
     "output_type": "stream",
     "text": [
      "Downloading Diaries:  35%|▎| 1280/3628 [1:13:20<2:29:54,"
     ]
    },
    {
     "name": "stdout",
     "output_type": "stream",
     "text": [
      "[download] 100% of  343.49KiB in 00:00:00 at 668.26KiB/s               \n",
      "[ExtractAudio] Destination: ..\\data\\raw\\dementia_diaries\\audio\\Stephen is finding it hard to focus,  and being stuck indoors isn't helping._809678626.wav\n"
     ]
    },
    {
     "name": "stderr",
     "output_type": "stream",
     "text": [
      "Downloading Diaries:  35%|▎| 1281/3628 [1:13:24<2:26:44,"
     ]
    },
    {
     "name": "stdout",
     "output_type": "stream",
     "text": [
      "[download] 100% of    1.15MiB in 00:00:01 at 979.80KiB/s               \n",
      "[ExtractAudio] Destination: ..\\data\\raw\\dementia_diaries\\audio\\Tommy's support to medical students has resulted in an amazing poem_809677921.wav\n"
     ]
    },
    {
     "name": "stderr",
     "output_type": "stream",
     "text": [
      "Downloading Diaries:  35%|▎| 1282/3628 [1:13:34<3:40:35,"
     ]
    },
    {
     "name": "stdout",
     "output_type": "stream",
     "text": [
      "[download] 100% of    5.33MiB in 00:00:05 at 948.28KiB/s               \n",
      "[ExtractAudio] Destination: ..\\data\\raw\\dementia_diaries\\audio\\iD Blog - a month in to lockdown_804450319.wav\n"
     ]
    },
    {
     "name": "stderr",
     "output_type": "stream",
     "text": [
      "Downloading Diaries:  35%|▎| 1283/3628 [1:13:39<3:40:52,"
     ]
    },
    {
     "name": "stdout",
     "output_type": "stream",
     "text": [
      "[download] 100% of    1.45MiB in 00:00:01 at 908.03KiB/s               \n",
      "[ExtractAudio] Destination: ..\\data\\raw\\dementia_diaries\\audio\\George reads �the Glory of the Garden� a wonderful piece of Kipling._803891758.wav\n"
     ]
    },
    {
     "name": "stderr",
     "output_type": "stream",
     "text": [
      "Downloading Diaries:  35%|▎| 1284/3628 [1:13:45<3:39:31,"
     ]
    },
    {
     "name": "stdout",
     "output_type": "stream",
     "text": [
      "[download] 100% of    1.38MiB in 00:00:01 at 1.03MiB/s                 \n",
      "[ExtractAudio] Destination: ..\\data\\raw\\dementia_diaries\\audio\\An irreverent poem from Dory about life during lockdown_803889349.wav\n"
     ]
    },
    {
     "name": "stderr",
     "output_type": "stream",
     "text": [
      "Downloading Diaries:  35%|▎| 1285/3628 [1:13:48<3:15:01,"
     ]
    },
    {
     "name": "stdout",
     "output_type": "stream",
     "text": [
      "[download] 100% of    1.43MiB in 00:00:01 at 1.01MiB/s                 \n",
      "[ExtractAudio] Destination: ..\\data\\raw\\dementia_diaries\\audio\\Tracey has discovered a new way of knitting - thanks to YouTube._803887417.wav\n"
     ]
    },
    {
     "name": "stderr",
     "output_type": "stream",
     "text": [
      "Downloading Diaries:  35%|▎| 1286/3628 [1:13:54<3:23:43,"
     ]
    },
    {
     "name": "stdout",
     "output_type": "stream",
     "text": [
      "[download] 100% of    2.84MiB in 00:00:02 at 976.75KiB/s               \n",
      "[ExtractAudio] Destination: ..\\data\\raw\\dementia_diaries\\audio\\Melvyn is unimpressed by the guests on the Andrew Marr show._803886388.wav\n"
     ]
    },
    {
     "name": "stderr",
     "output_type": "stream",
     "text": [
      "Downloading Diaries:  35%|▎| 1287/3628 [1:13:59<3:17:18,"
     ]
    },
    {
     "name": "stdout",
     "output_type": "stream",
     "text": [
      "[download] 100% of    1.92MiB in 00:00:01 at 1.04MiB/s                 \n",
      "[ExtractAudio] Destination: ..\\data\\raw\\dementia_diaries\\audio\\Peter remembers his father in this touching diary._803884384.wav\n"
     ]
    },
    {
     "name": "stderr",
     "output_type": "stream",
     "text": [
      "Downloading Diaries:  36%|▎| 1288/3628 [1:14:03<3:05:02,"
     ]
    },
    {
     "name": "stdout",
     "output_type": "stream",
     "text": [
      "[download] 100% of  705.49KiB in 00:00:00 at 890.05KiB/s                 \n",
      "[ExtractAudio] Destination: ..\\data\\raw\\dementia_diaries\\audio\\Shelagh reads a wonderful poem describing how dementia can make her feel._803883487.wav\n"
     ]
    },
    {
     "name": "stderr",
     "output_type": "stream",
     "text": [
      "Downloading Diaries:  36%|▎| 1289/3628 [1:14:08<3:10:15,"
     ]
    },
    {
     "name": "stdout",
     "output_type": "stream",
     "text": [
      "[download] 100% of    1.16MiB in 00:00:01 at 935.75KiB/s               \n",
      "[ExtractAudio] Destination: ..\\data\\raw\\dementia_diaries\\audio\\Tommy�s feeling exhausted by his struggle with dementia. But he won't give in._803882791.wav\n"
     ]
    },
    {
     "name": "stderr",
     "output_type": "stream",
     "text": [
      "Downloading Diaries:  36%|▎| 1290/3628 [1:14:12<3:04:14,"
     ]
    },
    {
     "name": "stdout",
     "output_type": "stream",
     "text": [
      "[download] 100% of    1.08MiB in 00:00:01 at 993.00KiB/s               \n",
      "[ExtractAudio] Destination: ..\\data\\raw\\dementia_diaries\\audio\\Melvyn has been making a right old noise on the thursday night clapping for the NHS._803882047.wav\n"
     ]
    },
    {
     "name": "stderr",
     "output_type": "stream",
     "text": [
      "Downloading Diaries:  36%|▎| 1291/3628 [1:14:18<3:11:19,"
     ]
    },
    {
     "name": "stdout",
     "output_type": "stream",
     "text": [
      "[download] 100% of    3.04MiB in 00:00:02 at 1.15MiB/s                 \n",
      "[ExtractAudio] Destination: ..\\data\\raw\\dementia_diaries\\audio\\Melvyn berates the government for its handling of the COVID19 crisis._803881528.wav\n"
     ]
    },
    {
     "name": "stderr",
     "output_type": "stream",
     "text": [
      "Downloading Diaries:  36%|▎| 1292/3628 [1:14:24<3:28:17,"
     ]
    },
    {
     "name": "stdout",
     "output_type": "stream",
     "text": [
      "[download] 100% of    2.79MiB in 00:00:02 at 1.13MiB/s                 \n",
      "[ExtractAudio] Destination: ..\\data\\raw\\dementia_diaries\\audio\\Melvyn laments the decline of the NHS since 1948._803878654.wav\n"
     ]
    },
    {
     "name": "stderr",
     "output_type": "stream",
     "text": [
      "Downloading Diaries:  36%|▎| 1293/3628 [1:14:29<3:28:31,"
     ]
    },
    {
     "name": "stdout",
     "output_type": "stream",
     "text": [
      "[download] 100% of    1.35MiB in 00:00:01 at 1.04MiB/s                 \n",
      "[ExtractAudio] Destination: ..\\data\\raw\\dementia_diaries\\audio\\Can anyone help Agnes with ideas for dealing with sciatica_803875876.wav\n"
     ]
    },
    {
     "name": "stderr",
     "output_type": "stream",
     "text": [
      "Downloading Diaries:  36%|▎| 1294/3628 [1:14:35<3:27:05,"
     ]
    },
    {
     "name": "stdout",
     "output_type": "stream",
     "text": [
      "[download] 100% of    1.11MiB in 00:00:01 at 968.32KiB/s               \n",
      "[ExtractAudio] Destination: ..\\data\\raw\\dementia_diaries\\audio\\Agnes is experiencing �skin hunger�._803875267.wav\n"
     ]
    },
    {
     "name": "stderr",
     "output_type": "stream",
     "text": [
      "Downloading Diaries:  36%|▎| 1295/3628 [1:14:39<3:10:08,"
     ]
    },
    {
     "name": "stdout",
     "output_type": "stream",
     "text": [
      "[download] 100% of  292.51KiB in 00:00:00 at 642.63KiB/s               \n",
      "[ExtractAudio] Destination: ..\\data\\raw\\dementia_diaries\\audio\\Stephen is really enjoying the Dementia Diarists ZOOM meetings._803872195.wav\n"
     ]
    },
    {
     "name": "stderr",
     "output_type": "stream",
     "text": [
      "Downloading Diaries:  36%|▎| 1296/3628 [1:15:11<8:35:56,"
     ]
    },
    {
     "name": "stdout",
     "output_type": "stream",
     "text": [
      "[download] 100% of   33.52MiB in 00:00:30 at 1.09MiB/s                   \n",
      "[ExtractAudio] Destination: ..\\data\\raw\\dementia_diaries\\audio\\The whisperer and the voicebox - audio of a  DEEP webinar 9th April 2020_803285764.wav\n"
     ]
    },
    {
     "name": "stderr",
     "output_type": "stream",
     "text": [
      "Downloading Diaries:  36%|▎| 1297/3628 [1:15:24<8:26:53,"
     ]
    },
    {
     "name": "stdout",
     "output_type": "stream",
     "text": [
      "[download] 100% of    1.51MiB in 00:00:01 at 860.88KiB/s               \n",
      "[ExtractAudio] Destination: ..\\data\\raw\\dementia_diaries\\audio\\Chris plays a moving rendition of �You�ll never walk alone� in honour of the NHS and key workers._801156034.wav\n"
     ]
    },
    {
     "name": "stderr",
     "output_type": "stream",
     "text": [
      "Downloading Diaries:  36%|▎| 1298/3628 [1:15:49<10:46:57"
     ]
    },
    {
     "name": "stdout",
     "output_type": "stream",
     "text": [
      "[download] 100% of   23.96MiB in 00:00:22 at 1.06MiB/s                   \n",
      "[ExtractAudio] Destination: ..\\data\\raw\\dementia_diaries\\audio\\Life in lockdown with Dory and Frannie_800155885.wav\n"
     ]
    },
    {
     "name": "stderr",
     "output_type": "stream",
     "text": [
      "Downloading Diaries:  36%|▎| 1299/3628 [1:15:58<9:21:27,"
     ]
    },
    {
     "name": "stdout",
     "output_type": "stream",
     "text": [
      "[download] 100% of  906.21KiB in 00:00:01 at 838.20KiB/s               \n",
      "[ExtractAudio] Destination: ..\\data\\raw\\dementia_diaries\\audio\\George lifts our spirits with this apposite Wordsworth poem._799180519.wav\n"
     ]
    },
    {
     "name": "stderr",
     "output_type": "stream",
     "text": [
      "Downloading Diaries:  36%|▎| 1300/3628 [1:16:03<7:30:29,"
     ]
    },
    {
     "name": "stdout",
     "output_type": "stream",
     "text": [
      "[download] 100% of    1.84MiB in 00:00:01 at 945.77KiB/s               \n",
      "[ExtractAudio] Destination: ..\\data\\raw\\dementia_diaries\\audio\\Dory reads chapter 5 of �the boy, the mole, the fox and the horse�_799180156.wav\n"
     ]
    },
    {
     "name": "stderr",
     "output_type": "stream",
     "text": [
      "Downloading Diaries:  36%|▎| 1301/3628 [1:16:09<6:21:16,"
     ]
    },
    {
     "name": "stdout",
     "output_type": "stream",
     "text": [
      "[download] 100% of    1.88MiB in 00:00:01 at 986.22KiB/s               \n",
      "[ExtractAudio] Destination: ..\\data\\raw\\dementia_diaries\\audio\\Dory reads chapter 4 of �the boy, the mole, the fox and the horse�_799179649.wav\n"
     ]
    },
    {
     "name": "stderr",
     "output_type": "stream",
     "text": [
      "Downloading Diaries:  36%|▎| 1302/3628 [1:16:13<5:18:41,"
     ]
    },
    {
     "name": "stdout",
     "output_type": "stream",
     "text": [
      "[download] 100% of    1.17MiB in 00:00:01 at 939.47KiB/s               \n",
      "[ExtractAudio] Destination: ..\\data\\raw\\dementia_diaries\\audio\\Dory reads chapter 3 of �the boy, the mole, the fox and the horse�_799178467.wav\n"
     ]
    },
    {
     "name": "stderr",
     "output_type": "stream",
     "text": [
      "Downloading Diaries:  36%|▎| 1303/3628 [1:16:19<4:44:13,"
     ]
    },
    {
     "name": "stdout",
     "output_type": "stream",
     "text": [
      "[download] 100% of    1.68MiB in 00:00:01 at 883.93KiB/s               \n",
      "[ExtractAudio] Destination: ..\\data\\raw\\dementia_diaries\\audio\\In another lovely diary from his garden George invites us to listen quietly._799176244.wav\n"
     ]
    },
    {
     "name": "stderr",
     "output_type": "stream",
     "text": [
      "Downloading Diaries:  36%|▎| 1304/3628 [1:16:24<4:22:14,"
     ]
    },
    {
     "name": "stdout",
     "output_type": "stream",
     "text": [
      "[download] 100% of    1.11MiB in 00:00:01 at 995.56KiB/s               \n",
      "[ExtractAudio] Destination: ..\\data\\raw\\dementia_diaries\\audio\\Dreane feels for younger people who might be struggling more with lockdown._799175329.wav\n"
     ]
    },
    {
     "name": "stderr",
     "output_type": "stream",
     "text": [
      "Downloading Diaries:  36%|▎| 1305/3628 [1:16:29<3:56:25,"
     ]
    },
    {
     "name": "stdout",
     "output_type": "stream",
     "text": [
      "[download] 100% of  617.13KiB in 00:00:00 at 782.46KiB/s                 \n",
      "[ExtractAudio] Destination: ..\\data\\raw\\dementia_diaries\\audio\\Happy Tandemer has been taking part in singing with other members of her church._799174840.wav\n"
     ]
    },
    {
     "name": "stderr",
     "output_type": "stream",
     "text": [
      "Downloading Diaries:  36%|▎| 1306/3628 [1:16:33<3:34:49,"
     ]
    },
    {
     "name": "stdout",
     "output_type": "stream",
     "text": [
      "[download] 100% of  629.09KiB in 00:00:00 at 897.19KiB/s                 \n",
      "[ExtractAudio] Destination: ..\\data\\raw\\dementia_diaries\\audio\\Martin says goodbye to his beloved beagle Ruby._799174204.wav\n"
     ]
    },
    {
     "name": "stderr",
     "output_type": "stream",
     "text": [
      "Downloading Diaries:  36%|▎| 1307/3628 [1:16:36<3:09:29,"
     ]
    },
    {
     "name": "stdout",
     "output_type": "stream",
     "text": [
      "[download] 100% of  980.90KiB in 00:00:01 at 878.14KiB/s               \n",
      "[ExtractAudio] Destination: ..\\data\\raw\\dementia_diaries\\audio\\Happy Tandemer is enjoying the garden in this lovely diary_799173907.wav\n"
     ]
    },
    {
     "name": "stderr",
     "output_type": "stream",
     "text": [
      "Downloading Diaries:  36%|▎| 1308/3628 [1:16:41<3:02:20,"
     ]
    },
    {
     "name": "stdout",
     "output_type": "stream",
     "text": [
      "[download] 100% of  170.76KiB in 00:00:00 at 410.73KiB/s               \n",
      "[ExtractAudio] Destination: ..\\data\\raw\\dementia_diaries\\audio\\Raymond calling in to wish everyone well._799173397.wav\n"
     ]
    },
    {
     "name": "stderr",
     "output_type": "stream",
     "text": [
      "Downloading Diaries:  36%|▎| 1309/3628 [1:16:45<2:53:26,"
     ]
    },
    {
     "name": "stdout",
     "output_type": "stream",
     "text": [
      "[download] 100% of  609.66KiB in 00:00:00 at 777.15KiB/s                 \n",
      "[ExtractAudio] Destination: ..\\data\\raw\\dementia_diaries\\audio\\Although worried by lockdown, Rae is feeling a lot more settled._799173064.wav\n"
     ]
    },
    {
     "name": "stderr",
     "output_type": "stream",
     "text": [
      "Downloading Diaries:  36%|▎| 1310/3628 [1:16:49<2:49:15,"
     ]
    },
    {
     "name": "stdout",
     "output_type": "stream",
     "text": [
      "[download] 100% of    1.36MiB in 00:00:01 at 929.89KiB/s               \n",
      "[ExtractAudio] Destination: ..\\data\\raw\\dementia_diaries\\audio\\Dory reads from �the boy, the mole, the fox and the horse�_795167860.wav\n"
     ]
    },
    {
     "name": "stderr",
     "output_type": "stream",
     "text": [
      "Downloading Diaries:  36%|▎| 1311/3628 [1:16:53<2:50:06,"
     ]
    },
    {
     "name": "stdout",
     "output_type": "stream",
     "text": [
      "[download] 100% of 1018.36KiB in 00:00:01 at 790.44KiB/s               \n",
      "[ExtractAudio] Destination: ..\\data\\raw\\dementia_diaries\\audio\\This lockdown is a little like a bereavement says Chris._795167533.wav\n"
     ]
    },
    {
     "name": "stderr",
     "output_type": "stream",
     "text": [
      "Downloading Diaries:  36%|▎| 1312/3628 [1:16:58<2:53:35,"
     ]
    },
    {
     "name": "stdout",
     "output_type": "stream",
     "text": [
      "[download] 100% of  530.10KiB in 00:00:00 at 630.75KiB/s                 \n",
      "[ExtractAudio] Destination: ..\\data\\raw\\dementia_diaries\\audio\\Some people enjoy food less as they get older, as James explains._795167302.wav\n"
     ]
    },
    {
     "name": "stderr",
     "output_type": "stream",
     "text": [
      "Downloading Diaries:  36%|▎| 1313/3628 [1:17:01<2:36:59,"
     ]
    },
    {
     "name": "stdout",
     "output_type": "stream",
     "text": [
      "[download] 100% of  127.19KiB in 00:00:00 at 411.82KiB/s               \n",
      "[ExtractAudio] Destination: ..\\data\\raw\\dementia_diaries\\audio\\Easter Greetings from Lorraine_795166756.wav\n"
     ]
    },
    {
     "name": "stderr",
     "output_type": "stream",
     "text": [
      "Downloading Diaries:  36%|▎| 1314/3628 [1:17:05<2:37:44,"
     ]
    },
    {
     "name": "stdout",
     "output_type": "stream",
     "text": [
      "[download] 100% of  504.48KiB in 00:00:00 at 660.68KiB/s                 \n",
      "[ExtractAudio] Destination: ..\\data\\raw\\dementia_diaries\\audio\\Joy is seeing some light at the end of the tunnel after her horrifying assault last year._795166354.wav\n"
     ]
    },
    {
     "name": "stderr",
     "output_type": "stream",
     "text": [
      "Downloading Diaries:  36%|▎| 1315/3628 [1:17:10<2:43:02,"
     ]
    },
    {
     "name": "stdout",
     "output_type": "stream",
     "text": [
      "[download] 100% of    1.84MiB in 00:00:02 at 903.42KiB/s               \n",
      "[ExtractAudio] Destination: ..\\data\\raw\\dementia_diaries\\audio\\Ron ponders the future role of artificial intelligence in the lives of people with dementia._795165859.wav\n"
     ]
    },
    {
     "name": "stderr",
     "output_type": "stream",
     "text": [
      "Downloading Diaries:  36%|▎| 1316/3628 [1:17:13<2:33:46,"
     ]
    },
    {
     "name": "stdout",
     "output_type": "stream",
     "text": [
      "[download] 100% of  467.17KiB in 00:00:00 at 687.04KiB/s               \n",
      "[ExtractAudio] Destination: ..\\data\\raw\\dementia_diaries\\audio\\Dory has been doing some transcribing on Dementia Diaries, and has plans._795165364.wav\n"
     ]
    },
    {
     "name": "stderr",
     "output_type": "stream",
     "text": [
      "Downloading Diaries:  36%|▎| 1317/3628 [1:17:18<2:45:11,"
     ]
    },
    {
     "name": "stdout",
     "output_type": "stream",
     "text": [
      "[download] 100% of    1.50MiB in 00:00:01 at 1.13MiB/s                 \n",
      "[ExtractAudio] Destination: ..\\data\\raw\\dementia_diaries\\audio\\Wayne�s lockdown is now fully locked down._795165004.wav\n"
     ]
    },
    {
     "name": "stderr",
     "output_type": "stream",
     "text": [
      "Downloading Diaries:  36%|▎| 1318/3628 [1:17:23<2:51:34,"
     ]
    },
    {
     "name": "stdout",
     "output_type": "stream",
     "text": [
      "[download] 100% of    1.51MiB in 00:00:01 at 1.13MiB/s                 \n",
      "[ExtractAudio] Destination: ..\\data\\raw\\dementia_diaries\\audio\\Glenda is feeling much better and thanks people for their messages on Facebook._795164659.wav\n"
     ]
    },
    {
     "name": "stderr",
     "output_type": "stream",
     "text": [
      "Downloading Diaries:  36%|▎| 1319/3628 [1:17:28<2:54:42,"
     ]
    },
    {
     "name": "stdout",
     "output_type": "stream",
     "text": [
      "[download] 100% of  412.99KiB in 00:00:00 at 831.29KiB/s               \n",
      "[ExtractAudio] Destination: ..\\data\\raw\\dementia_diaries\\audio\\Stephen enjoyed the Dementia Diarists ZOOM meeting._795164281.wav\n"
     ]
    },
    {
     "name": "stderr",
     "output_type": "stream",
     "text": [
      "Downloading Diaries:  36%|▎| 1320/3628 [1:17:32<2:48:44,"
     ]
    },
    {
     "name": "stdout",
     "output_type": "stream",
     "text": [
      "[download] 100% of    1.12MiB in 00:00:01 at 946.28KiB/s               \n",
      "[ExtractAudio] Destination: ..\\data\\raw\\dementia_diaries\\audio\\Frances is excited about plans for a carers group alongside those for people with dementia._795164074.wav\n"
     ]
    },
    {
     "name": "stderr",
     "output_type": "stream",
     "text": [
      "Downloading Diaries:  36%|▎| 1321/3628 [1:17:36<2:53:19,"
     ]
    },
    {
     "name": "stdout",
     "output_type": "stream",
     "text": [
      "[download] 100% of    2.88MiB in 00:00:02 at 1.15MiB/s                 \n",
      "[ExtractAudio] Destination: ..\\data\\raw\\dementia_diaries\\audio\\Melvyn fears for people with dementia and other vulnerable people during this crisis._795163819.wav\n"
     ]
    },
    {
     "name": "stderr",
     "output_type": "stream",
     "text": [
      "Downloading Diaries:  36%|▎| 1322/3628 [1:17:42<3:05:22,"
     ]
    },
    {
     "name": "stdout",
     "output_type": "stream",
     "text": [
      "[download] 100% of    1.80MiB in 00:00:01 at 1001.15KiB/s              \n",
      "[ExtractAudio] Destination: ..\\data\\raw\\dementia_diaries\\audio\\Melvyn has some good questions about the government response to COVID19._795163375.wav\n"
     ]
    },
    {
     "name": "stderr",
     "output_type": "stream",
     "text": [
      "Downloading Diaries:  36%|▎| 1323/3628 [1:17:46<2:57:11,"
     ]
    },
    {
     "name": "stdout",
     "output_type": "stream",
     "text": [
      "[download] 100% of  345.92KiB in 00:00:00 at 637.11KiB/s               \n",
      "[ExtractAudio] Destination: ..\\data\\raw\\dementia_diaries\\audio\\Lorraine shares some happy sanctuary time. Thanks Lorraine._795163030.wav\n"
     ]
    },
    {
     "name": "stderr",
     "output_type": "stream",
     "text": [
      "Downloading Diaries:  36%|▎| 1324/3628 [1:17:51<2:55:27,"
     ]
    },
    {
     "name": "stdout",
     "output_type": "stream",
     "text": [
      "[download] 100% of    1.10MiB in 00:00:01 at 1.00MiB/s                 \n",
      "[ExtractAudio] Destination: ..\\data\\raw\\dementia_diaries\\audio\\Wayne says the Diarists meeting was brilliant - if a little overwhelming._795162736.wav\n"
     ]
    },
    {
     "name": "stderr",
     "output_type": "stream",
     "text": [
      "Downloading Diaries:  37%|▎| 1325/3628 [1:17:54<2:44:25,"
     ]
    },
    {
     "name": "stdout",
     "output_type": "stream",
     "text": [
      "[download] 100% of  419.30KiB in 00:00:00 at 862.96KiB/s               \n",
      "[ExtractAudio] Destination: ..\\data\\raw\\dementia_diaries\\audio\\Stephen is finding isolation tough._795162466.wav\n"
     ]
    },
    {
     "name": "stderr",
     "output_type": "stream",
     "text": [
      "Downloading Diaries:  37%|▎| 1326/3628 [1:17:58<2:37:27,"
     ]
    },
    {
     "name": "stdout",
     "output_type": "stream",
     "text": [
      "[download] 100% of    1.36MiB in 00:00:01 at 982.23KiB/s               \n",
      "[ExtractAudio] Destination: ..\\data\\raw\\dementia_diaries\\audio\\Frances hopes that lockdown may help people to become more at peace with themselves._795162232.wav\n"
     ]
    },
    {
     "name": "stderr",
     "output_type": "stream",
     "text": [
      "Downloading Diaries:  37%|▎| 1327/3628 [1:18:03<2:50:26,"
     ]
    },
    {
     "name": "stdout",
     "output_type": "stream",
     "text": [
      "[download] 100% of    2.32MiB in 00:00:02 at 1.09MiB/s                 \n",
      "[ExtractAudio] Destination: ..\\data\\raw\\dementia_diaries\\audio\\Agnes finds solace from a devastatingly vivid dream._795161911.wav\n"
     ]
    },
    {
     "name": "stderr",
     "output_type": "stream",
     "text": [
      "Downloading Diaries:  37%|▎| 1328/3628 [1:18:08<2:54:16,"
     ]
    },
    {
     "name": "stdout",
     "output_type": "stream",
     "text": [
      "[download] 100% of    1.23MiB in 00:00:01 at 934.63KiB/s               \n",
      "[ExtractAudio] Destination: ..\\data\\raw\\dementia_diaries\\audio\\Keith finds positives among the challenges of lockdown._795161374.wav\n"
     ]
    },
    {
     "name": "stderr",
     "output_type": "stream",
     "text": [
      "Downloading Diaries:  37%|▎| 1329/3628 [1:18:13<3:01:40,"
     ]
    },
    {
     "name": "stdout",
     "output_type": "stream",
     "text": [
      "[download] 100% of    1.70MiB in 00:00:01 at 1.02MiB/s                 \n",
      "[ExtractAudio] Destination: ..\\data\\raw\\dementia_diaries\\audio\\Agnes has found a way to attend Mass._795161086.wav\n"
     ]
    },
    {
     "name": "stderr",
     "output_type": "stream",
     "text": [
      "Downloading Diaries:  37%|▎| 1330/3628 [1:18:17<2:45:54,"
     ]
    },
    {
     "name": "stdout",
     "output_type": "stream",
     "text": [
      "[download] 100% of  949.53KiB in 00:00:00 at 992.46KiB/s                 \n",
      "[ExtractAudio] Destination: ..\\data\\raw\\dementia_diaries\\audio\\Martin reflects on time during, and after, lockdown._795160768.wav\n"
     ]
    },
    {
     "name": "stderr",
     "output_type": "stream",
     "text": [
      "Downloading Diaries:  37%|▎| 1331/3628 [1:18:39<6:14:46,"
     ]
    },
    {
     "name": "stdout",
     "output_type": "stream",
     "text": [
      "[download] 100% of   22.05MiB in 00:00:20 at 1.08MiB/s                   \n",
      "[ExtractAudio] Destination: ..\\data\\raw\\dementia_diaries\\audio\\Web With Wendy - Session 5 - Technology, with guest playmate Ron Coleman_794501392.wav\n"
     ]
    },
    {
     "name": "stderr",
     "output_type": "stream",
     "text": [
      "Downloading Diaries:  37%|▎| 1332/3628 [1:18:59<8:12:08,"
     ]
    },
    {
     "name": "stdout",
     "output_type": "stream",
     "text": [
      "[download] 100% of    9.81MiB in 00:00:10 at 929.56KiB/s                 \n",
      "[ExtractAudio] Destination: ..\\data\\raw\\dementia_diaries\\audio\\Our DEEP News MarchApril 2020_793736503.wav\n"
     ]
    },
    {
     "name": "stderr",
     "output_type": "stream",
     "text": [
      "Downloading Diaries:  37%|▎| 1333/3628 [1:19:29<11:26:06"
     ]
    },
    {
     "name": "stdout",
     "output_type": "stream",
     "text": [
      "[download] 100% of   25.68MiB in 00:00:23 at 1.08MiB/s                   \n",
      "[ExtractAudio] Destination: ..\\data\\raw\\dementia_diaries\\audio\\Web with Wendy Session 4 - Taking time for me - with guest playmate Agnes Houston_793073455.wav\n"
     ]
    },
    {
     "name": "stderr",
     "output_type": "stream",
     "text": [
      "Downloading Diaries:  37%|▎| 1334/3628 [1:19:39<9:58:50,"
     ]
    },
    {
     "name": "stdout",
     "output_type": "stream",
     "text": [
      "[download] 100% of  312.82KiB in 00:00:00 at 494.42KiB/s               \n",
      "[ExtractAudio] Destination: ..\\data\\raw\\dementia_diaries\\audio\\The perils of supermarket shopping are laid bare by Chris._790531441.wav\n"
     ]
    },
    {
     "name": "stderr",
     "output_type": "stream",
     "text": [
      "Downloading Diaries:  37%|▎| 1335/3628 [1:19:43<7:40:34,"
     ]
    },
    {
     "name": "stdout",
     "output_type": "stream",
     "text": [
      "[download] 100% of  263.37KiB in 00:00:00 at 634.36KiB/s               \n",
      "[ExtractAudio] Destination: ..\\data\\raw\\dementia_diaries\\audio\\Frances illustrates the importance of good communication._790531216.wav\n"
     ]
    },
    {
     "name": "stderr",
     "output_type": "stream",
     "text": [
      "Downloading Diaries:  37%|▎| 1336/3628 [1:19:47<6:08:52,"
     ]
    },
    {
     "name": "stdout",
     "output_type": "stream",
     "text": [
      "[download] 100% of  547.57KiB in 00:00:00 at 761.88KiB/s                 \n",
      "[ExtractAudio] Destination: ..\\data\\raw\\dementia_diaries\\audio\\Lorraine expresses her sadness at her separation from those she loves._790529953.wav\n"
     ]
    },
    {
     "name": "stderr",
     "output_type": "stream",
     "text": [
      "Downloading Diaries:  37%|▎| 1337/3628 [1:19:50<4:57:37,"
     ]
    },
    {
     "name": "stdout",
     "output_type": "stream",
     "text": [
      "[download] 100% of  369.38KiB in 00:00:00 at 374.30KiB/s               \n",
      "[ExtractAudio] Destination: ..\\data\\raw\\dementia_diaries\\audio\\James reminds us that dementia is not on pause for coronavirus._790529788.wav\n"
     ]
    },
    {
     "name": "stderr",
     "output_type": "stream",
     "text": [
      "Downloading Diaries:  37%|▎| 1338/3628 [1:19:53<4:03:06,"
     ]
    },
    {
     "name": "stdout",
     "output_type": "stream",
     "text": [
      "[download] 100% of  499.32KiB in 00:00:00 at 677.97KiB/s                 \n",
      "[ExtractAudio] Destination: ..\\data\\raw\\dementia_diaries\\audio\\Learn some Doric in this diary about local life from Martin._790529548.wav\n"
     ]
    },
    {
     "name": "stderr",
     "output_type": "stream",
     "text": [
      "Downloading Diaries:  37%|▎| 1339/3628 [1:19:58<3:38:52,"
     ]
    },
    {
     "name": "stdout",
     "output_type": "stream",
     "text": [
      "[download] 100% of    1.09MiB in 00:00:01 at 764.70KiB/s               \n",
      "[ExtractAudio] Destination: ..\\data\\raw\\dementia_diaries\\audio\\George3420_790529389.wav\n"
     ]
    },
    {
     "name": "stderr",
     "output_type": "stream",
     "text": [
      "Downloading Diaries:  37%|▎| 1340/3628 [1:20:02<3:27:46,"
     ]
    },
    {
     "name": "stdout",
     "output_type": "stream",
     "text": [
      "[download] 100% of    1.29MiB in 00:00:01 at 957.49KiB/s               \n",
      "[ExtractAudio] Destination: ..\\data\\raw\\dementia_diaries\\audio\\Dory is Zoomed out._790528972.wav\n"
     ]
    },
    {
     "name": "stderr",
     "output_type": "stream",
     "text": [
      "Downloading Diaries:  37%|▎| 1341/3628 [1:20:07<3:21:51,"
     ]
    },
    {
     "name": "stdout",
     "output_type": "stream",
     "text": [
      "[download] 100% of    1.08MiB in 00:00:01 at 1.00MiB/s                 \n",
      "[ExtractAudio] Destination: ..\\data\\raw\\dementia_diaries\\audio\\Glenda�s feeling a lot better today, but is still feeling the isolation._790528303.wav\n"
     ]
    },
    {
     "name": "stderr",
     "output_type": "stream",
     "text": [
      "Downloading Diaries:  37%|▎| 1342/3628 [1:20:11<3:05:52,"
     ]
    },
    {
     "name": "stdout",
     "output_type": "stream",
     "text": [
      "[download] 100% of    1.25MiB in 00:00:01 at 1.02MiB/s                 \n",
      "[ExtractAudio] Destination: ..\\data\\raw\\dementia_diaries\\audio\\Tracey is a bit of a home bod so feels quite at home, at home._790527874.wav\n"
     ]
    },
    {
     "name": "stderr",
     "output_type": "stream",
     "text": [
      "Downloading Diaries:  37%|▎| 1343/3628 [1:20:15<2:49:10,"
     ]
    },
    {
     "name": "stdout",
     "output_type": "stream",
     "text": [
      "[download] 100% of  484.12KiB in 00:00:00 at 812.66KiB/s               \n",
      "[ExtractAudio] Destination: ..\\data\\raw\\dementia_diaries\\audio\\Paul has just been laughing for an hour and a half with the Manettes ZOOM group._790527487.wav\n"
     ]
    },
    {
     "name": "stderr",
     "output_type": "stream",
     "text": [
      "Downloading Diaries:  37%|▎| 1344/3628 [1:20:19<2:49:24,"
     ]
    },
    {
     "name": "stdout",
     "output_type": "stream",
     "text": [
      "[download] 100% of  349.71KiB in 00:00:00 at 648.81KiB/s               \n",
      "[ExtractAudio] Destination: ..\\data\\raw\\dementia_diaries\\audio\\Lorraine really enjoyed using ZOOM for the first time_790092112.wav\n"
     ]
    },
    {
     "name": "stderr",
     "output_type": "stream",
     "text": [
      "Downloading Diaries:  37%|▎| 1345/3628 [1:20:23<2:45:09,"
     ]
    },
    {
     "name": "stdout",
     "output_type": "stream",
     "text": [
      "[download] 100% of  918.30KiB in 00:00:01 at 889.41KiB/s               \n",
      "[ExtractAudio] Destination: ..\\data\\raw\\dementia_diaries\\audio\\People with dementia are no strangers to the isolation that lockdown has created says Tommy._790090579.wav\n"
     ]
    },
    {
     "name": "stderr",
     "output_type": "stream",
     "text": [
      "Downloading Diaries:  37%|▎| 1346/3628 [1:20:28<2:52:12,"
     ]
    },
    {
     "name": "stdout",
     "output_type": "stream",
     "text": [
      "[download] 100% of    1.50MiB in 00:00:01 at 1.01MiB/s                 \n",
      "[ExtractAudio] Destination: ..\\data\\raw\\dementia_diaries\\audio\\Glenda is worried about losing her skills._790090015.wav\n"
     ]
    },
    {
     "name": "stderr",
     "output_type": "stream",
     "text": [
      "Downloading Diaries:  37%|▎| 1347/3628 [1:20:33<2:57:46,"
     ]
    },
    {
     "name": "stdout",
     "output_type": "stream",
     "text": [
      "[download] 100% of    1.94MiB in 00:00:01 at 1.10MiB/s                 \n",
      "[ExtractAudio] Destination: ..\\data\\raw\\dementia_diaries\\audio\\Dreane has had to put things into perspective. A valuable reminder to us all._790089283.wav\n"
     ]
    },
    {
     "name": "stderr",
     "output_type": "stream",
     "text": [
      "Downloading Diaries:  37%|▎| 1348/3628 [1:20:39<3:08:45,"
     ]
    },
    {
     "name": "stdout",
     "output_type": "stream",
     "text": [
      "[download] 100% of    2.18MiB in 00:00:01 at 1.18MiB/s                 \n",
      "[ExtractAudio] Destination: ..\\data\\raw\\dementia_diaries\\audio\\Agnes is having to adopt new strategies in this new reality._790087906.wav\n"
     ]
    },
    {
     "name": "stderr",
     "output_type": "stream",
     "text": [
      "Downloading Diaries:  37%|▎| 1349/3628 [1:20:44<3:09:11,"
     ]
    },
    {
     "name": "stdout",
     "output_type": "stream",
     "text": [
      "[download] 100% of    1.76MiB in 00:00:01 at 1.07MiB/s                 \n",
      "[ExtractAudio] Destination: ..\\data\\raw\\dementia_diaries\\audio\\George encourages us all to focus on the positive._790086895.wav\n"
     ]
    },
    {
     "name": "stderr",
     "output_type": "stream",
     "text": [
      "Downloading Diaries:  37%|▎| 1350/3628 [1:21:05<6:09:33,"
     ]
    },
    {
     "name": "stdout",
     "output_type": "stream",
     "text": [
      "[download] 100% of   19.51MiB in 00:00:18 at 1.07MiB/s                   \n",
      "[ExtractAudio] Destination: ..\\data\\raw\\dementia_diaries\\audio\\Session 3 - Web With Wendy and guest playmate George Rook - Trying something new!_789193063.wav\n"
     ]
    },
    {
     "name": "stderr",
     "output_type": "stream",
     "text": [
      "Downloading Diaries:  37%|▎| 1351/3628 [1:21:29<8:59:56,"
     ]
    },
    {
     "name": "stdout",
     "output_type": "stream",
     "text": [
      "[download] 100% of   16.37MiB in 00:00:15 at 1.04MiB/s                   \n",
      "[ExtractAudio] Destination: ..\\data\\raw\\dementia_diaries\\audio\\Web with Wendy - Session Two - Facing your fears and possible solutions_787615168.wav\n"
     ]
    },
    {
     "name": "stderr",
     "output_type": "stream",
     "text": [
      "Downloading Diaries:  37%|▎| 1352/3628 [1:21:37<7:39:52,"
     ]
    },
    {
     "name": "stdout",
     "output_type": "stream",
     "text": [
      "[download] 100% of  811.95KiB in 00:00:00 at 915.46KiB/s                 \n",
      "[ExtractAudio] Destination: ..\\data\\raw\\dementia_diaries\\audio\\Martin is feeling the benefit of a clip round the ears._786649855.wav\n"
     ]
    },
    {
     "name": "stderr",
     "output_type": "stream",
     "text": [
      "Downloading Diaries:  37%|▎| 1353/3628 [1:21:40<5:54:51,"
     ]
    },
    {
     "name": "stdout",
     "output_type": "stream",
     "text": [
      "[download] 100% of  685.29KiB in 00:00:00 at 804.58KiB/s                 \n",
      "[ExtractAudio] Destination: ..\\data\\raw\\dementia_diaries\\audio\\Rae is feeling better. �I think I�ve landed� she says._786649363.wav\n"
     ]
    },
    {
     "name": "stderr",
     "output_type": "stream",
     "text": [
      "Downloading Diaries:  37%|▎| 1354/3628 [1:21:43<4:44:55,"
     ]
    },
    {
     "name": "stdout",
     "output_type": "stream",
     "text": [
      "[download] 100% of  685.11KiB in 00:00:00 at 891.51KiB/s                 \n",
      "[ExtractAudio] Destination: ..\\data\\raw\\dementia_diaries\\audio\\The Happy Tandemer is feeling moved by the support for the NHS._786648865.wav\n"
     ]
    },
    {
     "name": "stderr",
     "output_type": "stream",
     "text": [
      "Downloading Diaries:  37%|▎| 1355/3628 [1:21:47<4:03:47,"
     ]
    },
    {
     "name": "stdout",
     "output_type": "stream",
     "text": [
      "[download] 100% of  449.58KiB in 00:00:00 at 792.16KiB/s               \n",
      "[ExtractAudio] Destination: ..\\data\\raw\\dementia_diaries\\audio\\Stephen is struggling with self-isolation._786648556.wav\n"
     ]
    },
    {
     "name": "stderr",
     "output_type": "stream",
     "text": [
      "Downloading Diaries:  37%|▎| 1356/3628 [1:21:51<3:44:28,"
     ]
    },
    {
     "name": "stdout",
     "output_type": "stream",
     "text": [
      "[download] 100% of  893.45KiB in 00:00:00 at 916.68KiB/s                 \n",
      "[ExtractAudio] Destination: ..\\data\\raw\\dementia_diaries\\audio\\ZOOM is helping Paul deal with self-isolation._786648013.wav\n"
     ]
    },
    {
     "name": "stderr",
     "output_type": "stream",
     "text": [
      "Downloading Diaries:  37%|▎| 1357/3628 [1:22:19<7:49:13,"
     ]
    },
    {
     "name": "stdout",
     "output_type": "stream",
     "text": [
      "[download] 100% of   23.82MiB in 00:00:24 at 991.08KiB/s                 \n",
      "[ExtractAudio] Destination: ..\\data\\raw\\dementia_diaries\\audio\\Web With Wendy - Session One_783852202.wav\n"
     ]
    },
    {
     "name": "stderr",
     "output_type": "stream",
     "text": [
      "Downloading Diaries:  37%|▎| 1358/3628 [1:22:29<7:22:24,"
     ]
    },
    {
     "name": "stdout",
     "output_type": "stream",
     "text": [
      "[download] 100% of    1.46MiB in 00:00:01 at 827.80KiB/s               \n",
      "[ExtractAudio] Destination: ..\\data\\raw\\dementia_diaries\\audio\\Dory on how she is coping with self isolation._783210088.wav\n"
     ]
    },
    {
     "name": "stderr",
     "output_type": "stream",
     "text": [
      "Downloading Diaries:  37%|▎| 1359/3628 [1:22:34<6:04:35,"
     ]
    },
    {
     "name": "stdout",
     "output_type": "stream",
     "text": [
      "[download] 100% of  610.95KiB in 00:00:00 at 654.65KiB/s                 \n",
      "[ExtractAudio] Destination: ..\\data\\raw\\dementia_diaries\\audio\\James has suspended delivery of his book on driving for the time being._783209443.wav\n"
     ]
    },
    {
     "name": "stderr",
     "output_type": "stream",
     "text": [
      "Downloading Diaries:  37%|▎| 1360/3628 [1:22:38<5:04:58,"
     ]
    },
    {
     "name": "stdout",
     "output_type": "stream",
     "text": [
      "[download] 100% of  239.89KiB in 00:00:00 at 458.15KiB/s               \n",
      "[ExtractAudio] Destination: ..\\data\\raw\\dementia_diaries\\audio\\Raymond hopes everyone is doing OK._783207481.wav\n"
     ]
    },
    {
     "name": "stderr",
     "output_type": "stream",
     "text": [
      "Downloading Diaries:  38%|▍| 1361/3628 [1:22:42<4:15:37,"
     ]
    },
    {
     "name": "stdout",
     "output_type": "stream",
     "text": [
      "[download] 100% of    1.48MiB in 00:00:01 at 899.16KiB/s               \n",
      "[ExtractAudio] Destination: ..\\data\\raw\\dementia_diaries\\audio\\Keith writes a letter to his old adversary. Dear Alzheimer�s._783206164.wav\n"
     ]
    },
    {
     "name": "stderr",
     "output_type": "stream",
     "text": [
      "Downloading Diaries:  38%|▍| 1362/3628 [1:22:46<3:49:29,"
     ]
    },
    {
     "name": "stdout",
     "output_type": "stream",
     "text": [
      "[download] 100% of  489.29KiB in 00:00:00 at 774.82KiB/s               \n",
      "[ExtractAudio] Destination: ..\\data\\raw\\dementia_diaries\\audio\\Rae has moved, but sounds exhausted._783204706.wav\n"
     ]
    },
    {
     "name": "stderr",
     "output_type": "stream",
     "text": [
      "Downloading Diaries:  38%|▍| 1363/3628 [1:22:49<3:12:55,"
     ]
    },
    {
     "name": "stdout",
     "output_type": "stream",
     "text": [
      "[download] 100% of  704.76KiB in 00:00:00 at 871.23KiB/s                 \n",
      "[ExtractAudio] Destination: ..\\data\\raw\\dementia_diaries\\audio\\Martin enthuses about ZOOM as a way of keeping in contact_783204091.wav\n"
     ]
    },
    {
     "name": "stderr",
     "output_type": "stream",
     "text": [
      "Downloading Diaries:  38%|▍| 1364/3628 [1:22:53<2:58:27,"
     ]
    },
    {
     "name": "stdout",
     "output_type": "stream",
     "text": [
      "[download] 100% of    1.64MiB in 00:00:01 at 942.96KiB/s               \n",
      "[ExtractAudio] Destination: ..\\data\\raw\\dementia_diaries\\audio\\Glenda reports on the situation where she lives_783203269.wav\n"
     ]
    },
    {
     "name": "stderr",
     "output_type": "stream",
     "text": [
      "Downloading Diaries:  38%|▍| 1365/3628 [1:22:57<2:51:35,"
     ]
    },
    {
     "name": "stdout",
     "output_type": "stream",
     "text": [
      "[download] 100% of  728.48KiB in 00:00:00 at 793.06KiB/s                 \n",
      "[ExtractAudio] Destination: ..\\data\\raw\\dementia_diaries\\audio\\A lovely message of hope and optimism from Julie_781485331.wav\n"
     ]
    },
    {
     "name": "stderr",
     "output_type": "stream",
     "text": [
      "Downloading Diaries:  38%|▍| 1366/3628 [1:23:01<2:41:44,"
     ]
    },
    {
     "name": "stdout",
     "output_type": "stream",
     "text": [
      "[download] 100% of    1.33MiB in 00:00:01 at 1.10MiB/s                 \n",
      "[ExtractAudio] Destination: ..\\data\\raw\\dementia_diaries\\audio\\�Knickers� Dreane reads her ode to going commando._781484986.wav\n"
     ]
    },
    {
     "name": "stderr",
     "output_type": "stream",
     "text": [
      "Downloading Diaries:  38%|▍| 1367/3628 [1:23:05<2:36:00,"
     ]
    },
    {
     "name": "stdout",
     "output_type": "stream",
     "text": [
      "[download] 100% of  690.56KiB in 00:00:00 at 875.79KiB/s                 \n",
      "[ExtractAudio] Destination: ..\\data\\raw\\dementia_diaries\\audio\\Moving house is a shouty business says Rae._781483744.wav\n"
     ]
    },
    {
     "name": "stderr",
     "output_type": "stream",
     "text": [
      "Downloading Diaries:  38%|▍| 1368/3628 [1:23:09<2:32:21,"
     ]
    },
    {
     "name": "stdout",
     "output_type": "stream",
     "text": [
      "[download] 100% of 1005.85KiB in 00:00:01 at 985.53KiB/s                 \n",
      "[ExtractAudio] Destination: ..\\data\\raw\\dementia_diaries\\audio\\Something from the funny side of dementia from Dreane._781483564.wav\n"
     ]
    },
    {
     "name": "stderr",
     "output_type": "stream",
     "text": [
      "Downloading Diaries:  38%|▍| 1369/3628 [1:23:13<2:35:41,"
     ]
    },
    {
     "name": "stdout",
     "output_type": "stream",
     "text": [
      "[download] 100% of    2.00MiB in 00:00:01 at 1.01MiB/s                 \n",
      "[ExtractAudio] Destination: ..\\data\\raw\\dementia_diaries\\audio\\Jacqui is in a difficult situation with her PA._779522110.wav\n"
     ]
    },
    {
     "name": "stderr",
     "output_type": "stream",
     "text": [
      "Downloading Diaries:  38%|▍| 1370/3628 [1:23:18<2:44:03,"
     ]
    },
    {
     "name": "stdout",
     "output_type": "stream",
     "text": [
      "[download] 100% of  527.34KiB in 00:00:00 at 809.72KiB/s               \n",
      "[ExtractAudio] Destination: ..\\data\\raw\\dementia_diaries\\audio\\Stephen surveys the strange new world but is cracking on._779521885.wav\n"
     ]
    },
    {
     "name": "stderr",
     "output_type": "stream",
     "text": [
      "Downloading Diaries:  38%|▍| 1371/3628 [1:23:22<2:41:26,"
     ]
    },
    {
     "name": "stdout",
     "output_type": "stream",
     "text": [
      "[download] 100% of  917.77KiB in 00:00:00 at 922.06KiB/s                 \n",
      "[ExtractAudio] Destination: ..\\data\\raw\\dementia_diaries\\audio\\Paul was also at the Manettes meeting - he loved it too._779521693.wav\n"
     ]
    },
    {
     "name": "stderr",
     "output_type": "stream",
     "text": [
      "Downloading Diaries:  38%|▍| 1372/3628 [1:23:26<2:39:50,"
     ]
    },
    {
     "name": "stdout",
     "output_type": "stream",
     "text": [
      "[download] 100% of  304.04KiB in 00:00:00 at 652.62KiB/s               \n",
      "[ExtractAudio] Destination: ..\\data\\raw\\dementia_diaries\\audio\\Tommy reports from the first meeting of the Manettes_779521510.wav\n"
     ]
    },
    {
     "name": "stderr",
     "output_type": "stream",
     "text": [
      "Downloading Diaries:  38%|▍| 1373/3628 [1:23:29<2:22:08,"
     ]
    },
    {
     "name": "stdout",
     "output_type": "stream",
     "text": [
      "[download] 100% of  523.21KiB in 00:00:00 at 626.33KiB/s                 \n",
      "[ExtractAudio] Destination: ..\\data\\raw\\dementia_diaries\\audio\\Christine is finding the Sunflower invisible disability lanyard is not recognised by everyone._777644755.wav\n"
     ]
    },
    {
     "name": "stderr",
     "output_type": "stream",
     "text": [
      "Downloading Diaries:  38%|▍| 1374/3628 [1:23:33<2:22:13,"
     ]
    },
    {
     "name": "stdout",
     "output_type": "stream",
     "text": [
      "[download] 100% of    1.13MiB in 00:00:01 at 778.31KiB/s               \n",
      "[ExtractAudio] Destination: ..\\data\\raw\\dementia_diaries\\audio\\Christine described a wonderful act of kindness - big shout out to Dave._777644305.wav\n"
     ]
    },
    {
     "name": "stderr",
     "output_type": "stream",
     "text": [
      "Downloading Diaries:  38%|▍| 1375/3628 [1:23:39<2:47:15,"
     ]
    },
    {
     "name": "stdout",
     "output_type": "stream",
     "text": [
      "[download] 100% of    3.24MiB in 00:00:03 at 1.01MiB/s                 \n",
      "[ExtractAudio] Destination: ..\\data\\raw\\dementia_diaries\\audio\\I fear the NHS is broken says Dory after an emergency this week._777643666.wav\n"
     ]
    },
    {
     "name": "stderr",
     "output_type": "stream",
     "text": [
      "Downloading Diaries:  38%|▍| 1376/3628 [1:23:44<3:01:07,"
     ]
    },
    {
     "name": "stdout",
     "output_type": "stream",
     "text": [
      "[download] 100% of    1.39MiB in 00:00:01 at 903.85KiB/s               \n",
      "[ExtractAudio] Destination: ..\\data\\raw\\dementia_diaries\\audio\\Dory is reminded that kindness is still more common that selfishness._777642841.wav\n"
     ]
    },
    {
     "name": "stderr",
     "output_type": "stream",
     "text": [
      "Downloading Diaries:  38%|▍| 1377/3628 [1:23:49<2:56:10,"
     ]
    },
    {
     "name": "stdout",
     "output_type": "stream",
     "text": [
      "[download] 100% of  171.04KiB in 00:00:00 at 379.01KiB/s               \n",
      "[ExtractAudio] Destination: ..\\data\\raw\\dementia_diaries\\audio\\Raymond hopes everyone is keeping safe._777642487.wav\n"
     ]
    },
    {
     "name": "stderr",
     "output_type": "stream",
     "text": [
      "Downloading Diaries:  38%|▍| 1378/3628 [1:23:52<2:37:38,"
     ]
    },
    {
     "name": "stdout",
     "output_type": "stream",
     "text": [
      "[download] 100% of  913.19KiB in 00:00:01 at 868.06KiB/s               \n",
      "[ExtractAudio] Destination: ..\\data\\raw\\dementia_diaries\\audio\\Professionals need to recognise the costs of engagement says Julie._777641653.wav\n"
     ]
    },
    {
     "name": "stderr",
     "output_type": "stream",
     "text": [
      "Downloading Diaries:  38%|▍| 1379/3628 [1:23:56<2:39:54,"
     ]
    },
    {
     "name": "stdout",
     "output_type": "stream",
     "text": [
      "[download] 100% of  885.01KiB in 00:00:01 at 864.39KiB/s                 \n",
      "[ExtractAudio] Destination: ..\\data\\raw\\dementia_diaries\\audio\\Dreane has had a strange experience of �losing� time._777641209.wav\n"
     ]
    },
    {
     "name": "stderr",
     "output_type": "stream",
     "text": [
      "Downloading Diaries:  38%|▍| 1380/3628 [1:24:01<2:46:45,"
     ]
    },
    {
     "name": "stdout",
     "output_type": "stream",
     "text": [
      "[download] 100% of  945.91KiB in 00:00:01 at 929.36KiB/s                 \n",
      "[ExtractAudio] Destination: ..\\data\\raw\\dementia_diaries\\audio\\Agnes thinks about how to stay connected in the months ahead_777640567.wav\n"
     ]
    },
    {
     "name": "stderr",
     "output_type": "stream",
     "text": [
      "Downloading Diaries:  38%|▍| 1381/3628 [1:24:06<2:49:47,"
     ]
    },
    {
     "name": "stdout",
     "output_type": "stream",
     "text": [
      "[download] 100% of    2.21MiB in 00:00:02 at 1.00MiB/s                 \n",
      "[ExtractAudio] Destination: ..\\data\\raw\\dementia_diaries\\audio\\Every cloud has a silver lining says Agnes._777639934.wav\n"
     ]
    },
    {
     "name": "stderr",
     "output_type": "stream",
     "text": [
      "Downloading Diaries:  38%|▍| 1382/3628 [1:24:10<2:51:28,"
     ]
    },
    {
     "name": "stdout",
     "output_type": "stream",
     "text": [
      "[download] 100% of  398.06KiB in 00:00:00 at 691.17KiB/s               \n",
      "[ExtractAudio] Destination: ..\\data\\raw\\dementia_diaries\\audio\\Raymond has been holding a tarantula._777639250.wav\n"
     ]
    },
    {
     "name": "stderr",
     "output_type": "stream",
     "text": [
      "Downloading Diaries:  38%|▍| 1383/3628 [1:24:15<2:50:00,"
     ]
    },
    {
     "name": "stdout",
     "output_type": "stream",
     "text": [
      "[download] 100% of  712.15KiB in 00:00:00 at 864.18KiB/s                 \n",
      "[ExtractAudio] Destination: ..\\data\\raw\\dementia_diaries\\audio\\Stephen�s COPD group has been suspended due to coronavirus._777638911.wav\n"
     ]
    },
    {
     "name": "stderr",
     "output_type": "stream",
     "text": [
      "Downloading Diaries:  38%|▍| 1384/3628 [1:24:18<2:37:19,"
     ]
    },
    {
     "name": "stdout",
     "output_type": "stream",
     "text": [
      "[download] 100% of  385.45KiB in 00:00:00 at 622.51KiB/s               \n",
      "[ExtractAudio] Destination: ..\\data\\raw\\dementia_diaries\\audio\\Raymond thanks all those who keep the support groups for people with dementia running._777638356.wav\n"
     ]
    },
    {
     "name": "stderr",
     "output_type": "stream",
     "text": [
      "Downloading Diaries:  38%|▍| 1385/3628 [1:24:23<2:43:23,"
     ]
    },
    {
     "name": "stdout",
     "output_type": "stream",
     "text": [
      "[download] 100% of  978.88KiB in 00:00:01 at 682.80KiB/s               \n",
      "[ExtractAudio] Destination: ..\\data\\raw\\dementia_diaries\\audio\\Wendy is grateful that technology can 'remember' things for her_775402153.wav\n"
     ]
    },
    {
     "name": "stderr",
     "output_type": "stream",
     "text": [
      "Downloading Diaries:  38%|▍| 1386/3628 [1:24:28<2:46:10,"
     ]
    },
    {
     "name": "stdout",
     "output_type": "stream",
     "text": [
      "[download] 100% of  895.17KiB in 00:00:01 at 738.91KiB/s               \n",
      "[ExtractAudio] Destination: ..\\data\\raw\\dementia_diaries\\audio\\Wendy reports from the Dementia Enquirers meeting_770014924.wav\n"
     ]
    },
    {
     "name": "stderr",
     "output_type": "stream",
     "text": [
      "Downloading Diaries:  38%|▍| 1387/3628 [1:24:32<2:41:21,"
     ]
    },
    {
     "name": "stdout",
     "output_type": "stream",
     "text": [
      "[download] 100% of    1.90MiB in 00:00:01 at 1.01MiB/s                 \n",
      "[ExtractAudio] Destination: ..\\data\\raw\\dementia_diaries\\audio\\Dory reads from the DEEP newsletter_770013946.wav\n"
     ]
    },
    {
     "name": "stderr",
     "output_type": "stream",
     "text": [
      "Downloading Diaries:  38%|▍| 1388/3628 [1:24:37<2:53:05,"
     ]
    },
    {
     "name": "stdout",
     "output_type": "stream",
     "text": [
      "[download] 100% of    1.73MiB in 00:00:01 at 1.12MiB/s                 \n",
      "[ExtractAudio] Destination: ..\\data\\raw\\dementia_diaries\\audio\\George talks about the importance of the Dementia Enquirers project_770012911.wav\n"
     ]
    },
    {
     "name": "stderr",
     "output_type": "stream",
     "text": [
      "Downloading Diaries:  38%|▍| 1389/3628 [1:24:42<2:53:00,"
     ]
    },
    {
     "name": "stdout",
     "output_type": "stream",
     "text": [
      "[download] 100% of  457.74KiB in 00:00:00 at 830.96KiB/s               \n",
      "[ExtractAudio] Destination: ..\\data\\raw\\dementia_diaries\\audio\\Stephen has been stuck at home_770012644.wav\n"
     ]
    },
    {
     "name": "stderr",
     "output_type": "stream",
     "text": [
      "Downloading Diaries:  38%|▍| 1390/3628 [1:24:45<2:40:53,"
     ]
    },
    {
     "name": "stdout",
     "output_type": "stream",
     "text": [
      "[download] 100% of  240.61KiB in 00:00:00 at 693.03KiB/s               \n",
      "[ExtractAudio] Destination: ..\\data\\raw\\dementia_diaries\\audio\\Raymond is back home after his respite stay._770012500.wav\n"
     ]
    },
    {
     "name": "stderr",
     "output_type": "stream",
     "text": [
      "Downloading Diaries:  38%|▍| 1391/3628 [1:24:50<2:50:48,"
     ]
    },
    {
     "name": "stdout",
     "output_type": "stream",
     "text": [
      "[download] 100% of    1.95MiB in 00:00:02 at 902.70KiB/s               \n",
      "[ExtractAudio] Destination: ..\\data\\raw\\dementia_diaries\\audio\\The Pioneers reflect on Dementia Enquirers Feb 2020_767295328.wav\n"
     ]
    },
    {
     "name": "stderr",
     "output_type": "stream",
     "text": [
      "Downloading Diaries:  38%|▍| 1392/3628 [1:24:55<2:48:39,"
     ]
    },
    {
     "name": "stdout",
     "output_type": "stream",
     "text": [
      "[download] 100% of  924.79KiB in 00:00:01 at 715.07KiB/s               \n",
      "[ExtractAudio] Destination: ..\\data\\raw\\dementia_diaries\\audio\\Martin on ZOOM and overcoming rural isolation._766904569.wav\n"
     ]
    },
    {
     "name": "stderr",
     "output_type": "stream",
     "text": [
      "Downloading Diaries:  38%|▍| 1393/3628 [1:24:59<2:45:01,"
     ]
    },
    {
     "name": "stdout",
     "output_type": "stream",
     "text": [
      "[download] 100% of    1.47MiB in 00:00:01 at 834.00KiB/s               \n",
      "[ExtractAudio] Destination: ..\\data\\raw\\dementia_diaries\\audio\\Martin talks about how is trying to make a difference locally_766904158.wav\n"
     ]
    },
    {
     "name": "stderr",
     "output_type": "stream",
     "text": [
      "Downloading Diaries:  38%|▍| 1394/3628 [1:25:04<2:55:14,"
     ]
    },
    {
     "name": "stdout",
     "output_type": "stream",
     "text": [
      "[download] 100% of  838.20KiB in 00:00:01 at 547.08KiB/s               \n",
      "[ExtractAudio] Destination: ..\\data\\raw\\dementia_diaries\\audio\\More about Martins work with Upstream in Dundee_766903042.wav\n"
     ]
    },
    {
     "name": "stderr",
     "output_type": "stream",
     "text": [
      "Downloading Diaries:  38%|▍| 1395/3628 [1:25:10<3:00:39,"
     ]
    },
    {
     "name": "stdout",
     "output_type": "stream",
     "text": [
      "[download] 100% of    1.49MiB in 00:00:02 at 711.74KiB/s               \n",
      "[ExtractAudio] Destination: ..\\data\\raw\\dementia_diaries\\audio\\Martin describes the work he did with Upstream in Dundee_766902544.wav\n"
     ]
    },
    {
     "name": "stderr",
     "output_type": "stream",
     "text": [
      "Downloading Diaries:  38%|▍| 1396/3628 [1:25:14<2:53:14,"
     ]
    },
    {
     "name": "stdout",
     "output_type": "stream",
     "text": [
      "[download] 100% of  495.40KiB in 00:00:00 at 622.98KiB/s                 \n",
      "[ExtractAudio] Destination: ..\\data\\raw\\dementia_diaries\\audio\\Martin talks about how Life Changes Trust changed his life_766902145.wav\n"
     ]
    },
    {
     "name": "stderr",
     "output_type": "stream",
     "text": [
      "Downloading Diaries:  39%|▍| 1397/3628 [1:25:18<2:52:34,"
     ]
    },
    {
     "name": "stdout",
     "output_type": "stream",
     "text": [
      "[download] 100% of    1.26MiB in 00:00:01 at 729.15KiB/s               \n",
      "[ExtractAudio] Destination: ..\\data\\raw\\dementia_diaries\\audio\\Martin recalls his diagnosis of PCA_766901770.wav\n"
     ]
    },
    {
     "name": "stderr",
     "output_type": "stream",
     "text": [
      "Downloading Diaries:  39%|▍| 1398/3628 [1:25:22<2:44:37,"
     ]
    },
    {
     "name": "stdout",
     "output_type": "stream",
     "text": [
      "[download] 100% of  321.35KiB in 00:00:00 at 472.83KiB/s               \n",
      "[ExtractAudio] Destination: ..\\data\\raw\\dementia_diaries\\audio\\Elaine has had a lovely present from a 6 year old._766810672.wav\n"
     ]
    },
    {
     "name": "stderr",
     "output_type": "stream",
     "text": [
      "Downloading Diaries:  39%|▍| 1399/3628 [1:25:26<2:36:40,"
     ]
    },
    {
     "name": "stdout",
     "output_type": "stream",
     "text": [
      "[download] 100% of  785.56KiB in 00:00:00 at 908.69KiB/s                 \n",
      "[ExtractAudio] Destination: ..\\data\\raw\\dementia_diaries\\audio\\Although Rae is struggling in some ways, she is looking forward to moving soon._766810075.wav\n"
     ]
    },
    {
     "name": "stderr",
     "output_type": "stream",
     "text": [
      "Downloading Diaries:  39%|▍| 1400/3628 [1:25:30<2:30:54,"
     ]
    },
    {
     "name": "stdout",
     "output_type": "stream",
     "text": [
      "[download] 100% of  656.02KiB in 00:00:00 at 923.61KiB/s               \n",
      "[ExtractAudio] Destination: ..\\data\\raw\\dementia_diaries\\audio\\Things are not going well at Stephen�s walking group._766809883.wav\n"
     ]
    },
    {
     "name": "stderr",
     "output_type": "stream",
     "text": [
      "Downloading Diaries:  39%|▍| 1401/3628 [1:25:34<2:32:45,"
     ]
    },
    {
     "name": "stdout",
     "output_type": "stream",
     "text": [
      "[download] 100% of  575.68KiB in 00:00:00 at 829.06KiB/s               \n",
      "[ExtractAudio] Destination: ..\\data\\raw\\dementia_diaries\\audio\\After two hours in cold Carlisle the pub is well deserved._766809532.wav\n"
     ]
    },
    {
     "name": "stderr",
     "output_type": "stream",
     "text": [
      "Downloading Diaries:  39%|▍| 1402/3628 [1:25:37<2:17:22,"
     ]
    },
    {
     "name": "stdout",
     "output_type": "stream",
     "text": [
      "[download] 100% of  652.02KiB in 00:00:00 at 838.29KiB/s                 \n",
      "[ExtractAudio] Destination: ..\\data\\raw\\dementia_diaries\\audio\\Glenda is on a mystery tour._766809193.wav\n"
     ]
    },
    {
     "name": "stderr",
     "output_type": "stream",
     "text": [
      "Downloading Diaries:  39%|▍| 1403/3628 [1:25:48<3:36:11,"
     ]
    },
    {
     "name": "stdout",
     "output_type": "stream",
     "text": [
      "[download] 100% of    5.96MiB in 00:00:07 at 801.76KiB/s                 \n",
      "[ExtractAudio] Destination: ..\\data\\raw\\dementia_diaries\\audio\\Martin Robertson talks living with PCA in Aberdeenshire_766331077.wav\n"
     ]
    },
    {
     "name": "stderr",
     "output_type": "stream",
     "text": [
      "Downloading Diaries:  39%|▍| 1404/3628 [1:25:53<3:29:42,"
     ]
    },
    {
     "name": "stdout",
     "output_type": "stream",
     "text": [
      "[download] 100% of  842.34KiB in 00:00:01 at 742.42KiB/s               \n",
      "[ExtractAudio] Destination: ..\\data\\raw\\dementia_diaries\\audio\\Dory interviews Phil, who is Digging DEEP_762561067.wav\n"
     ]
    },
    {
     "name": "stderr",
     "output_type": "stream",
     "text": [
      "Downloading Diaries:  39%|▍| 1405/3628 [1:25:57<3:17:42,"
     ]
    },
    {
     "name": "stdout",
     "output_type": "stream",
     "text": [
      "[download] 100% of  548.97KiB in 00:00:00 at 881.46KiB/s               \n",
      "[ExtractAudio] Destination: ..\\data\\raw\\dementia_diaries\\audio\\Loving compassion has a role to play in maintaining dignity says Shelagh from her hospital bed._762560908.wav\n"
     ]
    },
    {
     "name": "stderr",
     "output_type": "stream",
     "text": [
      "Downloading Diaries:  39%|▍| 1406/3628 [1:26:01<2:58:47,"
     ]
    },
    {
     "name": "stdout",
     "output_type": "stream",
     "text": [
      "[download] 100% of    1.43MiB in 00:00:01 at 1.10MiB/s                 \n",
      "[ExtractAudio] Destination: ..\\data\\raw\\dementia_diaries\\audio\\George reports from a recent meeting of Dementia Enquirers_762560767.wav\n"
     ]
    },
    {
     "name": "stderr",
     "output_type": "stream",
     "text": [
      "Downloading Diaries:  39%|▍| 1407/3628 [1:26:06<2:55:32,"
     ]
    },
    {
     "name": "stdout",
     "output_type": "stream",
     "text": [
      "[download] 100% of  706.52KiB in 00:00:00 at 929.46KiB/s                 \n",
      "[ExtractAudio] Destination: ..\\data\\raw\\dementia_diaries\\audio\\Stephen has been talking about technology and dementia._762560650.wav\n"
     ]
    },
    {
     "name": "stderr",
     "output_type": "stream",
     "text": [
      "Downloading Diaries:  39%|▍| 1408/3628 [1:26:10<2:53:11,"
     ]
    },
    {
     "name": "stdout",
     "output_type": "stream",
     "text": [
      "[download] 100% of    1.84MiB in 00:00:01 at 1.06MiB/s                 \n",
      "[ExtractAudio] Destination: ..\\data\\raw\\dementia_diaries\\audio\\Keith is keeping really busy._762560527.wav\n"
     ]
    },
    {
     "name": "stderr",
     "output_type": "stream",
     "text": [
      "Downloading Diaries:  39%|▍| 1409/3628 [1:26:15<2:51:22,"
     ]
    },
    {
     "name": "stdout",
     "output_type": "stream",
     "text": [
      "[download] 100% of  688.77KiB in 00:00:00 at 881.93KiB/s                 \n",
      "[ExtractAudio] Destination: ..\\data\\raw\\dementia_diaries\\audio\\Jacqui talks about the importance of getting the right equipment._762560338.wav\n"
     ]
    },
    {
     "name": "stderr",
     "output_type": "stream",
     "text": [
      "Downloading Diaries:  39%|▍| 1410/3628 [1:26:18<2:32:30,"
     ]
    },
    {
     "name": "stdout",
     "output_type": "stream",
     "text": [
      "[download] 100% of  538.97KiB in 00:00:00 at 921.50KiB/s               \n",
      "[ExtractAudio] Destination: ..\\data\\raw\\dementia_diaries\\audio\\Lorraine reports from a meeting about improving dementia care_762560215.wav\n"
     ]
    },
    {
     "name": "stderr",
     "output_type": "stream",
     "text": [
      "Downloading Diaries:  39%|▍| 1411/3628 [1:26:20<2:16:57,"
     ]
    },
    {
     "name": "stdout",
     "output_type": "stream",
     "text": [
      "[download] 100% of  623.51KiB in 00:00:00 at 879.50KiB/s               \n",
      "[ExtractAudio] Destination: ..\\data\\raw\\dementia_diaries\\audio\\Glenda makes this diary in her mother tongue._758889883.wav\n"
     ]
    },
    {
     "name": "stderr",
     "output_type": "stream",
     "text": [
      "Downloading Diaries:  39%|▍| 1412/3628 [1:26:25<2:31:58,"
     ]
    },
    {
     "name": "stdout",
     "output_type": "stream",
     "text": [
      "[download] 100% of    1.37MiB in 00:00:01 at 1.13MiB/s                 \n",
      "[ExtractAudio] Destination: ..\\data\\raw\\dementia_diaries\\audio\\Jacqui has rediscovered lego - and is really enjoying it._758889241.wav\n"
     ]
    },
    {
     "name": "stderr",
     "output_type": "stream",
     "text": [
      "Downloading Diaries:  39%|▍| 1413/3628 [1:26:29<2:26:24,"
     ]
    },
    {
     "name": "stdout",
     "output_type": "stream",
     "text": [
      "[download] 100% of    1.04MiB in 00:00:01 at 958.07KiB/s               \n",
      "[ExtractAudio] Destination: ..\\data\\raw\\dementia_diaries\\audio\\Dory reads Mother Mountain_758888794.wav\n"
     ]
    },
    {
     "name": "stderr",
     "output_type": "stream",
     "text": [
      "Downloading Diaries:  39%|▍| 1414/3628 [1:26:33<2:25:21,"
     ]
    },
    {
     "name": "stdout",
     "output_type": "stream",
     "text": [
      "[download] 100% of    1.27MiB in 00:00:01 at 754.86KiB/s               \n",
      "[ExtractAudio] Destination: ..\\data\\raw\\dementia_diaries\\audio\\Wendy asks why should dementia stop us having adventures_758888278.wav\n"
     ]
    },
    {
     "name": "stderr",
     "output_type": "stream",
     "text": [
      "Downloading Diaries:  39%|▍| 1415/3628 [1:26:37<2:30:58,"
     ]
    },
    {
     "name": "stdout",
     "output_type": "stream",
     "text": [
      "[download] 100% of    1.24MiB in 00:00:01 at 974.80KiB/s               \n",
      "[ExtractAudio] Destination: ..\\data\\raw\\dementia_diaries\\audio\\Tracey likes having Alexa around the house._758887732.wav\n"
     ]
    },
    {
     "name": "stderr",
     "output_type": "stream",
     "text": [
      "Downloading Diaries:  39%|▍| 1416/3628 [1:26:42<2:33:44,"
     ]
    },
    {
     "name": "stdout",
     "output_type": "stream",
     "text": [
      "[download] 100% of  236.86KiB in 00:00:00 at 523.45KiB/s               \n",
      "[ExtractAudio] Destination: ..\\data\\raw\\dementia_diaries\\audio\\Raymond is staying in a care home for a bit._758887381.wav\n"
     ]
    },
    {
     "name": "stderr",
     "output_type": "stream",
     "text": [
      "Downloading Diaries:  39%|▍| 1417/3628 [1:26:45<2:27:57,"
     ]
    },
    {
     "name": "stdout",
     "output_type": "stream",
     "text": [
      "[download] 100% of  980.00KiB in 00:00:01 at 967.48KiB/s                 \n",
      "[ExtractAudio] Destination: ..\\data\\raw\\dementia_diaries\\audio\\Jacqui finds too much choice can be overwhelming._758887174.wav\n"
     ]
    },
    {
     "name": "stderr",
     "output_type": "stream",
     "text": [
      "Downloading Diaries:  39%|▍| 1418/3628 [1:26:48<2:15:30,"
     ]
    },
    {
     "name": "stdout",
     "output_type": "stream",
     "text": [
      "[download] 100% of  598.03KiB in 00:00:00 at 874.06KiB/s               \n",
      "[ExtractAudio] Destination: ..\\data\\raw\\dementia_diaries\\audio\\Is Rae sensing the first signs of spring_758886796.wav\n"
     ]
    },
    {
     "name": "stderr",
     "output_type": "stream",
     "text": [
      "Downloading Diaries:  39%|▍| 1419/3628 [1:26:52<2:17:54,"
     ]
    },
    {
     "name": "stdout",
     "output_type": "stream",
     "text": [
      "[download] 100% of  877.60KiB in 00:00:00 at 966.19KiB/s                 \n",
      "[ExtractAudio] Destination: ..\\data\\raw\\dementia_diaries\\audio\\Stephen's still looking for new members for his walking group._758886571.wav\n"
     ]
    },
    {
     "name": "stderr",
     "output_type": "stream",
     "text": [
      "Downloading Diaries:  39%|▍| 1420/3628 [1:27:06<4:04:51,"
     ]
    },
    {
     "name": "stdout",
     "output_type": "stream",
     "text": [
      "[download] 100% of    8.04MiB in 00:00:09 at 888.43KiB/s                 \n",
      "[ExtractAudio] Destination: ..\\data\\raw\\dementia_diaries\\audio\\Our DEEP News JanFeb 2020_755014498.wav\n"
     ]
    },
    {
     "name": "stderr",
     "output_type": "stream",
     "text": [
      "Downloading Diaries:  39%|▍| 1421/3628 [1:27:12<4:06:29,"
     ]
    },
    {
     "name": "stdout",
     "output_type": "stream",
     "text": [
      "[download] 100% of    1.09MiB in 00:00:01 at 1003.67KiB/s              \n",
      "[ExtractAudio] Destination: ..\\data\\raw\\dementia_diaries\\audio\\Float away to the beautiful voices of the Still Me Group._754863946.wav\n"
     ]
    },
    {
     "name": "stderr",
     "output_type": "stream",
     "text": [
      "Downloading Diaries:  39%|▍| 1422/3628 [1:27:17<3:38:21,"
     ]
    },
    {
     "name": "stdout",
     "output_type": "stream",
     "text": [
      "[download] 100% of  497.72KiB in 00:00:00 at 833.72KiB/s               \n",
      "[ExtractAudio] Destination: ..\\data\\raw\\dementia_diaries\\audio\\Paul is looking forward to speaking at the Dementia Action Alliance this week._754863676.wav\n"
     ]
    },
    {
     "name": "stderr",
     "output_type": "stream",
     "text": [
      "Downloading Diaries:  39%|▍| 1423/3628 [1:27:21<3:18:53,"
     ]
    },
    {
     "name": "stdout",
     "output_type": "stream",
     "text": [
      "[download] 100% of  546.30KiB in 00:00:00 at 924.33KiB/s               \n",
      "[ExtractAudio] Destination: ..\\data\\raw\\dementia_diaries\\audio\\Rae is finding things really hard at the moment._754863310.wav\n"
     ]
    },
    {
     "name": "stderr",
     "output_type": "stream",
     "text": [
      "Downloading Diaries:  39%|▍| 1424/3628 [1:27:24<2:57:19,"
     ]
    },
    {
     "name": "stdout",
     "output_type": "stream",
     "text": [
      "[download] 100% of    1.38MiB in 00:00:01 at 1008.57KiB/s              \n",
      "[ExtractAudio] Destination: ..\\data\\raw\\dementia_diaries\\audio\\KeithDEEPnews31120_754862848.wav\n"
     ]
    },
    {
     "name": "stderr",
     "output_type": "stream",
     "text": [
      "Downloading Diaries:  39%|▍| 1425/3628 [1:27:29<2:53:47,"
     ]
    },
    {
     "name": "stdout",
     "output_type": "stream",
     "text": [
      "[download] 100% of    1.70MiB in 00:00:01 at 1.05MiB/s                 \n",
      "[ExtractAudio] Destination: ..\\data\\raw\\dementia_diaries\\audio\\Keith has delivered a great presentation to medical students._754862359.wav\n"
     ]
    },
    {
     "name": "stderr",
     "output_type": "stream",
     "text": [
      "Downloading Diaries:  39%|▍| 1426/3628 [1:27:34<2:54:52,"
     ]
    },
    {
     "name": "stdout",
     "output_type": "stream",
     "text": [
      "[download] 100% of    2.04MiB in 00:00:01 at 1.14MiB/s                 \n",
      "[ExtractAudio] Destination: ..\\data\\raw\\dementia_diaries\\audio\\Melvyn is campaigning to improve the quality of care for people with dementia._754861903.wav\n"
     ]
    },
    {
     "name": "stderr",
     "output_type": "stream",
     "text": [
      "Downloading Diaries:  39%|▍| 1427/3628 [1:27:39<3:04:08,"
     ]
    },
    {
     "name": "stdout",
     "output_type": "stream",
     "text": [
      "[download] 100% of    2.04MiB in 00:00:02 at 1000.62KiB/s              \n",
      "[ExtractAudio] Destination: ..\\data\\raw\\dementia_diaries\\audio\\Melvyn agrees with the need to defeat jargon._754861636.wav\n"
     ]
    },
    {
     "name": "stderr",
     "output_type": "stream",
     "text": [
      "Downloading Diaries:  39%|▍| 1428/3628 [1:27:45<3:17:22,"
     ]
    },
    {
     "name": "stdout",
     "output_type": "stream",
     "text": [
      "[download] 100% of    2.53MiB in 00:00:02 at 1.15MiB/s                 \n",
      "[ExtractAudio] Destination: ..\\data\\raw\\dementia_diaries\\audio\\Jacqui�s work is helping people to talk about dying._754861375.wav\n"
     ]
    },
    {
     "name": "stderr",
     "output_type": "stream",
     "text": [
      "Downloading Diaries:  39%|▍| 1429/3628 [1:27:49<2:56:33,"
     ]
    },
    {
     "name": "stdout",
     "output_type": "stream",
     "text": [
      "[download] 100% of  640.35KiB in 00:00:00 at 1.01MiB/s                 \n",
      "[ExtractAudio] Destination: ..\\data\\raw\\dementia_diaries\\audio\\Too many chiefs, not enough indians, Stephen feels._754861171.wav\n"
     ]
    },
    {
     "name": "stderr",
     "output_type": "stream",
     "text": [
      "Downloading Diaries:  39%|▍| 1430/3628 [1:27:54<2:57:17,"
     ]
    },
    {
     "name": "stdout",
     "output_type": "stream",
     "text": [
      "[download] 100% of    1.14MiB in 00:00:01 at 956.69KiB/s               \n",
      "[ExtractAudio] Destination: ..\\data\\raw\\dementia_diaries\\audio\\Good advice from Tracey about not overdoing it._754860934.wav\n"
     ]
    },
    {
     "name": "stderr",
     "output_type": "stream",
     "text": [
      "Downloading Diaries:  39%|▍| 1431/3628 [1:27:58<2:49:02,"
     ]
    },
    {
     "name": "stdout",
     "output_type": "stream",
     "text": [
      "[download] 100% of  246.41KiB in 00:00:00 at 636.22KiB/s               \n",
      "[ExtractAudio] Destination: ..\\data\\raw\\dementia_diaries\\audio\\Raymond is out of hospital but still poorly._754860715.wav\n"
     ]
    },
    {
     "name": "stderr",
     "output_type": "stream",
     "text": [
      "Downloading Diaries:  39%|▍| 1432/3628 [1:28:03<2:55:46,"
     ]
    },
    {
     "name": "stdout",
     "output_type": "stream",
     "text": [
      "[download] 100% of    2.76MiB in 00:00:02 at 1.12MiB/s                 \n",
      "[ExtractAudio] Destination: ..\\data\\raw\\dementia_diaries\\audio\\Melvyn is feeling discriminated against in the digital divide._754860481.wav\n"
     ]
    },
    {
     "name": "stderr",
     "output_type": "stream",
     "text": [
      "Downloading Diaries:  39%|▍| 1433/3628 [1:28:07<2:48:59,"
     ]
    },
    {
     "name": "stdout",
     "output_type": "stream",
     "text": [
      "[download] 100% of  840.82KiB in 00:00:00 at 847.74KiB/s                 \n",
      "[ExtractAudio] Destination: ..\\data\\raw\\dementia_diaries\\audio\\Dory reflects on Ronald�s poem �the mountains I still climb�_750939178.wav\n"
     ]
    },
    {
     "name": "stderr",
     "output_type": "stream",
     "text": [
      "Downloading Diaries:  40%|▍| 1434/3628 [1:28:12<2:50:06,"
     ]
    },
    {
     "name": "stdout",
     "output_type": "stream",
     "text": [
      "[download] 100% of 1011.21KiB in 00:00:01 at 742.62KiB/s               \n",
      "[ExtractAudio] Destination: ..\\data\\raw\\dementia_diaries\\audio\\We all need support, and working together can make that happen says Ronald_750938980.wav\n"
     ]
    },
    {
     "name": "stderr",
     "output_type": "stream",
     "text": [
      "Downloading Diaries:  40%|▍| 1435/3628 [1:28:16<2:43:30,"
     ]
    },
    {
     "name": "stdout",
     "output_type": "stream",
     "text": [
      "[download] 100% of    2.01MiB in 00:00:01 at 1.05MiB/s                 \n",
      "[ExtractAudio] Destination: ..\\data\\raw\\dementia_diaries\\audio\\Peter talks about what keeps him going.  bring it on he says._750938659.wav\n"
     ]
    },
    {
     "name": "stderr",
     "output_type": "stream",
     "text": [
      "Downloading Diaries:  40%|▍| 1436/3628 [1:28:22<3:00:25,"
     ]
    },
    {
     "name": "stdout",
     "output_type": "stream",
     "text": [
      "[download] 100% of    1.95MiB in 00:00:01 at 1.00MiB/s                 \n",
      "[ExtractAudio] Destination: ..\\data\\raw\\dementia_diaries\\audio\\Melvyn feels that professionals are letting people with dementia down._750938269.wav\n"
     ]
    },
    {
     "name": "stderr",
     "output_type": "stream",
     "text": [
      "Downloading Diaries:  40%|▍| 1437/3628 [1:28:27<3:02:31,"
     ]
    },
    {
     "name": "stdout",
     "output_type": "stream",
     "text": [
      "[download] 100% of    1.96MiB in 00:00:01 at 1.11MiB/s                 \n",
      "[ExtractAudio] Destination: ..\\data\\raw\\dementia_diaries\\audio\\Melvyn feels that �professionals� still aren�t listening properly to people with dementia._750938065.wav\n"
     ]
    },
    {
     "name": "stderr",
     "output_type": "stream",
     "text": [
      "Downloading Diaries:  40%|▍| 1438/3628 [1:28:33<3:13:11,"
     ]
    },
    {
     "name": "stdout",
     "output_type": "stream",
     "text": [
      "[download] 100% of    2.38MiB in 00:00:02 at 1.03MiB/s                 \n",
      "[ExtractAudio] Destination: ..\\data\\raw\\dementia_diaries\\audio\\Glenda talks about belonging. Plus -she�s off abroad for the first time!!_750937861.wav\n"
     ]
    },
    {
     "name": "stderr",
     "output_type": "stream",
     "text": [
      "Downloading Diaries:  40%|▍| 1439/3628 [1:28:38<3:07:55,"
     ]
    },
    {
     "name": "stdout",
     "output_type": "stream",
     "text": [
      "[download] 100% of    1.76MiB in 00:00:01 at 1.06MiB/s                 \n",
      "[ExtractAudio] Destination: ..\\data\\raw\\dementia_diaries\\audio\\Jacqui feels she has lost her mojo�..and misses someone to talk to._750937633.wav\n"
     ]
    },
    {
     "name": "stderr",
     "output_type": "stream",
     "text": [
      "Downloading Diaries:  40%|▍| 1440/3628 [1:28:43<3:05:35,"
     ]
    },
    {
     "name": "stdout",
     "output_type": "stream",
     "text": [
      "[download] 100% of  654.27KiB in 00:00:00 at 887.31KiB/s               \n",
      "[ExtractAudio] Destination: ..\\data\\raw\\dementia_diaries\\audio\\Stephen�s walking group needs more people with dementia._750937402.wav\n"
     ]
    },
    {
     "name": "stderr",
     "output_type": "stream",
     "text": [
      "Downloading Diaries:  40%|▍| 1441/3628 [1:28:49<3:20:32,"
     ]
    },
    {
     "name": "stdout",
     "output_type": "stream",
     "text": [
      "[download] 100% of    3.64MiB in 00:00:03 at 1.17MiB/s                 \n",
      "[ExtractAudio] Destination: ..\\data\\raw\\dementia_diaries\\audio\\The Clear Voices Group discuss the issues of reading and watching television._750937231.wav\n"
     ]
    },
    {
     "name": "stderr",
     "output_type": "stream",
     "text": [
      "Downloading Diaries:  40%|▍| 1442/3628 [1:28:55<3:18:03,"
     ]
    },
    {
     "name": "stdout",
     "output_type": "stream",
     "text": [
      "[download] 100% of    1.08MiB in 00:00:01 at 1.03MiB/s                 \n",
      "[ExtractAudio] Destination: ..\\data\\raw\\dementia_diaries\\audio\\Agnes feels wonderful to be part of the Zoomettes_750936007.wav\n"
     ]
    },
    {
     "name": "stderr",
     "output_type": "stream",
     "text": [
      "Downloading Diaries:  40%|▍| 1443/3628 [1:28:59<3:02:48,"
     ]
    },
    {
     "name": "stdout",
     "output_type": "stream",
     "text": [
      "[download] 100% of  383.55KiB in 00:00:00 at 588.22KiB/s               \n",
      "[ExtractAudio] Destination: ..\\data\\raw\\dementia_diaries\\audio\\Wendy has written a poem about about belonging to DEEP_747064135.wav\n"
     ]
    },
    {
     "name": "stderr",
     "output_type": "stream",
     "text": [
      "Downloading Diaries:  40%|▍| 1444/3628 [1:29:04<3:05:37,"
     ]
    },
    {
     "name": "stdout",
     "output_type": "stream",
     "text": [
      "[download] 100% of    1.85MiB in 00:00:01 at 1.01MiB/s                 \n",
      "[ExtractAudio] Destination: ..\\data\\raw\\dementia_diaries\\audio\\A new diagnosis has left Chris reeling_747059140.wav\n"
     ]
    },
    {
     "name": "stderr",
     "output_type": "stream",
     "text": [
      "Downloading Diaries:  40%|▍| 1445/3628 [1:29:09<2:58:51,"
     ]
    },
    {
     "name": "stdout",
     "output_type": "stream",
     "text": [
      "[download] 100% of    1.87MiB in 00:00:01 at 1.08MiB/s                 \n",
      "[ExtractAudio] Destination: ..\\data\\raw\\dementia_diaries\\audio\\Chris is trying new ways to get people along to their DEEP group_747058537.wav\n"
     ]
    },
    {
     "name": "stderr",
     "output_type": "stream",
     "text": [
      "Downloading Diaries:  40%|▍| 1446/3628 [1:29:13<2:56:32,"
     ]
    },
    {
     "name": "stdout",
     "output_type": "stream",
     "text": [
      "[download] 100% of  647.17KiB in 00:00:00 at 864.31KiB/s               \n",
      "[ExtractAudio] Destination: ..\\data\\raw\\dementia_diaries\\audio\\People have been dropping like flies in Cornwall says Stephen_747057916.wav\n"
     ]
    },
    {
     "name": "stderr",
     "output_type": "stream",
     "text": [
      "Downloading Diaries:  40%|▍| 1447/3628 [1:29:19<3:02:23,"
     ]
    },
    {
     "name": "stdout",
     "output_type": "stream",
     "text": [
      "[download] 100% of    1.61MiB in 00:00:01 at 1.08MiB/s                 \n",
      "[ExtractAudio] Destination: ..\\data\\raw\\dementia_diaries\\audio\\Jacqui talks about �anticipatory grief�_747057697.wav\n"
     ]
    },
    {
     "name": "stderr",
     "output_type": "stream",
     "text": [
      "Downloading Diaries:  40%|▍| 1448/3628 [1:29:22<2:43:58,"
     ]
    },
    {
     "name": "stdout",
     "output_type": "stream",
     "text": [
      "[download] 100% of  111.86KiB in 00:00:00 at 314.36KiB/s               \n",
      "[ExtractAudio] Destination: ..\\data\\raw\\dementia_diaries\\audio\\George Rook reads the closing quote Page 8 Our DEEP News_743290903.wav\n"
     ]
    },
    {
     "name": "stderr",
     "output_type": "stream",
     "text": [
      "Downloading Diaries:  40%|▍| 1449/3628 [1:29:25<2:32:17,"
     ]
    },
    {
     "name": "stdout",
     "output_type": "stream",
     "text": [
      "[download] 100% of  960.46KiB in 00:00:00 at 963.40KiB/s                 \n",
      "[ExtractAudio] Destination: ..\\data\\raw\\dementia_diaries\\audio\\Dory reads part 2 of Page 7 about Jar-Gone for Our DEEP News_743288545.wav\n"
     ]
    },
    {
     "name": "stderr",
     "output_type": "stream",
     "text": [
      "Downloading Diaries:  40%|▍| 1450/3628 [1:29:29<2:25:19,"
     ]
    },
    {
     "name": "stdout",
     "output_type": "stream",
     "text": [
      "[download] 100% of  528.61KiB in 00:00:00 at 739.88KiB/s               \n",
      "[ExtractAudio] Destination: ..\\data\\raw\\dementia_diaries\\audio\\Keith Oliver reads Part 1 of Page 7 Our DEEP News_743285350.wav\n"
     ]
    },
    {
     "name": "stderr",
     "output_type": "stream",
     "text": [
      "Downloading Diaries:  40%|▍| 1451/3628 [1:29:33<2:28:56,"
     ]
    },
    {
     "name": "stdout",
     "output_type": "stream",
     "text": [
      "[download] 100% of  289.46KiB in 00:00:00 at 508.60KiB/s               \n",
      "[ExtractAudio] Destination: ..\\data\\raw\\dementia_diaries\\audio\\Our DEEP News Page 6 Part 2_743283088.wav\n"
     ]
    },
    {
     "name": "stderr",
     "output_type": "stream",
     "text": [
      "Downloading Diaries:  40%|▍| 1452/3628 [1:29:37<2:20:39,"
     ]
    },
    {
     "name": "stdout",
     "output_type": "stream",
     "text": [
      "[download] 100% of  598.47KiB in 00:00:00 at 711.24KiB/s                 \n",
      "[ExtractAudio] Destination: ..\\data\\raw\\dementia_diaries\\audio\\Chris Maddocks reads Part 1 of Page 6 in  Our DEEP NEWS_743277088.wav\n"
     ]
    },
    {
     "name": "stderr",
     "output_type": "stream",
     "text": [
      "Downloading Diaries:  40%|▍| 1453/3628 [1:29:40<2:16:12,"
     ]
    },
    {
     "name": "stdout",
     "output_type": "stream",
     "text": [
      "[download] 100% of  646.87KiB in 00:00:00 at 677.71KiB/s                 \n",
      "[ExtractAudio] Destination: ..\\data\\raw\\dementia_diaries\\audio\\Wendy Mitchell reads Page 3 of Our DEEP News_743270926.wav\n"
     ]
    },
    {
     "name": "stderr",
     "output_type": "stream",
     "text": [
      "Downloading Diaries:  40%|▍| 1454/3628 [1:29:43<2:11:06,"
     ]
    },
    {
     "name": "stdout",
     "output_type": "stream",
     "text": [
      "[download] 100% of  418.24KiB in 00:00:00 at 656.25KiB/s               \n",
      "[ExtractAudio] Destination: ..\\data\\raw\\dementia_diaries\\audio\\George Rook reads Page 2 of Our DEEP News_743268499.wav\n"
     ]
    },
    {
     "name": "stderr",
     "output_type": "stream",
     "text": [
      "Downloading Diaries:  40%|▍| 1455/3628 [1:29:47<2:09:47,"
     ]
    },
    {
     "name": "stdout",
     "output_type": "stream",
     "text": [
      "[download] 100% of  915.19KiB in 00:00:01 at 898.11KiB/s                 \n",
      "[ExtractAudio] Destination: ..\\data\\raw\\dementia_diaries\\audio\\Chris Norris reads  Page 1 of Our DEEP News_743263777.wav\n"
     ]
    },
    {
     "name": "stderr",
     "output_type": "stream",
     "text": [
      "Downloading Diaries:  40%|▍| 1456/3628 [1:29:50<2:07:38,"
     ]
    },
    {
     "name": "stdout",
     "output_type": "stream",
     "text": [
      "[download] 100% of  188.47KiB in 00:00:00 at 488.78KiB/s               \n",
      "[ExtractAudio] Destination: ..\\data\\raw\\dementia_diaries\\audio\\Raymond says hello from Oldham._743263210.wav\n"
     ]
    },
    {
     "name": "stderr",
     "output_type": "stream",
     "text": [
      "Downloading Diaries:  40%|▍| 1457/3628 [1:29:55<2:18:28,"
     ]
    },
    {
     "name": "stdout",
     "output_type": "stream",
     "text": [
      "[download] 100% of  647.20KiB in 00:00:00 at 799.96KiB/s                 \n",
      "[ExtractAudio] Destination: ..\\data\\raw\\dementia_diaries\\audio\\Rae is feeling mutinous._743263027.wav\n"
     ]
    },
    {
     "name": "stderr",
     "output_type": "stream",
     "text": [
      "Downloading Diaries:  40%|▍| 1458/3628 [1:29:59<2:25:09,"
     ]
    },
    {
     "name": "stdout",
     "output_type": "stream",
     "text": [
      "[download] 100% of  600.86KiB in 00:00:00 at 638.34KiB/s               \n",
      "[ExtractAudio] Destination: ..\\data\\raw\\dementia_diaries\\audio\\Glenda passed her driving assessment - but it was exhausting._743262796.wav\n"
     ]
    },
    {
     "name": "stderr",
     "output_type": "stream",
     "text": [
      "Downloading Diaries:  40%|▍| 1459/3628 [1:30:04<2:34:15,"
     ]
    },
    {
     "name": "stdout",
     "output_type": "stream",
     "text": [
      "[download] 100% of    1.28MiB in 00:00:01 at 1.04MiB/s                 \n",
      "[ExtractAudio] Destination: ..\\data\\raw\\dementia_diaries\\audio\\Jacqui found some joint training really helpful._743262601.wav\n"
     ]
    },
    {
     "name": "stderr",
     "output_type": "stream",
     "text": [
      "Downloading Diaries:  40%|▍| 1460/3628 [1:30:08<2:27:08,"
     ]
    },
    {
     "name": "stdout",
     "output_type": "stream",
     "text": [
      "[download] 100% of  821.43KiB in 00:00:00 at 844.02KiB/s                 \n",
      "[ExtractAudio] Destination: ..\\data\\raw\\dementia_diaries\\audio\\Stephen is looking forward to getting back to normal._743262421.wav\n"
     ]
    },
    {
     "name": "stderr",
     "output_type": "stream",
     "text": [
      "Downloading Diaries:  40%|▍| 1461/3628 [1:30:13<2:41:17,"
     ]
    },
    {
     "name": "stdout",
     "output_type": "stream",
     "text": [
      "[download] 100% of    1.93MiB in 00:00:01 at 1.04MiB/s                 \n",
      "[ExtractAudio] Destination: ..\\data\\raw\\dementia_diaries\\audio\\Jacqui reports from a successful meeting with DCAN._743262175.wav\n"
     ]
    },
    {
     "name": "stderr",
     "output_type": "stream",
     "text": [
      "Downloading Diaries:  40%|▍| 1462/3628 [1:30:19<2:50:31,"
     ]
    },
    {
     "name": "stdout",
     "output_type": "stream",
     "text": [
      "[download] 100% of    1.59MiB in 00:00:01 at 1.08MiB/s                 \n",
      "[ExtractAudio] Destination: ..\\data\\raw\\dementia_diaries\\audio\\Happy Tandemer bumps into some friends in unusual circumstances._743262004.wav\n"
     ]
    },
    {
     "name": "stderr",
     "output_type": "stream",
     "text": [
      "Downloading Diaries:  40%|▍| 1463/3628 [1:30:22<2:42:02,"
     ]
    },
    {
     "name": "stdout",
     "output_type": "stream",
     "text": [
      "[download] 100% of    1.18MiB in 00:00:01 at 1.09MiB/s                 \n",
      "[ExtractAudio] Destination: ..\\data\\raw\\dementia_diaries\\audio\\Glenda is worried about a forthcoming driving assessment._743261725.wav\n"
     ]
    },
    {
     "name": "stderr",
     "output_type": "stream",
     "text": [
      "Downloading Diaries:  40%|▍| 1464/3628 [1:30:26<2:33:28,"
     ]
    },
    {
     "name": "stdout",
     "output_type": "stream",
     "text": [
      "[download] 100% of  915.19KiB in 00:00:01 at 865.27KiB/s               \n",
      "[ExtractAudio] Destination: ..\\data\\raw\\dementia_diaries\\audio\\Chris Norris reads Page 1 of Our DEEP News_743260267.wav\n"
     ]
    },
    {
     "name": "stderr",
     "output_type": "stream",
     "text": [
      "Downloading Diaries:  40%|▍| 1465/3628 [1:30:31<2:34:13,"
     ]
    },
    {
     "name": "stdout",
     "output_type": "stream",
     "text": [
      "[download] 100% of    1.62MiB in 00:00:01 at 830.90KiB/s               \n",
      "[ExtractAudio] Destination: ..\\data\\raw\\dementia_diaries\\audio\\Ron and Philly discuss the launch of the Dementia Voices initiative_742983154.wav\n"
     ]
    },
    {
     "name": "stderr",
     "output_type": "stream",
     "text": [
      "Downloading Diaries:  40%|▍| 1466/3628 [1:30:37<2:55:31,"
     ]
    },
    {
     "name": "stdout",
     "output_type": "stream",
     "text": [
      "[download] 100% of    1.53MiB in 00:00:02 at 753.54KiB/s               \n",
      "[ExtractAudio] Destination: ..\\data\\raw\\dementia_diaries\\audio\\Wendy speaks about the funding for the Dementia Voices initiative_742975519.wav\n"
     ]
    },
    {
     "name": "stderr",
     "output_type": "stream",
     "text": [
      "Downloading Diaries:  40%|▍| 1467/3628 [1:30:41<2:47:41,"
     ]
    },
    {
     "name": "stdout",
     "output_type": "stream",
     "text": [
      "[download] 100% of    1.32MiB in 00:00:01 at 1.02MiB/s                 \n",
      "[ExtractAudio] Destination: ..\\data\\raw\\dementia_diaries\\audio\\Keith is looking forward to a busy start to the new decade._739635112.wav\n"
     ]
    },
    {
     "name": "stderr",
     "output_type": "stream",
     "text": [
      "Downloading Diaries:  40%|▍| 1468/3628 [1:30:45<2:36:59,"
     ]
    },
    {
     "name": "stdout",
     "output_type": "stream",
     "text": [
      "[download] 100% of    1.25MiB in 00:00:01 at 1.03MiB/s                 \n",
      "[ExtractAudio] Destination: ..\\data\\raw\\dementia_diaries\\audio\\Christine reminds us of the importance of good listening_739634887.wav\n"
     ]
    },
    {
     "name": "stderr",
     "output_type": "stream",
     "text": [
      "Downloading Diaries:  40%|▍| 1469/3628 [1:30:50<2:46:27,"
     ]
    },
    {
     "name": "stdout",
     "output_type": "stream",
     "text": [
      "[download] 100% of    1.56MiB in 00:00:01 at 1.04MiB/s                 \n",
      "[ExtractAudio] Destination: ..\\data\\raw\\dementia_diaries\\audio\\Jacqui is still struggling to get her expenses paid._739634695.wav\n"
     ]
    },
    {
     "name": "stderr",
     "output_type": "stream",
     "text": [
      "Downloading Diaries:  41%|▍| 1470/3628 [1:30:54<2:42:05,"
     ]
    },
    {
     "name": "stdout",
     "output_type": "stream",
     "text": [
      "[download] 100% of    1.31MiB in 00:00:01 at 1.06MiB/s                 \n",
      "[ExtractAudio] Destination: ..\\data\\raw\\dementia_diaries\\audio\\Jacqui is off to a meeting to talk about developing high quality personalised care._739634494.wav\n"
     ]
    },
    {
     "name": "stderr",
     "output_type": "stream",
     "text": [
      "Downloading Diaries:  41%|▍| 1471/3628 [1:30:58<2:33:23,"
     ]
    },
    {
     "name": "stdout",
     "output_type": "stream",
     "text": [
      "[download] 100% of    1.17MiB in 00:00:01 at 1.08MiB/s                 \n",
      "[ExtractAudio] Destination: ..\\data\\raw\\dementia_diaries\\audio\\Agnes looks forward to a new decade -  �together we are stronger�_739629025.wav\n"
     ]
    },
    {
     "name": "stderr",
     "output_type": "stream",
     "text": [
      "Downloading Diaries:  41%|▍| 1472/3628 [1:31:01<2:20:41,"
     ]
    },
    {
     "name": "stdout",
     "output_type": "stream",
     "text": [
      "[download] 100% of  899.98KiB in 00:00:00 at 1018.53KiB/s                \n",
      "[ExtractAudio] Destination: ..\\data\\raw\\dementia_diaries\\audio\\Jacqui reports on the benefits of natural waking._739628809.wav\n"
     ]
    },
    {
     "name": "stderr",
     "output_type": "stream",
     "text": [
      "Downloading Diaries:  41%|▍| 1473/3628 [1:31:05<2:22:44,"
     ]
    },
    {
     "name": "stdout",
     "output_type": "stream",
     "text": [
      "[download] 100% of    1.35MiB in 00:00:01 at 1.13MiB/s                 \n",
      "[ExtractAudio] Destination: ..\\data\\raw\\dementia_diaries\\audio\\Letting people know what you need is important says Jacqui_739628593.wav\n"
     ]
    },
    {
     "name": "stderr",
     "output_type": "stream",
     "text": [
      "Downloading Diaries:  41%|▍| 1474/3628 [1:31:08<2:12:43,"
     ]
    },
    {
     "name": "stdout",
     "output_type": "stream",
     "text": [
      "[download] 100% of  621.57KiB in 00:00:00 at 886.72KiB/s               \n",
      "[ExtractAudio] Destination: ..\\data\\raw\\dementia_diaries\\audio\\Jacqui is enjoying a memory box she was given._739628419.wav\n"
     ]
    },
    {
     "name": "stderr",
     "output_type": "stream",
     "text": [
      "Downloading Diaries:  41%|▍| 1475/3628 [1:31:13<2:21:11,"
     ]
    },
    {
     "name": "stdout",
     "output_type": "stream",
     "text": [
      "[download] 100% of  617.22KiB in 00:00:00 at 880.69KiB/s               \n",
      "[ExtractAudio] Destination: ..\\data\\raw\\dementia_diaries\\audio\\Rae is feeling in need of a hug._739628248.wav\n"
     ]
    },
    {
     "name": "stderr",
     "output_type": "stream",
     "text": [
      "Downloading Diaries:  41%|▍| 1476/3628 [1:31:17<2:23:02,"
     ]
    },
    {
     "name": "stdout",
     "output_type": "stream",
     "text": [
      "[download] 100% of  643.59KiB in 00:00:00 at 975.33KiB/s               \n",
      "[ExtractAudio] Destination: ..\\data\\raw\\dementia_diaries\\audio\\Joy is not feeling the Christmas spirit._739628092.wav\n"
     ]
    },
    {
     "name": "stderr",
     "output_type": "stream",
     "text": [
      "Downloading Diaries:  41%|▍| 1477/3628 [1:31:20<2:15:19,"
     ]
    },
    {
     "name": "stdout",
     "output_type": "stream",
     "text": [
      "[download] 100% of  814.05KiB in 00:00:00 at 907.10KiB/s                 \n",
      "[ExtractAudio] Destination: ..\\data\\raw\\dementia_diaries\\audio\\Christmas is difficult for Rae this year._739627219.wav\n"
     ]
    },
    {
     "name": "stderr",
     "output_type": "stream",
     "text": [
      "Downloading Diaries:  41%|▍| 1478/3628 [1:31:24<2:15:11,"
     ]
    },
    {
     "name": "stdout",
     "output_type": "stream",
     "text": [
      "[download] 100% of  219.10KiB in 00:00:00 at 570.47KiB/s               \n",
      "[ExtractAudio] Destination: ..\\data\\raw\\dementia_diaries\\audio\\Raymond wishes everyone a Merry Christmas_739626796.wav\n"
     ]
    },
    {
     "name": "stderr",
     "output_type": "stream",
     "text": [
      "Downloading Diaries:  41%|▍| 1479/3628 [1:31:27<2:10:15,"
     ]
    },
    {
     "name": "stdout",
     "output_type": "stream",
     "text": [
      "[download] 100% of  865.47KiB in 00:00:00 at 928.09KiB/s                 \n",
      "[ExtractAudio] Destination: ..\\data\\raw\\dementia_diaries\\audio\\Paul looks back over a busy year._733297954.wav\n"
     ]
    },
    {
     "name": "stderr",
     "output_type": "stream",
     "text": [
      "Downloading Diaries:  41%|▍| 1480/3628 [1:31:31<2:13:57,"
     ]
    },
    {
     "name": "stdout",
     "output_type": "stream",
     "text": [
      "[download] 100% of  626.73KiB in 00:00:00 at 721.91KiB/s               \n",
      "[ExtractAudio] Destination: ..\\data\\raw\\dementia_diaries\\audio\\Paul reminds us of the gift of time at Christmas._733297801.wav\n"
     ]
    },
    {
     "name": "stderr",
     "output_type": "stream",
     "text": [
      "Downloading Diaries:  41%|▍| 1481/3628 [1:31:34<2:02:19,"
     ]
    },
    {
     "name": "stdout",
     "output_type": "stream",
     "text": [
      "[download] 100% of  346.79KiB in 00:00:00 at 639.13KiB/s               \n",
      "[ExtractAudio] Destination: ..\\data\\raw\\dementia_diaries\\audio\\Raymond is feeling low now his groups have finished for Christmas_733297633.wav\n"
     ]
    },
    {
     "name": "stderr",
     "output_type": "stream",
     "text": [
      "Downloading Diaries:  41%|▍| 1482/3628 [1:31:38<2:07:04,"
     ]
    },
    {
     "name": "stdout",
     "output_type": "stream",
     "text": [
      "[download] 100% of  606.44KiB in 00:00:00 at 889.17KiB/s               \n",
      "[ExtractAudio] Destination: ..\\data\\raw\\dementia_diaries\\audio\\Stephen is feeling a little better as Christmas approaches._733297465.wav\n"
     ]
    },
    {
     "name": "stderr",
     "output_type": "stream",
     "text": [
      "Downloading Diaries:  41%|▍| 1483/3628 [1:31:42<2:15:39,"
     ]
    },
    {
     "name": "stdout",
     "output_type": "stream",
     "text": [
      "[download] 100% of    2.88MiB in 00:00:02 at 1.21MiB/s                 \n",
      "[ExtractAudio] Destination: ..\\data\\raw\\dementia_diaries\\audio\\Jacqui reminds professionals that people with dementia still have skills_733297327.wav\n"
     ]
    },
    {
     "name": "stderr",
     "output_type": "stream",
     "text": [
      "Downloading Diaries:  41%|▍| 1484/3628 [1:31:45<2:10:16,"
     ]
    },
    {
     "name": "stdout",
     "output_type": "stream",
     "text": [
      "[download] 100% of  399.96KiB in 00:00:00 at 739.83KiB/s               \n",
      "[ExtractAudio] Destination: ..\\data\\raw\\dementia_diaries\\audio\\Raymond reports from the Banner launch in Manchester._729140080.wav\n"
     ]
    },
    {
     "name": "stderr",
     "output_type": "stream",
     "text": [
      "Downloading Diaries:  41%|▍| 1485/3628 [1:31:49<2:13:19,"
     ]
    },
    {
     "name": "stdout",
     "output_type": "stream",
     "text": [
      "[download] 100% of  664.86KiB in 00:00:01 at 612.42KiB/s               \n",
      "[ExtractAudio] Destination: ..\\data\\raw\\dementia_diaries\\audio\\Jacqui reports on a very well received talk in London_729139417.wav\n"
     ]
    },
    {
     "name": "stderr",
     "output_type": "stream",
     "text": [
      "Downloading Diaries:  41%|▍| 1486/3628 [1:31:53<2:19:14,"
     ]
    },
    {
     "name": "stdout",
     "output_type": "stream",
     "text": [
      "[download] 100% of  466.17KiB in 00:00:00 at 779.86KiB/s               \n",
      "[ExtractAudio] Destination: ..\\data\\raw\\dementia_diaries\\audio\\A lovely Christmas message from Raymond._729138295.wav\n"
     ]
    },
    {
     "name": "stderr",
     "output_type": "stream",
     "text": [
      "Downloading Diaries:  41%|▍| 1487/3628 [1:31:59<2:33:12,"
     ]
    },
    {
     "name": "stdout",
     "output_type": "stream",
     "text": [
      "[download] 100% of    2.52MiB in 00:00:02 at 1.05MiB/s                 \n",
      "[ExtractAudio] Destination: ..\\data\\raw\\dementia_diaries\\audio\\Dory �a thong a bottle of wine and a pack of tena ladies�_729135199.wav\n"
     ]
    },
    {
     "name": "stderr",
     "output_type": "stream",
     "text": [
      "Downloading Diaries:  41%|▍| 1488/3628 [1:32:04<2:46:28,"
     ]
    },
    {
     "name": "stdout",
     "output_type": "stream",
     "text": [
      "[download] 100% of    1.58MiB in 00:00:01 at 1.03MiB/s                 \n",
      "[ExtractAudio] Destination: ..\\data\\raw\\dementia_diaries\\audio\\Chris ponders the meaning of Christmas_729134125.wav\n"
     ]
    },
    {
     "name": "stderr",
     "output_type": "stream",
     "text": [
      "Downloading Diaries:  41%|▍| 1489/3628 [1:32:09<2:53:29,"
     ]
    },
    {
     "name": "stdout",
     "output_type": "stream",
     "text": [
      "[download] 100% of    2.39MiB in 00:00:02 at 1022.50KiB/s              \n",
      "[ExtractAudio] Destination: ..\\data\\raw\\dementia_diaries\\audio\\Dory is wondering whether going to the group is doing her more harm than good._729132925.wav\n"
     ]
    },
    {
     "name": "stderr",
     "output_type": "stream",
     "text": [
      "Downloading Diaries:  41%|▍| 1490/3628 [1:32:15<2:56:54,"
     ]
    },
    {
     "name": "stdout",
     "output_type": "stream",
     "text": [
      "[download] 100% of    1.50MiB in 00:00:01 at 1.08MiB/s                 \n",
      "[ExtractAudio] Destination: ..\\data\\raw\\dementia_diaries\\audio\\An important message at Christmas form Christine_729132046.wav\n"
     ]
    },
    {
     "name": "stderr",
     "output_type": "stream",
     "text": [
      "Downloading Diaries:  41%|▍| 1491/3628 [1:32:18<2:37:45,"
     ]
    },
    {
     "name": "stdout",
     "output_type": "stream",
     "text": [
      "[download] 100% of  612.49KiB in 00:00:00 at 777.66KiB/s               \n",
      "[ExtractAudio] Destination: ..\\data\\raw\\dementia_diaries\\audio\\�if you stop making decisions you switch off� says Stephen_729128431.wav\n"
     ]
    },
    {
     "name": "stderr",
     "output_type": "stream",
     "text": [
      "Downloading Diaries:  41%|▍| 1492/3628 [1:32:23<2:43:16,"
     ]
    },
    {
     "name": "stdout",
     "output_type": "stream",
     "text": [
      "[download] 100% of    2.63MiB in 00:00:02 at 1.05MiB/s                 \n",
      "[ExtractAudio] Destination: ..\\data\\raw\\dementia_diaries\\audio\\Agnes feels well supporting following the loss of her passport._729127261.wav\n"
     ]
    },
    {
     "name": "stderr",
     "output_type": "stream",
     "text": [
      "Downloading Diaries:  41%|▍| 1493/3628 [1:32:28<2:52:54,"
     ]
    },
    {
     "name": "stdout",
     "output_type": "stream",
     "text": [
      "[download] 100% of    2.06MiB in 00:00:02 at 1.02MiB/s                 \n",
      "[ExtractAudio] Destination: ..\\data\\raw\\dementia_diaries\\audio\\Agnes has given a keynote speech about dementia friendly communities._729126169.wav\n"
     ]
    },
    {
     "name": "stderr",
     "output_type": "stream",
     "text": [
      "Downloading Diaries:  41%|▍| 1494/3628 [1:32:34<3:01:55,"
     ]
    },
    {
     "name": "stdout",
     "output_type": "stream",
     "text": [
      "[download] 100% of    2.68MiB in 00:00:02 at 1.01MiB/s                 \n",
      "[ExtractAudio] Destination: ..\\data\\raw\\dementia_diaries\\audio\\Agnes is getting frustrated with losing things._729125206.wav\n"
     ]
    },
    {
     "name": "stderr",
     "output_type": "stream",
     "text": [
      "Downloading Diaries:  41%|▍| 1495/3628 [1:32:38<2:51:34,"
     ]
    },
    {
     "name": "stdout",
     "output_type": "stream",
     "text": [
      "[download] 100% of  999.52KiB in 00:00:01 at 969.83KiB/s               \n",
      "[ExtractAudio] Destination: ..\\data\\raw\\dementia_diaries\\audio\\Rae is not feeling listened to._729124294.wav\n"
     ]
    },
    {
     "name": "stderr",
     "output_type": "stream",
     "text": [
      "Downloading Diaries:  41%|▍| 1496/3628 [1:32:42<2:44:30,"
     ]
    },
    {
     "name": "stdout",
     "output_type": "stream",
     "text": [
      "[download] 100% of    1.26MiB in 00:00:01 at 1.01MiB/s                 \n",
      "[ExtractAudio] Destination: ..\\data\\raw\\dementia_diaries\\audio\\Glenda is looking forward to Christmas - apart from the wrapping_725660923.wav\n"
     ]
    },
    {
     "name": "stderr",
     "output_type": "stream",
     "text": [
      "Downloading Diaries:  41%|▍| 1497/3628 [1:32:47<2:43:10,"
     ]
    },
    {
     "name": "stdout",
     "output_type": "stream",
     "text": [
      "[download] 100% of    1.26MiB in 00:00:01 at 1.05MiB/s                 \n",
      "[ExtractAudio] Destination: ..\\data\\raw\\dementia_diaries\\audio\\Glenda is looking forward to Christmas - mostly._725660689.wav\n"
     ]
    },
    {
     "name": "stderr",
     "output_type": "stream",
     "text": [
      "Downloading Diaries:  41%|▍| 1498/3628 [1:32:50<2:32:36,"
     ]
    },
    {
     "name": "stdout",
     "output_type": "stream",
     "text": [
      "[download] 100% of    1.45MiB in 00:00:01 at 1.05MiB/s                 \n",
      "[ExtractAudio] Destination: ..\\data\\raw\\dementia_diaries\\audio\\Jim reports on developments of a new potential treatment for Alzheimer�s disease._725660500.wav\n"
     ]
    },
    {
     "name": "stderr",
     "output_type": "stream",
     "text": [
      "Downloading Diaries:  41%|▍| 1499/3628 [1:32:55<2:36:24,"
     ]
    },
    {
     "name": "stdout",
     "output_type": "stream",
     "text": [
      "[download] 100% of    1.36MiB in 00:00:01 at 1.00MiB/s                 \n",
      "[ExtractAudio] Destination: ..\\data\\raw\\dementia_diaries\\audio\\Rae reflects upon the ghosts of Christmas past._725660077.wav\n"
     ]
    },
    {
     "name": "stderr",
     "output_type": "stream",
     "text": [
      "Downloading Diaries:  41%|▍| 1500/3628 [1:32:59<2:33:17,"
     ]
    },
    {
     "name": "stdout",
     "output_type": "stream",
     "text": [
      "[download] 100% of    1.21MiB in 00:00:01 at 1.05MiB/s                 \n",
      "[ExtractAudio] Destination: ..\\data\\raw\\dementia_diaries\\audio\\You don�t look like you have dementia� Keith ponders this oft-heard phrase._725659864.wav\n"
     ]
    },
    {
     "name": "stderr",
     "output_type": "stream",
     "text": [
      "Downloading Diaries:  41%|▍| 1501/3628 [1:33:03<2:22:46,"
     ]
    },
    {
     "name": "stdout",
     "output_type": "stream",
     "text": [
      "[download] 100% of  365.93KiB in 00:00:00 at 611.35KiB/s               \n",
      "[ExtractAudio] Destination: ..\\data\\raw\\dementia_diaries\\audio\\Raymond couldn�t get to the Christmas party._725659696.wav\n"
     ]
    },
    {
     "name": "stderr",
     "output_type": "stream",
     "text": [
      "Downloading Diaries:  41%|▍| 1502/3628 [1:33:07<2:24:06,"
     ]
    },
    {
     "name": "stdout",
     "output_type": "stream",
     "text": [
      "[download] 100% of  763.69KiB in 00:00:00 at 977.15KiB/s                 \n",
      "[ExtractAudio] Destination: ..\\data\\raw\\dementia_diaries\\audio\\It�s freezing down in Cornwall, and Stephen is grappling with a thorny issue._725658400.wav\n"
     ]
    },
    {
     "name": "stderr",
     "output_type": "stream",
     "text": [
      "Downloading Diaries:  41%|▍| 1503/3628 [1:33:11<2:22:42,"
     ]
    },
    {
     "name": "stdout",
     "output_type": "stream",
     "text": [
      "[download] 100% of  972.52KiB in 00:00:00 at 1.01MiB/s                   \n",
      "[ExtractAudio] Destination: ..\\data\\raw\\dementia_diaries\\audio\\Tracey has rediscovered some old skills and is starting to relax._725657380.wav\n"
     ]
    },
    {
     "name": "stderr",
     "output_type": "stream",
     "text": [
      "Downloading Diaries:  41%|▍| 1504/3628 [1:33:14<2:15:35,"
     ]
    },
    {
     "name": "stdout",
     "output_type": "stream",
     "text": [
      "[download] 100% of    1.22MiB in 00:00:01 at 1.05MiB/s                 \n",
      "[ExtractAudio] Destination: ..\\data\\raw\\dementia_diaries\\audio\\A lovely Christmas message from Keith_725657116.wav\n"
     ]
    },
    {
     "name": "stderr",
     "output_type": "stream",
     "text": [
      "Downloading Diaries:  41%|▍| 1505/3628 [1:33:17<2:08:46,"
     ]
    },
    {
     "name": "stdout",
     "output_type": "stream",
     "text": [
      "[download] 100% of  430.80KiB in 00:00:00 at 783.45KiB/s               \n",
      "[ExtractAudio] Destination: ..\\data\\raw\\dementia_diaries\\audio\\Raymond has been to a new dementia cafe._725656954.wav\n"
     ]
    },
    {
     "name": "stderr",
     "output_type": "stream",
     "text": [
      "Downloading Diaries:  42%|▍| 1506/3628 [1:33:23<2:30:03,"
     ]
    },
    {
     "name": "stdout",
     "output_type": "stream",
     "text": [
      "[download] 100% of    1.77MiB in 00:00:01 at 1021.71KiB/s              \n",
      "[ExtractAudio] Destination: ..\\data\\raw\\dementia_diaries\\audio\\Our DEEP New Audio Part Three NovemberDecember 2019_725246125.wav\n"
     ]
    },
    {
     "name": "stderr",
     "output_type": "stream",
     "text": [
      "Downloading Diaries:  42%|▍| 1507/3628 [1:33:29<2:45:12,"
     ]
    },
    {
     "name": "stdout",
     "output_type": "stream",
     "text": [
      "[download] 100% of    4.15MiB in 00:00:03 at 1.26MiB/s                 \n",
      "[ExtractAudio] Destination: ..\\data\\raw\\dementia_diaries\\audio\\Our DEEP News Audio  Part Two NovDec2019_725238169.wav\n"
     ]
    },
    {
     "name": "stderr",
     "output_type": "stream",
     "text": [
      "Downloading Diaries:  42%|▍| 1508/3628 [1:33:36<3:15:54,"
     ]
    },
    {
     "name": "stdout",
     "output_type": "stream",
     "text": [
      "[download] 100% of    3.88MiB in 00:00:03 at 1.21MiB/s                 \n",
      "[ExtractAudio] Destination: ..\\data\\raw\\dementia_diaries\\audio\\Our DEEP News Audio Part One NovDec2019_725228752.wav\n"
     ]
    },
    {
     "name": "stderr",
     "output_type": "stream",
     "text": [
      "Downloading Diaries:  42%|▍| 1509/3628 [1:34:17<9:27:34,"
     ]
    },
    {
     "name": "stdout",
     "output_type": "stream",
     "text": [
      "[download] 100% of   38.87MiB in 00:00:37 at 1.03MiB/s                   \n",
      "[ExtractAudio] Destination: ..\\data\\raw\\dementia_diaries\\audio\\Dementia Enquirers Podcast 2 December 2019_724881769.wav\n"
     ]
    },
    {
     "name": "stderr",
     "output_type": "stream",
     "text": [
      "Downloading Diaries:  42%|▍| 1510/3628 [1:34:29<8:48:40,"
     ]
    },
    {
     "name": "stdout",
     "output_type": "stream",
     "text": [
      "[download] 100% of  327.04KiB in 00:00:00 at 642.56KiB/s               \n",
      "[ExtractAudio] Destination: ..\\data\\raw\\dementia_diaries\\audio\\Raymond is going to miss his cooking group._722048428.wav\n"
     ]
    },
    {
     "name": "stderr",
     "output_type": "stream",
     "text": [
      "Downloading Diaries:  42%|▍| 1511/3628 [1:34:33<6:50:33,"
     ]
    },
    {
     "name": "stdout",
     "output_type": "stream",
     "text": [
      "[download] 100% of  525.21KiB in 00:00:00 at 675.26KiB/s               \n",
      "[ExtractAudio] Destination: ..\\data\\raw\\dementia_diaries\\audio\\Rae�s had a weekend away in Merseyside with her brother._722048287.wav\n"
     ]
    },
    {
     "name": "stderr",
     "output_type": "stream",
     "text": [
      "Downloading Diaries:  42%|▍| 1512/3628 [1:34:36<5:21:44,"
     ]
    },
    {
     "name": "stdout",
     "output_type": "stream",
     "text": [
      "[download] 100% of    1.36MiB in 00:00:01 at 1.12MiB/s                 \n",
      "[ExtractAudio] Destination: ..\\data\\raw\\dementia_diaries\\audio\\Jacqui had really encouraging feedback form her recent talk._722048194.wav\n"
     ]
    },
    {
     "name": "stderr",
     "output_type": "stream",
     "text": [
      "Downloading Diaries:  42%|▍| 1513/3628 [1:34:41<4:39:23,"
     ]
    },
    {
     "name": "stdout",
     "output_type": "stream",
     "text": [
      "[download] 100% of    1.22MiB in 00:00:01 at 696.53KiB/s               \n",
      "[ExtractAudio] Destination: ..\\data\\raw\\dementia_diaries\\audio\\Jacqui gets great support on her way to London._722048089.wav\n"
     ]
    },
    {
     "name": "stderr",
     "output_type": "stream",
     "text": [
      "Downloading Diaries:  42%|▍| 1514/3628 [1:34:47<4:10:05,"
     ]
    },
    {
     "name": "stdout",
     "output_type": "stream",
     "text": [
      "[download] 100% of    3.06MiB in 00:00:02 at 1.14MiB/s                 \n",
      "[ExtractAudio] Destination: ..\\data\\raw\\dementia_diaries\\audio\\Melvyn talks about the recent award to the Forget me Not Group_722047807.wav\n"
     ]
    },
    {
     "name": "stderr",
     "output_type": "stream",
     "text": [
      "Downloading Diaries:  42%|▍| 1515/3628 [1:34:52<3:48:34,"
     ]
    },
    {
     "name": "stdout",
     "output_type": "stream",
     "text": [
      "[download] 100% of  714.70KiB in 00:00:00 at 825.08KiB/s                 \n",
      "[ExtractAudio] Destination: ..\\data\\raw\\dementia_diaries\\audio\\Stephen is looking forward to putting his feet up_722047627.wav\n"
     ]
    },
    {
     "name": "stderr",
     "output_type": "stream",
     "text": [
      "Downloading Diaries:  42%|▍| 1516/3628 [1:34:56<3:20:28,"
     ]
    },
    {
     "name": "stdout",
     "output_type": "stream",
     "text": [
      "[download] 100% of    1.48MiB in 00:00:01 at 990.26KiB/s               \n",
      "[ExtractAudio] Destination: ..\\data\\raw\\dementia_diaries\\audio\\Glenda updates us on her busy schedule_722047471.wav\n"
     ]
    },
    {
     "name": "stderr",
     "output_type": "stream",
     "text": [
      "Downloading Diaries:  42%|▍| 1517/3628 [1:35:00<3:08:33,"
     ]
    },
    {
     "name": "stdout",
     "output_type": "stream",
     "text": [
      "[download] 100% of    1.48MiB in 00:00:01 at 1.05MiB/s                 \n",
      "[ExtractAudio] Destination: ..\\data\\raw\\dementia_diaries\\audio\\Glenda updates us on her busy schedule_722047252.wav\n"
     ]
    },
    {
     "name": "stderr",
     "output_type": "stream",
     "text": [
      "Downloading Diaries:  42%|▍| 1518/3628 [1:35:05<3:07:22,"
     ]
    },
    {
     "name": "stdout",
     "output_type": "stream",
     "text": [
      "[download] 100% of    2.78MiB in 00:00:02 at 1.17MiB/s                 \n",
      "[ExtractAudio] Destination: ..\\data\\raw\\dementia_diaries\\audio\\Agnes talks about the meeting in East Lothian_722046997.wav\n"
     ]
    },
    {
     "name": "stderr",
     "output_type": "stream",
     "text": [
      "Downloading Diaries:  42%|▍| 1519/3628 [1:35:10<3:03:15,"
     ]
    },
    {
     "name": "stdout",
     "output_type": "stream",
     "text": [
      "[download] 100% of  724.79KiB in 00:00:00 at 825.94KiB/s                 \n",
      "[ExtractAudio] Destination: ..\\data\\raw\\dementia_diaries\\audio\\It�s an alien world out there� says Rae_722046823.wav\n"
     ]
    },
    {
     "name": "stderr",
     "output_type": "stream",
     "text": [
      "Downloading Diaries:  42%|▍| 1520/3628 [1:35:14<2:47:55,"
     ]
    },
    {
     "name": "stdout",
     "output_type": "stream",
     "text": [
      "[download] 100% of  964.23KiB in 00:00:01 at 957.16KiB/s                 \n",
      "[ExtractAudio] Destination: ..\\data\\raw\\dementia_diaries\\audio\\Agnes is off to a meeting with groups in East Lothian._722046505.wav\n"
     ]
    },
    {
     "name": "stderr",
     "output_type": "stream",
     "text": [
      "Downloading Diaries:  42%|▍| 1521/3628 [1:35:18<2:44:07,"
     ]
    },
    {
     "name": "stdout",
     "output_type": "stream",
     "text": [
      "[download] 100% of    1.17MiB in 00:00:01 at 982.89KiB/s               \n",
      "[ExtractAudio] Destination: ..\\data\\raw\\dementia_diaries\\audio\\Agnes has been celebrating James� time as a campaigner._722046331.wav\n"
     ]
    },
    {
     "name": "stderr",
     "output_type": "stream",
     "text": [
      "Downloading Diaries:  42%|▍| 1522/3628 [1:35:23<2:40:43,"
     ]
    },
    {
     "name": "stdout",
     "output_type": "stream",
     "text": [
      "[download] 100% of  289.17KiB in 00:00:00 at 626.86KiB/s               \n",
      "[ExtractAudio] Destination: ..\\data\\raw\\dementia_diaries\\audio\\Raymond�s had a really goods afternoon at Springboard_719225170.wav\n"
     ]
    },
    {
     "name": "stderr",
     "output_type": "stream",
     "text": [
      "Downloading Diaries:  42%|▍| 1523/3628 [1:35:27<2:31:22,"
     ]
    },
    {
     "name": "stdout",
     "output_type": "stream",
     "text": [
      "[download] 100% of  987.81KiB in 00:00:01 at 950.79KiB/s               \n",
      "[ExtractAudio] Destination: ..\\data\\raw\\dementia_diaries\\audio\\Rae is disappointed._719224801.wav\n"
     ]
    },
    {
     "name": "stderr",
     "output_type": "stream",
     "text": [
      "Downloading Diaries:  42%|▍| 1524/3628 [1:35:30<2:17:19,"
     ]
    },
    {
     "name": "stdout",
     "output_type": "stream",
     "text": [
      "[download] 100% of  426.51KiB in 00:00:00 at 831.98KiB/s               \n",
      "[ExtractAudio] Destination: ..\\data\\raw\\dementia_diaries\\audio\\Dory finds beauty in a cold wet day._719224516.wav\n"
     ]
    },
    {
     "name": "stderr",
     "output_type": "stream",
     "text": [
      "Downloading Diaries:  42%|▍| 1525/3628 [1:35:34<2:23:21,"
     ]
    },
    {
     "name": "stdout",
     "output_type": "stream",
     "text": [
      "[download] 100% of    2.02MiB in 00:00:01 at 1.14MiB/s                 \n",
      "[ExtractAudio] Destination: ..\\data\\raw\\dementia_diaries\\audio\\Agnes is in the horns of a dilemma about language_719224189.wav\n"
     ]
    },
    {
     "name": "stderr",
     "output_type": "stream",
     "text": [
      "Downloading Diaries:  42%|▍| 1526/3628 [1:35:39<2:27:30,"
     ]
    },
    {
     "name": "stdout",
     "output_type": "stream",
     "text": [
      "[download] 100% of    2.06MiB in 00:00:01 at 1.22MiB/s                 \n",
      "[ExtractAudio] Destination: ..\\data\\raw\\dementia_diaries\\audio\\Agnes reflects on her TED talk_719223826.wav\n"
     ]
    },
    {
     "name": "stderr",
     "output_type": "stream",
     "text": [
      "Downloading Diaries:  42%|▍| 1527/3628 [1:35:43<2:33:36,"
     ]
    },
    {
     "name": "stdout",
     "output_type": "stream",
     "text": [
      "[download] 100% of  289.17KiB in 00:00:00 at 564.11KiB/s               \n",
      "[ExtractAudio] Destination: ..\\data\\raw\\dementia_diaries\\audio\\Raymond�s had a really good afternoon at Springboard_719223637.wav\n"
     ]
    },
    {
     "name": "stderr",
     "output_type": "stream",
     "text": [
      "Downloading Diaries:  42%|▍| 1528/3628 [1:35:47<2:27:32,"
     ]
    },
    {
     "name": "stdout",
     "output_type": "stream",
     "text": [
      "[download] 100% of  910.23KiB in 00:00:00 at 973.18KiB/s                 \n",
      "[ExtractAudio] Destination: ..\\data\\raw\\dementia_diaries\\audio\\The Happy Tandemer is feeling happy and relaxed_719223436.wav\n"
     ]
    },
    {
     "name": "stderr",
     "output_type": "stream",
     "text": [
      "Downloading Diaries:  42%|▍| 1529/3628 [1:35:50<2:14:28,"
     ]
    },
    {
     "name": "stdout",
     "output_type": "stream",
     "text": [
      "[download] 100% of  945.17KiB in 00:00:00 at 1.00MiB/s                   \n",
      "[ExtractAudio] Destination: ..\\data\\raw\\dementia_diaries\\audio\\Stephen is having a difficult time with his dementia._719223181.wav\n"
     ]
    },
    {
     "name": "stderr",
     "output_type": "stream",
     "text": [
      "Downloading Diaries:  42%|▍| 1530/3628 [1:35:55<2:21:48,"
     ]
    },
    {
     "name": "stdout",
     "output_type": "stream",
     "text": [
      "[download] 100% of    1.39MiB in 00:00:01 at 1.15MiB/s                 \n",
      "[ExtractAudio] Destination: ..\\data\\raw\\dementia_diaries\\audio\\Jacqui helps a friend in trouble._719222839.wav\n"
     ]
    },
    {
     "name": "stderr",
     "output_type": "stream",
     "text": [
      "Downloading Diaries:  42%|▍| 1531/3628 [1:35:59<2:28:04,"
     ]
    },
    {
     "name": "stdout",
     "output_type": "stream",
     "text": [
      "[download] 100% of    1.01MiB in 00:00:01 at 1018.36KiB/s                \n",
      "[ExtractAudio] Destination: ..\\data\\raw\\dementia_diaries\\audio\\I'm 92 And A Half CV 3_716339383.wav\n"
     ]
    },
    {
     "name": "stderr",
     "output_type": "stream",
     "text": [
      "Downloading Diaries:  42%|▍| 1532/3628 [1:36:03<2:25:07,"
     ]
    },
    {
     "name": "stdout",
     "output_type": "stream",
     "text": [
      "[download] 100% of  975.09KiB in 00:00:01 at 824.08KiB/s               \n",
      "[ExtractAudio] Destination: ..\\data\\raw\\dementia_diaries\\audio\\David From Clear Voices_716335666.wav\n"
     ]
    },
    {
     "name": "stderr",
     "output_type": "stream",
     "text": [
      "Downloading Diaries:  42%|▍| 1533/3628 [1:36:07<2:21:32,"
     ]
    },
    {
     "name": "stdout",
     "output_type": "stream",
     "text": [
      "[download] 100% of  823.92KiB in 00:00:00 at 913.33KiB/s                 \n",
      "[ExtractAudio] Destination: ..\\data\\raw\\dementia_diaries\\audio\\My Old Man's A Dustman from Clear Voices_716331625.wav\n"
     ]
    },
    {
     "name": "stderr",
     "output_type": "stream",
     "text": [
      "Downloading Diaries:  42%|▍| 1534/3628 [1:36:12<2:29:18,"
     ]
    },
    {
     "name": "stdout",
     "output_type": "stream",
     "text": [
      "[download] 100% of    1.10MiB in 00:00:01 at 970.96KiB/s               \n",
      "[ExtractAudio] Destination: ..\\data\\raw\\dementia_diaries\\audio\\John from the Clear Voices Group_716290735.wav\n"
     ]
    },
    {
     "name": "stderr",
     "output_type": "stream",
     "text": [
      "Downloading Diaries:  42%|▍| 1535/3628 [1:36:16<2:25:36,"
     ]
    },
    {
     "name": "stdout",
     "output_type": "stream",
     "text": [
      "[download] 100% of    1.37MiB in 00:00:01 at 1.06MiB/s                 \n",
      "[ExtractAudio] Destination: ..\\data\\raw\\dementia_diaries\\audio\\Jacqui has been talking about the church and dementia._715311346.wav\n"
     ]
    },
    {
     "name": "stderr",
     "output_type": "stream",
     "text": [
      "Downloading Diaries:  42%|▍| 1536/3628 [1:36:20<2:22:47,"
     ]
    },
    {
     "name": "stdout",
     "output_type": "stream",
     "text": [
      "[download] 100% of    1.11MiB in 00:00:01 at 911.13KiB/s               \n",
      "[ExtractAudio] Destination: ..\\data\\raw\\dementia_diaries\\audio\\Jacqui feels the post office could be a bit more dementia friendly._715311118.wav\n"
     ]
    },
    {
     "name": "stderr",
     "output_type": "stream",
     "text": [
      "Downloading Diaries:  42%|▍| 1537/3628 [1:36:26<2:48:10,"
     ]
    },
    {
     "name": "stdout",
     "output_type": "stream",
     "text": [
      "[download] 100% of    2.60MiB in 00:00:02 at 1.17MiB/s                 \n",
      "[ExtractAudio] Destination: ..\\data\\raw\\dementia_diaries\\audio\\Agnes thanks those who supported her during her recent health crisis._715310959.wav\n"
     ]
    },
    {
     "name": "stderr",
     "output_type": "stream",
     "text": [
      "Downloading Diaries:  42%|▍| 1538/3628 [1:36:32<2:52:28,"
     ]
    },
    {
     "name": "stdout",
     "output_type": "stream",
     "text": [
      "[download] 100% of    1.30MiB in 00:00:01 at 991.89KiB/s               \n",
      "[ExtractAudio] Destination: ..\\data\\raw\\dementia_diaries\\audio\\Coach travel has its downsides for Glenda._715310503.wav\n"
     ]
    },
    {
     "name": "stderr",
     "output_type": "stream",
     "text": [
      "Downloading Diaries:  42%|▍| 1539/3628 [1:36:36<2:45:10,"
     ]
    },
    {
     "name": "stdout",
     "output_type": "stream",
     "text": [
      "[download] 100% of  744.51KiB in 00:00:00 at 955.00KiB/s                 \n",
      "[ExtractAudio] Destination: ..\\data\\raw\\dementia_diaries\\audio\\Stephen's walking group finds not everyone especially welcoming._715310320.wav\n"
     ]
    },
    {
     "name": "stderr",
     "output_type": "stream",
     "text": [
      "Downloading Diaries:  42%|▍| 1540/3628 [1:36:40<2:43:52,"
     ]
    },
    {
     "name": "stdout",
     "output_type": "stream",
     "text": [
      "[download] 100% of    2.09MiB in 00:00:01 at 1.14MiB/s                 \n",
      "[ExtractAudio] Destination: ..\\data\\raw\\dementia_diaries\\audio\\Agnes is full of the praise for the paramedics who helped her._715310029.wav\n"
     ]
    },
    {
     "name": "stderr",
     "output_type": "stream",
     "text": [
      "Downloading Diaries:  42%|▍| 1541/3628 [1:36:44<2:36:14,"
     ]
    },
    {
     "name": "stdout",
     "output_type": "stream",
     "text": [
      "[download] 100% of  423.82KiB in 00:00:00 at 851.82KiB/s               \n",
      "[ExtractAudio] Destination: ..\\data\\raw\\dementia_diaries\\audio\\Raymond has just received his Dementia Diaries newsletter._715309774.wav\n"
     ]
    },
    {
     "name": "stderr",
     "output_type": "stream",
     "text": [
      "Downloading Diaries:  43%|▍| 1542/3628 [1:36:49<2:38:58,"
     ]
    },
    {
     "name": "stdout",
     "output_type": "stream",
     "text": [
      "[download] 100% of    2.60MiB in 00:00:02 at 993.04KiB/s               \n",
      "[ExtractAudio] Destination: ..\\data\\raw\\dementia_diaries\\audio\\Dory looks back fondly over the events at Dementia Congress._711654751.wav\n"
     ]
    },
    {
     "name": "stderr",
     "output_type": "stream",
     "text": [
      "Downloading Diaries:  43%|▍| 1543/3628 [1:36:54<2:43:26,"
     ]
    },
    {
     "name": "stdout",
     "output_type": "stream",
     "text": [
      "[download] 100% of    1.30MiB in 00:00:01 at 1.14MiB/s                 \n",
      "[ExtractAudio] Destination: ..\\data\\raw\\dementia_diaries\\audio\\Keith updates us on his busy schedule._711654622.wav\n"
     ]
    },
    {
     "name": "stderr",
     "output_type": "stream",
     "text": [
      "Downloading Diaries:  43%|▍| 1544/3628 [1:36:58<2:31:57,"
     ]
    },
    {
     "name": "stdout",
     "output_type": "stream",
     "text": [
      "[download] 100% of  655.88KiB in 00:00:00 at 974.33KiB/s               \n",
      "[ExtractAudio] Destination: ..\\data\\raw\\dementia_diaries\\audio\\Paul is looking forward to a lie-in at the weekend._711654079.wav\n"
     ]
    },
    {
     "name": "stderr",
     "output_type": "stream",
     "text": [
      "Downloading Diaries:  43%|▍| 1545/3628 [1:37:01<2:20:52,"
     ]
    },
    {
     "name": "stdout",
     "output_type": "stream",
     "text": [
      "[download] 100% of  575.25KiB in 00:00:00 at 805.30KiB/s               \n",
      "[ExtractAudio] Destination: ..\\data\\raw\\dementia_diaries\\audio\\Stephen has been out with his group to a National Trust site._711653833.wav\n"
     ]
    },
    {
     "name": "stderr",
     "output_type": "stream",
     "text": [
      "Downloading Diaries:  43%|▍| 1546/3628 [1:37:06<2:24:35,"
     ]
    },
    {
     "name": "stdout",
     "output_type": "stream",
     "text": [
      "[download] 100% of  801.12KiB in 00:00:00 at 881.34KiB/s                 \n",
      "[ExtractAudio] Destination: ..\\data\\raw\\dementia_diaries\\audio\\Rae is feeling the benefit of being part of a team._711653740.wav\n"
     ]
    },
    {
     "name": "stderr",
     "output_type": "stream",
     "text": [
      "Downloading Diaries:  43%|▍| 1547/3628 [1:37:09<2:22:21,"
     ]
    },
    {
     "name": "stdout",
     "output_type": "stream",
     "text": [
      "[download] 100% of  915.12KiB in 00:00:00 at 943.29KiB/s                 \n",
      "[ExtractAudio] Destination: ..\\data\\raw\\dementia_diaries\\audio\\Dory reports from the DEEP stall at Dementia Congress_711653476.wav\n"
     ]
    },
    {
     "name": "stderr",
     "output_type": "stream",
     "text": [
      "Downloading Diaries:  43%|▍| 1548/3628 [1:37:13<2:18:04,"
     ]
    },
    {
     "name": "stdout",
     "output_type": "stream",
     "text": [
      "[download] 100% of    1.02MiB in 00:00:00 at 1.09MiB/s                   \n",
      "[ExtractAudio] Destination: ..\\data\\raw\\dementia_diaries\\audio\\Julie wonders what will happen if her dementia progresses._711648916.wav\n"
     ]
    },
    {
     "name": "stderr",
     "output_type": "stream",
     "text": [
      "Downloading Diaries:  43%|▍| 1549/3628 [1:37:17<2:20:44,"
     ]
    },
    {
     "name": "stdout",
     "output_type": "stream",
     "text": [
      "[download] 100% of  290.90KiB in 00:00:00 at 614.47KiB/s               \n",
      "[ExtractAudio] Destination: ..\\data\\raw\\dementia_diaries\\audio\\Raymond has been taking cookery classes._711646369.wav\n"
     ]
    },
    {
     "name": "stderr",
     "output_type": "stream",
     "text": [
      "Downloading Diaries:  43%|▍| 1550/3628 [1:37:22<2:21:28,"
     ]
    },
    {
     "name": "stdout",
     "output_type": "stream",
     "text": [
      "[download] 100% of    1.47MiB in 00:00:01 at 1.17MiB/s                 \n",
      "[ExtractAudio] Destination: ..\\data\\raw\\dementia_diaries\\audio\\Agnes is worried she has damaged her ankle._711646204.wav\n"
     ]
    },
    {
     "name": "stderr",
     "output_type": "stream",
     "text": [
      "Downloading Diaries:  43%|▍| 1551/3628 [1:37:27<2:33:26,"
     ]
    },
    {
     "name": "stdout",
     "output_type": "stream",
     "text": [
      "[download] 100% of  800.28KiB in 00:00:01 at 678.64KiB/s               \n",
      "[ExtractAudio] Destination: ..\\data\\raw\\dementia_diaries\\audio\\Rae is feeling pushed out and forgotten._711645991.wav\n"
     ]
    },
    {
     "name": "stderr",
     "output_type": "stream",
     "text": [
      "Downloading Diaries:  43%|▍| 1552/3628 [1:37:32<2:45:54,"
     ]
    },
    {
     "name": "stdout",
     "output_type": "stream",
     "text": [
      "[download] 100% of    1.87MiB in 00:00:01 at 1.10MiB/s                 \n",
      "[ExtractAudio] Destination: ..\\data\\raw\\dementia_diaries\\audio\\Agnes ponders the role of technology in the lives of people with dementia._711645337.wav\n"
     ]
    },
    {
     "name": "stderr",
     "output_type": "stream",
     "text": [
      "Downloading Diaries:  43%|▍| 1553/3628 [1:37:37<2:42:18,"
     ]
    },
    {
     "name": "stdout",
     "output_type": "stream",
     "text": [
      "[download] 100% of    1.04MiB in 00:00:01 at 988.91KiB/s               \n",
      "[ExtractAudio] Destination: ..\\data\\raw\\dementia_diaries\\audio\\Happy Tandemer is talking about dementia diaries and DEEP in Cambridge._711645157.wav\n"
     ]
    },
    {
     "name": "stderr",
     "output_type": "stream",
     "text": [
      "Downloading Diaries:  43%|▍| 1554/3628 [1:37:40<2:29:45,"
     ]
    },
    {
     "name": "stdout",
     "output_type": "stream",
     "text": [
      "[download] 100% of  594.45KiB in 00:00:00 at 899.98KiB/s               \n",
      "[ExtractAudio] Destination: ..\\data\\raw\\dementia_diaries\\audio\\Happy Tandemer is off to a conference about what it is to be human._711644410.wav\n"
     ]
    },
    {
     "name": "stderr",
     "output_type": "stream",
     "text": [
      "Downloading Diaries:  43%|▍| 1555/3628 [1:37:44<2:24:52,"
     ]
    },
    {
     "name": "stdout",
     "output_type": "stream",
     "text": [
      "[download] 100% of    1.77MiB in 00:00:01 at 1.13MiB/s                 \n",
      "[ExtractAudio] Destination: ..\\data\\raw\\dementia_diaries\\audio\\Call Dory a victim of dementia at your peril._711644185.wav\n"
     ]
    },
    {
     "name": "stderr",
     "output_type": "stream",
     "text": [
      "Downloading Diaries:  43%|▍| 1556/3628 [1:37:49<2:27:15,"
     ]
    },
    {
     "name": "stdout",
     "output_type": "stream",
     "text": [
      "[download] 100% of  876.07KiB in 00:00:00 at 1006.59KiB/s                \n",
      "[ExtractAudio] Destination: ..\\data\\raw\\dementia_diaries\\audio\\Rae finds it hard to explain what it is like to have dementia._711643993.wav\n"
     ]
    },
    {
     "name": "stderr",
     "output_type": "stream",
     "text": [
      "Downloading Diaries:  43%|▍| 1557/3628 [1:37:52<2:16:19,"
     ]
    },
    {
     "name": "stdout",
     "output_type": "stream",
     "text": [
      "[download] 100% of    1.05MiB in 00:00:01 at 1.02MiB/s                 \n",
      "[ExtractAudio] Destination: ..\\data\\raw\\dementia_diaries\\audio\\Jacqui has had some disappointing news._711643798.wav\n"
     ]
    },
    {
     "name": "stderr",
     "output_type": "stream",
     "text": [
      "Downloading Diaries:  43%|▍| 1558/3628 [1:37:56<2:12:52,"
     ]
    },
    {
     "name": "stdout",
     "output_type": "stream",
     "text": [
      "[download] 100% of    1.58MiB in 00:00:01 at 1.12MiB/s                 \n",
      "[ExtractAudio] Destination: ..\\data\\raw\\dementia_diaries\\audio\\Glenda reports from Fort William on her Scottish trip_711643552.wav\n"
     ]
    },
    {
     "name": "stderr",
     "output_type": "stream",
     "text": [
      "Downloading Diaries:  43%|▍| 1559/3628 [1:38:00<2:16:17,"
     ]
    },
    {
     "name": "stdout",
     "output_type": "stream",
     "text": [
      "[download] 100% of  322.97KiB in 00:00:00 at 628.92KiB/s               \n",
      "[ExtractAudio] Destination: ..\\data\\raw\\dementia_diaries\\audio\\Raymond has had a good meeting at Springboard._711643288.wav\n"
     ]
    },
    {
     "name": "stderr",
     "output_type": "stream",
     "text": [
      "Downloading Diaries:  43%|▍| 1560/3628 [1:38:04<2:14:36,"
     ]
    },
    {
     "name": "stdout",
     "output_type": "stream",
     "text": [
      "[download] 100% of  812.59KiB in 00:00:00 at 981.31KiB/s                 \n",
      "[ExtractAudio] Destination: ..\\data\\raw\\dementia_diaries\\audio\\Stephen finds the flu jab hurts more than he remembered._711642538.wav\n"
     ]
    },
    {
     "name": "stderr",
     "output_type": "stream",
     "text": [
      "Downloading Diaries:  43%|▍| 1561/3628 [1:38:08<2:22:44,"
     ]
    },
    {
     "name": "stdout",
     "output_type": "stream",
     "text": [
      "[download] 100% of    1.60MiB in 00:00:01 at 1.10MiB/s                 \n",
      "[ExtractAudio] Destination: ..\\data\\raw\\dementia_diaries\\audio\\Tracey ponders the need to be busy and positive all the time._711642286.wav\n"
     ]
    },
    {
     "name": "stderr",
     "output_type": "stream",
     "text": [
      "Downloading Diaries:  43%|▍| 1562/3628 [1:38:12<2:17:06,"
     ]
    },
    {
     "name": "stdout",
     "output_type": "stream",
     "text": [
      "[download] 100% of  862.99KiB in 00:00:00 at 1021.93KiB/s                \n",
      "[ExtractAudio] Destination: ..\\data\\raw\\dementia_diaries\\audio\\Melvyn is enthusiastic about the new �Friendly Face� service_711642046.wav\n"
     ]
    },
    {
     "name": "stderr",
     "output_type": "stream",
     "text": [
      "Downloading Diaries:  43%|▍| 1563/3628 [1:38:17<2:28:03,"
     ]
    },
    {
     "name": "stdout",
     "output_type": "stream",
     "text": [
      "[download] 100% of    1.53MiB in 00:00:01 at 1.18MiB/s                 \n",
      "[ExtractAudio] Destination: ..\\data\\raw\\dementia_diaries\\audio\\Melvyn wonders how many people do  �live well with dementia�_711641887.wav\n"
     ]
    },
    {
     "name": "stderr",
     "output_type": "stream",
     "text": [
      "Downloading Diaries:  43%|▍| 1564/3628 [1:38:22<2:35:29,"
     ]
    },
    {
     "name": "stdout",
     "output_type": "stream",
     "text": [
      "[download] 100% of    1.17MiB in 00:00:01 at 1.11MiB/s                 \n",
      "[ExtractAudio] Destination: ..\\data\\raw\\dementia_diaries\\audio\\Melvyn�s not sure that the colour of zimmer frames matters._711641623.wav\n"
     ]
    },
    {
     "name": "stderr",
     "output_type": "stream",
     "text": [
      "Downloading Diaries:  43%|▍| 1565/3628 [1:38:28<2:47:37,"
     ]
    },
    {
     "name": "stdout",
     "output_type": "stream",
     "text": [
      "[download] 100% of    2.42MiB in 00:00:02 at 1.21MiB/s                 \n",
      "[ExtractAudio] Destination: ..\\data\\raw\\dementia_diaries\\audio\\Wales Compilation Nov 2019_711083461.wav\n"
     ]
    },
    {
     "name": "stderr",
     "output_type": "stream",
     "text": [
      "Downloading Diaries:  43%|▍| 1566/3628 [1:38:32<2:45:57,"
     ]
    },
    {
     "name": "stdout",
     "output_type": "stream",
     "text": [
      "[download] 100% of    1.22MiB in 00:00:01 at 873.12KiB/s               \n",
      "[ExtractAudio] Destination: ..\\data\\raw\\dementia_diaries\\audio\\Steve Milton from Innovations in Dementia reads a  letter to all diarists._704517892.wav\n"
     ]
    },
    {
     "name": "stderr",
     "output_type": "stream",
     "text": [
      "Downloading Diaries:  43%|▍| 1567/3628 [1:38:37<2:40:10,"
     ]
    },
    {
     "name": "stdout",
     "output_type": "stream",
     "text": [
      "[download] 100% of  591.40KiB in 00:00:00 at 643.93KiB/s                 \n",
      "[ExtractAudio] Destination: ..\\data\\raw\\dementia_diaries\\audio\\Wendy wants to encourage awareness of the hidden disabilities lanyard._704515690.wav\n"
     ]
    },
    {
     "name": "stderr",
     "output_type": "stream",
     "text": [
      "Downloading Diaries:  43%|▍| 1568/3628 [1:38:42<2:46:13,"
     ]
    },
    {
     "name": "stdout",
     "output_type": "stream",
     "text": [
      "[download] 100% of    1.79MiB in 00:00:02 at 870.50KiB/s               \n",
      "[ExtractAudio] Destination: ..\\data\\raw\\dementia_diaries\\audio\\Ron discusses the importance of Ownership as a cornerstone of recovery._704514457.wav\n"
     ]
    },
    {
     "name": "stderr",
     "output_type": "stream",
     "text": [
      "Downloading Diaries:  43%|▍| 1569/3628 [1:38:45<2:26:09,"
     ]
    },
    {
     "name": "stdout",
     "output_type": "stream",
     "text": [
      "[download] 100% of  502.57KiB in 00:00:00 at 792.56KiB/s               \n",
      "[ExtractAudio] Destination: ..\\data\\raw\\dementia_diaries\\audio\\Rae is struggling to contain her emotions._704512474.wav\n"
     ]
    },
    {
     "name": "stderr",
     "output_type": "stream",
     "text": [
      "Downloading Diaries:  43%|▍| 1570/3628 [1:38:49<2:26:40,"
     ]
    },
    {
     "name": "stdout",
     "output_type": "stream",
     "text": [
      "[download] 100% of    1.20MiB in 00:00:01 at 1.04MiB/s                 \n",
      "[ExtractAudio] Destination: ..\\data\\raw\\dementia_diaries\\audio\\Agnes explains how important it is for her and others to get it in writing._704511280.wav\n"
     ]
    },
    {
     "name": "stderr",
     "output_type": "stream",
     "text": [
      "Downloading Diaries:  43%|▍| 1571/3628 [1:38:52<2:15:31,"
     ]
    },
    {
     "name": "stdout",
     "output_type": "stream",
     "text": [
      "[download] 100% of  462.37KiB in 00:00:00 at 691.21KiB/s               \n",
      "[ExtractAudio] Destination: ..\\data\\raw\\dementia_diaries\\audio\\All part of being a superstar_701496151.wav\n"
     ]
    },
    {
     "name": "stderr",
     "output_type": "stream",
     "text": [
      "Downloading Diaries:  43%|▍| 1572/3628 [1:38:56<2:10:04,"
     ]
    },
    {
     "name": "stdout",
     "output_type": "stream",
     "text": [
      "[download] 100% of    1.38MiB in 00:00:01 at 1.06MiB/s                 \n",
      "[ExtractAudio] Destination: ..\\data\\raw\\dementia_diaries\\audio\\Dory makes a difference_701489197.wav\n"
     ]
    },
    {
     "name": "stderr",
     "output_type": "stream",
     "text": [
      "Downloading Diaries:  43%|▍| 1573/3628 [1:39:00<2:15:08,"
     ]
    },
    {
     "name": "stdout",
     "output_type": "stream",
     "text": [
      "[download] 100% of    2.06MiB in 00:00:01 at 1.17MiB/s                 \n",
      "[ExtractAudio] Destination: ..\\data\\raw\\dementia_diaries\\audio\\Our strength will come when we are as one!_701098849.wav\n"
     ]
    },
    {
     "name": "stderr",
     "output_type": "stream",
     "text": [
      "Downloading Diaries:  43%|▍| 1574/3628 [1:39:03<2:04:50,"
     ]
    },
    {
     "name": "stdout",
     "output_type": "stream",
     "text": [
      "[download] 100% of  286.81KiB in 00:00:00 at 679.63KiB/s               \n",
      "[ExtractAudio] Destination: ..\\data\\raw\\dementia_diaries\\audio\\Hand out hope that you can still live a life after diagnosis_701086486.wav\n"
     ]
    },
    {
     "name": "stderr",
     "output_type": "stream",
     "text": [
      "Downloading Diaries:  43%|▍| 1575/3628 [1:39:05<1:52:27,"
     ]
    },
    {
     "name": "stdout",
     "output_type": "stream",
     "text": [
      "[download] 100% of  521.56KiB in 00:00:00 at 910.43KiB/s               \n",
      "[ExtractAudio] Destination: ..\\data\\raw\\dementia_diaries\\audio\\All outside is quiet, but there is a party going on inside my head_701081797.wav\n"
     ]
    },
    {
     "name": "stderr",
     "output_type": "stream",
     "text": [
      "Downloading Diaries:  43%|▍| 1576/3628 [1:39:11<2:12:24,"
     ]
    },
    {
     "name": "stdout",
     "output_type": "stream",
     "text": [
      "[download] 100% of    1.57MiB in 00:00:01 at 1.12MiB/s                 \n",
      "[ExtractAudio] Destination: ..\\data\\raw\\dementia_diaries\\audio\\Thanks to a transcriber for their feedback_701077105.wav\n"
     ]
    },
    {
     "name": "stderr",
     "output_type": "stream",
     "text": [
      "Downloading Diaries:  43%|▍| 1577/3628 [1:39:15<2:17:18,"
     ]
    },
    {
     "name": "stdout",
     "output_type": "stream",
     "text": [
      "[download] 100% of    1.50MiB in 00:00:01 at 1.06MiB/s                 \n",
      "[ExtractAudio] Destination: ..\\data\\raw\\dementia_diaries\\audio\\Dory visits the MacIntyre Dementia Project_701009971.wav\n"
     ]
    },
    {
     "name": "stderr",
     "output_type": "stream",
     "text": [
      "Downloading Diaries:  43%|▍| 1578/3628 [1:39:19<2:18:13,"
     ]
    },
    {
     "name": "stdout",
     "output_type": "stream",
     "text": [
      "[download] 100% of  931.05KiB in 00:00:00 at 1.08MiB/s                   \n",
      "[ExtractAudio] Destination: ..\\data\\raw\\dementia_diaries\\audio\\With the help of DEEP I am going to reach the top_701006215.wav\n"
     ]
    },
    {
     "name": "stderr",
     "output_type": "stream",
     "text": [
      "Downloading Diaries:  44%|▍| 1579/3628 [1:39:23<2:12:42,"
     ]
    },
    {
     "name": "stdout",
     "output_type": "stream",
     "text": [
      "[download] 100% of    1.57MiB in 00:00:01 at 1.13MiB/s                 \n",
      "[ExtractAudio] Destination: ..\\data\\raw\\dementia_diaries\\audio\\It's not easy being an activist_701003860.wav\n"
     ]
    },
    {
     "name": "stderr",
     "output_type": "stream",
     "text": [
      "Downloading Diaries:  44%|▍| 1580/3628 [1:39:27<2:19:46,"
     ]
    },
    {
     "name": "stdout",
     "output_type": "stream",
     "text": [
      "[download] 100% of  556.49KiB in 00:00:00 at 928.83KiB/s               \n",
      "[ExtractAudio] Destination: ..\\data\\raw\\dementia_diaries\\audio\\Feeling really grotty with a chest infection_701000677.wav\n"
     ]
    },
    {
     "name": "stderr",
     "output_type": "stream",
     "text": [
      "Downloading Diaries:  44%|▍| 1581/3628 [1:39:31<2:17:56,"
     ]
    },
    {
     "name": "stdout",
     "output_type": "stream",
     "text": [
      "[download] 100% of  463.39KiB in 00:00:00 at 846.56KiB/s               \n",
      "[ExtractAudio] Destination: ..\\data\\raw\\dementia_diaries\\audio\\Proud to see himself in the newsletter_700998445.wav\n"
     ]
    },
    {
     "name": "stderr",
     "output_type": "stream",
     "text": [
      "Downloading Diaries:  44%|▍| 1582/3628 [1:39:35<2:20:40,"
     ]
    },
    {
     "name": "stdout",
     "output_type": "stream",
     "text": [
      "[download] 100% of  451.93KiB in 00:00:00 at 933.02KiB/s               \n",
      "[ExtractAudio] Destination: ..\\data\\raw\\dementia_diaries\\audio\\Shelagh filming take two_700995961.wav\n"
     ]
    },
    {
     "name": "stderr",
     "output_type": "stream",
     "text": [
      "Downloading Diaries:  44%|▍| 1583/3628 [1:39:38<2:07:21,"
     ]
    },
    {
     "name": "stdout",
     "output_type": "stream",
     "text": [
      "[download] 100% of  417.57KiB in 00:00:00 at 854.56KiB/s               \n",
      "[ExtractAudio] Destination: ..\\data\\raw\\dementia_diaries\\audio\\Being filmed by ITV News_700992337.wav\n"
     ]
    },
    {
     "name": "stderr",
     "output_type": "stream",
     "text": [
      "Downloading Diaries:  44%|▍| 1584/3628 [1:39:43<2:16:53,"
     ]
    },
    {
     "name": "stdout",
     "output_type": "stream",
     "text": [
      "[download] 100% of    1.14MiB in 00:00:01 at 1.04MiB/s                 \n",
      "[ExtractAudio] Destination: ..\\data\\raw\\dementia_diaries\\audio\\I've been inspired by someone else._700988890.wav\n"
     ]
    },
    {
     "name": "stderr",
     "output_type": "stream",
     "text": [
      "Downloading Diaries:  44%|▍| 1585/3628 [1:39:46<2:07:38,"
     ]
    },
    {
     "name": "stdout",
     "output_type": "stream",
     "text": [
      "[download] 100% of  609.65KiB in 00:00:00 at 899.87KiB/s               \n",
      "[ExtractAudio] Destination: ..\\data\\raw\\dementia_diaries\\audio\\I'm grumpy today_700986445.wav\n"
     ]
    },
    {
     "name": "stderr",
     "output_type": "stream",
     "text": [
      "Downloading Diaries:  44%|▍| 1586/3628 [1:39:51<2:15:02,"
     ]
    },
    {
     "name": "stdout",
     "output_type": "stream",
     "text": [
      "[download] 100% of    1.44MiB in 00:00:01 at 1.13MiB/s                 \n",
      "[ExtractAudio] Destination: ..\\data\\raw\\dementia_diaries\\audio\\Glenda has been in hospital_700983346.wav\n"
     ]
    },
    {
     "name": "stderr",
     "output_type": "stream",
     "text": [
      "Downloading Diaries:  44%|▍| 1587/3628 [1:39:54<2:14:55,"
     ]
    },
    {
     "name": "stdout",
     "output_type": "stream",
     "text": [
      "[download] 100% of    1.66MiB in 00:00:01 at 1.17MiB/s                 \n",
      "[ExtractAudio] Destination: ..\\data\\raw\\dementia_diaries\\audio\\It's a tough life out there_700979920.wav\n"
     ]
    },
    {
     "name": "stderr",
     "output_type": "stream",
     "text": [
      "Downloading Diaries:  44%|▍| 1588/3628 [1:39:59<2:22:06,"
     ]
    },
    {
     "name": "stdout",
     "output_type": "stream",
     "text": [
      "[download] 100% of    1.15MiB in 00:00:01 at 1.02MiB/s                 \n",
      "[ExtractAudio] Destination: ..\\data\\raw\\dementia_diaries\\audio\\The song we created ourselves_700610185.wav\n"
     ]
    },
    {
     "name": "stderr",
     "output_type": "stream",
     "text": [
      "Downloading Diaries:  44%|▍| 1589/3628 [1:40:05<2:42:31,"
     ]
    },
    {
     "name": "stdout",
     "output_type": "stream",
     "text": [
      "[download] 100% of    3.37MiB in 00:00:02 at 1.14MiB/s                 \n",
      "[ExtractAudio] Destination: ..\\data\\raw\\dementia_diaries\\audio\\Three members of Clear Voices share their thoughts_700605346.wav\n"
     ]
    },
    {
     "name": "stderr",
     "output_type": "stream",
     "text": [
      "Downloading Diaries:  44%|▍| 1590/3628 [1:40:09<2:31:11,"
     ]
    },
    {
     "name": "stdout",
     "output_type": "stream",
     "text": [
      "[download] 100% of  474.07KiB in 00:00:00 at 695.04KiB/s               \n",
      "[ExtractAudio] Destination: ..\\data\\raw\\dementia_diaries\\audio\\Mr Alzheimer�s has been getting even more cuddles than usual._696031431.wav\n"
     ]
    },
    {
     "name": "stderr",
     "output_type": "stream",
     "text": [
      "Downloading Diaries:  44%|▍| 1591/3628 [1:40:14<2:32:58,"
     ]
    },
    {
     "name": "stdout",
     "output_type": "stream",
     "text": [
      "[download] 100% of    2.04MiB in 00:00:01 at 1.20MiB/s                 \n",
      "[ExtractAudio] Destination: ..\\data\\raw\\dementia_diaries\\audio\\Jacqui encourages more people with dementia to get involved._696030361.wav\n"
     ]
    },
    {
     "name": "stderr",
     "output_type": "stream",
     "text": [
      "Downloading Diaries:  44%|▍| 1592/3628 [1:40:17<2:17:06,"
     ]
    },
    {
     "name": "stdout",
     "output_type": "stream",
     "text": [
      "[download] 100% of  370.51KiB in 00:00:00 at 736.49KiB/s               \n",
      "[ExtractAudio] Destination: ..\\data\\raw\\dementia_diaries\\audio\\Raymond is keeping going despite the challenges dementia brings._696029851.wav\n"
     ]
    },
    {
     "name": "stderr",
     "output_type": "stream",
     "text": [
      "Downloading Diaries:  44%|▍| 1593/3628 [1:40:20<2:14:17,"
     ]
    },
    {
     "name": "stdout",
     "output_type": "stream",
     "text": [
      "[download] 100% of    1.36MiB in 00:00:01 at 1.08MiB/s                 \n",
      "[ExtractAudio] Destination: ..\\data\\raw\\dementia_diaries\\audio\\Agnes reflects on the importance of living life to the full._696027776.wav\n"
     ]
    },
    {
     "name": "stderr",
     "output_type": "stream",
     "text": [
      "Downloading Diaries:  44%|▍| 1594/3628 [1:40:25<2:17:08,"
     ]
    },
    {
     "name": "stdout",
     "output_type": "stream",
     "text": [
      "[download] 100% of 1005.02KiB in 00:00:00 at 1.03MiB/s                   \n",
      "[ExtractAudio] Destination: ..\\data\\raw\\dementia_diaries\\audio\\The Happy Tandemer reports from a great meeting._696027401.wav\n"
     ]
    },
    {
     "name": "stderr",
     "output_type": "stream",
     "text": [
      "Downloading Diaries:  44%|▍| 1595/3628 [1:40:29<2:25:20,"
     ]
    },
    {
     "name": "stdout",
     "output_type": "stream",
     "text": [
      "[download] 100% of    1.12MiB in 00:00:00 at 1.15MiB/s                   \n",
      "[ExtractAudio] Destination: ..\\data\\raw\\dementia_diaries\\audio\\Keith is still spreading the word._696026746.wav\n"
     ]
    },
    {
     "name": "stderr",
     "output_type": "stream",
     "text": [
      "Downloading Diaries:  44%|▍| 1596/3628 [1:40:34<2:24:27,"
     ]
    },
    {
     "name": "stdout",
     "output_type": "stream",
     "text": [
      "[download] 100% of  487.22KiB in 00:00:00 at 892.56KiB/s               \n",
      "[ExtractAudio] Destination: ..\\data\\raw\\dementia_diaries\\audio\\Jacqui is much happier travelling by train,_696026326.wav\n"
     ]
    },
    {
     "name": "stderr",
     "output_type": "stream",
     "text": [
      "Downloading Diaries:  44%|▍| 1597/3628 [1:40:37<2:17:52,"
     ]
    },
    {
     "name": "stdout",
     "output_type": "stream",
     "text": [
      "[download] 100% of    1.27MiB in 00:00:01 at 1.11MiB/s                 \n",
      "[ExtractAudio] Destination: ..\\data\\raw\\dementia_diaries\\audio\\Jacqui reinforces the value of support from others._696025936.wav\n"
     ]
    },
    {
     "name": "stderr",
     "output_type": "stream",
     "text": [
      "Downloading Diaries:  44%|▍| 1598/3628 [1:40:41<2:11:36,"
     ]
    },
    {
     "name": "stdout",
     "output_type": "stream",
     "text": [
      "[download] 100% of  682.01KiB in 00:00:00 at 977.57KiB/s                 \n",
      "[ExtractAudio] Destination: ..\\data\\raw\\dementia_diaries\\audio\\Stephen is having a tough time with his COPD_696025476.wav\n"
     ]
    },
    {
     "name": "stderr",
     "output_type": "stream",
     "text": [
      "Downloading Diaries:  44%|▍| 1599/3628 [1:40:46<2:27:00,"
     ]
    },
    {
     "name": "stdout",
     "output_type": "stream",
     "text": [
      "[download] 100% of    2.06MiB in 00:00:02 at 1.01MiB/s                 \n",
      "[ExtractAudio] Destination: ..\\data\\raw\\dementia_diaries\\audio\\Ron discusses the concept of recovery in dementia._696025251.wav\n"
     ]
    },
    {
     "name": "stderr",
     "output_type": "stream",
     "text": [
      "Downloading Diaries:  44%|▍| 1600/3628 [1:40:50<2:23:16,"
     ]
    },
    {
     "name": "stdout",
     "output_type": "stream",
     "text": [
      "[download] 100% of  782.99KiB in 00:00:00 at 936.61KiB/s                 \n",
      "[ExtractAudio] Destination: ..\\data\\raw\\dementia_diaries\\audio\\Rae�s tea is behaving mysteriously._696024346.wav\n"
     ]
    },
    {
     "name": "stderr",
     "output_type": "stream",
     "text": [
      "Downloading Diaries:  44%|▍| 1601/3628 [1:40:53<2:10:38,"
     ]
    },
    {
     "name": "stdout",
     "output_type": "stream",
     "text": [
      "[download] 100% of  572.49KiB in 00:00:00 at 860.62KiB/s               \n",
      "[ExtractAudio] Destination: ..\\data\\raw\\dementia_diaries\\audio\\Rae has been singing in the rain. Literally._696023071.wav\n"
     ]
    },
    {
     "name": "stderr",
     "output_type": "stream",
     "text": [
      "Downloading Diaries:  44%|▍| 1602/3628 [1:40:57<2:08:30,"
     ]
    },
    {
     "name": "stdout",
     "output_type": "stream",
     "text": [
      "[download] 100% of  164.61KiB in 00:00:00 at 357.16KiB/s               \n",
      "[ExtractAudio] Destination: ..\\data\\raw\\dementia_diaries\\audio\\Paul And Steve Discuss The Carers Song_693766012.wav\n"
     ]
    },
    {
     "name": "stderr",
     "output_type": "stream",
     "text": [
      "Downloading Diaries:  44%|▍| 1603/3628 [1:41:01<2:06:55,"
     ]
    },
    {
     "name": "stdout",
     "output_type": "stream",
     "text": [
      "[download] 100% of    1.99MiB in 00:00:01 at 1.10MiB/s                 \n",
      "[ExtractAudio] Destination: ..\\data\\raw\\dementia_diaries\\audio\\The Carers Song by Paul_693765619.wav\n"
     ]
    },
    {
     "name": "stderr",
     "output_type": "stream",
     "text": [
      "Downloading Diaries:  44%|▍| 1604/3628 [1:41:05<2:10:57,"
     ]
    },
    {
     "name": "stdout",
     "output_type": "stream",
     "text": [
      "[download] 100% of  654.13KiB in 00:00:01 at 644.47KiB/s                 \n",
      "[ExtractAudio] Destination: ..\\data\\raw\\dementia_diaries\\audio\\The Mountains I Still Climb read by Ronald with Paul on guitar_693765256.wav\n"
     ]
    },
    {
     "name": "stderr",
     "output_type": "stream",
     "text": [
      "Downloading Diaries:  44%|▍| 1605/3628 [1:41:08<2:01:03,"
     ]
    },
    {
     "name": "stdout",
     "output_type": "stream",
     "text": [
      "[download] 100% of  539.14KiB in 00:00:00 at 823.18KiB/s               \n",
      "[ExtractAudio] Destination: ..\\data\\raw\\dementia_diaries\\audio\\Ronalds Poem With Paul_693764872.wav\n"
     ]
    },
    {
     "name": "stderr",
     "output_type": "stream",
     "text": [
      "Downloading Diaries:  44%|▍| 1606/3628 [1:41:13<2:15:51,"
     ]
    },
    {
     "name": "stdout",
     "output_type": "stream",
     "text": [
      "[download] 100% of    1.22MiB in 00:00:01 at 959.93KiB/s               \n",
      "[ExtractAudio] Destination: ..\\data\\raw\\dementia_diaries\\audio\\Delilah_693764617.wav\n"
     ]
    },
    {
     "name": "stderr",
     "output_type": "stream",
     "text": [
      "Downloading Diaries:  44%|▍| 1607/3628 [1:41:17<2:21:40,"
     ]
    },
    {
     "name": "stdout",
     "output_type": "stream",
     "text": [
      "[download] 100% of    1.23MiB in 00:00:01 at 790.27KiB/s               \n",
      "[ExtractAudio] Destination: ..\\data\\raw\\dementia_diaries\\audio\\Knockin On Heavens Door_693764263.wav\n"
     ]
    },
    {
     "name": "stderr",
     "output_type": "stream",
     "text": [
      "Downloading Diaries:  44%|▍| 1608/3628 [1:41:21<2:16:14,"
     ]
    },
    {
     "name": "stdout",
     "output_type": "stream",
     "text": [
      "[download] 100% of  965.95KiB in 00:00:01 at 930.05KiB/s               \n",
      "[ExtractAudio] Destination: ..\\data\\raw\\dementia_diaries\\audio\\Imagine_693764044.wav\n"
     ]
    },
    {
     "name": "stderr",
     "output_type": "stream",
     "text": [
      "Downloading Diaries:  44%|▍| 1609/3628 [1:41:26<2:22:11,"
     ]
    },
    {
     "name": "stdout",
     "output_type": "stream",
     "text": [
      "[download] 100% of  894.51KiB in 00:00:00 at 908.50KiB/s                 \n",
      "[ExtractAudio] Destination: ..\\data\\raw\\dementia_diaries\\audio\\Blowing In The Wind_693763786.wav\n"
     ]
    },
    {
     "name": "stderr",
     "output_type": "stream",
     "text": [
      "Downloading Diaries:  44%|▍| 1610/3628 [1:41:30<2:25:45,"
     ]
    },
    {
     "name": "stdout",
     "output_type": "stream",
     "text": [
      "[download] 100% of    1.21MiB in 00:00:01 at 917.42KiB/s               \n",
      "[ExtractAudio] Destination: ..\\data\\raw\\dementia_diaries\\audio\\The Green Fields Of France read by Tommy_693763435.wav\n"
     ]
    },
    {
     "name": "stderr",
     "output_type": "stream",
     "text": [
      "Downloading Diaries:  44%|▍| 1611/3628 [1:41:36<2:40:01,"
     ]
    },
    {
     "name": "stdout",
     "output_type": "stream",
     "text": [
      "[download] 100% of    1.94MiB in 00:00:02 at 990.85KiB/s               \n",
      "[ExtractAudio] Destination: ..\\data\\raw\\dementia_diaries\\audio\\Dementia Diarists talk about what Dementia Diaries means to them_693761881.wav\n"
     ]
    },
    {
     "name": "stderr",
     "output_type": "stream",
     "text": [
      "Downloading Diaries:  44%|▍| 1612/3628 [1:41:41<2:41:32,"
     ]
    },
    {
     "name": "stdout",
     "output_type": "stream",
     "text": [
      "[download] 100% of  580.60KiB in 00:00:00 at 791.34KiB/s               \n",
      "[ExtractAudio] Destination: ..\\data\\raw\\dementia_diaries\\audio\\Paul found the ZOOM meeting ran by Ron about End of Life really interesting._693248716.wav\n"
     ]
    },
    {
     "name": "stderr",
     "output_type": "stream",
     "text": [
      "Downloading Diaries:  44%|▍| 1613/3628 [1:41:45<2:31:00,"
     ]
    },
    {
     "name": "stdout",
     "output_type": "stream",
     "text": [
      "[download] 100% of    1.47MiB in 00:00:01 at 1.10MiB/s                 \n",
      "[ExtractAudio] Destination: ..\\data\\raw\\dementia_diaries\\audio\\Dory talks about the Dementia Enquirers meeting in Limehouse_693248320.wav\n"
     ]
    },
    {
     "name": "stderr",
     "output_type": "stream",
     "text": [
      "Downloading Diaries:  44%|▍| 1614/3628 [1:41:50<2:40:12,"
     ]
    },
    {
     "name": "stdout",
     "output_type": "stream",
     "text": [
      "[download] 100% of    1.64MiB in 00:00:01 at 1.07MiB/s                 \n",
      "[ExtractAudio] Destination: ..\\data\\raw\\dementia_diaries\\audio\\Dory has a problem with Power of Attorney._693247828.wav\n"
     ]
    },
    {
     "name": "stderr",
     "output_type": "stream",
     "text": [
      "Downloading Diaries:  45%|▍| 1615/3628 [1:41:56<2:48:32,"
     ]
    },
    {
     "name": "stdout",
     "output_type": "stream",
     "text": [
      "[download] 100% of    2.17MiB in 00:00:02 at 1.06MiB/s                 \n",
      "[ExtractAudio] Destination: ..\\data\\raw\\dementia_diaries\\audio\\Conference speakers with dementia need better support says Dory._693247357.wav\n"
     ]
    },
    {
     "name": "stderr",
     "output_type": "stream",
     "text": [
      "Downloading Diaries:  45%|▍| 1616/3628 [1:42:01<2:51:43,"
     ]
    },
    {
     "name": "stdout",
     "output_type": "stream",
     "text": [
      "[download] 100% of    1.38MiB in 00:00:01 at 1.12MiB/s                 \n",
      "[ExtractAudio] Destination: ..\\data\\raw\\dementia_diaries\\audio\\Dory describes a wonderful night at Doing Dementia Differently_693246232.wav\n"
     ]
    },
    {
     "name": "stderr",
     "output_type": "stream",
     "text": [
      "Downloading Diaries:  45%|▍| 1617/3628 [1:42:06<2:49:03,"
     ]
    },
    {
     "name": "stdout",
     "output_type": "stream",
     "text": [
      "[download] 100% of  849.13KiB in 00:00:00 at 1.01MiB/s                   \n",
      "[ExtractAudio] Destination: ..\\data\\raw\\dementia_diaries\\audio\\Stephen talks about a new virtual group._693245842.wav\n"
     ]
    },
    {
     "name": "stderr",
     "output_type": "stream",
     "text": [
      "Downloading Diaries:  45%|▍| 1618/3628 [1:42:11<2:55:01,"
     ]
    },
    {
     "name": "stdout",
     "output_type": "stream",
     "text": [
      "[download] 100% of    2.18MiB in 00:00:02 at 1013.33KiB/s              \n",
      "[ExtractAudio] Destination: ..\\data\\raw\\dementia_diaries\\audio\\Nigel ponders the ethics of some who publicly question the diagnosis of dementia._693245317.wav\n"
     ]
    },
    {
     "name": "stderr",
     "output_type": "stream",
     "text": [
      "Downloading Diaries:  45%|▍| 1619/3628 [1:42:17<2:58:28,"
     ]
    },
    {
     "name": "stdout",
     "output_type": "stream",
     "text": [
      "[download] 100% of    2.02MiB in 00:00:01 at 1.11MiB/s                 \n",
      "[ExtractAudio] Destination: ..\\data\\raw\\dementia_diaries\\audio\\Glenda is finding anger hard to cope with._693244627.wav\n"
     ]
    },
    {
     "name": "stderr",
     "output_type": "stream",
     "text": [
      "Downloading Diaries:  45%|▍| 1620/3628 [1:42:20<2:37:24,"
     ]
    },
    {
     "name": "stdout",
     "output_type": "stream",
     "text": [
      "[download] 100% of  367.78KiB in 00:00:00 at 491.05KiB/s               \n",
      "[ExtractAudio] Destination: ..\\data\\raw\\dementia_diaries\\audio\\Wendy - A poem that came out of Brecon_691803043.wav\n"
     ]
    },
    {
     "name": "stderr",
     "output_type": "stream",
     "text": [
      "Downloading Diaries:  45%|▍| 1621/3628 [1:42:24<2:31:53,"
     ]
    },
    {
     "name": "stdout",
     "output_type": "stream",
     "text": [
      "[download] 100% of    2.44MiB in 00:00:02 at 1.22MiB/s                 \n",
      "[ExtractAudio] Destination: ..\\data\\raw\\dementia_diaries\\audio\\Dementia Enquirers discuss being a speaker with dementia_689398591.wav\n"
     ]
    },
    {
     "name": "stderr",
     "output_type": "stream",
     "text": [
      "Downloading Diaries:  45%|▍| 1622/3628 [1:42:29<2:29:46,"
     ]
    },
    {
     "name": "stdout",
     "output_type": "stream",
     "text": [
      "[download] 100% of    1.04MiB in 00:00:01 at 1.03MiB/s                   \n",
      "[ExtractAudio] Destination: ..\\data\\raw\\dementia_diaries\\audio\\Glenda is busy busy busy�._689396503.wav\n"
     ]
    },
    {
     "name": "stderr",
     "output_type": "stream",
     "text": [
      "Downloading Diaries:  45%|▍| 1623/3628 [1:42:32<2:17:55,"
     ]
    },
    {
     "name": "stdout",
     "output_type": "stream",
     "text": [
      "[download] 100% of  819.06KiB in 00:00:00 at 974.34KiB/s                 \n",
      "[ExtractAudio] Destination: ..\\data\\raw\\dementia_diaries\\audio\\Agnes ponders what makes for good outcomes from a meeting._689396305.wav\n"
     ]
    },
    {
     "name": "stderr",
     "output_type": "stream",
     "text": [
      "Downloading Diaries:  45%|▍| 1624/3628 [1:42:36<2:18:48,"
     ]
    },
    {
     "name": "stdout",
     "output_type": "stream",
     "text": [
      "[download] 100% of  580.75KiB in 00:00:00 at 888.69KiB/s               \n",
      "[ExtractAudio] Destination: ..\\data\\raw\\dementia_diaries\\audio\\There�s someone in Rae�s bathroom._689396122.wav\n"
     ]
    },
    {
     "name": "stderr",
     "output_type": "stream",
     "text": [
      "Downloading Diaries:  45%|▍| 1625/3628 [1:42:40<2:18:08,"
     ]
    },
    {
     "name": "stdout",
     "output_type": "stream",
     "text": [
      "[download] 100% of  894.47KiB in 00:00:00 at 978.41KiB/s                 \n",
      "[ExtractAudio] Destination: ..\\data\\raw\\dementia_diaries\\audio\\Stephen looks forward as the seasons change._689395921.wav\n"
     ]
    },
    {
     "name": "stderr",
     "output_type": "stream",
     "text": [
      "Downloading Diaries:  45%|▍| 1626/3628 [1:42:43<2:06:40,"
     ]
    },
    {
     "name": "stdout",
     "output_type": "stream",
     "text": [
      "[download] 100% of  939.04KiB in 00:00:00 at 973.68KiB/s                 \n",
      "[ExtractAudio] Destination: ..\\data\\raw\\dementia_diaries\\audio\\Keith is looking forward to a busy week._689395537.wav\n"
     ]
    },
    {
     "name": "stderr",
     "output_type": "stream",
     "text": [
      "Downloading Diaries:  45%|▍| 1627/3628 [1:42:47<2:04:35,"
     ]
    },
    {
     "name": "stdout",
     "output_type": "stream",
     "text": [
      "[download] 100% of  449.88KiB in 00:00:00 at 780.43KiB/s               \n",
      "[ExtractAudio] Destination: ..\\data\\raw\\dementia_diaries\\audio\\Chris Grant talks about the activities organised by Tibbs_689395327.wav\n"
     ]
    },
    {
     "name": "stderr",
     "output_type": "stream",
     "text": [
      "Downloading Diaries:  45%|▍| 1628/3628 [1:42:52<2:17:30,"
     ]
    },
    {
     "name": "stdout",
     "output_type": "stream",
     "text": [
      "[download] 100% of    2.12MiB in 00:00:01 at 1.17MiB/s                 \n",
      "[ExtractAudio] Destination: ..\\data\\raw\\dementia_diaries\\audio\\Chris from Clear Voices talks about Tibbs Dementia Foundation._689394925.wav\n"
     ]
    },
    {
     "name": "stderr",
     "output_type": "stream",
     "text": [
      "Downloading Diaries:  45%|▍| 1629/3628 [1:42:58<2:38:44,"
     ]
    },
    {
     "name": "stdout",
     "output_type": "stream",
     "text": [
      "[download] 100% of    4.25MiB in 00:00:03 at 1.12MiB/s                 \n",
      "[ExtractAudio] Destination: ..\\data\\raw\\dementia_diaries\\audio\\George has advice for someone newly diagnosed._689394157.wav\n"
     ]
    },
    {
     "name": "stderr",
     "output_type": "stream",
     "text": [
      "Downloading Diaries:  45%|▍| 1630/3628 [1:43:02<2:30:22,"
     ]
    },
    {
     "name": "stdout",
     "output_type": "stream",
     "text": [
      "[download] 100% of  678.92KiB in 00:00:00 at 743.42KiB/s                 \n",
      "[ExtractAudio] Destination: ..\\data\\raw\\dementia_diaries\\audio\\Dory records a diary from the Dementia Enquirers meeting_689393917.wav\n"
     ]
    },
    {
     "name": "stderr",
     "output_type": "stream",
     "text": [
      "Downloading Diaries:  45%|▍| 1631/3628 [1:43:06<2:18:28,"
     ]
    },
    {
     "name": "stdout",
     "output_type": "stream",
     "text": [
      "[download] 100% of    1.04MiB in 00:00:01 at 859.78KiB/s               \n",
      "[ExtractAudio] Destination: ..\\data\\raw\\dementia_diaries\\audio\\Agnes talks about presenting to the audiologists conference_689393692.wav\n"
     ]
    },
    {
     "name": "stderr",
     "output_type": "stream",
     "text": [
      "Downloading Diaries:  45%|▍| 1632/3628 [1:43:12<2:38:24,"
     ]
    },
    {
     "name": "stdout",
     "output_type": "stream",
     "text": [
      "[download] 100% of    2.54MiB in 00:00:02 at 1.12MiB/s                 \n",
      "[ExtractAudio] Destination: ..\\data\\raw\\dementia_diaries\\audio\\Tibbs Dementia Foundation Group 'Clear Voices' speak out!_687562552.wav\n"
     ]
    },
    {
     "name": "stderr",
     "output_type": "stream",
     "text": [
      "Downloading Diaries:  45%|▍| 1633/3628 [1:43:17<2:44:22,"
     ]
    },
    {
     "name": "stdout",
     "output_type": "stream",
     "text": [
      "[download] 100% of    1.40MiB in 00:00:01 at 1.08MiB/s                 \n",
      "[ExtractAudio] Destination: ..\\data\\raw\\dementia_diaries\\audio\\Tracey has had a really busy week, including being on TV._686984224.wav\n"
     ]
    },
    {
     "name": "stderr",
     "output_type": "stream",
     "text": [
      "Downloading Diaries:  45%|▍| 1634/3628 [1:43:22<2:44:19,"
     ]
    },
    {
     "name": "stdout",
     "output_type": "stream",
     "text": [
      "[download] 100% of    1.30MiB in 00:00:01 at 1.06MiB/s                 \n",
      "[ExtractAudio] Destination: ..\\data\\raw\\dementia_diaries\\audio\\Agnes ponders the nature of memory_686978719.wav\n"
     ]
    },
    {
     "name": "stderr",
     "output_type": "stream",
     "text": [
      "Downloading Diaries:  45%|▍| 1635/3628 [1:43:26<2:37:17,"
     ]
    },
    {
     "name": "stdout",
     "output_type": "stream",
     "text": [
      "[download] 100% of    1.74MiB in 00:00:01 at 1.17MiB/s                 \n",
      "[ExtractAudio] Destination: ..\\data\\raw\\dementia_diaries\\audio\\For everything I have lost I have gained much more, says Agnes._686978512.wav\n"
     ]
    },
    {
     "name": "stderr",
     "output_type": "stream",
     "text": [
      "Downloading Diaries:  45%|▍| 1636/3628 [1:43:30<2:28:45,"
     ]
    },
    {
     "name": "stdout",
     "output_type": "stream",
     "text": [
      "[download] 100% of  842.34KiB in 00:00:00 at 926.76KiB/s                 \n",
      "[ExtractAudio] Destination: ..\\data\\raw\\dementia_diaries\\audio\\Agnes has a message for dementia diaries._686978275.wav\n"
     ]
    },
    {
     "name": "stderr",
     "output_type": "stream",
     "text": [
      "Downloading Diaries:  45%|▍| 1637/3628 [1:43:35<2:26:59,"
     ]
    },
    {
     "name": "stdout",
     "output_type": "stream",
     "text": [
      "[download] 100% of    1.91MiB in 00:00:01 at 1.17MiB/s                 \n",
      "[ExtractAudio] Destination: ..\\data\\raw\\dementia_diaries\\audio\\Agnes thanks her daughter for the support she gives._686977897.wav\n"
     ]
    },
    {
     "name": "stderr",
     "output_type": "stream",
     "text": [
      "Downloading Diaries:  45%|▍| 1638/3628 [1:43:40<2:40:01,"
     ]
    },
    {
     "name": "stdout",
     "output_type": "stream",
     "text": [
      "[download] 100% of    2.91MiB in 00:00:02 at 1.18MiB/s                 \n",
      "[ExtractAudio] Destination: ..\\data\\raw\\dementia_diaries\\audio\\Agnes feels her dementia symptoms are progressing._686977735.wav\n"
     ]
    },
    {
     "name": "stderr",
     "output_type": "stream",
     "text": [
      "Downloading Diaries:  45%|▍| 1639/3628 [1:43:44<2:25:50,"
     ]
    },
    {
     "name": "stdout",
     "output_type": "stream",
     "text": [
      "[download] 100% of  489.36KiB in 00:00:00 at 826.58KiB/s               \n",
      "[ExtractAudio] Destination: ..\\data\\raw\\dementia_diaries\\audio\\Raymond talks about groups in Oldham._686977546.wav\n"
     ]
    },
    {
     "name": "stderr",
     "output_type": "stream",
     "text": [
      "Downloading Diaries:  45%|▍| 1640/3628 [1:43:49<2:32:07,"
     ]
    },
    {
     "name": "stdout",
     "output_type": "stream",
     "text": [
      "[download] 100% of    1.28MiB in 00:00:01 at 1.11MiB/s                 \n",
      "[ExtractAudio] Destination: ..\\data\\raw\\dementia_diaries\\audio\\Melvyn reflects on the poem he wrote to mark his wife�s passing._686977300.wav\n"
     ]
    },
    {
     "name": "stderr",
     "output_type": "stream",
     "text": [
      "Downloading Diaries:  45%|▍| 1641/3628 [1:43:55<2:46:52,"
     ]
    },
    {
     "name": "stdout",
     "output_type": "stream",
     "text": [
      "[download] 100% of    1.74MiB in 00:00:01 at 1.16MiB/s                 \n",
      "[ExtractAudio] Destination: ..\\data\\raw\\dementia_diaries\\audio\\Jacqui is very impressed by her visit to St Annes Hospice._686977177.wav\n"
     ]
    },
    {
     "name": "stderr",
     "output_type": "stream",
     "text": [
      "Downloading Diaries:  45%|▍| 1642/3628 [1:44:00<2:45:02,"
     ]
    },
    {
     "name": "stdout",
     "output_type": "stream",
     "text": [
      "[download] 100% of  809.31KiB in 00:00:00 at 1014.22KiB/s                \n",
      "[ExtractAudio] Destination: ..\\data\\raw\\dementia_diaries\\audio\\Stephen reports from the Zoo. Happy Birthday Stephen !_686977000.wav\n"
     ]
    },
    {
     "name": "stderr",
     "output_type": "stream",
     "text": [
      "Downloading Diaries:  45%|▍| 1643/3628 [1:44:04<2:34:01,"
     ]
    },
    {
     "name": "stdout",
     "output_type": "stream",
     "text": [
      "[download] 100% of    1.55MiB in 00:00:01 at 1.06MiB/s                 \n",
      "[ExtractAudio] Destination: ..\\data\\raw\\dementia_diaries\\audio\\Glenda is thinking about the future._686513155.wav\n"
     ]
    },
    {
     "name": "stderr",
     "output_type": "stream",
     "text": [
      "Downloading Diaries:  45%|▍| 1644/3628 [1:44:08<2:28:45,"
     ]
    },
    {
     "name": "stdout",
     "output_type": "stream",
     "text": [
      "[download] 100% of    1.78MiB in 00:00:01 at 1.09MiB/s                 \n",
      "[ExtractAudio] Destination: ..\\data\\raw\\dementia_diaries\\audio\\Keith describes how he came to terms with dementia_686512816.wav\n"
     ]
    },
    {
     "name": "stderr",
     "output_type": "stream",
     "text": [
      "Downloading Diaries:  45%|▍| 1645/3628 [1:44:13<2:33:28,"
     ]
    },
    {
     "name": "stdout",
     "output_type": "stream",
     "text": [
      "[download] 100% of    1.46MiB in 00:00:01 at 1.09MiB/s                 \n",
      "[ExtractAudio] Destination: ..\\data\\raw\\dementia_diaries\\audio\\Dory reports on a busy but wonderful week._682322183.wav\n"
     ]
    },
    {
     "name": "stderr",
     "output_type": "stream",
     "text": [
      "Downloading Diaries:  45%|▍| 1646/3628 [1:44:18<2:36:23,"
     ]
    },
    {
     "name": "stdout",
     "output_type": "stream",
     "text": [
      "[download] 100% of  660.79KiB in 00:00:00 at 912.56KiB/s                 \n",
      "[ExtractAudio] Destination: ..\\data\\raw\\dementia_diaries\\audio\\Rae worries that she will forget her daughter._682322063.wav\n"
     ]
    },
    {
     "name": "stderr",
     "output_type": "stream",
     "text": [
      "Downloading Diaries:  45%|▍| 1647/3628 [1:44:21<2:27:28,"
     ]
    },
    {
     "name": "stdout",
     "output_type": "stream",
     "text": [
      "[download] 100% of  736.32KiB in 00:00:00 at 958.20KiB/s                 \n",
      "[ExtractAudio] Destination: ..\\data\\raw\\dementia_diaries\\audio\\Paul reports from the Educate event in Stockport._682321907.wav\n"
     ]
    },
    {
     "name": "stderr",
     "output_type": "stream",
     "text": [
      "Downloading Diaries:  45%|▍| 1648/3628 [1:44:25<2:20:13,"
     ]
    },
    {
     "name": "stdout",
     "output_type": "stream",
     "text": [
      "[download] 100% of    1.29MiB in 00:00:01 at 1.02MiB/s                 \n",
      "[ExtractAudio] Destination: ..\\data\\raw\\dementia_diaries\\audio\\Tracey reports from the Admiral Nurse Forum._682321745.wav\n"
     ]
    },
    {
     "name": "stderr",
     "output_type": "stream",
     "text": [
      "Downloading Diaries:  45%|▍| 1649/3628 [1:44:30<2:27:01,"
     ]
    },
    {
     "name": "stdout",
     "output_type": "stream",
     "text": [
      "[download] 100% of    1.54MiB in 00:00:01 at 1.04MiB/s                 \n",
      "[ExtractAudio] Destination: ..\\data\\raw\\dementia_diaries\\audio\\Melvyn talks about his involvement with Springwatch_682321508.wav\n"
     ]
    },
    {
     "name": "stderr",
     "output_type": "stream",
     "text": [
      "Downloading Diaries:  45%|▍| 1650/3628 [1:44:35<2:33:51,"
     ]
    },
    {
     "name": "stdout",
     "output_type": "stream",
     "text": [
      "[download] 100% of    3.08MiB in 00:00:02 at 1.12MiB/s                 \n",
      "[ExtractAudio] Destination: ..\\data\\raw\\dementia_diaries\\audio\\Melvyn is feeling privileged to know the people he has met through dementia._682321166.wav\n"
     ]
    },
    {
     "name": "stderr",
     "output_type": "stream",
     "text": [
      "Downloading Diaries:  46%|▍| 1651/3628 [1:44:39<2:25:03,"
     ]
    },
    {
     "name": "stdout",
     "output_type": "stream",
     "text": [
      "[download] 100% of  718.38KiB in 00:00:00 at 918.82KiB/s                 \n",
      "[ExtractAudio] Destination: ..\\data\\raw\\dementia_diaries\\audio\\The Happy Tandemer reports on a change of medication,_682320557.wav\n"
     ]
    },
    {
     "name": "stderr",
     "output_type": "stream",
     "text": [
      "Downloading Diaries:  46%|▍| 1652/3628 [1:44:43<2:20:43,"
     ]
    },
    {
     "name": "stdout",
     "output_type": "stream",
     "text": [
      "[download] 100% of    1.41MiB in 00:00:01 at 1017.71KiB/s              \n",
      "[ExtractAudio] Destination: ..\\data\\raw\\dementia_diaries\\audio\\Keith talks about the importance of talking to children about dementia._682320320.wav\n"
     ]
    },
    {
     "name": "stderr",
     "output_type": "stream",
     "text": [
      "Downloading Diaries:  46%|▍| 1653/3628 [1:44:47<2:17:53,"
     ]
    },
    {
     "name": "stdout",
     "output_type": "stream",
     "text": [
      "[download] 100% of    1.67MiB in 00:00:01 at 1.07MiB/s                 \n",
      "[ExtractAudio] Destination: ..\\data\\raw\\dementia_diaries\\audio\\Carol reports on a talk to medical students._682320119.wav\n"
     ]
    },
    {
     "name": "stderr",
     "output_type": "stream",
     "text": [
      "Downloading Diaries:  46%|▍| 1654/3628 [1:44:50<2:05:48,"
     ]
    },
    {
     "name": "stdout",
     "output_type": "stream",
     "text": [
      "[download] 100% of  707.10KiB in 00:00:00 at 889.60KiB/s                 \n",
      "[ExtractAudio] Destination: ..\\data\\raw\\dementia_diaries\\audio\\Glenda is off to Porthmadog_682319975.wav\n"
     ]
    },
    {
     "name": "stderr",
     "output_type": "stream",
     "text": [
      "Downloading Diaries:  46%|▍| 1655/3628 [1:44:54<2:08:02,"
     ]
    },
    {
     "name": "stdout",
     "output_type": "stream",
     "text": [
      "[download] 100% of  239.30KiB in 00:00:00 at 544.94KiB/s               \n",
      "[ExtractAudio] Destination: ..\\data\\raw\\dementia_diaries\\audio\\Paul is off to Stockport for the big show._682319774.wav\n"
     ]
    },
    {
     "name": "stderr",
     "output_type": "stream",
     "text": [
      "Downloading Diaries:  46%|▍| 1656/3628 [1:45:00<2:31:26,"
     ]
    },
    {
     "name": "stdout",
     "output_type": "stream",
     "text": [
      "[download] 100% of    3.32MiB in 00:00:02 at 1.21MiB/s                 \n",
      "[ExtractAudio] Destination: ..\\data\\raw\\dementia_diaries\\audio\\Melvyn talks about PIP assessments and dementia._682319471.wav\n"
     ]
    },
    {
     "name": "stderr",
     "output_type": "stream",
     "text": [
      "Downloading Diaries:  46%|▍| 1657/3628 [1:45:06<2:39:23,"
     ]
    },
    {
     "name": "stdout",
     "output_type": "stream",
     "text": [
      "[download] 100% of    2.09MiB in 00:00:01 at 1.27MiB/s                 \n",
      "[ExtractAudio] Destination: ..\\data\\raw\\dementia_diaries\\audio\\Melvyn is looking forward to talking at the Grammar School._682319195.wav\n"
     ]
    },
    {
     "name": "stderr",
     "output_type": "stream",
     "text": [
      "Downloading Diaries:  46%|▍| 1658/3628 [1:45:11<2:39:03,"
     ]
    },
    {
     "name": "stdout",
     "output_type": "stream",
     "text": [
      "[download] 100% of    1.41MiB in 00:00:01 at 1.25MiB/s                 \n",
      "[ExtractAudio] Destination: ..\\data\\raw\\dementia_diaries\\audio\\Melvyn describes how much doing his diaries mean to him._682318967.wav\n"
     ]
    },
    {
     "name": "stderr",
     "output_type": "stream",
     "text": [
      "Downloading Diaries:  46%|▍| 1659/3628 [1:45:15<2:32:13,"
     ]
    },
    {
     "name": "stdout",
     "output_type": "stream",
     "text": [
      "[download] 100% of  721.25KiB in 00:00:00 at 1.03MiB/s                   \n",
      "[ExtractAudio] Destination: ..\\data\\raw\\dementia_diaries\\audio\\�Shine on Harvest Moon� sings Nancy._682318760.wav\n"
     ]
    },
    {
     "name": "stderr",
     "output_type": "stream",
     "text": [
      "Downloading Diaries:  46%|▍| 1660/3628 [1:45:19<2:28:37,"
     ]
    },
    {
     "name": "stdout",
     "output_type": "stream",
     "text": [
      "[download] 100% of    2.38MiB in 00:00:01 at 1.37MiB/s                 \n",
      "[ExtractAudio] Destination: ..\\data\\raw\\dementia_diaries\\audio\\Jacqui ponders the reality of person centred support._682318475.wav\n"
     ]
    },
    {
     "name": "stderr",
     "output_type": "stream",
     "text": [
      "Downloading Diaries:  46%|▍| 1661/3628 [1:45:23<2:20:17,"
     ]
    },
    {
     "name": "stdout",
     "output_type": "stream",
     "text": [
      "[download] 100% of  719.53KiB in 00:00:00 at 1.01MiB/s                   \n",
      "[ExtractAudio] Destination: ..\\data\\raw\\dementia_diaries\\audio\\Stephen has enjoyed being interviewed by the media this week_682318283.wav\n"
     ]
    },
    {
     "name": "stderr",
     "output_type": "stream",
     "text": [
      "Downloading Diaries:  46%|▍| 1662/3628 [1:45:26<2:14:19,"
     ]
    },
    {
     "name": "stdout",
     "output_type": "stream",
     "text": [
      "[download] 100% of  644.60KiB in 00:00:00 at 1002.53KiB/s              \n",
      "[ExtractAudio] Destination: ..\\data\\raw\\dementia_diaries\\audio\\Shelagh is wondering whether other diarist struggle with passwords._682318103.wav\n"
     ]
    },
    {
     "name": "stderr",
     "output_type": "stream",
     "text": [
      "Downloading Diaries:  46%|▍| 1663/3628 [1:45:31<2:20:58,"
     ]
    },
    {
     "name": "stdout",
     "output_type": "stream",
     "text": [
      "[download] 100% of    1.70MiB in 00:00:01 at 1.29MiB/s                 \n",
      "[ExtractAudio] Destination: ..\\data\\raw\\dementia_diaries\\audio\\James Agnes and Pat are about to see Ron�s play._682317830.wav\n"
     ]
    },
    {
     "name": "stderr",
     "output_type": "stream",
     "text": [
      "Downloading Diaries:  46%|▍| 1664/3628 [1:45:36<2:21:41,"
     ]
    },
    {
     "name": "stdout",
     "output_type": "stream",
     "text": [
      "[download] 100% of  784.54KiB in 00:00:00 at 924.74KiB/s                 \n",
      "[ExtractAudio] Destination: ..\\data\\raw\\dementia_diaries\\audio\\not sure who this is_682317434.wav\n"
     ]
    },
    {
     "name": "stderr",
     "output_type": "stream",
     "text": [
      "Downloading Diaries:  46%|▍| 1665/3628 [1:45:40<2:19:17,"
     ]
    },
    {
     "name": "stdout",
     "output_type": "stream",
     "text": [
      "[download] 100% of    1.53MiB in 00:00:01 at 1.32MiB/s                 \n",
      "[ExtractAudio] Destination: ..\\data\\raw\\dementia_diaries\\audio\\Philly speaks to Pat on his arrival at Stornaway._682317167.wav\n"
     ]
    },
    {
     "name": "stderr",
     "output_type": "stream",
     "text": [
      "Downloading Diaries:  46%|▍| 1666/3628 [1:45:45<2:30:32,"
     ]
    },
    {
     "name": "stdout",
     "output_type": "stream",
     "text": [
      "[download] 100% of    1.77MiB in 00:00:01 at 1.22MiB/s                 \n",
      "[ExtractAudio] Destination: ..\\data\\raw\\dementia_diaries\\audio\\Philly and Ron discuss his play._682316978.wav\n"
     ]
    },
    {
     "name": "stderr",
     "output_type": "stream",
     "text": [
      "Downloading Diaries:  46%|▍| 1667/3628 [1:45:52<2:51:39,"
     ]
    },
    {
     "name": "stdout",
     "output_type": "stream",
     "text": [
      "[download] 100% of    3.41MiB in 00:00:04 at 865.21KiB/s               \n",
      "[ExtractAudio] Destination: ..\\data\\raw\\dementia_diaries\\audio\\Wendy talks about her audiology appointment and Hyperacusis_681926117.wav\n"
     ]
    },
    {
     "name": "stderr",
     "output_type": "stream",
     "text": [
      "Downloading Diaries:  46%|▍| 1668/3628 [1:45:58<3:00:58,"
     ]
    },
    {
     "name": "stdout",
     "output_type": "stream",
     "text": [
      "[download] 100% of    3.15MiB in 00:00:02 at 1.39MiB/s                 \n",
      "[ExtractAudio] Destination: ..\\data\\raw\\dementia_diaries\\audio\\Agnes reports from a great trip to Dunblane_679005222.wav\n"
     ]
    },
    {
     "name": "stderr",
     "output_type": "stream",
     "text": [
      "Downloading Diaries:  46%|▍| 1669/3628 [1:46:02<2:44:51,"
     ]
    },
    {
     "name": "stdout",
     "output_type": "stream",
     "text": [
      "[download] 100% of  829.47KiB in 00:00:00 at 1.07MiB/s                   \n",
      "[ExtractAudio] Destination: ..\\data\\raw\\dementia_diaries\\audio\\Agnes is listening to the rain at �stupid o�clock� and breathing in._679002828.wav\n"
     ]
    },
    {
     "name": "stderr",
     "output_type": "stream",
     "text": [
      "Downloading Diaries:  46%|▍| 1670/3628 [1:46:06<2:33:11,"
     ]
    },
    {
     "name": "stdout",
     "output_type": "stream",
     "text": [
      "[download] 100% of    1.79MiB in 00:00:01 at 1.21MiB/s                 \n",
      "[ExtractAudio] Destination: ..\\data\\raw\\dementia_diaries\\audio\\Dory�s audit of Wrexham FC went better than the match did._679002693.wav\n"
     ]
    },
    {
     "name": "stderr",
     "output_type": "stream",
     "text": [
      "Downloading Diaries:  46%|▍| 1671/3628 [1:46:09<2:18:12,"
     ]
    },
    {
     "name": "stdout",
     "output_type": "stream",
     "text": [
      "[download] 100% of  577.64KiB in 00:00:00 at 847.84KiB/s               \n",
      "[ExtractAudio] Destination: ..\\data\\raw\\dementia_diaries\\audio\\Stephen�s had a funny old couple of weeks._679002345.wav\n"
     ]
    },
    {
     "name": "stderr",
     "output_type": "stream",
     "text": [
      "Downloading Diaries:  46%|▍| 1672/3628 [1:46:13<2:12:11,"
     ]
    },
    {
     "name": "stdout",
     "output_type": "stream",
     "text": [
      "[download] 100% of    1.22MiB in 00:00:01 at 1.13MiB/s                 \n",
      "[ExtractAudio] Destination: ..\\data\\raw\\dementia_diaries\\audio\\Tracey has had a very busy and positive week_679002201.wav\n"
     ]
    },
    {
     "name": "stderr",
     "output_type": "stream",
     "text": [
      "Downloading Diaries:  46%|▍| 1673/3628 [1:46:17<2:11:48,"
     ]
    },
    {
     "name": "stdout",
     "output_type": "stream",
     "text": [
      "[download] 100% of  693.35KiB in 00:00:00 at 1.02MiB/s                   \n",
      "[ExtractAudio] Destination: ..\\data\\raw\\dementia_diaries\\audio\\Agnes wonders if anyone else is struggling with getting the words out._679001898.wav\n"
     ]
    },
    {
     "name": "stderr",
     "output_type": "stream",
     "text": [
      "Downloading Diaries:  46%|▍| 1674/3628 [1:46:22<2:20:42,"
     ]
    },
    {
     "name": "stdout",
     "output_type": "stream",
     "text": [
      "[download] 100% of    1.42MiB in 00:00:01 at 1.17MiB/s                 \n",
      "[ExtractAudio] Destination: ..\\data\\raw\\dementia_diaries\\audio\\Agnes is feeling heard in the support she has been getting for her respiratory problems._679001703.wav\n"
     ]
    },
    {
     "name": "stderr",
     "output_type": "stream",
     "text": [
      "Downloading Diaries:  46%|▍| 1675/3628 [1:46:25<2:11:30,"
     ]
    },
    {
     "name": "stdout",
     "output_type": "stream",
     "text": [
      "[download] 100% of    1.05MiB in 00:00:00 at 1.07MiB/s                   \n",
      "[ExtractAudio] Destination: ..\\data\\raw\\dementia_diaries\\audio\\Ronald has set his words about his experience at Woodbrooke to music._675417503.wav\n"
     ]
    },
    {
     "name": "stderr",
     "output_type": "stream",
     "text": [
      "Downloading Diaries:  46%|▍| 1676/3628 [1:46:30<2:17:13,"
     ]
    },
    {
     "name": "stdout",
     "output_type": "stream",
     "text": [
      "[download] 100% of    1.20MiB in 00:00:01 at 1.10MiB/s                 \n",
      "[ExtractAudio] Destination: ..\\data\\raw\\dementia_diaries\\audio\\Ron ponders whether perhaps �all you need is love�_675417101.wav\n"
     ]
    },
    {
     "name": "stderr",
     "output_type": "stream",
     "text": [
      "Downloading Diaries:  46%|▍| 1677/3628 [1:46:34<2:21:58,"
     ]
    },
    {
     "name": "stdout",
     "output_type": "stream",
     "text": [
      "[download] 100% of    1.59MiB in 00:00:01 at 1.16MiB/s                 \n",
      "[ExtractAudio] Destination: ..\\data\\raw\\dementia_diaries\\audio\\Jacqui on the importance of following up._675416744.wav\n"
     ]
    },
    {
     "name": "stderr",
     "output_type": "stream",
     "text": [
      "Downloading Diaries:  46%|▍| 1678/3628 [1:46:39<2:22:33,"
     ]
    },
    {
     "name": "stdout",
     "output_type": "stream",
     "text": [
      "[download] 100% of  889.57KiB in 00:00:00 at 1.10MiB/s                   \n",
      "[ExtractAudio] Destination: ..\\data\\raw\\dementia_diaries\\audio\\�Be grateful for what you have got� says Rae_675416516.wav\n"
     ]
    },
    {
     "name": "stderr",
     "output_type": "stream",
     "text": [
      "Downloading Diaries:  46%|▍| 1679/3628 [1:46:42<2:13:01,"
     ]
    },
    {
     "name": "stdout",
     "output_type": "stream",
     "text": [
      "[download] 100% of    1.18MiB in 00:00:00 at 1.25MiB/s                   \n",
      "[ExtractAudio] Destination: ..\\data\\raw\\dementia_diaries\\audio\\Tommy talks about the importance of dementia friendly communities.._675416381.wav\n"
     ]
    },
    {
     "name": "stderr",
     "output_type": "stream",
     "text": [
      "Downloading Diaries:  46%|▍| 1680/3628 [1:46:46<2:09:52,"
     ]
    },
    {
     "name": "stdout",
     "output_type": "stream",
     "text": [
      "[download] 100% of  733.90KiB in 00:00:00 at 1.02MiB/s                   \n",
      "[ExtractAudio] Destination: ..\\data\\raw\\dementia_diaries\\audio\\Paul talks about dementia enquirers and �coming back to life�_675416228.wav\n"
     ]
    },
    {
     "name": "stderr",
     "output_type": "stream",
     "text": [
      "Downloading Diaries:  46%|▍| 1681/3628 [1:46:50<2:13:18,"
     ]
    },
    {
     "name": "stdout",
     "output_type": "stream",
     "text": [
      "[download] 100% of    1.53MiB in 00:00:01 at 1.14MiB/s                 \n",
      "[ExtractAudio] Destination: ..\\data\\raw\\dementia_diaries\\audio\\Jacqui has been raising awareness_675416051.wav\n"
     ]
    },
    {
     "name": "stderr",
     "output_type": "stream",
     "text": [
      "Downloading Diaries:  46%|▍| 1682/3628 [1:46:54<2:13:42,"
     ]
    },
    {
     "name": "stdout",
     "output_type": "stream",
     "text": [
      "[download] 100% of    1.01MiB in 00:00:00 at 1.05MiB/s                   \n",
      "[ExtractAudio] Destination: ..\\data\\raw\\dementia_diaries\\audio\\�the weather is like dementia� says Peter._675415859.wav\n"
     ]
    },
    {
     "name": "stderr",
     "output_type": "stream",
     "text": [
      "Downloading Diaries:  46%|▍| 1683/3628 [1:46:58<2:04:52,"
     ]
    },
    {
     "name": "stdout",
     "output_type": "stream",
     "text": [
      "[download] 100% of  429.49KiB in 00:00:00 at 876.02KiB/s               \n",
      "[ExtractAudio] Destination: ..\\data\\raw\\dementia_diaries\\audio\\Glenda is feeling much better now_675415637.wav\n"
     ]
    },
    {
     "name": "stderr",
     "output_type": "stream",
     "text": [
      "Downloading Diaries:  46%|▍| 1684/3628 [1:47:00<1:51:54,"
     ]
    },
    {
     "name": "stdout",
     "output_type": "stream",
     "text": [
      "[download] 100% of  466.88KiB in 00:00:00 at 811.59KiB/s               \n",
      "[ExtractAudio] Destination: ..\\data\\raw\\dementia_diaries\\audio\\Stephen has not had a good few days._675415436.wav\n"
     ]
    },
    {
     "name": "stderr",
     "output_type": "stream",
     "text": [
      "Downloading Diaries:  46%|▍| 1685/3628 [1:47:03<1:46:31,"
     ]
    },
    {
     "name": "stdout",
     "output_type": "stream",
     "text": [
      "[download] 100% of  904.28KiB in 00:00:00 at 1.05MiB/s                   \n",
      "[ExtractAudio] Destination: ..\\data\\raw\\dementia_diaries\\audio\\Glenda is having a bad day._675415322.wav\n"
     ]
    },
    {
     "name": "stderr",
     "output_type": "stream",
     "text": [
      "Downloading Diaries:  46%|▍| 1686/3628 [1:47:08<2:03:01,"
     ]
    },
    {
     "name": "stdout",
     "output_type": "stream",
     "text": [
      "[download] 100% of    1.22MiB in 00:00:01 at 1.15MiB/s                   \n",
      "[ExtractAudio] Destination: ..\\data\\raw\\dementia_diaries\\audio\\Chris reports on the Pride March in Cardiff_672065909.wav\n"
     ]
    },
    {
     "name": "stderr",
     "output_type": "stream",
     "text": [
      "Downloading Diaries:  46%|▍| 1687/3628 [1:47:12<2:05:59,"
     ]
    },
    {
     "name": "stdout",
     "output_type": "stream",
     "text": [
      "[download] 100% of    1.80MiB in 00:00:01 at 1.25MiB/s                 \n",
      "[ExtractAudio] Destination: ..\\data\\raw\\dementia_diaries\\audio\\Chris has some good advice on travelling by train._672065768.wav\n"
     ]
    },
    {
     "name": "stderr",
     "output_type": "stream",
     "text": [
      "Downloading Diaries:  47%|▍| 1688/3628 [1:47:17<2:10:55,"
     ]
    },
    {
     "name": "stdout",
     "output_type": "stream",
     "text": [
      "[download] 100% of    1.71MiB in 00:00:01 at 1.21MiB/s                 \n",
      "[ExtractAudio] Destination: ..\\data\\raw\\dementia_diaries\\audio\\Jacqui continues to try and secure more CBT sessions._672065534.wav\n"
     ]
    },
    {
     "name": "stderr",
     "output_type": "stream",
     "text": [
      "Downloading Diaries:  47%|▍| 1689/3628 [1:47:21<2:09:43,"
     ]
    },
    {
     "name": "stdout",
     "output_type": "stream",
     "text": [
      "[download] 100% of  956.91KiB in 00:00:00 at 1.12MiB/s                   \n",
      "[ExtractAudio] Destination: ..\\data\\raw\\dementia_diaries\\audio\\Tommy talks about how important DEEP has been for him._672065345.wav\n"
     ]
    },
    {
     "name": "stderr",
     "output_type": "stream",
     "text": [
      "Downloading Diaries:  47%|▍| 1690/3628 [1:47:25<2:12:30,"
     ]
    },
    {
     "name": "stdout",
     "output_type": "stream",
     "text": [
      "[download] 100% of    1.21MiB in 00:00:01 at 1.17MiB/s                 \n",
      "[ExtractAudio] Destination: ..\\data\\raw\\dementia_diaries\\audio\\Keith reflects on his visit to Woodbrooke._672065204.wav\n"
     ]
    },
    {
     "name": "stderr",
     "output_type": "stream",
     "text": [
      "Downloading Diaries:  47%|▍| 1691/3628 [1:47:30<2:19:55,"
     ]
    },
    {
     "name": "stdout",
     "output_type": "stream",
     "text": [
      "[download] 100% of    1.22MiB in 00:00:01 at 1.15MiB/s                 \n",
      "[ExtractAudio] Destination: ..\\data\\raw\\dementia_diaries\\audio\\Paul has been telling an old friend �I do do that�_672065030.wav\n"
     ]
    },
    {
     "name": "stderr",
     "output_type": "stream",
     "text": [
      "Downloading Diaries:  47%|▍| 1692/3628 [1:47:34<2:21:14,"
     ]
    },
    {
     "name": "stdout",
     "output_type": "stream",
     "text": [
      "[download] 100% of  760.99KiB in 00:00:00 at 1.03MiB/s                   \n",
      "[ExtractAudio] Destination: ..\\data\\raw\\dementia_diaries\\audio\\Paul reports from a Dementia Enquirers meeting._672064808.wav\n"
     ]
    },
    {
     "name": "stderr",
     "output_type": "stream",
     "text": [
      "Downloading Diaries:  47%|▍| 1693/3628 [1:47:38<2:11:27,"
     ]
    },
    {
     "name": "stdout",
     "output_type": "stream",
     "text": [
      "[download] 100% of  438.77KiB in 00:00:00 at 807.90KiB/s               \n",
      "[ExtractAudio] Destination: ..\\data\\raw\\dementia_diaries\\audio\\Rae iis worn to a frazzle._672064655.wav\n"
     ]
    },
    {
     "name": "stderr",
     "output_type": "stream",
     "text": [
      "Downloading Diaries:  47%|▍| 1694/3628 [1:47:41<2:03:07,"
     ]
    },
    {
     "name": "stdout",
     "output_type": "stream",
     "text": [
      "[download] 100% of  595.39KiB in 00:00:00 at 866.78KiB/s               \n",
      "[ExtractAudio] Destination: ..\\data\\raw\\dementia_diaries\\audio\\Stephen�s had a mixed week, including brick making._672064514.wav\n"
     ]
    },
    {
     "name": "stderr",
     "output_type": "stream",
     "text": [
      "Downloading Diaries:  47%|▍| 1695/3628 [1:47:46<2:18:01,"
     ]
    },
    {
     "name": "stdout",
     "output_type": "stream",
     "text": [
      "[download] 100% of    2.31MiB in 00:00:01 at 1.24MiB/s                 \n",
      "[ExtractAudio] Destination: ..\\data\\raw\\dementia_diaries\\audio\\Dory reports on a number of different projects._672064343.wav\n"
     ]
    },
    {
     "name": "stderr",
     "output_type": "stream",
     "text": [
      "Downloading Diaries:  47%|▍| 1696/3628 [1:47:51<2:20:59,"
     ]
    },
    {
     "name": "stdout",
     "output_type": "stream",
     "text": [
      "[download] 100% of  882.63KiB in 00:00:00 at 910.61KiB/s                 \n",
      "[ExtractAudio] Destination: ..\\data\\raw\\dementia_diaries\\audio\\Tommy has some advice for communicating with people newly diagnosed_668854265.wav\n"
     ]
    },
    {
     "name": "stderr",
     "output_type": "stream",
     "text": [
      "Downloading Diaries:  47%|▍| 1697/3628 [1:47:54<2:12:46,"
     ]
    },
    {
     "name": "stdout",
     "output_type": "stream",
     "text": [
      "[download] 100% of    1.53MiB in 00:00:01 at 1.25MiB/s                 \n",
      "[ExtractAudio] Destination: ..\\data\\raw\\dementia_diaries\\audio\\Agnes is trying to adapt to new conditions._668854037.wav\n"
     ]
    },
    {
     "name": "stderr",
     "output_type": "stream",
     "text": [
      "Downloading Diaries:  47%|▍| 1698/3628 [1:47:57<2:02:54,"
     ]
    },
    {
     "name": "stdout",
     "output_type": "stream",
     "text": [
      "[download] 100% of  251.52KiB in 00:00:00 at 581.73KiB/s               \n",
      "[ExtractAudio] Destination: ..\\data\\raw\\dementia_diaries\\audio\\Rae reports form the Mersey Ferry_668853926.wav\n"
     ]
    },
    {
     "name": "stderr",
     "output_type": "stream",
     "text": [
      "Downloading Diaries:  47%|▍| 1699/3628 [1:48:02<2:07:12,"
     ]
    },
    {
     "name": "stdout",
     "output_type": "stream",
     "text": [
      "[download] 100% of    1.33MiB in 00:00:01 at 1.19MiB/s                 \n",
      "[ExtractAudio] Destination: ..\\data\\raw\\dementia_diaries\\audio\\Jacqui is unhappy that her CBT sessions have come to an end_668853740.wav\n"
     ]
    },
    {
     "name": "stderr",
     "output_type": "stream",
     "text": [
      "Downloading Diaries:  47%|▍| 1700/3628 [1:48:05<2:00:24,"
     ]
    },
    {
     "name": "stdout",
     "output_type": "stream",
     "text": [
      "[download] 100% of  592.56KiB in 00:00:00 at 881.86KiB/s               \n",
      "[ExtractAudio] Destination: ..\\data\\raw\\dementia_diaries\\audio\\Stephen has had some news from his consultant._668852936.wav\n"
     ]
    },
    {
     "name": "stderr",
     "output_type": "stream",
     "text": [
      "Downloading Diaries:  47%|▍| 1701/3628 [1:48:12<2:36:26,"
     ]
    },
    {
     "name": "stdout",
     "output_type": "stream",
     "text": [
      "[download] 100% of    4.81MiB in 00:00:03 at 1.25MiB/s                 \n",
      "[ExtractAudio] Destination: ..\\data\\raw\\dementia_diaries\\audio\\Dory reads Jane Garvey_666285545.wav\n"
     ]
    },
    {
     "name": "stderr",
     "output_type": "stream",
     "text": [
      "Downloading Diaries:  47%|▍| 1702/3628 [1:48:17<2:30:42,"
     ]
    },
    {
     "name": "stdout",
     "output_type": "stream",
     "text": [
      "[download] 100% of    1.50MiB in 00:00:01 at 1.13MiB/s                 \n",
      "[ExtractAudio] Destination: ..\\data\\raw\\dementia_diaries\\audio\\Keith felt welcomed to the Dementia Diaries and DEEP family_666266474.wav\n"
     ]
    },
    {
     "name": "stderr",
     "output_type": "stream",
     "text": [
      "Downloading Diaries:  47%|▍| 1703/3628 [1:48:22<2:32:03,"
     ]
    },
    {
     "name": "stdout",
     "output_type": "stream",
     "text": [
      "[download] 100% of  723.10KiB in 00:00:00 at 943.60KiB/s                 \n",
      "[ExtractAudio] Destination: ..\\data\\raw\\dementia_diaries\\audio\\I can't get a handle on it - I can't come to terms with it_665734730.wav\n"
     ]
    },
    {
     "name": "stderr",
     "output_type": "stream",
     "text": [
      "Downloading Diaries:  47%|▍| 1704/3628 [1:48:26<2:32:05,"
     ]
    },
    {
     "name": "stdout",
     "output_type": "stream",
     "text": [
      "[download] 100% of    1.72MiB in 00:00:01 at 1.25MiB/s                 \n",
      "[ExtractAudio] Destination: ..\\data\\raw\\dementia_diaries\\audio\\Glenda shares the story of the dog eating her spectacles_665715176.wav\n"
     ]
    },
    {
     "name": "stderr",
     "output_type": "stream",
     "text": [
      "Downloading Diaries:  47%|▍| 1705/3628 [1:48:30<2:22:11,"
     ]
    },
    {
     "name": "stdout",
     "output_type": "stream",
     "text": [
      "[download] 100% of  616.89KiB in 00:00:00 at 1.01MiB/s                 \n",
      "[ExtractAudio] Destination: ..\\data\\raw\\dementia_diaries\\audio\\The 'job' of Dementia Diaries_665698283.wav\n"
     ]
    },
    {
     "name": "stderr",
     "output_type": "stream",
     "text": [
      "Downloading Diaries:  47%|▍| 1706/3628 [1:48:34<2:18:39,"
     ]
    },
    {
     "name": "stdout",
     "output_type": "stream",
     "text": [
      "[download] 100% of  199.22KiB in 00:00:00 at 450.43KiB/s               \n",
      "[ExtractAudio] Destination: ..\\data\\raw\\dementia_diaries\\audio\\Wendy's poem about the Woodbrooke Dementia Diaries Gathering_664720589.wav\n"
     ]
    },
    {
     "name": "stderr",
     "output_type": "stream",
     "text": [
      "Downloading Diaries:  47%|▍| 1707/3628 [1:48:37<2:06:48,"
     ]
    },
    {
     "name": "stdout",
     "output_type": "stream",
     "text": [
      "[download] 100% of  275.83KiB in 00:00:00 at 641.03KiB/s               \n",
      "[ExtractAudio] Destination: ..\\data\\raw\\dementia_diaries\\audio\\Ray is one of our diarists who couldn't get to Woodbrooke_664717151.wav\n"
     ]
    },
    {
     "name": "stderr",
     "output_type": "stream",
     "text": [
      "Downloading Diaries:  47%|▍| 1708/3628 [1:48:42<2:10:18,"
     ]
    },
    {
     "name": "stdout",
     "output_type": "stream",
     "text": [
      "[download] 100% of  631.54KiB in 00:00:00 at 1000.50KiB/s              \n",
      "[ExtractAudio] Destination: ..\\data\\raw\\dementia_diaries\\audio\\Paul reflects on the Dementia Diaries Gathering_664714598.wav\n"
     ]
    },
    {
     "name": "stderr",
     "output_type": "stream",
     "text": [
      "Downloading Diaries:  47%|▍| 1709/3628 [1:48:47<2:25:13,"
     ]
    },
    {
     "name": "stdout",
     "output_type": "stream",
     "text": [
      "[download] 100% of    2.23MiB in 00:00:01 at 1.17MiB/s                 \n",
      "[ExtractAudio] Destination: ..\\data\\raw\\dementia_diaries\\audio\\Dory reflects on the Dementia Diaries Gathering_664711760.wav\n"
     ]
    },
    {
     "name": "stderr",
     "output_type": "stream",
     "text": [
      "Downloading Diaries:  47%|▍| 1710/3628 [1:48:52<2:29:33,"
     ]
    },
    {
     "name": "stdout",
     "output_type": "stream",
     "text": [
      "[download] 100% of    1.16MiB in 00:00:01 at 1.15MiB/s                   \n",
      "[ExtractAudio] Destination: ..\\data\\raw\\dementia_diaries\\audio\\Jacqui would like to hear about other cards to aid communication_664707365.wav\n"
     ]
    },
    {
     "name": "stderr",
     "output_type": "stream",
     "text": [
      "Downloading Diaries:  47%|▍| 1711/3628 [1:48:57<2:30:17,"
     ]
    },
    {
     "name": "stdout",
     "output_type": "stream",
     "text": [
      "[download] 100% of  951.17KiB in 00:00:00 at 957.96KiB/s                 \n",
      "[ExtractAudio] Destination: ..\\data\\raw\\dementia_diaries\\audio\\Sometimes I feel bereft of who I once was_664704923.wav\n"
     ]
    },
    {
     "name": "stderr",
     "output_type": "stream",
     "text": [
      "Downloading Diaries:  47%|▍| 1712/3628 [1:49:01<2:25:08,"
     ]
    },
    {
     "name": "stdout",
     "output_type": "stream",
     "text": [
      "[download] 100% of    1.03MiB in 00:00:00 at 1.10MiB/s                   \n",
      "[ExtractAudio] Destination: ..\\data\\raw\\dementia_diaries\\audio\\Frances feels humbled and inspired!_664700321.wav\n"
     ]
    },
    {
     "name": "stderr",
     "output_type": "stream",
     "text": [
      "Downloading Diaries:  47%|▍| 1713/3628 [1:49:06<2:25:45,"
     ]
    },
    {
     "name": "stdout",
     "output_type": "stream",
     "text": [
      "[download] 100% of  621.03KiB in 00:00:00 at 958.51KiB/s               \n",
      "[ExtractAudio] Destination: ..\\data\\raw\\dementia_diaries\\audio\\'Keep going' says Stephen - fuelled by ice-cream!_664696877.wav\n"
     ]
    },
    {
     "name": "stderr",
     "output_type": "stream",
     "text": [
      "Downloading Diaries:  47%|▍| 1714/3628 [1:49:10<2:18:01,"
     ]
    },
    {
     "name": "stdout",
     "output_type": "stream",
     "text": [
      "[download] 100% of  558.94KiB in 00:00:00 at 810.39KiB/s               \n",
      "[ExtractAudio] Destination: ..\\data\\raw\\dementia_diaries\\audio\\Really disappointed that the Bournville village is NOT made of chocolate_664693403.wav\n"
     ]
    },
    {
     "name": "stderr",
     "output_type": "stream",
     "text": [
      "Downloading Diaries:  47%|▍| 1715/3628 [1:49:14<2:23:18,"
     ]
    },
    {
     "name": "stdout",
     "output_type": "stream",
     "text": [
      "[download] 100% of    1.91MiB in 00:00:01 at 1.25MiB/s                 \n",
      "[ExtractAudio] Destination: ..\\data\\raw\\dementia_diaries\\audio\\Keith says he feels ashamed he hasn't done enough_664689638.wav\n"
     ]
    },
    {
     "name": "stderr",
     "output_type": "stream",
     "text": [
      "Downloading Diaries:  47%|▍| 1716/3628 [1:49:20<2:34:43,"
     ]
    },
    {
     "name": "stdout",
     "output_type": "stream",
     "text": [
      "[download] 100% of    2.21MiB in 00:00:01 at 1.16MiB/s                 \n",
      "[ExtractAudio] Destination: ..\\data\\raw\\dementia_diaries\\audio\\Agnes  feels safe and understood with her 'dementia family'_664684568.wav\n"
     ]
    },
    {
     "name": "stderr",
     "output_type": "stream",
     "text": [
      "Downloading Diaries:  47%|▍| 1717/3628 [1:49:24<2:26:22,"
     ]
    },
    {
     "name": "stdout",
     "output_type": "stream",
     "text": [
      "[download] 100% of  726.13KiB in 00:00:00 at 929.02KiB/s                 \n",
      "[ExtractAudio] Destination: ..\\data\\raw\\dementia_diaries\\audio\\Lorraine also singing the praises of Virgin Trains_664681187.wav\n"
     ]
    },
    {
     "name": "stderr",
     "output_type": "stream",
     "text": [
      "Downloading Diaries:  47%|▍| 1718/3628 [1:49:28<2:20:53,"
     ]
    },
    {
     "name": "stdout",
     "output_type": "stream",
     "text": [
      "[download] 100% of 1009.70KiB in 00:00:00 at 1.16MiB/s                   \n",
      "[ExtractAudio] Destination: ..\\data\\raw\\dementia_diaries\\audio\\A very positive experience with Virgin Trains_664678229.wav\n"
     ]
    },
    {
     "name": "stderr",
     "output_type": "stream",
     "text": [
      "Downloading Diaries:  47%|▍| 1719/3628 [1:49:33<2:24:58,"
     ]
    },
    {
     "name": "stdout",
     "output_type": "stream",
     "text": [
      "[download] 100% of    1.19MiB in 00:00:01 at 1.16MiB/s                 \n",
      "[ExtractAudio] Destination: ..\\data\\raw\\dementia_diaries\\audio\\Agnes is going to reduce the amount she is doing_664673906.wav\n"
     ]
    },
    {
     "name": "stderr",
     "output_type": "stream",
     "text": [
      "Downloading Diaries:  47%|▍| 1720/3628 [1:49:37<2:21:34,"
     ]
    },
    {
     "name": "stdout",
     "output_type": "stream",
     "text": [
      "[download] 100% of  647.83KiB in 00:00:00 at 926.56KiB/s                 \n",
      "[ExtractAudio] Destination: ..\\data\\raw\\dementia_diaries\\audio\\What is it like to have dementia as a man_664670855.wav\n"
     ]
    },
    {
     "name": "stderr",
     "output_type": "stream",
     "text": [
      "Downloading Diaries:  47%|▍| 1721/3628 [1:49:43<2:34:44,"
     ]
    },
    {
     "name": "stdout",
     "output_type": "stream",
     "text": [
      "[download] 100% of    2.81MiB in 00:00:02 at 1.22MiB/s                 \n",
      "[ExtractAudio] Destination: ..\\data\\raw\\dementia_diaries\\audio\\A distressing day visiting depressing care homes_664668239.wav\n"
     ]
    },
    {
     "name": "stderr",
     "output_type": "stream",
     "text": [
      "Downloading Diaries:  47%|▍| 1722/3628 [1:49:47<2:30:30,"
     ]
    },
    {
     "name": "stdout",
     "output_type": "stream",
     "text": [
      "[download] 100% of  870.57KiB in 00:00:00 at 966.50KiB/s                 \n",
      "[ExtractAudio] Destination: ..\\data\\raw\\dementia_diaries\\audio\\Larry remembering a friend_664663850.wav\n"
     ]
    },
    {
     "name": "stderr",
     "output_type": "stream",
     "text": [
      "Downloading Diaries:  47%|▍| 1723/3628 [1:49:52<2:23:44,"
     ]
    },
    {
     "name": "stdout",
     "output_type": "stream",
     "text": [
      "[download] 100% of  931.55KiB in 00:00:00 at 973.86KiB/s                 \n",
      "[ExtractAudio] Destination: ..\\data\\raw\\dementia_diaries\\audio\\Larry's poem about worrying_664659686.wav\n"
     ]
    },
    {
     "name": "stderr",
     "output_type": "stream",
     "text": [
      "Downloading Diaries:  48%|▍| 1724/3628 [1:49:55<2:10:25,"
     ]
    },
    {
     "name": "stdout",
     "output_type": "stream",
     "text": [
      "[download] 100% of  669.34KiB in 00:00:00 at 913.20KiB/s                 \n",
      "[ExtractAudio] Destination: ..\\data\\raw\\dementia_diaries\\audio\\Rae felt small and over-awed_664657142.wav\n"
     ]
    },
    {
     "name": "stderr",
     "output_type": "stream",
     "text": [
      "Downloading Diaries:  48%|▍| 1725/3628 [1:49:59<2:08:20,"
     ]
    },
    {
     "name": "stdout",
     "output_type": "stream",
     "text": [
      "[download] 100% of  787.27KiB in 00:00:00 at 1023.03KiB/s                \n",
      "[ExtractAudio] Destination: ..\\data\\raw\\dementia_diaries\\audio\\The pros and cons of living alone with dementia_664655411.wav\n"
     ]
    },
    {
     "name": "stderr",
     "output_type": "stream",
     "text": [
      "Downloading Diaries:  48%|▍| 1726/3628 [1:50:02<1:58:22,"
     ]
    },
    {
     "name": "stdout",
     "output_type": "stream",
     "text": [
      "[download] 100% of  771.45KiB in 00:00:00 at 1.00MiB/s                   \n",
      "[ExtractAudio] Destination: ..\\data\\raw\\dementia_diaries\\audio\\Julie from YODA shares a positive reserach experience_664651532.wav\n"
     ]
    },
    {
     "name": "stderr",
     "output_type": "stream",
     "text": [
      "Downloading Diaries:  48%|▍| 1727/3628 [1:50:07<2:15:33,"
     ]
    },
    {
     "name": "stdout",
     "output_type": "stream",
     "text": [
      "[download] 100% of    2.43MiB in 00:00:02 at 1.12MiB/s                 \n",
      "[ExtractAudio] Destination: ..\\data\\raw\\dementia_diaries\\audio\\Chris shares her diagnosis story_664648166.wav\n"
     ]
    },
    {
     "name": "stderr",
     "output_type": "stream",
     "text": [
      "Downloading Diaries:  48%|▍| 1728/3628 [1:50:12<2:18:21,"
     ]
    },
    {
     "name": "stdout",
     "output_type": "stream",
     "text": [
      "[download] 100% of    1.54MiB in 00:00:01 at 1.21MiB/s                 \n",
      "[ExtractAudio] Destination: ..\\data\\raw\\dementia_diaries\\audio\\Chris explaining the energy spoon theory_664643606.wav\n"
     ]
    },
    {
     "name": "stderr",
     "output_type": "stream",
     "text": [
      "Downloading Diaries:  48%|▍| 1729/3628 [1:50:16<2:13:38,"
     ]
    },
    {
     "name": "stdout",
     "output_type": "stream",
     "text": [
      "[download] 100% of    1.82MiB in 00:00:01 at 1.15MiB/s                 \n",
      "[ExtractAudio] Destination: ..\\data\\raw\\dementia_diaries\\audio\\A glowing review for a new leisure centre_664640702.wav\n"
     ]
    },
    {
     "name": "stderr",
     "output_type": "stream",
     "text": [
      "Downloading Diaries:  48%|▍| 1730/3628 [1:50:19<2:10:27,"
     ]
    },
    {
     "name": "stdout",
     "output_type": "stream",
     "text": [
      "[download] 100% of    1.44MiB in 00:00:01 at 1.16MiB/s                 \n",
      "[ExtractAudio] Destination: ..\\data\\raw\\dementia_diaries\\audio\\Forgetting how to use the things I use daily_664636670.wav\n"
     ]
    },
    {
     "name": "stderr",
     "output_type": "stream",
     "text": [
      "Downloading Diaries:  48%|▍| 1731/3628 [1:50:23<2:09:27,"
     ]
    },
    {
     "name": "stdout",
     "output_type": "stream",
     "text": [
      "[download] 100% of  839.96KiB in 00:00:01 at 838.95KiB/s                 \n",
      "[ExtractAudio] Destination: ..\\data\\raw\\dementia_diaries\\audio\\Without you I don't know what I would do_664633913.wav\n"
     ]
    },
    {
     "name": "stderr",
     "output_type": "stream",
     "text": [
      "Downloading Diaries:  48%|▍| 1732/3628 [1:50:28<2:13:05,"
     ]
    },
    {
     "name": "stdout",
     "output_type": "stream",
     "text": [
      "[download] 100% of    2.81MiB in 00:00:02 at 1.16MiB/s                 \n",
      "[ExtractAudio] Destination: ..\\data\\raw\\dementia_diaries\\audio\\The Happy Tandemer shares the joy of her cultural adventures_664630760.wav\n"
     ]
    },
    {
     "name": "stderr",
     "output_type": "stream",
     "text": [
      "Downloading Diaries:  48%|▍| 1733/3628 [1:50:34<2:26:05,"
     ]
    },
    {
     "name": "stdout",
     "output_type": "stream",
     "text": [
      "[download] 100% of    1.31MiB in 00:00:01 at 1.15MiB/s                 \n",
      "[ExtractAudio] Destination: ..\\data\\raw\\dementia_diaries\\audio\\Peter says it is all about adapting and changing_664625279.wav\n"
     ]
    },
    {
     "name": "stderr",
     "output_type": "stream",
     "text": [
      "Downloading Diaries:  48%|▍| 1734/3628 [1:50:38<2:25:31,"
     ]
    },
    {
     "name": "stdout",
     "output_type": "stream",
     "text": [
      "[download] 100% of  607.78KiB in 00:00:00 at 995.83KiB/s               \n",
      "[ExtractAudio] Destination: ..\\data\\raw\\dementia_diaries\\audio\\A farewell meal and tribute to Happy Wanderers' member George_664620362.wav\n"
     ]
    },
    {
     "name": "stderr",
     "output_type": "stream",
     "text": [
      "Downloading Diaries:  48%|▍| 1735/3628 [1:50:43<2:25:34,"
     ]
    },
    {
     "name": "stdout",
     "output_type": "stream",
     "text": [
      "[download] 100% of    1.59MiB in 00:00:01 at 1.20MiB/s                 \n",
      "[ExtractAudio] Destination: ..\\data\\raw\\dementia_diaries\\audio\\Not sure if in a situation comedy or a memory assessment_664617527.wav\n"
     ]
    },
    {
     "name": "stderr",
     "output_type": "stream",
     "text": [
      "Downloading Diaries:  48%|▍| 1736/3628 [1:50:46<2:15:03,"
     ]
    },
    {
     "name": "stdout",
     "output_type": "stream",
     "text": [
      "[download] 100% of  267.12KiB in 00:00:00 at 609.88KiB/s               \n",
      "[ExtractAudio] Destination: ..\\data\\raw\\dementia_diaries\\audio\\When your husband starts to use the yellow 'I want to speak' card!_664614317.wav\n"
     ]
    },
    {
     "name": "stderr",
     "output_type": "stream",
     "text": [
      "Downloading Diaries:  48%|▍| 1737/3628 [1:50:51<2:17:19,"
     ]
    },
    {
     "name": "stdout",
     "output_type": "stream",
     "text": [
      "[download] 100% of    1.17MiB in 00:00:01 at 1.14MiB/s                 \n",
      "[ExtractAudio] Destination: ..\\data\\raw\\dementia_diaries\\audio\\Worries about funding, arranging and speaking at Congress_664612229.wav\n"
     ]
    },
    {
     "name": "stderr",
     "output_type": "stream",
     "text": [
      "Downloading Diaries:  48%|▍| 1738/3628 [1:50:55<2:15:07,"
     ]
    },
    {
     "name": "stdout",
     "output_type": "stream",
     "text": [
      "[download] 100% of  343.34KiB in 00:00:00 at 809.82KiB/s               \n",
      "[ExtractAudio] Destination: ..\\data\\raw\\dementia_diaries\\audio\\Paul reminds us about blue badge changes_664608920.wav\n"
     ]
    },
    {
     "name": "stderr",
     "output_type": "stream",
     "text": [
      "Downloading Diaries:  48%|▍| 1739/3628 [1:50:58<2:05:44,"
     ]
    },
    {
     "name": "stdout",
     "output_type": "stream",
     "text": [
      "[download] 100% of 1012.06KiB in 00:00:01 at 796.68KiB/s               \n",
      "[ExtractAudio] Destination: ..\\data\\raw\\dementia_diaries\\audio\\Wendy marks 5 years since diagnosis_659525024.wav\n"
     ]
    },
    {
     "name": "stderr",
     "output_type": "stream",
     "text": [
      "Downloading Diaries:  48%|▍| 1740/3628 [1:51:16<4:11:40,"
     ]
    },
    {
     "name": "stdout",
     "output_type": "stream",
     "text": [
      "[download] 100% of   12.58MiB in 00:00:15 at 846.94KiB/s                 \n",
      "[ExtractAudio] Destination: ..\\data\\raw\\dementia_diaries\\audio\\Dementia Enquirers Podcast_658494947.wav\n"
     ]
    },
    {
     "name": "stderr",
     "output_type": "stream",
     "text": [
      "Downloading Diaries:  48%|▍| 1741/3628 [1:51:22<3:58:38,"
     ]
    },
    {
     "name": "stdout",
     "output_type": "stream",
     "text": [
      "[download] 100% of  860.57KiB in 00:00:00 at 1.04MiB/s                   \n",
      "[ExtractAudio] Destination: ..\\data\\raw\\dementia_diaries\\audio\\Frances finds her tracking device helpful._658465100.wav\n"
     ]
    },
    {
     "name": "stderr",
     "output_type": "stream",
     "text": [
      "Downloading Diaries:  48%|▍| 1742/3628 [1:51:28<3:37:16,"
     ]
    },
    {
     "name": "stdout",
     "output_type": "stream",
     "text": [
      "[download] 100% of    2.95MiB in 00:00:02 at 1.40MiB/s                 \n",
      "[ExtractAudio] Destination: ..\\data\\raw\\dementia_diaries\\audio\\A power surge made for an interesting night for Dory._658464968.wav\n"
     ]
    },
    {
     "name": "stderr",
     "output_type": "stream",
     "text": [
      "Downloading Diaries:  48%|▍| 1743/3628 [1:51:32<3:17:05,"
     ]
    },
    {
     "name": "stdout",
     "output_type": "stream",
     "text": [
      "[download] 100% of  631.48KiB in 00:00:00 at 958.45KiB/s               \n",
      "[ExtractAudio] Destination: ..\\data\\raw\\dementia_diaries\\audio\\Frances describes a friend who is blossoming._658464767.wav\n"
     ]
    },
    {
     "name": "stderr",
     "output_type": "stream",
     "text": [
      "Downloading Diaries:  48%|▍| 1744/3628 [1:51:36<2:53:48,"
     ]
    },
    {
     "name": "stdout",
     "output_type": "stream",
     "text": [
      "[download] 100% of  656.18KiB in 00:00:00 at 1020.39KiB/s              \n",
      "[ExtractAudio] Destination: ..\\data\\raw\\dementia_diaries\\audio\\Rae is home from a less than successful time in hospital._658464635.wav\n"
     ]
    },
    {
     "name": "stderr",
     "output_type": "stream",
     "text": [
      "Downloading Diaries:  48%|▍| 1745/3628 [1:51:41<2:49:13,"
     ]
    },
    {
     "name": "stdout",
     "output_type": "stream",
     "text": [
      "[download] 100% of    1.51MiB in 00:00:01 at 1.20MiB/s                 \n",
      "[ExtractAudio] Destination: ..\\data\\raw\\dementia_diaries\\audio\\Agnes is feeling the heat on her road to recovery._658464488.wav\n"
     ]
    },
    {
     "name": "stderr",
     "output_type": "stream",
     "text": [
      "Downloading Diaries:  48%|▍| 1746/3628 [1:51:47<2:53:36,"
     ]
    },
    {
     "name": "stdout",
     "output_type": "stream",
     "text": [
      "[download] 100% of    2.69MiB in 00:00:02 at 1.24MiB/s                 \n",
      "[ExtractAudio] Destination: ..\\data\\raw\\dementia_diaries\\audio\\Agnes talks about the help help she gets to keep involved._658464326.wav\n"
     ]
    },
    {
     "name": "stderr",
     "output_type": "stream",
     "text": [
      "Downloading Diaries:  48%|▍| 1747/3628 [1:51:51<2:39:19,"
     ]
    },
    {
     "name": "stdout",
     "output_type": "stream",
     "text": [
      "[download] 100% of  595.74KiB in 00:00:00 at 1.00MiB/s                 \n",
      "[ExtractAudio] Destination: ..\\data\\raw\\dementia_diaries\\audio\\Stephen has been out with the walking group._658464113.wav\n"
     ]
    },
    {
     "name": "stderr",
     "output_type": "stream",
     "text": [
      "Downloading Diaries:  48%|▍| 1748/3628 [1:51:53<2:13:41,"
     ]
    },
    {
     "name": "stdout",
     "output_type": "stream",
     "text": [
      "[download] 100% of  324.75KiB in 00:00:00 at 779.20KiB/s               \n",
      "[ExtractAudio] Destination: ..\\data\\raw\\dementia_diaries\\audio\\Rae is recovering after an operation._658463984.wav\n"
     ]
    },
    {
     "name": "stderr",
     "output_type": "stream",
     "text": [
      "Downloading Diaries:  48%|▍| 1749/3628 [1:51:57<2:05:33,"
     ]
    },
    {
     "name": "stdout",
     "output_type": "stream",
     "text": [
      "[download] 100% of  916.23KiB in 00:00:00 at 1.12MiB/s                   \n",
      "[ExtractAudio] Destination: ..\\data\\raw\\dementia_diaries\\audio\\Wayne shares a wonderful summers day in the park._658463780.wav\n"
     ]
    },
    {
     "name": "stderr",
     "output_type": "stream",
     "text": [
      "Downloading Diaries:  48%|▍| 1750/3628 [1:52:01<2:09:42,"
     ]
    },
    {
     "name": "stdout",
     "output_type": "stream",
     "text": [
      "[download] 100% of  658.96KiB in 00:00:00 at 938.99KiB/s               \n",
      "[ExtractAudio] Destination: ..\\data\\raw\\dementia_diaries\\audio\\Frances reflects on what Dementia Diaries means to her._658463546.wav\n"
     ]
    },
    {
     "name": "stderr",
     "output_type": "stream",
     "text": [
      "Downloading Diaries:  48%|▍| 1751/3628 [1:52:06<2:11:18,"
     ]
    },
    {
     "name": "stdout",
     "output_type": "stream",
     "text": [
      "[download] 100% of  336.59KiB in 00:00:00 at 703.31KiB/s               \n",
      "[ExtractAudio] Destination: ..\\data\\raw\\dementia_diaries\\audio\\Glenda is taking a well earned break._655158434.wav\n"
     ]
    },
    {
     "name": "stderr",
     "output_type": "stream",
     "text": [
      "Downloading Diaries:  48%|▍| 1752/3628 [1:52:10<2:08:48,"
     ]
    },
    {
     "name": "stdout",
     "output_type": "stream",
     "text": [
      "[download] 100% of  313.22KiB in 00:00:00 at 691.76KiB/s               \n",
      "[ExtractAudio] Destination: ..\\data\\raw\\dementia_diaries\\audio\\Raymond talks about the importance of life story books in hospital._655158269.wav\n"
     ]
    },
    {
     "name": "stderr",
     "output_type": "stream",
     "text": [
      "Downloading Diaries:  48%|▍| 1753/3628 [1:52:14<2:11:43,"
     ]
    },
    {
     "name": "stdout",
     "output_type": "stream",
     "text": [
      "[download] 100% of  618.76KiB in 00:00:00 at 1.07MiB/s                 \n",
      "[ExtractAudio] Destination: ..\\data\\raw\\dementia_diaries\\audio\\Rae is coming home from a manic time in Scotland._655157948.wav\n"
     ]
    },
    {
     "name": "stderr",
     "output_type": "stream",
     "text": [
      "Downloading Diaries:  48%|▍| 1754/3628 [1:52:18<2:07:30,"
     ]
    },
    {
     "name": "stdout",
     "output_type": "stream",
     "text": [
      "[download] 100% of  573.69KiB in 00:00:00 at 1012.78KiB/s              \n",
      "[ExtractAudio] Destination: ..\\data\\raw\\dementia_diaries\\audio\\Stephen has a busy week coming up._655157756.wav\n"
     ]
    },
    {
     "name": "stderr",
     "output_type": "stream",
     "text": [
      "Downloading Diaries:  48%|▍| 1755/3628 [1:52:24<2:26:47,"
     ]
    },
    {
     "name": "stdout",
     "output_type": "stream",
     "text": [
      "[download] 100% of    3.04MiB in 00:00:02 at 1.34MiB/s                 \n",
      "[ExtractAudio] Destination: ..\\data\\raw\\dementia_diaries\\audio\\Dory feels well supported on her travels._655157549.wav\n"
     ]
    },
    {
     "name": "stderr",
     "output_type": "stream",
     "text": [
      "Downloading Diaries:  48%|▍| 1756/3628 [1:52:30<2:39:14,"
     ]
    },
    {
     "name": "stdout",
     "output_type": "stream",
     "text": [
      "[download] 100% of    2.88MiB in 00:00:02 at 1.29MiB/s                 \n",
      "[ExtractAudio] Destination: ..\\data\\raw\\dementia_diaries\\audio\\Agnes argues for a holistic approach to caring for long term conditions._655157327.wav\n"
     ]
    },
    {
     "name": "stderr",
     "output_type": "stream",
     "text": [
      "Downloading Diaries:  48%|▍| 1757/3628 [1:52:34<2:29:56,"
     ]
    },
    {
     "name": "stdout",
     "output_type": "stream",
     "text": [
      "[download] 100% of    1.11MiB in 00:00:00 at 1.14MiB/s                   \n",
      "[ExtractAudio] Destination: ..\\data\\raw\\dementia_diaries\\audio\\Frances talks about the new film about DEEP groups in Wales._655157153.wav\n"
     ]
    },
    {
     "name": "stderr",
     "output_type": "stream",
     "text": [
      "Downloading Diaries:  48%|▍| 1758/3628 [1:52:38<2:22:01,"
     ]
    },
    {
     "name": "stdout",
     "output_type": "stream",
     "text": [
      "[download] 100% of    1.38MiB in 00:00:01 at 1.30MiB/s                 \n",
      "[ExtractAudio] Destination: ..\\data\\raw\\dementia_diaries\\audio\\�i have dementia, dementia doesn�t have me� says Keith._655156631.wav\n"
     ]
    },
    {
     "name": "stderr",
     "output_type": "stream",
     "text": [
      "Downloading Diaries:  48%|▍| 1759/3628 [1:52:42<2:12:28,"
     ]
    },
    {
     "name": "stdout",
     "output_type": "stream",
     "text": [
      "[download] 100% of  844.94KiB in 00:00:00 at 1.22MiB/s                   \n",
      "[ExtractAudio] Destination: ..\\data\\raw\\dementia_diaries\\audio\\Stephen�s had a good day with the walking group._655156019.wav\n"
     ]
    },
    {
     "name": "stderr",
     "output_type": "stream",
     "text": [
      "Downloading Diaries:  49%|▍| 1760/3628 [1:52:46<2:15:17,"
     ]
    },
    {
     "name": "stdout",
     "output_type": "stream",
     "text": [
      "[download] 100% of    2.66MiB in 00:00:02 at 1.28MiB/s                 \n",
      "[ExtractAudio] Destination: ..\\data\\raw\\dementia_diaries\\audio\\Melvyn wonders why more men aren�t involved in supporting dementia._651852476.wav\n"
     ]
    },
    {
     "name": "stderr",
     "output_type": "stream",
     "text": [
      "Downloading Diaries:  49%|▍| 1761/3628 [1:52:51<2:15:57,"
     ]
    },
    {
     "name": "stdout",
     "output_type": "stream",
     "text": [
      "[download] 100% of  559.52KiB in 00:00:00 at 886.02KiB/s               \n",
      "[ExtractAudio] Destination: ..\\data\\raw\\dementia_diaries\\audio\\Frances feels anti depressants can be hugely helpful._651849902.wav\n"
     ]
    },
    {
     "name": "stderr",
     "output_type": "stream",
     "text": [
      "Downloading Diaries:  49%|▍| 1762/3628 [1:52:53<2:02:09,"
     ]
    },
    {
     "name": "stdout",
     "output_type": "stream",
     "text": [
      "[download] 100% of  494.27KiB in 00:00:00 at 936.71KiB/s               \n",
      "[ExtractAudio] Destination: ..\\data\\raw\\dementia_diaries\\audio\\Frances reports about  the �empowered women� meeting_651849392.wav\n"
     ]
    },
    {
     "name": "stderr",
     "output_type": "stream",
     "text": [
      "Downloading Diaries:  49%|▍| 1763/3628 [1:52:57<1:57:06,"
     ]
    },
    {
     "name": "stdout",
     "output_type": "stream",
     "text": [
      "[download] 100% of    1.19MiB in 00:00:01 at 1.14MiB/s                 \n",
      "[ExtractAudio] Destination: ..\\data\\raw\\dementia_diaries\\audio\\Keith is cross to get a hospital appointment for 2020!_651847862.wav\n"
     ]
    },
    {
     "name": "stderr",
     "output_type": "stream",
     "text": [
      "Downloading Diaries:  49%|▍| 1764/3628 [1:53:01<2:02:46,"
     ]
    },
    {
     "name": "stdout",
     "output_type": "stream",
     "text": [
      "[download] 100% of    1.78MiB in 00:00:01 at 1.25MiB/s                 \n",
      "[ExtractAudio] Destination: ..\\data\\raw\\dementia_diaries\\audio\\Tracey on the issue of eye tests and dementia._651847019.wav\n"
     ]
    },
    {
     "name": "stderr",
     "output_type": "stream",
     "text": [
      "Downloading Diaries:  49%|▍| 1765/3628 [1:53:06<2:11:45,"
     ]
    },
    {
     "name": "stdout",
     "output_type": "stream",
     "text": [
      "[download] 100% of    1.98MiB in 00:00:01 at 1.22MiB/s                 \n",
      "[ExtractAudio] Destination: ..\\data\\raw\\dementia_diaries\\audio\\Dory talks about the women with dementia meeting._651846710.wav\n"
     ]
    },
    {
     "name": "stderr",
     "output_type": "stream",
     "text": [
      "Downloading Diaries:  49%|▍| 1766/3628 [1:53:11<2:14:30,"
     ]
    },
    {
     "name": "stdout",
     "output_type": "stream",
     "text": [
      "[download] 100% of  737.77KiB in 00:00:00 at 869.16KiB/s                 \n",
      "[ExtractAudio] Destination: ..\\data\\raw\\dementia_diaries\\audio\\Rae records this diary with a heavy heart._651846485.wav\n"
     ]
    },
    {
     "name": "stderr",
     "output_type": "stream",
     "text": [
      "Downloading Diaries:  49%|▍| 1767/3628 [1:53:16<2:25:37,"
     ]
    },
    {
     "name": "stdout",
     "output_type": "stream",
     "text": [
      "[download] 100% of    3.24MiB in 00:00:02 at 1.20MiB/s                 \n",
      "[ExtractAudio] Destination: ..\\data\\raw\\dementia_diaries\\audio\\Melvyn is appalled by a new leaflet about dementia._651846131.wav\n"
     ]
    },
    {
     "name": "stderr",
     "output_type": "stream",
     "text": [
      "Downloading Diaries:  49%|▍| 1768/3628 [1:53:22<2:33:14,"
     ]
    },
    {
     "name": "stdout",
     "output_type": "stream",
     "text": [
      "[download] 100% of    1.04MiB in 00:00:01 at 1.02MiB/s                 \n",
      "[ExtractAudio] Destination: ..\\data\\raw\\dementia_diaries\\audio\\Carol is taking a break away._651845201.wav\n"
     ]
    },
    {
     "name": "stderr",
     "output_type": "stream",
     "text": [
      "Downloading Diaries:  49%|▍| 1769/3628 [1:53:25<2:21:28,"
     ]
    },
    {
     "name": "stdout",
     "output_type": "stream",
     "text": [
      "[download] 100% of  823.48KiB in 00:00:00 at 1.01MiB/s                   \n",
      "[ExtractAudio] Destination: ..\\data\\raw\\dementia_diaries\\audio\\Glenda recalls teaching Welsh. Well, of sorts._651844847.wav\n"
     ]
    },
    {
     "name": "stderr",
     "output_type": "stream",
     "text": [
      "Downloading Diaries:  49%|▍| 1770/3628 [1:53:28<2:02:34,"
     ]
    },
    {
     "name": "stdout",
     "output_type": "stream",
     "text": [
      "[download] 100% of  381.37KiB in 00:00:00 at 876.33KiB/s               \n",
      "[ExtractAudio] Destination: ..\\data\\raw\\dementia_diaries\\audio\\Shelagh reports about the �Empowered Women� meetings_651844475.wav\n"
     ]
    },
    {
     "name": "stderr",
     "output_type": "stream",
     "text": [
      "Downloading Diaries:  49%|▍| 1771/3628 [1:53:33<2:07:44,"
     ]
    },
    {
     "name": "stdout",
     "output_type": "stream",
     "text": [
      "[download] 100% of    1.18MiB in 00:00:00 at 1.21MiB/s                   \n",
      "[ExtractAudio] Destination: ..\\data\\raw\\dementia_diaries\\audio\\Glenda reports about the �Empowered Women� meeting._651843695.wav\n"
     ]
    },
    {
     "name": "stderr",
     "output_type": "stream",
     "text": [
      "Downloading Diaries:  49%|▍| 1772/3628 [1:53:36<2:05:05,"
     ]
    },
    {
     "name": "stdout",
     "output_type": "stream",
     "text": [
      "[download] 100% of  732.01KiB in 00:00:00 at 1.02MiB/s                   \n",
      "[ExtractAudio] Destination: ..\\data\\raw\\dementia_diaries\\audio\\Rae notices being treated like an older person._651843506.wav\n"
     ]
    },
    {
     "name": "stderr",
     "output_type": "stream",
     "text": [
      "Downloading Diaries:  49%|▍| 1773/3628 [1:53:41<2:06:44,"
     ]
    },
    {
     "name": "stdout",
     "output_type": "stream",
     "text": [
      "[download] 100% of    1.86MiB in 00:00:01 at 1.18MiB/s                 \n",
      "[ExtractAudio] Destination: ..\\data\\raw\\dementia_diaries\\audio\\Agnes feels her DEEP family is helping keep her afloat._651843323.wav\n"
     ]
    },
    {
     "name": "stderr",
     "output_type": "stream",
     "text": [
      "Downloading Diaries:  49%|▍| 1774/3628 [1:53:43<1:54:13,"
     ]
    },
    {
     "name": "stdout",
     "output_type": "stream",
     "text": [
      "[download] 100% of  418.15KiB in 00:00:00 at 842.59KiB/s               \n",
      "[ExtractAudio] Destination: ..\\data\\raw\\dementia_diaries\\audio\\Stephen�s had a great visit to Newquay._651843125.wav\n"
     ]
    },
    {
     "name": "stderr",
     "output_type": "stream",
     "text": [
      "Downloading Diaries:  49%|▍| 1775/3628 [1:53:48<1:58:39,"
     ]
    },
    {
     "name": "stdout",
     "output_type": "stream",
     "text": [
      "[download] 100% of  413.45KiB in 00:00:00 at 809.23KiB/s               \n",
      "[ExtractAudio] Destination: ..\\data\\raw\\dementia_diaries\\audio\\Jacqui has just had her first exhibition._651842381.wav\n"
     ]
    },
    {
     "name": "stderr",
     "output_type": "stream",
     "text": [
      "Downloading Diaries:  49%|▍| 1776/3628 [1:53:50<1:47:58,"
     ]
    },
    {
     "name": "stdout",
     "output_type": "stream",
     "text": [
      "[download] 100% of  722.07KiB in 00:00:00 at 1013.73KiB/s                \n",
      "[ExtractAudio] Destination: ..\\data\\raw\\dementia_diaries\\audio\\Stephen is getting back into the swing of things_651841616.wav\n"
     ]
    },
    {
     "name": "stderr",
     "output_type": "stream",
     "text": [
      "Downloading Diaries:  49%|▍| 1777/3628 [1:53:55<2:00:14,"
     ]
    },
    {
     "name": "stdout",
     "output_type": "stream",
     "text": [
      "[download] 100% of    1.65MiB in 00:00:01 at 1.23MiB/s                 \n",
      "[ExtractAudio] Destination: ..\\data\\raw\\dementia_diaries\\audio\\Wayne has been awarded Medway Volunteer of the Year._651841382.wav\n"
     ]
    },
    {
     "name": "stderr",
     "output_type": "stream",
     "text": [
      "Downloading Diaries:  49%|▍| 1778/3628 [1:53:59<2:02:09,"
     ]
    },
    {
     "name": "stdout",
     "output_type": "stream",
     "text": [
      "[download] 100% of  523.06KiB in 00:00:00 at 994.86KiB/s               \n",
      "[ExtractAudio] Destination: ..\\data\\raw\\dementia_diaries\\audio\\Shelagh has been spreading the word about Dementia Diaries_651841142.wav\n"
     ]
    },
    {
     "name": "stderr",
     "output_type": "stream",
     "text": [
      "Downloading Diaries:  49%|▍| 1779/3628 [1:54:03<1:57:02,"
     ]
    },
    {
     "name": "stdout",
     "output_type": "stream",
     "text": [
      "[download] 100% of  929.57KiB in 00:00:01 at 814.14KiB/s               \n",
      "[ExtractAudio] Destination: ..\\data\\raw\\dementia_diaries\\audio\\An update on my use of my new best friend Alexa_649690796.wav\n"
     ]
    },
    {
     "name": "stderr",
     "output_type": "stream",
     "text": [
      "Downloading Diaries:  49%|▍| 1780/3628 [1:54:15<3:18:22,"
     ]
    },
    {
     "name": "stdout",
     "output_type": "stream",
     "text": [
      "[download] 100% of   12.93MiB in 00:00:08 at 1.45MiB/s                   \n",
      "[ExtractAudio] Destination: ..\\data\\raw\\dementia_diaries\\audio\\Fellow Diarists pay tribute to Wendy's book_649599059.wav\n"
     ]
    },
    {
     "name": "stderr",
     "output_type": "stream",
     "text": [
      "Downloading Diaries:  49%|▍| 1781/3628 [1:54:21<3:11:22,"
     ]
    },
    {
     "name": "stdout",
     "output_type": "stream",
     "text": [
      "[download] 100% of    1.41MiB in 00:00:01 at 1.19MiB/s                 \n",
      "[ExtractAudio] Destination: ..\\data\\raw\\dementia_diaries\\audio\\�Don�t be afraid� Glenda tells people newly diagnosed with dementia._648561590.wav\n"
     ]
    },
    {
     "name": "stderr",
     "output_type": "stream",
     "text": [
      "Downloading Diaries:  49%|▍| 1782/3628 [1:54:25<2:50:49,"
     ]
    },
    {
     "name": "stdout",
     "output_type": "stream",
     "text": [
      "[download] 100% of  286.47KiB in 00:00:00 at 536.26KiB/s               \n",
      "[ExtractAudio] Destination: ..\\data\\raw\\dementia_diaries\\audio\\Paul has been enjoying a good read._648561281.wav\n"
     ]
    },
    {
     "name": "stderr",
     "output_type": "stream",
     "text": [
      "Downloading Diaries:  49%|▍| 1783/3628 [1:54:30<2:42:16,"
     ]
    },
    {
     "name": "stdout",
     "output_type": "stream",
     "text": [
      "[download] 100% of    1.59MiB in 00:00:01 at 1.02MiB/s                 \n",
      "[ExtractAudio] Destination: ..\\data\\raw\\dementia_diaries\\audio\\Agnes has had a breakthrough with Alexa._648561128.wav\n"
     ]
    },
    {
     "name": "stderr",
     "output_type": "stream",
     "text": [
      "Downloading Diaries:  49%|▍| 1784/3628 [1:54:34<2:38:32,"
     ]
    },
    {
     "name": "stdout",
     "output_type": "stream",
     "text": [
      "[download] 100% of    3.23MiB in 00:00:02 at 1.29MiB/s                 \n",
      "[ExtractAudio] Destination: ..\\data\\raw\\dementia_diaries\\audio\\Dory has had a really productive week._648560909.wav\n"
     ]
    },
    {
     "name": "stderr",
     "output_type": "stream",
     "text": [
      "Downloading Diaries:  49%|▍| 1785/3628 [1:54:39<2:30:03,"
     ]
    },
    {
     "name": "stdout",
     "output_type": "stream",
     "text": [
      "[download] 100% of    1.43MiB in 00:00:01 at 1.08MiB/s                 \n",
      "[ExtractAudio] Destination: ..\\data\\raw\\dementia_diaries\\audio\\Melvyn wishes well to those affected by dementia_648560747.wav\n"
     ]
    },
    {
     "name": "stderr",
     "output_type": "stream",
     "text": [
      "Downloading Diaries:  49%|▍| 1786/3628 [1:54:44<2:31:22,"
     ]
    },
    {
     "name": "stdout",
     "output_type": "stream",
     "text": [
      "[download] 100% of    3.27MiB in 00:00:02 at 1.30MiB/s                 \n",
      "[ExtractAudio] Destination: ..\\data\\raw\\dementia_diaries\\audio\\Melvyn looks back on the life of his beloved dog Max._648560546.wav\n"
     ]
    },
    {
     "name": "stderr",
     "output_type": "stream",
     "text": [
      "Downloading Diaries:  49%|▍| 1787/3628 [1:54:49<2:35:35,"
     ]
    },
    {
     "name": "stdout",
     "output_type": "stream",
     "text": [
      "[download] 100% of    3.34MiB in 00:00:02 at 1.30MiB/s                 \n",
      "[ExtractAudio] Destination: ..\\data\\raw\\dementia_diaries\\audio\\Melvyn reports on a great meeting_648560357.wav\n"
     ]
    },
    {
     "name": "stderr",
     "output_type": "stream",
     "text": [
      "Downloading Diaries:  49%|▍| 1788/3628 [1:54:55<2:38:50,"
     ]
    },
    {
     "name": "stdout",
     "output_type": "stream",
     "text": [
      "[download] 100% of    2.78MiB in 00:00:02 at 1.24MiB/s                 \n",
      "[ExtractAudio] Destination: ..\\data\\raw\\dementia_diaries\\audio\\Melvyn�s had an interesting experience whilst sunbathing._648560168.wav\n"
     ]
    },
    {
     "name": "stderr",
     "output_type": "stream",
     "text": [
      "Downloading Diaries:  49%|▍| 1789/3628 [1:54:58<2:18:36,"
     ]
    },
    {
     "name": "stdout",
     "output_type": "stream",
     "text": [
      "[download] 100% of  335.47KiB in 00:00:00 at 694.28KiB/s               \n",
      "[ExtractAudio] Destination: ..\\data\\raw\\dementia_diaries\\audio\\Rae reads two great short poems._648559835.wav\n"
     ]
    },
    {
     "name": "stderr",
     "output_type": "stream",
     "text": [
      "Downloading Diaries:  49%|▍| 1790/3628 [1:55:02<2:19:44,"
     ]
    },
    {
     "name": "stdout",
     "output_type": "stream",
     "text": [
      "[download] 100% of    1.30MiB in 00:00:01 at 1.09MiB/s                 \n",
      "[ExtractAudio] Destination: ..\\data\\raw\\dementia_diaries\\audio\\Jacqui asks people to avoid verbal overload._648559565.wav\n"
     ]
    },
    {
     "name": "stderr",
     "output_type": "stream",
     "text": [
      "Downloading Diaries:  49%|▍| 1791/3628 [1:55:05<2:06:24,"
     ]
    },
    {
     "name": "stdout",
     "output_type": "stream",
     "text": [
      "[download] 100% of  627.07KiB in 00:00:00 at 969.96KiB/s               \n",
      "[ExtractAudio] Destination: ..\\data\\raw\\dementia_diaries\\audio\\Lorraine has had an amazing day with Dementia Adventure._648559295.wav\n"
     ]
    },
    {
     "name": "stderr",
     "output_type": "stream",
     "text": [
      "Downloading Diaries:  49%|▍| 1792/3628 [1:55:09<2:04:35,"
     ]
    },
    {
     "name": "stdout",
     "output_type": "stream",
     "text": [
      "[download] 100% of  307.31KiB in 00:00:00 at 635.01KiB/s               \n",
      "[ExtractAudio] Destination: ..\\data\\raw\\dementia_diaries\\audio\\Stephen is feeling the heat._648558992.wav\n"
     ]
    },
    {
     "name": "stderr",
     "output_type": "stream",
     "text": [
      "Downloading Diaries:  49%|▍| 1793/3628 [1:55:14<2:07:21,"
     ]
    },
    {
     "name": "stdout",
     "output_type": "stream",
     "text": [
      "[download] 100% of    1.45MiB in 00:00:01 at 1.22MiB/s                 \n",
      "[ExtractAudio] Destination: ..\\data\\raw\\dementia_diaries\\audio\\Agnes is adjusting to a slow recovery from pneumonia._648558680.wav\n"
     ]
    },
    {
     "name": "stderr",
     "output_type": "stream",
     "text": [
      "Downloading Diaries:  49%|▍| 1794/3628 [1:55:19<2:17:08,"
     ]
    },
    {
     "name": "stdout",
     "output_type": "stream",
     "text": [
      "[download] 100% of    2.44MiB in 00:00:02 at 1.18MiB/s                 \n",
      "[ExtractAudio] Destination: ..\\data\\raw\\dementia_diaries\\audio\\Carol is keeping pretty busy._648558500.wav\n"
     ]
    },
    {
     "name": "stderr",
     "output_type": "stream",
     "text": [
      "Downloading Diaries:  49%|▍| 1795/3628 [1:55:23<2:13:08,"
     ]
    },
    {
     "name": "stdout",
     "output_type": "stream",
     "text": [
      "[download] 100% of  656.04KiB in 00:00:00 at 1.06MiB/s                 \n",
      "[ExtractAudio] Destination: ..\\data\\raw\\dementia_diaries\\audio\\Rae is feeling bad after a shopping incident._648558362.wav\n"
     ]
    },
    {
     "name": "stderr",
     "output_type": "stream",
     "text": [
      "Downloading Diaries:  50%|▍| 1796/3628 [1:55:28<2:15:00,"
     ]
    },
    {
     "name": "stdout",
     "output_type": "stream",
     "text": [
      "[download] 100% of    1.10MiB in 00:00:00 at 1.14MiB/s                   \n",
      "[ExtractAudio] Destination: ..\\data\\raw\\dementia_diaries\\audio\\Happy Tandemer makes her first diary form the allotment._648558116.wav\n"
     ]
    },
    {
     "name": "stderr",
     "output_type": "stream",
     "text": [
      "Downloading Diaries:  50%|▍| 1797/3628 [1:55:32<2:11:07,"
     ]
    },
    {
     "name": "stdout",
     "output_type": "stream",
     "text": [
      "[download] 100% of  977.10KiB in 00:00:00 at 1.01MiB/s                   \n",
      "[ExtractAudio] Destination: ..\\data\\raw\\dementia_diaries\\audio\\Jacqui asks people to use their �I want to speak� cards._648557819.wav\n"
     ]
    },
    {
     "name": "stderr",
     "output_type": "stream",
     "text": [
      "Downloading Diaries:  50%|▍| 1798/3628 [1:55:36<2:10:23,"
     ]
    },
    {
     "name": "stdout",
     "output_type": "stream",
     "text": [
      "[download] 100% of  909.81KiB in 00:00:00 at 1.06MiB/s                   \n",
      "[ExtractAudio] Destination: ..\\data\\raw\\dementia_diaries\\audio\\Paul reports from the FPOP psychologists conference._648557627.wav\n"
     ]
    },
    {
     "name": "stderr",
     "output_type": "stream",
     "text": [
      "Downloading Diaries:  50%|▍| 1799/3628 [1:55:40<2:11:48,"
     ]
    },
    {
     "name": "stdout",
     "output_type": "stream",
     "text": [
      "[download] 100% of  802.56KiB in 00:00:00 at 1004.54KiB/s                \n",
      "[ExtractAudio] Destination: ..\\data\\raw\\dementia_diaries\\audio\\Stephen has been raising awareness._648557303.wav\n"
     ]
    },
    {
     "name": "stderr",
     "output_type": "stream",
     "text": [
      "Downloading Diaries:  50%|▍| 1800/3628 [1:55:43<1:54:06,"
     ]
    },
    {
     "name": "stdout",
     "output_type": "stream",
     "text": [
      "[download] 100% of  238.59KiB in 00:00:00 at 559.77KiB/s               \n",
      "[ExtractAudio] Destination: ..\\data\\raw\\dementia_diaries\\audio\\Damon has been pretty busy._648557171.wav\n"
     ]
    },
    {
     "name": "stderr",
     "output_type": "stream",
     "text": [
      "Downloading Diaries:  50%|▍| 1801/3628 [1:55:47<2:03:37,"
     ]
    },
    {
     "name": "stdout",
     "output_type": "stream",
     "text": [
      "[download] 100% of    1.19MiB in 00:00:00 at 1.20MiB/s                   \n",
      "[ExtractAudio] Destination: ..\\data\\raw\\dementia_diaries\\audio\\Rae is feeling elated after her meeting._648556916.wav\n"
     ]
    },
    {
     "name": "stderr",
     "output_type": "stream",
     "text": [
      "Downloading Diaries:  50%|▍| 1802/3628 [1:55:50<1:53:50,"
     ]
    },
    {
     "name": "stdout",
     "output_type": "stream",
     "text": [
      "[download] 100% of  393.67KiB in 00:00:00 at 921.04KiB/s               \n",
      "[ExtractAudio] Destination: ..\\data\\raw\\dementia_diaries\\audio\\Frank is looking forward to being a dementia diarist_648556718.wav\n"
     ]
    },
    {
     "name": "stderr",
     "output_type": "stream",
     "text": [
      "Downloading Diaries:  50%|▍| 1803/3628 [1:55:54<1:50:04,"
     ]
    },
    {
     "name": "stdout",
     "output_type": "stream",
     "text": [
      "[download] 100% of  510.47KiB in 00:00:00 at 909.79KiB/s               \n",
      "[ExtractAudio] Destination: ..\\data\\raw\\dementia_diaries\\audio\\Rae is feeling a little nervous about her poem reading._648556322.wav\n"
     ]
    },
    {
     "name": "stderr",
     "output_type": "stream",
     "text": [
      "Downloading Diaries:  50%|▍| 1804/3628 [1:55:57<1:50:03,"
     ]
    },
    {
     "name": "stdout",
     "output_type": "stream",
     "text": [
      "[download] 100% of  263.18KiB in 00:00:00 at 702.56KiB/s               \n",
      "[ExtractAudio] Destination: ..\\data\\raw\\dementia_diaries\\audio\\Howard reflects on Our Dementia Choir_645171321.wav\n"
     ]
    },
    {
     "name": "stderr",
     "output_type": "stream",
     "text": [
      "Downloading Diaries:  50%|▍| 1805/3628 [1:56:02<1:57:28,"
     ]
    },
    {
     "name": "stdout",
     "output_type": "stream",
     "text": [
      "[download] 100% of  508.26KiB in 00:00:00 at 838.49KiB/s               \n",
      "[ExtractAudio] Destination: ..\\data\\raw\\dementia_diaries\\audio\\Howard on the BBC Panorama programme Crisis in Care_645171108.wav\n"
     ]
    },
    {
     "name": "stderr",
     "output_type": "stream",
     "text": [
      "Downloading Diaries:  50%|▍| 1806/3628 [1:56:06<2:03:15,"
     ]
    },
    {
     "name": "stdout",
     "output_type": "stream",
     "text": [
      "[download] 100% of    1.57MiB in 00:00:01 at 1.19MiB/s                 \n",
      "[ExtractAudio] Destination: ..\\data\\raw\\dementia_diaries\\audio\\Needs translation from Welsh_645170907.wav\n"
     ]
    },
    {
     "name": "stderr",
     "output_type": "stream",
     "text": [
      "Downloading Diaries:  50%|▍| 1807/3628 [1:56:11<2:13:35,"
     ]
    },
    {
     "name": "stdout",
     "output_type": "stream",
     "text": [
      "[download] 100% of    2.07MiB in 00:00:01 at 1.11MiB/s                 \n",
      "[ExtractAudio] Destination: ..\\data\\raw\\dementia_diaries\\audio\\Larry reads a new poem, Giant Steps._645170670.wav\n"
     ]
    },
    {
     "name": "stderr",
     "output_type": "stream",
     "text": [
      "Downloading Diaries:  50%|▍| 1808/3628 [1:56:15<2:08:42,"
     ]
    },
    {
     "name": "stdout",
     "output_type": "stream",
     "text": [
      "[download] 100% of    1.71MiB in 00:00:01 at 1.26MiB/s                 \n",
      "[ExtractAudio] Destination: ..\\data\\raw\\dementia_diaries\\audio\\The Happy Tandem has been making sausages and is feeling good._645170196.wav\n"
     ]
    },
    {
     "name": "stderr",
     "output_type": "stream",
     "text": [
      "Downloading Diaries:  50%|▍| 1809/3628 [1:56:20<2:15:21,"
     ]
    },
    {
     "name": "stdout",
     "output_type": "stream",
     "text": [
      "[download] 100% of  939.35KiB in 00:00:00 at 1.00MiB/s                   \n",
      "[ExtractAudio] Destination: ..\\data\\raw\\dementia_diaries\\audio\\Rae is feeling really fed up._645169932.wav\n"
     ]
    },
    {
     "name": "stderr",
     "output_type": "stream",
     "text": [
      "Downloading Diaries:  50%|▍| 1810/3628 [1:56:24<2:10:20,"
     ]
    },
    {
     "name": "stdout",
     "output_type": "stream",
     "text": [
      "[download] 100% of    1.02MiB in 00:00:00 at 1.07MiB/s                   \n",
      "[ExtractAudio] Destination: ..\\data\\raw\\dementia_diaries\\audio\\Good advice from Stephen on moving forward._645169731.wav\n"
     ]
    },
    {
     "name": "stderr",
     "output_type": "stream",
     "text": [
      "Downloading Diaries:  50%|▍| 1811/3628 [1:56:28<2:07:22,"
     ]
    },
    {
     "name": "stdout",
     "output_type": "stream",
     "text": [
      "[download] 100% of    1.06MiB in 00:00:00 at 1.12MiB/s                   \n",
      "[ExtractAudio] Destination: ..\\data\\raw\\dementia_diaries\\audio\\Jacqui is struggling to get seen by her GP._645169461.wav\n"
     ]
    },
    {
     "name": "stderr",
     "output_type": "stream",
     "text": [
      "Downloading Diaries:  50%|▍| 1812/3628 [1:56:33<2:12:24,"
     ]
    },
    {
     "name": "stdout",
     "output_type": "stream",
     "text": [
      "[download] 100% of    1.71MiB in 00:00:01 at 1.24MiB/s                 \n",
      "[ExtractAudio] Destination: ..\\data\\raw\\dementia_diaries\\audio\\Keith wonders if, like him, others sometimes feel redundant._645169143.wav\n"
     ]
    },
    {
     "name": "stderr",
     "output_type": "stream",
     "text": [
      "Downloading Diaries:  50%|▍| 1813/3628 [1:56:38<2:13:38,"
     ]
    },
    {
     "name": "stdout",
     "output_type": "stream",
     "text": [
      "[download] 100% of  663.82KiB in 00:00:00 at 936.52KiB/s               \n",
      "[ExtractAudio] Destination: ..\\data\\raw\\dementia_diaries\\audio\\Julie talks about the fatigue she is experiencing._645168639.wav\n"
     ]
    },
    {
     "name": "stderr",
     "output_type": "stream",
     "text": [
      "Downloading Diaries:  50%|▌| 1814/3628 [1:56:42<2:15:11,"
     ]
    },
    {
     "name": "stdout",
     "output_type": "stream",
     "text": [
      "[download] 100% of  939.35KiB in 00:00:00 at 1.14MiB/s                   \n",
      "[ExtractAudio] Destination: ..\\data\\raw\\dementia_diaries\\audio\\Rae wonders whether a friend is making the right decisions._641762643.wav\n"
     ]
    },
    {
     "name": "stderr",
     "output_type": "stream",
     "text": [
      "Downloading Diaries:  50%|▌| 1815/3628 [1:56:48<2:25:31,"
     ]
    },
    {
     "name": "stdout",
     "output_type": "stream",
     "text": [
      "[download] 100% of    3.12MiB in 00:00:02 at 1.36MiB/s                 \n",
      "[ExtractAudio] Destination: ..\\data\\raw\\dementia_diaries\\audio\\Carol reports on the DEEP Gathering in Canterbury._641762535.wav\n"
     ]
    },
    {
     "name": "stderr",
     "output_type": "stream",
     "text": [
      "Downloading Diaries:  50%|▌| 1815/3628 [1:56:52<1:56:44,"
     ]
    },
    {
     "name": "stdout",
     "output_type": "stream",
     "text": [
      "\n",
      "--- Download Interrupted by User (Ctrl+C) ---\n",
      "Attempting to terminate yt-dlp...\n",
      "yt-dlp process terminated.\n",
      "Completed downloads are saved in the archive file. Run the script again to resume.\n"
     ]
    },
    {
     "name": "stderr",
     "output_type": "stream",
     "text": [
      "\n"
     ]
    }
   ],
   "source": [
    "# Cell 2: Construct and Run yt-dlp Command with Selective Real-time Output & Progress\n",
    "\n",
    "# Re-define config here just in case cell is run independently,\n",
    "# though ideally it's set in Cell 1\n",
    "SOUNDCLOUD_URL = \"https://soundcloud.com/dementia-diaries/tracks\"\n",
    "output_base_dir = Path('../data/raw/dementia_diaries')\n",
    "TARGET_SAMPLE_RATE = 16000\n",
    "AUDIO_FORMAT = \"wav\"\n",
    "ARCHIVE_FILE = output_base_dir / \"download_archive.txt\"\n",
    "output_base_dir.mkdir(parents=True, exist_ok=True) # Ensure dir exists\n",
    "\n",
    "# --- yt-dlp Command Construction ---\n",
    "\n",
    "# Template for output files: Create a subdirectory named 'audio'\n",
    "# Save files as: audio/TITLE_trackID.wav\n",
    "output_template = str(output_base_dir / \"audio/%(title)s_%(id)s.%(ext)s\")\n",
    "TOTAL_TRACKS = 3628 # Approximate total from SoundCloud page - update if necessary\n",
    "\n",
    "command = [\n",
    "    \"yt-dlp\",\n",
    "    # Add '--no-progress' to potentially reduce fragment download lines,\n",
    "    # but we'll filter manually anyway. Optional.\n",
    "    # \"--no-progress\",\n",
    "    \"--ignore-errors\", # Continue if some tracks fail\n",
    "    \"--continue\",      # Continue if previous download was interrupted\n",
    "    \"--download-archive\", str(ARCHIVE_FILE), # Track completed downloads\n",
    "    \"--extract-audio\", # Download only audio\n",
    "    \"--audio-format\", AUDIO_FORMAT, # Convert to WAV\n",
    "    \"--audio-quality\", \"0\", # Best quality for conversion source\n",
    "    # Use postprocessor args to resample to the target rate *after* conversion\n",
    "    \"--postprocessor-args\", f\"ffmpeg:-ar {TARGET_SAMPLE_RATE}\", # Correct way to pass ffmpeg args\n",
    "    \"--write-info-json\", # Save metadata to a .info.json file\n",
    "    # Sleep a bit between downloads to be polite to SoundCloud servers\n",
    "    \"--sleep-interval\", \"1\", # Reduced sleep interval slightly\n",
    "    \"--max-sleep-interval\", \"3\", # Reduced sleep interval slightly\n",
    "    # Define the output filename structure\n",
    "    \"-o\", output_template,\n",
    "    # The URL to download from\n",
    "    SOUNDCLOUD_URL\n",
    "]\n",
    "\n",
    "print(\"--- Running yt-dlp Command ---\")\n",
    "# Using list for command printing avoids quoting issues on different OS\n",
    "print(command)\n",
    "print(f\"\\nAttempting to download up to ~{TOTAL_TRACKS} tracks (will skip already downloaded)...\")\n",
    "print(f\"Output Dir: {output_base_dir / 'audio'}\")\n",
    "print(f\"Archive File: {ARCHIVE_FILE}\")\n",
    "print(\"(Only key status messages like '100%' or 'already downloaded' will be printed below)\")\n",
    "\n",
    "# --- Execute with Popen for real-time output and progress ---\n",
    "process = None\n",
    "pbar = None # Initialize pbar outside try block\n",
    "try:\n",
    "    # Use Popen to run the command in the background\n",
    "    # Use text=True (or encoding) and errors='replace' for safer text handling\n",
    "    process = Popen(command, stdout=PIPE, stderr=subprocess.PIPE, text=True, encoding='utf-8', errors='replace', bufsize=1)\n",
    "\n",
    "    # Regex to find lines indicating track number, e.g., \"[soundcloud] 12345678: Downloading track 5 of 3628\"\n",
    "    track_progress_regex = re.compile(r\"Downloading track (\\d+)(?: of \\d+)?\")\n",
    "    # Keywords to identify lines we *do* want to print\n",
    "    keywords_to_print = [\"[download] 100%\", \"has already been downloaded\", \"Downloading track\", \"[ExtractAudio]\", \"[ffmpeg]\"]\n",
    "\n",
    "    # Initialize tqdm progress bar\n",
    "    pbar = tqdm(total=TOTAL_TRACKS, unit=\"track\", desc=\"Downloading Diaries\")\n",
    "\n",
    "    # Check how many already downloaded from archive file for initial progress\n",
    "    initial_done = 0\n",
    "    if ARCHIVE_FILE.exists():\n",
    "         try:\n",
    "              with open(ARCHIVE_FILE, 'r') as af:\n",
    "                   initial_done = sum(1 for _ in af)\n",
    "              pbar.update(initial_done)\n",
    "              print(f\"Resuming download, {initial_done} tracks already in archive.\")\n",
    "         except Exception as e:\n",
    "              print(f\"Could not read archive file {ARCHIVE_FILE}: {e}\")\n",
    "\n",
    "    current_track = initial_done\n",
    "    last_reported_track = initial_done\n",
    "\n",
    "    # Read stdout line by line\n",
    "    if process.stdout:\n",
    "        for line in iter(process.stdout.readline, ''):\n",
    "            # Print the line ONLY if it contains one of the keywords\n",
    "            if any(keyword in line for keyword in keywords_to_print):\n",
    "                print(line, end='')\n",
    "\n",
    "            # --- Progress Bar Update Logic (independent of printing) ---\n",
    "            match = track_progress_regex.search(line)\n",
    "            if match:\n",
    "                # Extract track number if possible\n",
    "                current_track_num_in_line = int(match.group(1))\n",
    "                # Sometimes yt-dlp repeats lines for same track, only update if number increases\n",
    "                if current_track_num_in_line > last_reported_track:\n",
    "                     update_amount = current_track_num_in_line - last_reported_track\n",
    "                     pbar.update(update_amount)\n",
    "                     last_reported_track = current_track_num_in_line\n",
    "\n",
    "            elif \"[download] 100%\" in line:\n",
    "                 # Fallback: If a download completes but track number wasn't parsed,\n",
    "                 # cautiously advance progress by 1 if we haven't reached the total\n",
    "                 if last_reported_track < pbar.total:\n",
    "                      # Check if the line containing 100% also contained the track number update\n",
    "                      if not match: # Only update if the primary regex didn't catch it on this line\n",
    "                        maybe_next_track = last_reported_track + 1\n",
    "                        if maybe_next_track <= pbar.total: # Ensure we don't exceed total\n",
    "                            pbar.update(1)\n",
    "                            last_reported_track = maybe_next_track\n",
    "            # --- End Progress Bar Update Logic ---\n",
    "\n",
    "        process.stdout.close()\n",
    "\n",
    "    # Wait for the process to finish and get return code\n",
    "    return_code = process.wait()\n",
    "    pbar.close() # Close progress bar\n",
    "\n",
    "    if return_code == 0:\n",
    "        print(\"\\n--- yt-dlp process completed successfully ---\")\n",
    "        # Check archive file for final count\n",
    "        final_count = 0\n",
    "        try:\n",
    "            with open(ARCHIVE_FILE, 'r') as af:\n",
    "                final_count = sum(1 for _ in af)\n",
    "            print(f\"Archive file indicates {final_count} tracks marked as downloaded.\")\n",
    "            # Ensure progress bar shows accurate final count\n",
    "            if final_count != pbar.n:\n",
    "                 pbar.reset(total=TOTAL_TRACKS) # Reset if necessary\n",
    "                 pbar.update(final_count)\n",
    "                 pbar.refresh()\n",
    "\n",
    "        except FileNotFoundError:\n",
    "             print(\"Archive file not found after run.\")\n",
    "        except Exception as e:\n",
    "             print(f\"Error reading final archive count: {e}\")\n",
    "\n",
    "    else:\n",
    "        print(f\"\\n--- yt-dlp process finished with errors (Return Code: {return_code}) ---\")\n",
    "        if process.stderr:\n",
    "            print(\"--- STDERR ---\")\n",
    "            # Read and print stderr only if there was an error\n",
    "            stderr_output = \"\"\n",
    "            try:\n",
    "                stderr_output = process.stderr.read()\n",
    "                print(stderr_output)\n",
    "            except Exception as e:\n",
    "                print(f\"Error reading stderr: {e}\")\n",
    "            finally:\n",
    "                 if not process.stderr.closed:\n",
    "                      process.stderr.close()\n",
    "        print(\"Download may be incomplete. Check logs and the archive file.\")\n",
    "\n",
    "\n",
    "except FileNotFoundError:\n",
    "    if pbar: pbar.close()\n",
    "    print(\"\\n--- Error: 'yt-dlp' command not found ---\")\n",
    "    print(\"Please ensure yt-dlp is installed and in your system's PATH.\")\n",
    "    print(\"Install using: pip install yt-dlp\")\n",
    "except KeyboardInterrupt:\n",
    "    if pbar: pbar.close()\n",
    "    print(\"\\n--- Download Interrupted by User (Ctrl+C) ---\")\n",
    "    if process:\n",
    "        print(\"Attempting to terminate yt-dlp...\")\n",
    "        process.terminate() # Try to terminate gracefully\n",
    "        try:\n",
    "            process.wait(timeout=5) # Wait a bit\n",
    "        except subprocess.TimeoutExpired:\n",
    "            print(\"Process did not terminate gracefully, killing.\")\n",
    "            process.kill() # Force kill if needed\n",
    "        print(\"yt-dlp process terminated.\")\n",
    "    print(\"Completed downloads are saved in the archive file. Run the script again to resume.\")\n",
    "except Exception as e:\n",
    "    if pbar: pbar.close()\n",
    "    print(f\"\\n--- An unexpected error occurred ---\")\n",
    "    print(e)\n",
    "    if process and process.stderr and not process.stderr.closed:\n",
    "        try:\n",
    "             print(\"--- Last STDERR ---\")\n",
    "             print(process.stderr.read())\n",
    "        except Exception as serr:\n",
    "             print(f\"Error reading stderr: {serr}\")\n",
    "\n",
    "finally:\n",
    "    # Ensure streams are closed if process exists\n",
    "     if process:\n",
    "          if process.stdout and not process.stdout.closed:\n",
    "               process.stdout.close()\n",
    "          if process.stderr and not process.stderr.closed:\n",
    "               process.stderr.close()"
   ]
  },
  {
   "cell_type": "code",
   "execution_count": 4,
   "id": "e77ab80a-e886-4e78-be1b-986c30e10b3e",
   "metadata": {},
   "outputs": [
    {
     "name": "stdout",
     "output_type": "stream",
     "text": [
      "\n",
      "--- Processing downloaded metadata ---\n",
      "Found 1818 .info.json files. Parsing...\n",
      "\n",
      "Successfully processed 1818 tracks.\n",
      "Metadata saved to: ..\\data\\raw\\dementia_diaries\\dementia_diaries_metadata.csv\n",
      "\n",
      "--- Sample Metadata ---\n",
      "     track_id               diarist_name  \\\n",
      "0   664696877  'Keep going' says Stephen   \n",
      "1  1454969251            Unknown Diarist   \n",
      "2  1512632956            Unknown Diarist   \n",
      "3   999247681            Unknown Diarist   \n",
      "4  1284208405            Unknown Diarist   \n",
      "\n",
      "                                               title  label  duration_seconds  \\\n",
      "0  'Keep going' says Stephen - fuelled by ice-cream!      1            65.965   \n",
      "1  A beautiful day in the Brecon Beacons, but dis...      1            91.977   \n",
      "2  A beautiful reading of Tarentella by Hilaire B...      1           105.143   \n",
      "3  A beautiful reminder not to take for granted t...      1           228.702   \n",
      "4  A big welcome from Wayne as Dementia Diaries r...      1            72.829   \n",
      "\n",
      "  upload_date description                                relative_audio_path  \\\n",
      "0    20190812              audio\\'Keep going' says Stephen - fuelled by i...   \n",
      "1    20230224              audio\\A beautiful day in the Brecon Beacons, b...   \n",
      "2    20230512              audio\\A beautiful reading of Tarentella by Hil...   \n",
      "3    20210305              audio\\A beautiful reminder not to take for gra...   \n",
      "4    20220609              audio\\A big welcome from Wayne as Dementia Dia...   \n",
      "\n",
      "                                     metadata_source  \n",
      "0  'Keep going' says Stephen - fuelled by ice-cre...  \n",
      "1  A beautiful day in the Brecon Beacons, but dis...  \n",
      "2  A beautiful reading of Tarentella by Hilaire B...  \n",
      "3  A beautiful reminder not to take for granted t...  \n",
      "4  A big welcome from Wayne as Dementia Diaries r...  \n",
      "\n",
      "--- Metadata processing finished ---\n"
     ]
    }
   ],
   "source": [
    "# --- Metadata Processing ---\n",
    "\n",
    "print(\"\\n--- Processing downloaded metadata ---\")\n",
    "\n",
    "json_files = glob.glob(str(output_base_dir / \"audio/*.info.json\"))\n",
    "metadata_list = []\n",
    "processed_ids = set() # To handle potential duplicates if script is run multiple times\n",
    "\n",
    "if not json_files:\n",
    "    print(\"No .info.json files found. Did the download run correctly and produce files?\")\n",
    "else:\n",
    "    print(f\"Found {len(json_files)} .info.json files. Parsing...\")\n",
    "    for json_file_path in json_files:\n",
    "        try:\n",
    "            with open(json_file_path, 'r', encoding='utf-8') as f:\n",
    "                metadata = json.load(f)\n",
    "\n",
    "            track_id = metadata.get(\"id\")\n",
    "            if not track_id or track_id in processed_ids:\n",
    "                continue # Skip if no ID or already processed\n",
    "\n",
    "            processed_ids.add(track_id)\n",
    "\n",
    "            # Extract relevant information\n",
    "            title = metadata.get(\"title\", \"Unknown Title\")\n",
    "            # The actual audio file path (yt-dlp saves it relative to where it was run, adjust if needed)\n",
    "            # Assuming the WAV file is in the same directory with the same base name\n",
    "            audio_filename_base = Path(json_file_path).stem\n",
    "            wav_filename = f\"{audio_filename_base}.{AUDIO_FORMAT}\"\n",
    "            # Construct path relative to the *script's* knowledge of output_base_dir\n",
    "            relative_audio_path = Path(\"audio\") / wav_filename\n",
    "\n",
    "            # Attempt to parse diarist name (heuristic, might need manual cleaning)\n",
    "            # Example: \"Diarist Name - Title of Entry\"\n",
    "            diarist_name = title.split('-')[0].strip() if '-' in title else \"Unknown Diarist\"\n",
    "\n",
    "            duration = metadata.get(\"duration\") # Duration in seconds\n",
    "            upload_date = metadata.get(\"upload_date\") # Format YYYYMMDD\n",
    "            description = metadata.get(\"description\")\n",
    "\n",
    "            metadata_list.append({\n",
    "                \"track_id\": track_id,\n",
    "                \"diarist_name\": diarist_name, # This is a guess based on title pattern\n",
    "                \"title\": title,\n",
    "                \"label\": 1, # All entries are Dementia\n",
    "                \"duration_seconds\": duration,\n",
    "                \"upload_date\": upload_date,\n",
    "                \"description\": description,\n",
    "                \"relative_audio_path\": str(relative_audio_path), # Path relative to output_base_dir\n",
    "                \"metadata_source\": Path(json_file_path).name\n",
    "            })\n",
    "\n",
    "        except json.JSONDecodeError:\n",
    "            print(f\"Error decoding JSON: {json_file_path}\")\n",
    "        except Exception as e:\n",
    "            print(f\"Error processing file {json_file_path}: {e}\")\n",
    "\n",
    "    if metadata_list:\n",
    "        df_metadata = pd.DataFrame(metadata_list)\n",
    "        output_csv_path = output_base_dir / \"dementia_diaries_metadata.csv\"\n",
    "        df_metadata.to_csv(output_csv_path, index=False)\n",
    "        print(f\"\\nSuccessfully processed {len(df_metadata)} tracks.\")\n",
    "        print(f\"Metadata saved to: {output_csv_path}\")\n",
    "\n",
    "        # Display first few rows\n",
    "        print(\"\\n--- Sample Metadata ---\")\n",
    "        print(df_metadata.head())\n",
    "    else:\n",
    "        print(\"No valid metadata could be extracted.\")\n",
    "\n",
    "print(\"\\n--- Metadata processing finished ---\")"
   ]
  },
  {
   "cell_type": "code",
   "execution_count": null,
   "id": "ba0611b5-1200-4f08-80ed-0a761a4fbd0e",
   "metadata": {},
   "outputs": [],
   "source": []
  }
 ],
 "metadata": {
  "kernelspec": {
   "display_name": "Python 3 (ipykernel)",
   "language": "python",
   "name": "python3"
  },
  "language_info": {
   "codemirror_mode": {
    "name": "ipython",
    "version": 3
   },
   "file_extension": ".py",
   "mimetype": "text/x-python",
   "name": "python",
   "nbconvert_exporter": "python",
   "pygments_lexer": "ipython3",
   "version": "3.12.5"
  }
 },
 "nbformat": 4,
 "nbformat_minor": 5
}
