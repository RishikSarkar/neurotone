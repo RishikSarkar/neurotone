{
 "cells": [
  {
   "cell_type": "code",
   "execution_count": 1,
   "id": "af076c47-e5e0-4510-8f98-99cab94af1f7",
   "metadata": {},
   "outputs": [],
   "source": [
    "import os\n",
    "import json\n",
    "import random\n",
    "import numpy as np\n",
    "import pandas as pd\n",
    "import librosa\n",
    "import soundfile as sf\n",
    "from pathlib import Path\n",
    "from sklearn.model_selection import GroupShuffleSplit\n",
    "import matplotlib.pyplot as plt\n",
    "import seaborn as sns\n",
    "from tqdm import tqdm"
   ]
  },
  {
   "cell_type": "code",
   "execution_count": 2,
   "id": "2745e7b1-0904-4d24-8b10-0f9520336e3f",
   "metadata": {},
   "outputs": [
    {
     "name": "stdout",
     "output_type": "stream",
     "text": [
      "Paths set up. Root directory: D:\\Cornell\\Academic\\Spring 2025\\Startup Studio\\MVP\\neurotone\\ml\n",
      "Dementia directory: D:\\Cornell\\Academic\\Spring 2025\\Startup Studio\\MVP\\neurotone\\ml\\data\\dementia-net\\dementia\n",
      "No dementia directory: D:\\Cornell\\Academic\\Spring 2025\\Startup Studio\\MVP\\neurotone\\ml\\data\\dementia-net\\nodementia\n",
      "Processed directory: D:\\Cornell\\Academic\\Spring 2025\\Startup Studio\\MVP\\neurotone\\ml\\data\\processed\n"
     ]
    }
   ],
   "source": [
    "root_dir = Path('..').resolve()\n",
    "data_dir = root_dir / 'data'\n",
    "dementia_dir = data_dir / 'dementia-net' / 'dementia'\n",
    "nodementia_dir = data_dir / 'dementia-net' / 'nodementia'\n",
    "processed_dir = data_dir / 'processed'\n",
    "\n",
    "os.makedirs(processed_dir, exist_ok=True)\n",
    "os.makedirs(processed_dir / 'train' / 'dementia', exist_ok=True)\n",
    "os.makedirs(processed_dir / 'train' / 'nodementia', exist_ok=True)\n",
    "os.makedirs(processed_dir / 'validation' / 'dementia', exist_ok=True)\n",
    "os.makedirs(processed_dir / 'validation' / 'nodementia', exist_ok=True)\n",
    "os.makedirs(processed_dir / 'test' / 'dementia', exist_ok=True)\n",
    "os.makedirs(processed_dir / 'test' / 'nodementia', exist_ok=True)\n",
    "\n",
    "print(f\"Paths set up. Root directory: {root_dir}\")\n",
    "print(f\"Dementia directory: {dementia_dir}\")\n",
    "print(f\"No dementia directory: {nodementia_dir}\")\n",
    "print(f\"Processed directory: {processed_dir}\")"
   ]
  },
  {
   "cell_type": "code",
   "execution_count": 3,
   "id": "e5b158a0-365e-4e5b-afca-b7fab626d5b8",
   "metadata": {},
   "outputs": [],
   "source": [
    "# Function to preprocess audio\n",
    "def preprocess_audio(audio_path, output_path=None):\n",
    "    \"\"\"Preprocess audio according to project specifications\"\"\"\n",
    "    try:\n",
    "        y, sr = librosa.load(audio_path, sr=None)\n",
    "        \n",
    "        # Convert to mono if stereo\n",
    "        if len(y.shape) > 1:\n",
    "            y = librosa.to_mono(y)\n",
    "        \n",
    "        # Resample to target sampling rate\n",
    "        target_sr = 16000  # Specified in training.json as target_sampling_rate\n",
    "        if sr != target_sr:\n",
    "            y = librosa.resample(y, orig_sr=sr, target_sr=target_sr)\n",
    "        \n",
    "        # Normalize audio\n",
    "        y = librosa.util.normalize(y)\n",
    "        \n",
    "        # Trim silence\n",
    "        y, _ = librosa.effects.trim(y)\n",
    "        \n",
    "        # Check if audio is too long and truncate if necessary\n",
    "        max_length_seconds = 10  # Specified in training.json\n",
    "        max_samples = int(max_length_seconds * target_sr)\n",
    "        if len(y) > max_samples:\n",
    "            y = y[:max_samples]\n",
    "        \n",
    "        # Save processed audio\n",
    "        if output_path:\n",
    "            sf.write(output_path, y, target_sr, format='WAV')\n",
    "        \n",
    "        return y, target_sr\n",
    "    except Exception as e:\n",
    "        print(f\"Error preprocessing {audio_path}: {str(e)}\")\n",
    "        return None, None"
   ]
  },
  {
   "cell_type": "code",
   "execution_count": 4,
   "id": "861f3d96-b7ed-4acb-a438-78560e54822b",
   "metadata": {},
   "outputs": [],
   "source": [
    "# Create dataframe of all audio files with metadata\n",
    "def create_audio_dataframe():\n",
    "    data = []\n",
    "    \n",
    "    # Process dementia samples\n",
    "    if dementia_dir.exists():\n",
    "        print(f\"Scanning dementia files in {dementia_dir}\")\n",
    "        # Walk through all subdirectories\n",
    "        for root, dirs, files in os.walk(dementia_dir):\n",
    "            for file in files:\n",
    "                if file.lower().endswith('.wav'):\n",
    "                    # Get the full path to the file\n",
    "                    full_path = Path(root) / file\n",
    "                    \n",
    "                    # Extract speaker ID from the folder name \n",
    "                    # (assuming the immediate parent directory is the speaker name)\n",
    "                    speaker_id = Path(root).name\n",
    "                    \n",
    "                    # Try to extract years to onset from filename if it follows pattern\n",
    "                    years_to_onset = None\n",
    "                    if '_' in file:\n",
    "                        parts = file.split('_')\n",
    "                        if len(parts) > 1:\n",
    "                            try:\n",
    "                                # Attempt to extract number after underscore and before .wav\n",
    "                                number_part = parts[1].split('.')[0]\n",
    "                                # Some filenames have additional info like \"5_1\" - take just the first number\n",
    "                                years_to_onset = int(number_part.split('_')[0])\n",
    "                            except (ValueError, IndexError):\n",
    "                                pass\n",
    "                    \n",
    "                    data.append({\n",
    "                        'file_path': str(full_path),\n",
    "                        'speaker_id': speaker_id,\n",
    "                        'label': 1,  # 1 for dementia\n",
    "                        'years_to_onset': years_to_onset,\n",
    "                        'file_name': file\n",
    "                    })\n",
    "    else:\n",
    "        print(f\"Warning: Dementia directory {dementia_dir} does not exist\")\n",
    "    \n",
    "    # Process non-dementia samples\n",
    "    if nodementia_dir.exists():\n",
    "        print(f\"Scanning non-dementia files in {nodementia_dir}\")\n",
    "        # Walk through all subdirectories\n",
    "        for root, dirs, files in os.walk(nodementia_dir):\n",
    "            for file in files:\n",
    "                if file.lower().endswith('.wav'):\n",
    "                    # Get the full path to the file\n",
    "                    full_path = Path(root) / file\n",
    "                    \n",
    "                    # Extract speaker ID from the folder name\n",
    "                    speaker_id = Path(root).name\n",
    "                    \n",
    "                    # Try to extract age bucket from filename (1, 2, 3 corresponding to age ranges)\n",
    "                    sample_age_bucket = None\n",
    "                    if '_' in file:\n",
    "                        parts = file.split('_')\n",
    "                        if len(parts) > 1:\n",
    "                            try:\n",
    "                                # Attempt to extract number after underscore and before .wav\n",
    "                                age_part = parts[1].split('.')[0]\n",
    "                                sample_age_bucket = int(age_part)\n",
    "                            except (ValueError, IndexError):\n",
    "                                pass\n",
    "                    \n",
    "                    data.append({\n",
    "                        'file_path': str(full_path),\n",
    "                        'speaker_id': speaker_id,\n",
    "                        'label': 0,  # 0 for no dementia\n",
    "                        'years_to_onset': None,\n",
    "                        'sample_age_bucket': sample_age_bucket,  # Adding age bucket for no-dementia samples\n",
    "                        'file_name': file\n",
    "                    })\n",
    "    else:\n",
    "        print(f\"Warning: No-dementia directory {nodementia_dir} does not exist\")\n",
    "    \n",
    "    return pd.DataFrame(data)"
   ]
  },
  {
   "cell_type": "code",
   "execution_count": 5,
   "id": "6992b002-67c5-4127-b9ae-6ce5e65ae41d",
   "metadata": {},
   "outputs": [],
   "source": [
    "def split_data(df):\n",
    "    # Define split ratios\n",
    "    train_ratio = 0.8\n",
    "    val_ratio = 0.1\n",
    "    test_ratio = 0.1\n",
    "    \n",
    "    # First split: train vs (val+test)\n",
    "    temp_ratio = val_ratio + test_ratio\n",
    "    gss1 = GroupShuffleSplit(n_splits=1, test_size=temp_ratio, random_state=42)\n",
    "    train_idx, temp_idx = next(gss1.split(df, groups=df['speaker_id']))\n",
    "    \n",
    "    train_df = df.iloc[train_idx].reset_index(drop=True)\n",
    "    temp_df = df.iloc[temp_idx].reset_index(drop=True)\n",
    "    \n",
    "    # Second split: val vs test from temp\n",
    "    val_test_ratio = val_ratio / temp_ratio\n",
    "    gss2 = GroupShuffleSplit(n_splits=1, test_size=(1-val_test_ratio), random_state=42)\n",
    "    val_idx, test_idx = next(gss2.split(temp_df, groups=temp_df['speaker_id']))\n",
    "    \n",
    "    val_df = temp_df.iloc[val_idx].reset_index(drop=True)\n",
    "    test_df = temp_df.iloc[test_idx].reset_index(drop=True)\n",
    "    \n",
    "    return train_df, val_df, test_df"
   ]
  },
  {
   "cell_type": "code",
   "execution_count": 6,
   "id": "42981cdd-2063-41c4-aa2b-75d810389765",
   "metadata": {},
   "outputs": [],
   "source": [
    "def save_enhanced_metadata(train_df, val_df, test_df):\n",
    "    # Calculate additional statistics for YTD distribution\n",
    "    for name, df in [('train', train_df), ('val', val_df), ('test', test_df)]:\n",
    "        # Create a summary file with speaker-level statistics\n",
    "        speaker_stats = []\n",
    "        for speaker, group in df.groupby('speaker_id'):\n",
    "            speaker_stats.append({\n",
    "                'speaker_id': speaker,\n",
    "                'num_samples': len(group),\n",
    "                'has_dementia': int(group['label'].iloc[0]),\n",
    "                'min_years_to_onset': group['years_to_onset'].min() if not group['years_to_onset'].isna().all() else None,\n",
    "                'max_years_to_onset': group['years_to_onset'].max() if not group['years_to_onset'].isna().all() else None\n",
    "            })\n",
    "        \n",
    "        pd.DataFrame(speaker_stats).to_csv(processed_dir / f'{name}_speaker_stats.csv', index=False)\n",
    "    \n",
    "    # Create a special regression dataset file for years to onset prediction\n",
    "    ytd_df = audio_df[audio_df['label'] == 1].copy()\n",
    "    ytd_df = ytd_df[~ytd_df['years_to_onset'].isna()].copy()\n",
    "    \n",
    "    if not ytd_df.empty:\n",
    "        # Create a file mapping filenames to years-to-onset for regression tasks\n",
    "        ytd_mapping = ytd_df[['file_name', 'years_to_onset', 'speaker_id']]\n",
    "        ytd_mapping.to_csv(processed_dir / 'years_to_onset_regression.csv', index=False)\n",
    "        \n",
    "        # Visualize the years-to-onset distribution\n",
    "        plt.figure(figsize=(10, 6))\n",
    "        plt.hist(ytd_df['years_to_onset'], bins=range(0, 16), alpha=0.7)\n",
    "        plt.xlabel('Years to Onset')\n",
    "        plt.ylabel('Number of Samples')\n",
    "        plt.title('Distribution of Years to Onset in Dementia Samples')\n",
    "        plt.grid(True, alpha=0.3)\n",
    "        plt.savefig(processed_dir / 'years_to_onset_distribution.png')\n",
    "        plt.show()"
   ]
  },
  {
   "cell_type": "code",
   "execution_count": 7,
   "id": "1b1c950b-a0a2-436d-8549-ff902d684df3",
   "metadata": {},
   "outputs": [],
   "source": [
    "# Process and copy files to appropriate directories\n",
    "def process_and_distribute_files(df, split_name):\n",
    "    processed_count = 0\n",
    "    for _, row in tqdm(df.iterrows(), total=len(df), desc=f\"Processing {split_name} files\"):\n",
    "        label_dir = 'dementia' if row['label'] == 1 else 'nodementia'\n",
    "        output_path = processed_dir / split_name / label_dir / row['file_name']\n",
    "        \n",
    "        if preprocess_audio(row['file_path'], output_path)[0] is not None:\n",
    "            processed_count += 1\n",
    "    \n",
    "    print(f\"Successfully processed {processed_count}/{len(df)} files for {split_name} split\")"
   ]
  },
  {
   "cell_type": "code",
   "execution_count": 8,
   "id": "ef088fae-d453-4d30-bb2b-24d36a8c8970",
   "metadata": {},
   "outputs": [
    {
     "name": "stdout",
     "output_type": "stream",
     "text": [
      "Creating audio dataframe...\n",
      "Scanning dementia files in D:\\Cornell\\Academic\\Spring 2025\\Startup Studio\\MVP\\neurotone\\ml\\data\\dementia-net\\dementia\n",
      "Scanning non-dementia files in D:\\Cornell\\Academic\\Spring 2025\\Startup Studio\\MVP\\neurotone\\ml\\data\\dementia-net\\nodementia\n",
      "Found 455 audio files (131 dementia, 324 no dementia)\n",
      "Splitting data into train/validation/test sets (80/10/10 split)...\n",
      "Train set: 359 files, 172 speakers\n",
      "Validation set: 45 files, 21 speakers\n",
      "Test set: 51 files, 22 speakers\n"
     ]
    },
    {
     "data": {
      "image/png": "[encoded data removed]",
      "text/plain": [
       "<Figure size 1000x600 with 1 Axes>"
      ]
     },
     "metadata": {},
     "output_type": "display_data"
    },
    {
     "name": "stdout",
     "output_type": "stream",
     "text": [
      "\n",
      "Class distribution:\n",
      "Train: Dementia=110, No Dementia=249\n",
      "Validation: Dementia=10, No Dementia=35\n",
      "Test: Dementia=11, No Dementia=40\n"
     ]
    },
    {
     "data": {
      "text/plain": [
       "<Figure size 1000x600 with 0 Axes>"
      ]
     },
     "metadata": {},
     "output_type": "display_data"
    },
    {
     "data": {
      "image/png": "[encoded data removed]",
      "text/plain": [
       "<Figure size 1000x600 with 1 Axes>"
      ]
     },
     "metadata": {},
     "output_type": "display_data"
    },
    {
     "name": "stdout",
     "output_type": "stream",
     "text": [
      "\n",
      "Years to onset data: 129/131 dementia samples have years-to-onset data\n",
      "Range: 0.0 to 15.0 years\n",
      "\n",
      "Processing and distributing files...\n"
     ]
    },
    {
     "name": "stderr",
     "output_type": "stream",
     "text": [
      "Processing train files: 100%|█| \n"
     ]
    },
    {
     "name": "stdout",
     "output_type": "stream",
     "text": [
      "Successfully processed 359/359 files for train split\n"
     ]
    },
    {
     "name": "stderr",
     "output_type": "stream",
     "text": [
      "Processing validation files: 100\n"
     ]
    },
    {
     "name": "stdout",
     "output_type": "stream",
     "text": [
      "Successfully processed 45/45 files for validation split\n"
     ]
    },
    {
     "name": "stderr",
     "output_type": "stream",
     "text": [
      "Processing test files: 100%|█| 5"
     ]
    },
    {
     "name": "stdout",
     "output_type": "stream",
     "text": [
      "Successfully processed 51/51 files for test split\n",
      "Data preparation completed!\n"
     ]
    },
    {
     "name": "stderr",
     "output_type": "stream",
     "text": [
      "\n"
     ]
    }
   ],
   "source": [
    "print(\"Creating audio dataframe...\")\n",
    "audio_df = create_audio_dataframe()\n",
    "\n",
    "if audio_df.empty:\n",
    "    print(\"No audio files found in the specified directories.\")\n",
    "else:\n",
    "    print(f\"Found {len(audio_df)} audio files ({audio_df['label'].sum()} dementia, {len(audio_df)-audio_df['label'].sum()} no dementia)\")\n",
    "    \n",
    "    print(\"Splitting data into train/validation/test sets (80/10/10 split)...\")\n",
    "    train_df, val_df, test_df = split_data(audio_df)\n",
    "    \n",
    "    print(f\"Train set: {len(train_df)} files, {train_df['speaker_id'].nunique()} speakers\")\n",
    "    print(f\"Validation set: {len(val_df)} files, {val_df['speaker_id'].nunique()} speakers\")\n",
    "    print(f\"Test set: {len(test_df)} files, {test_df['speaker_id'].nunique()} speakers\")\n",
    "    \n",
    "    # Save splits for future reference\n",
    "    train_df.to_csv(processed_dir / 'train_metadata.csv', index=False)\n",
    "    val_df.to_csv(processed_dir / 'val_metadata.csv', index=False)\n",
    "    test_df.to_csv(processed_dir / 'test_metadata.csv', index=False)\n",
    "    \n",
    "    # Create enhanced metadata and visualizations\n",
    "    save_enhanced_metadata(train_df, val_df, test_df)\n",
    "    \n",
    "    # Analyze class distribution\n",
    "    print(\"\\nClass distribution:\")\n",
    "    for split, df in [(\"Train\", train_df), (\"Validation\", val_df), (\"Test\", test_df)]:\n",
    "        print(f\"{split}: Dementia={df['label'].sum()}, No Dementia={len(df)-df['label'].sum()}\")\n",
    "    \n",
    "    # Visualize class distribution\n",
    "    plt.figure(figsize=(10, 6))\n",
    "    splits = ['Train', 'Validation', 'Test']\n",
    "    dementia_counts = [train_df['label'].sum(), val_df['label'].sum(), test_df['label'].sum()]\n",
    "    no_dementia_counts = [len(train_df)-train_df['label'].sum(), \n",
    "                          len(val_df)-val_df['label'].sum(), \n",
    "                          len(test_df)-test_df['label'].sum()]\n",
    "    \n",
    "    x = np.arange(len(splits))\n",
    "    width = 0.35\n",
    "    \n",
    "    fig, ax = plt.subplots(figsize=(10, 6))\n",
    "    ax.bar(x - width/2, dementia_counts, width, label='Dementia')\n",
    "    ax.bar(x + width/2, no_dementia_counts, width, label='No Dementia')\n",
    "    \n",
    "    ax.set_ylabel('Count')\n",
    "    ax.set_title('Class Distribution Across Splits')\n",
    "    ax.set_xticks(x)\n",
    "    ax.set_xticklabels(splits)\n",
    "    ax.legend()\n",
    "    \n",
    "    plt.tight_layout()\n",
    "    plt.savefig(processed_dir / 'class_distribution.png')\n",
    "    plt.show()\n",
    "    \n",
    "    # Check the years to onset data distribution\n",
    "    dementia_with_ytd = audio_df[(audio_df['label'] == 1) & (~audio_df['years_to_onset'].isna())]\n",
    "    if not dementia_with_ytd.empty:\n",
    "        print(f\"\\nYears to onset data: {len(dementia_with_ytd)}/{audio_df['label'].sum()} dementia samples have years-to-onset data\")\n",
    "        print(f\"Range: {dementia_with_ytd['years_to_onset'].min()} to {dementia_with_ytd['years_to_onset'].max()} years\")\n",
    "    \n",
    "    process_files = True\n",
    "    if process_files:\n",
    "        print(\"\\nProcessing and distributing files...\")\n",
    "        process_and_distribute_files(train_df, 'train')\n",
    "        process_and_distribute_files(val_df, 'validation')\n",
    "        process_and_distribute_files(test_df, 'test')\n",
    "        print(\"Data preparation completed!\")\n",
    "    else:\n",
    "        print(\"File processing skipped.\")"
   ]
  }
 ],
 "metadata": {
  "kernelspec": {
   "display_name": "Python 3 (ipykernel)",
   "language": "python",
   "name": "python3"
  },
  "language_info": {
   "codemirror_mode": {
    "name": "ipython",
    "version": 3
   },
   "file_extension": ".py",
   "mimetype": "text/x-python",
   "name": "python",
   "nbconvert_exporter": "python",
   "pygments_lexer": "ipython3",
   "version": "3.12.5"
  }
 },
 "nbformat": 4,
 "nbformat_minor": 5
}
